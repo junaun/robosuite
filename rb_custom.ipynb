{
 "cells": [
  {
   "cell_type": "code",
   "execution_count": 1,
   "id": "initial_id",
   "metadata": {
    "collapsed": true,
    "ExecuteTime": {
     "end_time": "2023-09-15T09:37:05.162177Z",
     "start_time": "2023-09-15T09:37:03.649993300Z"
    }
   },
   "outputs": [
    {
     "name": "stderr",
     "output_type": "stream",
     "text": [
      "\u001B[1m\u001B[33m[robosuite WARNING] \u001B[0mNo private macro file found! (macros.py:53)\n",
      "\u001B[1m\u001B[33m[robosuite WARNING] \u001B[0mIt is recommended to use a private macro file (macros.py:54)\n",
      "\u001B[1m\u001B[33m[robosuite WARNING] \u001B[0mTo setup, run: python C:\\Users\\ACERPC\\PycharmProjects\\robo_custom\\robosuite\\robosuite/scripts/setup_macros.py (macros.py:55)\n"
     ]
    }
   ],
   "source": [
    "import robosuite as suite\n",
    "from robosuite.wrappers.gym_wrapper import GymWrapper\n"
   ]
  },
  {
   "cell_type": "code",
   "execution_count": 2,
   "outputs": [],
   "source": [
    "# create environment instance\n",
    "env = GymWrapper(suite.make(\n",
    "    env_name=\"Lift\", # try with other tasks like \"Stack\" and \"Door\"\n",
    "    robots=\"UR5e\",  # try with other robots like \"Sawyer\" and \"Jaco\"\n",
    "    has_renderer=False,\n",
    "    has_offscreen_renderer=True,\n",
    "    use_object_obs=False,                   # don't provide object observations to agent\n",
    "    use_camera_obs=True,\n",
    "    camera_names=\"robot0_eye_in_hand\",      # use \"agentview\" camera for observations\n",
    "    camera_heights=84,                      # image height\n",
    "    camera_widths=84,                       # image width\n",
    "    reward_shaping=True,                    # use a dense reward signal for learning\n",
    "    horizon = 200\n",
    "), ['robot0_eye_in_hand_image'])"
   ],
   "metadata": {
    "collapsed": false,
    "ExecuteTime": {
     "end_time": "2023-09-15T09:37:10.943396100Z",
     "start_time": "2023-09-15T09:37:06.042726100Z"
    }
   },
   "id": "5f26bfc569a1dc1"
  },
  {
   "cell_type": "code",
   "execution_count": 3,
   "outputs": [
    {
     "data": {
      "text/plain": "Box(0, 255, (84, 84, 3), uint8)"
     },
     "execution_count": 3,
     "metadata": {},
     "output_type": "execute_result"
    }
   ],
   "source": [
    "env.observation_space"
   ],
   "metadata": {
    "collapsed": false,
    "ExecuteTime": {
     "end_time": "2023-09-15T09:37:12.498383400Z",
     "start_time": "2023-09-15T09:37:12.467137600Z"
    }
   },
   "id": "5a4424ac567da8c2"
  },
  {
   "cell_type": "code",
   "execution_count": null,
   "outputs": [
    {
     "name": "stdout",
     "output_type": "stream",
     "text": [
      "Using cpu device\n",
      "Wrapping the env with a `Monitor` wrapper\n",
      "Wrapping the env in a DummyVecEnv.\n",
      "Wrapping the env in a VecTransposeImage.\n"
     ]
    },
    {
     "data": {
      "text/plain": "Output()",
      "application/vnd.jupyter.widget-view+json": {
       "version_major": 2,
       "version_minor": 0,
       "model_id": "c5345069ba824582a54b169f31e036ad"
      }
     },
     "metadata": {},
     "output_type": "display_data"
    }
   ],
   "source": [
    "from stable_baselines3 import PPO\n",
    "model = PPO(\"CnnPolicy\", env, verbose=1)\n",
    "model.learn(total_timesteps=1e2, progress_bar=True)"
   ],
   "metadata": {
    "collapsed": false,
    "is_executing": true,
    "ExecuteTime": {
     "start_time": "2023-09-15T09:37:14.636002300Z"
    }
   },
   "id": "efe79fc835d0d5d6"
  },
  {
   "cell_type": "code",
   "execution_count": null,
   "outputs": [],
   "source": [],
   "metadata": {
    "collapsed": false
   },
   "id": "650999e57ee19c05"
  }
 ],
 "metadata": {
  "kernelspec": {
   "display_name": "Python 3",
   "language": "python",
   "name": "python3"
  },
  "language_info": {
   "codemirror_mode": {
    "name": "ipython",
    "version": 2
   },
   "file_extension": ".py",
   "mimetype": "text/x-python",
   "name": "python",
   "nbconvert_exporter": "python",
   "pygments_lexer": "ipython2",
   "version": "2.7.6"
  }
 },
 "nbformat": 4,
 "nbformat_minor": 5
}
