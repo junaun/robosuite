{
 "cells": [
  {
   "cell_type": "code",
   "execution_count": 1,
   "id": "initial_id",
   "metadata": {
    "collapsed": true,
    "ExecuteTime": {
     "end_time": "2023-09-17T17:35:37.347571200Z",
     "start_time": "2023-09-17T17:35:35.768737300Z"
    }
   },
   "outputs": [
    {
     "name": "stderr",
     "output_type": "stream",
     "text": [
      "\u001B[1m\u001B[33m[robosuite WARNING] \u001B[0mNo private macro file found! (macros.py:53)\n",
      "\u001B[1m\u001B[33m[robosuite WARNING] \u001B[0mIt is recommended to use a private macro file (macros.py:54)\n",
      "\u001B[1m\u001B[33m[robosuite WARNING] \u001B[0mTo setup, run: python C:\\Users\\ACERPC\\PycharmProjects\\robo_custom\\robosuite\\robosuite/scripts/setup_macros.py (macros.py:55)\n"
     ]
    }
   ],
   "source": [
    "import robosuite as suite\n",
    "from robosuite.wrappers.gym_wrapper import GymWrapper\n"
   ]
  },
  {
   "cell_type": "code",
   "execution_count": 2,
   "outputs": [],
   "source": [
    "# create environment instance\n",
    "env = suite.make(\n",
    "    env_name=\"Lift\", # try with other tasks like \"Stack\" and \"Door\"\n",
    "    robots=\"UR5e\",  # try with other robots like \"Sawyer\" and \"Jaco\"\n",
    "    has_renderer=False,\n",
    "    has_offscreen_renderer=True,\n",
    "    use_object_obs=False,                   # don't provide object observations to agent\n",
    "    use_camera_obs=True,\n",
    "    camera_names=\"robot0_eye_in_hand\",      # use \"agentview\" camera for observations\n",
    "    camera_heights=84,                      # image height\n",
    "    camera_widths=84,                       # image width\n",
    "    reward_shaping=True,                    # use a dense reward signal for learning\n",
    "    horizon = 200\n",
    ")"
   ],
   "metadata": {
    "collapsed": false,
    "ExecuteTime": {
     "end_time": "2023-09-17T17:20:03.742617900Z",
     "start_time": "2023-09-17T17:19:58.230546400Z"
    }
   },
   "id": "ad57dd6775956481"
  },
  {
   "cell_type": "code",
   "execution_count": 3,
   "outputs": [
    {
     "name": "stdout",
     "output_type": "stream",
     "text": [
      "odict_keys(['robot0_joint_pos_cos', 'robot0_joint_pos_sin', 'robot0_joint_vel', 'robot0_eef_pos', 'robot0_eef_quat', 'robot0_gripper_qpos', 'robot0_gripper_qvel', 'robot0_eye_in_hand_image', 'robot0_proprio-state'])\n"
     ]
    }
   ],
   "source": [
    "obs = env.reset()\n",
    "print(obs.keys())"
   ],
   "metadata": {
    "collapsed": false,
    "ExecuteTime": {
     "end_time": "2023-09-17T17:20:36.067951800Z",
     "start_time": "2023-09-17T17:20:33.133973Z"
    }
   },
   "id": "f02767d3f2f39944"
  },
  {
   "cell_type": "code",
   "execution_count": 7,
   "outputs": [
    {
     "data": {
      "text/plain": "OrderedDict([('robot0_joint_pos_cos',\n              array([ 0.88339304, -0.17745947, -0.79418601, -0.63296728, -0.01475282,\n                     -0.40403876])),\n             ('robot0_joint_pos_sin',\n              array([-0.46863283, -0.98412811,  0.60767473, -0.77417855, -0.99989117,\n                     -0.91474186])),\n             ('robot0_joint_vel', array([0., 0., 0., 0., 0., 0.])),\n             ('robot0_eef_pos',\n              array([-0.23296122, -0.0258617 ,  0.98114057])),\n             ('robot0_eef_quat',\n              array([-0.99897269,  0.03568707,  0.02745362,  0.00512733])),\n             ('robot0_gripper_qpos',\n              array([-0.026, -0.267, -0.2  , -0.026, -0.267, -0.2  ])),\n             ('robot0_gripper_qvel', array([0., 0., 0., 0., 0., 0.])),\n             ('robot0_eye_in_hand_image',\n              array([[[  7,   7,   7],\n                      [  7,   7,   7],\n                      [  7,   7,   7],\n                      ...,\n                      [  4,   4,   4],\n                      [  4,   4,   4],\n                      [  3,   3,   3]],\n              \n                     [[  7,   7,   7],\n                      [  7,   7,   7],\n                      [  7,   7,   7],\n                      ...,\n                      [  4,   4,   4],\n                      [  3,   3,   3],\n                      [  3,   3,   3]],\n              \n                     [[  7,   7,   7],\n                      [  7,   7,   7],\n                      [  7,   7,   7],\n                      ...,\n                      [  3,   3,   3],\n                      [  3,   3,   3],\n                      [  3,   3,   3]],\n              \n                     ...,\n              \n                     [[253, 252, 248],\n                      [253, 252, 248],\n                      [253, 252, 248],\n                      ...,\n                      [247, 245, 241],\n                      [246, 245, 239],\n                      [246, 245, 240]],\n              \n                     [[253, 252, 249],\n                      [254, 252, 248],\n                      [253, 252, 249],\n                      ...,\n                      [246, 246, 241],\n                      [245, 245, 239],\n                      [244, 244, 239]],\n              \n                     [[253, 251, 247],\n                      [254, 252, 248],\n                      [253, 252, 249],\n                      ...,\n                      [246, 246, 240],\n                      [245, 245, 240],\n                      [243, 243, 238]]], dtype=uint8)),\n             ('robot0_proprio-state',\n              array([ 0.88339304, -0.17745947, -0.79418601, -0.63296728, -0.01475282,\n                     -0.40403876, -0.46863283, -0.98412811,  0.60767473, -0.77417855,\n                     -0.99989117, -0.91474186,  0.        ,  0.        ,  0.        ,\n                      0.        ,  0.        ,  0.        , -0.23296122, -0.0258617 ,\n                      0.98114057, -0.99897269,  0.03568707,  0.02745362,  0.00512733,\n                     -0.026     , -0.267     , -0.2       , -0.026     , -0.267     ,\n                     -0.2       ,  0.        ,  0.        ,  0.        ,  0.        ,\n                      0.        ,  0.        ]))])"
     },
     "execution_count": 7,
     "metadata": {},
     "output_type": "execute_result"
    }
   ],
   "source": [
    "obs"
   ],
   "metadata": {
    "collapsed": false,
    "ExecuteTime": {
     "end_time": "2023-09-17T17:32:17.798538700Z",
     "start_time": "2023-09-17T17:32:17.763539800Z"
    }
   },
   "id": "9cc53aaa4ed37a36"
  },
  {
   "cell_type": "code",
   "execution_count": 2,
   "outputs": [],
   "source": [
    "# create environment instance\n",
    "env = GymWrapper(suite.make(\n",
    "    env_name=\"Lift\", # try with other tasks like \"Stack\" and \"Door\"\n",
    "    robots=\"UR5e\",  # try with other robots like \"Sawyer\" and \"Jaco\"\n",
    "    has_renderer=False,\n",
    "    has_offscreen_renderer=True,\n",
    "    use_object_obs=False,                   # don't provide object observations to agent\n",
    "    use_camera_obs=True,\n",
    "    camera_names=\"robot0_eye_in_hand\",      # use \"agentview\" camera for observations\n",
    "    camera_heights=84,                      # image height\n",
    "    camera_widths=84,                       # image width\n",
    "    reward_shaping=True,                    # use a dense reward signal for learning\n",
    "    horizon = 200\n",
    "))\n",
    "# ), ['robot0_eye_in_hand_image'])"
   ],
   "metadata": {
    "collapsed": false,
    "ExecuteTime": {
     "end_time": "2023-09-17T17:35:47.991284300Z",
     "start_time": "2023-09-17T17:35:42.745066700Z"
    }
   },
   "id": "5f26bfc569a1dc1"
  },
  {
   "cell_type": "code",
   "execution_count": 3,
   "outputs": [
    {
     "data": {
      "text/plain": "Dict('robot0_eef_pos': Box(-1.0, 1.0, (3,), float32), 'robot0_eef_quat': Box(-1.0, 1.0, (4,), float32), 'robot0_eye_in_hand_image': Box(0, 255, (84, 84, 3), uint8), 'robot0_gripper_qpos': Box(-1.0, 1.0, (6,), float32), 'robot0_gripper_qvel': Box(-1.0, 1.0, (6,), float32), 'robot0_joint_pos_cos': Box(-1.0, 1.0, (6,), float32), 'robot0_joint_pos_sin': Box(-1.0, 1.0, (6,), float32), 'robot0_joint_vel': Box(-1.0, 1.0, (6,), float32), 'robot0_proprio-state': Box(-1.0, 1.0, (37,), float32))"
     },
     "execution_count": 3,
     "metadata": {},
     "output_type": "execute_result"
    }
   ],
   "source": [
    "env.observation_space"
   ],
   "metadata": {
    "collapsed": false,
    "ExecuteTime": {
     "end_time": "2023-09-17T17:35:49.955606800Z",
     "start_time": "2023-09-17T17:35:49.885609400Z"
    }
   },
   "id": "5a4424ac567da8c2"
  },
  {
   "cell_type": "code",
   "execution_count": 4,
   "outputs": [
    {
     "name": "stdout",
     "output_type": "stream",
     "text": [
      "Using cpu device\n",
      "Wrapping the env with a `Monitor` wrapper\n",
      "Wrapping the env in a DummyVecEnv.\n",
      "Wrapping the env in a VecTransposeImage.\n"
     ]
    },
    {
     "data": {
      "text/plain": "Output()",
      "application/vnd.jupyter.widget-view+json": {
       "version_major": 2,
       "version_minor": 0,
       "model_id": "7bb8f0d4895b4b65ad2a55cb13f82cd1"
      }
     },
     "metadata": {},
     "output_type": "display_data"
    },
    {
     "name": "stdout",
     "output_type": "stream",
     "text": [
      "---------------------------------\n",
      "| rollout/           |          |\n",
      "|    ep_len_mean     | 200      |\n",
      "|    ep_rew_mean     | 0.443    |\n",
      "| time/              |          |\n",
      "|    fps             | 13       |\n",
      "|    iterations      | 1        |\n",
      "|    time_elapsed    | 153      |\n",
      "|    total_timesteps | 2048     |\n",
      "---------------------------------\n"
     ]
    },
    {
     "data": {
      "text/plain": "",
      "text/html": "<pre style=\"white-space:pre;overflow-x:auto;line-height:normal;font-family:Menlo,'DejaVu Sans Mono',consolas,'Courier New',monospace\"></pre>\n"
     },
     "metadata": {},
     "output_type": "display_data"
    },
    {
     "data": {
      "text/plain": "\n",
      "text/html": "<pre style=\"white-space:pre;overflow-x:auto;line-height:normal;font-family:Menlo,'DejaVu Sans Mono',consolas,'Courier New',monospace\">\n</pre>\n"
     },
     "metadata": {},
     "output_type": "display_data"
    },
    {
     "data": {
      "text/plain": "<stable_baselines3.ppo.ppo.PPO at 0x2182f5bf340>"
     },
     "execution_count": 4,
     "metadata": {},
     "output_type": "execute_result"
    }
   ],
   "source": [
    "from stable_baselines3 import PPO\n",
    "model = PPO(\"MultiInputPolicy\", env, verbose=1)\n",
    "model.learn(total_timesteps=1e2, progress_bar=True)"
   ],
   "metadata": {
    "collapsed": false,
    "ExecuteTime": {
     "end_time": "2023-09-17T17:39:13.153769400Z",
     "start_time": "2023-09-17T17:36:03.383020700Z"
    }
   },
   "id": "efe79fc835d0d5d6"
  },
  {
   "cell_type": "code",
   "execution_count": null,
   "outputs": [],
   "source": [],
   "metadata": {
    "collapsed": false
   },
   "id": "650999e57ee19c05"
  }
 ],
 "metadata": {
  "kernelspec": {
   "display_name": "Python 3",
   "language": "python",
   "name": "python3"
  },
  "language_info": {
   "codemirror_mode": {
    "name": "ipython",
    "version": 2
   },
   "file_extension": ".py",
   "mimetype": "text/x-python",
   "name": "python",
   "nbconvert_exporter": "python",
   "pygments_lexer": "ipython2",
   "version": "2.7.6"
  }
 },
 "nbformat": 4,
 "nbformat_minor": 5
}
