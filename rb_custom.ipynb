{
 "cells": [
  {
   "cell_type": "code",
   "execution_count": null,
   "id": "initial_id",
   "metadata": {
    "ExecuteTime": {
     "end_time": "2023-09-25T08:00:32.002163816Z",
     "start_time": "2023-09-25T08:00:31.986949398Z"
    }
   },
   "outputs": [],
   "source": [
    "import robosuite as suite\n",
    "from robosuite.wrappers.gym_wrapper import GymWrapper\n",
    "import gymnasium as gym\n",
    "from stable_baselines3.common.vec_env import SubprocVecEnv\n",
    "from stable_baselines3.common.utils import set_random_seed\n",
    "from stable_baselines3.common.monitor import Monitor\n",
    "import time\n",
    "from stable_baselines3.common.env_util import make_vec_env\n"
   ]
  },
  {
   "cell_type": "code",
   "execution_count": null,
   "id": "1cac3089",
   "metadata": {},
   "outputs": [],
   "source": [
    "import os\n",
    "filename = 'tmp/gym/cnninput'\n",
    "cwd = os.getcwd()\n",
    "new_folder = os.path.join(cwd, filename)\n",
    "os.makedirs(new_folder, exist_ok=True)"
   ]
  },
  {
   "cell_type": "code",
   "execution_count": null,
   "id": "5f26bfc569a1dc1",
   "metadata": {
    "ExecuteTime": {
     "end_time": "2023-09-25T06:25:12.970212130Z",
     "start_time": "2023-09-25T06:25:11.779955106Z"
    }
   },
   "outputs": [],
   "source": [
    "# create environment instance\n",
    "env = GymWrapper(suite.make(\n",
    "    env_name=\"Lift\", # try with other tasks like \"Stack\" and \"Door\"\n",
    "    robots=\"UR5e\",  # try with other robots like \"Sawyer\" and \"Jaco\"\n",
    "    has_renderer=True,\n",
    "    has_offscreen_renderer=True,\n",
    "    use_object_obs=True,                   # don't provide object observations to agent\n",
    "    use_camera_obs=True,\n",
    "    camera_names=\"robot0_eye_in_hand\",      # use \"agentview\" camera for observations\n",
    "    camera_heights=84,                      # image height\n",
    "    camera_widths=84,                       # image width\n",
    "    reward_shaping=True,                    # use a dense reward signal for learning\n",
    "    horizon = 500,\n",
    "    control_freq=20,                        # control should happen fast enough so that simulation looks smooth\n",
    "), ['robot0_eye_in_hand_image'])\n",
    "env = Monitor(env, filename)\n",
    "# ), ['robot0_eye_in_hand_image'])"
   ]
  },
  {
   "cell_type": "code",
   "execution_count": null,
   "id": "39abde0f",
   "metadata": {},
   "outputs": [],
   "source": [
    "env.observation_space"
   ]
  },
  {
   "cell_type": "code",
   "execution_count": null,
   "id": "efe79fc835d0d5d6",
   "metadata": {
    "ExecuteTime": {
     "end_time": "2023-09-25T06:48:04.884357Z",
     "start_time": "2023-09-25T06:27:32.303421583Z"
    }
   },
   "outputs": [],
   "source": [
    "from stable_baselines3 import PPO\n",
    "model = PPO(\"MultiInputPolicy\", env, verbose=1)\n",
    "model.learn(total_timesteps=2048, progress_bar=True, log_interval=5)"
   ]
  },
  {
   "cell_type": "code",
   "execution_count": null,
   "id": "bb69f51e",
   "metadata": {},
   "outputs": [],
   "source": [
    "model.save(filename)"
   ]
  },
  {
   "cell_type": "code",
   "execution_count": null,
   "id": "650999e57ee19c05",
   "metadata": {
    "ExecuteTime": {
     "end_time": "2023-09-25T08:01:01.175729695Z",
     "start_time": "2023-09-25T08:00:36.924182236Z"
    }
   },
   "outputs": [],
   "source": [
    "obs = env.reset()[0]\n",
    "action_list = []\n",
    "for i in range(500):\n",
    "    action, state = model.predict(obs)\n",
    "    action_list.append(action)\n",
    "    obs, reward, done,done, info = env.step(action)\n",
    "    env.render()\n",
    "    time.sleep(0.2)\n",
    "    if done:\n",
    "        break\n",
    "env.close()"
   ]
  },
  {
   "cell_type": "code",
   "execution_count": null,
   "id": "bc6e88f34c3e1ad",
   "metadata": {
    "ExecuteTime": {
     "end_time": "2023-09-25T07:45:52.507218709Z",
     "start_time": "2023-09-25T07:19:44.084127030Z"
    }
   },
   "outputs": [],
   "source": [
    "from stable_baselines3 import PPO\n",
    "model = PPO.load('trained_model', env=env)\n",
    "model.learn(total_timesteps=100000, progress_bar=True, log_interval=10)\n",
    "model.save('trained_model')\n"
   ]
  },
  {
   "cell_type": "code",
   "execution_count": null,
   "id": "e997e532ad5e1641",
   "metadata": {},
   "outputs": [],
   "source": [
    "import torch\n",
    "torch.cuda.is_available()"
   ]
  },
  {
   "cell_type": "code",
   "execution_count": null,
   "id": "32703687",
   "metadata": {},
   "outputs": [],
   "source": [
    "import robosuite.macros as macros\n",
    "macros.IMAGE_CONVENTION = \"opencv\"\n",
    "env = GymWrapper(suite.make(\n",
    "    env_name=\"Lift\", # try with other tasks like \"Stack\" and \"Door\"\n",
    "    robots=\"UR5e\",  # try with other robots like \"Sawyer\" and \"Jaco\"\n",
    "    has_renderer=False,\n",
    "    ignore_done = True,\n",
    "    has_offscreen_renderer=True,\n",
    "    use_object_obs=True,                   # don't provide object observations to agent\n",
    "    use_camera_obs=True,\n",
    "    camera_names=\"agentview\",      # use \"agentview\" camera for observations\n",
    "    camera_heights=512,                      # image height\n",
    "    camera_widths=512,                       # image width\n",
    "    reward_shaping=True,                    # use a dense reward signal for learning\n",
    "    horizon = 500,\n",
    "    control_freq=20,                        # control should happen fast enough so that simulation looks smooth\n",
    "))"
   ]
  },
  {
   "cell_type": "code",
   "execution_count": null,
   "id": "28e25391",
   "metadata": {},
   "outputs": [],
   "source": [
    "import imageio\n",
    "\n",
    "writer = imageio.get_writer(f'{filename}/video.mp4', fps=20)\n",
    "obs = env.reset()[0]\n",
    "for i,v in enumerate(action_list):\n",
    "    obs, reward, done,done, info = env.step(v)\n",
    "    frame = obs[\"agentview_image\"]\n",
    "    writer.append_data(frame)\n",
    "    print(\"Saving frame #{}\".format(i))\n",
    "    if done:\n",
    "        break\n",
    "writer.close()\n",
    "env.close()"
   ]
  }
 ],
 "metadata": {
  "kernelspec": {
   "display_name": "Python 3 (ipykernel)",
   "language": "python",
   "name": "python3"
  },
  "language_info": {
   "codemirror_mode": {
    "name": "ipython",
    "version": 3
   },
   "file_extension": ".py",
   "mimetype": "text/x-python",
   "name": "python",
   "nbconvert_exporter": "python",
   "pygments_lexer": "ipython3",
   "version": "3.8.18"
  }
 },
 "nbformat": 4,
 "nbformat_minor": 5
}
