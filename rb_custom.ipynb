{
 "cells": [
  {
   "cell_type": "code",
   "execution_count": 1,
   "id": "initial_id",
   "metadata": {
    "ExecuteTime": {
     "end_time": "2023-09-25T08:00:32.002163816Z",
     "start_time": "2023-09-25T08:00:31.986949398Z"
    }
   },
   "outputs": [
    {
     "name": "stderr",
     "output_type": "stream",
     "text": [
      "\u001b[1m\u001b[33m[robosuite WARNING] \u001b[0mNo private macro file found! (macros.py:53)\n",
      "\u001b[1m\u001b[33m[robosuite WARNING] \u001b[0mIt is recommended to use a private macro file (macros.py:54)\n",
      "\u001b[1m\u001b[33m[robosuite WARNING] \u001b[0mTo setup, run: python /home/ja/PycharmProjects/robosuite/robosuite/robosuite/scripts/setup_macros.py (macros.py:55)\n"
     ]
    }
   ],
   "source": [
    "import robosuite as suite\n",
    "from robosuite.wrappers.gym_wrapper import GymWrapper\n",
    "import gymnasium as gym\n",
    "from stable_baselines3.common.vec_env import SubprocVecEnv\n",
    "from stable_baselines3.common.utils import set_random_seed\n",
    "from stable_baselines3.common.monitor import Monitor\n",
    "import time\n",
    "from stable_baselines3.common.env_util import make_vec_env\n",
    "from stable_baselines3.common.results_plotter import load_results, ts2xy\n",
    "from stable_baselines3.common.callbacks import BaseCallback\n",
    "import numpy as np\n"
   ]
  },
  {
   "cell_type": "code",
   "execution_count": 2,
   "id": "1cac3089",
   "metadata": {},
   "outputs": [],
   "source": [
    "import os\n",
    "filename = 'tmp/gym/multiinput_256'\n",
    "cwd = os.getcwd()\n",
    "new_folder = os.path.join(cwd, filename)\n",
    "os.makedirs(new_folder, exist_ok=True)"
   ]
  },
  {
   "cell_type": "code",
   "execution_count": 3,
   "id": "5f26bfc569a1dc1",
   "metadata": {
    "ExecuteTime": {
     "end_time": "2023-09-25T06:25:12.970212130Z",
     "start_time": "2023-09-25T06:25:11.779955106Z"
    }
   },
   "outputs": [],
   "source": [
    "# create environment instance\n",
    "env = GymWrapper(suite.make(\n",
    "    env_name=\"Lift\", # try with other tasks like \"Stack\" and \"Door\"\n",
    "    robots=\"UR5e\",  # try with other robots like \"Sawyer\" and \"Jaco\"\n",
    "    has_renderer=True,\n",
    "    has_offscreen_renderer=True,\n",
    "    use_object_obs=False,                   # don't provide object observations to agent\n",
    "    use_camera_obs=True,\n",
    "    camera_names=\"robot0_eye_in_hand\",      # use \"agentview\" camera for observations\n",
    "    camera_heights=84,                      # image height\n",
    "    camera_widths=84,                       # image width\n",
    "    reward_shaping=True,                    # use a dense reward signal for learning\n",
    "    horizon = 500,\n",
    "    control_freq=20,                        # control should happen fast enough so that simulation looks smooth\n",
    "))\n",
    "env = Monitor(env, filename)\n",
    "# ), ['robot0_eye_in_hand_image'])"
   ]
  },
  {
   "cell_type": "code",
   "execution_count": 4,
   "id": "73dbc06f",
   "metadata": {},
   "outputs": [],
   "source": [
    "class SaveOnBestTrainingRewardCallback(BaseCallback):\n",
    "    \"\"\"\n",
    "    Callback for saving a model (the check is done every ``check_freq`` steps)\n",
    "    based on the training reward (in practice, we recommend using ``EvalCallback``).\n",
    "\n",
    "    :param check_freq: (int)\n",
    "    :param log_dir: (str) Path to the folder where the model will be saved.\n",
    "      It must contains the file created by the ``Monitor`` wrapper.\n",
    "    :param verbose: (int)\n",
    "    \"\"\"\n",
    "\n",
    "    def __init__(self, check_freq: int, log_dir: str, verbose=1):\n",
    "        super().__init__(verbose)\n",
    "        self.check_freq = check_freq\n",
    "        self.log_dir = log_dir\n",
    "        self.save_path = os.path.join(log_dir, \"best_model\")\n",
    "        self.best_mean_reward = -np.inf\n",
    "\n",
    "    def _init_callback(self) -> None:\n",
    "        # Create folder if needed\n",
    "        if self.save_path is not None:\n",
    "            os.makedirs(self.save_path, exist_ok=True)\n",
    "\n",
    "    def _on_step(self) -> bool:\n",
    "        if self.n_calls % self.check_freq == 0:\n",
    "\n",
    "            # Retrieve training reward\n",
    "            x, y = ts2xy(load_results(self.log_dir), \"timesteps\")\n",
    "            if len(x) > 0:\n",
    "                # Mean training reward over the last 100 episodes\n",
    "                mean_reward = np.mean(y[-100:])\n",
    "                if self.verbose > 0:\n",
    "                    print(f\"Num timesteps: {self.num_timesteps}\")\n",
    "                    print(\n",
    "                        f\"Best mean reward: {self.best_mean_reward:.2f} - Last mean reward per episode: {mean_reward:.2f}\"\n",
    "                    )\n",
    "\n",
    "                # New best model, you could save the agent here\n",
    "                if mean_reward > self.best_mean_reward:\n",
    "                    self.best_mean_reward = mean_reward\n",
    "                    # Example for saving best model\n",
    "                    if self.verbose > 0:\n",
    "                        print(f\"Saving new best model to {self.save_path}.zip\")\n",
    "                    self.model.save(self.save_path)\n",
    "\n",
    "        return True"
   ]
  },
  {
   "cell_type": "code",
   "execution_count": 5,
   "id": "39abde0f",
   "metadata": {},
   "outputs": [
    {
     "name": "stderr",
     "output_type": "stream",
     "text": [
      "/home/ja/anaconda3/envs/robosuite/lib/python3.11/site-packages/gymnasium/core.py:311: UserWarning: \u001b[33mWARN: env.keys to get variables from other wrappers is deprecated and will be removed in v1.0, to get this variable you can do `env.unwrapped.keys` for environment variables or `env.get_wrapper_attr('keys')` that will search the reminding wrappers.\u001b[0m\n",
      "  logger.warn(\n"
     ]
    },
    {
     "data": {
      "text/plain": [
       "['robot0_joint_pos_cos',\n",
       " 'robot0_joint_pos_sin',\n",
       " 'robot0_joint_vel',\n",
       " 'robot0_eef_pos',\n",
       " 'robot0_eef_quat',\n",
       " 'robot0_gripper_qpos',\n",
       " 'robot0_gripper_qvel',\n",
       " 'robot0_eye_in_hand_image',\n",
       " 'robot0_proprio-state',\n",
       " 'robot0_eye_in_hand_image',\n",
       " 'robot0_proprio-state']"
      ]
     },
     "execution_count": 5,
     "metadata": {},
     "output_type": "execute_result"
    }
   ],
   "source": [
    "env.keys"
   ]
  },
  {
   "cell_type": "code",
   "execution_count": 6,
   "id": "efe79fc835d0d5d6",
   "metadata": {
    "ExecuteTime": {
     "end_time": "2023-09-25T06:48:04.884357Z",
     "start_time": "2023-09-25T06:27:32.303421583Z"
    }
   },
   "outputs": [
    {
     "name": "stdout",
     "output_type": "stream",
     "text": [
      "Using cuda device\n",
      "Wrapping the env in a DummyVecEnv.\n",
      "Wrapping the env in a VecTransposeImage.\n"
     ]
    },
    {
     "data": {
      "application/vnd.jupyter.widget-view+json": {
       "model_id": "c05dcfbc0b2c4e47b9370e4607246471",
       "version_major": 2,
       "version_minor": 0
      },
      "text/plain": [
       "Output()"
      ]
     },
     "metadata": {},
     "output_type": "display_data"
    },
    {
     "data": {
      "text/html": [
       "<pre style=\"white-space:pre;overflow-x:auto;line-height:normal;font-family:Menlo,'DejaVu Sans Mono',consolas,'Courier New',monospace\">Num timesteps: 1000\n",
       "</pre>\n"
      ],
      "text/plain": [
       "Num timesteps: 1000\n"
      ]
     },
     "metadata": {},
     "output_type": "display_data"
    },
    {
     "data": {
      "text/html": [
       "<pre style=\"white-space:pre;overflow-x:auto;line-height:normal;font-family:Menlo,'DejaVu Sans Mono',consolas,'Courier New',monospace\">Best mean reward: -inf - Last mean reward per episode: 0.76\n",
       "</pre>\n"
      ],
      "text/plain": [
       "Best mean reward: -inf - Last mean reward per episode: 0.76\n"
      ]
     },
     "metadata": {},
     "output_type": "display_data"
    },
    {
     "data": {
      "text/html": [
       "<pre style=\"white-space:pre;overflow-x:auto;line-height:normal;font-family:Menlo,'DejaVu Sans Mono',consolas,'Courier New',monospace\">Saving new best model to tmp/gym/multiinput_256/best_model.zip\n",
       "</pre>\n"
      ],
      "text/plain": [
       "Saving new best model to tmp/gym/multiinput_256/best_model.zip\n"
      ]
     },
     "metadata": {},
     "output_type": "display_data"
    },
    {
     "data": {
      "text/html": [
       "<pre style=\"white-space:pre;overflow-x:auto;line-height:normal;font-family:Menlo,'DejaVu Sans Mono',consolas,'Courier New',monospace\">Num timesteps: 2000\n",
       "</pre>\n"
      ],
      "text/plain": [
       "Num timesteps: 2000\n"
      ]
     },
     "metadata": {},
     "output_type": "display_data"
    },
    {
     "data": {
      "text/html": [
       "<pre style=\"white-space:pre;overflow-x:auto;line-height:normal;font-family:Menlo,'DejaVu Sans Mono',consolas,'Courier New',monospace\">Best mean reward: 0.76 - Last mean reward per episode: 0.64\n",
       "</pre>\n"
      ],
      "text/plain": [
       "Best mean reward: 0.76 - Last mean reward per episode: 0.64\n"
      ]
     },
     "metadata": {},
     "output_type": "display_data"
    },
    {
     "data": {
      "text/html": [
       "<pre style=\"white-space:pre;overflow-x:auto;line-height:normal;font-family:Menlo,'DejaVu Sans Mono',consolas,'Courier New',monospace\">Num timesteps: 3000\n",
       "</pre>\n"
      ],
      "text/plain": [
       "Num timesteps: 3000\n"
      ]
     },
     "metadata": {},
     "output_type": "display_data"
    },
    {
     "data": {
      "text/html": [
       "<pre style=\"white-space:pre;overflow-x:auto;line-height:normal;font-family:Menlo,'DejaVu Sans Mono',consolas,'Courier New',monospace\">Best mean reward: 0.76 - Last mean reward per episode: 0.65\n",
       "</pre>\n"
      ],
      "text/plain": [
       "Best mean reward: 0.76 - Last mean reward per episode: 0.65\n"
      ]
     },
     "metadata": {},
     "output_type": "display_data"
    },
    {
     "data": {
      "text/html": [
       "<pre style=\"white-space:pre;overflow-x:auto;line-height:normal;font-family:Menlo,'DejaVu Sans Mono',consolas,'Courier New',monospace\">Num timesteps: 4000\n",
       "</pre>\n"
      ],
      "text/plain": [
       "Num timesteps: 4000\n"
      ]
     },
     "metadata": {},
     "output_type": "display_data"
    },
    {
     "data": {
      "text/html": [
       "<pre style=\"white-space:pre;overflow-x:auto;line-height:normal;font-family:Menlo,'DejaVu Sans Mono',consolas,'Courier New',monospace\">Best mean reward: 0.76 - Last mean reward per episode: 0.60\n",
       "</pre>\n"
      ],
      "text/plain": [
       "Best mean reward: 0.76 - Last mean reward per episode: 0.60\n"
      ]
     },
     "metadata": {},
     "output_type": "display_data"
    },
    {
     "data": {
      "text/html": [
       "<pre style=\"white-space:pre;overflow-x:auto;line-height:normal;font-family:Menlo,'DejaVu Sans Mono',consolas,'Courier New',monospace\">Num timesteps: 5000\n",
       "</pre>\n"
      ],
      "text/plain": [
       "Num timesteps: 5000\n"
      ]
     },
     "metadata": {},
     "output_type": "display_data"
    },
    {
     "data": {
      "text/html": [
       "<pre style=\"white-space:pre;overflow-x:auto;line-height:normal;font-family:Menlo,'DejaVu Sans Mono',consolas,'Courier New',monospace\">Best mean reward: 0.76 - Last mean reward per episode: 0.65\n",
       "</pre>\n"
      ],
      "text/plain": [
       "Best mean reward: 0.76 - Last mean reward per episode: 0.65\n"
      ]
     },
     "metadata": {},
     "output_type": "display_data"
    },
    {
     "data": {
      "text/html": [
       "<pre style=\"white-space:pre;overflow-x:auto;line-height:normal;font-family:Menlo,'DejaVu Sans Mono',consolas,'Courier New',monospace\">Num timesteps: 6000\n",
       "</pre>\n"
      ],
      "text/plain": [
       "Num timesteps: 6000\n"
      ]
     },
     "metadata": {},
     "output_type": "display_data"
    },
    {
     "data": {
      "text/html": [
       "<pre style=\"white-space:pre;overflow-x:auto;line-height:normal;font-family:Menlo,'DejaVu Sans Mono',consolas,'Courier New',monospace\">Best mean reward: 0.76 - Last mean reward per episode: 0.77\n",
       "</pre>\n"
      ],
      "text/plain": [
       "Best mean reward: 0.76 - Last mean reward per episode: 0.77\n"
      ]
     },
     "metadata": {},
     "output_type": "display_data"
    },
    {
     "data": {
      "text/html": [
       "<pre style=\"white-space:pre;overflow-x:auto;line-height:normal;font-family:Menlo,'DejaVu Sans Mono',consolas,'Courier New',monospace\">Saving new best model to tmp/gym/multiinput_256/best_model.zip\n",
       "</pre>\n"
      ],
      "text/plain": [
       "Saving new best model to tmp/gym/multiinput_256/best_model.zip\n"
      ]
     },
     "metadata": {},
     "output_type": "display_data"
    },
    {
     "data": {
      "text/html": [
       "<pre style=\"white-space:pre;overflow-x:auto;line-height:normal;font-family:Menlo,'DejaVu Sans Mono',consolas,'Courier New',monospace\">Num timesteps: 7000\n",
       "</pre>\n"
      ],
      "text/plain": [
       "Num timesteps: 7000\n"
      ]
     },
     "metadata": {},
     "output_type": "display_data"
    },
    {
     "data": {
      "text/html": [
       "<pre style=\"white-space:pre;overflow-x:auto;line-height:normal;font-family:Menlo,'DejaVu Sans Mono',consolas,'Courier New',monospace\">Best mean reward: 0.77 - Last mean reward per episode: 0.92\n",
       "</pre>\n"
      ],
      "text/plain": [
       "Best mean reward: 0.77 - Last mean reward per episode: 0.92\n"
      ]
     },
     "metadata": {},
     "output_type": "display_data"
    },
    {
     "data": {
      "text/html": [
       "<pre style=\"white-space:pre;overflow-x:auto;line-height:normal;font-family:Menlo,'DejaVu Sans Mono',consolas,'Courier New',monospace\">Saving new best model to tmp/gym/multiinput_256/best_model.zip\n",
       "</pre>\n"
      ],
      "text/plain": [
       "Saving new best model to tmp/gym/multiinput_256/best_model.zip\n"
      ]
     },
     "metadata": {},
     "output_type": "display_data"
    },
    {
     "data": {
      "text/html": [
       "<pre style=\"white-space:pre;overflow-x:auto;line-height:normal;font-family:Menlo,'DejaVu Sans Mono',consolas,'Courier New',monospace\">Num timesteps: 8000\n",
       "</pre>\n"
      ],
      "text/plain": [
       "Num timesteps: 8000\n"
      ]
     },
     "metadata": {},
     "output_type": "display_data"
    },
    {
     "data": {
      "text/html": [
       "<pre style=\"white-space:pre;overflow-x:auto;line-height:normal;font-family:Menlo,'DejaVu Sans Mono',consolas,'Courier New',monospace\">Best mean reward: 0.92 - Last mean reward per episode: 0.84\n",
       "</pre>\n"
      ],
      "text/plain": [
       "Best mean reward: 0.92 - Last mean reward per episode: 0.84\n"
      ]
     },
     "metadata": {},
     "output_type": "display_data"
    },
    {
     "data": {
      "text/html": [
       "<pre style=\"white-space:pre;overflow-x:auto;line-height:normal;font-family:Menlo,'DejaVu Sans Mono',consolas,'Courier New',monospace\">Num timesteps: 9000\n",
       "</pre>\n"
      ],
      "text/plain": [
       "Num timesteps: 9000\n"
      ]
     },
     "metadata": {},
     "output_type": "display_data"
    },
    {
     "data": {
      "text/html": [
       "<pre style=\"white-space:pre;overflow-x:auto;line-height:normal;font-family:Menlo,'DejaVu Sans Mono',consolas,'Courier New',monospace\">Best mean reward: 0.92 - Last mean reward per episode: 0.86\n",
       "</pre>\n"
      ],
      "text/plain": [
       "Best mean reward: 0.92 - Last mean reward per episode: 0.86\n"
      ]
     },
     "metadata": {},
     "output_type": "display_data"
    },
    {
     "data": {
      "text/html": [
       "<pre style=\"white-space:pre;overflow-x:auto;line-height:normal;font-family:Menlo,'DejaVu Sans Mono',consolas,'Courier New',monospace\">Num timesteps: 10000\n",
       "</pre>\n"
      ],
      "text/plain": [
       "Num timesteps: 10000\n"
      ]
     },
     "metadata": {},
     "output_type": "display_data"
    },
    {
     "data": {
      "text/html": [
       "<pre style=\"white-space:pre;overflow-x:auto;line-height:normal;font-family:Menlo,'DejaVu Sans Mono',consolas,'Courier New',monospace\">Best mean reward: 0.92 - Last mean reward per episode: 0.85\n",
       "</pre>\n"
      ],
      "text/plain": [
       "Best mean reward: 0.92 - Last mean reward per episode: 0.85\n"
      ]
     },
     "metadata": {},
     "output_type": "display_data"
    },
    {
     "data": {
      "text/html": [
       "<pre style=\"white-space:pre;overflow-x:auto;line-height:normal;font-family:Menlo,'DejaVu Sans Mono',consolas,'Courier New',monospace\">Num timesteps: 11000\n",
       "</pre>\n"
      ],
      "text/plain": [
       "Num timesteps: 11000\n"
      ]
     },
     "metadata": {},
     "output_type": "display_data"
    },
    {
     "data": {
      "text/html": [
       "<pre style=\"white-space:pre;overflow-x:auto;line-height:normal;font-family:Menlo,'DejaVu Sans Mono',consolas,'Courier New',monospace\">Best mean reward: 0.92 - Last mean reward per episode: 0.83\n",
       "</pre>\n"
      ],
      "text/plain": [
       "Best mean reward: 0.92 - Last mean reward per episode: 0.83\n"
      ]
     },
     "metadata": {},
     "output_type": "display_data"
    },
    {
     "data": {
      "text/html": [
       "<pre style=\"white-space:pre;overflow-x:auto;line-height:normal;font-family:Menlo,'DejaVu Sans Mono',consolas,'Courier New',monospace\">Num timesteps: 12000\n",
       "</pre>\n"
      ],
      "text/plain": [
       "Num timesteps: 12000\n"
      ]
     },
     "metadata": {},
     "output_type": "display_data"
    },
    {
     "data": {
      "text/html": [
       "<pre style=\"white-space:pre;overflow-x:auto;line-height:normal;font-family:Menlo,'DejaVu Sans Mono',consolas,'Courier New',monospace\">Best mean reward: 0.92 - Last mean reward per episode: 0.90\n",
       "</pre>\n"
      ],
      "text/plain": [
       "Best mean reward: 0.92 - Last mean reward per episode: 0.90\n"
      ]
     },
     "metadata": {},
     "output_type": "display_data"
    },
    {
     "data": {
      "text/html": [
       "<pre style=\"white-space:pre;overflow-x:auto;line-height:normal;font-family:Menlo,'DejaVu Sans Mono',consolas,'Courier New',monospace\">Num timesteps: 13000\n",
       "</pre>\n"
      ],
      "text/plain": [
       "Num timesteps: 13000\n"
      ]
     },
     "metadata": {},
     "output_type": "display_data"
    },
    {
     "data": {
      "text/html": [
       "<pre style=\"white-space:pre;overflow-x:auto;line-height:normal;font-family:Menlo,'DejaVu Sans Mono',consolas,'Courier New',monospace\">Best mean reward: 0.92 - Last mean reward per episode: 0.87\n",
       "</pre>\n"
      ],
      "text/plain": [
       "Best mean reward: 0.92 - Last mean reward per episode: 0.87\n"
      ]
     },
     "metadata": {},
     "output_type": "display_data"
    },
    {
     "data": {
      "text/html": [
       "<pre style=\"white-space:pre;overflow-x:auto;line-height:normal;font-family:Menlo,'DejaVu Sans Mono',consolas,'Courier New',monospace\">Num timesteps: 14000\n",
       "</pre>\n"
      ],
      "text/plain": [
       "Num timesteps: 14000\n"
      ]
     },
     "metadata": {},
     "output_type": "display_data"
    },
    {
     "data": {
      "text/html": [
       "<pre style=\"white-space:pre;overflow-x:auto;line-height:normal;font-family:Menlo,'DejaVu Sans Mono',consolas,'Courier New',monospace\">Best mean reward: 0.92 - Last mean reward per episode: 0.92\n",
       "</pre>\n"
      ],
      "text/plain": [
       "Best mean reward: 0.92 - Last mean reward per episode: 0.92\n"
      ]
     },
     "metadata": {},
     "output_type": "display_data"
    },
    {
     "data": {
      "text/html": [
       "<pre style=\"white-space:pre;overflow-x:auto;line-height:normal;font-family:Menlo,'DejaVu Sans Mono',consolas,'Courier New',monospace\">Saving new best model to tmp/gym/multiinput_256/best_model.zip\n",
       "</pre>\n"
      ],
      "text/plain": [
       "Saving new best model to tmp/gym/multiinput_256/best_model.zip\n"
      ]
     },
     "metadata": {},
     "output_type": "display_data"
    },
    {
     "data": {
      "text/html": [
       "<pre style=\"white-space:pre;overflow-x:auto;line-height:normal;font-family:Menlo,'DejaVu Sans Mono',consolas,'Courier New',monospace\">Num timesteps: 15000\n",
       "</pre>\n"
      ],
      "text/plain": [
       "Num timesteps: 15000\n"
      ]
     },
     "metadata": {},
     "output_type": "display_data"
    },
    {
     "data": {
      "text/html": [
       "<pre style=\"white-space:pre;overflow-x:auto;line-height:normal;font-family:Menlo,'DejaVu Sans Mono',consolas,'Courier New',monospace\">Best mean reward: 0.92 - Last mean reward per episode: 1.82\n",
       "</pre>\n"
      ],
      "text/plain": [
       "Best mean reward: 0.92 - Last mean reward per episode: 1.82\n"
      ]
     },
     "metadata": {},
     "output_type": "display_data"
    },
    {
     "data": {
      "text/html": [
       "<pre style=\"white-space:pre;overflow-x:auto;line-height:normal;font-family:Menlo,'DejaVu Sans Mono',consolas,'Courier New',monospace\">Saving new best model to tmp/gym/multiinput_256/best_model.zip\n",
       "</pre>\n"
      ],
      "text/plain": [
       "Saving new best model to tmp/gym/multiinput_256/best_model.zip\n"
      ]
     },
     "metadata": {},
     "output_type": "display_data"
    },
    {
     "data": {
      "text/html": [
       "<pre style=\"white-space:pre;overflow-x:auto;line-height:normal;font-family:Menlo,'DejaVu Sans Mono',consolas,'Courier New',monospace\">Num timesteps: 16000\n",
       "</pre>\n"
      ],
      "text/plain": [
       "Num timesteps: 16000\n"
      ]
     },
     "metadata": {},
     "output_type": "display_data"
    },
    {
     "data": {
      "text/html": [
       "<pre style=\"white-space:pre;overflow-x:auto;line-height:normal;font-family:Menlo,'DejaVu Sans Mono',consolas,'Courier New',monospace\">Best mean reward: 1.82 - Last mean reward per episode: 3.20\n",
       "</pre>\n"
      ],
      "text/plain": [
       "Best mean reward: 1.82 - Last mean reward per episode: 3.20\n"
      ]
     },
     "metadata": {},
     "output_type": "display_data"
    },
    {
     "data": {
      "text/html": [
       "<pre style=\"white-space:pre;overflow-x:auto;line-height:normal;font-family:Menlo,'DejaVu Sans Mono',consolas,'Courier New',monospace\">Saving new best model to tmp/gym/multiinput_256/best_model.zip\n",
       "</pre>\n"
      ],
      "text/plain": [
       "Saving new best model to tmp/gym/multiinput_256/best_model.zip\n"
      ]
     },
     "metadata": {},
     "output_type": "display_data"
    },
    {
     "data": {
      "text/html": [
       "<pre style=\"white-space:pre;overflow-x:auto;line-height:normal;font-family:Menlo,'DejaVu Sans Mono',consolas,'Courier New',monospace\">Num timesteps: 17000\n",
       "</pre>\n"
      ],
      "text/plain": [
       "Num timesteps: 17000\n"
      ]
     },
     "metadata": {},
     "output_type": "display_data"
    },
    {
     "data": {
      "text/html": [
       "<pre style=\"white-space:pre;overflow-x:auto;line-height:normal;font-family:Menlo,'DejaVu Sans Mono',consolas,'Courier New',monospace\">Best mean reward: 3.20 - Last mean reward per episode: 3.46\n",
       "</pre>\n"
      ],
      "text/plain": [
       "Best mean reward: 3.20 - Last mean reward per episode: 3.46\n"
      ]
     },
     "metadata": {},
     "output_type": "display_data"
    },
    {
     "data": {
      "text/html": [
       "<pre style=\"white-space:pre;overflow-x:auto;line-height:normal;font-family:Menlo,'DejaVu Sans Mono',consolas,'Courier New',monospace\">Saving new best model to tmp/gym/multiinput_256/best_model.zip\n",
       "</pre>\n"
      ],
      "text/plain": [
       "Saving new best model to tmp/gym/multiinput_256/best_model.zip\n"
      ]
     },
     "metadata": {},
     "output_type": "display_data"
    },
    {
     "data": {
      "text/html": [
       "<pre style=\"white-space:pre;overflow-x:auto;line-height:normal;font-family:Menlo,'DejaVu Sans Mono',consolas,'Courier New',monospace\">Num timesteps: 18000\n",
       "</pre>\n"
      ],
      "text/plain": [
       "Num timesteps: 18000\n"
      ]
     },
     "metadata": {},
     "output_type": "display_data"
    },
    {
     "data": {
      "text/html": [
       "<pre style=\"white-space:pre;overflow-x:auto;line-height:normal;font-family:Menlo,'DejaVu Sans Mono',consolas,'Courier New',monospace\">Best mean reward: 3.46 - Last mean reward per episode: 4.66\n",
       "</pre>\n"
      ],
      "text/plain": [
       "Best mean reward: 3.46 - Last mean reward per episode: 4.66\n"
      ]
     },
     "metadata": {},
     "output_type": "display_data"
    },
    {
     "data": {
      "text/html": [
       "<pre style=\"white-space:pre;overflow-x:auto;line-height:normal;font-family:Menlo,'DejaVu Sans Mono',consolas,'Courier New',monospace\">Saving new best model to tmp/gym/multiinput_256/best_model.zip\n",
       "</pre>\n"
      ],
      "text/plain": [
       "Saving new best model to tmp/gym/multiinput_256/best_model.zip\n"
      ]
     },
     "metadata": {},
     "output_type": "display_data"
    },
    {
     "data": {
      "text/html": [
       "<pre style=\"white-space:pre;overflow-x:auto;line-height:normal;font-family:Menlo,'DejaVu Sans Mono',consolas,'Courier New',monospace\">Num timesteps: 19000\n",
       "</pre>\n"
      ],
      "text/plain": [
       "Num timesteps: 19000\n"
      ]
     },
     "metadata": {},
     "output_type": "display_data"
    },
    {
     "data": {
      "text/html": [
       "<pre style=\"white-space:pre;overflow-x:auto;line-height:normal;font-family:Menlo,'DejaVu Sans Mono',consolas,'Courier New',monospace\">Best mean reward: 4.66 - Last mean reward per episode: 4.98\n",
       "</pre>\n"
      ],
      "text/plain": [
       "Best mean reward: 4.66 - Last mean reward per episode: 4.98\n"
      ]
     },
     "metadata": {},
     "output_type": "display_data"
    },
    {
     "data": {
      "text/html": [
       "<pre style=\"white-space:pre;overflow-x:auto;line-height:normal;font-family:Menlo,'DejaVu Sans Mono',consolas,'Courier New',monospace\">Saving new best model to tmp/gym/multiinput_256/best_model.zip\n",
       "</pre>\n"
      ],
      "text/plain": [
       "Saving new best model to tmp/gym/multiinput_256/best_model.zip\n"
      ]
     },
     "metadata": {},
     "output_type": "display_data"
    },
    {
     "data": {
      "text/html": [
       "<pre style=\"white-space:pre;overflow-x:auto;line-height:normal;font-family:Menlo,'DejaVu Sans Mono',consolas,'Courier New',monospace\">Num timesteps: 20000\n",
       "</pre>\n"
      ],
      "text/plain": [
       "Num timesteps: 20000\n"
      ]
     },
     "metadata": {},
     "output_type": "display_data"
    },
    {
     "data": {
      "text/html": [
       "<pre style=\"white-space:pre;overflow-x:auto;line-height:normal;font-family:Menlo,'DejaVu Sans Mono',consolas,'Courier New',monospace\">Best mean reward: 4.98 - Last mean reward per episode: 4.78\n",
       "</pre>\n"
      ],
      "text/plain": [
       "Best mean reward: 4.98 - Last mean reward per episode: 4.78\n"
      ]
     },
     "metadata": {},
     "output_type": "display_data"
    },
    {
     "name": "stdout",
     "output_type": "stream",
     "text": [
      "--------------------------------------\n",
      "| rollout/                |          |\n",
      "|    ep_len_mean          | 500      |\n",
      "|    ep_rew_mean          | 4.78     |\n",
      "| time/                   |          |\n",
      "|    fps                  | 91       |\n",
      "|    iterations           | 10       |\n",
      "|    time_elapsed         | 223      |\n",
      "|    total_timesteps      | 20480    |\n",
      "| train/                  |          |\n",
      "|    approx_kl            | 0.044494 |\n",
      "|    clip_fraction        | 0.335    |\n",
      "|    clip_range           | 0.2      |\n",
      "|    entropy_loss         | -9.86    |\n",
      "|    explained_variance   | 0.174    |\n",
      "|    learning_rate        | 0.0003   |\n",
      "|    loss                 | -0.00169 |\n",
      "|    n_updates            | 90       |\n",
      "|    policy_gradient_loss | -0.046   |\n",
      "|    std                  | 0.989    |\n",
      "|    value_loss           | 0.213    |\n",
      "--------------------------------------\n"
     ]
    },
    {
     "data": {
      "text/html": [
       "<pre style=\"white-space:pre;overflow-x:auto;line-height:normal;font-family:Menlo,'DejaVu Sans Mono',consolas,'Courier New',monospace\">Num timesteps: 21000\n",
       "</pre>\n"
      ],
      "text/plain": [
       "Num timesteps: 21000\n"
      ]
     },
     "metadata": {},
     "output_type": "display_data"
    },
    {
     "data": {
      "text/html": [
       "<pre style=\"white-space:pre;overflow-x:auto;line-height:normal;font-family:Menlo,'DejaVu Sans Mono',consolas,'Courier New',monospace\">Best mean reward: 4.98 - Last mean reward per episode: 4.78\n",
       "</pre>\n"
      ],
      "text/plain": [
       "Best mean reward: 4.98 - Last mean reward per episode: 4.78\n"
      ]
     },
     "metadata": {},
     "output_type": "display_data"
    },
    {
     "data": {
      "text/html": [
       "<pre style=\"white-space:pre;overflow-x:auto;line-height:normal;font-family:Menlo,'DejaVu Sans Mono',consolas,'Courier New',monospace\">Num timesteps: 22000\n",
       "</pre>\n"
      ],
      "text/plain": [
       "Num timesteps: 22000\n"
      ]
     },
     "metadata": {},
     "output_type": "display_data"
    },
    {
     "data": {
      "text/html": [
       "<pre style=\"white-space:pre;overflow-x:auto;line-height:normal;font-family:Menlo,'DejaVu Sans Mono',consolas,'Courier New',monospace\">Best mean reward: 4.98 - Last mean reward per episode: 5.48\n",
       "</pre>\n"
      ],
      "text/plain": [
       "Best mean reward: 4.98 - Last mean reward per episode: 5.48\n"
      ]
     },
     "metadata": {},
     "output_type": "display_data"
    },
    {
     "data": {
      "text/html": [
       "<pre style=\"white-space:pre;overflow-x:auto;line-height:normal;font-family:Menlo,'DejaVu Sans Mono',consolas,'Courier New',monospace\">Saving new best model to tmp/gym/multiinput_256/best_model.zip\n",
       "</pre>\n"
      ],
      "text/plain": [
       "Saving new best model to tmp/gym/multiinput_256/best_model.zip\n"
      ]
     },
     "metadata": {},
     "output_type": "display_data"
    },
    {
     "data": {
      "text/html": [
       "<pre style=\"white-space:pre;overflow-x:auto;line-height:normal;font-family:Menlo,'DejaVu Sans Mono',consolas,'Courier New',monospace\">Num timesteps: 23000\n",
       "</pre>\n"
      ],
      "text/plain": [
       "Num timesteps: 23000\n"
      ]
     },
     "metadata": {},
     "output_type": "display_data"
    },
    {
     "data": {
      "text/html": [
       "<pre style=\"white-space:pre;overflow-x:auto;line-height:normal;font-family:Menlo,'DejaVu Sans Mono',consolas,'Courier New',monospace\">Best mean reward: 5.48 - Last mean reward per episode: 5.37\n",
       "</pre>\n"
      ],
      "text/plain": [
       "Best mean reward: 5.48 - Last mean reward per episode: 5.37\n"
      ]
     },
     "metadata": {},
     "output_type": "display_data"
    },
    {
     "data": {
      "text/html": [
       "<pre style=\"white-space:pre;overflow-x:auto;line-height:normal;font-family:Menlo,'DejaVu Sans Mono',consolas,'Courier New',monospace\">Num timesteps: 24000\n",
       "</pre>\n"
      ],
      "text/plain": [
       "Num timesteps: 24000\n"
      ]
     },
     "metadata": {},
     "output_type": "display_data"
    },
    {
     "data": {
      "text/html": [
       "<pre style=\"white-space:pre;overflow-x:auto;line-height:normal;font-family:Menlo,'DejaVu Sans Mono',consolas,'Courier New',monospace\">Best mean reward: 5.48 - Last mean reward per episode: 5.35\n",
       "</pre>\n"
      ],
      "text/plain": [
       "Best mean reward: 5.48 - Last mean reward per episode: 5.35\n"
      ]
     },
     "metadata": {},
     "output_type": "display_data"
    },
    {
     "data": {
      "text/html": [
       "<pre style=\"white-space:pre;overflow-x:auto;line-height:normal;font-family:Menlo,'DejaVu Sans Mono',consolas,'Courier New',monospace\">Num timesteps: 25000\n",
       "</pre>\n"
      ],
      "text/plain": [
       "Num timesteps: 25000\n"
      ]
     },
     "metadata": {},
     "output_type": "display_data"
    },
    {
     "data": {
      "text/html": [
       "<pre style=\"white-space:pre;overflow-x:auto;line-height:normal;font-family:Menlo,'DejaVu Sans Mono',consolas,'Courier New',monospace\">Best mean reward: 5.48 - Last mean reward per episode: 5.26\n",
       "</pre>\n"
      ],
      "text/plain": [
       "Best mean reward: 5.48 - Last mean reward per episode: 5.26\n"
      ]
     },
     "metadata": {},
     "output_type": "display_data"
    },
    {
     "data": {
      "text/html": [
       "<pre style=\"white-space:pre;overflow-x:auto;line-height:normal;font-family:Menlo,'DejaVu Sans Mono',consolas,'Courier New',monospace\">Num timesteps: 26000\n",
       "</pre>\n"
      ],
      "text/plain": [
       "Num timesteps: 26000\n"
      ]
     },
     "metadata": {},
     "output_type": "display_data"
    },
    {
     "data": {
      "text/html": [
       "<pre style=\"white-space:pre;overflow-x:auto;line-height:normal;font-family:Menlo,'DejaVu Sans Mono',consolas,'Courier New',monospace\">Best mean reward: 5.48 - Last mean reward per episode: 5.58\n",
       "</pre>\n"
      ],
      "text/plain": [
       "Best mean reward: 5.48 - Last mean reward per episode: 5.58\n"
      ]
     },
     "metadata": {},
     "output_type": "display_data"
    },
    {
     "data": {
      "text/html": [
       "<pre style=\"white-space:pre;overflow-x:auto;line-height:normal;font-family:Menlo,'DejaVu Sans Mono',consolas,'Courier New',monospace\">Saving new best model to tmp/gym/multiinput_256/best_model.zip\n",
       "</pre>\n"
      ],
      "text/plain": [
       "Saving new best model to tmp/gym/multiinput_256/best_model.zip\n"
      ]
     },
     "metadata": {},
     "output_type": "display_data"
    },
    {
     "data": {
      "text/html": [
       "<pre style=\"white-space:pre;overflow-x:auto;line-height:normal;font-family:Menlo,'DejaVu Sans Mono',consolas,'Courier New',monospace\">Num timesteps: 27000\n",
       "</pre>\n"
      ],
      "text/plain": [
       "Num timesteps: 27000\n"
      ]
     },
     "metadata": {},
     "output_type": "display_data"
    },
    {
     "data": {
      "text/html": [
       "<pre style=\"white-space:pre;overflow-x:auto;line-height:normal;font-family:Menlo,'DejaVu Sans Mono',consolas,'Courier New',monospace\">Best mean reward: 5.58 - Last mean reward per episode: 5.66\n",
       "</pre>\n"
      ],
      "text/plain": [
       "Best mean reward: 5.58 - Last mean reward per episode: 5.66\n"
      ]
     },
     "metadata": {},
     "output_type": "display_data"
    },
    {
     "data": {
      "text/html": [
       "<pre style=\"white-space:pre;overflow-x:auto;line-height:normal;font-family:Menlo,'DejaVu Sans Mono',consolas,'Courier New',monospace\">Saving new best model to tmp/gym/multiinput_256/best_model.zip\n",
       "</pre>\n"
      ],
      "text/plain": [
       "Saving new best model to tmp/gym/multiinput_256/best_model.zip\n"
      ]
     },
     "metadata": {},
     "output_type": "display_data"
    },
    {
     "data": {
      "text/html": [
       "<pre style=\"white-space:pre;overflow-x:auto;line-height:normal;font-family:Menlo,'DejaVu Sans Mono',consolas,'Courier New',monospace\">Num timesteps: 28000\n",
       "</pre>\n"
      ],
      "text/plain": [
       "Num timesteps: 28000\n"
      ]
     },
     "metadata": {},
     "output_type": "display_data"
    },
    {
     "data": {
      "text/html": [
       "<pre style=\"white-space:pre;overflow-x:auto;line-height:normal;font-family:Menlo,'DejaVu Sans Mono',consolas,'Courier New',monospace\">Best mean reward: 5.66 - Last mean reward per episode: 5.66\n",
       "</pre>\n"
      ],
      "text/plain": [
       "Best mean reward: 5.66 - Last mean reward per episode: 5.66\n"
      ]
     },
     "metadata": {},
     "output_type": "display_data"
    },
    {
     "data": {
      "text/html": [
       "<pre style=\"white-space:pre;overflow-x:auto;line-height:normal;font-family:Menlo,'DejaVu Sans Mono',consolas,'Courier New',monospace\">Num timesteps: 29000\n",
       "</pre>\n"
      ],
      "text/plain": [
       "Num timesteps: 29000\n"
      ]
     },
     "metadata": {},
     "output_type": "display_data"
    },
    {
     "data": {
      "text/html": [
       "<pre style=\"white-space:pre;overflow-x:auto;line-height:normal;font-family:Menlo,'DejaVu Sans Mono',consolas,'Courier New',monospace\">Best mean reward: 5.66 - Last mean reward per episode: 5.77\n",
       "</pre>\n"
      ],
      "text/plain": [
       "Best mean reward: 5.66 - Last mean reward per episode: 5.77\n"
      ]
     },
     "metadata": {},
     "output_type": "display_data"
    },
    {
     "data": {
      "text/html": [
       "<pre style=\"white-space:pre;overflow-x:auto;line-height:normal;font-family:Menlo,'DejaVu Sans Mono',consolas,'Courier New',monospace\">Saving new best model to tmp/gym/multiinput_256/best_model.zip\n",
       "</pre>\n"
      ],
      "text/plain": [
       "Saving new best model to tmp/gym/multiinput_256/best_model.zip\n"
      ]
     },
     "metadata": {},
     "output_type": "display_data"
    },
    {
     "data": {
      "text/html": [
       "<pre style=\"white-space:pre;overflow-x:auto;line-height:normal;font-family:Menlo,'DejaVu Sans Mono',consolas,'Courier New',monospace\">Num timesteps: 30000\n",
       "</pre>\n"
      ],
      "text/plain": [
       "Num timesteps: 30000\n"
      ]
     },
     "metadata": {},
     "output_type": "display_data"
    },
    {
     "data": {
      "text/html": [
       "<pre style=\"white-space:pre;overflow-x:auto;line-height:normal;font-family:Menlo,'DejaVu Sans Mono',consolas,'Courier New',monospace\">Best mean reward: 5.77 - Last mean reward per episode: 6.09\n",
       "</pre>\n"
      ],
      "text/plain": [
       "Best mean reward: 5.77 - Last mean reward per episode: 6.09\n"
      ]
     },
     "metadata": {},
     "output_type": "display_data"
    },
    {
     "data": {
      "text/html": [
       "<pre style=\"white-space:pre;overflow-x:auto;line-height:normal;font-family:Menlo,'DejaVu Sans Mono',consolas,'Courier New',monospace\">Saving new best model to tmp/gym/multiinput_256/best_model.zip\n",
       "</pre>\n"
      ],
      "text/plain": [
       "Saving new best model to tmp/gym/multiinput_256/best_model.zip\n"
      ]
     },
     "metadata": {},
     "output_type": "display_data"
    },
    {
     "data": {
      "text/html": [
       "<pre style=\"white-space:pre;overflow-x:auto;line-height:normal;font-family:Menlo,'DejaVu Sans Mono',consolas,'Courier New',monospace\">Num timesteps: 31000\n",
       "</pre>\n"
      ],
      "text/plain": [
       "Num timesteps: 31000\n"
      ]
     },
     "metadata": {},
     "output_type": "display_data"
    },
    {
     "data": {
      "text/html": [
       "<pre style=\"white-space:pre;overflow-x:auto;line-height:normal;font-family:Menlo,'DejaVu Sans Mono',consolas,'Courier New',monospace\">Best mean reward: 6.09 - Last mean reward per episode: 6.21\n",
       "</pre>\n"
      ],
      "text/plain": [
       "Best mean reward: 6.09 - Last mean reward per episode: 6.21\n"
      ]
     },
     "metadata": {},
     "output_type": "display_data"
    },
    {
     "data": {
      "text/html": [
       "<pre style=\"white-space:pre;overflow-x:auto;line-height:normal;font-family:Menlo,'DejaVu Sans Mono',consolas,'Courier New',monospace\">Saving new best model to tmp/gym/multiinput_256/best_model.zip\n",
       "</pre>\n"
      ],
      "text/plain": [
       "Saving new best model to tmp/gym/multiinput_256/best_model.zip\n"
      ]
     },
     "metadata": {},
     "output_type": "display_data"
    },
    {
     "data": {
      "text/html": [
       "<pre style=\"white-space:pre;overflow-x:auto;line-height:normal;font-family:Menlo,'DejaVu Sans Mono',consolas,'Courier New',monospace\">Num timesteps: 32000\n",
       "</pre>\n"
      ],
      "text/plain": [
       "Num timesteps: 32000\n"
      ]
     },
     "metadata": {},
     "output_type": "display_data"
    },
    {
     "data": {
      "text/html": [
       "<pre style=\"white-space:pre;overflow-x:auto;line-height:normal;font-family:Menlo,'DejaVu Sans Mono',consolas,'Courier New',monospace\">Best mean reward: 6.21 - Last mean reward per episode: 6.17\n",
       "</pre>\n"
      ],
      "text/plain": [
       "Best mean reward: 6.21 - Last mean reward per episode: 6.17\n"
      ]
     },
     "metadata": {},
     "output_type": "display_data"
    },
    {
     "data": {
      "text/html": [
       "<pre style=\"white-space:pre;overflow-x:auto;line-height:normal;font-family:Menlo,'DejaVu Sans Mono',consolas,'Courier New',monospace\">Num timesteps: 33000\n",
       "</pre>\n"
      ],
      "text/plain": [
       "Num timesteps: 33000\n"
      ]
     },
     "metadata": {},
     "output_type": "display_data"
    },
    {
     "data": {
      "text/html": [
       "<pre style=\"white-space:pre;overflow-x:auto;line-height:normal;font-family:Menlo,'DejaVu Sans Mono',consolas,'Courier New',monospace\">Best mean reward: 6.21 - Last mean reward per episode: 6.76\n",
       "</pre>\n"
      ],
      "text/plain": [
       "Best mean reward: 6.21 - Last mean reward per episode: 6.76\n"
      ]
     },
     "metadata": {},
     "output_type": "display_data"
    },
    {
     "data": {
      "text/html": [
       "<pre style=\"white-space:pre;overflow-x:auto;line-height:normal;font-family:Menlo,'DejaVu Sans Mono',consolas,'Courier New',monospace\">Saving new best model to tmp/gym/multiinput_256/best_model.zip\n",
       "</pre>\n"
      ],
      "text/plain": [
       "Saving new best model to tmp/gym/multiinput_256/best_model.zip\n"
      ]
     },
     "metadata": {},
     "output_type": "display_data"
    },
    {
     "data": {
      "text/html": [
       "<pre style=\"white-space:pre;overflow-x:auto;line-height:normal;font-family:Menlo,'DejaVu Sans Mono',consolas,'Courier New',monospace\">Num timesteps: 34000\n",
       "</pre>\n"
      ],
      "text/plain": [
       "Num timesteps: 34000\n"
      ]
     },
     "metadata": {},
     "output_type": "display_data"
    },
    {
     "data": {
      "text/html": [
       "<pre style=\"white-space:pre;overflow-x:auto;line-height:normal;font-family:Menlo,'DejaVu Sans Mono',consolas,'Courier New',monospace\">Best mean reward: 6.76 - Last mean reward per episode: 6.74\n",
       "</pre>\n"
      ],
      "text/plain": [
       "Best mean reward: 6.76 - Last mean reward per episode: 6.74\n"
      ]
     },
     "metadata": {},
     "output_type": "display_data"
    },
    {
     "data": {
      "text/html": [
       "<pre style=\"white-space:pre;overflow-x:auto;line-height:normal;font-family:Menlo,'DejaVu Sans Mono',consolas,'Courier New',monospace\">Num timesteps: 35000\n",
       "</pre>\n"
      ],
      "text/plain": [
       "Num timesteps: 35000\n"
      ]
     },
     "metadata": {},
     "output_type": "display_data"
    },
    {
     "data": {
      "text/html": [
       "<pre style=\"white-space:pre;overflow-x:auto;line-height:normal;font-family:Menlo,'DejaVu Sans Mono',consolas,'Courier New',monospace\">Best mean reward: 6.76 - Last mean reward per episode: 6.85\n",
       "</pre>\n"
      ],
      "text/plain": [
       "Best mean reward: 6.76 - Last mean reward per episode: 6.85\n"
      ]
     },
     "metadata": {},
     "output_type": "display_data"
    },
    {
     "data": {
      "text/html": [
       "<pre style=\"white-space:pre;overflow-x:auto;line-height:normal;font-family:Menlo,'DejaVu Sans Mono',consolas,'Courier New',monospace\">Saving new best model to tmp/gym/multiinput_256/best_model.zip\n",
       "</pre>\n"
      ],
      "text/plain": [
       "Saving new best model to tmp/gym/multiinput_256/best_model.zip\n"
      ]
     },
     "metadata": {},
     "output_type": "display_data"
    },
    {
     "data": {
      "text/html": [
       "<pre style=\"white-space:pre;overflow-x:auto;line-height:normal;font-family:Menlo,'DejaVu Sans Mono',consolas,'Courier New',monospace\">Num timesteps: 36000\n",
       "</pre>\n"
      ],
      "text/plain": [
       "Num timesteps: 36000\n"
      ]
     },
     "metadata": {},
     "output_type": "display_data"
    },
    {
     "data": {
      "text/html": [
       "<pre style=\"white-space:pre;overflow-x:auto;line-height:normal;font-family:Menlo,'DejaVu Sans Mono',consolas,'Courier New',monospace\">Best mean reward: 6.85 - Last mean reward per episode: 7.04\n",
       "</pre>\n"
      ],
      "text/plain": [
       "Best mean reward: 6.85 - Last mean reward per episode: 7.04\n"
      ]
     },
     "metadata": {},
     "output_type": "display_data"
    },
    {
     "data": {
      "text/html": [
       "<pre style=\"white-space:pre;overflow-x:auto;line-height:normal;font-family:Menlo,'DejaVu Sans Mono',consolas,'Courier New',monospace\">Saving new best model to tmp/gym/multiinput_256/best_model.zip\n",
       "</pre>\n"
      ],
      "text/plain": [
       "Saving new best model to tmp/gym/multiinput_256/best_model.zip\n"
      ]
     },
     "metadata": {},
     "output_type": "display_data"
    },
    {
     "data": {
      "text/html": [
       "<pre style=\"white-space:pre;overflow-x:auto;line-height:normal;font-family:Menlo,'DejaVu Sans Mono',consolas,'Courier New',monospace\">Num timesteps: 37000\n",
       "</pre>\n"
      ],
      "text/plain": [
       "Num timesteps: 37000\n"
      ]
     },
     "metadata": {},
     "output_type": "display_data"
    },
    {
     "data": {
      "text/html": [
       "<pre style=\"white-space:pre;overflow-x:auto;line-height:normal;font-family:Menlo,'DejaVu Sans Mono',consolas,'Courier New',monospace\">Best mean reward: 7.04 - Last mean reward per episode: 7.10\n",
       "</pre>\n"
      ],
      "text/plain": [
       "Best mean reward: 7.04 - Last mean reward per episode: 7.10\n"
      ]
     },
     "metadata": {},
     "output_type": "display_data"
    },
    {
     "data": {
      "text/html": [
       "<pre style=\"white-space:pre;overflow-x:auto;line-height:normal;font-family:Menlo,'DejaVu Sans Mono',consolas,'Courier New',monospace\">Saving new best model to tmp/gym/multiinput_256/best_model.zip\n",
       "</pre>\n"
      ],
      "text/plain": [
       "Saving new best model to tmp/gym/multiinput_256/best_model.zip\n"
      ]
     },
     "metadata": {},
     "output_type": "display_data"
    },
    {
     "data": {
      "text/html": [
       "<pre style=\"white-space:pre;overflow-x:auto;line-height:normal;font-family:Menlo,'DejaVu Sans Mono',consolas,'Courier New',monospace\">Num timesteps: 38000\n",
       "</pre>\n"
      ],
      "text/plain": [
       "Num timesteps: 38000\n"
      ]
     },
     "metadata": {},
     "output_type": "display_data"
    },
    {
     "data": {
      "text/html": [
       "<pre style=\"white-space:pre;overflow-x:auto;line-height:normal;font-family:Menlo,'DejaVu Sans Mono',consolas,'Courier New',monospace\">Best mean reward: 7.10 - Last mean reward per episode: 7.14\n",
       "</pre>\n"
      ],
      "text/plain": [
       "Best mean reward: 7.10 - Last mean reward per episode: 7.14\n"
      ]
     },
     "metadata": {},
     "output_type": "display_data"
    },
    {
     "data": {
      "text/html": [
       "<pre style=\"white-space:pre;overflow-x:auto;line-height:normal;font-family:Menlo,'DejaVu Sans Mono',consolas,'Courier New',monospace\">Saving new best model to tmp/gym/multiinput_256/best_model.zip\n",
       "</pre>\n"
      ],
      "text/plain": [
       "Saving new best model to tmp/gym/multiinput_256/best_model.zip\n"
      ]
     },
     "metadata": {},
     "output_type": "display_data"
    },
    {
     "data": {
      "text/html": [
       "<pre style=\"white-space:pre;overflow-x:auto;line-height:normal;font-family:Menlo,'DejaVu Sans Mono',consolas,'Courier New',monospace\">Num timesteps: 39000\n",
       "</pre>\n"
      ],
      "text/plain": [
       "Num timesteps: 39000\n"
      ]
     },
     "metadata": {},
     "output_type": "display_data"
    },
    {
     "data": {
      "text/html": [
       "<pre style=\"white-space:pre;overflow-x:auto;line-height:normal;font-family:Menlo,'DejaVu Sans Mono',consolas,'Courier New',monospace\">Best mean reward: 7.14 - Last mean reward per episode: 8.01\n",
       "</pre>\n"
      ],
      "text/plain": [
       "Best mean reward: 7.14 - Last mean reward per episode: 8.01\n"
      ]
     },
     "metadata": {},
     "output_type": "display_data"
    },
    {
     "data": {
      "text/html": [
       "<pre style=\"white-space:pre;overflow-x:auto;line-height:normal;font-family:Menlo,'DejaVu Sans Mono',consolas,'Courier New',monospace\">Saving new best model to tmp/gym/multiinput_256/best_model.zip\n",
       "</pre>\n"
      ],
      "text/plain": [
       "Saving new best model to tmp/gym/multiinput_256/best_model.zip\n"
      ]
     },
     "metadata": {},
     "output_type": "display_data"
    },
    {
     "data": {
      "text/html": [
       "<pre style=\"white-space:pre;overflow-x:auto;line-height:normal;font-family:Menlo,'DejaVu Sans Mono',consolas,'Courier New',monospace\">Num timesteps: 40000\n",
       "</pre>\n"
      ],
      "text/plain": [
       "Num timesteps: 40000\n"
      ]
     },
     "metadata": {},
     "output_type": "display_data"
    },
    {
     "data": {
      "text/html": [
       "<pre style=\"white-space:pre;overflow-x:auto;line-height:normal;font-family:Menlo,'DejaVu Sans Mono',consolas,'Courier New',monospace\">Best mean reward: 8.01 - Last mean reward per episode: 8.22\n",
       "</pre>\n"
      ],
      "text/plain": [
       "Best mean reward: 8.01 - Last mean reward per episode: 8.22\n"
      ]
     },
     "metadata": {},
     "output_type": "display_data"
    },
    {
     "data": {
      "text/html": [
       "<pre style=\"white-space:pre;overflow-x:auto;line-height:normal;font-family:Menlo,'DejaVu Sans Mono',consolas,'Courier New',monospace\">Saving new best model to tmp/gym/multiinput_256/best_model.zip\n",
       "</pre>\n"
      ],
      "text/plain": [
       "Saving new best model to tmp/gym/multiinput_256/best_model.zip\n"
      ]
     },
     "metadata": {},
     "output_type": "display_data"
    },
    {
     "name": "stdout",
     "output_type": "stream",
     "text": [
      "-----------------------------------------\n",
      "| rollout/                |             |\n",
      "|    ep_len_mean          | 500         |\n",
      "|    ep_rew_mean          | 8.4         |\n",
      "| time/                   |             |\n",
      "|    fps                  | 91          |\n",
      "|    iterations           | 20          |\n",
      "|    time_elapsed         | 447         |\n",
      "|    total_timesteps      | 40960       |\n",
      "| train/                  |             |\n",
      "|    approx_kl            | 0.111041635 |\n",
      "|    clip_fraction        | 0.477       |\n",
      "|    clip_range           | 0.2         |\n",
      "|    entropy_loss         | -9.69       |\n",
      "|    explained_variance   | 0.345       |\n",
      "|    learning_rate        | 0.0003      |\n",
      "|    loss                 | -0.0166     |\n",
      "|    n_updates            | 190         |\n",
      "|    policy_gradient_loss | -0.0553     |\n",
      "|    std                  | 0.966       |\n",
      "|    value_loss           | 0.269       |\n",
      "-----------------------------------------\n"
     ]
    },
    {
     "data": {
      "text/html": [
       "<pre style=\"white-space:pre;overflow-x:auto;line-height:normal;font-family:Menlo,'DejaVu Sans Mono',consolas,'Courier New',monospace\">Num timesteps: 41000\n",
       "</pre>\n"
      ],
      "text/plain": [
       "Num timesteps: 41000\n"
      ]
     },
     "metadata": {},
     "output_type": "display_data"
    },
    {
     "data": {
      "text/html": [
       "<pre style=\"white-space:pre;overflow-x:auto;line-height:normal;font-family:Menlo,'DejaVu Sans Mono',consolas,'Courier New',monospace\">Best mean reward: 8.22 - Last mean reward per episode: 8.89\n",
       "</pre>\n"
      ],
      "text/plain": [
       "Best mean reward: 8.22 - Last mean reward per episode: 8.89\n"
      ]
     },
     "metadata": {},
     "output_type": "display_data"
    },
    {
     "data": {
      "text/html": [
       "<pre style=\"white-space:pre;overflow-x:auto;line-height:normal;font-family:Menlo,'DejaVu Sans Mono',consolas,'Courier New',monospace\">Saving new best model to tmp/gym/multiinput_256/best_model.zip\n",
       "</pre>\n"
      ],
      "text/plain": [
       "Saving new best model to tmp/gym/multiinput_256/best_model.zip\n"
      ]
     },
     "metadata": {},
     "output_type": "display_data"
    },
    {
     "data": {
      "text/html": [
       "<pre style=\"white-space:pre;overflow-x:auto;line-height:normal;font-family:Menlo,'DejaVu Sans Mono',consolas,'Courier New',monospace\">Num timesteps: 42000\n",
       "</pre>\n"
      ],
      "text/plain": [
       "Num timesteps: 42000\n"
      ]
     },
     "metadata": {},
     "output_type": "display_data"
    },
    {
     "data": {
      "text/html": [
       "<pre style=\"white-space:pre;overflow-x:auto;line-height:normal;font-family:Menlo,'DejaVu Sans Mono',consolas,'Courier New',monospace\">Best mean reward: 8.89 - Last mean reward per episode: 8.88\n",
       "</pre>\n"
      ],
      "text/plain": [
       "Best mean reward: 8.89 - Last mean reward per episode: 8.88\n"
      ]
     },
     "metadata": {},
     "output_type": "display_data"
    },
    {
     "data": {
      "text/html": [
       "<pre style=\"white-space:pre;overflow-x:auto;line-height:normal;font-family:Menlo,'DejaVu Sans Mono',consolas,'Courier New',monospace\">Num timesteps: 43000\n",
       "</pre>\n"
      ],
      "text/plain": [
       "Num timesteps: 43000\n"
      ]
     },
     "metadata": {},
     "output_type": "display_data"
    },
    {
     "data": {
      "text/html": [
       "<pre style=\"white-space:pre;overflow-x:auto;line-height:normal;font-family:Menlo,'DejaVu Sans Mono',consolas,'Courier New',monospace\">Best mean reward: 8.89 - Last mean reward per episode: 8.73\n",
       "</pre>\n"
      ],
      "text/plain": [
       "Best mean reward: 8.89 - Last mean reward per episode: 8.73\n"
      ]
     },
     "metadata": {},
     "output_type": "display_data"
    },
    {
     "data": {
      "text/html": [
       "<pre style=\"white-space:pre;overflow-x:auto;line-height:normal;font-family:Menlo,'DejaVu Sans Mono',consolas,'Courier New',monospace\">Num timesteps: 44000\n",
       "</pre>\n"
      ],
      "text/plain": [
       "Num timesteps: 44000\n"
      ]
     },
     "metadata": {},
     "output_type": "display_data"
    },
    {
     "data": {
      "text/html": [
       "<pre style=\"white-space:pre;overflow-x:auto;line-height:normal;font-family:Menlo,'DejaVu Sans Mono',consolas,'Courier New',monospace\">Best mean reward: 8.89 - Last mean reward per episode: 9.10\n",
       "</pre>\n"
      ],
      "text/plain": [
       "Best mean reward: 8.89 - Last mean reward per episode: 9.10\n"
      ]
     },
     "metadata": {},
     "output_type": "display_data"
    },
    {
     "data": {
      "text/html": [
       "<pre style=\"white-space:pre;overflow-x:auto;line-height:normal;font-family:Menlo,'DejaVu Sans Mono',consolas,'Courier New',monospace\">Saving new best model to tmp/gym/multiinput_256/best_model.zip\n",
       "</pre>\n"
      ],
      "text/plain": [
       "Saving new best model to tmp/gym/multiinput_256/best_model.zip\n"
      ]
     },
     "metadata": {},
     "output_type": "display_data"
    },
    {
     "data": {
      "text/html": [
       "<pre style=\"white-space:pre;overflow-x:auto;line-height:normal;font-family:Menlo,'DejaVu Sans Mono',consolas,'Courier New',monospace\">Num timesteps: 45000\n",
       "</pre>\n"
      ],
      "text/plain": [
       "Num timesteps: 45000\n"
      ]
     },
     "metadata": {},
     "output_type": "display_data"
    },
    {
     "data": {
      "text/html": [
       "<pre style=\"white-space:pre;overflow-x:auto;line-height:normal;font-family:Menlo,'DejaVu Sans Mono',consolas,'Courier New',monospace\">Best mean reward: 9.10 - Last mean reward per episode: 10.01\n",
       "</pre>\n"
      ],
      "text/plain": [
       "Best mean reward: 9.10 - Last mean reward per episode: 10.01\n"
      ]
     },
     "metadata": {},
     "output_type": "display_data"
    },
    {
     "data": {
      "text/html": [
       "<pre style=\"white-space:pre;overflow-x:auto;line-height:normal;font-family:Menlo,'DejaVu Sans Mono',consolas,'Courier New',monospace\">Saving new best model to tmp/gym/multiinput_256/best_model.zip\n",
       "</pre>\n"
      ],
      "text/plain": [
       "Saving new best model to tmp/gym/multiinput_256/best_model.zip\n"
      ]
     },
     "metadata": {},
     "output_type": "display_data"
    },
    {
     "data": {
      "text/html": [
       "<pre style=\"white-space:pre;overflow-x:auto;line-height:normal;font-family:Menlo,'DejaVu Sans Mono',consolas,'Courier New',monospace\">Num timesteps: 46000\n",
       "</pre>\n"
      ],
      "text/plain": [
       "Num timesteps: 46000\n"
      ]
     },
     "metadata": {},
     "output_type": "display_data"
    },
    {
     "data": {
      "text/html": [
       "<pre style=\"white-space:pre;overflow-x:auto;line-height:normal;font-family:Menlo,'DejaVu Sans Mono',consolas,'Courier New',monospace\">Best mean reward: 10.01 - Last mean reward per episode: 9.98\n",
       "</pre>\n"
      ],
      "text/plain": [
       "Best mean reward: 10.01 - Last mean reward per episode: 9.98\n"
      ]
     },
     "metadata": {},
     "output_type": "display_data"
    },
    {
     "data": {
      "text/html": [
       "<pre style=\"white-space:pre;overflow-x:auto;line-height:normal;font-family:Menlo,'DejaVu Sans Mono',consolas,'Courier New',monospace\">Num timesteps: 47000\n",
       "</pre>\n"
      ],
      "text/plain": [
       "Num timesteps: 47000\n"
      ]
     },
     "metadata": {},
     "output_type": "display_data"
    },
    {
     "data": {
      "text/html": [
       "<pre style=\"white-space:pre;overflow-x:auto;line-height:normal;font-family:Menlo,'DejaVu Sans Mono',consolas,'Courier New',monospace\">Best mean reward: 10.01 - Last mean reward per episode: 10.08\n",
       "</pre>\n"
      ],
      "text/plain": [
       "Best mean reward: 10.01 - Last mean reward per episode: 10.08\n"
      ]
     },
     "metadata": {},
     "output_type": "display_data"
    },
    {
     "data": {
      "text/html": [
       "<pre style=\"white-space:pre;overflow-x:auto;line-height:normal;font-family:Menlo,'DejaVu Sans Mono',consolas,'Courier New',monospace\">Saving new best model to tmp/gym/multiinput_256/best_model.zip\n",
       "</pre>\n"
      ],
      "text/plain": [
       "Saving new best model to tmp/gym/multiinput_256/best_model.zip\n"
      ]
     },
     "metadata": {},
     "output_type": "display_data"
    },
    {
     "data": {
      "text/html": [
       "<pre style=\"white-space:pre;overflow-x:auto;line-height:normal;font-family:Menlo,'DejaVu Sans Mono',consolas,'Courier New',monospace\">Num timesteps: 48000\n",
       "</pre>\n"
      ],
      "text/plain": [
       "Num timesteps: 48000\n"
      ]
     },
     "metadata": {},
     "output_type": "display_data"
    },
    {
     "data": {
      "text/html": [
       "<pre style=\"white-space:pre;overflow-x:auto;line-height:normal;font-family:Menlo,'DejaVu Sans Mono',consolas,'Courier New',monospace\">Best mean reward: 10.08 - Last mean reward per episode: 10.70\n",
       "</pre>\n"
      ],
      "text/plain": [
       "Best mean reward: 10.08 - Last mean reward per episode: 10.70\n"
      ]
     },
     "metadata": {},
     "output_type": "display_data"
    },
    {
     "data": {
      "text/html": [
       "<pre style=\"white-space:pre;overflow-x:auto;line-height:normal;font-family:Menlo,'DejaVu Sans Mono',consolas,'Courier New',monospace\">Saving new best model to tmp/gym/multiinput_256/best_model.zip\n",
       "</pre>\n"
      ],
      "text/plain": [
       "Saving new best model to tmp/gym/multiinput_256/best_model.zip\n"
      ]
     },
     "metadata": {},
     "output_type": "display_data"
    },
    {
     "data": {
      "text/html": [
       "<pre style=\"white-space:pre;overflow-x:auto;line-height:normal;font-family:Menlo,'DejaVu Sans Mono',consolas,'Courier New',monospace\">Num timesteps: 49000\n",
       "</pre>\n"
      ],
      "text/plain": [
       "Num timesteps: 49000\n"
      ]
     },
     "metadata": {},
     "output_type": "display_data"
    },
    {
     "data": {
      "text/html": [
       "<pre style=\"white-space:pre;overflow-x:auto;line-height:normal;font-family:Menlo,'DejaVu Sans Mono',consolas,'Courier New',monospace\">Best mean reward: 10.70 - Last mean reward per episode: 10.54\n",
       "</pre>\n"
      ],
      "text/plain": [
       "Best mean reward: 10.70 - Last mean reward per episode: 10.54\n"
      ]
     },
     "metadata": {},
     "output_type": "display_data"
    },
    {
     "data": {
      "text/html": [
       "<pre style=\"white-space:pre;overflow-x:auto;line-height:normal;font-family:Menlo,'DejaVu Sans Mono',consolas,'Courier New',monospace\">Num timesteps: 50000\n",
       "</pre>\n"
      ],
      "text/plain": [
       "Num timesteps: 50000\n"
      ]
     },
     "metadata": {},
     "output_type": "display_data"
    },
    {
     "data": {
      "text/html": [
       "<pre style=\"white-space:pre;overflow-x:auto;line-height:normal;font-family:Menlo,'DejaVu Sans Mono',consolas,'Courier New',monospace\">Best mean reward: 10.70 - Last mean reward per episode: 10.62\n",
       "</pre>\n"
      ],
      "text/plain": [
       "Best mean reward: 10.70 - Last mean reward per episode: 10.62\n"
      ]
     },
     "metadata": {},
     "output_type": "display_data"
    },
    {
     "data": {
      "text/html": [
       "<pre style=\"white-space:pre;overflow-x:auto;line-height:normal;font-family:Menlo,'DejaVu Sans Mono',consolas,'Courier New',monospace\">Num timesteps: 51000\n",
       "</pre>\n"
      ],
      "text/plain": [
       "Num timesteps: 51000\n"
      ]
     },
     "metadata": {},
     "output_type": "display_data"
    },
    {
     "data": {
      "text/html": [
       "<pre style=\"white-space:pre;overflow-x:auto;line-height:normal;font-family:Menlo,'DejaVu Sans Mono',consolas,'Courier New',monospace\">Best mean reward: 10.70 - Last mean reward per episode: 11.18\n",
       "</pre>\n"
      ],
      "text/plain": [
       "Best mean reward: 10.70 - Last mean reward per episode: 11.18\n"
      ]
     },
     "metadata": {},
     "output_type": "display_data"
    },
    {
     "data": {
      "text/html": [
       "<pre style=\"white-space:pre;overflow-x:auto;line-height:normal;font-family:Menlo,'DejaVu Sans Mono',consolas,'Courier New',monospace\">Saving new best model to tmp/gym/multiinput_256/best_model.zip\n",
       "</pre>\n"
      ],
      "text/plain": [
       "Saving new best model to tmp/gym/multiinput_256/best_model.zip\n"
      ]
     },
     "metadata": {},
     "output_type": "display_data"
    },
    {
     "data": {
      "text/html": [
       "<pre style=\"white-space:pre;overflow-x:auto;line-height:normal;font-family:Menlo,'DejaVu Sans Mono',consolas,'Courier New',monospace\">Num timesteps: 52000\n",
       "</pre>\n"
      ],
      "text/plain": [
       "Num timesteps: 52000\n"
      ]
     },
     "metadata": {},
     "output_type": "display_data"
    },
    {
     "data": {
      "text/html": [
       "<pre style=\"white-space:pre;overflow-x:auto;line-height:normal;font-family:Menlo,'DejaVu Sans Mono',consolas,'Courier New',monospace\">Best mean reward: 11.18 - Last mean reward per episode: 12.14\n",
       "</pre>\n"
      ],
      "text/plain": [
       "Best mean reward: 11.18 - Last mean reward per episode: 12.14\n"
      ]
     },
     "metadata": {},
     "output_type": "display_data"
    },
    {
     "data": {
      "text/html": [
       "<pre style=\"white-space:pre;overflow-x:auto;line-height:normal;font-family:Menlo,'DejaVu Sans Mono',consolas,'Courier New',monospace\">Saving new best model to tmp/gym/multiinput_256/best_model.zip\n",
       "</pre>\n"
      ],
      "text/plain": [
       "Saving new best model to tmp/gym/multiinput_256/best_model.zip\n"
      ]
     },
     "metadata": {},
     "output_type": "display_data"
    },
    {
     "data": {
      "text/html": [
       "<pre style=\"white-space:pre;overflow-x:auto;line-height:normal;font-family:Menlo,'DejaVu Sans Mono',consolas,'Courier New',monospace\">Num timesteps: 53000\n",
       "</pre>\n"
      ],
      "text/plain": [
       "Num timesteps: 53000\n"
      ]
     },
     "metadata": {},
     "output_type": "display_data"
    },
    {
     "data": {
      "text/html": [
       "<pre style=\"white-space:pre;overflow-x:auto;line-height:normal;font-family:Menlo,'DejaVu Sans Mono',consolas,'Courier New',monospace\">Best mean reward: 12.14 - Last mean reward per episode: 13.61\n",
       "</pre>\n"
      ],
      "text/plain": [
       "Best mean reward: 12.14 - Last mean reward per episode: 13.61\n"
      ]
     },
     "metadata": {},
     "output_type": "display_data"
    },
    {
     "data": {
      "text/html": [
       "<pre style=\"white-space:pre;overflow-x:auto;line-height:normal;font-family:Menlo,'DejaVu Sans Mono',consolas,'Courier New',monospace\">Saving new best model to tmp/gym/multiinput_256/best_model.zip\n",
       "</pre>\n"
      ],
      "text/plain": [
       "Saving new best model to tmp/gym/multiinput_256/best_model.zip\n"
      ]
     },
     "metadata": {},
     "output_type": "display_data"
    },
    {
     "data": {
      "text/html": [
       "<pre style=\"white-space:pre;overflow-x:auto;line-height:normal;font-family:Menlo,'DejaVu Sans Mono',consolas,'Courier New',monospace\">Num timesteps: 54000\n",
       "</pre>\n"
      ],
      "text/plain": [
       "Num timesteps: 54000\n"
      ]
     },
     "metadata": {},
     "output_type": "display_data"
    },
    {
     "data": {
      "text/html": [
       "<pre style=\"white-space:pre;overflow-x:auto;line-height:normal;font-family:Menlo,'DejaVu Sans Mono',consolas,'Courier New',monospace\">Best mean reward: 13.61 - Last mean reward per episode: 14.36\n",
       "</pre>\n"
      ],
      "text/plain": [
       "Best mean reward: 13.61 - Last mean reward per episode: 14.36\n"
      ]
     },
     "metadata": {},
     "output_type": "display_data"
    },
    {
     "data": {
      "text/html": [
       "<pre style=\"white-space:pre;overflow-x:auto;line-height:normal;font-family:Menlo,'DejaVu Sans Mono',consolas,'Courier New',monospace\">Saving new best model to tmp/gym/multiinput_256/best_model.zip\n",
       "</pre>\n"
      ],
      "text/plain": [
       "Saving new best model to tmp/gym/multiinput_256/best_model.zip\n"
      ]
     },
     "metadata": {},
     "output_type": "display_data"
    },
    {
     "data": {
      "text/html": [
       "<pre style=\"white-space:pre;overflow-x:auto;line-height:normal;font-family:Menlo,'DejaVu Sans Mono',consolas,'Courier New',monospace\">Num timesteps: 55000\n",
       "</pre>\n"
      ],
      "text/plain": [
       "Num timesteps: 55000\n"
      ]
     },
     "metadata": {},
     "output_type": "display_data"
    },
    {
     "data": {
      "text/html": [
       "<pre style=\"white-space:pre;overflow-x:auto;line-height:normal;font-family:Menlo,'DejaVu Sans Mono',consolas,'Courier New',monospace\">Best mean reward: 14.36 - Last mean reward per episode: 15.01\n",
       "</pre>\n"
      ],
      "text/plain": [
       "Best mean reward: 14.36 - Last mean reward per episode: 15.01\n"
      ]
     },
     "metadata": {},
     "output_type": "display_data"
    },
    {
     "data": {
      "text/html": [
       "<pre style=\"white-space:pre;overflow-x:auto;line-height:normal;font-family:Menlo,'DejaVu Sans Mono',consolas,'Courier New',monospace\">Saving new best model to tmp/gym/multiinput_256/best_model.zip\n",
       "</pre>\n"
      ],
      "text/plain": [
       "Saving new best model to tmp/gym/multiinput_256/best_model.zip\n"
      ]
     },
     "metadata": {},
     "output_type": "display_data"
    },
    {
     "data": {
      "text/html": [
       "<pre style=\"white-space:pre;overflow-x:auto;line-height:normal;font-family:Menlo,'DejaVu Sans Mono',consolas,'Courier New',monospace\">Num timesteps: 56000\n",
       "</pre>\n"
      ],
      "text/plain": [
       "Num timesteps: 56000\n"
      ]
     },
     "metadata": {},
     "output_type": "display_data"
    },
    {
     "data": {
      "text/html": [
       "<pre style=\"white-space:pre;overflow-x:auto;line-height:normal;font-family:Menlo,'DejaVu Sans Mono',consolas,'Courier New',monospace\">Best mean reward: 15.01 - Last mean reward per episode: 15.15\n",
       "</pre>\n"
      ],
      "text/plain": [
       "Best mean reward: 15.01 - Last mean reward per episode: 15.15\n"
      ]
     },
     "metadata": {},
     "output_type": "display_data"
    },
    {
     "data": {
      "text/html": [
       "<pre style=\"white-space:pre;overflow-x:auto;line-height:normal;font-family:Menlo,'DejaVu Sans Mono',consolas,'Courier New',monospace\">Saving new best model to tmp/gym/multiinput_256/best_model.zip\n",
       "</pre>\n"
      ],
      "text/plain": [
       "Saving new best model to tmp/gym/multiinput_256/best_model.zip\n"
      ]
     },
     "metadata": {},
     "output_type": "display_data"
    },
    {
     "data": {
      "text/html": [
       "<pre style=\"white-space:pre;overflow-x:auto;line-height:normal;font-family:Menlo,'DejaVu Sans Mono',consolas,'Courier New',monospace\">Num timesteps: 57000\n",
       "</pre>\n"
      ],
      "text/plain": [
       "Num timesteps: 57000\n"
      ]
     },
     "metadata": {},
     "output_type": "display_data"
    },
    {
     "data": {
      "text/html": [
       "<pre style=\"white-space:pre;overflow-x:auto;line-height:normal;font-family:Menlo,'DejaVu Sans Mono',consolas,'Courier New',monospace\">Best mean reward: 15.15 - Last mean reward per episode: 15.48\n",
       "</pre>\n"
      ],
      "text/plain": [
       "Best mean reward: 15.15 - Last mean reward per episode: 15.48\n"
      ]
     },
     "metadata": {},
     "output_type": "display_data"
    },
    {
     "data": {
      "text/html": [
       "<pre style=\"white-space:pre;overflow-x:auto;line-height:normal;font-family:Menlo,'DejaVu Sans Mono',consolas,'Courier New',monospace\">Saving new best model to tmp/gym/multiinput_256/best_model.zip\n",
       "</pre>\n"
      ],
      "text/plain": [
       "Saving new best model to tmp/gym/multiinput_256/best_model.zip\n"
      ]
     },
     "metadata": {},
     "output_type": "display_data"
    },
    {
     "data": {
      "text/html": [
       "<pre style=\"white-space:pre;overflow-x:auto;line-height:normal;font-family:Menlo,'DejaVu Sans Mono',consolas,'Courier New',monospace\">Num timesteps: 58000\n",
       "</pre>\n"
      ],
      "text/plain": [
       "Num timesteps: 58000\n"
      ]
     },
     "metadata": {},
     "output_type": "display_data"
    },
    {
     "data": {
      "text/html": [
       "<pre style=\"white-space:pre;overflow-x:auto;line-height:normal;font-family:Menlo,'DejaVu Sans Mono',consolas,'Courier New',monospace\">Best mean reward: 15.48 - Last mean reward per episode: 16.15\n",
       "</pre>\n"
      ],
      "text/plain": [
       "Best mean reward: 15.48 - Last mean reward per episode: 16.15\n"
      ]
     },
     "metadata": {},
     "output_type": "display_data"
    },
    {
     "data": {
      "text/html": [
       "<pre style=\"white-space:pre;overflow-x:auto;line-height:normal;font-family:Menlo,'DejaVu Sans Mono',consolas,'Courier New',monospace\">Saving new best model to tmp/gym/multiinput_256/best_model.zip\n",
       "</pre>\n"
      ],
      "text/plain": [
       "Saving new best model to tmp/gym/multiinput_256/best_model.zip\n"
      ]
     },
     "metadata": {},
     "output_type": "display_data"
    },
    {
     "data": {
      "text/html": [
       "<pre style=\"white-space:pre;overflow-x:auto;line-height:normal;font-family:Menlo,'DejaVu Sans Mono',consolas,'Courier New',monospace\">Num timesteps: 59000\n",
       "</pre>\n"
      ],
      "text/plain": [
       "Num timesteps: 59000\n"
      ]
     },
     "metadata": {},
     "output_type": "display_data"
    },
    {
     "data": {
      "text/html": [
       "<pre style=\"white-space:pre;overflow-x:auto;line-height:normal;font-family:Menlo,'DejaVu Sans Mono',consolas,'Courier New',monospace\">Best mean reward: 16.15 - Last mean reward per episode: 16.57\n",
       "</pre>\n"
      ],
      "text/plain": [
       "Best mean reward: 16.15 - Last mean reward per episode: 16.57\n"
      ]
     },
     "metadata": {},
     "output_type": "display_data"
    },
    {
     "data": {
      "text/html": [
       "<pre style=\"white-space:pre;overflow-x:auto;line-height:normal;font-family:Menlo,'DejaVu Sans Mono',consolas,'Courier New',monospace\">Saving new best model to tmp/gym/multiinput_256/best_model.zip\n",
       "</pre>\n"
      ],
      "text/plain": [
       "Saving new best model to tmp/gym/multiinput_256/best_model.zip\n"
      ]
     },
     "metadata": {},
     "output_type": "display_data"
    },
    {
     "data": {
      "text/html": [
       "<pre style=\"white-space:pre;overflow-x:auto;line-height:normal;font-family:Menlo,'DejaVu Sans Mono',consolas,'Courier New',monospace\">Num timesteps: 60000\n",
       "</pre>\n"
      ],
      "text/plain": [
       "Num timesteps: 60000\n"
      ]
     },
     "metadata": {},
     "output_type": "display_data"
    },
    {
     "data": {
      "text/html": [
       "<pre style=\"white-space:pre;overflow-x:auto;line-height:normal;font-family:Menlo,'DejaVu Sans Mono',consolas,'Courier New',monospace\">Best mean reward: 16.57 - Last mean reward per episode: 16.93\n",
       "</pre>\n"
      ],
      "text/plain": [
       "Best mean reward: 16.57 - Last mean reward per episode: 16.93\n"
      ]
     },
     "metadata": {},
     "output_type": "display_data"
    },
    {
     "data": {
      "text/html": [
       "<pre style=\"white-space:pre;overflow-x:auto;line-height:normal;font-family:Menlo,'DejaVu Sans Mono',consolas,'Courier New',monospace\">Saving new best model to tmp/gym/multiinput_256/best_model.zip\n",
       "</pre>\n"
      ],
      "text/plain": [
       "Saving new best model to tmp/gym/multiinput_256/best_model.zip\n"
      ]
     },
     "metadata": {},
     "output_type": "display_data"
    },
    {
     "data": {
      "text/html": [
       "<pre style=\"white-space:pre;overflow-x:auto;line-height:normal;font-family:Menlo,'DejaVu Sans Mono',consolas,'Courier New',monospace\">Num timesteps: 61000\n",
       "</pre>\n"
      ],
      "text/plain": [
       "Num timesteps: 61000\n"
      ]
     },
     "metadata": {},
     "output_type": "display_data"
    },
    {
     "data": {
      "text/html": [
       "<pre style=\"white-space:pre;overflow-x:auto;line-height:normal;font-family:Menlo,'DejaVu Sans Mono',consolas,'Courier New',monospace\">Best mean reward: 16.93 - Last mean reward per episode: 17.29\n",
       "</pre>\n"
      ],
      "text/plain": [
       "Best mean reward: 16.93 - Last mean reward per episode: 17.29\n"
      ]
     },
     "metadata": {},
     "output_type": "display_data"
    },
    {
     "data": {
      "text/html": [
       "<pre style=\"white-space:pre;overflow-x:auto;line-height:normal;font-family:Menlo,'DejaVu Sans Mono',consolas,'Courier New',monospace\">Saving new best model to tmp/gym/multiinput_256/best_model.zip\n",
       "</pre>\n"
      ],
      "text/plain": [
       "Saving new best model to tmp/gym/multiinput_256/best_model.zip\n"
      ]
     },
     "metadata": {},
     "output_type": "display_data"
    },
    {
     "name": "stdout",
     "output_type": "stream",
     "text": [
      "----------------------------------------\n",
      "| rollout/                |            |\n",
      "|    ep_len_mean          | 500        |\n",
      "|    ep_rew_mean          | 17.3       |\n",
      "| time/                   |            |\n",
      "|    fps                  | 90         |\n",
      "|    iterations           | 30         |\n",
      "|    time_elapsed         | 677        |\n",
      "|    total_timesteps      | 61440      |\n",
      "| train/                  |            |\n",
      "|    approx_kl            | 0.13339072 |\n",
      "|    clip_fraction        | 0.544      |\n",
      "|    clip_range           | 0.2        |\n",
      "|    entropy_loss         | -9.61      |\n",
      "|    explained_variance   | 0.342      |\n",
      "|    learning_rate        | 0.0003     |\n",
      "|    loss                 | -0.0624    |\n",
      "|    n_updates            | 290        |\n",
      "|    policy_gradient_loss | -0.0648    |\n",
      "|    std                  | 0.955      |\n",
      "|    value_loss           | 0.391      |\n",
      "----------------------------------------\n"
     ]
    },
    {
     "data": {
      "text/html": [
       "<pre style=\"white-space:pre;overflow-x:auto;line-height:normal;font-family:Menlo,'DejaVu Sans Mono',consolas,'Courier New',monospace\">Num timesteps: 62000\n",
       "</pre>\n"
      ],
      "text/plain": [
       "Num timesteps: 62000\n"
      ]
     },
     "metadata": {},
     "output_type": "display_data"
    },
    {
     "data": {
      "text/html": [
       "<pre style=\"white-space:pre;overflow-x:auto;line-height:normal;font-family:Menlo,'DejaVu Sans Mono',consolas,'Courier New',monospace\">Best mean reward: 17.29 - Last mean reward per episode: 18.34\n",
       "</pre>\n"
      ],
      "text/plain": [
       "Best mean reward: 17.29 - Last mean reward per episode: 18.34\n"
      ]
     },
     "metadata": {},
     "output_type": "display_data"
    },
    {
     "data": {
      "text/html": [
       "<pre style=\"white-space:pre;overflow-x:auto;line-height:normal;font-family:Menlo,'DejaVu Sans Mono',consolas,'Courier New',monospace\">Saving new best model to tmp/gym/multiinput_256/best_model.zip\n",
       "</pre>\n"
      ],
      "text/plain": [
       "Saving new best model to tmp/gym/multiinput_256/best_model.zip\n"
      ]
     },
     "metadata": {},
     "output_type": "display_data"
    },
    {
     "data": {
      "text/html": [
       "<pre style=\"white-space:pre;overflow-x:auto;line-height:normal;font-family:Menlo,'DejaVu Sans Mono',consolas,'Courier New',monospace\">Num timesteps: 63000\n",
       "</pre>\n"
      ],
      "text/plain": [
       "Num timesteps: 63000\n"
      ]
     },
     "metadata": {},
     "output_type": "display_data"
    },
    {
     "data": {
      "text/html": [
       "<pre style=\"white-space:pre;overflow-x:auto;line-height:normal;font-family:Menlo,'DejaVu Sans Mono',consolas,'Courier New',monospace\">Best mean reward: 18.34 - Last mean reward per episode: 18.97\n",
       "</pre>\n"
      ],
      "text/plain": [
       "Best mean reward: 18.34 - Last mean reward per episode: 18.97\n"
      ]
     },
     "metadata": {},
     "output_type": "display_data"
    },
    {
     "data": {
      "text/html": [
       "<pre style=\"white-space:pre;overflow-x:auto;line-height:normal;font-family:Menlo,'DejaVu Sans Mono',consolas,'Courier New',monospace\">Saving new best model to tmp/gym/multiinput_256/best_model.zip\n",
       "</pre>\n"
      ],
      "text/plain": [
       "Saving new best model to tmp/gym/multiinput_256/best_model.zip\n"
      ]
     },
     "metadata": {},
     "output_type": "display_data"
    },
    {
     "data": {
      "text/html": [
       "<pre style=\"white-space:pre;overflow-x:auto;line-height:normal;font-family:Menlo,'DejaVu Sans Mono',consolas,'Courier New',monospace\">Num timesteps: 64000\n",
       "</pre>\n"
      ],
      "text/plain": [
       "Num timesteps: 64000\n"
      ]
     },
     "metadata": {},
     "output_type": "display_data"
    },
    {
     "data": {
      "text/html": [
       "<pre style=\"white-space:pre;overflow-x:auto;line-height:normal;font-family:Menlo,'DejaVu Sans Mono',consolas,'Courier New',monospace\">Best mean reward: 18.97 - Last mean reward per episode: 19.34\n",
       "</pre>\n"
      ],
      "text/plain": [
       "Best mean reward: 18.97 - Last mean reward per episode: 19.34\n"
      ]
     },
     "metadata": {},
     "output_type": "display_data"
    },
    {
     "data": {
      "text/html": [
       "<pre style=\"white-space:pre;overflow-x:auto;line-height:normal;font-family:Menlo,'DejaVu Sans Mono',consolas,'Courier New',monospace\">Saving new best model to tmp/gym/multiinput_256/best_model.zip\n",
       "</pre>\n"
      ],
      "text/plain": [
       "Saving new best model to tmp/gym/multiinput_256/best_model.zip\n"
      ]
     },
     "metadata": {},
     "output_type": "display_data"
    },
    {
     "data": {
      "text/html": [
       "<pre style=\"white-space:pre;overflow-x:auto;line-height:normal;font-family:Menlo,'DejaVu Sans Mono',consolas,'Courier New',monospace\">Num timesteps: 65000\n",
       "</pre>\n"
      ],
      "text/plain": [
       "Num timesteps: 65000\n"
      ]
     },
     "metadata": {},
     "output_type": "display_data"
    },
    {
     "data": {
      "text/html": [
       "<pre style=\"white-space:pre;overflow-x:auto;line-height:normal;font-family:Menlo,'DejaVu Sans Mono',consolas,'Courier New',monospace\">Best mean reward: 19.34 - Last mean reward per episode: 19.73\n",
       "</pre>\n"
      ],
      "text/plain": [
       "Best mean reward: 19.34 - Last mean reward per episode: 19.73\n"
      ]
     },
     "metadata": {},
     "output_type": "display_data"
    },
    {
     "data": {
      "text/html": [
       "<pre style=\"white-space:pre;overflow-x:auto;line-height:normal;font-family:Menlo,'DejaVu Sans Mono',consolas,'Courier New',monospace\">Saving new best model to tmp/gym/multiinput_256/best_model.zip\n",
       "</pre>\n"
      ],
      "text/plain": [
       "Saving new best model to tmp/gym/multiinput_256/best_model.zip\n"
      ]
     },
     "metadata": {},
     "output_type": "display_data"
    },
    {
     "data": {
      "text/html": [
       "<pre style=\"white-space:pre;overflow-x:auto;line-height:normal;font-family:Menlo,'DejaVu Sans Mono',consolas,'Courier New',monospace\">Num timesteps: 66000\n",
       "</pre>\n"
      ],
      "text/plain": [
       "Num timesteps: 66000\n"
      ]
     },
     "metadata": {},
     "output_type": "display_data"
    },
    {
     "data": {
      "text/html": [
       "<pre style=\"white-space:pre;overflow-x:auto;line-height:normal;font-family:Menlo,'DejaVu Sans Mono',consolas,'Courier New',monospace\">Best mean reward: 19.73 - Last mean reward per episode: 20.39\n",
       "</pre>\n"
      ],
      "text/plain": [
       "Best mean reward: 19.73 - Last mean reward per episode: 20.39\n"
      ]
     },
     "metadata": {},
     "output_type": "display_data"
    },
    {
     "data": {
      "text/html": [
       "<pre style=\"white-space:pre;overflow-x:auto;line-height:normal;font-family:Menlo,'DejaVu Sans Mono',consolas,'Courier New',monospace\">Saving new best model to tmp/gym/multiinput_256/best_model.zip\n",
       "</pre>\n"
      ],
      "text/plain": [
       "Saving new best model to tmp/gym/multiinput_256/best_model.zip\n"
      ]
     },
     "metadata": {},
     "output_type": "display_data"
    },
    {
     "data": {
      "text/html": [
       "<pre style=\"white-space:pre;overflow-x:auto;line-height:normal;font-family:Menlo,'DejaVu Sans Mono',consolas,'Courier New',monospace\">Num timesteps: 67000\n",
       "</pre>\n"
      ],
      "text/plain": [
       "Num timesteps: 67000\n"
      ]
     },
     "metadata": {},
     "output_type": "display_data"
    },
    {
     "data": {
      "text/html": [
       "<pre style=\"white-space:pre;overflow-x:auto;line-height:normal;font-family:Menlo,'DejaVu Sans Mono',consolas,'Courier New',monospace\">Best mean reward: 20.39 - Last mean reward per episode: 20.50\n",
       "</pre>\n"
      ],
      "text/plain": [
       "Best mean reward: 20.39 - Last mean reward per episode: 20.50\n"
      ]
     },
     "metadata": {},
     "output_type": "display_data"
    },
    {
     "data": {
      "text/html": [
       "<pre style=\"white-space:pre;overflow-x:auto;line-height:normal;font-family:Menlo,'DejaVu Sans Mono',consolas,'Courier New',monospace\">Saving new best model to tmp/gym/multiinput_256/best_model.zip\n",
       "</pre>\n"
      ],
      "text/plain": [
       "Saving new best model to tmp/gym/multiinput_256/best_model.zip\n"
      ]
     },
     "metadata": {},
     "output_type": "display_data"
    },
    {
     "data": {
      "text/html": [
       "<pre style=\"white-space:pre;overflow-x:auto;line-height:normal;font-family:Menlo,'DejaVu Sans Mono',consolas,'Courier New',monospace\">Num timesteps: 68000\n",
       "</pre>\n"
      ],
      "text/plain": [
       "Num timesteps: 68000\n"
      ]
     },
     "metadata": {},
     "output_type": "display_data"
    },
    {
     "data": {
      "text/html": [
       "<pre style=\"white-space:pre;overflow-x:auto;line-height:normal;font-family:Menlo,'DejaVu Sans Mono',consolas,'Courier New',monospace\">Best mean reward: 20.50 - Last mean reward per episode: 20.61\n",
       "</pre>\n"
      ],
      "text/plain": [
       "Best mean reward: 20.50 - Last mean reward per episode: 20.61\n"
      ]
     },
     "metadata": {},
     "output_type": "display_data"
    },
    {
     "data": {
      "text/html": [
       "<pre style=\"white-space:pre;overflow-x:auto;line-height:normal;font-family:Menlo,'DejaVu Sans Mono',consolas,'Courier New',monospace\">Saving new best model to tmp/gym/multiinput_256/best_model.zip\n",
       "</pre>\n"
      ],
      "text/plain": [
       "Saving new best model to tmp/gym/multiinput_256/best_model.zip\n"
      ]
     },
     "metadata": {},
     "output_type": "display_data"
    },
    {
     "data": {
      "text/html": [
       "<pre style=\"white-space:pre;overflow-x:auto;line-height:normal;font-family:Menlo,'DejaVu Sans Mono',consolas,'Courier New',monospace\">Num timesteps: 69000\n",
       "</pre>\n"
      ],
      "text/plain": [
       "Num timesteps: 69000\n"
      ]
     },
     "metadata": {},
     "output_type": "display_data"
    },
    {
     "data": {
      "text/html": [
       "<pre style=\"white-space:pre;overflow-x:auto;line-height:normal;font-family:Menlo,'DejaVu Sans Mono',consolas,'Courier New',monospace\">Best mean reward: 20.61 - Last mean reward per episode: 21.64\n",
       "</pre>\n"
      ],
      "text/plain": [
       "Best mean reward: 20.61 - Last mean reward per episode: 21.64\n"
      ]
     },
     "metadata": {},
     "output_type": "display_data"
    },
    {
     "data": {
      "text/html": [
       "<pre style=\"white-space:pre;overflow-x:auto;line-height:normal;font-family:Menlo,'DejaVu Sans Mono',consolas,'Courier New',monospace\">Saving new best model to tmp/gym/multiinput_256/best_model.zip\n",
       "</pre>\n"
      ],
      "text/plain": [
       "Saving new best model to tmp/gym/multiinput_256/best_model.zip\n"
      ]
     },
     "metadata": {},
     "output_type": "display_data"
    },
    {
     "data": {
      "text/html": [
       "<pre style=\"white-space:pre;overflow-x:auto;line-height:normal;font-family:Menlo,'DejaVu Sans Mono',consolas,'Courier New',monospace\">Num timesteps: 70000\n",
       "</pre>\n"
      ],
      "text/plain": [
       "Num timesteps: 70000\n"
      ]
     },
     "metadata": {},
     "output_type": "display_data"
    },
    {
     "data": {
      "text/html": [
       "<pre style=\"white-space:pre;overflow-x:auto;line-height:normal;font-family:Menlo,'DejaVu Sans Mono',consolas,'Courier New',monospace\">Best mean reward: 21.64 - Last mean reward per episode: 22.63\n",
       "</pre>\n"
      ],
      "text/plain": [
       "Best mean reward: 21.64 - Last mean reward per episode: 22.63\n"
      ]
     },
     "metadata": {},
     "output_type": "display_data"
    },
    {
     "data": {
      "text/html": [
       "<pre style=\"white-space:pre;overflow-x:auto;line-height:normal;font-family:Menlo,'DejaVu Sans Mono',consolas,'Courier New',monospace\">Saving new best model to tmp/gym/multiinput_256/best_model.zip\n",
       "</pre>\n"
      ],
      "text/plain": [
       "Saving new best model to tmp/gym/multiinput_256/best_model.zip\n"
      ]
     },
     "metadata": {},
     "output_type": "display_data"
    },
    {
     "data": {
      "text/html": [
       "<pre style=\"white-space:pre;overflow-x:auto;line-height:normal;font-family:Menlo,'DejaVu Sans Mono',consolas,'Courier New',monospace\">Num timesteps: 71000\n",
       "</pre>\n"
      ],
      "text/plain": [
       "Num timesteps: 71000\n"
      ]
     },
     "metadata": {},
     "output_type": "display_data"
    },
    {
     "data": {
      "text/html": [
       "<pre style=\"white-space:pre;overflow-x:auto;line-height:normal;font-family:Menlo,'DejaVu Sans Mono',consolas,'Courier New',monospace\">Best mean reward: 22.63 - Last mean reward per episode: 23.87\n",
       "</pre>\n"
      ],
      "text/plain": [
       "Best mean reward: 22.63 - Last mean reward per episode: 23.87\n"
      ]
     },
     "metadata": {},
     "output_type": "display_data"
    },
    {
     "data": {
      "text/html": [
       "<pre style=\"white-space:pre;overflow-x:auto;line-height:normal;font-family:Menlo,'DejaVu Sans Mono',consolas,'Courier New',monospace\">Saving new best model to tmp/gym/multiinput_256/best_model.zip\n",
       "</pre>\n"
      ],
      "text/plain": [
       "Saving new best model to tmp/gym/multiinput_256/best_model.zip\n"
      ]
     },
     "metadata": {},
     "output_type": "display_data"
    },
    {
     "data": {
      "text/html": [
       "<pre style=\"white-space:pre;overflow-x:auto;line-height:normal;font-family:Menlo,'DejaVu Sans Mono',consolas,'Courier New',monospace\">Num timesteps: 72000\n",
       "</pre>\n"
      ],
      "text/plain": [
       "Num timesteps: 72000\n"
      ]
     },
     "metadata": {},
     "output_type": "display_data"
    },
    {
     "data": {
      "text/html": [
       "<pre style=\"white-space:pre;overflow-x:auto;line-height:normal;font-family:Menlo,'DejaVu Sans Mono',consolas,'Courier New',monospace\">Best mean reward: 23.87 - Last mean reward per episode: 24.77\n",
       "</pre>\n"
      ],
      "text/plain": [
       "Best mean reward: 23.87 - Last mean reward per episode: 24.77\n"
      ]
     },
     "metadata": {},
     "output_type": "display_data"
    },
    {
     "data": {
      "text/html": [
       "<pre style=\"white-space:pre;overflow-x:auto;line-height:normal;font-family:Menlo,'DejaVu Sans Mono',consolas,'Courier New',monospace\">Saving new best model to tmp/gym/multiinput_256/best_model.zip\n",
       "</pre>\n"
      ],
      "text/plain": [
       "Saving new best model to tmp/gym/multiinput_256/best_model.zip\n"
      ]
     },
     "metadata": {},
     "output_type": "display_data"
    },
    {
     "data": {
      "text/html": [
       "<pre style=\"white-space:pre;overflow-x:auto;line-height:normal;font-family:Menlo,'DejaVu Sans Mono',consolas,'Courier New',monospace\">Num timesteps: 73000\n",
       "</pre>\n"
      ],
      "text/plain": [
       "Num timesteps: 73000\n"
      ]
     },
     "metadata": {},
     "output_type": "display_data"
    },
    {
     "data": {
      "text/html": [
       "<pre style=\"white-space:pre;overflow-x:auto;line-height:normal;font-family:Menlo,'DejaVu Sans Mono',consolas,'Courier New',monospace\">Best mean reward: 24.77 - Last mean reward per episode: 25.85\n",
       "</pre>\n"
      ],
      "text/plain": [
       "Best mean reward: 24.77 - Last mean reward per episode: 25.85\n"
      ]
     },
     "metadata": {},
     "output_type": "display_data"
    },
    {
     "data": {
      "text/html": [
       "<pre style=\"white-space:pre;overflow-x:auto;line-height:normal;font-family:Menlo,'DejaVu Sans Mono',consolas,'Courier New',monospace\">Saving new best model to tmp/gym/multiinput_256/best_model.zip\n",
       "</pre>\n"
      ],
      "text/plain": [
       "Saving new best model to tmp/gym/multiinput_256/best_model.zip\n"
      ]
     },
     "metadata": {},
     "output_type": "display_data"
    },
    {
     "data": {
      "text/html": [
       "<pre style=\"white-space:pre;overflow-x:auto;line-height:normal;font-family:Menlo,'DejaVu Sans Mono',consolas,'Courier New',monospace\">Num timesteps: 74000\n",
       "</pre>\n"
      ],
      "text/plain": [
       "Num timesteps: 74000\n"
      ]
     },
     "metadata": {},
     "output_type": "display_data"
    },
    {
     "data": {
      "text/html": [
       "<pre style=\"white-space:pre;overflow-x:auto;line-height:normal;font-family:Menlo,'DejaVu Sans Mono',consolas,'Courier New',monospace\">Best mean reward: 25.85 - Last mean reward per episode: 26.14\n",
       "</pre>\n"
      ],
      "text/plain": [
       "Best mean reward: 25.85 - Last mean reward per episode: 26.14\n"
      ]
     },
     "metadata": {},
     "output_type": "display_data"
    },
    {
     "data": {
      "text/html": [
       "<pre style=\"white-space:pre;overflow-x:auto;line-height:normal;font-family:Menlo,'DejaVu Sans Mono',consolas,'Courier New',monospace\">Saving new best model to tmp/gym/multiinput_256/best_model.zip\n",
       "</pre>\n"
      ],
      "text/plain": [
       "Saving new best model to tmp/gym/multiinput_256/best_model.zip\n"
      ]
     },
     "metadata": {},
     "output_type": "display_data"
    },
    {
     "data": {
      "text/html": [
       "<pre style=\"white-space:pre;overflow-x:auto;line-height:normal;font-family:Menlo,'DejaVu Sans Mono',consolas,'Courier New',monospace\">Num timesteps: 75000\n",
       "</pre>\n"
      ],
      "text/plain": [
       "Num timesteps: 75000\n"
      ]
     },
     "metadata": {},
     "output_type": "display_data"
    },
    {
     "data": {
      "text/html": [
       "<pre style=\"white-space:pre;overflow-x:auto;line-height:normal;font-family:Menlo,'DejaVu Sans Mono',consolas,'Courier New',monospace\">Best mean reward: 26.14 - Last mean reward per episode: 26.51\n",
       "</pre>\n"
      ],
      "text/plain": [
       "Best mean reward: 26.14 - Last mean reward per episode: 26.51\n"
      ]
     },
     "metadata": {},
     "output_type": "display_data"
    },
    {
     "data": {
      "text/html": [
       "<pre style=\"white-space:pre;overflow-x:auto;line-height:normal;font-family:Menlo,'DejaVu Sans Mono',consolas,'Courier New',monospace\">Saving new best model to tmp/gym/multiinput_256/best_model.zip\n",
       "</pre>\n"
      ],
      "text/plain": [
       "Saving new best model to tmp/gym/multiinput_256/best_model.zip\n"
      ]
     },
     "metadata": {},
     "output_type": "display_data"
    },
    {
     "data": {
      "text/html": [
       "<pre style=\"white-space:pre;overflow-x:auto;line-height:normal;font-family:Menlo,'DejaVu Sans Mono',consolas,'Courier New',monospace\">Num timesteps: 76000\n",
       "</pre>\n"
      ],
      "text/plain": [
       "Num timesteps: 76000\n"
      ]
     },
     "metadata": {},
     "output_type": "display_data"
    },
    {
     "data": {
      "text/html": [
       "<pre style=\"white-space:pre;overflow-x:auto;line-height:normal;font-family:Menlo,'DejaVu Sans Mono',consolas,'Courier New',monospace\">Best mean reward: 26.51 - Last mean reward per episode: 26.87\n",
       "</pre>\n"
      ],
      "text/plain": [
       "Best mean reward: 26.51 - Last mean reward per episode: 26.87\n"
      ]
     },
     "metadata": {},
     "output_type": "display_data"
    },
    {
     "data": {
      "text/html": [
       "<pre style=\"white-space:pre;overflow-x:auto;line-height:normal;font-family:Menlo,'DejaVu Sans Mono',consolas,'Courier New',monospace\">Saving new best model to tmp/gym/multiinput_256/best_model.zip\n",
       "</pre>\n"
      ],
      "text/plain": [
       "Saving new best model to tmp/gym/multiinput_256/best_model.zip\n"
      ]
     },
     "metadata": {},
     "output_type": "display_data"
    },
    {
     "data": {
      "text/html": [
       "<pre style=\"white-space:pre;overflow-x:auto;line-height:normal;font-family:Menlo,'DejaVu Sans Mono',consolas,'Courier New',monospace\">Num timesteps: 77000\n",
       "</pre>\n"
      ],
      "text/plain": [
       "Num timesteps: 77000\n"
      ]
     },
     "metadata": {},
     "output_type": "display_data"
    },
    {
     "data": {
      "text/html": [
       "<pre style=\"white-space:pre;overflow-x:auto;line-height:normal;font-family:Menlo,'DejaVu Sans Mono',consolas,'Courier New',monospace\">Best mean reward: 26.87 - Last mean reward per episode: 27.18\n",
       "</pre>\n"
      ],
      "text/plain": [
       "Best mean reward: 26.87 - Last mean reward per episode: 27.18\n"
      ]
     },
     "metadata": {},
     "output_type": "display_data"
    },
    {
     "data": {
      "text/html": [
       "<pre style=\"white-space:pre;overflow-x:auto;line-height:normal;font-family:Menlo,'DejaVu Sans Mono',consolas,'Courier New',monospace\">Saving new best model to tmp/gym/multiinput_256/best_model.zip\n",
       "</pre>\n"
      ],
      "text/plain": [
       "Saving new best model to tmp/gym/multiinput_256/best_model.zip\n"
      ]
     },
     "metadata": {},
     "output_type": "display_data"
    },
    {
     "data": {
      "text/html": [
       "<pre style=\"white-space:pre;overflow-x:auto;line-height:normal;font-family:Menlo,'DejaVu Sans Mono',consolas,'Courier New',monospace\">Num timesteps: 78000\n",
       "</pre>\n"
      ],
      "text/plain": [
       "Num timesteps: 78000\n"
      ]
     },
     "metadata": {},
     "output_type": "display_data"
    },
    {
     "data": {
      "text/html": [
       "<pre style=\"white-space:pre;overflow-x:auto;line-height:normal;font-family:Menlo,'DejaVu Sans Mono',consolas,'Courier New',monospace\">Best mean reward: 27.18 - Last mean reward per episode: 27.83\n",
       "</pre>\n"
      ],
      "text/plain": [
       "Best mean reward: 27.18 - Last mean reward per episode: 27.83\n"
      ]
     },
     "metadata": {},
     "output_type": "display_data"
    },
    {
     "data": {
      "text/html": [
       "<pre style=\"white-space:pre;overflow-x:auto;line-height:normal;font-family:Menlo,'DejaVu Sans Mono',consolas,'Courier New',monospace\">Saving new best model to tmp/gym/multiinput_256/best_model.zip\n",
       "</pre>\n"
      ],
      "text/plain": [
       "Saving new best model to tmp/gym/multiinput_256/best_model.zip\n"
      ]
     },
     "metadata": {},
     "output_type": "display_data"
    },
    {
     "data": {
      "text/html": [
       "<pre style=\"white-space:pre;overflow-x:auto;line-height:normal;font-family:Menlo,'DejaVu Sans Mono',consolas,'Courier New',monospace\">Num timesteps: 79000\n",
       "</pre>\n"
      ],
      "text/plain": [
       "Num timesteps: 79000\n"
      ]
     },
     "metadata": {},
     "output_type": "display_data"
    },
    {
     "data": {
      "text/html": [
       "<pre style=\"white-space:pre;overflow-x:auto;line-height:normal;font-family:Menlo,'DejaVu Sans Mono',consolas,'Courier New',monospace\">Best mean reward: 27.83 - Last mean reward per episode: 28.61\n",
       "</pre>\n"
      ],
      "text/plain": [
       "Best mean reward: 27.83 - Last mean reward per episode: 28.61\n"
      ]
     },
     "metadata": {},
     "output_type": "display_data"
    },
    {
     "data": {
      "text/html": [
       "<pre style=\"white-space:pre;overflow-x:auto;line-height:normal;font-family:Menlo,'DejaVu Sans Mono',consolas,'Courier New',monospace\">Saving new best model to tmp/gym/multiinput_256/best_model.zip\n",
       "</pre>\n"
      ],
      "text/plain": [
       "Saving new best model to tmp/gym/multiinput_256/best_model.zip\n"
      ]
     },
     "metadata": {},
     "output_type": "display_data"
    },
    {
     "data": {
      "text/html": [
       "<pre style=\"white-space:pre;overflow-x:auto;line-height:normal;font-family:Menlo,'DejaVu Sans Mono',consolas,'Courier New',monospace\">Num timesteps: 80000\n",
       "</pre>\n"
      ],
      "text/plain": [
       "Num timesteps: 80000\n"
      ]
     },
     "metadata": {},
     "output_type": "display_data"
    },
    {
     "data": {
      "text/html": [
       "<pre style=\"white-space:pre;overflow-x:auto;line-height:normal;font-family:Menlo,'DejaVu Sans Mono',consolas,'Courier New',monospace\">Best mean reward: 28.61 - Last mean reward per episode: 29.12\n",
       "</pre>\n"
      ],
      "text/plain": [
       "Best mean reward: 28.61 - Last mean reward per episode: 29.12\n"
      ]
     },
     "metadata": {},
     "output_type": "display_data"
    },
    {
     "data": {
      "text/html": [
       "<pre style=\"white-space:pre;overflow-x:auto;line-height:normal;font-family:Menlo,'DejaVu Sans Mono',consolas,'Courier New',monospace\">Saving new best model to tmp/gym/multiinput_256/best_model.zip\n",
       "</pre>\n"
      ],
      "text/plain": [
       "Saving new best model to tmp/gym/multiinput_256/best_model.zip\n"
      ]
     },
     "metadata": {},
     "output_type": "display_data"
    },
    {
     "data": {
      "text/html": [
       "<pre style=\"white-space:pre;overflow-x:auto;line-height:normal;font-family:Menlo,'DejaVu Sans Mono',consolas,'Courier New',monospace\">Num timesteps: 81000\n",
       "</pre>\n"
      ],
      "text/plain": [
       "Num timesteps: 81000\n"
      ]
     },
     "metadata": {},
     "output_type": "display_data"
    },
    {
     "data": {
      "text/html": [
       "<pre style=\"white-space:pre;overflow-x:auto;line-height:normal;font-family:Menlo,'DejaVu Sans Mono',consolas,'Courier New',monospace\">Best mean reward: 29.12 - Last mean reward per episode: 29.54\n",
       "</pre>\n"
      ],
      "text/plain": [
       "Best mean reward: 29.12 - Last mean reward per episode: 29.54\n"
      ]
     },
     "metadata": {},
     "output_type": "display_data"
    },
    {
     "data": {
      "text/html": [
       "<pre style=\"white-space:pre;overflow-x:auto;line-height:normal;font-family:Menlo,'DejaVu Sans Mono',consolas,'Courier New',monospace\">Saving new best model to tmp/gym/multiinput_256/best_model.zip\n",
       "</pre>\n"
      ],
      "text/plain": [
       "Saving new best model to tmp/gym/multiinput_256/best_model.zip\n"
      ]
     },
     "metadata": {},
     "output_type": "display_data"
    },
    {
     "name": "stdout",
     "output_type": "stream",
     "text": [
      "----------------------------------------\n",
      "| rollout/                |            |\n",
      "|    ep_len_mean          | 500        |\n",
      "|    ep_rew_mean          | 29.7       |\n",
      "| time/                   |            |\n",
      "|    fps                  | 90         |\n",
      "|    iterations           | 40         |\n",
      "|    time_elapsed         | 908        |\n",
      "|    total_timesteps      | 81920      |\n",
      "| train/                  |            |\n",
      "|    approx_kl            | 0.22554597 |\n",
      "|    clip_fraction        | 0.542      |\n",
      "|    clip_range           | 0.2        |\n",
      "|    entropy_loss         | -9.52      |\n",
      "|    explained_variance   | 0.749      |\n",
      "|    learning_rate        | 0.0003     |\n",
      "|    loss                 | -0.0988    |\n",
      "|    n_updates            | 390        |\n",
      "|    policy_gradient_loss | -0.0662    |\n",
      "|    std                  | 0.942      |\n",
      "|    value_loss           | 0.452      |\n",
      "----------------------------------------\n"
     ]
    },
    {
     "data": {
      "text/html": [
       "<pre style=\"white-space:pre;overflow-x:auto;line-height:normal;font-family:Menlo,'DejaVu Sans Mono',consolas,'Courier New',monospace\">Num timesteps: 82000\n",
       "</pre>\n"
      ],
      "text/plain": [
       "Num timesteps: 82000\n"
      ]
     },
     "metadata": {},
     "output_type": "display_data"
    },
    {
     "data": {
      "text/html": [
       "<pre style=\"white-space:pre;overflow-x:auto;line-height:normal;font-family:Menlo,'DejaVu Sans Mono',consolas,'Courier New',monospace\">Best mean reward: 29.54 - Last mean reward per episode: 31.00\n",
       "</pre>\n"
      ],
      "text/plain": [
       "Best mean reward: 29.54 - Last mean reward per episode: 31.00\n"
      ]
     },
     "metadata": {},
     "output_type": "display_data"
    },
    {
     "data": {
      "text/html": [
       "<pre style=\"white-space:pre;overflow-x:auto;line-height:normal;font-family:Menlo,'DejaVu Sans Mono',consolas,'Courier New',monospace\">Saving new best model to tmp/gym/multiinput_256/best_model.zip\n",
       "</pre>\n"
      ],
      "text/plain": [
       "Saving new best model to tmp/gym/multiinput_256/best_model.zip\n"
      ]
     },
     "metadata": {},
     "output_type": "display_data"
    },
    {
     "data": {
      "text/html": [
       "<pre style=\"white-space:pre;overflow-x:auto;line-height:normal;font-family:Menlo,'DejaVu Sans Mono',consolas,'Courier New',monospace\">Num timesteps: 83000\n",
       "</pre>\n"
      ],
      "text/plain": [
       "Num timesteps: 83000\n"
      ]
     },
     "metadata": {},
     "output_type": "display_data"
    },
    {
     "data": {
      "text/html": [
       "<pre style=\"white-space:pre;overflow-x:auto;line-height:normal;font-family:Menlo,'DejaVu Sans Mono',consolas,'Courier New',monospace\">Best mean reward: 31.00 - Last mean reward per episode: 31.00\n",
       "</pre>\n"
      ],
      "text/plain": [
       "Best mean reward: 31.00 - Last mean reward per episode: 31.00\n"
      ]
     },
     "metadata": {},
     "output_type": "display_data"
    },
    {
     "data": {
      "text/html": [
       "<pre style=\"white-space:pre;overflow-x:auto;line-height:normal;font-family:Menlo,'DejaVu Sans Mono',consolas,'Courier New',monospace\">Num timesteps: 84000\n",
       "</pre>\n"
      ],
      "text/plain": [
       "Num timesteps: 84000\n"
      ]
     },
     "metadata": {},
     "output_type": "display_data"
    },
    {
     "data": {
      "text/html": [
       "<pre style=\"white-space:pre;overflow-x:auto;line-height:normal;font-family:Menlo,'DejaVu Sans Mono',consolas,'Courier New',monospace\">Best mean reward: 31.00 - Last mean reward per episode: 31.84\n",
       "</pre>\n"
      ],
      "text/plain": [
       "Best mean reward: 31.00 - Last mean reward per episode: 31.84\n"
      ]
     },
     "metadata": {},
     "output_type": "display_data"
    },
    {
     "data": {
      "text/html": [
       "<pre style=\"white-space:pre;overflow-x:auto;line-height:normal;font-family:Menlo,'DejaVu Sans Mono',consolas,'Courier New',monospace\">Saving new best model to tmp/gym/multiinput_256/best_model.zip\n",
       "</pre>\n"
      ],
      "text/plain": [
       "Saving new best model to tmp/gym/multiinput_256/best_model.zip\n"
      ]
     },
     "metadata": {},
     "output_type": "display_data"
    },
    {
     "data": {
      "text/html": [
       "<pre style=\"white-space:pre;overflow-x:auto;line-height:normal;font-family:Menlo,'DejaVu Sans Mono',consolas,'Courier New',monospace\">Num timesteps: 85000\n",
       "</pre>\n"
      ],
      "text/plain": [
       "Num timesteps: 85000\n"
      ]
     },
     "metadata": {},
     "output_type": "display_data"
    },
    {
     "data": {
      "text/html": [
       "<pre style=\"white-space:pre;overflow-x:auto;line-height:normal;font-family:Menlo,'DejaVu Sans Mono',consolas,'Courier New',monospace\">Best mean reward: 31.84 - Last mean reward per episode: 31.81\n",
       "</pre>\n"
      ],
      "text/plain": [
       "Best mean reward: 31.84 - Last mean reward per episode: 31.81\n"
      ]
     },
     "metadata": {},
     "output_type": "display_data"
    },
    {
     "data": {
      "text/html": [
       "<pre style=\"white-space:pre;overflow-x:auto;line-height:normal;font-family:Menlo,'DejaVu Sans Mono',consolas,'Courier New',monospace\">Num timesteps: 86000\n",
       "</pre>\n"
      ],
      "text/plain": [
       "Num timesteps: 86000\n"
      ]
     },
     "metadata": {},
     "output_type": "display_data"
    },
    {
     "data": {
      "text/html": [
       "<pre style=\"white-space:pre;overflow-x:auto;line-height:normal;font-family:Menlo,'DejaVu Sans Mono',consolas,'Courier New',monospace\">Best mean reward: 31.84 - Last mean reward per episode: 31.78\n",
       "</pre>\n"
      ],
      "text/plain": [
       "Best mean reward: 31.84 - Last mean reward per episode: 31.78\n"
      ]
     },
     "metadata": {},
     "output_type": "display_data"
    },
    {
     "data": {
      "text/html": [
       "<pre style=\"white-space:pre;overflow-x:auto;line-height:normal;font-family:Menlo,'DejaVu Sans Mono',consolas,'Courier New',monospace\">Num timesteps: 87000\n",
       "</pre>\n"
      ],
      "text/plain": [
       "Num timesteps: 87000\n"
      ]
     },
     "metadata": {},
     "output_type": "display_data"
    },
    {
     "data": {
      "text/html": [
       "<pre style=\"white-space:pre;overflow-x:auto;line-height:normal;font-family:Menlo,'DejaVu Sans Mono',consolas,'Courier New',monospace\">Best mean reward: 31.84 - Last mean reward per episode: 32.50\n",
       "</pre>\n"
      ],
      "text/plain": [
       "Best mean reward: 31.84 - Last mean reward per episode: 32.50\n"
      ]
     },
     "metadata": {},
     "output_type": "display_data"
    },
    {
     "data": {
      "text/html": [
       "<pre style=\"white-space:pre;overflow-x:auto;line-height:normal;font-family:Menlo,'DejaVu Sans Mono',consolas,'Courier New',monospace\">Saving new best model to tmp/gym/multiinput_256/best_model.zip\n",
       "</pre>\n"
      ],
      "text/plain": [
       "Saving new best model to tmp/gym/multiinput_256/best_model.zip\n"
      ]
     },
     "metadata": {},
     "output_type": "display_data"
    },
    {
     "data": {
      "text/html": [
       "<pre style=\"white-space:pre;overflow-x:auto;line-height:normal;font-family:Menlo,'DejaVu Sans Mono',consolas,'Courier New',monospace\">Num timesteps: 88000\n",
       "</pre>\n"
      ],
      "text/plain": [
       "Num timesteps: 88000\n"
      ]
     },
     "metadata": {},
     "output_type": "display_data"
    },
    {
     "data": {
      "text/html": [
       "<pre style=\"white-space:pre;overflow-x:auto;line-height:normal;font-family:Menlo,'DejaVu Sans Mono',consolas,'Courier New',monospace\">Best mean reward: 32.50 - Last mean reward per episode: 33.13\n",
       "</pre>\n"
      ],
      "text/plain": [
       "Best mean reward: 32.50 - Last mean reward per episode: 33.13\n"
      ]
     },
     "metadata": {},
     "output_type": "display_data"
    },
    {
     "data": {
      "text/html": [
       "<pre style=\"white-space:pre;overflow-x:auto;line-height:normal;font-family:Menlo,'DejaVu Sans Mono',consolas,'Courier New',monospace\">Saving new best model to tmp/gym/multiinput_256/best_model.zip\n",
       "</pre>\n"
      ],
      "text/plain": [
       "Saving new best model to tmp/gym/multiinput_256/best_model.zip\n"
      ]
     },
     "metadata": {},
     "output_type": "display_data"
    },
    {
     "data": {
      "text/html": [
       "<pre style=\"white-space:pre;overflow-x:auto;line-height:normal;font-family:Menlo,'DejaVu Sans Mono',consolas,'Courier New',monospace\">Num timesteps: 89000\n",
       "</pre>\n"
      ],
      "text/plain": [
       "Num timesteps: 89000\n"
      ]
     },
     "metadata": {},
     "output_type": "display_data"
    },
    {
     "data": {
      "text/html": [
       "<pre style=\"white-space:pre;overflow-x:auto;line-height:normal;font-family:Menlo,'DejaVu Sans Mono',consolas,'Courier New',monospace\">Best mean reward: 33.13 - Last mean reward per episode: 33.03\n",
       "</pre>\n"
      ],
      "text/plain": [
       "Best mean reward: 33.13 - Last mean reward per episode: 33.03\n"
      ]
     },
     "metadata": {},
     "output_type": "display_data"
    },
    {
     "data": {
      "text/html": [
       "<pre style=\"white-space:pre;overflow-x:auto;line-height:normal;font-family:Menlo,'DejaVu Sans Mono',consolas,'Courier New',monospace\">Num timesteps: 90000\n",
       "</pre>\n"
      ],
      "text/plain": [
       "Num timesteps: 90000\n"
      ]
     },
     "metadata": {},
     "output_type": "display_data"
    },
    {
     "data": {
      "text/html": [
       "<pre style=\"white-space:pre;overflow-x:auto;line-height:normal;font-family:Menlo,'DejaVu Sans Mono',consolas,'Courier New',monospace\">Best mean reward: 33.13 - Last mean reward per episode: 32.96\n",
       "</pre>\n"
      ],
      "text/plain": [
       "Best mean reward: 33.13 - Last mean reward per episode: 32.96\n"
      ]
     },
     "metadata": {},
     "output_type": "display_data"
    },
    {
     "data": {
      "text/html": [
       "<pre style=\"white-space:pre;overflow-x:auto;line-height:normal;font-family:Menlo,'DejaVu Sans Mono',consolas,'Courier New',monospace\">Num timesteps: 91000\n",
       "</pre>\n"
      ],
      "text/plain": [
       "Num timesteps: 91000\n"
      ]
     },
     "metadata": {},
     "output_type": "display_data"
    },
    {
     "data": {
      "text/html": [
       "<pre style=\"white-space:pre;overflow-x:auto;line-height:normal;font-family:Menlo,'DejaVu Sans Mono',consolas,'Courier New',monospace\">Best mean reward: 33.13 - Last mean reward per episode: 32.77\n",
       "</pre>\n"
      ],
      "text/plain": [
       "Best mean reward: 33.13 - Last mean reward per episode: 32.77\n"
      ]
     },
     "metadata": {},
     "output_type": "display_data"
    },
    {
     "data": {
      "text/html": [
       "<pre style=\"white-space:pre;overflow-x:auto;line-height:normal;font-family:Menlo,'DejaVu Sans Mono',consolas,'Courier New',monospace\">Num timesteps: 92000\n",
       "</pre>\n"
      ],
      "text/plain": [
       "Num timesteps: 92000\n"
      ]
     },
     "metadata": {},
     "output_type": "display_data"
    },
    {
     "data": {
      "text/html": [
       "<pre style=\"white-space:pre;overflow-x:auto;line-height:normal;font-family:Menlo,'DejaVu Sans Mono',consolas,'Courier New',monospace\">Best mean reward: 33.13 - Last mean reward per episode: 33.42\n",
       "</pre>\n"
      ],
      "text/plain": [
       "Best mean reward: 33.13 - Last mean reward per episode: 33.42\n"
      ]
     },
     "metadata": {},
     "output_type": "display_data"
    },
    {
     "data": {
      "text/html": [
       "<pre style=\"white-space:pre;overflow-x:auto;line-height:normal;font-family:Menlo,'DejaVu Sans Mono',consolas,'Courier New',monospace\">Saving new best model to tmp/gym/multiinput_256/best_model.zip\n",
       "</pre>\n"
      ],
      "text/plain": [
       "Saving new best model to tmp/gym/multiinput_256/best_model.zip\n"
      ]
     },
     "metadata": {},
     "output_type": "display_data"
    },
    {
     "data": {
      "text/html": [
       "<pre style=\"white-space:pre;overflow-x:auto;line-height:normal;font-family:Menlo,'DejaVu Sans Mono',consolas,'Courier New',monospace\">Num timesteps: 93000\n",
       "</pre>\n"
      ],
      "text/plain": [
       "Num timesteps: 93000\n"
      ]
     },
     "metadata": {},
     "output_type": "display_data"
    },
    {
     "data": {
      "text/html": [
       "<pre style=\"white-space:pre;overflow-x:auto;line-height:normal;font-family:Menlo,'DejaVu Sans Mono',consolas,'Courier New',monospace\">Best mean reward: 33.42 - Last mean reward per episode: 34.19\n",
       "</pre>\n"
      ],
      "text/plain": [
       "Best mean reward: 33.42 - Last mean reward per episode: 34.19\n"
      ]
     },
     "metadata": {},
     "output_type": "display_data"
    },
    {
     "data": {
      "text/html": [
       "<pre style=\"white-space:pre;overflow-x:auto;line-height:normal;font-family:Menlo,'DejaVu Sans Mono',consolas,'Courier New',monospace\">Saving new best model to tmp/gym/multiinput_256/best_model.zip\n",
       "</pre>\n"
      ],
      "text/plain": [
       "Saving new best model to tmp/gym/multiinput_256/best_model.zip\n"
      ]
     },
     "metadata": {},
     "output_type": "display_data"
    },
    {
     "data": {
      "text/html": [
       "<pre style=\"white-space:pre;overflow-x:auto;line-height:normal;font-family:Menlo,'DejaVu Sans Mono',consolas,'Courier New',monospace\">Num timesteps: 94000\n",
       "</pre>\n"
      ],
      "text/plain": [
       "Num timesteps: 94000\n"
      ]
     },
     "metadata": {},
     "output_type": "display_data"
    },
    {
     "data": {
      "text/html": [
       "<pre style=\"white-space:pre;overflow-x:auto;line-height:normal;font-family:Menlo,'DejaVu Sans Mono',consolas,'Courier New',monospace\">Best mean reward: 34.19 - Last mean reward per episode: 34.16\n",
       "</pre>\n"
      ],
      "text/plain": [
       "Best mean reward: 34.19 - Last mean reward per episode: 34.16\n"
      ]
     },
     "metadata": {},
     "output_type": "display_data"
    },
    {
     "data": {
      "text/html": [
       "<pre style=\"white-space:pre;overflow-x:auto;line-height:normal;font-family:Menlo,'DejaVu Sans Mono',consolas,'Courier New',monospace\">Num timesteps: 95000\n",
       "</pre>\n"
      ],
      "text/plain": [
       "Num timesteps: 95000\n"
      ]
     },
     "metadata": {},
     "output_type": "display_data"
    },
    {
     "data": {
      "text/html": [
       "<pre style=\"white-space:pre;overflow-x:auto;line-height:normal;font-family:Menlo,'DejaVu Sans Mono',consolas,'Courier New',monospace\">Best mean reward: 34.19 - Last mean reward per episode: 34.37\n",
       "</pre>\n"
      ],
      "text/plain": [
       "Best mean reward: 34.19 - Last mean reward per episode: 34.37\n"
      ]
     },
     "metadata": {},
     "output_type": "display_data"
    },
    {
     "data": {
      "text/html": [
       "<pre style=\"white-space:pre;overflow-x:auto;line-height:normal;font-family:Menlo,'DejaVu Sans Mono',consolas,'Courier New',monospace\">Saving new best model to tmp/gym/multiinput_256/best_model.zip\n",
       "</pre>\n"
      ],
      "text/plain": [
       "Saving new best model to tmp/gym/multiinput_256/best_model.zip\n"
      ]
     },
     "metadata": {},
     "output_type": "display_data"
    },
    {
     "data": {
      "text/html": [
       "<pre style=\"white-space:pre;overflow-x:auto;line-height:normal;font-family:Menlo,'DejaVu Sans Mono',consolas,'Courier New',monospace\">Num timesteps: 96000\n",
       "</pre>\n"
      ],
      "text/plain": [
       "Num timesteps: 96000\n"
      ]
     },
     "metadata": {},
     "output_type": "display_data"
    },
    {
     "data": {
      "text/html": [
       "<pre style=\"white-space:pre;overflow-x:auto;line-height:normal;font-family:Menlo,'DejaVu Sans Mono',consolas,'Courier New',monospace\">Best mean reward: 34.37 - Last mean reward per episode: 35.29\n",
       "</pre>\n"
      ],
      "text/plain": [
       "Best mean reward: 34.37 - Last mean reward per episode: 35.29\n"
      ]
     },
     "metadata": {},
     "output_type": "display_data"
    },
    {
     "data": {
      "text/html": [
       "<pre style=\"white-space:pre;overflow-x:auto;line-height:normal;font-family:Menlo,'DejaVu Sans Mono',consolas,'Courier New',monospace\">Saving new best model to tmp/gym/multiinput_256/best_model.zip\n",
       "</pre>\n"
      ],
      "text/plain": [
       "Saving new best model to tmp/gym/multiinput_256/best_model.zip\n"
      ]
     },
     "metadata": {},
     "output_type": "display_data"
    },
    {
     "data": {
      "text/html": [
       "<pre style=\"white-space:pre;overflow-x:auto;line-height:normal;font-family:Menlo,'DejaVu Sans Mono',consolas,'Courier New',monospace\">Num timesteps: 97000\n",
       "</pre>\n"
      ],
      "text/plain": [
       "Num timesteps: 97000\n"
      ]
     },
     "metadata": {},
     "output_type": "display_data"
    },
    {
     "data": {
      "text/html": [
       "<pre style=\"white-space:pre;overflow-x:auto;line-height:normal;font-family:Menlo,'DejaVu Sans Mono',consolas,'Courier New',monospace\">Best mean reward: 35.29 - Last mean reward per episode: 35.22\n",
       "</pre>\n"
      ],
      "text/plain": [
       "Best mean reward: 35.29 - Last mean reward per episode: 35.22\n"
      ]
     },
     "metadata": {},
     "output_type": "display_data"
    },
    {
     "data": {
      "text/html": [
       "<pre style=\"white-space:pre;overflow-x:auto;line-height:normal;font-family:Menlo,'DejaVu Sans Mono',consolas,'Courier New',monospace\">Num timesteps: 98000\n",
       "</pre>\n"
      ],
      "text/plain": [
       "Num timesteps: 98000\n"
      ]
     },
     "metadata": {},
     "output_type": "display_data"
    },
    {
     "data": {
      "text/html": [
       "<pre style=\"white-space:pre;overflow-x:auto;line-height:normal;font-family:Menlo,'DejaVu Sans Mono',consolas,'Courier New',monospace\">Best mean reward: 35.29 - Last mean reward per episode: 36.46\n",
       "</pre>\n"
      ],
      "text/plain": [
       "Best mean reward: 35.29 - Last mean reward per episode: 36.46\n"
      ]
     },
     "metadata": {},
     "output_type": "display_data"
    },
    {
     "data": {
      "text/html": [
       "<pre style=\"white-space:pre;overflow-x:auto;line-height:normal;font-family:Menlo,'DejaVu Sans Mono',consolas,'Courier New',monospace\">Saving new best model to tmp/gym/multiinput_256/best_model.zip\n",
       "</pre>\n"
      ],
      "text/plain": [
       "Saving new best model to tmp/gym/multiinput_256/best_model.zip\n"
      ]
     },
     "metadata": {},
     "output_type": "display_data"
    },
    {
     "data": {
      "text/html": [
       "<pre style=\"white-space:pre;overflow-x:auto;line-height:normal;font-family:Menlo,'DejaVu Sans Mono',consolas,'Courier New',monospace\">Num timesteps: 99000\n",
       "</pre>\n"
      ],
      "text/plain": [
       "Num timesteps: 99000\n"
      ]
     },
     "metadata": {},
     "output_type": "display_data"
    },
    {
     "data": {
      "text/html": [
       "<pre style=\"white-space:pre;overflow-x:auto;line-height:normal;font-family:Menlo,'DejaVu Sans Mono',consolas,'Courier New',monospace\">Best mean reward: 36.46 - Last mean reward per episode: 37.52\n",
       "</pre>\n"
      ],
      "text/plain": [
       "Best mean reward: 36.46 - Last mean reward per episode: 37.52\n"
      ]
     },
     "metadata": {},
     "output_type": "display_data"
    },
    {
     "data": {
      "text/html": [
       "<pre style=\"white-space:pre;overflow-x:auto;line-height:normal;font-family:Menlo,'DejaVu Sans Mono',consolas,'Courier New',monospace\">Saving new best model to tmp/gym/multiinput_256/best_model.zip\n",
       "</pre>\n"
      ],
      "text/plain": [
       "Saving new best model to tmp/gym/multiinput_256/best_model.zip\n"
      ]
     },
     "metadata": {},
     "output_type": "display_data"
    },
    {
     "data": {
      "text/html": [
       "<pre style=\"white-space:pre;overflow-x:auto;line-height:normal;font-family:Menlo,'DejaVu Sans Mono',consolas,'Courier New',monospace\">Num timesteps: 100000\n",
       "</pre>\n"
      ],
      "text/plain": [
       "Num timesteps: 100000\n"
      ]
     },
     "metadata": {},
     "output_type": "display_data"
    },
    {
     "data": {
      "text/html": [
       "<pre style=\"white-space:pre;overflow-x:auto;line-height:normal;font-family:Menlo,'DejaVu Sans Mono',consolas,'Courier New',monospace\">Best mean reward: 37.52 - Last mean reward per episode: 38.56\n",
       "</pre>\n"
      ],
      "text/plain": [
       "Best mean reward: 37.52 - Last mean reward per episode: 38.56\n"
      ]
     },
     "metadata": {},
     "output_type": "display_data"
    },
    {
     "data": {
      "text/html": [
       "<pre style=\"white-space:pre;overflow-x:auto;line-height:normal;font-family:Menlo,'DejaVu Sans Mono',consolas,'Courier New',monospace\">Saving new best model to tmp/gym/multiinput_256/best_model.zip\n",
       "</pre>\n"
      ],
      "text/plain": [
       "Saving new best model to tmp/gym/multiinput_256/best_model.zip\n"
      ]
     },
     "metadata": {},
     "output_type": "display_data"
    },
    {
     "data": {
      "text/html": [
       "<pre style=\"white-space:pre;overflow-x:auto;line-height:normal;font-family:Menlo,'DejaVu Sans Mono',consolas,'Courier New',monospace\">Num timesteps: 101000\n",
       "</pre>\n"
      ],
      "text/plain": [
       "Num timesteps: 101000\n"
      ]
     },
     "metadata": {},
     "output_type": "display_data"
    },
    {
     "data": {
      "text/html": [
       "<pre style=\"white-space:pre;overflow-x:auto;line-height:normal;font-family:Menlo,'DejaVu Sans Mono',consolas,'Courier New',monospace\">Best mean reward: 38.56 - Last mean reward per episode: 38.60\n",
       "</pre>\n"
      ],
      "text/plain": [
       "Best mean reward: 38.56 - Last mean reward per episode: 38.60\n"
      ]
     },
     "metadata": {},
     "output_type": "display_data"
    },
    {
     "data": {
      "text/html": [
       "<pre style=\"white-space:pre;overflow-x:auto;line-height:normal;font-family:Menlo,'DejaVu Sans Mono',consolas,'Courier New',monospace\">Saving new best model to tmp/gym/multiinput_256/best_model.zip\n",
       "</pre>\n"
      ],
      "text/plain": [
       "Saving new best model to tmp/gym/multiinput_256/best_model.zip\n"
      ]
     },
     "metadata": {},
     "output_type": "display_data"
    },
    {
     "data": {
      "text/html": [
       "<pre style=\"white-space:pre;overflow-x:auto;line-height:normal;font-family:Menlo,'DejaVu Sans Mono',consolas,'Courier New',monospace\">Num timesteps: 102000\n",
       "</pre>\n"
      ],
      "text/plain": [
       "Num timesteps: 102000\n"
      ]
     },
     "metadata": {},
     "output_type": "display_data"
    },
    {
     "data": {
      "text/html": [
       "<pre style=\"white-space:pre;overflow-x:auto;line-height:normal;font-family:Menlo,'DejaVu Sans Mono',consolas,'Courier New',monospace\">Best mean reward: 38.60 - Last mean reward per episode: 37.98\n",
       "</pre>\n"
      ],
      "text/plain": [
       "Best mean reward: 38.60 - Last mean reward per episode: 37.98\n"
      ]
     },
     "metadata": {},
     "output_type": "display_data"
    },
    {
     "name": "stdout",
     "output_type": "stream",
     "text": [
      "----------------------------------------\n",
      "| rollout/                |            |\n",
      "|    ep_len_mean          | 500        |\n",
      "|    ep_rew_mean          | 38         |\n",
      "| time/                   |            |\n",
      "|    fps                  | 89         |\n",
      "|    iterations           | 50         |\n",
      "|    time_elapsed         | 1138       |\n",
      "|    total_timesteps      | 102400     |\n",
      "| train/                  |            |\n",
      "|    approx_kl            | 0.23873079 |\n",
      "|    clip_fraction        | 0.63       |\n",
      "|    clip_range           | 0.2        |\n",
      "|    entropy_loss         | -9.31      |\n",
      "|    explained_variance   | 0.877      |\n",
      "|    learning_rate        | 0.0003     |\n",
      "|    loss                 | 0.0366     |\n",
      "|    n_updates            | 490        |\n",
      "|    policy_gradient_loss | -0.0611    |\n",
      "|    std                  | 0.913      |\n",
      "|    value_loss           | 0.729      |\n",
      "----------------------------------------\n"
     ]
    },
    {
     "data": {
      "text/html": [
       "<pre style=\"white-space:pre;overflow-x:auto;line-height:normal;font-family:Menlo,'DejaVu Sans Mono',consolas,'Courier New',monospace\">Num timesteps: 103000\n",
       "</pre>\n"
      ],
      "text/plain": [
       "Num timesteps: 103000\n"
      ]
     },
     "metadata": {},
     "output_type": "display_data"
    },
    {
     "data": {
      "text/html": [
       "<pre style=\"white-space:pre;overflow-x:auto;line-height:normal;font-family:Menlo,'DejaVu Sans Mono',consolas,'Courier New',monospace\">Best mean reward: 38.60 - Last mean reward per episode: 38.31\n",
       "</pre>\n"
      ],
      "text/plain": [
       "Best mean reward: 38.60 - Last mean reward per episode: 38.31\n"
      ]
     },
     "metadata": {},
     "output_type": "display_data"
    },
    {
     "data": {
      "text/html": [
       "<pre style=\"white-space:pre;overflow-x:auto;line-height:normal;font-family:Menlo,'DejaVu Sans Mono',consolas,'Courier New',monospace\">Num timesteps: 104000\n",
       "</pre>\n"
      ],
      "text/plain": [
       "Num timesteps: 104000\n"
      ]
     },
     "metadata": {},
     "output_type": "display_data"
    },
    {
     "data": {
      "text/html": [
       "<pre style=\"white-space:pre;overflow-x:auto;line-height:normal;font-family:Menlo,'DejaVu Sans Mono',consolas,'Courier New',monospace\">Best mean reward: 38.60 - Last mean reward per episode: 38.77\n",
       "</pre>\n"
      ],
      "text/plain": [
       "Best mean reward: 38.60 - Last mean reward per episode: 38.77\n"
      ]
     },
     "metadata": {},
     "output_type": "display_data"
    },
    {
     "data": {
      "text/html": [
       "<pre style=\"white-space:pre;overflow-x:auto;line-height:normal;font-family:Menlo,'DejaVu Sans Mono',consolas,'Courier New',monospace\">Saving new best model to tmp/gym/multiinput_256/best_model.zip\n",
       "</pre>\n"
      ],
      "text/plain": [
       "Saving new best model to tmp/gym/multiinput_256/best_model.zip\n"
      ]
     },
     "metadata": {},
     "output_type": "display_data"
    },
    {
     "data": {
      "text/html": [
       "<pre style=\"white-space:pre;overflow-x:auto;line-height:normal;font-family:Menlo,'DejaVu Sans Mono',consolas,'Courier New',monospace\">Num timesteps: 105000\n",
       "</pre>\n"
      ],
      "text/plain": [
       "Num timesteps: 105000\n"
      ]
     },
     "metadata": {},
     "output_type": "display_data"
    },
    {
     "data": {
      "text/html": [
       "<pre style=\"white-space:pre;overflow-x:auto;line-height:normal;font-family:Menlo,'DejaVu Sans Mono',consolas,'Courier New',monospace\">Best mean reward: 38.77 - Last mean reward per episode: 38.94\n",
       "</pre>\n"
      ],
      "text/plain": [
       "Best mean reward: 38.77 - Last mean reward per episode: 38.94\n"
      ]
     },
     "metadata": {},
     "output_type": "display_data"
    },
    {
     "data": {
      "text/html": [
       "<pre style=\"white-space:pre;overflow-x:auto;line-height:normal;font-family:Menlo,'DejaVu Sans Mono',consolas,'Courier New',monospace\">Saving new best model to tmp/gym/multiinput_256/best_model.zip\n",
       "</pre>\n"
      ],
      "text/plain": [
       "Saving new best model to tmp/gym/multiinput_256/best_model.zip\n"
      ]
     },
     "metadata": {},
     "output_type": "display_data"
    },
    {
     "data": {
      "text/html": [
       "<pre style=\"white-space:pre;overflow-x:auto;line-height:normal;font-family:Menlo,'DejaVu Sans Mono',consolas,'Courier New',monospace\">Num timesteps: 106000\n",
       "</pre>\n"
      ],
      "text/plain": [
       "Num timesteps: 106000\n"
      ]
     },
     "metadata": {},
     "output_type": "display_data"
    },
    {
     "data": {
      "text/html": [
       "<pre style=\"white-space:pre;overflow-x:auto;line-height:normal;font-family:Menlo,'DejaVu Sans Mono',consolas,'Courier New',monospace\">Best mean reward: 38.94 - Last mean reward per episode: 39.52\n",
       "</pre>\n"
      ],
      "text/plain": [
       "Best mean reward: 38.94 - Last mean reward per episode: 39.52\n"
      ]
     },
     "metadata": {},
     "output_type": "display_data"
    },
    {
     "data": {
      "text/html": [
       "<pre style=\"white-space:pre;overflow-x:auto;line-height:normal;font-family:Menlo,'DejaVu Sans Mono',consolas,'Courier New',monospace\">Saving new best model to tmp/gym/multiinput_256/best_model.zip\n",
       "</pre>\n"
      ],
      "text/plain": [
       "Saving new best model to tmp/gym/multiinput_256/best_model.zip\n"
      ]
     },
     "metadata": {},
     "output_type": "display_data"
    },
    {
     "data": {
      "text/html": [
       "<pre style=\"white-space:pre;overflow-x:auto;line-height:normal;font-family:Menlo,'DejaVu Sans Mono',consolas,'Courier New',monospace\">Num timesteps: 107000\n",
       "</pre>\n"
      ],
      "text/plain": [
       "Num timesteps: 107000\n"
      ]
     },
     "metadata": {},
     "output_type": "display_data"
    },
    {
     "data": {
      "text/html": [
       "<pre style=\"white-space:pre;overflow-x:auto;line-height:normal;font-family:Menlo,'DejaVu Sans Mono',consolas,'Courier New',monospace\">Best mean reward: 39.52 - Last mean reward per episode: 40.03\n",
       "</pre>\n"
      ],
      "text/plain": [
       "Best mean reward: 39.52 - Last mean reward per episode: 40.03\n"
      ]
     },
     "metadata": {},
     "output_type": "display_data"
    },
    {
     "data": {
      "text/html": [
       "<pre style=\"white-space:pre;overflow-x:auto;line-height:normal;font-family:Menlo,'DejaVu Sans Mono',consolas,'Courier New',monospace\">Saving new best model to tmp/gym/multiinput_256/best_model.zip\n",
       "</pre>\n"
      ],
      "text/plain": [
       "Saving new best model to tmp/gym/multiinput_256/best_model.zip\n"
      ]
     },
     "metadata": {},
     "output_type": "display_data"
    },
    {
     "data": {
      "text/html": [
       "<pre style=\"white-space:pre;overflow-x:auto;line-height:normal;font-family:Menlo,'DejaVu Sans Mono',consolas,'Courier New',monospace\">Num timesteps: 108000\n",
       "</pre>\n"
      ],
      "text/plain": [
       "Num timesteps: 108000\n"
      ]
     },
     "metadata": {},
     "output_type": "display_data"
    },
    {
     "data": {
      "text/html": [
       "<pre style=\"white-space:pre;overflow-x:auto;line-height:normal;font-family:Menlo,'DejaVu Sans Mono',consolas,'Courier New',monospace\">Best mean reward: 40.03 - Last mean reward per episode: 39.88\n",
       "</pre>\n"
      ],
      "text/plain": [
       "Best mean reward: 40.03 - Last mean reward per episode: 39.88\n"
      ]
     },
     "metadata": {},
     "output_type": "display_data"
    },
    {
     "data": {
      "text/html": [
       "<pre style=\"white-space:pre;overflow-x:auto;line-height:normal;font-family:Menlo,'DejaVu Sans Mono',consolas,'Courier New',monospace\">Num timesteps: 109000\n",
       "</pre>\n"
      ],
      "text/plain": [
       "Num timesteps: 109000\n"
      ]
     },
     "metadata": {},
     "output_type": "display_data"
    },
    {
     "data": {
      "text/html": [
       "<pre style=\"white-space:pre;overflow-x:auto;line-height:normal;font-family:Menlo,'DejaVu Sans Mono',consolas,'Courier New',monospace\">Best mean reward: 40.03 - Last mean reward per episode: 39.69\n",
       "</pre>\n"
      ],
      "text/plain": [
       "Best mean reward: 40.03 - Last mean reward per episode: 39.69\n"
      ]
     },
     "metadata": {},
     "output_type": "display_data"
    },
    {
     "data": {
      "text/html": [
       "<pre style=\"white-space:pre;overflow-x:auto;line-height:normal;font-family:Menlo,'DejaVu Sans Mono',consolas,'Courier New',monospace\">Num timesteps: 110000\n",
       "</pre>\n"
      ],
      "text/plain": [
       "Num timesteps: 110000\n"
      ]
     },
     "metadata": {},
     "output_type": "display_data"
    },
    {
     "data": {
      "text/html": [
       "<pre style=\"white-space:pre;overflow-x:auto;line-height:normal;font-family:Menlo,'DejaVu Sans Mono',consolas,'Courier New',monospace\">Best mean reward: 40.03 - Last mean reward per episode: 40.05\n",
       "</pre>\n"
      ],
      "text/plain": [
       "Best mean reward: 40.03 - Last mean reward per episode: 40.05\n"
      ]
     },
     "metadata": {},
     "output_type": "display_data"
    },
    {
     "data": {
      "text/html": [
       "<pre style=\"white-space:pre;overflow-x:auto;line-height:normal;font-family:Menlo,'DejaVu Sans Mono',consolas,'Courier New',monospace\">Saving new best model to tmp/gym/multiinput_256/best_model.zip\n",
       "</pre>\n"
      ],
      "text/plain": [
       "Saving new best model to tmp/gym/multiinput_256/best_model.zip\n"
      ]
     },
     "metadata": {},
     "output_type": "display_data"
    },
    {
     "data": {
      "text/html": [
       "<pre style=\"white-space:pre;overflow-x:auto;line-height:normal;font-family:Menlo,'DejaVu Sans Mono',consolas,'Courier New',monospace\">Num timesteps: 111000\n",
       "</pre>\n"
      ],
      "text/plain": [
       "Num timesteps: 111000\n"
      ]
     },
     "metadata": {},
     "output_type": "display_data"
    },
    {
     "data": {
      "text/html": [
       "<pre style=\"white-space:pre;overflow-x:auto;line-height:normal;font-family:Menlo,'DejaVu Sans Mono',consolas,'Courier New',monospace\">Best mean reward: 40.05 - Last mean reward per episode: 40.74\n",
       "</pre>\n"
      ],
      "text/plain": [
       "Best mean reward: 40.05 - Last mean reward per episode: 40.74\n"
      ]
     },
     "metadata": {},
     "output_type": "display_data"
    },
    {
     "data": {
      "text/html": [
       "<pre style=\"white-space:pre;overflow-x:auto;line-height:normal;font-family:Menlo,'DejaVu Sans Mono',consolas,'Courier New',monospace\">Saving new best model to tmp/gym/multiinput_256/best_model.zip\n",
       "</pre>\n"
      ],
      "text/plain": [
       "Saving new best model to tmp/gym/multiinput_256/best_model.zip\n"
      ]
     },
     "metadata": {},
     "output_type": "display_data"
    },
    {
     "data": {
      "text/html": [
       "<pre style=\"white-space:pre;overflow-x:auto;line-height:normal;font-family:Menlo,'DejaVu Sans Mono',consolas,'Courier New',monospace\">Num timesteps: 112000\n",
       "</pre>\n"
      ],
      "text/plain": [
       "Num timesteps: 112000\n"
      ]
     },
     "metadata": {},
     "output_type": "display_data"
    },
    {
     "data": {
      "text/html": [
       "<pre style=\"white-space:pre;overflow-x:auto;line-height:normal;font-family:Menlo,'DejaVu Sans Mono',consolas,'Courier New',monospace\">Best mean reward: 40.74 - Last mean reward per episode: 40.76\n",
       "</pre>\n"
      ],
      "text/plain": [
       "Best mean reward: 40.74 - Last mean reward per episode: 40.76\n"
      ]
     },
     "metadata": {},
     "output_type": "display_data"
    },
    {
     "data": {
      "text/html": [
       "<pre style=\"white-space:pre;overflow-x:auto;line-height:normal;font-family:Menlo,'DejaVu Sans Mono',consolas,'Courier New',monospace\">Saving new best model to tmp/gym/multiinput_256/best_model.zip\n",
       "</pre>\n"
      ],
      "text/plain": [
       "Saving new best model to tmp/gym/multiinput_256/best_model.zip\n"
      ]
     },
     "metadata": {},
     "output_type": "display_data"
    },
    {
     "data": {
      "text/html": [
       "<pre style=\"white-space:pre;overflow-x:auto;line-height:normal;font-family:Menlo,'DejaVu Sans Mono',consolas,'Courier New',monospace\">Num timesteps: 113000\n",
       "</pre>\n"
      ],
      "text/plain": [
       "Num timesteps: 113000\n"
      ]
     },
     "metadata": {},
     "output_type": "display_data"
    },
    {
     "data": {
      "text/html": [
       "<pre style=\"white-space:pre;overflow-x:auto;line-height:normal;font-family:Menlo,'DejaVu Sans Mono',consolas,'Courier New',monospace\">Best mean reward: 40.76 - Last mean reward per episode: 40.66\n",
       "</pre>\n"
      ],
      "text/plain": [
       "Best mean reward: 40.76 - Last mean reward per episode: 40.66\n"
      ]
     },
     "metadata": {},
     "output_type": "display_data"
    },
    {
     "data": {
      "text/html": [
       "<pre style=\"white-space:pre;overflow-x:auto;line-height:normal;font-family:Menlo,'DejaVu Sans Mono',consolas,'Courier New',monospace\">Num timesteps: 114000\n",
       "</pre>\n"
      ],
      "text/plain": [
       "Num timesteps: 114000\n"
      ]
     },
     "metadata": {},
     "output_type": "display_data"
    },
    {
     "data": {
      "text/html": [
       "<pre style=\"white-space:pre;overflow-x:auto;line-height:normal;font-family:Menlo,'DejaVu Sans Mono',consolas,'Courier New',monospace\">Best mean reward: 40.76 - Last mean reward per episode: 41.23\n",
       "</pre>\n"
      ],
      "text/plain": [
       "Best mean reward: 40.76 - Last mean reward per episode: 41.23\n"
      ]
     },
     "metadata": {},
     "output_type": "display_data"
    },
    {
     "data": {
      "text/html": [
       "<pre style=\"white-space:pre;overflow-x:auto;line-height:normal;font-family:Menlo,'DejaVu Sans Mono',consolas,'Courier New',monospace\">Saving new best model to tmp/gym/multiinput_256/best_model.zip\n",
       "</pre>\n"
      ],
      "text/plain": [
       "Saving new best model to tmp/gym/multiinput_256/best_model.zip\n"
      ]
     },
     "metadata": {},
     "output_type": "display_data"
    },
    {
     "data": {
      "text/html": [
       "<pre style=\"white-space:pre;overflow-x:auto;line-height:normal;font-family:Menlo,'DejaVu Sans Mono',consolas,'Courier New',monospace\">Num timesteps: 115000\n",
       "</pre>\n"
      ],
      "text/plain": [
       "Num timesteps: 115000\n"
      ]
     },
     "metadata": {},
     "output_type": "display_data"
    },
    {
     "data": {
      "text/html": [
       "<pre style=\"white-space:pre;overflow-x:auto;line-height:normal;font-family:Menlo,'DejaVu Sans Mono',consolas,'Courier New',monospace\">Best mean reward: 41.23 - Last mean reward per episode: 42.07\n",
       "</pre>\n"
      ],
      "text/plain": [
       "Best mean reward: 41.23 - Last mean reward per episode: 42.07\n"
      ]
     },
     "metadata": {},
     "output_type": "display_data"
    },
    {
     "data": {
      "text/html": [
       "<pre style=\"white-space:pre;overflow-x:auto;line-height:normal;font-family:Menlo,'DejaVu Sans Mono',consolas,'Courier New',monospace\">Saving new best model to tmp/gym/multiinput_256/best_model.zip\n",
       "</pre>\n"
      ],
      "text/plain": [
       "Saving new best model to tmp/gym/multiinput_256/best_model.zip\n"
      ]
     },
     "metadata": {},
     "output_type": "display_data"
    },
    {
     "data": {
      "text/html": [
       "<pre style=\"white-space:pre;overflow-x:auto;line-height:normal;font-family:Menlo,'DejaVu Sans Mono',consolas,'Courier New',monospace\">Num timesteps: 116000\n",
       "</pre>\n"
      ],
      "text/plain": [
       "Num timesteps: 116000\n"
      ]
     },
     "metadata": {},
     "output_type": "display_data"
    },
    {
     "data": {
      "text/html": [
       "<pre style=\"white-space:pre;overflow-x:auto;line-height:normal;font-family:Menlo,'DejaVu Sans Mono',consolas,'Courier New',monospace\">Best mean reward: 42.07 - Last mean reward per episode: 41.27\n",
       "</pre>\n"
      ],
      "text/plain": [
       "Best mean reward: 42.07 - Last mean reward per episode: 41.27\n"
      ]
     },
     "metadata": {},
     "output_type": "display_data"
    },
    {
     "data": {
      "text/html": [
       "<pre style=\"white-space:pre;overflow-x:auto;line-height:normal;font-family:Menlo,'DejaVu Sans Mono',consolas,'Courier New',monospace\">Num timesteps: 117000\n",
       "</pre>\n"
      ],
      "text/plain": [
       "Num timesteps: 117000\n"
      ]
     },
     "metadata": {},
     "output_type": "display_data"
    },
    {
     "data": {
      "text/html": [
       "<pre style=\"white-space:pre;overflow-x:auto;line-height:normal;font-family:Menlo,'DejaVu Sans Mono',consolas,'Courier New',monospace\">Best mean reward: 42.07 - Last mean reward per episode: 41.46\n",
       "</pre>\n"
      ],
      "text/plain": [
       "Best mean reward: 42.07 - Last mean reward per episode: 41.46\n"
      ]
     },
     "metadata": {},
     "output_type": "display_data"
    },
    {
     "data": {
      "text/html": [
       "<pre style=\"white-space:pre;overflow-x:auto;line-height:normal;font-family:Menlo,'DejaVu Sans Mono',consolas,'Courier New',monospace\">Num timesteps: 118000\n",
       "</pre>\n"
      ],
      "text/plain": [
       "Num timesteps: 118000\n"
      ]
     },
     "metadata": {},
     "output_type": "display_data"
    },
    {
     "data": {
      "text/html": [
       "<pre style=\"white-space:pre;overflow-x:auto;line-height:normal;font-family:Menlo,'DejaVu Sans Mono',consolas,'Courier New',monospace\">Best mean reward: 42.07 - Last mean reward per episode: 41.21\n",
       "</pre>\n"
      ],
      "text/plain": [
       "Best mean reward: 42.07 - Last mean reward per episode: 41.21\n"
      ]
     },
     "metadata": {},
     "output_type": "display_data"
    },
    {
     "data": {
      "text/html": [
       "<pre style=\"white-space:pre;overflow-x:auto;line-height:normal;font-family:Menlo,'DejaVu Sans Mono',consolas,'Courier New',monospace\">Num timesteps: 119000\n",
       "</pre>\n"
      ],
      "text/plain": [
       "Num timesteps: 119000\n"
      ]
     },
     "metadata": {},
     "output_type": "display_data"
    },
    {
     "data": {
      "text/html": [
       "<pre style=\"white-space:pre;overflow-x:auto;line-height:normal;font-family:Menlo,'DejaVu Sans Mono',consolas,'Courier New',monospace\">Best mean reward: 42.07 - Last mean reward per episode: 40.34\n",
       "</pre>\n"
      ],
      "text/plain": [
       "Best mean reward: 42.07 - Last mean reward per episode: 40.34\n"
      ]
     },
     "metadata": {},
     "output_type": "display_data"
    },
    {
     "data": {
      "text/html": [
       "<pre style=\"white-space:pre;overflow-x:auto;line-height:normal;font-family:Menlo,'DejaVu Sans Mono',consolas,'Courier New',monospace\">Num timesteps: 120000\n",
       "</pre>\n"
      ],
      "text/plain": [
       "Num timesteps: 120000\n"
      ]
     },
     "metadata": {},
     "output_type": "display_data"
    },
    {
     "data": {
      "text/html": [
       "<pre style=\"white-space:pre;overflow-x:auto;line-height:normal;font-family:Menlo,'DejaVu Sans Mono',consolas,'Courier New',monospace\">Best mean reward: 42.07 - Last mean reward per episode: 39.96\n",
       "</pre>\n"
      ],
      "text/plain": [
       "Best mean reward: 42.07 - Last mean reward per episode: 39.96\n"
      ]
     },
     "metadata": {},
     "output_type": "display_data"
    },
    {
     "data": {
      "text/html": [
       "<pre style=\"white-space:pre;overflow-x:auto;line-height:normal;font-family:Menlo,'DejaVu Sans Mono',consolas,'Courier New',monospace\">Num timesteps: 121000\n",
       "</pre>\n"
      ],
      "text/plain": [
       "Num timesteps: 121000\n"
      ]
     },
     "metadata": {},
     "output_type": "display_data"
    },
    {
     "data": {
      "text/html": [
       "<pre style=\"white-space:pre;overflow-x:auto;line-height:normal;font-family:Menlo,'DejaVu Sans Mono',consolas,'Courier New',monospace\">Best mean reward: 42.07 - Last mean reward per episode: 38.90\n",
       "</pre>\n"
      ],
      "text/plain": [
       "Best mean reward: 42.07 - Last mean reward per episode: 38.90\n"
      ]
     },
     "metadata": {},
     "output_type": "display_data"
    },
    {
     "data": {
      "text/html": [
       "<pre style=\"white-space:pre;overflow-x:auto;line-height:normal;font-family:Menlo,'DejaVu Sans Mono',consolas,'Courier New',monospace\">Num timesteps: 122000\n",
       "</pre>\n"
      ],
      "text/plain": [
       "Num timesteps: 122000\n"
      ]
     },
     "metadata": {},
     "output_type": "display_data"
    },
    {
     "data": {
      "text/html": [
       "<pre style=\"white-space:pre;overflow-x:auto;line-height:normal;font-family:Menlo,'DejaVu Sans Mono',consolas,'Courier New',monospace\">Best mean reward: 42.07 - Last mean reward per episode: 38.22\n",
       "</pre>\n"
      ],
      "text/plain": [
       "Best mean reward: 42.07 - Last mean reward per episode: 38.22\n"
      ]
     },
     "metadata": {},
     "output_type": "display_data"
    },
    {
     "name": "stdout",
     "output_type": "stream",
     "text": [
      "---------------------------------------\n",
      "| rollout/                |           |\n",
      "|    ep_len_mean          | 500       |\n",
      "|    ep_rew_mean          | 37.5      |\n",
      "| time/                   |           |\n",
      "|    fps                  | 89        |\n",
      "|    iterations           | 60        |\n",
      "|    time_elapsed         | 1369      |\n",
      "|    total_timesteps      | 122880    |\n",
      "| train/                  |           |\n",
      "|    approx_kl            | 0.3654223 |\n",
      "|    clip_fraction        | 0.645     |\n",
      "|    clip_range           | 0.2       |\n",
      "|    entropy_loss         | -9.08     |\n",
      "|    explained_variance   | 0.907     |\n",
      "|    learning_rate        | 0.0003    |\n",
      "|    loss                 | -0.0785   |\n",
      "|    n_updates            | 590       |\n",
      "|    policy_gradient_loss | -0.0726   |\n",
      "|    std                  | 0.883     |\n",
      "|    value_loss           | 0.119     |\n",
      "---------------------------------------\n"
     ]
    },
    {
     "data": {
      "text/html": [
       "<pre style=\"white-space:pre;overflow-x:auto;line-height:normal;font-family:Menlo,'DejaVu Sans Mono',consolas,'Courier New',monospace\">Num timesteps: 123000\n",
       "</pre>\n"
      ],
      "text/plain": [
       "Num timesteps: 123000\n"
      ]
     },
     "metadata": {},
     "output_type": "display_data"
    },
    {
     "data": {
      "text/html": [
       "<pre style=\"white-space:pre;overflow-x:auto;line-height:normal;font-family:Menlo,'DejaVu Sans Mono',consolas,'Courier New',monospace\">Best mean reward: 42.07 - Last mean reward per episode: 37.51\n",
       "</pre>\n"
      ],
      "text/plain": [
       "Best mean reward: 42.07 - Last mean reward per episode: 37.51\n"
      ]
     },
     "metadata": {},
     "output_type": "display_data"
    },
    {
     "data": {
      "text/html": [
       "<pre style=\"white-space:pre;overflow-x:auto;line-height:normal;font-family:Menlo,'DejaVu Sans Mono',consolas,'Courier New',monospace\">Num timesteps: 124000\n",
       "</pre>\n"
      ],
      "text/plain": [
       "Num timesteps: 124000\n"
      ]
     },
     "metadata": {},
     "output_type": "display_data"
    },
    {
     "data": {
      "text/html": [
       "<pre style=\"white-space:pre;overflow-x:auto;line-height:normal;font-family:Menlo,'DejaVu Sans Mono',consolas,'Courier New',monospace\">Best mean reward: 42.07 - Last mean reward per episode: 37.47\n",
       "</pre>\n"
      ],
      "text/plain": [
       "Best mean reward: 42.07 - Last mean reward per episode: 37.47\n"
      ]
     },
     "metadata": {},
     "output_type": "display_data"
    },
    {
     "data": {
      "text/html": [
       "<pre style=\"white-space:pre;overflow-x:auto;line-height:normal;font-family:Menlo,'DejaVu Sans Mono',consolas,'Courier New',monospace\">Num timesteps: 125000\n",
       "</pre>\n"
      ],
      "text/plain": [
       "Num timesteps: 125000\n"
      ]
     },
     "metadata": {},
     "output_type": "display_data"
    },
    {
     "data": {
      "text/html": [
       "<pre style=\"white-space:pre;overflow-x:auto;line-height:normal;font-family:Menlo,'DejaVu Sans Mono',consolas,'Courier New',monospace\">Best mean reward: 42.07 - Last mean reward per episode: 37.91\n",
       "</pre>\n"
      ],
      "text/plain": [
       "Best mean reward: 42.07 - Last mean reward per episode: 37.91\n"
      ]
     },
     "metadata": {},
     "output_type": "display_data"
    },
    {
     "data": {
      "text/html": [
       "<pre style=\"white-space:pre;overflow-x:auto;line-height:normal;font-family:Menlo,'DejaVu Sans Mono',consolas,'Courier New',monospace\">Num timesteps: 126000\n",
       "</pre>\n"
      ],
      "text/plain": [
       "Num timesteps: 126000\n"
      ]
     },
     "metadata": {},
     "output_type": "display_data"
    },
    {
     "data": {
      "text/html": [
       "<pre style=\"white-space:pre;overflow-x:auto;line-height:normal;font-family:Menlo,'DejaVu Sans Mono',consolas,'Courier New',monospace\">Best mean reward: 42.07 - Last mean reward per episode: 38.04\n",
       "</pre>\n"
      ],
      "text/plain": [
       "Best mean reward: 42.07 - Last mean reward per episode: 38.04\n"
      ]
     },
     "metadata": {},
     "output_type": "display_data"
    },
    {
     "data": {
      "text/html": [
       "<pre style=\"white-space:pre;overflow-x:auto;line-height:normal;font-family:Menlo,'DejaVu Sans Mono',consolas,'Courier New',monospace\">Num timesteps: 127000\n",
       "</pre>\n"
      ],
      "text/plain": [
       "Num timesteps: 127000\n"
      ]
     },
     "metadata": {},
     "output_type": "display_data"
    },
    {
     "data": {
      "text/html": [
       "<pre style=\"white-space:pre;overflow-x:auto;line-height:normal;font-family:Menlo,'DejaVu Sans Mono',consolas,'Courier New',monospace\">Best mean reward: 42.07 - Last mean reward per episode: 37.98\n",
       "</pre>\n"
      ],
      "text/plain": [
       "Best mean reward: 42.07 - Last mean reward per episode: 37.98\n"
      ]
     },
     "metadata": {},
     "output_type": "display_data"
    },
    {
     "data": {
      "text/html": [
       "<pre style=\"white-space:pre;overflow-x:auto;line-height:normal;font-family:Menlo,'DejaVu Sans Mono',consolas,'Courier New',monospace\">Num timesteps: 128000\n",
       "</pre>\n"
      ],
      "text/plain": [
       "Num timesteps: 128000\n"
      ]
     },
     "metadata": {},
     "output_type": "display_data"
    },
    {
     "data": {
      "text/html": [
       "<pre style=\"white-space:pre;overflow-x:auto;line-height:normal;font-family:Menlo,'DejaVu Sans Mono',consolas,'Courier New',monospace\">Best mean reward: 42.07 - Last mean reward per episode: 37.71\n",
       "</pre>\n"
      ],
      "text/plain": [
       "Best mean reward: 42.07 - Last mean reward per episode: 37.71\n"
      ]
     },
     "metadata": {},
     "output_type": "display_data"
    },
    {
     "data": {
      "text/html": [
       "<pre style=\"white-space:pre;overflow-x:auto;line-height:normal;font-family:Menlo,'DejaVu Sans Mono',consolas,'Courier New',monospace\">Num timesteps: 129000\n",
       "</pre>\n"
      ],
      "text/plain": [
       "Num timesteps: 129000\n"
      ]
     },
     "metadata": {},
     "output_type": "display_data"
    },
    {
     "data": {
      "text/html": [
       "<pre style=\"white-space:pre;overflow-x:auto;line-height:normal;font-family:Menlo,'DejaVu Sans Mono',consolas,'Courier New',monospace\">Best mean reward: 42.07 - Last mean reward per episode: 37.06\n",
       "</pre>\n"
      ],
      "text/plain": [
       "Best mean reward: 42.07 - Last mean reward per episode: 37.06\n"
      ]
     },
     "metadata": {},
     "output_type": "display_data"
    },
    {
     "data": {
      "text/html": [
       "<pre style=\"white-space:pre;overflow-x:auto;line-height:normal;font-family:Menlo,'DejaVu Sans Mono',consolas,'Courier New',monospace\">Num timesteps: 130000\n",
       "</pre>\n"
      ],
      "text/plain": [
       "Num timesteps: 130000\n"
      ]
     },
     "metadata": {},
     "output_type": "display_data"
    },
    {
     "data": {
      "text/html": [
       "<pre style=\"white-space:pre;overflow-x:auto;line-height:normal;font-family:Menlo,'DejaVu Sans Mono',consolas,'Courier New',monospace\">Best mean reward: 42.07 - Last mean reward per episode: 37.37\n",
       "</pre>\n"
      ],
      "text/plain": [
       "Best mean reward: 42.07 - Last mean reward per episode: 37.37\n"
      ]
     },
     "metadata": {},
     "output_type": "display_data"
    },
    {
     "data": {
      "text/html": [
       "<pre style=\"white-space:pre;overflow-x:auto;line-height:normal;font-family:Menlo,'DejaVu Sans Mono',consolas,'Courier New',monospace\">Num timesteps: 131000\n",
       "</pre>\n"
      ],
      "text/plain": [
       "Num timesteps: 131000\n"
      ]
     },
     "metadata": {},
     "output_type": "display_data"
    },
    {
     "data": {
      "text/html": [
       "<pre style=\"white-space:pre;overflow-x:auto;line-height:normal;font-family:Menlo,'DejaVu Sans Mono',consolas,'Courier New',monospace\">Best mean reward: 42.07 - Last mean reward per episode: 37.38\n",
       "</pre>\n"
      ],
      "text/plain": [
       "Best mean reward: 42.07 - Last mean reward per episode: 37.38\n"
      ]
     },
     "metadata": {},
     "output_type": "display_data"
    },
    {
     "data": {
      "text/html": [
       "<pre style=\"white-space:pre;overflow-x:auto;line-height:normal;font-family:Menlo,'DejaVu Sans Mono',consolas,'Courier New',monospace\">Num timesteps: 132000\n",
       "</pre>\n"
      ],
      "text/plain": [
       "Num timesteps: 132000\n"
      ]
     },
     "metadata": {},
     "output_type": "display_data"
    },
    {
     "data": {
      "text/html": [
       "<pre style=\"white-space:pre;overflow-x:auto;line-height:normal;font-family:Menlo,'DejaVu Sans Mono',consolas,'Courier New',monospace\">Best mean reward: 42.07 - Last mean reward per episode: 36.49\n",
       "</pre>\n"
      ],
      "text/plain": [
       "Best mean reward: 42.07 - Last mean reward per episode: 36.49\n"
      ]
     },
     "metadata": {},
     "output_type": "display_data"
    },
    {
     "data": {
      "text/html": [
       "<pre style=\"white-space:pre;overflow-x:auto;line-height:normal;font-family:Menlo,'DejaVu Sans Mono',consolas,'Courier New',monospace\">Num timesteps: 133000\n",
       "</pre>\n"
      ],
      "text/plain": [
       "Num timesteps: 133000\n"
      ]
     },
     "metadata": {},
     "output_type": "display_data"
    },
    {
     "data": {
      "text/html": [
       "<pre style=\"white-space:pre;overflow-x:auto;line-height:normal;font-family:Menlo,'DejaVu Sans Mono',consolas,'Courier New',monospace\">Best mean reward: 42.07 - Last mean reward per episode: 36.46\n",
       "</pre>\n"
      ],
      "text/plain": [
       "Best mean reward: 42.07 - Last mean reward per episode: 36.46\n"
      ]
     },
     "metadata": {},
     "output_type": "display_data"
    },
    {
     "data": {
      "text/html": [
       "<pre style=\"white-space:pre;overflow-x:auto;line-height:normal;font-family:Menlo,'DejaVu Sans Mono',consolas,'Courier New',monospace\">Num timesteps: 134000\n",
       "</pre>\n"
      ],
      "text/plain": [
       "Num timesteps: 134000\n"
      ]
     },
     "metadata": {},
     "output_type": "display_data"
    },
    {
     "data": {
      "text/html": [
       "<pre style=\"white-space:pre;overflow-x:auto;line-height:normal;font-family:Menlo,'DejaVu Sans Mono',consolas,'Courier New',monospace\">Best mean reward: 42.07 - Last mean reward per episode: 36.69\n",
       "</pre>\n"
      ],
      "text/plain": [
       "Best mean reward: 42.07 - Last mean reward per episode: 36.69\n"
      ]
     },
     "metadata": {},
     "output_type": "display_data"
    },
    {
     "data": {
      "text/html": [
       "<pre style=\"white-space:pre;overflow-x:auto;line-height:normal;font-family:Menlo,'DejaVu Sans Mono',consolas,'Courier New',monospace\">Num timesteps: 135000\n",
       "</pre>\n"
      ],
      "text/plain": [
       "Num timesteps: 135000\n"
      ]
     },
     "metadata": {},
     "output_type": "display_data"
    },
    {
     "data": {
      "text/html": [
       "<pre style=\"white-space:pre;overflow-x:auto;line-height:normal;font-family:Menlo,'DejaVu Sans Mono',consolas,'Courier New',monospace\">Best mean reward: 42.07 - Last mean reward per episode: 37.22\n",
       "</pre>\n"
      ],
      "text/plain": [
       "Best mean reward: 42.07 - Last mean reward per episode: 37.22\n"
      ]
     },
     "metadata": {},
     "output_type": "display_data"
    },
    {
     "data": {
      "text/html": [
       "<pre style=\"white-space:pre;overflow-x:auto;line-height:normal;font-family:Menlo,'DejaVu Sans Mono',consolas,'Courier New',monospace\">Num timesteps: 136000\n",
       "</pre>\n"
      ],
      "text/plain": [
       "Num timesteps: 136000\n"
      ]
     },
     "metadata": {},
     "output_type": "display_data"
    },
    {
     "data": {
      "text/html": [
       "<pre style=\"white-space:pre;overflow-x:auto;line-height:normal;font-family:Menlo,'DejaVu Sans Mono',consolas,'Courier New',monospace\">Best mean reward: 42.07 - Last mean reward per episode: 37.50\n",
       "</pre>\n"
      ],
      "text/plain": [
       "Best mean reward: 42.07 - Last mean reward per episode: 37.50\n"
      ]
     },
     "metadata": {},
     "output_type": "display_data"
    },
    {
     "data": {
      "text/html": [
       "<pre style=\"white-space:pre;overflow-x:auto;line-height:normal;font-family:Menlo,'DejaVu Sans Mono',consolas,'Courier New',monospace\">Num timesteps: 137000\n",
       "</pre>\n"
      ],
      "text/plain": [
       "Num timesteps: 137000\n"
      ]
     },
     "metadata": {},
     "output_type": "display_data"
    },
    {
     "data": {
      "text/html": [
       "<pre style=\"white-space:pre;overflow-x:auto;line-height:normal;font-family:Menlo,'DejaVu Sans Mono',consolas,'Courier New',monospace\">Best mean reward: 42.07 - Last mean reward per episode: 37.14\n",
       "</pre>\n"
      ],
      "text/plain": [
       "Best mean reward: 42.07 - Last mean reward per episode: 37.14\n"
      ]
     },
     "metadata": {},
     "output_type": "display_data"
    },
    {
     "data": {
      "text/html": [
       "<pre style=\"white-space:pre;overflow-x:auto;line-height:normal;font-family:Menlo,'DejaVu Sans Mono',consolas,'Courier New',monospace\">Num timesteps: 138000\n",
       "</pre>\n"
      ],
      "text/plain": [
       "Num timesteps: 138000\n"
      ]
     },
     "metadata": {},
     "output_type": "display_data"
    },
    {
     "data": {
      "text/html": [
       "<pre style=\"white-space:pre;overflow-x:auto;line-height:normal;font-family:Menlo,'DejaVu Sans Mono',consolas,'Courier New',monospace\">Best mean reward: 42.07 - Last mean reward per episode: 36.98\n",
       "</pre>\n"
      ],
      "text/plain": [
       "Best mean reward: 42.07 - Last mean reward per episode: 36.98\n"
      ]
     },
     "metadata": {},
     "output_type": "display_data"
    },
    {
     "data": {
      "text/html": [
       "<pre style=\"white-space:pre;overflow-x:auto;line-height:normal;font-family:Menlo,'DejaVu Sans Mono',consolas,'Courier New',monospace\">Num timesteps: 139000\n",
       "</pre>\n"
      ],
      "text/plain": [
       "Num timesteps: 139000\n"
      ]
     },
     "metadata": {},
     "output_type": "display_data"
    },
    {
     "data": {
      "text/html": [
       "<pre style=\"white-space:pre;overflow-x:auto;line-height:normal;font-family:Menlo,'DejaVu Sans Mono',consolas,'Courier New',monospace\">Best mean reward: 42.07 - Last mean reward per episode: 36.67\n",
       "</pre>\n"
      ],
      "text/plain": [
       "Best mean reward: 42.07 - Last mean reward per episode: 36.67\n"
      ]
     },
     "metadata": {},
     "output_type": "display_data"
    },
    {
     "data": {
      "text/html": [
       "<pre style=\"white-space:pre;overflow-x:auto;line-height:normal;font-family:Menlo,'DejaVu Sans Mono',consolas,'Courier New',monospace\">Num timesteps: 140000\n",
       "</pre>\n"
      ],
      "text/plain": [
       "Num timesteps: 140000\n"
      ]
     },
     "metadata": {},
     "output_type": "display_data"
    },
    {
     "data": {
      "text/html": [
       "<pre style=\"white-space:pre;overflow-x:auto;line-height:normal;font-family:Menlo,'DejaVu Sans Mono',consolas,'Courier New',monospace\">Best mean reward: 42.07 - Last mean reward per episode: 36.58\n",
       "</pre>\n"
      ],
      "text/plain": [
       "Best mean reward: 42.07 - Last mean reward per episode: 36.58\n"
      ]
     },
     "metadata": {},
     "output_type": "display_data"
    },
    {
     "data": {
      "text/html": [
       "<pre style=\"white-space:pre;overflow-x:auto;line-height:normal;font-family:Menlo,'DejaVu Sans Mono',consolas,'Courier New',monospace\">Num timesteps: 141000\n",
       "</pre>\n"
      ],
      "text/plain": [
       "Num timesteps: 141000\n"
      ]
     },
     "metadata": {},
     "output_type": "display_data"
    },
    {
     "data": {
      "text/html": [
       "<pre style=\"white-space:pre;overflow-x:auto;line-height:normal;font-family:Menlo,'DejaVu Sans Mono',consolas,'Courier New',monospace\">Best mean reward: 42.07 - Last mean reward per episode: 37.05\n",
       "</pre>\n"
      ],
      "text/plain": [
       "Best mean reward: 42.07 - Last mean reward per episode: 37.05\n"
      ]
     },
     "metadata": {},
     "output_type": "display_data"
    },
    {
     "data": {
      "text/html": [
       "<pre style=\"white-space:pre;overflow-x:auto;line-height:normal;font-family:Menlo,'DejaVu Sans Mono',consolas,'Courier New',monospace\">Num timesteps: 142000\n",
       "</pre>\n"
      ],
      "text/plain": [
       "Num timesteps: 142000\n"
      ]
     },
     "metadata": {},
     "output_type": "display_data"
    },
    {
     "data": {
      "text/html": [
       "<pre style=\"white-space:pre;overflow-x:auto;line-height:normal;font-family:Menlo,'DejaVu Sans Mono',consolas,'Courier New',monospace\">Best mean reward: 42.07 - Last mean reward per episode: 36.37\n",
       "</pre>\n"
      ],
      "text/plain": [
       "Best mean reward: 42.07 - Last mean reward per episode: 36.37\n"
      ]
     },
     "metadata": {},
     "output_type": "display_data"
    },
    {
     "data": {
      "text/html": [
       "<pre style=\"white-space:pre;overflow-x:auto;line-height:normal;font-family:Menlo,'DejaVu Sans Mono',consolas,'Courier New',monospace\">Num timesteps: 143000\n",
       "</pre>\n"
      ],
      "text/plain": [
       "Num timesteps: 143000\n"
      ]
     },
     "metadata": {},
     "output_type": "display_data"
    },
    {
     "data": {
      "text/html": [
       "<pre style=\"white-space:pre;overflow-x:auto;line-height:normal;font-family:Menlo,'DejaVu Sans Mono',consolas,'Courier New',monospace\">Best mean reward: 42.07 - Last mean reward per episode: 36.06\n",
       "</pre>\n"
      ],
      "text/plain": [
       "Best mean reward: 42.07 - Last mean reward per episode: 36.06\n"
      ]
     },
     "metadata": {},
     "output_type": "display_data"
    },
    {
     "name": "stdout",
     "output_type": "stream",
     "text": [
      "---------------------------------------\n",
      "| rollout/                |           |\n",
      "|    ep_len_mean          | 500       |\n",
      "|    ep_rew_mean          | 36.1      |\n",
      "| time/                   |           |\n",
      "|    fps                  | 89        |\n",
      "|    iterations           | 70        |\n",
      "|    time_elapsed         | 1598      |\n",
      "|    total_timesteps      | 143360    |\n",
      "| train/                  |           |\n",
      "|    approx_kl            | 0.5254365 |\n",
      "|    clip_fraction        | 0.683     |\n",
      "|    clip_range           | 0.2       |\n",
      "|    entropy_loss         | -8.87     |\n",
      "|    explained_variance   | 0.9       |\n",
      "|    learning_rate        | 0.0003    |\n",
      "|    loss                 | -0.105    |\n",
      "|    n_updates            | 690       |\n",
      "|    policy_gradient_loss | -0.0778   |\n",
      "|    std                  | 0.858     |\n",
      "|    value_loss           | 0.184     |\n",
      "---------------------------------------\n"
     ]
    },
    {
     "data": {
      "text/html": [
       "<pre style=\"white-space:pre;overflow-x:auto;line-height:normal;font-family:Menlo,'DejaVu Sans Mono',consolas,'Courier New',monospace\">Num timesteps: 144000\n",
       "</pre>\n"
      ],
      "text/plain": [
       "Num timesteps: 144000\n"
      ]
     },
     "metadata": {},
     "output_type": "display_data"
    },
    {
     "data": {
      "text/html": [
       "<pre style=\"white-space:pre;overflow-x:auto;line-height:normal;font-family:Menlo,'DejaVu Sans Mono',consolas,'Courier New',monospace\">Best mean reward: 42.07 - Last mean reward per episode: 36.38\n",
       "</pre>\n"
      ],
      "text/plain": [
       "Best mean reward: 42.07 - Last mean reward per episode: 36.38\n"
      ]
     },
     "metadata": {},
     "output_type": "display_data"
    },
    {
     "data": {
      "text/html": [
       "<pre style=\"white-space:pre;overflow-x:auto;line-height:normal;font-family:Menlo,'DejaVu Sans Mono',consolas,'Courier New',monospace\">Num timesteps: 145000\n",
       "</pre>\n"
      ],
      "text/plain": [
       "Num timesteps: 145000\n"
      ]
     },
     "metadata": {},
     "output_type": "display_data"
    },
    {
     "data": {
      "text/html": [
       "<pre style=\"white-space:pre;overflow-x:auto;line-height:normal;font-family:Menlo,'DejaVu Sans Mono',consolas,'Courier New',monospace\">Best mean reward: 42.07 - Last mean reward per episode: 35.88\n",
       "</pre>\n"
      ],
      "text/plain": [
       "Best mean reward: 42.07 - Last mean reward per episode: 35.88\n"
      ]
     },
     "metadata": {},
     "output_type": "display_data"
    },
    {
     "data": {
      "text/html": [
       "<pre style=\"white-space:pre;overflow-x:auto;line-height:normal;font-family:Menlo,'DejaVu Sans Mono',consolas,'Courier New',monospace\">Num timesteps: 146000\n",
       "</pre>\n"
      ],
      "text/plain": [
       "Num timesteps: 146000\n"
      ]
     },
     "metadata": {},
     "output_type": "display_data"
    },
    {
     "data": {
      "text/html": [
       "<pre style=\"white-space:pre;overflow-x:auto;line-height:normal;font-family:Menlo,'DejaVu Sans Mono',consolas,'Courier New',monospace\">Best mean reward: 42.07 - Last mean reward per episode: 35.11\n",
       "</pre>\n"
      ],
      "text/plain": [
       "Best mean reward: 42.07 - Last mean reward per episode: 35.11\n"
      ]
     },
     "metadata": {},
     "output_type": "display_data"
    },
    {
     "data": {
      "text/html": [
       "<pre style=\"white-space:pre;overflow-x:auto;line-height:normal;font-family:Menlo,'DejaVu Sans Mono',consolas,'Courier New',monospace\">Num timesteps: 147000\n",
       "</pre>\n"
      ],
      "text/plain": [
       "Num timesteps: 147000\n"
      ]
     },
     "metadata": {},
     "output_type": "display_data"
    },
    {
     "data": {
      "text/html": [
       "<pre style=\"white-space:pre;overflow-x:auto;line-height:normal;font-family:Menlo,'DejaVu Sans Mono',consolas,'Courier New',monospace\">Best mean reward: 42.07 - Last mean reward per episode: 35.65\n",
       "</pre>\n"
      ],
      "text/plain": [
       "Best mean reward: 42.07 - Last mean reward per episode: 35.65\n"
      ]
     },
     "metadata": {},
     "output_type": "display_data"
    },
    {
     "data": {
      "text/html": [
       "<pre style=\"white-space:pre;overflow-x:auto;line-height:normal;font-family:Menlo,'DejaVu Sans Mono',consolas,'Courier New',monospace\">Num timesteps: 148000\n",
       "</pre>\n"
      ],
      "text/plain": [
       "Num timesteps: 148000\n"
      ]
     },
     "metadata": {},
     "output_type": "display_data"
    },
    {
     "data": {
      "text/html": [
       "<pre style=\"white-space:pre;overflow-x:auto;line-height:normal;font-family:Menlo,'DejaVu Sans Mono',consolas,'Courier New',monospace\">Best mean reward: 42.07 - Last mean reward per episode: 34.85\n",
       "</pre>\n"
      ],
      "text/plain": [
       "Best mean reward: 42.07 - Last mean reward per episode: 34.85\n"
      ]
     },
     "metadata": {},
     "output_type": "display_data"
    },
    {
     "data": {
      "text/html": [
       "<pre style=\"white-space:pre;overflow-x:auto;line-height:normal;font-family:Menlo,'DejaVu Sans Mono',consolas,'Courier New',monospace\">Num timesteps: 149000\n",
       "</pre>\n"
      ],
      "text/plain": [
       "Num timesteps: 149000\n"
      ]
     },
     "metadata": {},
     "output_type": "display_data"
    },
    {
     "data": {
      "text/html": [
       "<pre style=\"white-space:pre;overflow-x:auto;line-height:normal;font-family:Menlo,'DejaVu Sans Mono',consolas,'Courier New',monospace\">Best mean reward: 42.07 - Last mean reward per episode: 34.69\n",
       "</pre>\n"
      ],
      "text/plain": [
       "Best mean reward: 42.07 - Last mean reward per episode: 34.69\n"
      ]
     },
     "metadata": {},
     "output_type": "display_data"
    },
    {
     "data": {
      "text/html": [
       "<pre style=\"white-space:pre;overflow-x:auto;line-height:normal;font-family:Menlo,'DejaVu Sans Mono',consolas,'Courier New',monospace\">Num timesteps: 150000\n",
       "</pre>\n"
      ],
      "text/plain": [
       "Num timesteps: 150000\n"
      ]
     },
     "metadata": {},
     "output_type": "display_data"
    },
    {
     "data": {
      "text/html": [
       "<pre style=\"white-space:pre;overflow-x:auto;line-height:normal;font-family:Menlo,'DejaVu Sans Mono',consolas,'Courier New',monospace\">Best mean reward: 42.07 - Last mean reward per episode: 34.19\n",
       "</pre>\n"
      ],
      "text/plain": [
       "Best mean reward: 42.07 - Last mean reward per episode: 34.19\n"
      ]
     },
     "metadata": {},
     "output_type": "display_data"
    },
    {
     "data": {
      "text/html": [
       "<pre style=\"white-space:pre;overflow-x:auto;line-height:normal;font-family:Menlo,'DejaVu Sans Mono',consolas,'Courier New',monospace\">Num timesteps: 151000\n",
       "</pre>\n"
      ],
      "text/plain": [
       "Num timesteps: 151000\n"
      ]
     },
     "metadata": {},
     "output_type": "display_data"
    },
    {
     "data": {
      "text/html": [
       "<pre style=\"white-space:pre;overflow-x:auto;line-height:normal;font-family:Menlo,'DejaVu Sans Mono',consolas,'Courier New',monospace\">Best mean reward: 42.07 - Last mean reward per episode: 34.94\n",
       "</pre>\n"
      ],
      "text/plain": [
       "Best mean reward: 42.07 - Last mean reward per episode: 34.94\n"
      ]
     },
     "metadata": {},
     "output_type": "display_data"
    },
    {
     "data": {
      "text/html": [
       "<pre style=\"white-space:pre;overflow-x:auto;line-height:normal;font-family:Menlo,'DejaVu Sans Mono',consolas,'Courier New',monospace\">Num timesteps: 152000\n",
       "</pre>\n"
      ],
      "text/plain": [
       "Num timesteps: 152000\n"
      ]
     },
     "metadata": {},
     "output_type": "display_data"
    },
    {
     "data": {
      "text/html": [
       "<pre style=\"white-space:pre;overflow-x:auto;line-height:normal;font-family:Menlo,'DejaVu Sans Mono',consolas,'Courier New',monospace\">Best mean reward: 42.07 - Last mean reward per episode: 35.14\n",
       "</pre>\n"
      ],
      "text/plain": [
       "Best mean reward: 42.07 - Last mean reward per episode: 35.14\n"
      ]
     },
     "metadata": {},
     "output_type": "display_data"
    },
    {
     "data": {
      "text/html": [
       "<pre style=\"white-space:pre;overflow-x:auto;line-height:normal;font-family:Menlo,'DejaVu Sans Mono',consolas,'Courier New',monospace\">Num timesteps: 153000\n",
       "</pre>\n"
      ],
      "text/plain": [
       "Num timesteps: 153000\n"
      ]
     },
     "metadata": {},
     "output_type": "display_data"
    },
    {
     "data": {
      "text/html": [
       "<pre style=\"white-space:pre;overflow-x:auto;line-height:normal;font-family:Menlo,'DejaVu Sans Mono',consolas,'Courier New',monospace\">Best mean reward: 42.07 - Last mean reward per episode: 33.71\n",
       "</pre>\n"
      ],
      "text/plain": [
       "Best mean reward: 42.07 - Last mean reward per episode: 33.71\n"
      ]
     },
     "metadata": {},
     "output_type": "display_data"
    },
    {
     "data": {
      "text/html": [
       "<pre style=\"white-space:pre;overflow-x:auto;line-height:normal;font-family:Menlo,'DejaVu Sans Mono',consolas,'Courier New',monospace\">Num timesteps: 154000\n",
       "</pre>\n"
      ],
      "text/plain": [
       "Num timesteps: 154000\n"
      ]
     },
     "metadata": {},
     "output_type": "display_data"
    },
    {
     "data": {
      "text/html": [
       "<pre style=\"white-space:pre;overflow-x:auto;line-height:normal;font-family:Menlo,'DejaVu Sans Mono',consolas,'Courier New',monospace\">Best mean reward: 42.07 - Last mean reward per episode: 32.54\n",
       "</pre>\n"
      ],
      "text/plain": [
       "Best mean reward: 42.07 - Last mean reward per episode: 32.54\n"
      ]
     },
     "metadata": {},
     "output_type": "display_data"
    },
    {
     "data": {
      "text/html": [
       "<pre style=\"white-space:pre;overflow-x:auto;line-height:normal;font-family:Menlo,'DejaVu Sans Mono',consolas,'Courier New',monospace\">Num timesteps: 155000\n",
       "</pre>\n"
      ],
      "text/plain": [
       "Num timesteps: 155000\n"
      ]
     },
     "metadata": {},
     "output_type": "display_data"
    },
    {
     "data": {
      "text/html": [
       "<pre style=\"white-space:pre;overflow-x:auto;line-height:normal;font-family:Menlo,'DejaVu Sans Mono',consolas,'Courier New',monospace\">Best mean reward: 42.07 - Last mean reward per episode: 32.62\n",
       "</pre>\n"
      ],
      "text/plain": [
       "Best mean reward: 42.07 - Last mean reward per episode: 32.62\n"
      ]
     },
     "metadata": {},
     "output_type": "display_data"
    },
    {
     "data": {
      "text/html": [
       "<pre style=\"white-space:pre;overflow-x:auto;line-height:normal;font-family:Menlo,'DejaVu Sans Mono',consolas,'Courier New',monospace\">Num timesteps: 156000\n",
       "</pre>\n"
      ],
      "text/plain": [
       "Num timesteps: 156000\n"
      ]
     },
     "metadata": {},
     "output_type": "display_data"
    },
    {
     "data": {
      "text/html": [
       "<pre style=\"white-space:pre;overflow-x:auto;line-height:normal;font-family:Menlo,'DejaVu Sans Mono',consolas,'Courier New',monospace\">Best mean reward: 42.07 - Last mean reward per episode: 33.01\n",
       "</pre>\n"
      ],
      "text/plain": [
       "Best mean reward: 42.07 - Last mean reward per episode: 33.01\n"
      ]
     },
     "metadata": {},
     "output_type": "display_data"
    },
    {
     "data": {
      "text/html": [
       "<pre style=\"white-space:pre;overflow-x:auto;line-height:normal;font-family:Menlo,'DejaVu Sans Mono',consolas,'Courier New',monospace\">Num timesteps: 157000\n",
       "</pre>\n"
      ],
      "text/plain": [
       "Num timesteps: 157000\n"
      ]
     },
     "metadata": {},
     "output_type": "display_data"
    },
    {
     "data": {
      "text/html": [
       "<pre style=\"white-space:pre;overflow-x:auto;line-height:normal;font-family:Menlo,'DejaVu Sans Mono',consolas,'Courier New',monospace\">Best mean reward: 42.07 - Last mean reward per episode: 32.98\n",
       "</pre>\n"
      ],
      "text/plain": [
       "Best mean reward: 42.07 - Last mean reward per episode: 32.98\n"
      ]
     },
     "metadata": {},
     "output_type": "display_data"
    },
    {
     "data": {
      "text/html": [
       "<pre style=\"white-space:pre;overflow-x:auto;line-height:normal;font-family:Menlo,'DejaVu Sans Mono',consolas,'Courier New',monospace\">Num timesteps: 158000\n",
       "</pre>\n"
      ],
      "text/plain": [
       "Num timesteps: 158000\n"
      ]
     },
     "metadata": {},
     "output_type": "display_data"
    },
    {
     "data": {
      "text/html": [
       "<pre style=\"white-space:pre;overflow-x:auto;line-height:normal;font-family:Menlo,'DejaVu Sans Mono',consolas,'Courier New',monospace\">Best mean reward: 42.07 - Last mean reward per episode: 33.24\n",
       "</pre>\n"
      ],
      "text/plain": [
       "Best mean reward: 42.07 - Last mean reward per episode: 33.24\n"
      ]
     },
     "metadata": {},
     "output_type": "display_data"
    },
    {
     "data": {
      "text/html": [
       "<pre style=\"white-space:pre;overflow-x:auto;line-height:normal;font-family:Menlo,'DejaVu Sans Mono',consolas,'Courier New',monospace\">Num timesteps: 159000\n",
       "</pre>\n"
      ],
      "text/plain": [
       "Num timesteps: 159000\n"
      ]
     },
     "metadata": {},
     "output_type": "display_data"
    },
    {
     "data": {
      "text/html": [
       "<pre style=\"white-space:pre;overflow-x:auto;line-height:normal;font-family:Menlo,'DejaVu Sans Mono',consolas,'Courier New',monospace\">Best mean reward: 42.07 - Last mean reward per episode: 33.60\n",
       "</pre>\n"
      ],
      "text/plain": [
       "Best mean reward: 42.07 - Last mean reward per episode: 33.60\n"
      ]
     },
     "metadata": {},
     "output_type": "display_data"
    },
    {
     "data": {
      "text/html": [
       "<pre style=\"white-space:pre;overflow-x:auto;line-height:normal;font-family:Menlo,'DejaVu Sans Mono',consolas,'Courier New',monospace\">Num timesteps: 160000\n",
       "</pre>\n"
      ],
      "text/plain": [
       "Num timesteps: 160000\n"
      ]
     },
     "metadata": {},
     "output_type": "display_data"
    },
    {
     "data": {
      "text/html": [
       "<pre style=\"white-space:pre;overflow-x:auto;line-height:normal;font-family:Menlo,'DejaVu Sans Mono',consolas,'Courier New',monospace\">Best mean reward: 42.07 - Last mean reward per episode: 33.45\n",
       "</pre>\n"
      ],
      "text/plain": [
       "Best mean reward: 42.07 - Last mean reward per episode: 33.45\n"
      ]
     },
     "metadata": {},
     "output_type": "display_data"
    },
    {
     "data": {
      "text/html": [
       "<pre style=\"white-space:pre;overflow-x:auto;line-height:normal;font-family:Menlo,'DejaVu Sans Mono',consolas,'Courier New',monospace\">Num timesteps: 161000\n",
       "</pre>\n"
      ],
      "text/plain": [
       "Num timesteps: 161000\n"
      ]
     },
     "metadata": {},
     "output_type": "display_data"
    },
    {
     "data": {
      "text/html": [
       "<pre style=\"white-space:pre;overflow-x:auto;line-height:normal;font-family:Menlo,'DejaVu Sans Mono',consolas,'Courier New',monospace\">Best mean reward: 42.07 - Last mean reward per episode: 34.15\n",
       "</pre>\n"
      ],
      "text/plain": [
       "Best mean reward: 42.07 - Last mean reward per episode: 34.15\n"
      ]
     },
     "metadata": {},
     "output_type": "display_data"
    },
    {
     "data": {
      "text/html": [
       "<pre style=\"white-space:pre;overflow-x:auto;line-height:normal;font-family:Menlo,'DejaVu Sans Mono',consolas,'Courier New',monospace\">Num timesteps: 162000\n",
       "</pre>\n"
      ],
      "text/plain": [
       "Num timesteps: 162000\n"
      ]
     },
     "metadata": {},
     "output_type": "display_data"
    },
    {
     "data": {
      "text/html": [
       "<pre style=\"white-space:pre;overflow-x:auto;line-height:normal;font-family:Menlo,'DejaVu Sans Mono',consolas,'Courier New',monospace\">Best mean reward: 42.07 - Last mean reward per episode: 34.05\n",
       "</pre>\n"
      ],
      "text/plain": [
       "Best mean reward: 42.07 - Last mean reward per episode: 34.05\n"
      ]
     },
     "metadata": {},
     "output_type": "display_data"
    },
    {
     "data": {
      "text/html": [
       "<pre style=\"white-space:pre;overflow-x:auto;line-height:normal;font-family:Menlo,'DejaVu Sans Mono',consolas,'Courier New',monospace\">Num timesteps: 163000\n",
       "</pre>\n"
      ],
      "text/plain": [
       "Num timesteps: 163000\n"
      ]
     },
     "metadata": {},
     "output_type": "display_data"
    },
    {
     "data": {
      "text/html": [
       "<pre style=\"white-space:pre;overflow-x:auto;line-height:normal;font-family:Menlo,'DejaVu Sans Mono',consolas,'Courier New',monospace\">Best mean reward: 42.07 - Last mean reward per episode: 34.77\n",
       "</pre>\n"
      ],
      "text/plain": [
       "Best mean reward: 42.07 - Last mean reward per episode: 34.77\n"
      ]
     },
     "metadata": {},
     "output_type": "display_data"
    },
    {
     "name": "stdout",
     "output_type": "stream",
     "text": [
      "----------------------------------------\n",
      "| rollout/                |            |\n",
      "|    ep_len_mean          | 500        |\n",
      "|    ep_rew_mean          | 35.4       |\n",
      "| time/                   |            |\n",
      "|    fps                  | 89         |\n",
      "|    iterations           | 80         |\n",
      "|    time_elapsed         | 1831       |\n",
      "|    total_timesteps      | 163840     |\n",
      "| train/                  |            |\n",
      "|    approx_kl            | 0.24545756 |\n",
      "|    clip_fraction        | 0.625      |\n",
      "|    clip_range           | 0.2        |\n",
      "|    entropy_loss         | -8.7       |\n",
      "|    explained_variance   | 0.906      |\n",
      "|    learning_rate        | 0.0003     |\n",
      "|    loss                 | -0.0991    |\n",
      "|    n_updates            | 790        |\n",
      "|    policy_gradient_loss | -0.0683    |\n",
      "|    std                  | 0.838      |\n",
      "|    value_loss           | 0.399      |\n",
      "----------------------------------------\n"
     ]
    },
    {
     "data": {
      "text/html": [
       "<pre style=\"white-space:pre;overflow-x:auto;line-height:normal;font-family:Menlo,'DejaVu Sans Mono',consolas,'Courier New',monospace\">Num timesteps: 164000\n",
       "</pre>\n"
      ],
      "text/plain": [
       "Num timesteps: 164000\n"
      ]
     },
     "metadata": {},
     "output_type": "display_data"
    },
    {
     "data": {
      "text/html": [
       "<pre style=\"white-space:pre;overflow-x:auto;line-height:normal;font-family:Menlo,'DejaVu Sans Mono',consolas,'Courier New',monospace\">Best mean reward: 42.07 - Last mean reward per episode: 35.88\n",
       "</pre>\n"
      ],
      "text/plain": [
       "Best mean reward: 42.07 - Last mean reward per episode: 35.88\n"
      ]
     },
     "metadata": {},
     "output_type": "display_data"
    },
    {
     "data": {
      "text/html": [
       "<pre style=\"white-space:pre;overflow-x:auto;line-height:normal;font-family:Menlo,'DejaVu Sans Mono',consolas,'Courier New',monospace\">Num timesteps: 165000\n",
       "</pre>\n"
      ],
      "text/plain": [
       "Num timesteps: 165000\n"
      ]
     },
     "metadata": {},
     "output_type": "display_data"
    },
    {
     "data": {
      "text/html": [
       "<pre style=\"white-space:pre;overflow-x:auto;line-height:normal;font-family:Menlo,'DejaVu Sans Mono',consolas,'Courier New',monospace\">Best mean reward: 42.07 - Last mean reward per episode: 35.59\n",
       "</pre>\n"
      ],
      "text/plain": [
       "Best mean reward: 42.07 - Last mean reward per episode: 35.59\n"
      ]
     },
     "metadata": {},
     "output_type": "display_data"
    },
    {
     "data": {
      "text/html": [
       "<pre style=\"white-space:pre;overflow-x:auto;line-height:normal;font-family:Menlo,'DejaVu Sans Mono',consolas,'Courier New',monospace\">Num timesteps: 166000\n",
       "</pre>\n"
      ],
      "text/plain": [
       "Num timesteps: 166000\n"
      ]
     },
     "metadata": {},
     "output_type": "display_data"
    },
    {
     "data": {
      "text/html": [
       "<pre style=\"white-space:pre;overflow-x:auto;line-height:normal;font-family:Menlo,'DejaVu Sans Mono',consolas,'Courier New',monospace\">Best mean reward: 42.07 - Last mean reward per episode: 37.33\n",
       "</pre>\n"
      ],
      "text/plain": [
       "Best mean reward: 42.07 - Last mean reward per episode: 37.33\n"
      ]
     },
     "metadata": {},
     "output_type": "display_data"
    },
    {
     "data": {
      "text/html": [
       "<pre style=\"white-space:pre;overflow-x:auto;line-height:normal;font-family:Menlo,'DejaVu Sans Mono',consolas,'Courier New',monospace\">Num timesteps: 167000\n",
       "</pre>\n"
      ],
      "text/plain": [
       "Num timesteps: 167000\n"
      ]
     },
     "metadata": {},
     "output_type": "display_data"
    },
    {
     "data": {
      "text/html": [
       "<pre style=\"white-space:pre;overflow-x:auto;line-height:normal;font-family:Menlo,'DejaVu Sans Mono',consolas,'Courier New',monospace\">Best mean reward: 42.07 - Last mean reward per episode: 37.92\n",
       "</pre>\n"
      ],
      "text/plain": [
       "Best mean reward: 42.07 - Last mean reward per episode: 37.92\n"
      ]
     },
     "metadata": {},
     "output_type": "display_data"
    },
    {
     "data": {
      "text/html": [
       "<pre style=\"white-space:pre;overflow-x:auto;line-height:normal;font-family:Menlo,'DejaVu Sans Mono',consolas,'Courier New',monospace\">Num timesteps: 168000\n",
       "</pre>\n"
      ],
      "text/plain": [
       "Num timesteps: 168000\n"
      ]
     },
     "metadata": {},
     "output_type": "display_data"
    },
    {
     "data": {
      "text/html": [
       "<pre style=\"white-space:pre;overflow-x:auto;line-height:normal;font-family:Menlo,'DejaVu Sans Mono',consolas,'Courier New',monospace\">Best mean reward: 42.07 - Last mean reward per episode: 38.12\n",
       "</pre>\n"
      ],
      "text/plain": [
       "Best mean reward: 42.07 - Last mean reward per episode: 38.12\n"
      ]
     },
     "metadata": {},
     "output_type": "display_data"
    },
    {
     "data": {
      "text/html": [
       "<pre style=\"white-space:pre;overflow-x:auto;line-height:normal;font-family:Menlo,'DejaVu Sans Mono',consolas,'Courier New',monospace\">Num timesteps: 169000\n",
       "</pre>\n"
      ],
      "text/plain": [
       "Num timesteps: 169000\n"
      ]
     },
     "metadata": {},
     "output_type": "display_data"
    },
    {
     "data": {
      "text/html": [
       "<pre style=\"white-space:pre;overflow-x:auto;line-height:normal;font-family:Menlo,'DejaVu Sans Mono',consolas,'Courier New',monospace\">Best mean reward: 42.07 - Last mean reward per episode: 38.85\n",
       "</pre>\n"
      ],
      "text/plain": [
       "Best mean reward: 42.07 - Last mean reward per episode: 38.85\n"
      ]
     },
     "metadata": {},
     "output_type": "display_data"
    },
    {
     "data": {
      "text/html": [
       "<pre style=\"white-space:pre;overflow-x:auto;line-height:normal;font-family:Menlo,'DejaVu Sans Mono',consolas,'Courier New',monospace\">Num timesteps: 170000\n",
       "</pre>\n"
      ],
      "text/plain": [
       "Num timesteps: 170000\n"
      ]
     },
     "metadata": {},
     "output_type": "display_data"
    },
    {
     "data": {
      "text/html": [
       "<pre style=\"white-space:pre;overflow-x:auto;line-height:normal;font-family:Menlo,'DejaVu Sans Mono',consolas,'Courier New',monospace\">Best mean reward: 42.07 - Last mean reward per episode: 38.93\n",
       "</pre>\n"
      ],
      "text/plain": [
       "Best mean reward: 42.07 - Last mean reward per episode: 38.93\n"
      ]
     },
     "metadata": {},
     "output_type": "display_data"
    },
    {
     "data": {
      "text/html": [
       "<pre style=\"white-space:pre;overflow-x:auto;line-height:normal;font-family:Menlo,'DejaVu Sans Mono',consolas,'Courier New',monospace\">Num timesteps: 171000\n",
       "</pre>\n"
      ],
      "text/plain": [
       "Num timesteps: 171000\n"
      ]
     },
     "metadata": {},
     "output_type": "display_data"
    },
    {
     "data": {
      "text/html": [
       "<pre style=\"white-space:pre;overflow-x:auto;line-height:normal;font-family:Menlo,'DejaVu Sans Mono',consolas,'Courier New',monospace\">Best mean reward: 42.07 - Last mean reward per episode: 39.09\n",
       "</pre>\n"
      ],
      "text/plain": [
       "Best mean reward: 42.07 - Last mean reward per episode: 39.09\n"
      ]
     },
     "metadata": {},
     "output_type": "display_data"
    },
    {
     "data": {
      "text/html": [
       "<pre style=\"white-space:pre;overflow-x:auto;line-height:normal;font-family:Menlo,'DejaVu Sans Mono',consolas,'Courier New',monospace\">Num timesteps: 172000\n",
       "</pre>\n"
      ],
      "text/plain": [
       "Num timesteps: 172000\n"
      ]
     },
     "metadata": {},
     "output_type": "display_data"
    },
    {
     "data": {
      "text/html": [
       "<pre style=\"white-space:pre;overflow-x:auto;line-height:normal;font-family:Menlo,'DejaVu Sans Mono',consolas,'Courier New',monospace\">Best mean reward: 42.07 - Last mean reward per episode: 39.07\n",
       "</pre>\n"
      ],
      "text/plain": [
       "Best mean reward: 42.07 - Last mean reward per episode: 39.07\n"
      ]
     },
     "metadata": {},
     "output_type": "display_data"
    },
    {
     "data": {
      "text/html": [
       "<pre style=\"white-space:pre;overflow-x:auto;line-height:normal;font-family:Menlo,'DejaVu Sans Mono',consolas,'Courier New',monospace\">Num timesteps: 173000\n",
       "</pre>\n"
      ],
      "text/plain": [
       "Num timesteps: 173000\n"
      ]
     },
     "metadata": {},
     "output_type": "display_data"
    },
    {
     "data": {
      "text/html": [
       "<pre style=\"white-space:pre;overflow-x:auto;line-height:normal;font-family:Menlo,'DejaVu Sans Mono',consolas,'Courier New',monospace\">Best mean reward: 42.07 - Last mean reward per episode: 39.60\n",
       "</pre>\n"
      ],
      "text/plain": [
       "Best mean reward: 42.07 - Last mean reward per episode: 39.60\n"
      ]
     },
     "metadata": {},
     "output_type": "display_data"
    },
    {
     "data": {
      "text/html": [
       "<pre style=\"white-space:pre;overflow-x:auto;line-height:normal;font-family:Menlo,'DejaVu Sans Mono',consolas,'Courier New',monospace\">Num timesteps: 174000\n",
       "</pre>\n"
      ],
      "text/plain": [
       "Num timesteps: 174000\n"
      ]
     },
     "metadata": {},
     "output_type": "display_data"
    },
    {
     "data": {
      "text/html": [
       "<pre style=\"white-space:pre;overflow-x:auto;line-height:normal;font-family:Menlo,'DejaVu Sans Mono',consolas,'Courier New',monospace\">Best mean reward: 42.07 - Last mean reward per episode: 40.21\n",
       "</pre>\n"
      ],
      "text/plain": [
       "Best mean reward: 42.07 - Last mean reward per episode: 40.21\n"
      ]
     },
     "metadata": {},
     "output_type": "display_data"
    },
    {
     "data": {
      "text/html": [
       "<pre style=\"white-space:pre;overflow-x:auto;line-height:normal;font-family:Menlo,'DejaVu Sans Mono',consolas,'Courier New',monospace\">Num timesteps: 175000\n",
       "</pre>\n"
      ],
      "text/plain": [
       "Num timesteps: 175000\n"
      ]
     },
     "metadata": {},
     "output_type": "display_data"
    },
    {
     "data": {
      "text/html": [
       "<pre style=\"white-space:pre;overflow-x:auto;line-height:normal;font-family:Menlo,'DejaVu Sans Mono',consolas,'Courier New',monospace\">Best mean reward: 42.07 - Last mean reward per episode: 40.11\n",
       "</pre>\n"
      ],
      "text/plain": [
       "Best mean reward: 42.07 - Last mean reward per episode: 40.11\n"
      ]
     },
     "metadata": {},
     "output_type": "display_data"
    },
    {
     "data": {
      "text/html": [
       "<pre style=\"white-space:pre;overflow-x:auto;line-height:normal;font-family:Menlo,'DejaVu Sans Mono',consolas,'Courier New',monospace\">Num timesteps: 176000\n",
       "</pre>\n"
      ],
      "text/plain": [
       "Num timesteps: 176000\n"
      ]
     },
     "metadata": {},
     "output_type": "display_data"
    },
    {
     "data": {
      "text/html": [
       "<pre style=\"white-space:pre;overflow-x:auto;line-height:normal;font-family:Menlo,'DejaVu Sans Mono',consolas,'Courier New',monospace\">Best mean reward: 42.07 - Last mean reward per episode: 39.78\n",
       "</pre>\n"
      ],
      "text/plain": [
       "Best mean reward: 42.07 - Last mean reward per episode: 39.78\n"
      ]
     },
     "metadata": {},
     "output_type": "display_data"
    },
    {
     "data": {
      "text/html": [
       "<pre style=\"white-space:pre;overflow-x:auto;line-height:normal;font-family:Menlo,'DejaVu Sans Mono',consolas,'Courier New',monospace\">Num timesteps: 177000\n",
       "</pre>\n"
      ],
      "text/plain": [
       "Num timesteps: 177000\n"
      ]
     },
     "metadata": {},
     "output_type": "display_data"
    },
    {
     "data": {
      "text/html": [
       "<pre style=\"white-space:pre;overflow-x:auto;line-height:normal;font-family:Menlo,'DejaVu Sans Mono',consolas,'Courier New',monospace\">Best mean reward: 42.07 - Last mean reward per episode: 40.61\n",
       "</pre>\n"
      ],
      "text/plain": [
       "Best mean reward: 42.07 - Last mean reward per episode: 40.61\n"
      ]
     },
     "metadata": {},
     "output_type": "display_data"
    },
    {
     "data": {
      "text/html": [
       "<pre style=\"white-space:pre;overflow-x:auto;line-height:normal;font-family:Menlo,'DejaVu Sans Mono',consolas,'Courier New',monospace\">Num timesteps: 178000\n",
       "</pre>\n"
      ],
      "text/plain": [
       "Num timesteps: 178000\n"
      ]
     },
     "metadata": {},
     "output_type": "display_data"
    },
    {
     "data": {
      "text/html": [
       "<pre style=\"white-space:pre;overflow-x:auto;line-height:normal;font-family:Menlo,'DejaVu Sans Mono',consolas,'Courier New',monospace\">Best mean reward: 42.07 - Last mean reward per episode: 40.88\n",
       "</pre>\n"
      ],
      "text/plain": [
       "Best mean reward: 42.07 - Last mean reward per episode: 40.88\n"
      ]
     },
     "metadata": {},
     "output_type": "display_data"
    },
    {
     "data": {
      "text/html": [
       "<pre style=\"white-space:pre;overflow-x:auto;line-height:normal;font-family:Menlo,'DejaVu Sans Mono',consolas,'Courier New',monospace\">Num timesteps: 179000\n",
       "</pre>\n"
      ],
      "text/plain": [
       "Num timesteps: 179000\n"
      ]
     },
     "metadata": {},
     "output_type": "display_data"
    },
    {
     "data": {
      "text/html": [
       "<pre style=\"white-space:pre;overflow-x:auto;line-height:normal;font-family:Menlo,'DejaVu Sans Mono',consolas,'Courier New',monospace\">Best mean reward: 42.07 - Last mean reward per episode: 41.44\n",
       "</pre>\n"
      ],
      "text/plain": [
       "Best mean reward: 42.07 - Last mean reward per episode: 41.44\n"
      ]
     },
     "metadata": {},
     "output_type": "display_data"
    },
    {
     "data": {
      "text/html": [
       "<pre style=\"white-space:pre;overflow-x:auto;line-height:normal;font-family:Menlo,'DejaVu Sans Mono',consolas,'Courier New',monospace\">Num timesteps: 180000\n",
       "</pre>\n"
      ],
      "text/plain": [
       "Num timesteps: 180000\n"
      ]
     },
     "metadata": {},
     "output_type": "display_data"
    },
    {
     "data": {
      "text/html": [
       "<pre style=\"white-space:pre;overflow-x:auto;line-height:normal;font-family:Menlo,'DejaVu Sans Mono',consolas,'Courier New',monospace\">Best mean reward: 42.07 - Last mean reward per episode: 41.13\n",
       "</pre>\n"
      ],
      "text/plain": [
       "Best mean reward: 42.07 - Last mean reward per episode: 41.13\n"
      ]
     },
     "metadata": {},
     "output_type": "display_data"
    },
    {
     "data": {
      "text/html": [
       "<pre style=\"white-space:pre;overflow-x:auto;line-height:normal;font-family:Menlo,'DejaVu Sans Mono',consolas,'Courier New',monospace\">Num timesteps: 181000\n",
       "</pre>\n"
      ],
      "text/plain": [
       "Num timesteps: 181000\n"
      ]
     },
     "metadata": {},
     "output_type": "display_data"
    },
    {
     "data": {
      "text/html": [
       "<pre style=\"white-space:pre;overflow-x:auto;line-height:normal;font-family:Menlo,'DejaVu Sans Mono',consolas,'Courier New',monospace\">Best mean reward: 42.07 - Last mean reward per episode: 41.44\n",
       "</pre>\n"
      ],
      "text/plain": [
       "Best mean reward: 42.07 - Last mean reward per episode: 41.44\n"
      ]
     },
     "metadata": {},
     "output_type": "display_data"
    },
    {
     "data": {
      "text/html": [
       "<pre style=\"white-space:pre;overflow-x:auto;line-height:normal;font-family:Menlo,'DejaVu Sans Mono',consolas,'Courier New',monospace\">Num timesteps: 182000\n",
       "</pre>\n"
      ],
      "text/plain": [
       "Num timesteps: 182000\n"
      ]
     },
     "metadata": {},
     "output_type": "display_data"
    },
    {
     "data": {
      "text/html": [
       "<pre style=\"white-space:pre;overflow-x:auto;line-height:normal;font-family:Menlo,'DejaVu Sans Mono',consolas,'Courier New',monospace\">Best mean reward: 42.07 - Last mean reward per episode: 41.43\n",
       "</pre>\n"
      ],
      "text/plain": [
       "Best mean reward: 42.07 - Last mean reward per episode: 41.43\n"
      ]
     },
     "metadata": {},
     "output_type": "display_data"
    },
    {
     "data": {
      "text/html": [
       "<pre style=\"white-space:pre;overflow-x:auto;line-height:normal;font-family:Menlo,'DejaVu Sans Mono',consolas,'Courier New',monospace\">Num timesteps: 183000\n",
       "</pre>\n"
      ],
      "text/plain": [
       "Num timesteps: 183000\n"
      ]
     },
     "metadata": {},
     "output_type": "display_data"
    },
    {
     "data": {
      "text/html": [
       "<pre style=\"white-space:pre;overflow-x:auto;line-height:normal;font-family:Menlo,'DejaVu Sans Mono',consolas,'Courier New',monospace\">Best mean reward: 42.07 - Last mean reward per episode: 41.77\n",
       "</pre>\n"
      ],
      "text/plain": [
       "Best mean reward: 42.07 - Last mean reward per episode: 41.77\n"
      ]
     },
     "metadata": {},
     "output_type": "display_data"
    },
    {
     "data": {
      "text/html": [
       "<pre style=\"white-space:pre;overflow-x:auto;line-height:normal;font-family:Menlo,'DejaVu Sans Mono',consolas,'Courier New',monospace\">Num timesteps: 184000\n",
       "</pre>\n"
      ],
      "text/plain": [
       "Num timesteps: 184000\n"
      ]
     },
     "metadata": {},
     "output_type": "display_data"
    },
    {
     "data": {
      "text/html": [
       "<pre style=\"white-space:pre;overflow-x:auto;line-height:normal;font-family:Menlo,'DejaVu Sans Mono',consolas,'Courier New',monospace\">Best mean reward: 42.07 - Last mean reward per episode: 41.46\n",
       "</pre>\n"
      ],
      "text/plain": [
       "Best mean reward: 42.07 - Last mean reward per episode: 41.46\n"
      ]
     },
     "metadata": {},
     "output_type": "display_data"
    },
    {
     "name": "stdout",
     "output_type": "stream",
     "text": [
      "----------------------------------------\n",
      "| rollout/                |            |\n",
      "|    ep_len_mean          | 500        |\n",
      "|    ep_rew_mean          | 41.5       |\n",
      "| time/                   |            |\n",
      "|    fps                  | 89         |\n",
      "|    iterations           | 90         |\n",
      "|    time_elapsed         | 2069       |\n",
      "|    total_timesteps      | 184320     |\n",
      "| train/                  |            |\n",
      "|    approx_kl            | 0.37441644 |\n",
      "|    clip_fraction        | 0.652      |\n",
      "|    clip_range           | 0.2        |\n",
      "|    entropy_loss         | -8.43      |\n",
      "|    explained_variance   | 0.909      |\n",
      "|    learning_rate        | 0.0003     |\n",
      "|    loss                 | -0.0965    |\n",
      "|    n_updates            | 890        |\n",
      "|    policy_gradient_loss | -0.0788    |\n",
      "|    std                  | 0.805      |\n",
      "|    value_loss           | 0.347      |\n",
      "----------------------------------------\n"
     ]
    },
    {
     "data": {
      "text/html": [
       "<pre style=\"white-space:pre;overflow-x:auto;line-height:normal;font-family:Menlo,'DejaVu Sans Mono',consolas,'Courier New',monospace\">Num timesteps: 185000\n",
       "</pre>\n"
      ],
      "text/plain": [
       "Num timesteps: 185000\n"
      ]
     },
     "metadata": {},
     "output_type": "display_data"
    },
    {
     "data": {
      "text/html": [
       "<pre style=\"white-space:pre;overflow-x:auto;line-height:normal;font-family:Menlo,'DejaVu Sans Mono',consolas,'Courier New',monospace\">Best mean reward: 42.07 - Last mean reward per episode: 42.20\n",
       "</pre>\n"
      ],
      "text/plain": [
       "Best mean reward: 42.07 - Last mean reward per episode: 42.20\n"
      ]
     },
     "metadata": {},
     "output_type": "display_data"
    },
    {
     "data": {
      "text/html": [
       "<pre style=\"white-space:pre;overflow-x:auto;line-height:normal;font-family:Menlo,'DejaVu Sans Mono',consolas,'Courier New',monospace\">Saving new best model to tmp/gym/multiinput_256/best_model.zip\n",
       "</pre>\n"
      ],
      "text/plain": [
       "Saving new best model to tmp/gym/multiinput_256/best_model.zip\n"
      ]
     },
     "metadata": {},
     "output_type": "display_data"
    },
    {
     "data": {
      "text/html": [
       "<pre style=\"white-space:pre;overflow-x:auto;line-height:normal;font-family:Menlo,'DejaVu Sans Mono',consolas,'Courier New',monospace\">Num timesteps: 186000\n",
       "</pre>\n"
      ],
      "text/plain": [
       "Num timesteps: 186000\n"
      ]
     },
     "metadata": {},
     "output_type": "display_data"
    },
    {
     "data": {
      "text/html": [
       "<pre style=\"white-space:pre;overflow-x:auto;line-height:normal;font-family:Menlo,'DejaVu Sans Mono',consolas,'Courier New',monospace\">Best mean reward: 42.20 - Last mean reward per episode: 42.71\n",
       "</pre>\n"
      ],
      "text/plain": [
       "Best mean reward: 42.20 - Last mean reward per episode: 42.71\n"
      ]
     },
     "metadata": {},
     "output_type": "display_data"
    },
    {
     "data": {
      "text/html": [
       "<pre style=\"white-space:pre;overflow-x:auto;line-height:normal;font-family:Menlo,'DejaVu Sans Mono',consolas,'Courier New',monospace\">Saving new best model to tmp/gym/multiinput_256/best_model.zip\n",
       "</pre>\n"
      ],
      "text/plain": [
       "Saving new best model to tmp/gym/multiinput_256/best_model.zip\n"
      ]
     },
     "metadata": {},
     "output_type": "display_data"
    },
    {
     "data": {
      "text/html": [
       "<pre style=\"white-space:pre;overflow-x:auto;line-height:normal;font-family:Menlo,'DejaVu Sans Mono',consolas,'Courier New',monospace\">Num timesteps: 187000\n",
       "</pre>\n"
      ],
      "text/plain": [
       "Num timesteps: 187000\n"
      ]
     },
     "metadata": {},
     "output_type": "display_data"
    },
    {
     "data": {
      "text/html": [
       "<pre style=\"white-space:pre;overflow-x:auto;line-height:normal;font-family:Menlo,'DejaVu Sans Mono',consolas,'Courier New',monospace\">Best mean reward: 42.71 - Last mean reward per episode: 43.03\n",
       "</pre>\n"
      ],
      "text/plain": [
       "Best mean reward: 42.71 - Last mean reward per episode: 43.03\n"
      ]
     },
     "metadata": {},
     "output_type": "display_data"
    },
    {
     "data": {
      "text/html": [
       "<pre style=\"white-space:pre;overflow-x:auto;line-height:normal;font-family:Menlo,'DejaVu Sans Mono',consolas,'Courier New',monospace\">Saving new best model to tmp/gym/multiinput_256/best_model.zip\n",
       "</pre>\n"
      ],
      "text/plain": [
       "Saving new best model to tmp/gym/multiinput_256/best_model.zip\n"
      ]
     },
     "metadata": {},
     "output_type": "display_data"
    },
    {
     "data": {
      "text/html": [
       "<pre style=\"white-space:pre;overflow-x:auto;line-height:normal;font-family:Menlo,'DejaVu Sans Mono',consolas,'Courier New',monospace\">Num timesteps: 188000\n",
       "</pre>\n"
      ],
      "text/plain": [
       "Num timesteps: 188000\n"
      ]
     },
     "metadata": {},
     "output_type": "display_data"
    },
    {
     "data": {
      "text/html": [
       "<pre style=\"white-space:pre;overflow-x:auto;line-height:normal;font-family:Menlo,'DejaVu Sans Mono',consolas,'Courier New',monospace\">Best mean reward: 43.03 - Last mean reward per episode: 43.15\n",
       "</pre>\n"
      ],
      "text/plain": [
       "Best mean reward: 43.03 - Last mean reward per episode: 43.15\n"
      ]
     },
     "metadata": {},
     "output_type": "display_data"
    },
    {
     "data": {
      "text/html": [
       "<pre style=\"white-space:pre;overflow-x:auto;line-height:normal;font-family:Menlo,'DejaVu Sans Mono',consolas,'Courier New',monospace\">Saving new best model to tmp/gym/multiinput_256/best_model.zip\n",
       "</pre>\n"
      ],
      "text/plain": [
       "Saving new best model to tmp/gym/multiinput_256/best_model.zip\n"
      ]
     },
     "metadata": {},
     "output_type": "display_data"
    },
    {
     "data": {
      "text/html": [
       "<pre style=\"white-space:pre;overflow-x:auto;line-height:normal;font-family:Menlo,'DejaVu Sans Mono',consolas,'Courier New',monospace\">Num timesteps: 189000\n",
       "</pre>\n"
      ],
      "text/plain": [
       "Num timesteps: 189000\n"
      ]
     },
     "metadata": {},
     "output_type": "display_data"
    },
    {
     "data": {
      "text/html": [
       "<pre style=\"white-space:pre;overflow-x:auto;line-height:normal;font-family:Menlo,'DejaVu Sans Mono',consolas,'Courier New',monospace\">Best mean reward: 43.15 - Last mean reward per episode: 43.94\n",
       "</pre>\n"
      ],
      "text/plain": [
       "Best mean reward: 43.15 - Last mean reward per episode: 43.94\n"
      ]
     },
     "metadata": {},
     "output_type": "display_data"
    },
    {
     "data": {
      "text/html": [
       "<pre style=\"white-space:pre;overflow-x:auto;line-height:normal;font-family:Menlo,'DejaVu Sans Mono',consolas,'Courier New',monospace\">Saving new best model to tmp/gym/multiinput_256/best_model.zip\n",
       "</pre>\n"
      ],
      "text/plain": [
       "Saving new best model to tmp/gym/multiinput_256/best_model.zip\n"
      ]
     },
     "metadata": {},
     "output_type": "display_data"
    },
    {
     "data": {
      "text/html": [
       "<pre style=\"white-space:pre;overflow-x:auto;line-height:normal;font-family:Menlo,'DejaVu Sans Mono',consolas,'Courier New',monospace\">Num timesteps: 190000\n",
       "</pre>\n"
      ],
      "text/plain": [
       "Num timesteps: 190000\n"
      ]
     },
     "metadata": {},
     "output_type": "display_data"
    },
    {
     "data": {
      "text/html": [
       "<pre style=\"white-space:pre;overflow-x:auto;line-height:normal;font-family:Menlo,'DejaVu Sans Mono',consolas,'Courier New',monospace\">Best mean reward: 43.94 - Last mean reward per episode: 44.35\n",
       "</pre>\n"
      ],
      "text/plain": [
       "Best mean reward: 43.94 - Last mean reward per episode: 44.35\n"
      ]
     },
     "metadata": {},
     "output_type": "display_data"
    },
    {
     "data": {
      "text/html": [
       "<pre style=\"white-space:pre;overflow-x:auto;line-height:normal;font-family:Menlo,'DejaVu Sans Mono',consolas,'Courier New',monospace\">Saving new best model to tmp/gym/multiinput_256/best_model.zip\n",
       "</pre>\n"
      ],
      "text/plain": [
       "Saving new best model to tmp/gym/multiinput_256/best_model.zip\n"
      ]
     },
     "metadata": {},
     "output_type": "display_data"
    },
    {
     "data": {
      "text/html": [
       "<pre style=\"white-space:pre;overflow-x:auto;line-height:normal;font-family:Menlo,'DejaVu Sans Mono',consolas,'Courier New',monospace\">Num timesteps: 191000\n",
       "</pre>\n"
      ],
      "text/plain": [
       "Num timesteps: 191000\n"
      ]
     },
     "metadata": {},
     "output_type": "display_data"
    },
    {
     "data": {
      "text/html": [
       "<pre style=\"white-space:pre;overflow-x:auto;line-height:normal;font-family:Menlo,'DejaVu Sans Mono',consolas,'Courier New',monospace\">Best mean reward: 44.35 - Last mean reward per episode: 44.15\n",
       "</pre>\n"
      ],
      "text/plain": [
       "Best mean reward: 44.35 - Last mean reward per episode: 44.15\n"
      ]
     },
     "metadata": {},
     "output_type": "display_data"
    },
    {
     "data": {
      "text/html": [
       "<pre style=\"white-space:pre;overflow-x:auto;line-height:normal;font-family:Menlo,'DejaVu Sans Mono',consolas,'Courier New',monospace\">Num timesteps: 192000\n",
       "</pre>\n"
      ],
      "text/plain": [
       "Num timesteps: 192000\n"
      ]
     },
     "metadata": {},
     "output_type": "display_data"
    },
    {
     "data": {
      "text/html": [
       "<pre style=\"white-space:pre;overflow-x:auto;line-height:normal;font-family:Menlo,'DejaVu Sans Mono',consolas,'Courier New',monospace\">Best mean reward: 44.35 - Last mean reward per episode: 44.18\n",
       "</pre>\n"
      ],
      "text/plain": [
       "Best mean reward: 44.35 - Last mean reward per episode: 44.18\n"
      ]
     },
     "metadata": {},
     "output_type": "display_data"
    },
    {
     "data": {
      "text/html": [
       "<pre style=\"white-space:pre;overflow-x:auto;line-height:normal;font-family:Menlo,'DejaVu Sans Mono',consolas,'Courier New',monospace\">Num timesteps: 193000\n",
       "</pre>\n"
      ],
      "text/plain": [
       "Num timesteps: 193000\n"
      ]
     },
     "metadata": {},
     "output_type": "display_data"
    },
    {
     "data": {
      "text/html": [
       "<pre style=\"white-space:pre;overflow-x:auto;line-height:normal;font-family:Menlo,'DejaVu Sans Mono',consolas,'Courier New',monospace\">Best mean reward: 44.35 - Last mean reward per episode: 44.04\n",
       "</pre>\n"
      ],
      "text/plain": [
       "Best mean reward: 44.35 - Last mean reward per episode: 44.04\n"
      ]
     },
     "metadata": {},
     "output_type": "display_data"
    },
    {
     "data": {
      "text/html": [
       "<pre style=\"white-space:pre;overflow-x:auto;line-height:normal;font-family:Menlo,'DejaVu Sans Mono',consolas,'Courier New',monospace\">Num timesteps: 194000\n",
       "</pre>\n"
      ],
      "text/plain": [
       "Num timesteps: 194000\n"
      ]
     },
     "metadata": {},
     "output_type": "display_data"
    },
    {
     "data": {
      "text/html": [
       "<pre style=\"white-space:pre;overflow-x:auto;line-height:normal;font-family:Menlo,'DejaVu Sans Mono',consolas,'Courier New',monospace\">Best mean reward: 44.35 - Last mean reward per episode: 43.75\n",
       "</pre>\n"
      ],
      "text/plain": [
       "Best mean reward: 44.35 - Last mean reward per episode: 43.75\n"
      ]
     },
     "metadata": {},
     "output_type": "display_data"
    },
    {
     "data": {
      "text/html": [
       "<pre style=\"white-space:pre;overflow-x:auto;line-height:normal;font-family:Menlo,'DejaVu Sans Mono',consolas,'Courier New',monospace\">Num timesteps: 195000\n",
       "</pre>\n"
      ],
      "text/plain": [
       "Num timesteps: 195000\n"
      ]
     },
     "metadata": {},
     "output_type": "display_data"
    },
    {
     "data": {
      "text/html": [
       "<pre style=\"white-space:pre;overflow-x:auto;line-height:normal;font-family:Menlo,'DejaVu Sans Mono',consolas,'Courier New',monospace\">Best mean reward: 44.35 - Last mean reward per episode: 43.47\n",
       "</pre>\n"
      ],
      "text/plain": [
       "Best mean reward: 44.35 - Last mean reward per episode: 43.47\n"
      ]
     },
     "metadata": {},
     "output_type": "display_data"
    },
    {
     "data": {
      "text/html": [
       "<pre style=\"white-space:pre;overflow-x:auto;line-height:normal;font-family:Menlo,'DejaVu Sans Mono',consolas,'Courier New',monospace\">Num timesteps: 196000\n",
       "</pre>\n"
      ],
      "text/plain": [
       "Num timesteps: 196000\n"
      ]
     },
     "metadata": {},
     "output_type": "display_data"
    },
    {
     "data": {
      "text/html": [
       "<pre style=\"white-space:pre;overflow-x:auto;line-height:normal;font-family:Menlo,'DejaVu Sans Mono',consolas,'Courier New',monospace\">Best mean reward: 44.35 - Last mean reward per episode: 44.59\n",
       "</pre>\n"
      ],
      "text/plain": [
       "Best mean reward: 44.35 - Last mean reward per episode: 44.59\n"
      ]
     },
     "metadata": {},
     "output_type": "display_data"
    },
    {
     "data": {
      "text/html": [
       "<pre style=\"white-space:pre;overflow-x:auto;line-height:normal;font-family:Menlo,'DejaVu Sans Mono',consolas,'Courier New',monospace\">Saving new best model to tmp/gym/multiinput_256/best_model.zip\n",
       "</pre>\n"
      ],
      "text/plain": [
       "Saving new best model to tmp/gym/multiinput_256/best_model.zip\n"
      ]
     },
     "metadata": {},
     "output_type": "display_data"
    },
    {
     "data": {
      "text/html": [
       "<pre style=\"white-space:pre;overflow-x:auto;line-height:normal;font-family:Menlo,'DejaVu Sans Mono',consolas,'Courier New',monospace\">Num timesteps: 197000\n",
       "</pre>\n"
      ],
      "text/plain": [
       "Num timesteps: 197000\n"
      ]
     },
     "metadata": {},
     "output_type": "display_data"
    },
    {
     "data": {
      "text/html": [
       "<pre style=\"white-space:pre;overflow-x:auto;line-height:normal;font-family:Menlo,'DejaVu Sans Mono',consolas,'Courier New',monospace\">Best mean reward: 44.59 - Last mean reward per episode: 44.82\n",
       "</pre>\n"
      ],
      "text/plain": [
       "Best mean reward: 44.59 - Last mean reward per episode: 44.82\n"
      ]
     },
     "metadata": {},
     "output_type": "display_data"
    },
    {
     "data": {
      "text/html": [
       "<pre style=\"white-space:pre;overflow-x:auto;line-height:normal;font-family:Menlo,'DejaVu Sans Mono',consolas,'Courier New',monospace\">Saving new best model to tmp/gym/multiinput_256/best_model.zip\n",
       "</pre>\n"
      ],
      "text/plain": [
       "Saving new best model to tmp/gym/multiinput_256/best_model.zip\n"
      ]
     },
     "metadata": {},
     "output_type": "display_data"
    },
    {
     "data": {
      "text/html": [
       "<pre style=\"white-space:pre;overflow-x:auto;line-height:normal;font-family:Menlo,'DejaVu Sans Mono',consolas,'Courier New',monospace\">Num timesteps: 198000\n",
       "</pre>\n"
      ],
      "text/plain": [
       "Num timesteps: 198000\n"
      ]
     },
     "metadata": {},
     "output_type": "display_data"
    },
    {
     "data": {
      "text/html": [
       "<pre style=\"white-space:pre;overflow-x:auto;line-height:normal;font-family:Menlo,'DejaVu Sans Mono',consolas,'Courier New',monospace\">Best mean reward: 44.82 - Last mean reward per episode: 44.51\n",
       "</pre>\n"
      ],
      "text/plain": [
       "Best mean reward: 44.82 - Last mean reward per episode: 44.51\n"
      ]
     },
     "metadata": {},
     "output_type": "display_data"
    },
    {
     "data": {
      "text/html": [
       "<pre style=\"white-space:pre;overflow-x:auto;line-height:normal;font-family:Menlo,'DejaVu Sans Mono',consolas,'Courier New',monospace\">Num timesteps: 199000\n",
       "</pre>\n"
      ],
      "text/plain": [
       "Num timesteps: 199000\n"
      ]
     },
     "metadata": {},
     "output_type": "display_data"
    },
    {
     "data": {
      "text/html": [
       "<pre style=\"white-space:pre;overflow-x:auto;line-height:normal;font-family:Menlo,'DejaVu Sans Mono',consolas,'Courier New',monospace\">Best mean reward: 44.82 - Last mean reward per episode: 44.96\n",
       "</pre>\n"
      ],
      "text/plain": [
       "Best mean reward: 44.82 - Last mean reward per episode: 44.96\n"
      ]
     },
     "metadata": {},
     "output_type": "display_data"
    },
    {
     "data": {
      "text/html": [
       "<pre style=\"white-space:pre;overflow-x:auto;line-height:normal;font-family:Menlo,'DejaVu Sans Mono',consolas,'Courier New',monospace\">Saving new best model to tmp/gym/multiinput_256/best_model.zip\n",
       "</pre>\n"
      ],
      "text/plain": [
       "Saving new best model to tmp/gym/multiinput_256/best_model.zip\n"
      ]
     },
     "metadata": {},
     "output_type": "display_data"
    },
    {
     "data": {
      "text/html": [
       "<pre style=\"white-space:pre;overflow-x:auto;line-height:normal;font-family:Menlo,'DejaVu Sans Mono',consolas,'Courier New',monospace\">Num timesteps: 200000\n",
       "</pre>\n"
      ],
      "text/plain": [
       "Num timesteps: 200000\n"
      ]
     },
     "metadata": {},
     "output_type": "display_data"
    },
    {
     "data": {
      "text/html": [
       "<pre style=\"white-space:pre;overflow-x:auto;line-height:normal;font-family:Menlo,'DejaVu Sans Mono',consolas,'Courier New',monospace\">Best mean reward: 44.96 - Last mean reward per episode: 44.94\n",
       "</pre>\n"
      ],
      "text/plain": [
       "Best mean reward: 44.96 - Last mean reward per episode: 44.94\n"
      ]
     },
     "metadata": {},
     "output_type": "display_data"
    },
    {
     "data": {
      "text/html": [
       "<pre style=\"white-space:pre;overflow-x:auto;line-height:normal;font-family:Menlo,'DejaVu Sans Mono',consolas,'Courier New',monospace\">Num timesteps: 201000\n",
       "</pre>\n"
      ],
      "text/plain": [
       "Num timesteps: 201000\n"
      ]
     },
     "metadata": {},
     "output_type": "display_data"
    },
    {
     "data": {
      "text/html": [
       "<pre style=\"white-space:pre;overflow-x:auto;line-height:normal;font-family:Menlo,'DejaVu Sans Mono',consolas,'Courier New',monospace\">Best mean reward: 44.96 - Last mean reward per episode: 44.09\n",
       "</pre>\n"
      ],
      "text/plain": [
       "Best mean reward: 44.96 - Last mean reward per episode: 44.09\n"
      ]
     },
     "metadata": {},
     "output_type": "display_data"
    },
    {
     "data": {
      "text/html": [
       "<pre style=\"white-space:pre;overflow-x:auto;line-height:normal;font-family:Menlo,'DejaVu Sans Mono',consolas,'Courier New',monospace\">Num timesteps: 202000\n",
       "</pre>\n"
      ],
      "text/plain": [
       "Num timesteps: 202000\n"
      ]
     },
     "metadata": {},
     "output_type": "display_data"
    },
    {
     "data": {
      "text/html": [
       "<pre style=\"white-space:pre;overflow-x:auto;line-height:normal;font-family:Menlo,'DejaVu Sans Mono',consolas,'Courier New',monospace\">Best mean reward: 44.96 - Last mean reward per episode: 44.98\n",
       "</pre>\n"
      ],
      "text/plain": [
       "Best mean reward: 44.96 - Last mean reward per episode: 44.98\n"
      ]
     },
     "metadata": {},
     "output_type": "display_data"
    },
    {
     "data": {
      "text/html": [
       "<pre style=\"white-space:pre;overflow-x:auto;line-height:normal;font-family:Menlo,'DejaVu Sans Mono',consolas,'Courier New',monospace\">Saving new best model to tmp/gym/multiinput_256/best_model.zip\n",
       "</pre>\n"
      ],
      "text/plain": [
       "Saving new best model to tmp/gym/multiinput_256/best_model.zip\n"
      ]
     },
     "metadata": {},
     "output_type": "display_data"
    },
    {
     "data": {
      "text/html": [
       "<pre style=\"white-space:pre;overflow-x:auto;line-height:normal;font-family:Menlo,'DejaVu Sans Mono',consolas,'Courier New',monospace\">Num timesteps: 203000\n",
       "</pre>\n"
      ],
      "text/plain": [
       "Num timesteps: 203000\n"
      ]
     },
     "metadata": {},
     "output_type": "display_data"
    },
    {
     "data": {
      "text/html": [
       "<pre style=\"white-space:pre;overflow-x:auto;line-height:normal;font-family:Menlo,'DejaVu Sans Mono',consolas,'Courier New',monospace\">Best mean reward: 44.98 - Last mean reward per episode: 45.59\n",
       "</pre>\n"
      ],
      "text/plain": [
       "Best mean reward: 44.98 - Last mean reward per episode: 45.59\n"
      ]
     },
     "metadata": {},
     "output_type": "display_data"
    },
    {
     "data": {
      "text/html": [
       "<pre style=\"white-space:pre;overflow-x:auto;line-height:normal;font-family:Menlo,'DejaVu Sans Mono',consolas,'Courier New',monospace\">Saving new best model to tmp/gym/multiinput_256/best_model.zip\n",
       "</pre>\n"
      ],
      "text/plain": [
       "Saving new best model to tmp/gym/multiinput_256/best_model.zip\n"
      ]
     },
     "metadata": {},
     "output_type": "display_data"
    },
    {
     "data": {
      "text/html": [
       "<pre style=\"white-space:pre;overflow-x:auto;line-height:normal;font-family:Menlo,'DejaVu Sans Mono',consolas,'Courier New',monospace\">Num timesteps: 204000\n",
       "</pre>\n"
      ],
      "text/plain": [
       "Num timesteps: 204000\n"
      ]
     },
     "metadata": {},
     "output_type": "display_data"
    },
    {
     "data": {
      "text/html": [
       "<pre style=\"white-space:pre;overflow-x:auto;line-height:normal;font-family:Menlo,'DejaVu Sans Mono',consolas,'Courier New',monospace\">Best mean reward: 45.59 - Last mean reward per episode: 46.38\n",
       "</pre>\n"
      ],
      "text/plain": [
       "Best mean reward: 45.59 - Last mean reward per episode: 46.38\n"
      ]
     },
     "metadata": {},
     "output_type": "display_data"
    },
    {
     "data": {
      "text/html": [
       "<pre style=\"white-space:pre;overflow-x:auto;line-height:normal;font-family:Menlo,'DejaVu Sans Mono',consolas,'Courier New',monospace\">Saving new best model to tmp/gym/multiinput_256/best_model.zip\n",
       "</pre>\n"
      ],
      "text/plain": [
       "Saving new best model to tmp/gym/multiinput_256/best_model.zip\n"
      ]
     },
     "metadata": {},
     "output_type": "display_data"
    },
    {
     "name": "stdout",
     "output_type": "stream",
     "text": [
      "----------------------------------------\n",
      "| rollout/                |            |\n",
      "|    ep_len_mean          | 500        |\n",
      "|    ep_rew_mean          | 45.9       |\n",
      "| time/                   |            |\n",
      "|    fps                  | 89         |\n",
      "|    iterations           | 100        |\n",
      "|    time_elapsed         | 2299       |\n",
      "|    total_timesteps      | 204800     |\n",
      "| train/                  |            |\n",
      "|    approx_kl            | 0.36002478 |\n",
      "|    clip_fraction        | 0.638      |\n",
      "|    clip_range           | 0.2        |\n",
      "|    entropy_loss         | -8.13      |\n",
      "|    explained_variance   | 0.945      |\n",
      "|    learning_rate        | 0.0003     |\n",
      "|    loss                 | -0.0901    |\n",
      "|    n_updates            | 990        |\n",
      "|    policy_gradient_loss | -0.0678    |\n",
      "|    std                  | 0.773      |\n",
      "|    value_loss           | 0.44       |\n",
      "----------------------------------------\n"
     ]
    },
    {
     "data": {
      "text/html": [
       "<pre style=\"white-space:pre;overflow-x:auto;line-height:normal;font-family:Menlo,'DejaVu Sans Mono',consolas,'Courier New',monospace\">Num timesteps: 205000\n",
       "</pre>\n"
      ],
      "text/plain": [
       "Num timesteps: 205000\n"
      ]
     },
     "metadata": {},
     "output_type": "display_data"
    },
    {
     "data": {
      "text/html": [
       "<pre style=\"white-space:pre;overflow-x:auto;line-height:normal;font-family:Menlo,'DejaVu Sans Mono',consolas,'Courier New',monospace\">Best mean reward: 46.38 - Last mean reward per episode: 45.71\n",
       "</pre>\n"
      ],
      "text/plain": [
       "Best mean reward: 46.38 - Last mean reward per episode: 45.71\n"
      ]
     },
     "metadata": {},
     "output_type": "display_data"
    },
    {
     "data": {
      "text/html": [
       "<pre style=\"white-space:pre;overflow-x:auto;line-height:normal;font-family:Menlo,'DejaVu Sans Mono',consolas,'Courier New',monospace\">Num timesteps: 206000\n",
       "</pre>\n"
      ],
      "text/plain": [
       "Num timesteps: 206000\n"
      ]
     },
     "metadata": {},
     "output_type": "display_data"
    },
    {
     "data": {
      "text/html": [
       "<pre style=\"white-space:pre;overflow-x:auto;line-height:normal;font-family:Menlo,'DejaVu Sans Mono',consolas,'Courier New',monospace\">Best mean reward: 46.38 - Last mean reward per episode: 44.78\n",
       "</pre>\n"
      ],
      "text/plain": [
       "Best mean reward: 46.38 - Last mean reward per episode: 44.78\n"
      ]
     },
     "metadata": {},
     "output_type": "display_data"
    },
    {
     "data": {
      "text/html": [
       "<pre style=\"white-space:pre;overflow-x:auto;line-height:normal;font-family:Menlo,'DejaVu Sans Mono',consolas,'Courier New',monospace\">Num timesteps: 207000\n",
       "</pre>\n"
      ],
      "text/plain": [
       "Num timesteps: 207000\n"
      ]
     },
     "metadata": {},
     "output_type": "display_data"
    },
    {
     "data": {
      "text/html": [
       "<pre style=\"white-space:pre;overflow-x:auto;line-height:normal;font-family:Menlo,'DejaVu Sans Mono',consolas,'Courier New',monospace\">Best mean reward: 46.38 - Last mean reward per episode: 45.42\n",
       "</pre>\n"
      ],
      "text/plain": [
       "Best mean reward: 46.38 - Last mean reward per episode: 45.42\n"
      ]
     },
     "metadata": {},
     "output_type": "display_data"
    },
    {
     "data": {
      "text/html": [
       "<pre style=\"white-space:pre;overflow-x:auto;line-height:normal;font-family:Menlo,'DejaVu Sans Mono',consolas,'Courier New',monospace\">Num timesteps: 208000\n",
       "</pre>\n"
      ],
      "text/plain": [
       "Num timesteps: 208000\n"
      ]
     },
     "metadata": {},
     "output_type": "display_data"
    },
    {
     "data": {
      "text/html": [
       "<pre style=\"white-space:pre;overflow-x:auto;line-height:normal;font-family:Menlo,'DejaVu Sans Mono',consolas,'Courier New',monospace\">Best mean reward: 46.38 - Last mean reward per episode: 45.31\n",
       "</pre>\n"
      ],
      "text/plain": [
       "Best mean reward: 46.38 - Last mean reward per episode: 45.31\n"
      ]
     },
     "metadata": {},
     "output_type": "display_data"
    },
    {
     "data": {
      "text/html": [
       "<pre style=\"white-space:pre;overflow-x:auto;line-height:normal;font-family:Menlo,'DejaVu Sans Mono',consolas,'Courier New',monospace\">Num timesteps: 209000\n",
       "</pre>\n"
      ],
      "text/plain": [
       "Num timesteps: 209000\n"
      ]
     },
     "metadata": {},
     "output_type": "display_data"
    },
    {
     "data": {
      "text/html": [
       "<pre style=\"white-space:pre;overflow-x:auto;line-height:normal;font-family:Menlo,'DejaVu Sans Mono',consolas,'Courier New',monospace\">Best mean reward: 46.38 - Last mean reward per episode: 45.43\n",
       "</pre>\n"
      ],
      "text/plain": [
       "Best mean reward: 46.38 - Last mean reward per episode: 45.43\n"
      ]
     },
     "metadata": {},
     "output_type": "display_data"
    },
    {
     "data": {
      "text/html": [
       "<pre style=\"white-space:pre;overflow-x:auto;line-height:normal;font-family:Menlo,'DejaVu Sans Mono',consolas,'Courier New',monospace\">Num timesteps: 210000\n",
       "</pre>\n"
      ],
      "text/plain": [
       "Num timesteps: 210000\n"
      ]
     },
     "metadata": {},
     "output_type": "display_data"
    },
    {
     "data": {
      "text/html": [
       "<pre style=\"white-space:pre;overflow-x:auto;line-height:normal;font-family:Menlo,'DejaVu Sans Mono',consolas,'Courier New',monospace\">Best mean reward: 46.38 - Last mean reward per episode: 45.89\n",
       "</pre>\n"
      ],
      "text/plain": [
       "Best mean reward: 46.38 - Last mean reward per episode: 45.89\n"
      ]
     },
     "metadata": {},
     "output_type": "display_data"
    },
    {
     "data": {
      "text/html": [
       "<pre style=\"white-space:pre;overflow-x:auto;line-height:normal;font-family:Menlo,'DejaVu Sans Mono',consolas,'Courier New',monospace\">Num timesteps: 211000\n",
       "</pre>\n"
      ],
      "text/plain": [
       "Num timesteps: 211000\n"
      ]
     },
     "metadata": {},
     "output_type": "display_data"
    },
    {
     "data": {
      "text/html": [
       "<pre style=\"white-space:pre;overflow-x:auto;line-height:normal;font-family:Menlo,'DejaVu Sans Mono',consolas,'Courier New',monospace\">Best mean reward: 46.38 - Last mean reward per episode: 44.91\n",
       "</pre>\n"
      ],
      "text/plain": [
       "Best mean reward: 46.38 - Last mean reward per episode: 44.91\n"
      ]
     },
     "metadata": {},
     "output_type": "display_data"
    },
    {
     "data": {
      "text/html": [
       "<pre style=\"white-space:pre;overflow-x:auto;line-height:normal;font-family:Menlo,'DejaVu Sans Mono',consolas,'Courier New',monospace\">Num timesteps: 212000\n",
       "</pre>\n"
      ],
      "text/plain": [
       "Num timesteps: 212000\n"
      ]
     },
     "metadata": {},
     "output_type": "display_data"
    },
    {
     "data": {
      "text/html": [
       "<pre style=\"white-space:pre;overflow-x:auto;line-height:normal;font-family:Menlo,'DejaVu Sans Mono',consolas,'Courier New',monospace\">Best mean reward: 46.38 - Last mean reward per episode: 44.32\n",
       "</pre>\n"
      ],
      "text/plain": [
       "Best mean reward: 46.38 - Last mean reward per episode: 44.32\n"
      ]
     },
     "metadata": {},
     "output_type": "display_data"
    },
    {
     "data": {
      "text/html": [
       "<pre style=\"white-space:pre;overflow-x:auto;line-height:normal;font-family:Menlo,'DejaVu Sans Mono',consolas,'Courier New',monospace\">Num timesteps: 213000\n",
       "</pre>\n"
      ],
      "text/plain": [
       "Num timesteps: 213000\n"
      ]
     },
     "metadata": {},
     "output_type": "display_data"
    },
    {
     "data": {
      "text/html": [
       "<pre style=\"white-space:pre;overflow-x:auto;line-height:normal;font-family:Menlo,'DejaVu Sans Mono',consolas,'Courier New',monospace\">Best mean reward: 46.38 - Last mean reward per episode: 44.74\n",
       "</pre>\n"
      ],
      "text/plain": [
       "Best mean reward: 46.38 - Last mean reward per episode: 44.74\n"
      ]
     },
     "metadata": {},
     "output_type": "display_data"
    },
    {
     "data": {
      "text/html": [
       "<pre style=\"white-space:pre;overflow-x:auto;line-height:normal;font-family:Menlo,'DejaVu Sans Mono',consolas,'Courier New',monospace\">Num timesteps: 214000\n",
       "</pre>\n"
      ],
      "text/plain": [
       "Num timesteps: 214000\n"
      ]
     },
     "metadata": {},
     "output_type": "display_data"
    },
    {
     "data": {
      "text/html": [
       "<pre style=\"white-space:pre;overflow-x:auto;line-height:normal;font-family:Menlo,'DejaVu Sans Mono',consolas,'Courier New',monospace\">Best mean reward: 46.38 - Last mean reward per episode: 43.37\n",
       "</pre>\n"
      ],
      "text/plain": [
       "Best mean reward: 46.38 - Last mean reward per episode: 43.37\n"
      ]
     },
     "metadata": {},
     "output_type": "display_data"
    },
    {
     "data": {
      "text/html": [
       "<pre style=\"white-space:pre;overflow-x:auto;line-height:normal;font-family:Menlo,'DejaVu Sans Mono',consolas,'Courier New',monospace\">Num timesteps: 215000\n",
       "</pre>\n"
      ],
      "text/plain": [
       "Num timesteps: 215000\n"
      ]
     },
     "metadata": {},
     "output_type": "display_data"
    },
    {
     "data": {
      "text/html": [
       "<pre style=\"white-space:pre;overflow-x:auto;line-height:normal;font-family:Menlo,'DejaVu Sans Mono',consolas,'Courier New',monospace\">Best mean reward: 46.38 - Last mean reward per episode: 42.84\n",
       "</pre>\n"
      ],
      "text/plain": [
       "Best mean reward: 46.38 - Last mean reward per episode: 42.84\n"
      ]
     },
     "metadata": {},
     "output_type": "display_data"
    },
    {
     "data": {
      "text/html": [
       "<pre style=\"white-space:pre;overflow-x:auto;line-height:normal;font-family:Menlo,'DejaVu Sans Mono',consolas,'Courier New',monospace\">Num timesteps: 216000\n",
       "</pre>\n"
      ],
      "text/plain": [
       "Num timesteps: 216000\n"
      ]
     },
     "metadata": {},
     "output_type": "display_data"
    },
    {
     "data": {
      "text/html": [
       "<pre style=\"white-space:pre;overflow-x:auto;line-height:normal;font-family:Menlo,'DejaVu Sans Mono',consolas,'Courier New',monospace\">Best mean reward: 46.38 - Last mean reward per episode: 42.40\n",
       "</pre>\n"
      ],
      "text/plain": [
       "Best mean reward: 46.38 - Last mean reward per episode: 42.40\n"
      ]
     },
     "metadata": {},
     "output_type": "display_data"
    },
    {
     "data": {
      "text/html": [
       "<pre style=\"white-space:pre;overflow-x:auto;line-height:normal;font-family:Menlo,'DejaVu Sans Mono',consolas,'Courier New',monospace\">Num timesteps: 217000\n",
       "</pre>\n"
      ],
      "text/plain": [
       "Num timesteps: 217000\n"
      ]
     },
     "metadata": {},
     "output_type": "display_data"
    },
    {
     "data": {
      "text/html": [
       "<pre style=\"white-space:pre;overflow-x:auto;line-height:normal;font-family:Menlo,'DejaVu Sans Mono',consolas,'Courier New',monospace\">Best mean reward: 46.38 - Last mean reward per episode: 41.92\n",
       "</pre>\n"
      ],
      "text/plain": [
       "Best mean reward: 46.38 - Last mean reward per episode: 41.92\n"
      ]
     },
     "metadata": {},
     "output_type": "display_data"
    },
    {
     "data": {
      "text/html": [
       "<pre style=\"white-space:pre;overflow-x:auto;line-height:normal;font-family:Menlo,'DejaVu Sans Mono',consolas,'Courier New',monospace\">Num timesteps: 218000\n",
       "</pre>\n"
      ],
      "text/plain": [
       "Num timesteps: 218000\n"
      ]
     },
     "metadata": {},
     "output_type": "display_data"
    },
    {
     "data": {
      "text/html": [
       "<pre style=\"white-space:pre;overflow-x:auto;line-height:normal;font-family:Menlo,'DejaVu Sans Mono',consolas,'Courier New',monospace\">Best mean reward: 46.38 - Last mean reward per episode: 42.83\n",
       "</pre>\n"
      ],
      "text/plain": [
       "Best mean reward: 46.38 - Last mean reward per episode: 42.83\n"
      ]
     },
     "metadata": {},
     "output_type": "display_data"
    },
    {
     "data": {
      "text/html": [
       "<pre style=\"white-space:pre;overflow-x:auto;line-height:normal;font-family:Menlo,'DejaVu Sans Mono',consolas,'Courier New',monospace\">Num timesteps: 219000\n",
       "</pre>\n"
      ],
      "text/plain": [
       "Num timesteps: 219000\n"
      ]
     },
     "metadata": {},
     "output_type": "display_data"
    },
    {
     "data": {
      "text/html": [
       "<pre style=\"white-space:pre;overflow-x:auto;line-height:normal;font-family:Menlo,'DejaVu Sans Mono',consolas,'Courier New',monospace\">Best mean reward: 46.38 - Last mean reward per episode: 42.92\n",
       "</pre>\n"
      ],
      "text/plain": [
       "Best mean reward: 46.38 - Last mean reward per episode: 42.92\n"
      ]
     },
     "metadata": {},
     "output_type": "display_data"
    },
    {
     "data": {
      "text/html": [
       "<pre style=\"white-space:pre;overflow-x:auto;line-height:normal;font-family:Menlo,'DejaVu Sans Mono',consolas,'Courier New',monospace\">Num timesteps: 220000\n",
       "</pre>\n"
      ],
      "text/plain": [
       "Num timesteps: 220000\n"
      ]
     },
     "metadata": {},
     "output_type": "display_data"
    },
    {
     "data": {
      "text/html": [
       "<pre style=\"white-space:pre;overflow-x:auto;line-height:normal;font-family:Menlo,'DejaVu Sans Mono',consolas,'Courier New',monospace\">Best mean reward: 46.38 - Last mean reward per episode: 43.93\n",
       "</pre>\n"
      ],
      "text/plain": [
       "Best mean reward: 46.38 - Last mean reward per episode: 43.93\n"
      ]
     },
     "metadata": {},
     "output_type": "display_data"
    },
    {
     "data": {
      "text/html": [
       "<pre style=\"white-space:pre;overflow-x:auto;line-height:normal;font-family:Menlo,'DejaVu Sans Mono',consolas,'Courier New',monospace\">Num timesteps: 221000\n",
       "</pre>\n"
      ],
      "text/plain": [
       "Num timesteps: 221000\n"
      ]
     },
     "metadata": {},
     "output_type": "display_data"
    },
    {
     "data": {
      "text/html": [
       "<pre style=\"white-space:pre;overflow-x:auto;line-height:normal;font-family:Menlo,'DejaVu Sans Mono',consolas,'Courier New',monospace\">Best mean reward: 46.38 - Last mean reward per episode: 44.43\n",
       "</pre>\n"
      ],
      "text/plain": [
       "Best mean reward: 46.38 - Last mean reward per episode: 44.43\n"
      ]
     },
     "metadata": {},
     "output_type": "display_data"
    },
    {
     "data": {
      "text/html": [
       "<pre style=\"white-space:pre;overflow-x:auto;line-height:normal;font-family:Menlo,'DejaVu Sans Mono',consolas,'Courier New',monospace\">Num timesteps: 222000\n",
       "</pre>\n"
      ],
      "text/plain": [
       "Num timesteps: 222000\n"
      ]
     },
     "metadata": {},
     "output_type": "display_data"
    },
    {
     "data": {
      "text/html": [
       "<pre style=\"white-space:pre;overflow-x:auto;line-height:normal;font-family:Menlo,'DejaVu Sans Mono',consolas,'Courier New',monospace\">Best mean reward: 46.38 - Last mean reward per episode: 44.36\n",
       "</pre>\n"
      ],
      "text/plain": [
       "Best mean reward: 46.38 - Last mean reward per episode: 44.36\n"
      ]
     },
     "metadata": {},
     "output_type": "display_data"
    },
    {
     "data": {
      "text/html": [
       "<pre style=\"white-space:pre;overflow-x:auto;line-height:normal;font-family:Menlo,'DejaVu Sans Mono',consolas,'Courier New',monospace\">Num timesteps: 223000\n",
       "</pre>\n"
      ],
      "text/plain": [
       "Num timesteps: 223000\n"
      ]
     },
     "metadata": {},
     "output_type": "display_data"
    },
    {
     "data": {
      "text/html": [
       "<pre style=\"white-space:pre;overflow-x:auto;line-height:normal;font-family:Menlo,'DejaVu Sans Mono',consolas,'Courier New',monospace\">Best mean reward: 46.38 - Last mean reward per episode: 43.83\n",
       "</pre>\n"
      ],
      "text/plain": [
       "Best mean reward: 46.38 - Last mean reward per episode: 43.83\n"
      ]
     },
     "metadata": {},
     "output_type": "display_data"
    },
    {
     "data": {
      "text/html": [
       "<pre style=\"white-space:pre;overflow-x:auto;line-height:normal;font-family:Menlo,'DejaVu Sans Mono',consolas,'Courier New',monospace\">Num timesteps: 224000\n",
       "</pre>\n"
      ],
      "text/plain": [
       "Num timesteps: 224000\n"
      ]
     },
     "metadata": {},
     "output_type": "display_data"
    },
    {
     "data": {
      "text/html": [
       "<pre style=\"white-space:pre;overflow-x:auto;line-height:normal;font-family:Menlo,'DejaVu Sans Mono',consolas,'Courier New',monospace\">Best mean reward: 46.38 - Last mean reward per episode: 43.56\n",
       "</pre>\n"
      ],
      "text/plain": [
       "Best mean reward: 46.38 - Last mean reward per episode: 43.56\n"
      ]
     },
     "metadata": {},
     "output_type": "display_data"
    },
    {
     "data": {
      "text/html": [
       "<pre style=\"white-space:pre;overflow-x:auto;line-height:normal;font-family:Menlo,'DejaVu Sans Mono',consolas,'Courier New',monospace\">Num timesteps: 225000\n",
       "</pre>\n"
      ],
      "text/plain": [
       "Num timesteps: 225000\n"
      ]
     },
     "metadata": {},
     "output_type": "display_data"
    },
    {
     "data": {
      "text/html": [
       "<pre style=\"white-space:pre;overflow-x:auto;line-height:normal;font-family:Menlo,'DejaVu Sans Mono',consolas,'Courier New',monospace\">Best mean reward: 46.38 - Last mean reward per episode: 43.03\n",
       "</pre>\n"
      ],
      "text/plain": [
       "Best mean reward: 46.38 - Last mean reward per episode: 43.03\n"
      ]
     },
     "metadata": {},
     "output_type": "display_data"
    },
    {
     "name": "stdout",
     "output_type": "stream",
     "text": [
      "----------------------------------------\n",
      "| rollout/                |            |\n",
      "|    ep_len_mean          | 500        |\n",
      "|    ep_rew_mean          | 43         |\n",
      "| time/                   |            |\n",
      "|    fps                  | 89         |\n",
      "|    iterations           | 110        |\n",
      "|    time_elapsed         | 2525       |\n",
      "|    total_timesteps      | 225280     |\n",
      "| train/                  |            |\n",
      "|    approx_kl            | 0.40526617 |\n",
      "|    clip_fraction        | 0.677      |\n",
      "|    clip_range           | 0.2        |\n",
      "|    entropy_loss         | -7.91      |\n",
      "|    explained_variance   | 0.874      |\n",
      "|    learning_rate        | 0.0003     |\n",
      "|    loss                 | -0.0866    |\n",
      "|    n_updates            | 1090       |\n",
      "|    policy_gradient_loss | -0.0722    |\n",
      "|    std                  | 0.747      |\n",
      "|    value_loss           | 0.387      |\n",
      "----------------------------------------\n"
     ]
    },
    {
     "data": {
      "text/html": [
       "<pre style=\"white-space:pre;overflow-x:auto;line-height:normal;font-family:Menlo,'DejaVu Sans Mono',consolas,'Courier New',monospace\">Num timesteps: 226000\n",
       "</pre>\n"
      ],
      "text/plain": [
       "Num timesteps: 226000\n"
      ]
     },
     "metadata": {},
     "output_type": "display_data"
    },
    {
     "data": {
      "text/html": [
       "<pre style=\"white-space:pre;overflow-x:auto;line-height:normal;font-family:Menlo,'DejaVu Sans Mono',consolas,'Courier New',monospace\">Best mean reward: 46.38 - Last mean reward per episode: 43.20\n",
       "</pre>\n"
      ],
      "text/plain": [
       "Best mean reward: 46.38 - Last mean reward per episode: 43.20\n"
      ]
     },
     "metadata": {},
     "output_type": "display_data"
    },
    {
     "data": {
      "text/html": [
       "<pre style=\"white-space:pre;overflow-x:auto;line-height:normal;font-family:Menlo,'DejaVu Sans Mono',consolas,'Courier New',monospace\">Num timesteps: 227000\n",
       "</pre>\n"
      ],
      "text/plain": [
       "Num timesteps: 227000\n"
      ]
     },
     "metadata": {},
     "output_type": "display_data"
    },
    {
     "data": {
      "text/html": [
       "<pre style=\"white-space:pre;overflow-x:auto;line-height:normal;font-family:Menlo,'DejaVu Sans Mono',consolas,'Courier New',monospace\">Best mean reward: 46.38 - Last mean reward per episode: 42.77\n",
       "</pre>\n"
      ],
      "text/plain": [
       "Best mean reward: 46.38 - Last mean reward per episode: 42.77\n"
      ]
     },
     "metadata": {},
     "output_type": "display_data"
    },
    {
     "data": {
      "text/html": [
       "<pre style=\"white-space:pre;overflow-x:auto;line-height:normal;font-family:Menlo,'DejaVu Sans Mono',consolas,'Courier New',monospace\">Num timesteps: 228000\n",
       "</pre>\n"
      ],
      "text/plain": [
       "Num timesteps: 228000\n"
      ]
     },
     "metadata": {},
     "output_type": "display_data"
    },
    {
     "data": {
      "text/html": [
       "<pre style=\"white-space:pre;overflow-x:auto;line-height:normal;font-family:Menlo,'DejaVu Sans Mono',consolas,'Courier New',monospace\">Best mean reward: 46.38 - Last mean reward per episode: 42.23\n",
       "</pre>\n"
      ],
      "text/plain": [
       "Best mean reward: 46.38 - Last mean reward per episode: 42.23\n"
      ]
     },
     "metadata": {},
     "output_type": "display_data"
    },
    {
     "data": {
      "text/html": [
       "<pre style=\"white-space:pre;overflow-x:auto;line-height:normal;font-family:Menlo,'DejaVu Sans Mono',consolas,'Courier New',monospace\">Num timesteps: 229000\n",
       "</pre>\n"
      ],
      "text/plain": [
       "Num timesteps: 229000\n"
      ]
     },
     "metadata": {},
     "output_type": "display_data"
    },
    {
     "data": {
      "text/html": [
       "<pre style=\"white-space:pre;overflow-x:auto;line-height:normal;font-family:Menlo,'DejaVu Sans Mono',consolas,'Courier New',monospace\">Best mean reward: 46.38 - Last mean reward per episode: 42.12\n",
       "</pre>\n"
      ],
      "text/plain": [
       "Best mean reward: 46.38 - Last mean reward per episode: 42.12\n"
      ]
     },
     "metadata": {},
     "output_type": "display_data"
    },
    {
     "data": {
      "text/html": [
       "<pre style=\"white-space:pre;overflow-x:auto;line-height:normal;font-family:Menlo,'DejaVu Sans Mono',consolas,'Courier New',monospace\">Num timesteps: 230000\n",
       "</pre>\n"
      ],
      "text/plain": [
       "Num timesteps: 230000\n"
      ]
     },
     "metadata": {},
     "output_type": "display_data"
    },
    {
     "data": {
      "text/html": [
       "<pre style=\"white-space:pre;overflow-x:auto;line-height:normal;font-family:Menlo,'DejaVu Sans Mono',consolas,'Courier New',monospace\">Best mean reward: 46.38 - Last mean reward per episode: 42.00\n",
       "</pre>\n"
      ],
      "text/plain": [
       "Best mean reward: 46.38 - Last mean reward per episode: 42.00\n"
      ]
     },
     "metadata": {},
     "output_type": "display_data"
    },
    {
     "data": {
      "text/html": [
       "<pre style=\"white-space:pre;overflow-x:auto;line-height:normal;font-family:Menlo,'DejaVu Sans Mono',consolas,'Courier New',monospace\">Num timesteps: 231000\n",
       "</pre>\n"
      ],
      "text/plain": [
       "Num timesteps: 231000\n"
      ]
     },
     "metadata": {},
     "output_type": "display_data"
    },
    {
     "data": {
      "text/html": [
       "<pre style=\"white-space:pre;overflow-x:auto;line-height:normal;font-family:Menlo,'DejaVu Sans Mono',consolas,'Courier New',monospace\">Best mean reward: 46.38 - Last mean reward per episode: 41.21\n",
       "</pre>\n"
      ],
      "text/plain": [
       "Best mean reward: 46.38 - Last mean reward per episode: 41.21\n"
      ]
     },
     "metadata": {},
     "output_type": "display_data"
    },
    {
     "data": {
      "text/html": [
       "<pre style=\"white-space:pre;overflow-x:auto;line-height:normal;font-family:Menlo,'DejaVu Sans Mono',consolas,'Courier New',monospace\">Num timesteps: 232000\n",
       "</pre>\n"
      ],
      "text/plain": [
       "Num timesteps: 232000\n"
      ]
     },
     "metadata": {},
     "output_type": "display_data"
    },
    {
     "data": {
      "text/html": [
       "<pre style=\"white-space:pre;overflow-x:auto;line-height:normal;font-family:Menlo,'DejaVu Sans Mono',consolas,'Courier New',monospace\">Best mean reward: 46.38 - Last mean reward per episode: 41.04\n",
       "</pre>\n"
      ],
      "text/plain": [
       "Best mean reward: 46.38 - Last mean reward per episode: 41.04\n"
      ]
     },
     "metadata": {},
     "output_type": "display_data"
    },
    {
     "data": {
      "text/html": [
       "<pre style=\"white-space:pre;overflow-x:auto;line-height:normal;font-family:Menlo,'DejaVu Sans Mono',consolas,'Courier New',monospace\">Num timesteps: 233000\n",
       "</pre>\n"
      ],
      "text/plain": [
       "Num timesteps: 233000\n"
      ]
     },
     "metadata": {},
     "output_type": "display_data"
    },
    {
     "data": {
      "text/html": [
       "<pre style=\"white-space:pre;overflow-x:auto;line-height:normal;font-family:Menlo,'DejaVu Sans Mono',consolas,'Courier New',monospace\">Best mean reward: 46.38 - Last mean reward per episode: 40.78\n",
       "</pre>\n"
      ],
      "text/plain": [
       "Best mean reward: 46.38 - Last mean reward per episode: 40.78\n"
      ]
     },
     "metadata": {},
     "output_type": "display_data"
    },
    {
     "data": {
      "text/html": [
       "<pre style=\"white-space:pre;overflow-x:auto;line-height:normal;font-family:Menlo,'DejaVu Sans Mono',consolas,'Courier New',monospace\">Num timesteps: 234000\n",
       "</pre>\n"
      ],
      "text/plain": [
       "Num timesteps: 234000\n"
      ]
     },
     "metadata": {},
     "output_type": "display_data"
    },
    {
     "data": {
      "text/html": [
       "<pre style=\"white-space:pre;overflow-x:auto;line-height:normal;font-family:Menlo,'DejaVu Sans Mono',consolas,'Courier New',monospace\">Best mean reward: 46.38 - Last mean reward per episode: 40.67\n",
       "</pre>\n"
      ],
      "text/plain": [
       "Best mean reward: 46.38 - Last mean reward per episode: 40.67\n"
      ]
     },
     "metadata": {},
     "output_type": "display_data"
    },
    {
     "data": {
      "text/html": [
       "<pre style=\"white-space:pre;overflow-x:auto;line-height:normal;font-family:Menlo,'DejaVu Sans Mono',consolas,'Courier New',monospace\">Num timesteps: 235000\n",
       "</pre>\n"
      ],
      "text/plain": [
       "Num timesteps: 235000\n"
      ]
     },
     "metadata": {},
     "output_type": "display_data"
    },
    {
     "data": {
      "text/html": [
       "<pre style=\"white-space:pre;overflow-x:auto;line-height:normal;font-family:Menlo,'DejaVu Sans Mono',consolas,'Courier New',monospace\">Best mean reward: 46.38 - Last mean reward per episode: 40.06\n",
       "</pre>\n"
      ],
      "text/plain": [
       "Best mean reward: 46.38 - Last mean reward per episode: 40.06\n"
      ]
     },
     "metadata": {},
     "output_type": "display_data"
    },
    {
     "data": {
      "text/html": [
       "<pre style=\"white-space:pre;overflow-x:auto;line-height:normal;font-family:Menlo,'DejaVu Sans Mono',consolas,'Courier New',monospace\">Num timesteps: 236000\n",
       "</pre>\n"
      ],
      "text/plain": [
       "Num timesteps: 236000\n"
      ]
     },
     "metadata": {},
     "output_type": "display_data"
    },
    {
     "data": {
      "text/html": [
       "<pre style=\"white-space:pre;overflow-x:auto;line-height:normal;font-family:Menlo,'DejaVu Sans Mono',consolas,'Courier New',monospace\">Best mean reward: 46.38 - Last mean reward per episode: 39.60\n",
       "</pre>\n"
      ],
      "text/plain": [
       "Best mean reward: 46.38 - Last mean reward per episode: 39.60\n"
      ]
     },
     "metadata": {},
     "output_type": "display_data"
    },
    {
     "data": {
      "text/html": [
       "<pre style=\"white-space:pre;overflow-x:auto;line-height:normal;font-family:Menlo,'DejaVu Sans Mono',consolas,'Courier New',monospace\">Num timesteps: 237000\n",
       "</pre>\n"
      ],
      "text/plain": [
       "Num timesteps: 237000\n"
      ]
     },
     "metadata": {},
     "output_type": "display_data"
    },
    {
     "data": {
      "text/html": [
       "<pre style=\"white-space:pre;overflow-x:auto;line-height:normal;font-family:Menlo,'DejaVu Sans Mono',consolas,'Courier New',monospace\">Best mean reward: 46.38 - Last mean reward per episode: 39.49\n",
       "</pre>\n"
      ],
      "text/plain": [
       "Best mean reward: 46.38 - Last mean reward per episode: 39.49\n"
      ]
     },
     "metadata": {},
     "output_type": "display_data"
    },
    {
     "data": {
      "text/html": [
       "<pre style=\"white-space:pre;overflow-x:auto;line-height:normal;font-family:Menlo,'DejaVu Sans Mono',consolas,'Courier New',monospace\">Num timesteps: 238000\n",
       "</pre>\n"
      ],
      "text/plain": [
       "Num timesteps: 238000\n"
      ]
     },
     "metadata": {},
     "output_type": "display_data"
    },
    {
     "data": {
      "text/html": [
       "<pre style=\"white-space:pre;overflow-x:auto;line-height:normal;font-family:Menlo,'DejaVu Sans Mono',consolas,'Courier New',monospace\">Best mean reward: 46.38 - Last mean reward per episode: 39.29\n",
       "</pre>\n"
      ],
      "text/plain": [
       "Best mean reward: 46.38 - Last mean reward per episode: 39.29\n"
      ]
     },
     "metadata": {},
     "output_type": "display_data"
    },
    {
     "data": {
      "text/html": [
       "<pre style=\"white-space:pre;overflow-x:auto;line-height:normal;font-family:Menlo,'DejaVu Sans Mono',consolas,'Courier New',monospace\">Num timesteps: 239000\n",
       "</pre>\n"
      ],
      "text/plain": [
       "Num timesteps: 239000\n"
      ]
     },
     "metadata": {},
     "output_type": "display_data"
    },
    {
     "data": {
      "text/html": [
       "<pre style=\"white-space:pre;overflow-x:auto;line-height:normal;font-family:Menlo,'DejaVu Sans Mono',consolas,'Courier New',monospace\">Best mean reward: 46.38 - Last mean reward per episode: 38.37\n",
       "</pre>\n"
      ],
      "text/plain": [
       "Best mean reward: 46.38 - Last mean reward per episode: 38.37\n"
      ]
     },
     "metadata": {},
     "output_type": "display_data"
    },
    {
     "data": {
      "text/html": [
       "<pre style=\"white-space:pre;overflow-x:auto;line-height:normal;font-family:Menlo,'DejaVu Sans Mono',consolas,'Courier New',monospace\">Num timesteps: 240000\n",
       "</pre>\n"
      ],
      "text/plain": [
       "Num timesteps: 240000\n"
      ]
     },
     "metadata": {},
     "output_type": "display_data"
    },
    {
     "data": {
      "text/html": [
       "<pre style=\"white-space:pre;overflow-x:auto;line-height:normal;font-family:Menlo,'DejaVu Sans Mono',consolas,'Courier New',monospace\">Best mean reward: 46.38 - Last mean reward per episode: 38.22\n",
       "</pre>\n"
      ],
      "text/plain": [
       "Best mean reward: 46.38 - Last mean reward per episode: 38.22\n"
      ]
     },
     "metadata": {},
     "output_type": "display_data"
    },
    {
     "data": {
      "text/html": [
       "<pre style=\"white-space:pre;overflow-x:auto;line-height:normal;font-family:Menlo,'DejaVu Sans Mono',consolas,'Courier New',monospace\">Num timesteps: 241000\n",
       "</pre>\n"
      ],
      "text/plain": [
       "Num timesteps: 241000\n"
      ]
     },
     "metadata": {},
     "output_type": "display_data"
    },
    {
     "data": {
      "text/html": [
       "<pre style=\"white-space:pre;overflow-x:auto;line-height:normal;font-family:Menlo,'DejaVu Sans Mono',consolas,'Courier New',monospace\">Best mean reward: 46.38 - Last mean reward per episode: 38.07\n",
       "</pre>\n"
      ],
      "text/plain": [
       "Best mean reward: 46.38 - Last mean reward per episode: 38.07\n"
      ]
     },
     "metadata": {},
     "output_type": "display_data"
    },
    {
     "data": {
      "text/html": [
       "<pre style=\"white-space:pre;overflow-x:auto;line-height:normal;font-family:Menlo,'DejaVu Sans Mono',consolas,'Courier New',monospace\">Num timesteps: 242000\n",
       "</pre>\n"
      ],
      "text/plain": [
       "Num timesteps: 242000\n"
      ]
     },
     "metadata": {},
     "output_type": "display_data"
    },
    {
     "data": {
      "text/html": [
       "<pre style=\"white-space:pre;overflow-x:auto;line-height:normal;font-family:Menlo,'DejaVu Sans Mono',consolas,'Courier New',monospace\">Best mean reward: 46.38 - Last mean reward per episode: 38.33\n",
       "</pre>\n"
      ],
      "text/plain": [
       "Best mean reward: 46.38 - Last mean reward per episode: 38.33\n"
      ]
     },
     "metadata": {},
     "output_type": "display_data"
    },
    {
     "data": {
      "text/html": [
       "<pre style=\"white-space:pre;overflow-x:auto;line-height:normal;font-family:Menlo,'DejaVu Sans Mono',consolas,'Courier New',monospace\">Num timesteps: 243000\n",
       "</pre>\n"
      ],
      "text/plain": [
       "Num timesteps: 243000\n"
      ]
     },
     "metadata": {},
     "output_type": "display_data"
    },
    {
     "data": {
      "text/html": [
       "<pre style=\"white-space:pre;overflow-x:auto;line-height:normal;font-family:Menlo,'DejaVu Sans Mono',consolas,'Courier New',monospace\">Best mean reward: 46.38 - Last mean reward per episode: 38.36\n",
       "</pre>\n"
      ],
      "text/plain": [
       "Best mean reward: 46.38 - Last mean reward per episode: 38.36\n"
      ]
     },
     "metadata": {},
     "output_type": "display_data"
    },
    {
     "data": {
      "text/html": [
       "<pre style=\"white-space:pre;overflow-x:auto;line-height:normal;font-family:Menlo,'DejaVu Sans Mono',consolas,'Courier New',monospace\">Num timesteps: 244000\n",
       "</pre>\n"
      ],
      "text/plain": [
       "Num timesteps: 244000\n"
      ]
     },
     "metadata": {},
     "output_type": "display_data"
    },
    {
     "data": {
      "text/html": [
       "<pre style=\"white-space:pre;overflow-x:auto;line-height:normal;font-family:Menlo,'DejaVu Sans Mono',consolas,'Courier New',monospace\">Best mean reward: 46.38 - Last mean reward per episode: 38.29\n",
       "</pre>\n"
      ],
      "text/plain": [
       "Best mean reward: 46.38 - Last mean reward per episode: 38.29\n"
      ]
     },
     "metadata": {},
     "output_type": "display_data"
    },
    {
     "data": {
      "text/html": [
       "<pre style=\"white-space:pre;overflow-x:auto;line-height:normal;font-family:Menlo,'DejaVu Sans Mono',consolas,'Courier New',monospace\">Num timesteps: 245000\n",
       "</pre>\n"
      ],
      "text/plain": [
       "Num timesteps: 245000\n"
      ]
     },
     "metadata": {},
     "output_type": "display_data"
    },
    {
     "data": {
      "text/html": [
       "<pre style=\"white-space:pre;overflow-x:auto;line-height:normal;font-family:Menlo,'DejaVu Sans Mono',consolas,'Courier New',monospace\">Best mean reward: 46.38 - Last mean reward per episode: 38.22\n",
       "</pre>\n"
      ],
      "text/plain": [
       "Best mean reward: 46.38 - Last mean reward per episode: 38.22\n"
      ]
     },
     "metadata": {},
     "output_type": "display_data"
    },
    {
     "name": "stdout",
     "output_type": "stream",
     "text": [
      "---------------------------------------\n",
      "| rollout/                |           |\n",
      "|    ep_len_mean          | 500       |\n",
      "|    ep_rew_mean          | 37.8      |\n",
      "| time/                   |           |\n",
      "|    fps                  | 89        |\n",
      "|    iterations           | 120       |\n",
      "|    time_elapsed         | 2747      |\n",
      "|    total_timesteps      | 245760    |\n",
      "| train/                  |           |\n",
      "|    approx_kl            | 0.7008157 |\n",
      "|    clip_fraction        | 0.695     |\n",
      "|    clip_range           | 0.2       |\n",
      "|    entropy_loss         | -7.62     |\n",
      "|    explained_variance   | 0.929     |\n",
      "|    learning_rate        | 0.0003    |\n",
      "|    loss                 | -0.0917   |\n",
      "|    n_updates            | 1190      |\n",
      "|    policy_gradient_loss | -0.0662   |\n",
      "|    std                  | 0.719     |\n",
      "|    value_loss           | 0.148     |\n",
      "---------------------------------------\n"
     ]
    },
    {
     "data": {
      "text/html": [
       "<pre style=\"white-space:pre;overflow-x:auto;line-height:normal;font-family:Menlo,'DejaVu Sans Mono',consolas,'Courier New',monospace\">Num timesteps: 246000\n",
       "</pre>\n"
      ],
      "text/plain": [
       "Num timesteps: 246000\n"
      ]
     },
     "metadata": {},
     "output_type": "display_data"
    },
    {
     "data": {
      "text/html": [
       "<pre style=\"white-space:pre;overflow-x:auto;line-height:normal;font-family:Menlo,'DejaVu Sans Mono',consolas,'Courier New',monospace\">Best mean reward: 46.38 - Last mean reward per episode: 37.02\n",
       "</pre>\n"
      ],
      "text/plain": [
       "Best mean reward: 46.38 - Last mean reward per episode: 37.02\n"
      ]
     },
     "metadata": {},
     "output_type": "display_data"
    },
    {
     "data": {
      "text/html": [
       "<pre style=\"white-space:pre;overflow-x:auto;line-height:normal;font-family:Menlo,'DejaVu Sans Mono',consolas,'Courier New',monospace\">Num timesteps: 247000\n",
       "</pre>\n"
      ],
      "text/plain": [
       "Num timesteps: 247000\n"
      ]
     },
     "metadata": {},
     "output_type": "display_data"
    },
    {
     "data": {
      "text/html": [
       "<pre style=\"white-space:pre;overflow-x:auto;line-height:normal;font-family:Menlo,'DejaVu Sans Mono',consolas,'Courier New',monospace\">Best mean reward: 46.38 - Last mean reward per episode: 36.49\n",
       "</pre>\n"
      ],
      "text/plain": [
       "Best mean reward: 46.38 - Last mean reward per episode: 36.49\n"
      ]
     },
     "metadata": {},
     "output_type": "display_data"
    },
    {
     "data": {
      "text/html": [
       "<pre style=\"white-space:pre;overflow-x:auto;line-height:normal;font-family:Menlo,'DejaVu Sans Mono',consolas,'Courier New',monospace\">Num timesteps: 248000\n",
       "</pre>\n"
      ],
      "text/plain": [
       "Num timesteps: 248000\n"
      ]
     },
     "metadata": {},
     "output_type": "display_data"
    },
    {
     "data": {
      "text/html": [
       "<pre style=\"white-space:pre;overflow-x:auto;line-height:normal;font-family:Menlo,'DejaVu Sans Mono',consolas,'Courier New',monospace\">Best mean reward: 46.38 - Last mean reward per episode: 35.87\n",
       "</pre>\n"
      ],
      "text/plain": [
       "Best mean reward: 46.38 - Last mean reward per episode: 35.87\n"
      ]
     },
     "metadata": {},
     "output_type": "display_data"
    },
    {
     "data": {
      "text/html": [
       "<pre style=\"white-space:pre;overflow-x:auto;line-height:normal;font-family:Menlo,'DejaVu Sans Mono',consolas,'Courier New',monospace\">Num timesteps: 249000\n",
       "</pre>\n"
      ],
      "text/plain": [
       "Num timesteps: 249000\n"
      ]
     },
     "metadata": {},
     "output_type": "display_data"
    },
    {
     "data": {
      "text/html": [
       "<pre style=\"white-space:pre;overflow-x:auto;line-height:normal;font-family:Menlo,'DejaVu Sans Mono',consolas,'Courier New',monospace\">Best mean reward: 46.38 - Last mean reward per episode: 34.77\n",
       "</pre>\n"
      ],
      "text/plain": [
       "Best mean reward: 46.38 - Last mean reward per episode: 34.77\n"
      ]
     },
     "metadata": {},
     "output_type": "display_data"
    },
    {
     "data": {
      "text/html": [
       "<pre style=\"white-space:pre;overflow-x:auto;line-height:normal;font-family:Menlo,'DejaVu Sans Mono',consolas,'Courier New',monospace\">Num timesteps: 250000\n",
       "</pre>\n"
      ],
      "text/plain": [
       "Num timesteps: 250000\n"
      ]
     },
     "metadata": {},
     "output_type": "display_data"
    },
    {
     "data": {
      "text/html": [
       "<pre style=\"white-space:pre;overflow-x:auto;line-height:normal;font-family:Menlo,'DejaVu Sans Mono',consolas,'Courier New',monospace\">Best mean reward: 46.38 - Last mean reward per episode: 34.16\n",
       "</pre>\n"
      ],
      "text/plain": [
       "Best mean reward: 46.38 - Last mean reward per episode: 34.16\n"
      ]
     },
     "metadata": {},
     "output_type": "display_data"
    },
    {
     "data": {
      "text/html": [
       "<pre style=\"white-space:pre;overflow-x:auto;line-height:normal;font-family:Menlo,'DejaVu Sans Mono',consolas,'Courier New',monospace\">Num timesteps: 251000\n",
       "</pre>\n"
      ],
      "text/plain": [
       "Num timesteps: 251000\n"
      ]
     },
     "metadata": {},
     "output_type": "display_data"
    },
    {
     "data": {
      "text/html": [
       "<pre style=\"white-space:pre;overflow-x:auto;line-height:normal;font-family:Menlo,'DejaVu Sans Mono',consolas,'Courier New',monospace\">Best mean reward: 46.38 - Last mean reward per episode: 34.20\n",
       "</pre>\n"
      ],
      "text/plain": [
       "Best mean reward: 46.38 - Last mean reward per episode: 34.20\n"
      ]
     },
     "metadata": {},
     "output_type": "display_data"
    },
    {
     "data": {
      "text/html": [
       "<pre style=\"white-space:pre;overflow-x:auto;line-height:normal;font-family:Menlo,'DejaVu Sans Mono',consolas,'Courier New',monospace\">Num timesteps: 252000\n",
       "</pre>\n"
      ],
      "text/plain": [
       "Num timesteps: 252000\n"
      ]
     },
     "metadata": {},
     "output_type": "display_data"
    },
    {
     "data": {
      "text/html": [
       "<pre style=\"white-space:pre;overflow-x:auto;line-height:normal;font-family:Menlo,'DejaVu Sans Mono',consolas,'Courier New',monospace\">Best mean reward: 46.38 - Last mean reward per episode: 33.07\n",
       "</pre>\n"
      ],
      "text/plain": [
       "Best mean reward: 46.38 - Last mean reward per episode: 33.07\n"
      ]
     },
     "metadata": {},
     "output_type": "display_data"
    },
    {
     "data": {
      "text/html": [
       "<pre style=\"white-space:pre;overflow-x:auto;line-height:normal;font-family:Menlo,'DejaVu Sans Mono',consolas,'Courier New',monospace\">Num timesteps: 253000\n",
       "</pre>\n"
      ],
      "text/plain": [
       "Num timesteps: 253000\n"
      ]
     },
     "metadata": {},
     "output_type": "display_data"
    },
    {
     "data": {
      "text/html": [
       "<pre style=\"white-space:pre;overflow-x:auto;line-height:normal;font-family:Menlo,'DejaVu Sans Mono',consolas,'Courier New',monospace\">Best mean reward: 46.38 - Last mean reward per episode: 32.67\n",
       "</pre>\n"
      ],
      "text/plain": [
       "Best mean reward: 46.38 - Last mean reward per episode: 32.67\n"
      ]
     },
     "metadata": {},
     "output_type": "display_data"
    },
    {
     "data": {
      "text/html": [
       "<pre style=\"white-space:pre;overflow-x:auto;line-height:normal;font-family:Menlo,'DejaVu Sans Mono',consolas,'Courier New',monospace\">Num timesteps: 254000\n",
       "</pre>\n"
      ],
      "text/plain": [
       "Num timesteps: 254000\n"
      ]
     },
     "metadata": {},
     "output_type": "display_data"
    },
    {
     "data": {
      "text/html": [
       "<pre style=\"white-space:pre;overflow-x:auto;line-height:normal;font-family:Menlo,'DejaVu Sans Mono',consolas,'Courier New',monospace\">Best mean reward: 46.38 - Last mean reward per episode: 31.97\n",
       "</pre>\n"
      ],
      "text/plain": [
       "Best mean reward: 46.38 - Last mean reward per episode: 31.97\n"
      ]
     },
     "metadata": {},
     "output_type": "display_data"
    },
    {
     "data": {
      "text/html": [
       "<pre style=\"white-space:pre;overflow-x:auto;line-height:normal;font-family:Menlo,'DejaVu Sans Mono',consolas,'Courier New',monospace\">Num timesteps: 255000\n",
       "</pre>\n"
      ],
      "text/plain": [
       "Num timesteps: 255000\n"
      ]
     },
     "metadata": {},
     "output_type": "display_data"
    },
    {
     "data": {
      "text/html": [
       "<pre style=\"white-space:pre;overflow-x:auto;line-height:normal;font-family:Menlo,'DejaVu Sans Mono',consolas,'Courier New',monospace\">Best mean reward: 46.38 - Last mean reward per episode: 32.09\n",
       "</pre>\n"
      ],
      "text/plain": [
       "Best mean reward: 46.38 - Last mean reward per episode: 32.09\n"
      ]
     },
     "metadata": {},
     "output_type": "display_data"
    },
    {
     "data": {
      "text/html": [
       "<pre style=\"white-space:pre;overflow-x:auto;line-height:normal;font-family:Menlo,'DejaVu Sans Mono',consolas,'Courier New',monospace\">Num timesteps: 256000\n",
       "</pre>\n"
      ],
      "text/plain": [
       "Num timesteps: 256000\n"
      ]
     },
     "metadata": {},
     "output_type": "display_data"
    },
    {
     "data": {
      "text/html": [
       "<pre style=\"white-space:pre;overflow-x:auto;line-height:normal;font-family:Menlo,'DejaVu Sans Mono',consolas,'Courier New',monospace\">Best mean reward: 46.38 - Last mean reward per episode: 32.69\n",
       "</pre>\n"
      ],
      "text/plain": [
       "Best mean reward: 46.38 - Last mean reward per episode: 32.69\n"
      ]
     },
     "metadata": {},
     "output_type": "display_data"
    },
    {
     "data": {
      "text/html": [
       "<pre style=\"white-space:pre;overflow-x:auto;line-height:normal;font-family:Menlo,'DejaVu Sans Mono',consolas,'Courier New',monospace\">Num timesteps: 257000\n",
       "</pre>\n"
      ],
      "text/plain": [
       "Num timesteps: 257000\n"
      ]
     },
     "metadata": {},
     "output_type": "display_data"
    },
    {
     "data": {
      "text/html": [
       "<pre style=\"white-space:pre;overflow-x:auto;line-height:normal;font-family:Menlo,'DejaVu Sans Mono',consolas,'Courier New',monospace\">Best mean reward: 46.38 - Last mean reward per episode: 31.91\n",
       "</pre>\n"
      ],
      "text/plain": [
       "Best mean reward: 46.38 - Last mean reward per episode: 31.91\n"
      ]
     },
     "metadata": {},
     "output_type": "display_data"
    },
    {
     "data": {
      "text/html": [
       "<pre style=\"white-space:pre;overflow-x:auto;line-height:normal;font-family:Menlo,'DejaVu Sans Mono',consolas,'Courier New',monospace\">Num timesteps: 258000\n",
       "</pre>\n"
      ],
      "text/plain": [
       "Num timesteps: 258000\n"
      ]
     },
     "metadata": {},
     "output_type": "display_data"
    },
    {
     "data": {
      "text/html": [
       "<pre style=\"white-space:pre;overflow-x:auto;line-height:normal;font-family:Menlo,'DejaVu Sans Mono',consolas,'Courier New',monospace\">Best mean reward: 46.38 - Last mean reward per episode: 31.78\n",
       "</pre>\n"
      ],
      "text/plain": [
       "Best mean reward: 46.38 - Last mean reward per episode: 31.78\n"
      ]
     },
     "metadata": {},
     "output_type": "display_data"
    },
    {
     "data": {
      "text/html": [
       "<pre style=\"white-space:pre;overflow-x:auto;line-height:normal;font-family:Menlo,'DejaVu Sans Mono',consolas,'Courier New',monospace\">Num timesteps: 259000\n",
       "</pre>\n"
      ],
      "text/plain": [
       "Num timesteps: 259000\n"
      ]
     },
     "metadata": {},
     "output_type": "display_data"
    },
    {
     "data": {
      "text/html": [
       "<pre style=\"white-space:pre;overflow-x:auto;line-height:normal;font-family:Menlo,'DejaVu Sans Mono',consolas,'Courier New',monospace\">Best mean reward: 46.38 - Last mean reward per episode: 31.43\n",
       "</pre>\n"
      ],
      "text/plain": [
       "Best mean reward: 46.38 - Last mean reward per episode: 31.43\n"
      ]
     },
     "metadata": {},
     "output_type": "display_data"
    },
    {
     "data": {
      "text/html": [
       "<pre style=\"white-space:pre;overflow-x:auto;line-height:normal;font-family:Menlo,'DejaVu Sans Mono',consolas,'Courier New',monospace\">Num timesteps: 260000\n",
       "</pre>\n"
      ],
      "text/plain": [
       "Num timesteps: 260000\n"
      ]
     },
     "metadata": {},
     "output_type": "display_data"
    },
    {
     "data": {
      "text/html": [
       "<pre style=\"white-space:pre;overflow-x:auto;line-height:normal;font-family:Menlo,'DejaVu Sans Mono',consolas,'Courier New',monospace\">Best mean reward: 46.38 - Last mean reward per episode: 30.98\n",
       "</pre>\n"
      ],
      "text/plain": [
       "Best mean reward: 46.38 - Last mean reward per episode: 30.98\n"
      ]
     },
     "metadata": {},
     "output_type": "display_data"
    },
    {
     "data": {
      "text/html": [
       "<pre style=\"white-space:pre;overflow-x:auto;line-height:normal;font-family:Menlo,'DejaVu Sans Mono',consolas,'Courier New',monospace\">Num timesteps: 261000\n",
       "</pre>\n"
      ],
      "text/plain": [
       "Num timesteps: 261000\n"
      ]
     },
     "metadata": {},
     "output_type": "display_data"
    },
    {
     "data": {
      "text/html": [
       "<pre style=\"white-space:pre;overflow-x:auto;line-height:normal;font-family:Menlo,'DejaVu Sans Mono',consolas,'Courier New',monospace\">Best mean reward: 46.38 - Last mean reward per episode: 30.96\n",
       "</pre>\n"
      ],
      "text/plain": [
       "Best mean reward: 46.38 - Last mean reward per episode: 30.96\n"
      ]
     },
     "metadata": {},
     "output_type": "display_data"
    },
    {
     "data": {
      "text/html": [
       "<pre style=\"white-space:pre;overflow-x:auto;line-height:normal;font-family:Menlo,'DejaVu Sans Mono',consolas,'Courier New',monospace\">Num timesteps: 262000\n",
       "</pre>\n"
      ],
      "text/plain": [
       "Num timesteps: 262000\n"
      ]
     },
     "metadata": {},
     "output_type": "display_data"
    },
    {
     "data": {
      "text/html": [
       "<pre style=\"white-space:pre;overflow-x:auto;line-height:normal;font-family:Menlo,'DejaVu Sans Mono',consolas,'Courier New',monospace\">Best mean reward: 46.38 - Last mean reward per episode: 31.55\n",
       "</pre>\n"
      ],
      "text/plain": [
       "Best mean reward: 46.38 - Last mean reward per episode: 31.55\n"
      ]
     },
     "metadata": {},
     "output_type": "display_data"
    },
    {
     "data": {
      "text/html": [
       "<pre style=\"white-space:pre;overflow-x:auto;line-height:normal;font-family:Menlo,'DejaVu Sans Mono',consolas,'Courier New',monospace\">Num timesteps: 263000\n",
       "</pre>\n"
      ],
      "text/plain": [
       "Num timesteps: 263000\n"
      ]
     },
     "metadata": {},
     "output_type": "display_data"
    },
    {
     "data": {
      "text/html": [
       "<pre style=\"white-space:pre;overflow-x:auto;line-height:normal;font-family:Menlo,'DejaVu Sans Mono',consolas,'Courier New',monospace\">Best mean reward: 46.38 - Last mean reward per episode: 30.70\n",
       "</pre>\n"
      ],
      "text/plain": [
       "Best mean reward: 46.38 - Last mean reward per episode: 30.70\n"
      ]
     },
     "metadata": {},
     "output_type": "display_data"
    },
    {
     "data": {
      "text/html": [
       "<pre style=\"white-space:pre;overflow-x:auto;line-height:normal;font-family:Menlo,'DejaVu Sans Mono',consolas,'Courier New',monospace\">Num timesteps: 264000\n",
       "</pre>\n"
      ],
      "text/plain": [
       "Num timesteps: 264000\n"
      ]
     },
     "metadata": {},
     "output_type": "display_data"
    },
    {
     "data": {
      "text/html": [
       "<pre style=\"white-space:pre;overflow-x:auto;line-height:normal;font-family:Menlo,'DejaVu Sans Mono',consolas,'Courier New',monospace\">Best mean reward: 46.38 - Last mean reward per episode: 30.66\n",
       "</pre>\n"
      ],
      "text/plain": [
       "Best mean reward: 46.38 - Last mean reward per episode: 30.66\n"
      ]
     },
     "metadata": {},
     "output_type": "display_data"
    },
    {
     "data": {
      "text/html": [
       "<pre style=\"white-space:pre;overflow-x:auto;line-height:normal;font-family:Menlo,'DejaVu Sans Mono',consolas,'Courier New',monospace\">Num timesteps: 265000\n",
       "</pre>\n"
      ],
      "text/plain": [
       "Num timesteps: 265000\n"
      ]
     },
     "metadata": {},
     "output_type": "display_data"
    },
    {
     "data": {
      "text/html": [
       "<pre style=\"white-space:pre;overflow-x:auto;line-height:normal;font-family:Menlo,'DejaVu Sans Mono',consolas,'Courier New',monospace\">Best mean reward: 46.38 - Last mean reward per episode: 30.46\n",
       "</pre>\n"
      ],
      "text/plain": [
       "Best mean reward: 46.38 - Last mean reward per episode: 30.46\n"
      ]
     },
     "metadata": {},
     "output_type": "display_data"
    },
    {
     "data": {
      "text/html": [
       "<pre style=\"white-space:pre;overflow-x:auto;line-height:normal;font-family:Menlo,'DejaVu Sans Mono',consolas,'Courier New',monospace\">Num timesteps: 266000\n",
       "</pre>\n"
      ],
      "text/plain": [
       "Num timesteps: 266000\n"
      ]
     },
     "metadata": {},
     "output_type": "display_data"
    },
    {
     "data": {
      "text/html": [
       "<pre style=\"white-space:pre;overflow-x:auto;line-height:normal;font-family:Menlo,'DejaVu Sans Mono',consolas,'Courier New',monospace\">Best mean reward: 46.38 - Last mean reward per episode: 29.48\n",
       "</pre>\n"
      ],
      "text/plain": [
       "Best mean reward: 46.38 - Last mean reward per episode: 29.48\n"
      ]
     },
     "metadata": {},
     "output_type": "display_data"
    },
    {
     "name": "stdout",
     "output_type": "stream",
     "text": [
      "---------------------------------------\n",
      "| rollout/                |           |\n",
      "|    ep_len_mean          | 500       |\n",
      "|    ep_rew_mean          | 29.5      |\n",
      "| time/                   |           |\n",
      "|    fps                  | 89        |\n",
      "|    iterations           | 130       |\n",
      "|    time_elapsed         | 2970      |\n",
      "|    total_timesteps      | 266240    |\n",
      "| train/                  |           |\n",
      "|    approx_kl            | 0.9167501 |\n",
      "|    clip_fraction        | 0.714     |\n",
      "|    clip_range           | 0.2       |\n",
      "|    entropy_loss         | -7.47     |\n",
      "|    explained_variance   | 0.849     |\n",
      "|    learning_rate        | 0.0003    |\n",
      "|    loss                 | -0.0798   |\n",
      "|    n_updates            | 1290      |\n",
      "|    policy_gradient_loss | -0.0865   |\n",
      "|    std                  | 0.704     |\n",
      "|    value_loss           | 0.283     |\n",
      "---------------------------------------\n"
     ]
    },
    {
     "data": {
      "text/html": [
       "<pre style=\"white-space:pre;overflow-x:auto;line-height:normal;font-family:Menlo,'DejaVu Sans Mono',consolas,'Courier New',monospace\">Num timesteps: 267000\n",
       "</pre>\n"
      ],
      "text/plain": [
       "Num timesteps: 267000\n"
      ]
     },
     "metadata": {},
     "output_type": "display_data"
    },
    {
     "data": {
      "text/html": [
       "<pre style=\"white-space:pre;overflow-x:auto;line-height:normal;font-family:Menlo,'DejaVu Sans Mono',consolas,'Courier New',monospace\">Best mean reward: 46.38 - Last mean reward per episode: 29.72\n",
       "</pre>\n"
      ],
      "text/plain": [
       "Best mean reward: 46.38 - Last mean reward per episode: 29.72\n"
      ]
     },
     "metadata": {},
     "output_type": "display_data"
    },
    {
     "data": {
      "text/html": [
       "<pre style=\"white-space:pre;overflow-x:auto;line-height:normal;font-family:Menlo,'DejaVu Sans Mono',consolas,'Courier New',monospace\">Num timesteps: 268000\n",
       "</pre>\n"
      ],
      "text/plain": [
       "Num timesteps: 268000\n"
      ]
     },
     "metadata": {},
     "output_type": "display_data"
    },
    {
     "data": {
      "text/html": [
       "<pre style=\"white-space:pre;overflow-x:auto;line-height:normal;font-family:Menlo,'DejaVu Sans Mono',consolas,'Courier New',monospace\">Best mean reward: 46.38 - Last mean reward per episode: 29.17\n",
       "</pre>\n"
      ],
      "text/plain": [
       "Best mean reward: 46.38 - Last mean reward per episode: 29.17\n"
      ]
     },
     "metadata": {},
     "output_type": "display_data"
    },
    {
     "data": {
      "text/html": [
       "<pre style=\"white-space:pre;overflow-x:auto;line-height:normal;font-family:Menlo,'DejaVu Sans Mono',consolas,'Courier New',monospace\">Num timesteps: 269000\n",
       "</pre>\n"
      ],
      "text/plain": [
       "Num timesteps: 269000\n"
      ]
     },
     "metadata": {},
     "output_type": "display_data"
    },
    {
     "data": {
      "text/html": [
       "<pre style=\"white-space:pre;overflow-x:auto;line-height:normal;font-family:Menlo,'DejaVu Sans Mono',consolas,'Courier New',monospace\">Best mean reward: 46.38 - Last mean reward per episode: 28.83\n",
       "</pre>\n"
      ],
      "text/plain": [
       "Best mean reward: 46.38 - Last mean reward per episode: 28.83\n"
      ]
     },
     "metadata": {},
     "output_type": "display_data"
    },
    {
     "data": {
      "text/html": [
       "<pre style=\"white-space:pre;overflow-x:auto;line-height:normal;font-family:Menlo,'DejaVu Sans Mono',consolas,'Courier New',monospace\">Num timesteps: 270000\n",
       "</pre>\n"
      ],
      "text/plain": [
       "Num timesteps: 270000\n"
      ]
     },
     "metadata": {},
     "output_type": "display_data"
    },
    {
     "data": {
      "text/html": [
       "<pre style=\"white-space:pre;overflow-x:auto;line-height:normal;font-family:Menlo,'DejaVu Sans Mono',consolas,'Courier New',monospace\">Best mean reward: 46.38 - Last mean reward per episode: 27.96\n",
       "</pre>\n"
      ],
      "text/plain": [
       "Best mean reward: 46.38 - Last mean reward per episode: 27.96\n"
      ]
     },
     "metadata": {},
     "output_type": "display_data"
    },
    {
     "data": {
      "text/html": [
       "<pre style=\"white-space:pre;overflow-x:auto;line-height:normal;font-family:Menlo,'DejaVu Sans Mono',consolas,'Courier New',monospace\">Num timesteps: 271000\n",
       "</pre>\n"
      ],
      "text/plain": [
       "Num timesteps: 271000\n"
      ]
     },
     "metadata": {},
     "output_type": "display_data"
    },
    {
     "data": {
      "text/html": [
       "<pre style=\"white-space:pre;overflow-x:auto;line-height:normal;font-family:Menlo,'DejaVu Sans Mono',consolas,'Courier New',monospace\">Best mean reward: 46.38 - Last mean reward per episode: 28.00\n",
       "</pre>\n"
      ],
      "text/plain": [
       "Best mean reward: 46.38 - Last mean reward per episode: 28.00\n"
      ]
     },
     "metadata": {},
     "output_type": "display_data"
    },
    {
     "data": {
      "text/html": [
       "<pre style=\"white-space:pre;overflow-x:auto;line-height:normal;font-family:Menlo,'DejaVu Sans Mono',consolas,'Courier New',monospace\">Num timesteps: 272000\n",
       "</pre>\n"
      ],
      "text/plain": [
       "Num timesteps: 272000\n"
      ]
     },
     "metadata": {},
     "output_type": "display_data"
    },
    {
     "data": {
      "text/html": [
       "<pre style=\"white-space:pre;overflow-x:auto;line-height:normal;font-family:Menlo,'DejaVu Sans Mono',consolas,'Courier New',monospace\">Best mean reward: 46.38 - Last mean reward per episode: 28.28\n",
       "</pre>\n"
      ],
      "text/plain": [
       "Best mean reward: 46.38 - Last mean reward per episode: 28.28\n"
      ]
     },
     "metadata": {},
     "output_type": "display_data"
    },
    {
     "data": {
      "text/html": [
       "<pre style=\"white-space:pre;overflow-x:auto;line-height:normal;font-family:Menlo,'DejaVu Sans Mono',consolas,'Courier New',monospace\">Num timesteps: 273000\n",
       "</pre>\n"
      ],
      "text/plain": [
       "Num timesteps: 273000\n"
      ]
     },
     "metadata": {},
     "output_type": "display_data"
    },
    {
     "data": {
      "text/html": [
       "<pre style=\"white-space:pre;overflow-x:auto;line-height:normal;font-family:Menlo,'DejaVu Sans Mono',consolas,'Courier New',monospace\">Best mean reward: 46.38 - Last mean reward per episode: 28.78\n",
       "</pre>\n"
      ],
      "text/plain": [
       "Best mean reward: 46.38 - Last mean reward per episode: 28.78\n"
      ]
     },
     "metadata": {},
     "output_type": "display_data"
    },
    {
     "data": {
      "text/html": [
       "<pre style=\"white-space:pre;overflow-x:auto;line-height:normal;font-family:Menlo,'DejaVu Sans Mono',consolas,'Courier New',monospace\">Num timesteps: 274000\n",
       "</pre>\n"
      ],
      "text/plain": [
       "Num timesteps: 274000\n"
      ]
     },
     "metadata": {},
     "output_type": "display_data"
    },
    {
     "data": {
      "text/html": [
       "<pre style=\"white-space:pre;overflow-x:auto;line-height:normal;font-family:Menlo,'DejaVu Sans Mono',consolas,'Courier New',monospace\">Best mean reward: 46.38 - Last mean reward per episode: 29.60\n",
       "</pre>\n"
      ],
      "text/plain": [
       "Best mean reward: 46.38 - Last mean reward per episode: 29.60\n"
      ]
     },
     "metadata": {},
     "output_type": "display_data"
    },
    {
     "data": {
      "text/html": [
       "<pre style=\"white-space:pre;overflow-x:auto;line-height:normal;font-family:Menlo,'DejaVu Sans Mono',consolas,'Courier New',monospace\">Num timesteps: 275000\n",
       "</pre>\n"
      ],
      "text/plain": [
       "Num timesteps: 275000\n"
      ]
     },
     "metadata": {},
     "output_type": "display_data"
    },
    {
     "data": {
      "text/html": [
       "<pre style=\"white-space:pre;overflow-x:auto;line-height:normal;font-family:Menlo,'DejaVu Sans Mono',consolas,'Courier New',monospace\">Best mean reward: 46.38 - Last mean reward per episode: 30.30\n",
       "</pre>\n"
      ],
      "text/plain": [
       "Best mean reward: 46.38 - Last mean reward per episode: 30.30\n"
      ]
     },
     "metadata": {},
     "output_type": "display_data"
    },
    {
     "data": {
      "text/html": [
       "<pre style=\"white-space:pre;overflow-x:auto;line-height:normal;font-family:Menlo,'DejaVu Sans Mono',consolas,'Courier New',monospace\">Num timesteps: 276000\n",
       "</pre>\n"
      ],
      "text/plain": [
       "Num timesteps: 276000\n"
      ]
     },
     "metadata": {},
     "output_type": "display_data"
    },
    {
     "data": {
      "text/html": [
       "<pre style=\"white-space:pre;overflow-x:auto;line-height:normal;font-family:Menlo,'DejaVu Sans Mono',consolas,'Courier New',monospace\">Best mean reward: 46.38 - Last mean reward per episode: 30.99\n",
       "</pre>\n"
      ],
      "text/plain": [
       "Best mean reward: 46.38 - Last mean reward per episode: 30.99\n"
      ]
     },
     "metadata": {},
     "output_type": "display_data"
    },
    {
     "data": {
      "text/html": [
       "<pre style=\"white-space:pre;overflow-x:auto;line-height:normal;font-family:Menlo,'DejaVu Sans Mono',consolas,'Courier New',monospace\">Num timesteps: 277000\n",
       "</pre>\n"
      ],
      "text/plain": [
       "Num timesteps: 277000\n"
      ]
     },
     "metadata": {},
     "output_type": "display_data"
    },
    {
     "data": {
      "text/html": [
       "<pre style=\"white-space:pre;overflow-x:auto;line-height:normal;font-family:Menlo,'DejaVu Sans Mono',consolas,'Courier New',monospace\">Best mean reward: 46.38 - Last mean reward per episode: 31.38\n",
       "</pre>\n"
      ],
      "text/plain": [
       "Best mean reward: 46.38 - Last mean reward per episode: 31.38\n"
      ]
     },
     "metadata": {},
     "output_type": "display_data"
    },
    {
     "data": {
      "text/html": [
       "<pre style=\"white-space:pre;overflow-x:auto;line-height:normal;font-family:Menlo,'DejaVu Sans Mono',consolas,'Courier New',monospace\">Num timesteps: 278000\n",
       "</pre>\n"
      ],
      "text/plain": [
       "Num timesteps: 278000\n"
      ]
     },
     "metadata": {},
     "output_type": "display_data"
    },
    {
     "data": {
      "text/html": [
       "<pre style=\"white-space:pre;overflow-x:auto;line-height:normal;font-family:Menlo,'DejaVu Sans Mono',consolas,'Courier New',monospace\">Best mean reward: 46.38 - Last mean reward per episode: 32.32\n",
       "</pre>\n"
      ],
      "text/plain": [
       "Best mean reward: 46.38 - Last mean reward per episode: 32.32\n"
      ]
     },
     "metadata": {},
     "output_type": "display_data"
    },
    {
     "data": {
      "text/html": [
       "<pre style=\"white-space:pre;overflow-x:auto;line-height:normal;font-family:Menlo,'DejaVu Sans Mono',consolas,'Courier New',monospace\">Num timesteps: 279000\n",
       "</pre>\n"
      ],
      "text/plain": [
       "Num timesteps: 279000\n"
      ]
     },
     "metadata": {},
     "output_type": "display_data"
    },
    {
     "data": {
      "text/html": [
       "<pre style=\"white-space:pre;overflow-x:auto;line-height:normal;font-family:Menlo,'DejaVu Sans Mono',consolas,'Courier New',monospace\">Best mean reward: 46.38 - Last mean reward per episode: 32.98\n",
       "</pre>\n"
      ],
      "text/plain": [
       "Best mean reward: 46.38 - Last mean reward per episode: 32.98\n"
      ]
     },
     "metadata": {},
     "output_type": "display_data"
    },
    {
     "data": {
      "text/html": [
       "<pre style=\"white-space:pre;overflow-x:auto;line-height:normal;font-family:Menlo,'DejaVu Sans Mono',consolas,'Courier New',monospace\">Num timesteps: 280000\n",
       "</pre>\n"
      ],
      "text/plain": [
       "Num timesteps: 280000\n"
      ]
     },
     "metadata": {},
     "output_type": "display_data"
    },
    {
     "data": {
      "text/html": [
       "<pre style=\"white-space:pre;overflow-x:auto;line-height:normal;font-family:Menlo,'DejaVu Sans Mono',consolas,'Courier New',monospace\">Best mean reward: 46.38 - Last mean reward per episode: 33.14\n",
       "</pre>\n"
      ],
      "text/plain": [
       "Best mean reward: 46.38 - Last mean reward per episode: 33.14\n"
      ]
     },
     "metadata": {},
     "output_type": "display_data"
    },
    {
     "data": {
      "text/html": [
       "<pre style=\"white-space:pre;overflow-x:auto;line-height:normal;font-family:Menlo,'DejaVu Sans Mono',consolas,'Courier New',monospace\">Num timesteps: 281000\n",
       "</pre>\n"
      ],
      "text/plain": [
       "Num timesteps: 281000\n"
      ]
     },
     "metadata": {},
     "output_type": "display_data"
    },
    {
     "data": {
      "text/html": [
       "<pre style=\"white-space:pre;overflow-x:auto;line-height:normal;font-family:Menlo,'DejaVu Sans Mono',consolas,'Courier New',monospace\">Best mean reward: 46.38 - Last mean reward per episode: 33.70\n",
       "</pre>\n"
      ],
      "text/plain": [
       "Best mean reward: 46.38 - Last mean reward per episode: 33.70\n"
      ]
     },
     "metadata": {},
     "output_type": "display_data"
    },
    {
     "data": {
      "text/html": [
       "<pre style=\"white-space:pre;overflow-x:auto;line-height:normal;font-family:Menlo,'DejaVu Sans Mono',consolas,'Courier New',monospace\">Num timesteps: 282000\n",
       "</pre>\n"
      ],
      "text/plain": [
       "Num timesteps: 282000\n"
      ]
     },
     "metadata": {},
     "output_type": "display_data"
    },
    {
     "data": {
      "text/html": [
       "<pre style=\"white-space:pre;overflow-x:auto;line-height:normal;font-family:Menlo,'DejaVu Sans Mono',consolas,'Courier New',monospace\">Best mean reward: 46.38 - Last mean reward per episode: 34.36\n",
       "</pre>\n"
      ],
      "text/plain": [
       "Best mean reward: 46.38 - Last mean reward per episode: 34.36\n"
      ]
     },
     "metadata": {},
     "output_type": "display_data"
    },
    {
     "data": {
      "text/html": [
       "<pre style=\"white-space:pre;overflow-x:auto;line-height:normal;font-family:Menlo,'DejaVu Sans Mono',consolas,'Courier New',monospace\">Num timesteps: 283000\n",
       "</pre>\n"
      ],
      "text/plain": [
       "Num timesteps: 283000\n"
      ]
     },
     "metadata": {},
     "output_type": "display_data"
    },
    {
     "data": {
      "text/html": [
       "<pre style=\"white-space:pre;overflow-x:auto;line-height:normal;font-family:Menlo,'DejaVu Sans Mono',consolas,'Courier New',monospace\">Best mean reward: 46.38 - Last mean reward per episode: 35.33\n",
       "</pre>\n"
      ],
      "text/plain": [
       "Best mean reward: 46.38 - Last mean reward per episode: 35.33\n"
      ]
     },
     "metadata": {},
     "output_type": "display_data"
    },
    {
     "data": {
      "text/html": [
       "<pre style=\"white-space:pre;overflow-x:auto;line-height:normal;font-family:Menlo,'DejaVu Sans Mono',consolas,'Courier New',monospace\">Num timesteps: 284000\n",
       "</pre>\n"
      ],
      "text/plain": [
       "Num timesteps: 284000\n"
      ]
     },
     "metadata": {},
     "output_type": "display_data"
    },
    {
     "data": {
      "text/html": [
       "<pre style=\"white-space:pre;overflow-x:auto;line-height:normal;font-family:Menlo,'DejaVu Sans Mono',consolas,'Courier New',monospace\">Best mean reward: 46.38 - Last mean reward per episode: 35.62\n",
       "</pre>\n"
      ],
      "text/plain": [
       "Best mean reward: 46.38 - Last mean reward per episode: 35.62\n"
      ]
     },
     "metadata": {},
     "output_type": "display_data"
    },
    {
     "data": {
      "text/html": [
       "<pre style=\"white-space:pre;overflow-x:auto;line-height:normal;font-family:Menlo,'DejaVu Sans Mono',consolas,'Courier New',monospace\">Num timesteps: 285000\n",
       "</pre>\n"
      ],
      "text/plain": [
       "Num timesteps: 285000\n"
      ]
     },
     "metadata": {},
     "output_type": "display_data"
    },
    {
     "data": {
      "text/html": [
       "<pre style=\"white-space:pre;overflow-x:auto;line-height:normal;font-family:Menlo,'DejaVu Sans Mono',consolas,'Courier New',monospace\">Best mean reward: 46.38 - Last mean reward per episode: 35.40\n",
       "</pre>\n"
      ],
      "text/plain": [
       "Best mean reward: 46.38 - Last mean reward per episode: 35.40\n"
      ]
     },
     "metadata": {},
     "output_type": "display_data"
    },
    {
     "data": {
      "text/html": [
       "<pre style=\"white-space:pre;overflow-x:auto;line-height:normal;font-family:Menlo,'DejaVu Sans Mono',consolas,'Courier New',monospace\">Num timesteps: 286000\n",
       "</pre>\n"
      ],
      "text/plain": [
       "Num timesteps: 286000\n"
      ]
     },
     "metadata": {},
     "output_type": "display_data"
    },
    {
     "data": {
      "text/html": [
       "<pre style=\"white-space:pre;overflow-x:auto;line-height:normal;font-family:Menlo,'DejaVu Sans Mono',consolas,'Courier New',monospace\">Best mean reward: 46.38 - Last mean reward per episode: 35.51\n",
       "</pre>\n"
      ],
      "text/plain": [
       "Best mean reward: 46.38 - Last mean reward per episode: 35.51\n"
      ]
     },
     "metadata": {},
     "output_type": "display_data"
    },
    {
     "name": "stdout",
     "output_type": "stream",
     "text": [
      "----------------------------------------\n",
      "| rollout/                |            |\n",
      "|    ep_len_mean          | 500        |\n",
      "|    ep_rew_mean          | 35.6       |\n",
      "| time/                   |            |\n",
      "|    fps                  | 89         |\n",
      "|    iterations           | 140        |\n",
      "|    time_elapsed         | 3208       |\n",
      "|    total_timesteps      | 286720     |\n",
      "| train/                  |            |\n",
      "|    approx_kl            | 0.38028213 |\n",
      "|    clip_fraction        | 0.691      |\n",
      "|    clip_range           | 0.2        |\n",
      "|    entropy_loss         | -7.15      |\n",
      "|    explained_variance   | 0.905      |\n",
      "|    learning_rate        | 0.0003     |\n",
      "|    loss                 | -0.0692    |\n",
      "|    n_updates            | 1390       |\n",
      "|    policy_gradient_loss | -0.0588    |\n",
      "|    std                  | 0.673      |\n",
      "|    value_loss           | 0.387      |\n",
      "----------------------------------------\n"
     ]
    },
    {
     "data": {
      "text/html": [
       "<pre style=\"white-space:pre;overflow-x:auto;line-height:normal;font-family:Menlo,'DejaVu Sans Mono',consolas,'Courier New',monospace\">Num timesteps: 287000\n",
       "</pre>\n"
      ],
      "text/plain": [
       "Num timesteps: 287000\n"
      ]
     },
     "metadata": {},
     "output_type": "display_data"
    },
    {
     "data": {
      "text/html": [
       "<pre style=\"white-space:pre;overflow-x:auto;line-height:normal;font-family:Menlo,'DejaVu Sans Mono',consolas,'Courier New',monospace\">Best mean reward: 46.38 - Last mean reward per episode: 36.01\n",
       "</pre>\n"
      ],
      "text/plain": [
       "Best mean reward: 46.38 - Last mean reward per episode: 36.01\n"
      ]
     },
     "metadata": {},
     "output_type": "display_data"
    },
    {
     "data": {
      "text/html": [
       "<pre style=\"white-space:pre;overflow-x:auto;line-height:normal;font-family:Menlo,'DejaVu Sans Mono',consolas,'Courier New',monospace\">Num timesteps: 288000\n",
       "</pre>\n"
      ],
      "text/plain": [
       "Num timesteps: 288000\n"
      ]
     },
     "metadata": {},
     "output_type": "display_data"
    },
    {
     "data": {
      "text/html": [
       "<pre style=\"white-space:pre;overflow-x:auto;line-height:normal;font-family:Menlo,'DejaVu Sans Mono',consolas,'Courier New',monospace\">Best mean reward: 46.38 - Last mean reward per episode: 36.47\n",
       "</pre>\n"
      ],
      "text/plain": [
       "Best mean reward: 46.38 - Last mean reward per episode: 36.47\n"
      ]
     },
     "metadata": {},
     "output_type": "display_data"
    },
    {
     "data": {
      "text/html": [
       "<pre style=\"white-space:pre;overflow-x:auto;line-height:normal;font-family:Menlo,'DejaVu Sans Mono',consolas,'Courier New',monospace\">Num timesteps: 289000\n",
       "</pre>\n"
      ],
      "text/plain": [
       "Num timesteps: 289000\n"
      ]
     },
     "metadata": {},
     "output_type": "display_data"
    },
    {
     "data": {
      "text/html": [
       "<pre style=\"white-space:pre;overflow-x:auto;line-height:normal;font-family:Menlo,'DejaVu Sans Mono',consolas,'Courier New',monospace\">Best mean reward: 46.38 - Last mean reward per episode: 36.88\n",
       "</pre>\n"
      ],
      "text/plain": [
       "Best mean reward: 46.38 - Last mean reward per episode: 36.88\n"
      ]
     },
     "metadata": {},
     "output_type": "display_data"
    },
    {
     "data": {
      "text/html": [
       "<pre style=\"white-space:pre;overflow-x:auto;line-height:normal;font-family:Menlo,'DejaVu Sans Mono',consolas,'Courier New',monospace\">Num timesteps: 290000\n",
       "</pre>\n"
      ],
      "text/plain": [
       "Num timesteps: 290000\n"
      ]
     },
     "metadata": {},
     "output_type": "display_data"
    },
    {
     "data": {
      "text/html": [
       "<pre style=\"white-space:pre;overflow-x:auto;line-height:normal;font-family:Menlo,'DejaVu Sans Mono',consolas,'Courier New',monospace\">Best mean reward: 46.38 - Last mean reward per episode: 37.08\n",
       "</pre>\n"
      ],
      "text/plain": [
       "Best mean reward: 46.38 - Last mean reward per episode: 37.08\n"
      ]
     },
     "metadata": {},
     "output_type": "display_data"
    },
    {
     "data": {
      "text/html": [
       "<pre style=\"white-space:pre;overflow-x:auto;line-height:normal;font-family:Menlo,'DejaVu Sans Mono',consolas,'Courier New',monospace\">Num timesteps: 291000\n",
       "</pre>\n"
      ],
      "text/plain": [
       "Num timesteps: 291000\n"
      ]
     },
     "metadata": {},
     "output_type": "display_data"
    },
    {
     "data": {
      "text/html": [
       "<pre style=\"white-space:pre;overflow-x:auto;line-height:normal;font-family:Menlo,'DejaVu Sans Mono',consolas,'Courier New',monospace\">Best mean reward: 46.38 - Last mean reward per episode: 37.56\n",
       "</pre>\n"
      ],
      "text/plain": [
       "Best mean reward: 46.38 - Last mean reward per episode: 37.56\n"
      ]
     },
     "metadata": {},
     "output_type": "display_data"
    },
    {
     "data": {
      "text/html": [
       "<pre style=\"white-space:pre;overflow-x:auto;line-height:normal;font-family:Menlo,'DejaVu Sans Mono',consolas,'Courier New',monospace\">Num timesteps: 292000\n",
       "</pre>\n"
      ],
      "text/plain": [
       "Num timesteps: 292000\n"
      ]
     },
     "metadata": {},
     "output_type": "display_data"
    },
    {
     "data": {
      "text/html": [
       "<pre style=\"white-space:pre;overflow-x:auto;line-height:normal;font-family:Menlo,'DejaVu Sans Mono',consolas,'Courier New',monospace\">Best mean reward: 46.38 - Last mean reward per episode: 37.68\n",
       "</pre>\n"
      ],
      "text/plain": [
       "Best mean reward: 46.38 - Last mean reward per episode: 37.68\n"
      ]
     },
     "metadata": {},
     "output_type": "display_data"
    },
    {
     "data": {
      "text/html": [
       "<pre style=\"white-space:pre;overflow-x:auto;line-height:normal;font-family:Menlo,'DejaVu Sans Mono',consolas,'Courier New',monospace\">Num timesteps: 293000\n",
       "</pre>\n"
      ],
      "text/plain": [
       "Num timesteps: 293000\n"
      ]
     },
     "metadata": {},
     "output_type": "display_data"
    },
    {
     "data": {
      "text/html": [
       "<pre style=\"white-space:pre;overflow-x:auto;line-height:normal;font-family:Menlo,'DejaVu Sans Mono',consolas,'Courier New',monospace\">Best mean reward: 46.38 - Last mean reward per episode: 38.55\n",
       "</pre>\n"
      ],
      "text/plain": [
       "Best mean reward: 46.38 - Last mean reward per episode: 38.55\n"
      ]
     },
     "metadata": {},
     "output_type": "display_data"
    },
    {
     "data": {
      "text/html": [
       "<pre style=\"white-space:pre;overflow-x:auto;line-height:normal;font-family:Menlo,'DejaVu Sans Mono',consolas,'Courier New',monospace\">Num timesteps: 294000\n",
       "</pre>\n"
      ],
      "text/plain": [
       "Num timesteps: 294000\n"
      ]
     },
     "metadata": {},
     "output_type": "display_data"
    },
    {
     "data": {
      "text/html": [
       "<pre style=\"white-space:pre;overflow-x:auto;line-height:normal;font-family:Menlo,'DejaVu Sans Mono',consolas,'Courier New',monospace\">Best mean reward: 46.38 - Last mean reward per episode: 39.95\n",
       "</pre>\n"
      ],
      "text/plain": [
       "Best mean reward: 46.38 - Last mean reward per episode: 39.95\n"
      ]
     },
     "metadata": {},
     "output_type": "display_data"
    },
    {
     "data": {
      "text/html": [
       "<pre style=\"white-space:pre;overflow-x:auto;line-height:normal;font-family:Menlo,'DejaVu Sans Mono',consolas,'Courier New',monospace\">Num timesteps: 295000\n",
       "</pre>\n"
      ],
      "text/plain": [
       "Num timesteps: 295000\n"
      ]
     },
     "metadata": {},
     "output_type": "display_data"
    },
    {
     "data": {
      "text/html": [
       "<pre style=\"white-space:pre;overflow-x:auto;line-height:normal;font-family:Menlo,'DejaVu Sans Mono',consolas,'Courier New',monospace\">Best mean reward: 46.38 - Last mean reward per episode: 41.17\n",
       "</pre>\n"
      ],
      "text/plain": [
       "Best mean reward: 46.38 - Last mean reward per episode: 41.17\n"
      ]
     },
     "metadata": {},
     "output_type": "display_data"
    },
    {
     "data": {
      "text/html": [
       "<pre style=\"white-space:pre;overflow-x:auto;line-height:normal;font-family:Menlo,'DejaVu Sans Mono',consolas,'Courier New',monospace\">Num timesteps: 296000\n",
       "</pre>\n"
      ],
      "text/plain": [
       "Num timesteps: 296000\n"
      ]
     },
     "metadata": {},
     "output_type": "display_data"
    },
    {
     "data": {
      "text/html": [
       "<pre style=\"white-space:pre;overflow-x:auto;line-height:normal;font-family:Menlo,'DejaVu Sans Mono',consolas,'Courier New',monospace\">Best mean reward: 46.38 - Last mean reward per episode: 42.17\n",
       "</pre>\n"
      ],
      "text/plain": [
       "Best mean reward: 46.38 - Last mean reward per episode: 42.17\n"
      ]
     },
     "metadata": {},
     "output_type": "display_data"
    },
    {
     "data": {
      "text/html": [
       "<pre style=\"white-space:pre;overflow-x:auto;line-height:normal;font-family:Menlo,'DejaVu Sans Mono',consolas,'Courier New',monospace\">Num timesteps: 297000\n",
       "</pre>\n"
      ],
      "text/plain": [
       "Num timesteps: 297000\n"
      ]
     },
     "metadata": {},
     "output_type": "display_data"
    },
    {
     "data": {
      "text/html": [
       "<pre style=\"white-space:pre;overflow-x:auto;line-height:normal;font-family:Menlo,'DejaVu Sans Mono',consolas,'Courier New',monospace\">Best mean reward: 46.38 - Last mean reward per episode: 43.39\n",
       "</pre>\n"
      ],
      "text/plain": [
       "Best mean reward: 46.38 - Last mean reward per episode: 43.39\n"
      ]
     },
     "metadata": {},
     "output_type": "display_data"
    },
    {
     "data": {
      "text/html": [
       "<pre style=\"white-space:pre;overflow-x:auto;line-height:normal;font-family:Menlo,'DejaVu Sans Mono',consolas,'Courier New',monospace\">Num timesteps: 298000\n",
       "</pre>\n"
      ],
      "text/plain": [
       "Num timesteps: 298000\n"
      ]
     },
     "metadata": {},
     "output_type": "display_data"
    },
    {
     "data": {
      "text/html": [
       "<pre style=\"white-space:pre;overflow-x:auto;line-height:normal;font-family:Menlo,'DejaVu Sans Mono',consolas,'Courier New',monospace\">Best mean reward: 46.38 - Last mean reward per episode: 44.50\n",
       "</pre>\n"
      ],
      "text/plain": [
       "Best mean reward: 46.38 - Last mean reward per episode: 44.50\n"
      ]
     },
     "metadata": {},
     "output_type": "display_data"
    },
    {
     "data": {
      "text/html": [
       "<pre style=\"white-space:pre;overflow-x:auto;line-height:normal;font-family:Menlo,'DejaVu Sans Mono',consolas,'Courier New',monospace\">Num timesteps: 299000\n",
       "</pre>\n"
      ],
      "text/plain": [
       "Num timesteps: 299000\n"
      ]
     },
     "metadata": {},
     "output_type": "display_data"
    },
    {
     "data": {
      "text/html": [
       "<pre style=\"white-space:pre;overflow-x:auto;line-height:normal;font-family:Menlo,'DejaVu Sans Mono',consolas,'Courier New',monospace\">Best mean reward: 46.38 - Last mean reward per episode: 45.76\n",
       "</pre>\n"
      ],
      "text/plain": [
       "Best mean reward: 46.38 - Last mean reward per episode: 45.76\n"
      ]
     },
     "metadata": {},
     "output_type": "display_data"
    },
    {
     "data": {
      "text/html": [
       "<pre style=\"white-space:pre;overflow-x:auto;line-height:normal;font-family:Menlo,'DejaVu Sans Mono',consolas,'Courier New',monospace\">Num timesteps: 300000\n",
       "</pre>\n"
      ],
      "text/plain": [
       "Num timesteps: 300000\n"
      ]
     },
     "metadata": {},
     "output_type": "display_data"
    },
    {
     "data": {
      "text/html": [
       "<pre style=\"white-space:pre;overflow-x:auto;line-height:normal;font-family:Menlo,'DejaVu Sans Mono',consolas,'Courier New',monospace\">Best mean reward: 46.38 - Last mean reward per episode: 46.82\n",
       "</pre>\n"
      ],
      "text/plain": [
       "Best mean reward: 46.38 - Last mean reward per episode: 46.82\n"
      ]
     },
     "metadata": {},
     "output_type": "display_data"
    },
    {
     "data": {
      "text/html": [
       "<pre style=\"white-space:pre;overflow-x:auto;line-height:normal;font-family:Menlo,'DejaVu Sans Mono',consolas,'Courier New',monospace\">Saving new best model to tmp/gym/multiinput_256/best_model.zip\n",
       "</pre>\n"
      ],
      "text/plain": [
       "Saving new best model to tmp/gym/multiinput_256/best_model.zip\n"
      ]
     },
     "metadata": {},
     "output_type": "display_data"
    },
    {
     "data": {
      "text/html": [
       "<pre style=\"white-space:pre;overflow-x:auto;line-height:normal;font-family:Menlo,'DejaVu Sans Mono',consolas,'Courier New',monospace\">Num timesteps: 301000\n",
       "</pre>\n"
      ],
      "text/plain": [
       "Num timesteps: 301000\n"
      ]
     },
     "metadata": {},
     "output_type": "display_data"
    },
    {
     "data": {
      "text/html": [
       "<pre style=\"white-space:pre;overflow-x:auto;line-height:normal;font-family:Menlo,'DejaVu Sans Mono',consolas,'Courier New',monospace\">Best mean reward: 46.82 - Last mean reward per episode: 47.24\n",
       "</pre>\n"
      ],
      "text/plain": [
       "Best mean reward: 46.82 - Last mean reward per episode: 47.24\n"
      ]
     },
     "metadata": {},
     "output_type": "display_data"
    },
    {
     "data": {
      "text/html": [
       "<pre style=\"white-space:pre;overflow-x:auto;line-height:normal;font-family:Menlo,'DejaVu Sans Mono',consolas,'Courier New',monospace\">Saving new best model to tmp/gym/multiinput_256/best_model.zip\n",
       "</pre>\n"
      ],
      "text/plain": [
       "Saving new best model to tmp/gym/multiinput_256/best_model.zip\n"
      ]
     },
     "metadata": {},
     "output_type": "display_data"
    },
    {
     "data": {
      "text/html": [
       "<pre style=\"white-space:pre;overflow-x:auto;line-height:normal;font-family:Menlo,'DejaVu Sans Mono',consolas,'Courier New',monospace\">Num timesteps: 302000\n",
       "</pre>\n"
      ],
      "text/plain": [
       "Num timesteps: 302000\n"
      ]
     },
     "metadata": {},
     "output_type": "display_data"
    },
    {
     "data": {
      "text/html": [
       "<pre style=\"white-space:pre;overflow-x:auto;line-height:normal;font-family:Menlo,'DejaVu Sans Mono',consolas,'Courier New',monospace\">Best mean reward: 47.24 - Last mean reward per episode: 48.31\n",
       "</pre>\n"
      ],
      "text/plain": [
       "Best mean reward: 47.24 - Last mean reward per episode: 48.31\n"
      ]
     },
     "metadata": {},
     "output_type": "display_data"
    },
    {
     "data": {
      "text/html": [
       "<pre style=\"white-space:pre;overflow-x:auto;line-height:normal;font-family:Menlo,'DejaVu Sans Mono',consolas,'Courier New',monospace\">Saving new best model to tmp/gym/multiinput_256/best_model.zip\n",
       "</pre>\n"
      ],
      "text/plain": [
       "Saving new best model to tmp/gym/multiinput_256/best_model.zip\n"
      ]
     },
     "metadata": {},
     "output_type": "display_data"
    },
    {
     "data": {
      "text/html": [
       "<pre style=\"white-space:pre;overflow-x:auto;line-height:normal;font-family:Menlo,'DejaVu Sans Mono',consolas,'Courier New',monospace\">Num timesteps: 303000\n",
       "</pre>\n"
      ],
      "text/plain": [
       "Num timesteps: 303000\n"
      ]
     },
     "metadata": {},
     "output_type": "display_data"
    },
    {
     "data": {
      "text/html": [
       "<pre style=\"white-space:pre;overflow-x:auto;line-height:normal;font-family:Menlo,'DejaVu Sans Mono',consolas,'Courier New',monospace\">Best mean reward: 48.31 - Last mean reward per episode: 49.51\n",
       "</pre>\n"
      ],
      "text/plain": [
       "Best mean reward: 48.31 - Last mean reward per episode: 49.51\n"
      ]
     },
     "metadata": {},
     "output_type": "display_data"
    },
    {
     "data": {
      "text/html": [
       "<pre style=\"white-space:pre;overflow-x:auto;line-height:normal;font-family:Menlo,'DejaVu Sans Mono',consolas,'Courier New',monospace\">Saving new best model to tmp/gym/multiinput_256/best_model.zip\n",
       "</pre>\n"
      ],
      "text/plain": [
       "Saving new best model to tmp/gym/multiinput_256/best_model.zip\n"
      ]
     },
     "metadata": {},
     "output_type": "display_data"
    },
    {
     "data": {
      "text/html": [
       "<pre style=\"white-space:pre;overflow-x:auto;line-height:normal;font-family:Menlo,'DejaVu Sans Mono',consolas,'Courier New',monospace\">Num timesteps: 304000\n",
       "</pre>\n"
      ],
      "text/plain": [
       "Num timesteps: 304000\n"
      ]
     },
     "metadata": {},
     "output_type": "display_data"
    },
    {
     "data": {
      "text/html": [
       "<pre style=\"white-space:pre;overflow-x:auto;line-height:normal;font-family:Menlo,'DejaVu Sans Mono',consolas,'Courier New',monospace\">Best mean reward: 49.51 - Last mean reward per episode: 50.56\n",
       "</pre>\n"
      ],
      "text/plain": [
       "Best mean reward: 49.51 - Last mean reward per episode: 50.56\n"
      ]
     },
     "metadata": {},
     "output_type": "display_data"
    },
    {
     "data": {
      "text/html": [
       "<pre style=\"white-space:pre;overflow-x:auto;line-height:normal;font-family:Menlo,'DejaVu Sans Mono',consolas,'Courier New',monospace\">Saving new best model to tmp/gym/multiinput_256/best_model.zip\n",
       "</pre>\n"
      ],
      "text/plain": [
       "Saving new best model to tmp/gym/multiinput_256/best_model.zip\n"
      ]
     },
     "metadata": {},
     "output_type": "display_data"
    },
    {
     "data": {
      "text/html": [
       "<pre style=\"white-space:pre;overflow-x:auto;line-height:normal;font-family:Menlo,'DejaVu Sans Mono',consolas,'Courier New',monospace\">Num timesteps: 305000\n",
       "</pre>\n"
      ],
      "text/plain": [
       "Num timesteps: 305000\n"
      ]
     },
     "metadata": {},
     "output_type": "display_data"
    },
    {
     "data": {
      "text/html": [
       "<pre style=\"white-space:pre;overflow-x:auto;line-height:normal;font-family:Menlo,'DejaVu Sans Mono',consolas,'Courier New',monospace\">Best mean reward: 50.56 - Last mean reward per episode: 52.43\n",
       "</pre>\n"
      ],
      "text/plain": [
       "Best mean reward: 50.56 - Last mean reward per episode: 52.43\n"
      ]
     },
     "metadata": {},
     "output_type": "display_data"
    },
    {
     "data": {
      "text/html": [
       "<pre style=\"white-space:pre;overflow-x:auto;line-height:normal;font-family:Menlo,'DejaVu Sans Mono',consolas,'Courier New',monospace\">Saving new best model to tmp/gym/multiinput_256/best_model.zip\n",
       "</pre>\n"
      ],
      "text/plain": [
       "Saving new best model to tmp/gym/multiinput_256/best_model.zip\n"
      ]
     },
     "metadata": {},
     "output_type": "display_data"
    },
    {
     "data": {
      "text/html": [
       "<pre style=\"white-space:pre;overflow-x:auto;line-height:normal;font-family:Menlo,'DejaVu Sans Mono',consolas,'Courier New',monospace\">Num timesteps: 306000\n",
       "</pre>\n"
      ],
      "text/plain": [
       "Num timesteps: 306000\n"
      ]
     },
     "metadata": {},
     "output_type": "display_data"
    },
    {
     "data": {
      "text/html": [
       "<pre style=\"white-space:pre;overflow-x:auto;line-height:normal;font-family:Menlo,'DejaVu Sans Mono',consolas,'Courier New',monospace\">Best mean reward: 52.43 - Last mean reward per episode: 53.18\n",
       "</pre>\n"
      ],
      "text/plain": [
       "Best mean reward: 52.43 - Last mean reward per episode: 53.18\n"
      ]
     },
     "metadata": {},
     "output_type": "display_data"
    },
    {
     "data": {
      "text/html": [
       "<pre style=\"white-space:pre;overflow-x:auto;line-height:normal;font-family:Menlo,'DejaVu Sans Mono',consolas,'Courier New',monospace\">Saving new best model to tmp/gym/multiinput_256/best_model.zip\n",
       "</pre>\n"
      ],
      "text/plain": [
       "Saving new best model to tmp/gym/multiinput_256/best_model.zip\n"
      ]
     },
     "metadata": {},
     "output_type": "display_data"
    },
    {
     "data": {
      "text/html": [
       "<pre style=\"white-space:pre;overflow-x:auto;line-height:normal;font-family:Menlo,'DejaVu Sans Mono',consolas,'Courier New',monospace\">Num timesteps: 307000\n",
       "</pre>\n"
      ],
      "text/plain": [
       "Num timesteps: 307000\n"
      ]
     },
     "metadata": {},
     "output_type": "display_data"
    },
    {
     "data": {
      "text/html": [
       "<pre style=\"white-space:pre;overflow-x:auto;line-height:normal;font-family:Menlo,'DejaVu Sans Mono',consolas,'Courier New',monospace\">Best mean reward: 53.18 - Last mean reward per episode: 54.28\n",
       "</pre>\n"
      ],
      "text/plain": [
       "Best mean reward: 53.18 - Last mean reward per episode: 54.28\n"
      ]
     },
     "metadata": {},
     "output_type": "display_data"
    },
    {
     "data": {
      "text/html": [
       "<pre style=\"white-space:pre;overflow-x:auto;line-height:normal;font-family:Menlo,'DejaVu Sans Mono',consolas,'Courier New',monospace\">Saving new best model to tmp/gym/multiinput_256/best_model.zip\n",
       "</pre>\n"
      ],
      "text/plain": [
       "Saving new best model to tmp/gym/multiinput_256/best_model.zip\n"
      ]
     },
     "metadata": {},
     "output_type": "display_data"
    },
    {
     "name": "stdout",
     "output_type": "stream",
     "text": [
      "---------------------------------------\n",
      "| rollout/                |           |\n",
      "|    ep_len_mean          | 500       |\n",
      "|    ep_rew_mean          | 54.3      |\n",
      "| time/                   |           |\n",
      "|    fps                  | 89        |\n",
      "|    iterations           | 150       |\n",
      "|    time_elapsed         | 3447      |\n",
      "|    total_timesteps      | 307200    |\n",
      "| train/                  |           |\n",
      "|    approx_kl            | 0.5715065 |\n",
      "|    clip_fraction        | 0.735     |\n",
      "|    clip_range           | 0.2       |\n",
      "|    entropy_loss         | -6.92     |\n",
      "|    explained_variance   | 0.942     |\n",
      "|    learning_rate        | 0.0003    |\n",
      "|    loss                 | -0.0824   |\n",
      "|    n_updates            | 1490      |\n",
      "|    policy_gradient_loss | -0.0574   |\n",
      "|    std                  | 0.649     |\n",
      "|    value_loss           | 0.423     |\n",
      "---------------------------------------\n"
     ]
    },
    {
     "data": {
      "text/html": [
       "<pre style=\"white-space:pre;overflow-x:auto;line-height:normal;font-family:Menlo,'DejaVu Sans Mono',consolas,'Courier New',monospace\">Num timesteps: 308000\n",
       "</pre>\n"
      ],
      "text/plain": [
       "Num timesteps: 308000\n"
      ]
     },
     "metadata": {},
     "output_type": "display_data"
    },
    {
     "data": {
      "text/html": [
       "<pre style=\"white-space:pre;overflow-x:auto;line-height:normal;font-family:Menlo,'DejaVu Sans Mono',consolas,'Courier New',monospace\">Best mean reward: 54.28 - Last mean reward per episode: 55.22\n",
       "</pre>\n"
      ],
      "text/plain": [
       "Best mean reward: 54.28 - Last mean reward per episode: 55.22\n"
      ]
     },
     "metadata": {},
     "output_type": "display_data"
    },
    {
     "data": {
      "text/html": [
       "<pre style=\"white-space:pre;overflow-x:auto;line-height:normal;font-family:Menlo,'DejaVu Sans Mono',consolas,'Courier New',monospace\">Saving new best model to tmp/gym/multiinput_256/best_model.zip\n",
       "</pre>\n"
      ],
      "text/plain": [
       "Saving new best model to tmp/gym/multiinput_256/best_model.zip\n"
      ]
     },
     "metadata": {},
     "output_type": "display_data"
    },
    {
     "data": {
      "text/html": [
       "<pre style=\"white-space:pre;overflow-x:auto;line-height:normal;font-family:Menlo,'DejaVu Sans Mono',consolas,'Courier New',monospace\">Num timesteps: 309000\n",
       "</pre>\n"
      ],
      "text/plain": [
       "Num timesteps: 309000\n"
      ]
     },
     "metadata": {},
     "output_type": "display_data"
    },
    {
     "data": {
      "text/html": [
       "<pre style=\"white-space:pre;overflow-x:auto;line-height:normal;font-family:Menlo,'DejaVu Sans Mono',consolas,'Courier New',monospace\">Best mean reward: 55.22 - Last mean reward per episode: 57.01\n",
       "</pre>\n"
      ],
      "text/plain": [
       "Best mean reward: 55.22 - Last mean reward per episode: 57.01\n"
      ]
     },
     "metadata": {},
     "output_type": "display_data"
    },
    {
     "data": {
      "text/html": [
       "<pre style=\"white-space:pre;overflow-x:auto;line-height:normal;font-family:Menlo,'DejaVu Sans Mono',consolas,'Courier New',monospace\">Saving new best model to tmp/gym/multiinput_256/best_model.zip\n",
       "</pre>\n"
      ],
      "text/plain": [
       "Saving new best model to tmp/gym/multiinput_256/best_model.zip\n"
      ]
     },
     "metadata": {},
     "output_type": "display_data"
    },
    {
     "data": {
      "text/html": [
       "<pre style=\"white-space:pre;overflow-x:auto;line-height:normal;font-family:Menlo,'DejaVu Sans Mono',consolas,'Courier New',monospace\">Num timesteps: 310000\n",
       "</pre>\n"
      ],
      "text/plain": [
       "Num timesteps: 310000\n"
      ]
     },
     "metadata": {},
     "output_type": "display_data"
    },
    {
     "data": {
      "text/html": [
       "<pre style=\"white-space:pre;overflow-x:auto;line-height:normal;font-family:Menlo,'DejaVu Sans Mono',consolas,'Courier New',monospace\">Best mean reward: 57.01 - Last mean reward per episode: 58.02\n",
       "</pre>\n"
      ],
      "text/plain": [
       "Best mean reward: 57.01 - Last mean reward per episode: 58.02\n"
      ]
     },
     "metadata": {},
     "output_type": "display_data"
    },
    {
     "data": {
      "text/html": [
       "<pre style=\"white-space:pre;overflow-x:auto;line-height:normal;font-family:Menlo,'DejaVu Sans Mono',consolas,'Courier New',monospace\">Saving new best model to tmp/gym/multiinput_256/best_model.zip\n",
       "</pre>\n"
      ],
      "text/plain": [
       "Saving new best model to tmp/gym/multiinput_256/best_model.zip\n"
      ]
     },
     "metadata": {},
     "output_type": "display_data"
    },
    {
     "data": {
      "text/html": [
       "<pre style=\"white-space:pre;overflow-x:auto;line-height:normal;font-family:Menlo,'DejaVu Sans Mono',consolas,'Courier New',monospace\">Num timesteps: 311000\n",
       "</pre>\n"
      ],
      "text/plain": [
       "Num timesteps: 311000\n"
      ]
     },
     "metadata": {},
     "output_type": "display_data"
    },
    {
     "data": {
      "text/html": [
       "<pre style=\"white-space:pre;overflow-x:auto;line-height:normal;font-family:Menlo,'DejaVu Sans Mono',consolas,'Courier New',monospace\">Best mean reward: 58.02 - Last mean reward per episode: 58.94\n",
       "</pre>\n"
      ],
      "text/plain": [
       "Best mean reward: 58.02 - Last mean reward per episode: 58.94\n"
      ]
     },
     "metadata": {},
     "output_type": "display_data"
    },
    {
     "data": {
      "text/html": [
       "<pre style=\"white-space:pre;overflow-x:auto;line-height:normal;font-family:Menlo,'DejaVu Sans Mono',consolas,'Courier New',monospace\">Saving new best model to tmp/gym/multiinput_256/best_model.zip\n",
       "</pre>\n"
      ],
      "text/plain": [
       "Saving new best model to tmp/gym/multiinput_256/best_model.zip\n"
      ]
     },
     "metadata": {},
     "output_type": "display_data"
    },
    {
     "data": {
      "text/html": [
       "<pre style=\"white-space:pre;overflow-x:auto;line-height:normal;font-family:Menlo,'DejaVu Sans Mono',consolas,'Courier New',monospace\">Num timesteps: 312000\n",
       "</pre>\n"
      ],
      "text/plain": [
       "Num timesteps: 312000\n"
      ]
     },
     "metadata": {},
     "output_type": "display_data"
    },
    {
     "data": {
      "text/html": [
       "<pre style=\"white-space:pre;overflow-x:auto;line-height:normal;font-family:Menlo,'DejaVu Sans Mono',consolas,'Courier New',monospace\">Best mean reward: 58.94 - Last mean reward per episode: 59.74\n",
       "</pre>\n"
      ],
      "text/plain": [
       "Best mean reward: 58.94 - Last mean reward per episode: 59.74\n"
      ]
     },
     "metadata": {},
     "output_type": "display_data"
    },
    {
     "data": {
      "text/html": [
       "<pre style=\"white-space:pre;overflow-x:auto;line-height:normal;font-family:Menlo,'DejaVu Sans Mono',consolas,'Courier New',monospace\">Saving new best model to tmp/gym/multiinput_256/best_model.zip\n",
       "</pre>\n"
      ],
      "text/plain": [
       "Saving new best model to tmp/gym/multiinput_256/best_model.zip\n"
      ]
     },
     "metadata": {},
     "output_type": "display_data"
    },
    {
     "data": {
      "text/html": [
       "<pre style=\"white-space:pre;overflow-x:auto;line-height:normal;font-family:Menlo,'DejaVu Sans Mono',consolas,'Courier New',monospace\">Num timesteps: 313000\n",
       "</pre>\n"
      ],
      "text/plain": [
       "Num timesteps: 313000\n"
      ]
     },
     "metadata": {},
     "output_type": "display_data"
    },
    {
     "data": {
      "text/html": [
       "<pre style=\"white-space:pre;overflow-x:auto;line-height:normal;font-family:Menlo,'DejaVu Sans Mono',consolas,'Courier New',monospace\">Best mean reward: 59.74 - Last mean reward per episode: 60.34\n",
       "</pre>\n"
      ],
      "text/plain": [
       "Best mean reward: 59.74 - Last mean reward per episode: 60.34\n"
      ]
     },
     "metadata": {},
     "output_type": "display_data"
    },
    {
     "data": {
      "text/html": [
       "<pre style=\"white-space:pre;overflow-x:auto;line-height:normal;font-family:Menlo,'DejaVu Sans Mono',consolas,'Courier New',monospace\">Saving new best model to tmp/gym/multiinput_256/best_model.zip\n",
       "</pre>\n"
      ],
      "text/plain": [
       "Saving new best model to tmp/gym/multiinput_256/best_model.zip\n"
      ]
     },
     "metadata": {},
     "output_type": "display_data"
    },
    {
     "data": {
      "text/html": [
       "<pre style=\"white-space:pre;overflow-x:auto;line-height:normal;font-family:Menlo,'DejaVu Sans Mono',consolas,'Courier New',monospace\">Num timesteps: 314000\n",
       "</pre>\n"
      ],
      "text/plain": [
       "Num timesteps: 314000\n"
      ]
     },
     "metadata": {},
     "output_type": "display_data"
    },
    {
     "data": {
      "text/html": [
       "<pre style=\"white-space:pre;overflow-x:auto;line-height:normal;font-family:Menlo,'DejaVu Sans Mono',consolas,'Courier New',monospace\">Best mean reward: 60.34 - Last mean reward per episode: 61.11\n",
       "</pre>\n"
      ],
      "text/plain": [
       "Best mean reward: 60.34 - Last mean reward per episode: 61.11\n"
      ]
     },
     "metadata": {},
     "output_type": "display_data"
    },
    {
     "data": {
      "text/html": [
       "<pre style=\"white-space:pre;overflow-x:auto;line-height:normal;font-family:Menlo,'DejaVu Sans Mono',consolas,'Courier New',monospace\">Saving new best model to tmp/gym/multiinput_256/best_model.zip\n",
       "</pre>\n"
      ],
      "text/plain": [
       "Saving new best model to tmp/gym/multiinput_256/best_model.zip\n"
      ]
     },
     "metadata": {},
     "output_type": "display_data"
    },
    {
     "data": {
      "text/html": [
       "<pre style=\"white-space:pre;overflow-x:auto;line-height:normal;font-family:Menlo,'DejaVu Sans Mono',consolas,'Courier New',monospace\">Num timesteps: 315000\n",
       "</pre>\n"
      ],
      "text/plain": [
       "Num timesteps: 315000\n"
      ]
     },
     "metadata": {},
     "output_type": "display_data"
    },
    {
     "data": {
      "text/html": [
       "<pre style=\"white-space:pre;overflow-x:auto;line-height:normal;font-family:Menlo,'DejaVu Sans Mono',consolas,'Courier New',monospace\">Best mean reward: 61.11 - Last mean reward per episode: 62.54\n",
       "</pre>\n"
      ],
      "text/plain": [
       "Best mean reward: 61.11 - Last mean reward per episode: 62.54\n"
      ]
     },
     "metadata": {},
     "output_type": "display_data"
    },
    {
     "data": {
      "text/html": [
       "<pre style=\"white-space:pre;overflow-x:auto;line-height:normal;font-family:Menlo,'DejaVu Sans Mono',consolas,'Courier New',monospace\">Saving new best model to tmp/gym/multiinput_256/best_model.zip\n",
       "</pre>\n"
      ],
      "text/plain": [
       "Saving new best model to tmp/gym/multiinput_256/best_model.zip\n"
      ]
     },
     "metadata": {},
     "output_type": "display_data"
    },
    {
     "data": {
      "text/html": [
       "<pre style=\"white-space:pre;overflow-x:auto;line-height:normal;font-family:Menlo,'DejaVu Sans Mono',consolas,'Courier New',monospace\">Num timesteps: 316000\n",
       "</pre>\n"
      ],
      "text/plain": [
       "Num timesteps: 316000\n"
      ]
     },
     "metadata": {},
     "output_type": "display_data"
    },
    {
     "data": {
      "text/html": [
       "<pre style=\"white-space:pre;overflow-x:auto;line-height:normal;font-family:Menlo,'DejaVu Sans Mono',consolas,'Courier New',monospace\">Best mean reward: 62.54 - Last mean reward per episode: 63.43\n",
       "</pre>\n"
      ],
      "text/plain": [
       "Best mean reward: 62.54 - Last mean reward per episode: 63.43\n"
      ]
     },
     "metadata": {},
     "output_type": "display_data"
    },
    {
     "data": {
      "text/html": [
       "<pre style=\"white-space:pre;overflow-x:auto;line-height:normal;font-family:Menlo,'DejaVu Sans Mono',consolas,'Courier New',monospace\">Saving new best model to tmp/gym/multiinput_256/best_model.zip\n",
       "</pre>\n"
      ],
      "text/plain": [
       "Saving new best model to tmp/gym/multiinput_256/best_model.zip\n"
      ]
     },
     "metadata": {},
     "output_type": "display_data"
    },
    {
     "data": {
      "text/html": [
       "<pre style=\"white-space:pre;overflow-x:auto;line-height:normal;font-family:Menlo,'DejaVu Sans Mono',consolas,'Courier New',monospace\">Num timesteps: 317000\n",
       "</pre>\n"
      ],
      "text/plain": [
       "Num timesteps: 317000\n"
      ]
     },
     "metadata": {},
     "output_type": "display_data"
    },
    {
     "data": {
      "text/html": [
       "<pre style=\"white-space:pre;overflow-x:auto;line-height:normal;font-family:Menlo,'DejaVu Sans Mono',consolas,'Courier New',monospace\">Best mean reward: 63.43 - Last mean reward per episode: 64.24\n",
       "</pre>\n"
      ],
      "text/plain": [
       "Best mean reward: 63.43 - Last mean reward per episode: 64.24\n"
      ]
     },
     "metadata": {},
     "output_type": "display_data"
    },
    {
     "data": {
      "text/html": [
       "<pre style=\"white-space:pre;overflow-x:auto;line-height:normal;font-family:Menlo,'DejaVu Sans Mono',consolas,'Courier New',monospace\">Saving new best model to tmp/gym/multiinput_256/best_model.zip\n",
       "</pre>\n"
      ],
      "text/plain": [
       "Saving new best model to tmp/gym/multiinput_256/best_model.zip\n"
      ]
     },
     "metadata": {},
     "output_type": "display_data"
    },
    {
     "data": {
      "text/html": [
       "<pre style=\"white-space:pre;overflow-x:auto;line-height:normal;font-family:Menlo,'DejaVu Sans Mono',consolas,'Courier New',monospace\">Num timesteps: 318000\n",
       "</pre>\n"
      ],
      "text/plain": [
       "Num timesteps: 318000\n"
      ]
     },
     "metadata": {},
     "output_type": "display_data"
    },
    {
     "data": {
      "text/html": [
       "<pre style=\"white-space:pre;overflow-x:auto;line-height:normal;font-family:Menlo,'DejaVu Sans Mono',consolas,'Courier New',monospace\">Best mean reward: 64.24 - Last mean reward per episode: 65.18\n",
       "</pre>\n"
      ],
      "text/plain": [
       "Best mean reward: 64.24 - Last mean reward per episode: 65.18\n"
      ]
     },
     "metadata": {},
     "output_type": "display_data"
    },
    {
     "data": {
      "text/html": [
       "<pre style=\"white-space:pre;overflow-x:auto;line-height:normal;font-family:Menlo,'DejaVu Sans Mono',consolas,'Courier New',monospace\">Saving new best model to tmp/gym/multiinput_256/best_model.zip\n",
       "</pre>\n"
      ],
      "text/plain": [
       "Saving new best model to tmp/gym/multiinput_256/best_model.zip\n"
      ]
     },
     "metadata": {},
     "output_type": "display_data"
    },
    {
     "data": {
      "text/html": [
       "<pre style=\"white-space:pre;overflow-x:auto;line-height:normal;font-family:Menlo,'DejaVu Sans Mono',consolas,'Courier New',monospace\">Num timesteps: 319000\n",
       "</pre>\n"
      ],
      "text/plain": [
       "Num timesteps: 319000\n"
      ]
     },
     "metadata": {},
     "output_type": "display_data"
    },
    {
     "data": {
      "text/html": [
       "<pre style=\"white-space:pre;overflow-x:auto;line-height:normal;font-family:Menlo,'DejaVu Sans Mono',consolas,'Courier New',monospace\">Best mean reward: 65.18 - Last mean reward per episode: 65.80\n",
       "</pre>\n"
      ],
      "text/plain": [
       "Best mean reward: 65.18 - Last mean reward per episode: 65.80\n"
      ]
     },
     "metadata": {},
     "output_type": "display_data"
    },
    {
     "data": {
      "text/html": [
       "<pre style=\"white-space:pre;overflow-x:auto;line-height:normal;font-family:Menlo,'DejaVu Sans Mono',consolas,'Courier New',monospace\">Saving new best model to tmp/gym/multiinput_256/best_model.zip\n",
       "</pre>\n"
      ],
      "text/plain": [
       "Saving new best model to tmp/gym/multiinput_256/best_model.zip\n"
      ]
     },
     "metadata": {},
     "output_type": "display_data"
    },
    {
     "data": {
      "text/html": [
       "<pre style=\"white-space:pre;overflow-x:auto;line-height:normal;font-family:Menlo,'DejaVu Sans Mono',consolas,'Courier New',monospace\">Num timesteps: 320000\n",
       "</pre>\n"
      ],
      "text/plain": [
       "Num timesteps: 320000\n"
      ]
     },
     "metadata": {},
     "output_type": "display_data"
    },
    {
     "data": {
      "text/html": [
       "<pre style=\"white-space:pre;overflow-x:auto;line-height:normal;font-family:Menlo,'DejaVu Sans Mono',consolas,'Courier New',monospace\">Best mean reward: 65.80 - Last mean reward per episode: 66.17\n",
       "</pre>\n"
      ],
      "text/plain": [
       "Best mean reward: 65.80 - Last mean reward per episode: 66.17\n"
      ]
     },
     "metadata": {},
     "output_type": "display_data"
    },
    {
     "data": {
      "text/html": [
       "<pre style=\"white-space:pre;overflow-x:auto;line-height:normal;font-family:Menlo,'DejaVu Sans Mono',consolas,'Courier New',monospace\">Saving new best model to tmp/gym/multiinput_256/best_model.zip\n",
       "</pre>\n"
      ],
      "text/plain": [
       "Saving new best model to tmp/gym/multiinput_256/best_model.zip\n"
      ]
     },
     "metadata": {},
     "output_type": "display_data"
    },
    {
     "data": {
      "text/html": [
       "<pre style=\"white-space:pre;overflow-x:auto;line-height:normal;font-family:Menlo,'DejaVu Sans Mono',consolas,'Courier New',monospace\">Num timesteps: 321000\n",
       "</pre>\n"
      ],
      "text/plain": [
       "Num timesteps: 321000\n"
      ]
     },
     "metadata": {},
     "output_type": "display_data"
    },
    {
     "data": {
      "text/html": [
       "<pre style=\"white-space:pre;overflow-x:auto;line-height:normal;font-family:Menlo,'DejaVu Sans Mono',consolas,'Courier New',monospace\">Best mean reward: 66.17 - Last mean reward per episode: 67.26\n",
       "</pre>\n"
      ],
      "text/plain": [
       "Best mean reward: 66.17 - Last mean reward per episode: 67.26\n"
      ]
     },
     "metadata": {},
     "output_type": "display_data"
    },
    {
     "data": {
      "text/html": [
       "<pre style=\"white-space:pre;overflow-x:auto;line-height:normal;font-family:Menlo,'DejaVu Sans Mono',consolas,'Courier New',monospace\">Saving new best model to tmp/gym/multiinput_256/best_model.zip\n",
       "</pre>\n"
      ],
      "text/plain": [
       "Saving new best model to tmp/gym/multiinput_256/best_model.zip\n"
      ]
     },
     "metadata": {},
     "output_type": "display_data"
    },
    {
     "data": {
      "text/html": [
       "<pre style=\"white-space:pre;overflow-x:auto;line-height:normal;font-family:Menlo,'DejaVu Sans Mono',consolas,'Courier New',monospace\">Num timesteps: 322000\n",
       "</pre>\n"
      ],
      "text/plain": [
       "Num timesteps: 322000\n"
      ]
     },
     "metadata": {},
     "output_type": "display_data"
    },
    {
     "data": {
      "text/html": [
       "<pre style=\"white-space:pre;overflow-x:auto;line-height:normal;font-family:Menlo,'DejaVu Sans Mono',consolas,'Courier New',monospace\">Best mean reward: 67.26 - Last mean reward per episode: 68.66\n",
       "</pre>\n"
      ],
      "text/plain": [
       "Best mean reward: 67.26 - Last mean reward per episode: 68.66\n"
      ]
     },
     "metadata": {},
     "output_type": "display_data"
    },
    {
     "data": {
      "text/html": [
       "<pre style=\"white-space:pre;overflow-x:auto;line-height:normal;font-family:Menlo,'DejaVu Sans Mono',consolas,'Courier New',monospace\">Saving new best model to tmp/gym/multiinput_256/best_model.zip\n",
       "</pre>\n"
      ],
      "text/plain": [
       "Saving new best model to tmp/gym/multiinput_256/best_model.zip\n"
      ]
     },
     "metadata": {},
     "output_type": "display_data"
    },
    {
     "data": {
      "text/html": [
       "<pre style=\"white-space:pre;overflow-x:auto;line-height:normal;font-family:Menlo,'DejaVu Sans Mono',consolas,'Courier New',monospace\">Num timesteps: 323000\n",
       "</pre>\n"
      ],
      "text/plain": [
       "Num timesteps: 323000\n"
      ]
     },
     "metadata": {},
     "output_type": "display_data"
    },
    {
     "data": {
      "text/html": [
       "<pre style=\"white-space:pre;overflow-x:auto;line-height:normal;font-family:Menlo,'DejaVu Sans Mono',consolas,'Courier New',monospace\">Best mean reward: 68.66 - Last mean reward per episode: 69.29\n",
       "</pre>\n"
      ],
      "text/plain": [
       "Best mean reward: 68.66 - Last mean reward per episode: 69.29\n"
      ]
     },
     "metadata": {},
     "output_type": "display_data"
    },
    {
     "data": {
      "text/html": [
       "<pre style=\"white-space:pre;overflow-x:auto;line-height:normal;font-family:Menlo,'DejaVu Sans Mono',consolas,'Courier New',monospace\">Saving new best model to tmp/gym/multiinput_256/best_model.zip\n",
       "</pre>\n"
      ],
      "text/plain": [
       "Saving new best model to tmp/gym/multiinput_256/best_model.zip\n"
      ]
     },
     "metadata": {},
     "output_type": "display_data"
    },
    {
     "data": {
      "text/html": [
       "<pre style=\"white-space:pre;overflow-x:auto;line-height:normal;font-family:Menlo,'DejaVu Sans Mono',consolas,'Courier New',monospace\">Num timesteps: 324000\n",
       "</pre>\n"
      ],
      "text/plain": [
       "Num timesteps: 324000\n"
      ]
     },
     "metadata": {},
     "output_type": "display_data"
    },
    {
     "data": {
      "text/html": [
       "<pre style=\"white-space:pre;overflow-x:auto;line-height:normal;font-family:Menlo,'DejaVu Sans Mono',consolas,'Courier New',monospace\">Best mean reward: 69.29 - Last mean reward per episode: 69.60\n",
       "</pre>\n"
      ],
      "text/plain": [
       "Best mean reward: 69.29 - Last mean reward per episode: 69.60\n"
      ]
     },
     "metadata": {},
     "output_type": "display_data"
    },
    {
     "data": {
      "text/html": [
       "<pre style=\"white-space:pre;overflow-x:auto;line-height:normal;font-family:Menlo,'DejaVu Sans Mono',consolas,'Courier New',monospace\">Saving new best model to tmp/gym/multiinput_256/best_model.zip\n",
       "</pre>\n"
      ],
      "text/plain": [
       "Saving new best model to tmp/gym/multiinput_256/best_model.zip\n"
      ]
     },
     "metadata": {},
     "output_type": "display_data"
    },
    {
     "data": {
      "text/html": [
       "<pre style=\"white-space:pre;overflow-x:auto;line-height:normal;font-family:Menlo,'DejaVu Sans Mono',consolas,'Courier New',monospace\">Num timesteps: 325000\n",
       "</pre>\n"
      ],
      "text/plain": [
       "Num timesteps: 325000\n"
      ]
     },
     "metadata": {},
     "output_type": "display_data"
    },
    {
     "data": {
      "text/html": [
       "<pre style=\"white-space:pre;overflow-x:auto;line-height:normal;font-family:Menlo,'DejaVu Sans Mono',consolas,'Courier New',monospace\">Best mean reward: 69.60 - Last mean reward per episode: 70.00\n",
       "</pre>\n"
      ],
      "text/plain": [
       "Best mean reward: 69.60 - Last mean reward per episode: 70.00\n"
      ]
     },
     "metadata": {},
     "output_type": "display_data"
    },
    {
     "data": {
      "text/html": [
       "<pre style=\"white-space:pre;overflow-x:auto;line-height:normal;font-family:Menlo,'DejaVu Sans Mono',consolas,'Courier New',monospace\">Saving new best model to tmp/gym/multiinput_256/best_model.zip\n",
       "</pre>\n"
      ],
      "text/plain": [
       "Saving new best model to tmp/gym/multiinput_256/best_model.zip\n"
      ]
     },
     "metadata": {},
     "output_type": "display_data"
    },
    {
     "data": {
      "text/html": [
       "<pre style=\"white-space:pre;overflow-x:auto;line-height:normal;font-family:Menlo,'DejaVu Sans Mono',consolas,'Courier New',monospace\">Num timesteps: 326000\n",
       "</pre>\n"
      ],
      "text/plain": [
       "Num timesteps: 326000\n"
      ]
     },
     "metadata": {},
     "output_type": "display_data"
    },
    {
     "data": {
      "text/html": [
       "<pre style=\"white-space:pre;overflow-x:auto;line-height:normal;font-family:Menlo,'DejaVu Sans Mono',consolas,'Courier New',monospace\">Best mean reward: 70.00 - Last mean reward per episode: 70.15\n",
       "</pre>\n"
      ],
      "text/plain": [
       "Best mean reward: 70.00 - Last mean reward per episode: 70.15\n"
      ]
     },
     "metadata": {},
     "output_type": "display_data"
    },
    {
     "data": {
      "text/html": [
       "<pre style=\"white-space:pre;overflow-x:auto;line-height:normal;font-family:Menlo,'DejaVu Sans Mono',consolas,'Courier New',monospace\">Saving new best model to tmp/gym/multiinput_256/best_model.zip\n",
       "</pre>\n"
      ],
      "text/plain": [
       "Saving new best model to tmp/gym/multiinput_256/best_model.zip\n"
      ]
     },
     "metadata": {},
     "output_type": "display_data"
    },
    {
     "data": {
      "text/html": [
       "<pre style=\"white-space:pre;overflow-x:auto;line-height:normal;font-family:Menlo,'DejaVu Sans Mono',consolas,'Courier New',monospace\">Num timesteps: 327000\n",
       "</pre>\n"
      ],
      "text/plain": [
       "Num timesteps: 327000\n"
      ]
     },
     "metadata": {},
     "output_type": "display_data"
    },
    {
     "data": {
      "text/html": [
       "<pre style=\"white-space:pre;overflow-x:auto;line-height:normal;font-family:Menlo,'DejaVu Sans Mono',consolas,'Courier New',monospace\">Best mean reward: 70.15 - Last mean reward per episode: 70.82\n",
       "</pre>\n"
      ],
      "text/plain": [
       "Best mean reward: 70.15 - Last mean reward per episode: 70.82\n"
      ]
     },
     "metadata": {},
     "output_type": "display_data"
    },
    {
     "data": {
      "text/html": [
       "<pre style=\"white-space:pre;overflow-x:auto;line-height:normal;font-family:Menlo,'DejaVu Sans Mono',consolas,'Courier New',monospace\">Saving new best model to tmp/gym/multiinput_256/best_model.zip\n",
       "</pre>\n"
      ],
      "text/plain": [
       "Saving new best model to tmp/gym/multiinput_256/best_model.zip\n"
      ]
     },
     "metadata": {},
     "output_type": "display_data"
    },
    {
     "name": "stdout",
     "output_type": "stream",
     "text": [
      "----------------------------------------\n",
      "| rollout/                |            |\n",
      "|    ep_len_mean          | 500        |\n",
      "|    ep_rew_mean          | 71.2       |\n",
      "| time/                   |            |\n",
      "|    fps                  | 88         |\n",
      "|    iterations           | 160        |\n",
      "|    time_elapsed         | 3688       |\n",
      "|    total_timesteps      | 327680     |\n",
      "| train/                  |            |\n",
      "|    approx_kl            | 0.50131917 |\n",
      "|    clip_fraction        | 0.7        |\n",
      "|    clip_range           | 0.2        |\n",
      "|    entropy_loss         | -6.72      |\n",
      "|    explained_variance   | 0.971      |\n",
      "|    learning_rate        | 0.0003     |\n",
      "|    loss                 | -0.0728    |\n",
      "|    n_updates            | 1590       |\n",
      "|    policy_gradient_loss | -0.0651    |\n",
      "|    std                  | 0.631      |\n",
      "|    value_loss           | 0.256      |\n",
      "----------------------------------------\n"
     ]
    },
    {
     "data": {
      "text/html": [
       "<pre style=\"white-space:pre;overflow-x:auto;line-height:normal;font-family:Menlo,'DejaVu Sans Mono',consolas,'Courier New',monospace\">Num timesteps: 328000\n",
       "</pre>\n"
      ],
      "text/plain": [
       "Num timesteps: 328000\n"
      ]
     },
     "metadata": {},
     "output_type": "display_data"
    },
    {
     "data": {
      "text/html": [
       "<pre style=\"white-space:pre;overflow-x:auto;line-height:normal;font-family:Menlo,'DejaVu Sans Mono',consolas,'Courier New',monospace\">Best mean reward: 70.82 - Last mean reward per episode: 71.49\n",
       "</pre>\n"
      ],
      "text/plain": [
       "Best mean reward: 70.82 - Last mean reward per episode: 71.49\n"
      ]
     },
     "metadata": {},
     "output_type": "display_data"
    },
    {
     "data": {
      "text/html": [
       "<pre style=\"white-space:pre;overflow-x:auto;line-height:normal;font-family:Menlo,'DejaVu Sans Mono',consolas,'Courier New',monospace\">Saving new best model to tmp/gym/multiinput_256/best_model.zip\n",
       "</pre>\n"
      ],
      "text/plain": [
       "Saving new best model to tmp/gym/multiinput_256/best_model.zip\n"
      ]
     },
     "metadata": {},
     "output_type": "display_data"
    },
    {
     "data": {
      "text/html": [
       "<pre style=\"white-space:pre;overflow-x:auto;line-height:normal;font-family:Menlo,'DejaVu Sans Mono',consolas,'Courier New',monospace\">Num timesteps: 329000\n",
       "</pre>\n"
      ],
      "text/plain": [
       "Num timesteps: 329000\n"
      ]
     },
     "metadata": {},
     "output_type": "display_data"
    },
    {
     "data": {
      "text/html": [
       "<pre style=\"white-space:pre;overflow-x:auto;line-height:normal;font-family:Menlo,'DejaVu Sans Mono',consolas,'Courier New',monospace\">Best mean reward: 71.49 - Last mean reward per episode: 71.54\n",
       "</pre>\n"
      ],
      "text/plain": [
       "Best mean reward: 71.49 - Last mean reward per episode: 71.54\n"
      ]
     },
     "metadata": {},
     "output_type": "display_data"
    },
    {
     "data": {
      "text/html": [
       "<pre style=\"white-space:pre;overflow-x:auto;line-height:normal;font-family:Menlo,'DejaVu Sans Mono',consolas,'Courier New',monospace\">Saving new best model to tmp/gym/multiinput_256/best_model.zip\n",
       "</pre>\n"
      ],
      "text/plain": [
       "Saving new best model to tmp/gym/multiinput_256/best_model.zip\n"
      ]
     },
     "metadata": {},
     "output_type": "display_data"
    },
    {
     "data": {
      "text/html": [
       "<pre style=\"white-space:pre;overflow-x:auto;line-height:normal;font-family:Menlo,'DejaVu Sans Mono',consolas,'Courier New',monospace\">Num timesteps: 330000\n",
       "</pre>\n"
      ],
      "text/plain": [
       "Num timesteps: 330000\n"
      ]
     },
     "metadata": {},
     "output_type": "display_data"
    },
    {
     "data": {
      "text/html": [
       "<pre style=\"white-space:pre;overflow-x:auto;line-height:normal;font-family:Menlo,'DejaVu Sans Mono',consolas,'Courier New',monospace\">Best mean reward: 71.54 - Last mean reward per episode: 72.78\n",
       "</pre>\n"
      ],
      "text/plain": [
       "Best mean reward: 71.54 - Last mean reward per episode: 72.78\n"
      ]
     },
     "metadata": {},
     "output_type": "display_data"
    },
    {
     "data": {
      "text/html": [
       "<pre style=\"white-space:pre;overflow-x:auto;line-height:normal;font-family:Menlo,'DejaVu Sans Mono',consolas,'Courier New',monospace\">Saving new best model to tmp/gym/multiinput_256/best_model.zip\n",
       "</pre>\n"
      ],
      "text/plain": [
       "Saving new best model to tmp/gym/multiinput_256/best_model.zip\n"
      ]
     },
     "metadata": {},
     "output_type": "display_data"
    },
    {
     "data": {
      "text/html": [
       "<pre style=\"white-space:pre;overflow-x:auto;line-height:normal;font-family:Menlo,'DejaVu Sans Mono',consolas,'Courier New',monospace\">Num timesteps: 331000\n",
       "</pre>\n"
      ],
      "text/plain": [
       "Num timesteps: 331000\n"
      ]
     },
     "metadata": {},
     "output_type": "display_data"
    },
    {
     "data": {
      "text/html": [
       "<pre style=\"white-space:pre;overflow-x:auto;line-height:normal;font-family:Menlo,'DejaVu Sans Mono',consolas,'Courier New',monospace\">Best mean reward: 72.78 - Last mean reward per episode: 74.10\n",
       "</pre>\n"
      ],
      "text/plain": [
       "Best mean reward: 72.78 - Last mean reward per episode: 74.10\n"
      ]
     },
     "metadata": {},
     "output_type": "display_data"
    },
    {
     "data": {
      "text/html": [
       "<pre style=\"white-space:pre;overflow-x:auto;line-height:normal;font-family:Menlo,'DejaVu Sans Mono',consolas,'Courier New',monospace\">Saving new best model to tmp/gym/multiinput_256/best_model.zip\n",
       "</pre>\n"
      ],
      "text/plain": [
       "Saving new best model to tmp/gym/multiinput_256/best_model.zip\n"
      ]
     },
     "metadata": {},
     "output_type": "display_data"
    },
    {
     "data": {
      "text/html": [
       "<pre style=\"white-space:pre;overflow-x:auto;line-height:normal;font-family:Menlo,'DejaVu Sans Mono',consolas,'Courier New',monospace\">Num timesteps: 332000\n",
       "</pre>\n"
      ],
      "text/plain": [
       "Num timesteps: 332000\n"
      ]
     },
     "metadata": {},
     "output_type": "display_data"
    },
    {
     "data": {
      "text/html": [
       "<pre style=\"white-space:pre;overflow-x:auto;line-height:normal;font-family:Menlo,'DejaVu Sans Mono',consolas,'Courier New',monospace\">Best mean reward: 74.10 - Last mean reward per episode: 74.99\n",
       "</pre>\n"
      ],
      "text/plain": [
       "Best mean reward: 74.10 - Last mean reward per episode: 74.99\n"
      ]
     },
     "metadata": {},
     "output_type": "display_data"
    },
    {
     "data": {
      "text/html": [
       "<pre style=\"white-space:pre;overflow-x:auto;line-height:normal;font-family:Menlo,'DejaVu Sans Mono',consolas,'Courier New',monospace\">Saving new best model to tmp/gym/multiinput_256/best_model.zip\n",
       "</pre>\n"
      ],
      "text/plain": [
       "Saving new best model to tmp/gym/multiinput_256/best_model.zip\n"
      ]
     },
     "metadata": {},
     "output_type": "display_data"
    },
    {
     "data": {
      "text/html": [
       "<pre style=\"white-space:pre;overflow-x:auto;line-height:normal;font-family:Menlo,'DejaVu Sans Mono',consolas,'Courier New',monospace\">Num timesteps: 333000\n",
       "</pre>\n"
      ],
      "text/plain": [
       "Num timesteps: 333000\n"
      ]
     },
     "metadata": {},
     "output_type": "display_data"
    },
    {
     "data": {
      "text/html": [
       "<pre style=\"white-space:pre;overflow-x:auto;line-height:normal;font-family:Menlo,'DejaVu Sans Mono',consolas,'Courier New',monospace\">Best mean reward: 74.99 - Last mean reward per episode: 75.11\n",
       "</pre>\n"
      ],
      "text/plain": [
       "Best mean reward: 74.99 - Last mean reward per episode: 75.11\n"
      ]
     },
     "metadata": {},
     "output_type": "display_data"
    },
    {
     "data": {
      "text/html": [
       "<pre style=\"white-space:pre;overflow-x:auto;line-height:normal;font-family:Menlo,'DejaVu Sans Mono',consolas,'Courier New',monospace\">Saving new best model to tmp/gym/multiinput_256/best_model.zip\n",
       "</pre>\n"
      ],
      "text/plain": [
       "Saving new best model to tmp/gym/multiinput_256/best_model.zip\n"
      ]
     },
     "metadata": {},
     "output_type": "display_data"
    },
    {
     "data": {
      "text/html": [
       "<pre style=\"white-space:pre;overflow-x:auto;line-height:normal;font-family:Menlo,'DejaVu Sans Mono',consolas,'Courier New',monospace\">Num timesteps: 334000\n",
       "</pre>\n"
      ],
      "text/plain": [
       "Num timesteps: 334000\n"
      ]
     },
     "metadata": {},
     "output_type": "display_data"
    },
    {
     "data": {
      "text/html": [
       "<pre style=\"white-space:pre;overflow-x:auto;line-height:normal;font-family:Menlo,'DejaVu Sans Mono',consolas,'Courier New',monospace\">Best mean reward: 75.11 - Last mean reward per episode: 75.97\n",
       "</pre>\n"
      ],
      "text/plain": [
       "Best mean reward: 75.11 - Last mean reward per episode: 75.97\n"
      ]
     },
     "metadata": {},
     "output_type": "display_data"
    },
    {
     "data": {
      "text/html": [
       "<pre style=\"white-space:pre;overflow-x:auto;line-height:normal;font-family:Menlo,'DejaVu Sans Mono',consolas,'Courier New',monospace\">Saving new best model to tmp/gym/multiinput_256/best_model.zip\n",
       "</pre>\n"
      ],
      "text/plain": [
       "Saving new best model to tmp/gym/multiinput_256/best_model.zip\n"
      ]
     },
     "metadata": {},
     "output_type": "display_data"
    },
    {
     "data": {
      "text/html": [
       "<pre style=\"white-space:pre;overflow-x:auto;line-height:normal;font-family:Menlo,'DejaVu Sans Mono',consolas,'Courier New',monospace\">Num timesteps: 335000\n",
       "</pre>\n"
      ],
      "text/plain": [
       "Num timesteps: 335000\n"
      ]
     },
     "metadata": {},
     "output_type": "display_data"
    },
    {
     "data": {
      "text/html": [
       "<pre style=\"white-space:pre;overflow-x:auto;line-height:normal;font-family:Menlo,'DejaVu Sans Mono',consolas,'Courier New',monospace\">Best mean reward: 75.97 - Last mean reward per episode: 77.65\n",
       "</pre>\n"
      ],
      "text/plain": [
       "Best mean reward: 75.97 - Last mean reward per episode: 77.65\n"
      ]
     },
     "metadata": {},
     "output_type": "display_data"
    },
    {
     "data": {
      "text/html": [
       "<pre style=\"white-space:pre;overflow-x:auto;line-height:normal;font-family:Menlo,'DejaVu Sans Mono',consolas,'Courier New',monospace\">Saving new best model to tmp/gym/multiinput_256/best_model.zip\n",
       "</pre>\n"
      ],
      "text/plain": [
       "Saving new best model to tmp/gym/multiinput_256/best_model.zip\n"
      ]
     },
     "metadata": {},
     "output_type": "display_data"
    },
    {
     "data": {
      "text/html": [
       "<pre style=\"white-space:pre;overflow-x:auto;line-height:normal;font-family:Menlo,'DejaVu Sans Mono',consolas,'Courier New',monospace\">Num timesteps: 336000\n",
       "</pre>\n"
      ],
      "text/plain": [
       "Num timesteps: 336000\n"
      ]
     },
     "metadata": {},
     "output_type": "display_data"
    },
    {
     "data": {
      "text/html": [
       "<pre style=\"white-space:pre;overflow-x:auto;line-height:normal;font-family:Menlo,'DejaVu Sans Mono',consolas,'Courier New',monospace\">Best mean reward: 77.65 - Last mean reward per episode: 78.87\n",
       "</pre>\n"
      ],
      "text/plain": [
       "Best mean reward: 77.65 - Last mean reward per episode: 78.87\n"
      ]
     },
     "metadata": {},
     "output_type": "display_data"
    },
    {
     "data": {
      "text/html": [
       "<pre style=\"white-space:pre;overflow-x:auto;line-height:normal;font-family:Menlo,'DejaVu Sans Mono',consolas,'Courier New',monospace\">Saving new best model to tmp/gym/multiinput_256/best_model.zip\n",
       "</pre>\n"
      ],
      "text/plain": [
       "Saving new best model to tmp/gym/multiinput_256/best_model.zip\n"
      ]
     },
     "metadata": {},
     "output_type": "display_data"
    },
    {
     "data": {
      "text/html": [
       "<pre style=\"white-space:pre;overflow-x:auto;line-height:normal;font-family:Menlo,'DejaVu Sans Mono',consolas,'Courier New',monospace\">Num timesteps: 337000\n",
       "</pre>\n"
      ],
      "text/plain": [
       "Num timesteps: 337000\n"
      ]
     },
     "metadata": {},
     "output_type": "display_data"
    },
    {
     "data": {
      "text/html": [
       "<pre style=\"white-space:pre;overflow-x:auto;line-height:normal;font-family:Menlo,'DejaVu Sans Mono',consolas,'Courier New',monospace\">Best mean reward: 78.87 - Last mean reward per episode: 79.39\n",
       "</pre>\n"
      ],
      "text/plain": [
       "Best mean reward: 78.87 - Last mean reward per episode: 79.39\n"
      ]
     },
     "metadata": {},
     "output_type": "display_data"
    },
    {
     "data": {
      "text/html": [
       "<pre style=\"white-space:pre;overflow-x:auto;line-height:normal;font-family:Menlo,'DejaVu Sans Mono',consolas,'Courier New',monospace\">Saving new best model to tmp/gym/multiinput_256/best_model.zip\n",
       "</pre>\n"
      ],
      "text/plain": [
       "Saving new best model to tmp/gym/multiinput_256/best_model.zip\n"
      ]
     },
     "metadata": {},
     "output_type": "display_data"
    },
    {
     "data": {
      "text/html": [
       "<pre style=\"white-space:pre;overflow-x:auto;line-height:normal;font-family:Menlo,'DejaVu Sans Mono',consolas,'Courier New',monospace\">Num timesteps: 338000\n",
       "</pre>\n"
      ],
      "text/plain": [
       "Num timesteps: 338000\n"
      ]
     },
     "metadata": {},
     "output_type": "display_data"
    },
    {
     "data": {
      "text/html": [
       "<pre style=\"white-space:pre;overflow-x:auto;line-height:normal;font-family:Menlo,'DejaVu Sans Mono',consolas,'Courier New',monospace\">Best mean reward: 79.39 - Last mean reward per episode: 80.14\n",
       "</pre>\n"
      ],
      "text/plain": [
       "Best mean reward: 79.39 - Last mean reward per episode: 80.14\n"
      ]
     },
     "metadata": {},
     "output_type": "display_data"
    },
    {
     "data": {
      "text/html": [
       "<pre style=\"white-space:pre;overflow-x:auto;line-height:normal;font-family:Menlo,'DejaVu Sans Mono',consolas,'Courier New',monospace\">Saving new best model to tmp/gym/multiinput_256/best_model.zip\n",
       "</pre>\n"
      ],
      "text/plain": [
       "Saving new best model to tmp/gym/multiinput_256/best_model.zip\n"
      ]
     },
     "metadata": {},
     "output_type": "display_data"
    },
    {
     "data": {
      "text/html": [
       "<pre style=\"white-space:pre;overflow-x:auto;line-height:normal;font-family:Menlo,'DejaVu Sans Mono',consolas,'Courier New',monospace\">Num timesteps: 339000\n",
       "</pre>\n"
      ],
      "text/plain": [
       "Num timesteps: 339000\n"
      ]
     },
     "metadata": {},
     "output_type": "display_data"
    },
    {
     "data": {
      "text/html": [
       "<pre style=\"white-space:pre;overflow-x:auto;line-height:normal;font-family:Menlo,'DejaVu Sans Mono',consolas,'Courier New',monospace\">Best mean reward: 80.14 - Last mean reward per episode: 80.84\n",
       "</pre>\n"
      ],
      "text/plain": [
       "Best mean reward: 80.14 - Last mean reward per episode: 80.84\n"
      ]
     },
     "metadata": {},
     "output_type": "display_data"
    },
    {
     "data": {
      "text/html": [
       "<pre style=\"white-space:pre;overflow-x:auto;line-height:normal;font-family:Menlo,'DejaVu Sans Mono',consolas,'Courier New',monospace\">Saving new best model to tmp/gym/multiinput_256/best_model.zip\n",
       "</pre>\n"
      ],
      "text/plain": [
       "Saving new best model to tmp/gym/multiinput_256/best_model.zip\n"
      ]
     },
     "metadata": {},
     "output_type": "display_data"
    },
    {
     "data": {
      "text/html": [
       "<pre style=\"white-space:pre;overflow-x:auto;line-height:normal;font-family:Menlo,'DejaVu Sans Mono',consolas,'Courier New',monospace\">Num timesteps: 340000\n",
       "</pre>\n"
      ],
      "text/plain": [
       "Num timesteps: 340000\n"
      ]
     },
     "metadata": {},
     "output_type": "display_data"
    },
    {
     "data": {
      "text/html": [
       "<pre style=\"white-space:pre;overflow-x:auto;line-height:normal;font-family:Menlo,'DejaVu Sans Mono',consolas,'Courier New',monospace\">Best mean reward: 80.84 - Last mean reward per episode: 82.15\n",
       "</pre>\n"
      ],
      "text/plain": [
       "Best mean reward: 80.84 - Last mean reward per episode: 82.15\n"
      ]
     },
     "metadata": {},
     "output_type": "display_data"
    },
    {
     "data": {
      "text/html": [
       "<pre style=\"white-space:pre;overflow-x:auto;line-height:normal;font-family:Menlo,'DejaVu Sans Mono',consolas,'Courier New',monospace\">Saving new best model to tmp/gym/multiinput_256/best_model.zip\n",
       "</pre>\n"
      ],
      "text/plain": [
       "Saving new best model to tmp/gym/multiinput_256/best_model.zip\n"
      ]
     },
     "metadata": {},
     "output_type": "display_data"
    },
    {
     "data": {
      "text/html": [
       "<pre style=\"white-space:pre;overflow-x:auto;line-height:normal;font-family:Menlo,'DejaVu Sans Mono',consolas,'Courier New',monospace\">Num timesteps: 341000\n",
       "</pre>\n"
      ],
      "text/plain": [
       "Num timesteps: 341000\n"
      ]
     },
     "metadata": {},
     "output_type": "display_data"
    },
    {
     "data": {
      "text/html": [
       "<pre style=\"white-space:pre;overflow-x:auto;line-height:normal;font-family:Menlo,'DejaVu Sans Mono',consolas,'Courier New',monospace\">Best mean reward: 82.15 - Last mean reward per episode: 82.79\n",
       "</pre>\n"
      ],
      "text/plain": [
       "Best mean reward: 82.15 - Last mean reward per episode: 82.79\n"
      ]
     },
     "metadata": {},
     "output_type": "display_data"
    },
    {
     "data": {
      "text/html": [
       "<pre style=\"white-space:pre;overflow-x:auto;line-height:normal;font-family:Menlo,'DejaVu Sans Mono',consolas,'Courier New',monospace\">Saving new best model to tmp/gym/multiinput_256/best_model.zip\n",
       "</pre>\n"
      ],
      "text/plain": [
       "Saving new best model to tmp/gym/multiinput_256/best_model.zip\n"
      ]
     },
     "metadata": {},
     "output_type": "display_data"
    },
    {
     "data": {
      "text/html": [
       "<pre style=\"white-space:pre;overflow-x:auto;line-height:normal;font-family:Menlo,'DejaVu Sans Mono',consolas,'Courier New',monospace\">Num timesteps: 342000\n",
       "</pre>\n"
      ],
      "text/plain": [
       "Num timesteps: 342000\n"
      ]
     },
     "metadata": {},
     "output_type": "display_data"
    },
    {
     "data": {
      "text/html": [
       "<pre style=\"white-space:pre;overflow-x:auto;line-height:normal;font-family:Menlo,'DejaVu Sans Mono',consolas,'Courier New',monospace\">Best mean reward: 82.79 - Last mean reward per episode: 83.59\n",
       "</pre>\n"
      ],
      "text/plain": [
       "Best mean reward: 82.79 - Last mean reward per episode: 83.59\n"
      ]
     },
     "metadata": {},
     "output_type": "display_data"
    },
    {
     "data": {
      "text/html": [
       "<pre style=\"white-space:pre;overflow-x:auto;line-height:normal;font-family:Menlo,'DejaVu Sans Mono',consolas,'Courier New',monospace\">Saving new best model to tmp/gym/multiinput_256/best_model.zip\n",
       "</pre>\n"
      ],
      "text/plain": [
       "Saving new best model to tmp/gym/multiinput_256/best_model.zip\n"
      ]
     },
     "metadata": {},
     "output_type": "display_data"
    },
    {
     "data": {
      "text/html": [
       "<pre style=\"white-space:pre;overflow-x:auto;line-height:normal;font-family:Menlo,'DejaVu Sans Mono',consolas,'Courier New',monospace\">Num timesteps: 343000\n",
       "</pre>\n"
      ],
      "text/plain": [
       "Num timesteps: 343000\n"
      ]
     },
     "metadata": {},
     "output_type": "display_data"
    },
    {
     "data": {
      "text/html": [
       "<pre style=\"white-space:pre;overflow-x:auto;line-height:normal;font-family:Menlo,'DejaVu Sans Mono',consolas,'Courier New',monospace\">Best mean reward: 83.59 - Last mean reward per episode: 83.73\n",
       "</pre>\n"
      ],
      "text/plain": [
       "Best mean reward: 83.59 - Last mean reward per episode: 83.73\n"
      ]
     },
     "metadata": {},
     "output_type": "display_data"
    },
    {
     "data": {
      "text/html": [
       "<pre style=\"white-space:pre;overflow-x:auto;line-height:normal;font-family:Menlo,'DejaVu Sans Mono',consolas,'Courier New',monospace\">Saving new best model to tmp/gym/multiinput_256/best_model.zip\n",
       "</pre>\n"
      ],
      "text/plain": [
       "Saving new best model to tmp/gym/multiinput_256/best_model.zip\n"
      ]
     },
     "metadata": {},
     "output_type": "display_data"
    },
    {
     "data": {
      "text/html": [
       "<pre style=\"white-space:pre;overflow-x:auto;line-height:normal;font-family:Menlo,'DejaVu Sans Mono',consolas,'Courier New',monospace\">Num timesteps: 344000\n",
       "</pre>\n"
      ],
      "text/plain": [
       "Num timesteps: 344000\n"
      ]
     },
     "metadata": {},
     "output_type": "display_data"
    },
    {
     "data": {
      "text/html": [
       "<pre style=\"white-space:pre;overflow-x:auto;line-height:normal;font-family:Menlo,'DejaVu Sans Mono',consolas,'Courier New',monospace\">Best mean reward: 83.73 - Last mean reward per episode: 83.13\n",
       "</pre>\n"
      ],
      "text/plain": [
       "Best mean reward: 83.73 - Last mean reward per episode: 83.13\n"
      ]
     },
     "metadata": {},
     "output_type": "display_data"
    },
    {
     "data": {
      "text/html": [
       "<pre style=\"white-space:pre;overflow-x:auto;line-height:normal;font-family:Menlo,'DejaVu Sans Mono',consolas,'Courier New',monospace\">Num timesteps: 345000\n",
       "</pre>\n"
      ],
      "text/plain": [
       "Num timesteps: 345000\n"
      ]
     },
     "metadata": {},
     "output_type": "display_data"
    },
    {
     "data": {
      "text/html": [
       "<pre style=\"white-space:pre;overflow-x:auto;line-height:normal;font-family:Menlo,'DejaVu Sans Mono',consolas,'Courier New',monospace\">Best mean reward: 83.73 - Last mean reward per episode: 82.01\n",
       "</pre>\n"
      ],
      "text/plain": [
       "Best mean reward: 83.73 - Last mean reward per episode: 82.01\n"
      ]
     },
     "metadata": {},
     "output_type": "display_data"
    },
    {
     "data": {
      "text/html": [
       "<pre style=\"white-space:pre;overflow-x:auto;line-height:normal;font-family:Menlo,'DejaVu Sans Mono',consolas,'Courier New',monospace\">Num timesteps: 346000\n",
       "</pre>\n"
      ],
      "text/plain": [
       "Num timesteps: 346000\n"
      ]
     },
     "metadata": {},
     "output_type": "display_data"
    },
    {
     "data": {
      "text/html": [
       "<pre style=\"white-space:pre;overflow-x:auto;line-height:normal;font-family:Menlo,'DejaVu Sans Mono',consolas,'Courier New',monospace\">Best mean reward: 83.73 - Last mean reward per episode: 81.16\n",
       "</pre>\n"
      ],
      "text/plain": [
       "Best mean reward: 83.73 - Last mean reward per episode: 81.16\n"
      ]
     },
     "metadata": {},
     "output_type": "display_data"
    },
    {
     "data": {
      "text/html": [
       "<pre style=\"white-space:pre;overflow-x:auto;line-height:normal;font-family:Menlo,'DejaVu Sans Mono',consolas,'Courier New',monospace\">Num timesteps: 347000\n",
       "</pre>\n"
      ],
      "text/plain": [
       "Num timesteps: 347000\n"
      ]
     },
     "metadata": {},
     "output_type": "display_data"
    },
    {
     "data": {
      "text/html": [
       "<pre style=\"white-space:pre;overflow-x:auto;line-height:normal;font-family:Menlo,'DejaVu Sans Mono',consolas,'Courier New',monospace\">Best mean reward: 83.73 - Last mean reward per episode: 79.99\n",
       "</pre>\n"
      ],
      "text/plain": [
       "Best mean reward: 83.73 - Last mean reward per episode: 79.99\n"
      ]
     },
     "metadata": {},
     "output_type": "display_data"
    },
    {
     "data": {
      "text/html": [
       "<pre style=\"white-space:pre;overflow-x:auto;line-height:normal;font-family:Menlo,'DejaVu Sans Mono',consolas,'Courier New',monospace\">Num timesteps: 348000\n",
       "</pre>\n"
      ],
      "text/plain": [
       "Num timesteps: 348000\n"
      ]
     },
     "metadata": {},
     "output_type": "display_data"
    },
    {
     "data": {
      "text/html": [
       "<pre style=\"white-space:pre;overflow-x:auto;line-height:normal;font-family:Menlo,'DejaVu Sans Mono',consolas,'Courier New',monospace\">Best mean reward: 83.73 - Last mean reward per episode: 79.05\n",
       "</pre>\n"
      ],
      "text/plain": [
       "Best mean reward: 83.73 - Last mean reward per episode: 79.05\n"
      ]
     },
     "metadata": {},
     "output_type": "display_data"
    },
    {
     "name": "stdout",
     "output_type": "stream",
     "text": [
      "----------------------------------------\n",
      "| rollout/                |            |\n",
      "|    ep_len_mean          | 500        |\n",
      "|    ep_rew_mean          | 79         |\n",
      "| time/                   |            |\n",
      "|    fps                  | 88         |\n",
      "|    iterations           | 170        |\n",
      "|    time_elapsed         | 3917       |\n",
      "|    total_timesteps      | 348160     |\n",
      "| train/                  |            |\n",
      "|    approx_kl            | 0.49974716 |\n",
      "|    clip_fraction        | 0.661      |\n",
      "|    clip_range           | 0.2        |\n",
      "|    entropy_loss         | -6.52      |\n",
      "|    explained_variance   | 0.927      |\n",
      "|    learning_rate        | 0.0003     |\n",
      "|    loss                 | -0.0785    |\n",
      "|    n_updates            | 1690       |\n",
      "|    policy_gradient_loss | -0.0657    |\n",
      "|    std                  | 0.614      |\n",
      "|    value_loss           | 0.262      |\n",
      "----------------------------------------\n"
     ]
    },
    {
     "data": {
      "text/html": [
       "<pre style=\"white-space:pre;overflow-x:auto;line-height:normal;font-family:Menlo,'DejaVu Sans Mono',consolas,'Courier New',monospace\">Num timesteps: 349000\n",
       "</pre>\n"
      ],
      "text/plain": [
       "Num timesteps: 349000\n"
      ]
     },
     "metadata": {},
     "output_type": "display_data"
    },
    {
     "data": {
      "text/html": [
       "<pre style=\"white-space:pre;overflow-x:auto;line-height:normal;font-family:Menlo,'DejaVu Sans Mono',consolas,'Courier New',monospace\">Best mean reward: 83.73 - Last mean reward per episode: 79.03\n",
       "</pre>\n"
      ],
      "text/plain": [
       "Best mean reward: 83.73 - Last mean reward per episode: 79.03\n"
      ]
     },
     "metadata": {},
     "output_type": "display_data"
    },
    {
     "data": {
      "text/html": [
       "<pre style=\"white-space:pre;overflow-x:auto;line-height:normal;font-family:Menlo,'DejaVu Sans Mono',consolas,'Courier New',monospace\">Num timesteps: 350000\n",
       "</pre>\n"
      ],
      "text/plain": [
       "Num timesteps: 350000\n"
      ]
     },
     "metadata": {},
     "output_type": "display_data"
    },
    {
     "data": {
      "text/html": [
       "<pre style=\"white-space:pre;overflow-x:auto;line-height:normal;font-family:Menlo,'DejaVu Sans Mono',consolas,'Courier New',monospace\">Best mean reward: 83.73 - Last mean reward per episode: 78.57\n",
       "</pre>\n"
      ],
      "text/plain": [
       "Best mean reward: 83.73 - Last mean reward per episode: 78.57\n"
      ]
     },
     "metadata": {},
     "output_type": "display_data"
    },
    {
     "data": {
      "text/html": [
       "<pre style=\"white-space:pre;overflow-x:auto;line-height:normal;font-family:Menlo,'DejaVu Sans Mono',consolas,'Courier New',monospace\">Num timesteps: 351000\n",
       "</pre>\n"
      ],
      "text/plain": [
       "Num timesteps: 351000\n"
      ]
     },
     "metadata": {},
     "output_type": "display_data"
    },
    {
     "data": {
      "text/html": [
       "<pre style=\"white-space:pre;overflow-x:auto;line-height:normal;font-family:Menlo,'DejaVu Sans Mono',consolas,'Courier New',monospace\">Best mean reward: 83.73 - Last mean reward per episode: 78.42\n",
       "</pre>\n"
      ],
      "text/plain": [
       "Best mean reward: 83.73 - Last mean reward per episode: 78.42\n"
      ]
     },
     "metadata": {},
     "output_type": "display_data"
    },
    {
     "data": {
      "text/html": [
       "<pre style=\"white-space:pre;overflow-x:auto;line-height:normal;font-family:Menlo,'DejaVu Sans Mono',consolas,'Courier New',monospace\">Num timesteps: 352000\n",
       "</pre>\n"
      ],
      "text/plain": [
       "Num timesteps: 352000\n"
      ]
     },
     "metadata": {},
     "output_type": "display_data"
    },
    {
     "data": {
      "text/html": [
       "<pre style=\"white-space:pre;overflow-x:auto;line-height:normal;font-family:Menlo,'DejaVu Sans Mono',consolas,'Courier New',monospace\">Best mean reward: 83.73 - Last mean reward per episode: 77.51\n",
       "</pre>\n"
      ],
      "text/plain": [
       "Best mean reward: 83.73 - Last mean reward per episode: 77.51\n"
      ]
     },
     "metadata": {},
     "output_type": "display_data"
    },
    {
     "data": {
      "text/html": [
       "<pre style=\"white-space:pre;overflow-x:auto;line-height:normal;font-family:Menlo,'DejaVu Sans Mono',consolas,'Courier New',monospace\">Num timesteps: 353000\n",
       "</pre>\n"
      ],
      "text/plain": [
       "Num timesteps: 353000\n"
      ]
     },
     "metadata": {},
     "output_type": "display_data"
    },
    {
     "data": {
      "text/html": [
       "<pre style=\"white-space:pre;overflow-x:auto;line-height:normal;font-family:Menlo,'DejaVu Sans Mono',consolas,'Courier New',monospace\">Best mean reward: 83.73 - Last mean reward per episode: 77.85\n",
       "</pre>\n"
      ],
      "text/plain": [
       "Best mean reward: 83.73 - Last mean reward per episode: 77.85\n"
      ]
     },
     "metadata": {},
     "output_type": "display_data"
    },
    {
     "data": {
      "text/html": [
       "<pre style=\"white-space:pre;overflow-x:auto;line-height:normal;font-family:Menlo,'DejaVu Sans Mono',consolas,'Courier New',monospace\">Num timesteps: 354000\n",
       "</pre>\n"
      ],
      "text/plain": [
       "Num timesteps: 354000\n"
      ]
     },
     "metadata": {},
     "output_type": "display_data"
    },
    {
     "data": {
      "text/html": [
       "<pre style=\"white-space:pre;overflow-x:auto;line-height:normal;font-family:Menlo,'DejaVu Sans Mono',consolas,'Courier New',monospace\">Best mean reward: 83.73 - Last mean reward per episode: 77.38\n",
       "</pre>\n"
      ],
      "text/plain": [
       "Best mean reward: 83.73 - Last mean reward per episode: 77.38\n"
      ]
     },
     "metadata": {},
     "output_type": "display_data"
    },
    {
     "data": {
      "text/html": [
       "<pre style=\"white-space:pre;overflow-x:auto;line-height:normal;font-family:Menlo,'DejaVu Sans Mono',consolas,'Courier New',monospace\">Num timesteps: 355000\n",
       "</pre>\n"
      ],
      "text/plain": [
       "Num timesteps: 355000\n"
      ]
     },
     "metadata": {},
     "output_type": "display_data"
    },
    {
     "data": {
      "text/html": [
       "<pre style=\"white-space:pre;overflow-x:auto;line-height:normal;font-family:Menlo,'DejaVu Sans Mono',consolas,'Courier New',monospace\">Best mean reward: 83.73 - Last mean reward per episode: 76.45\n",
       "</pre>\n"
      ],
      "text/plain": [
       "Best mean reward: 83.73 - Last mean reward per episode: 76.45\n"
      ]
     },
     "metadata": {},
     "output_type": "display_data"
    },
    {
     "data": {
      "text/html": [
       "<pre style=\"white-space:pre;overflow-x:auto;line-height:normal;font-family:Menlo,'DejaVu Sans Mono',consolas,'Courier New',monospace\">Num timesteps: 356000\n",
       "</pre>\n"
      ],
      "text/plain": [
       "Num timesteps: 356000\n"
      ]
     },
     "metadata": {},
     "output_type": "display_data"
    },
    {
     "data": {
      "text/html": [
       "<pre style=\"white-space:pre;overflow-x:auto;line-height:normal;font-family:Menlo,'DejaVu Sans Mono',consolas,'Courier New',monospace\">Best mean reward: 83.73 - Last mean reward per episode: 75.83\n",
       "</pre>\n"
      ],
      "text/plain": [
       "Best mean reward: 83.73 - Last mean reward per episode: 75.83\n"
      ]
     },
     "metadata": {},
     "output_type": "display_data"
    },
    {
     "data": {
      "text/html": [
       "<pre style=\"white-space:pre;overflow-x:auto;line-height:normal;font-family:Menlo,'DejaVu Sans Mono',consolas,'Courier New',monospace\">Num timesteps: 357000\n",
       "</pre>\n"
      ],
      "text/plain": [
       "Num timesteps: 357000\n"
      ]
     },
     "metadata": {},
     "output_type": "display_data"
    },
    {
     "data": {
      "text/html": [
       "<pre style=\"white-space:pre;overflow-x:auto;line-height:normal;font-family:Menlo,'DejaVu Sans Mono',consolas,'Courier New',monospace\">Best mean reward: 83.73 - Last mean reward per episode: 75.44\n",
       "</pre>\n"
      ],
      "text/plain": [
       "Best mean reward: 83.73 - Last mean reward per episode: 75.44\n"
      ]
     },
     "metadata": {},
     "output_type": "display_data"
    },
    {
     "data": {
      "text/html": [
       "<pre style=\"white-space:pre;overflow-x:auto;line-height:normal;font-family:Menlo,'DejaVu Sans Mono',consolas,'Courier New',monospace\">Num timesteps: 358000\n",
       "</pre>\n"
      ],
      "text/plain": [
       "Num timesteps: 358000\n"
      ]
     },
     "metadata": {},
     "output_type": "display_data"
    },
    {
     "data": {
      "text/html": [
       "<pre style=\"white-space:pre;overflow-x:auto;line-height:normal;font-family:Menlo,'DejaVu Sans Mono',consolas,'Courier New',monospace\">Best mean reward: 83.73 - Last mean reward per episode: 74.89\n",
       "</pre>\n"
      ],
      "text/plain": [
       "Best mean reward: 83.73 - Last mean reward per episode: 74.89\n"
      ]
     },
     "metadata": {},
     "output_type": "display_data"
    },
    {
     "data": {
      "text/html": [
       "<pre style=\"white-space:pre;overflow-x:auto;line-height:normal;font-family:Menlo,'DejaVu Sans Mono',consolas,'Courier New',monospace\">Num timesteps: 359000\n",
       "</pre>\n"
      ],
      "text/plain": [
       "Num timesteps: 359000\n"
      ]
     },
     "metadata": {},
     "output_type": "display_data"
    },
    {
     "data": {
      "text/html": [
       "<pre style=\"white-space:pre;overflow-x:auto;line-height:normal;font-family:Menlo,'DejaVu Sans Mono',consolas,'Courier New',monospace\">Best mean reward: 83.73 - Last mean reward per episode: 74.54\n",
       "</pre>\n"
      ],
      "text/plain": [
       "Best mean reward: 83.73 - Last mean reward per episode: 74.54\n"
      ]
     },
     "metadata": {},
     "output_type": "display_data"
    },
    {
     "data": {
      "text/html": [
       "<pre style=\"white-space:pre;overflow-x:auto;line-height:normal;font-family:Menlo,'DejaVu Sans Mono',consolas,'Courier New',monospace\">Num timesteps: 360000\n",
       "</pre>\n"
      ],
      "text/plain": [
       "Num timesteps: 360000\n"
      ]
     },
     "metadata": {},
     "output_type": "display_data"
    },
    {
     "data": {
      "text/html": [
       "<pre style=\"white-space:pre;overflow-x:auto;line-height:normal;font-family:Menlo,'DejaVu Sans Mono',consolas,'Courier New',monospace\">Best mean reward: 83.73 - Last mean reward per episode: 74.60\n",
       "</pre>\n"
      ],
      "text/plain": [
       "Best mean reward: 83.73 - Last mean reward per episode: 74.60\n"
      ]
     },
     "metadata": {},
     "output_type": "display_data"
    },
    {
     "data": {
      "text/html": [
       "<pre style=\"white-space:pre;overflow-x:auto;line-height:normal;font-family:Menlo,'DejaVu Sans Mono',consolas,'Courier New',monospace\">Num timesteps: 361000\n",
       "</pre>\n"
      ],
      "text/plain": [
       "Num timesteps: 361000\n"
      ]
     },
     "metadata": {},
     "output_type": "display_data"
    },
    {
     "data": {
      "text/html": [
       "<pre style=\"white-space:pre;overflow-x:auto;line-height:normal;font-family:Menlo,'DejaVu Sans Mono',consolas,'Courier New',monospace\">Best mean reward: 83.73 - Last mean reward per episode: 75.04\n",
       "</pre>\n"
      ],
      "text/plain": [
       "Best mean reward: 83.73 - Last mean reward per episode: 75.04\n"
      ]
     },
     "metadata": {},
     "output_type": "display_data"
    },
    {
     "data": {
      "text/html": [
       "<pre style=\"white-space:pre;overflow-x:auto;line-height:normal;font-family:Menlo,'DejaVu Sans Mono',consolas,'Courier New',monospace\">Num timesteps: 362000\n",
       "</pre>\n"
      ],
      "text/plain": [
       "Num timesteps: 362000\n"
      ]
     },
     "metadata": {},
     "output_type": "display_data"
    },
    {
     "data": {
      "text/html": [
       "<pre style=\"white-space:pre;overflow-x:auto;line-height:normal;font-family:Menlo,'DejaVu Sans Mono',consolas,'Courier New',monospace\">Best mean reward: 83.73 - Last mean reward per episode: 74.87\n",
       "</pre>\n"
      ],
      "text/plain": [
       "Best mean reward: 83.73 - Last mean reward per episode: 74.87\n"
      ]
     },
     "metadata": {},
     "output_type": "display_data"
    },
    {
     "data": {
      "text/html": [
       "<pre style=\"white-space:pre;overflow-x:auto;line-height:normal;font-family:Menlo,'DejaVu Sans Mono',consolas,'Courier New',monospace\">Num timesteps: 363000\n",
       "</pre>\n"
      ],
      "text/plain": [
       "Num timesteps: 363000\n"
      ]
     },
     "metadata": {},
     "output_type": "display_data"
    },
    {
     "data": {
      "text/html": [
       "<pre style=\"white-space:pre;overflow-x:auto;line-height:normal;font-family:Menlo,'DejaVu Sans Mono',consolas,'Courier New',monospace\">Best mean reward: 83.73 - Last mean reward per episode: 74.90\n",
       "</pre>\n"
      ],
      "text/plain": [
       "Best mean reward: 83.73 - Last mean reward per episode: 74.90\n"
      ]
     },
     "metadata": {},
     "output_type": "display_data"
    },
    {
     "data": {
      "text/html": [
       "<pre style=\"white-space:pre;overflow-x:auto;line-height:normal;font-family:Menlo,'DejaVu Sans Mono',consolas,'Courier New',monospace\">Num timesteps: 364000\n",
       "</pre>\n"
      ],
      "text/plain": [
       "Num timesteps: 364000\n"
      ]
     },
     "metadata": {},
     "output_type": "display_data"
    },
    {
     "data": {
      "text/html": [
       "<pre style=\"white-space:pre;overflow-x:auto;line-height:normal;font-family:Menlo,'DejaVu Sans Mono',consolas,'Courier New',monospace\">Best mean reward: 83.73 - Last mean reward per episode: 75.09\n",
       "</pre>\n"
      ],
      "text/plain": [
       "Best mean reward: 83.73 - Last mean reward per episode: 75.09\n"
      ]
     },
     "metadata": {},
     "output_type": "display_data"
    },
    {
     "data": {
      "text/html": [
       "<pre style=\"white-space:pre;overflow-x:auto;line-height:normal;font-family:Menlo,'DejaVu Sans Mono',consolas,'Courier New',monospace\">Num timesteps: 365000\n",
       "</pre>\n"
      ],
      "text/plain": [
       "Num timesteps: 365000\n"
      ]
     },
     "metadata": {},
     "output_type": "display_data"
    },
    {
     "data": {
      "text/html": [
       "<pre style=\"white-space:pre;overflow-x:auto;line-height:normal;font-family:Menlo,'DejaVu Sans Mono',consolas,'Courier New',monospace\">Best mean reward: 83.73 - Last mean reward per episode: 74.89\n",
       "</pre>\n"
      ],
      "text/plain": [
       "Best mean reward: 83.73 - Last mean reward per episode: 74.89\n"
      ]
     },
     "metadata": {},
     "output_type": "display_data"
    },
    {
     "data": {
      "text/html": [
       "<pre style=\"white-space:pre;overflow-x:auto;line-height:normal;font-family:Menlo,'DejaVu Sans Mono',consolas,'Courier New',monospace\">Num timesteps: 366000\n",
       "</pre>\n"
      ],
      "text/plain": [
       "Num timesteps: 366000\n"
      ]
     },
     "metadata": {},
     "output_type": "display_data"
    },
    {
     "data": {
      "text/html": [
       "<pre style=\"white-space:pre;overflow-x:auto;line-height:normal;font-family:Menlo,'DejaVu Sans Mono',consolas,'Courier New',monospace\">Best mean reward: 83.73 - Last mean reward per episode: 75.33\n",
       "</pre>\n"
      ],
      "text/plain": [
       "Best mean reward: 83.73 - Last mean reward per episode: 75.33\n"
      ]
     },
     "metadata": {},
     "output_type": "display_data"
    },
    {
     "data": {
      "text/html": [
       "<pre style=\"white-space:pre;overflow-x:auto;line-height:normal;font-family:Menlo,'DejaVu Sans Mono',consolas,'Courier New',monospace\">Num timesteps: 367000\n",
       "</pre>\n"
      ],
      "text/plain": [
       "Num timesteps: 367000\n"
      ]
     },
     "metadata": {},
     "output_type": "display_data"
    },
    {
     "data": {
      "text/html": [
       "<pre style=\"white-space:pre;overflow-x:auto;line-height:normal;font-family:Menlo,'DejaVu Sans Mono',consolas,'Courier New',monospace\">Best mean reward: 83.73 - Last mean reward per episode: 74.40\n",
       "</pre>\n"
      ],
      "text/plain": [
       "Best mean reward: 83.73 - Last mean reward per episode: 74.40\n"
      ]
     },
     "metadata": {},
     "output_type": "display_data"
    },
    {
     "data": {
      "text/html": [
       "<pre style=\"white-space:pre;overflow-x:auto;line-height:normal;font-family:Menlo,'DejaVu Sans Mono',consolas,'Courier New',monospace\">Num timesteps: 368000\n",
       "</pre>\n"
      ],
      "text/plain": [
       "Num timesteps: 368000\n"
      ]
     },
     "metadata": {},
     "output_type": "display_data"
    },
    {
     "data": {
      "text/html": [
       "<pre style=\"white-space:pre;overflow-x:auto;line-height:normal;font-family:Menlo,'DejaVu Sans Mono',consolas,'Courier New',monospace\">Best mean reward: 83.73 - Last mean reward per episode: 74.10\n",
       "</pre>\n"
      ],
      "text/plain": [
       "Best mean reward: 83.73 - Last mean reward per episode: 74.10\n"
      ]
     },
     "metadata": {},
     "output_type": "display_data"
    },
    {
     "name": "stdout",
     "output_type": "stream",
     "text": [
      "----------------------------------------\n",
      "| rollout/                |            |\n",
      "|    ep_len_mean          | 500        |\n",
      "|    ep_rew_mean          | 74.3       |\n",
      "| time/                   |            |\n",
      "|    fps                  | 89         |\n",
      "|    iterations           | 180        |\n",
      "|    time_elapsed         | 4137       |\n",
      "|    total_timesteps      | 368640     |\n",
      "| train/                  |            |\n",
      "|    approx_kl            | 0.36858672 |\n",
      "|    clip_fraction        | 0.678      |\n",
      "|    clip_range           | 0.2        |\n",
      "|    entropy_loss         | -6.25      |\n",
      "|    explained_variance   | 0.912      |\n",
      "|    learning_rate        | 0.0003     |\n",
      "|    loss                 | -0.0725    |\n",
      "|    n_updates            | 1790       |\n",
      "|    policy_gradient_loss | -0.0589    |\n",
      "|    std                  | 0.592      |\n",
      "|    value_loss           | 0.556      |\n",
      "----------------------------------------\n"
     ]
    },
    {
     "data": {
      "text/html": [
       "<pre style=\"white-space:pre;overflow-x:auto;line-height:normal;font-family:Menlo,'DejaVu Sans Mono',consolas,'Courier New',monospace\">Num timesteps: 369000\n",
       "</pre>\n"
      ],
      "text/plain": [
       "Num timesteps: 369000\n"
      ]
     },
     "metadata": {},
     "output_type": "display_data"
    },
    {
     "data": {
      "text/html": [
       "<pre style=\"white-space:pre;overflow-x:auto;line-height:normal;font-family:Menlo,'DejaVu Sans Mono',consolas,'Courier New',monospace\">Best mean reward: 83.73 - Last mean reward per episode: 74.62\n",
       "</pre>\n"
      ],
      "text/plain": [
       "Best mean reward: 83.73 - Last mean reward per episode: 74.62\n"
      ]
     },
     "metadata": {},
     "output_type": "display_data"
    },
    {
     "data": {
      "text/html": [
       "<pre style=\"white-space:pre;overflow-x:auto;line-height:normal;font-family:Menlo,'DejaVu Sans Mono',consolas,'Courier New',monospace\">Num timesteps: 370000\n",
       "</pre>\n"
      ],
      "text/plain": [
       "Num timesteps: 370000\n"
      ]
     },
     "metadata": {},
     "output_type": "display_data"
    },
    {
     "data": {
      "text/html": [
       "<pre style=\"white-space:pre;overflow-x:auto;line-height:normal;font-family:Menlo,'DejaVu Sans Mono',consolas,'Courier New',monospace\">Best mean reward: 83.73 - Last mean reward per episode: 75.31\n",
       "</pre>\n"
      ],
      "text/plain": [
       "Best mean reward: 83.73 - Last mean reward per episode: 75.31\n"
      ]
     },
     "metadata": {},
     "output_type": "display_data"
    },
    {
     "data": {
      "text/html": [
       "<pre style=\"white-space:pre;overflow-x:auto;line-height:normal;font-family:Menlo,'DejaVu Sans Mono',consolas,'Courier New',monospace\">Num timesteps: 371000\n",
       "</pre>\n"
      ],
      "text/plain": [
       "Num timesteps: 371000\n"
      ]
     },
     "metadata": {},
     "output_type": "display_data"
    },
    {
     "data": {
      "text/html": [
       "<pre style=\"white-space:pre;overflow-x:auto;line-height:normal;font-family:Menlo,'DejaVu Sans Mono',consolas,'Courier New',monospace\">Best mean reward: 83.73 - Last mean reward per episode: 74.13\n",
       "</pre>\n"
      ],
      "text/plain": [
       "Best mean reward: 83.73 - Last mean reward per episode: 74.13\n"
      ]
     },
     "metadata": {},
     "output_type": "display_data"
    },
    {
     "data": {
      "text/html": [
       "<pre style=\"white-space:pre;overflow-x:auto;line-height:normal;font-family:Menlo,'DejaVu Sans Mono',consolas,'Courier New',monospace\">Num timesteps: 372000\n",
       "</pre>\n"
      ],
      "text/plain": [
       "Num timesteps: 372000\n"
      ]
     },
     "metadata": {},
     "output_type": "display_data"
    },
    {
     "data": {
      "text/html": [
       "<pre style=\"white-space:pre;overflow-x:auto;line-height:normal;font-family:Menlo,'DejaVu Sans Mono',consolas,'Courier New',monospace\">Best mean reward: 83.73 - Last mean reward per episode: 73.92\n",
       "</pre>\n"
      ],
      "text/plain": [
       "Best mean reward: 83.73 - Last mean reward per episode: 73.92\n"
      ]
     },
     "metadata": {},
     "output_type": "display_data"
    },
    {
     "data": {
      "text/html": [
       "<pre style=\"white-space:pre;overflow-x:auto;line-height:normal;font-family:Menlo,'DejaVu Sans Mono',consolas,'Courier New',monospace\">Num timesteps: 373000\n",
       "</pre>\n"
      ],
      "text/plain": [
       "Num timesteps: 373000\n"
      ]
     },
     "metadata": {},
     "output_type": "display_data"
    },
    {
     "data": {
      "text/html": [
       "<pre style=\"white-space:pre;overflow-x:auto;line-height:normal;font-family:Menlo,'DejaVu Sans Mono',consolas,'Courier New',monospace\">Best mean reward: 83.73 - Last mean reward per episode: 74.00\n",
       "</pre>\n"
      ],
      "text/plain": [
       "Best mean reward: 83.73 - Last mean reward per episode: 74.00\n"
      ]
     },
     "metadata": {},
     "output_type": "display_data"
    },
    {
     "data": {
      "text/html": [
       "<pre style=\"white-space:pre;overflow-x:auto;line-height:normal;font-family:Menlo,'DejaVu Sans Mono',consolas,'Courier New',monospace\">Num timesteps: 374000\n",
       "</pre>\n"
      ],
      "text/plain": [
       "Num timesteps: 374000\n"
      ]
     },
     "metadata": {},
     "output_type": "display_data"
    },
    {
     "data": {
      "text/html": [
       "<pre style=\"white-space:pre;overflow-x:auto;line-height:normal;font-family:Menlo,'DejaVu Sans Mono',consolas,'Courier New',monospace\">Best mean reward: 83.73 - Last mean reward per episode: 73.68\n",
       "</pre>\n"
      ],
      "text/plain": [
       "Best mean reward: 83.73 - Last mean reward per episode: 73.68\n"
      ]
     },
     "metadata": {},
     "output_type": "display_data"
    },
    {
     "data": {
      "text/html": [
       "<pre style=\"white-space:pre;overflow-x:auto;line-height:normal;font-family:Menlo,'DejaVu Sans Mono',consolas,'Courier New',monospace\">Num timesteps: 375000\n",
       "</pre>\n"
      ],
      "text/plain": [
       "Num timesteps: 375000\n"
      ]
     },
     "metadata": {},
     "output_type": "display_data"
    },
    {
     "data": {
      "text/html": [
       "<pre style=\"white-space:pre;overflow-x:auto;line-height:normal;font-family:Menlo,'DejaVu Sans Mono',consolas,'Courier New',monospace\">Best mean reward: 83.73 - Last mean reward per episode: 74.66\n",
       "</pre>\n"
      ],
      "text/plain": [
       "Best mean reward: 83.73 - Last mean reward per episode: 74.66\n"
      ]
     },
     "metadata": {},
     "output_type": "display_data"
    },
    {
     "data": {
      "text/html": [
       "<pre style=\"white-space:pre;overflow-x:auto;line-height:normal;font-family:Menlo,'DejaVu Sans Mono',consolas,'Courier New',monospace\">Num timesteps: 376000\n",
       "</pre>\n"
      ],
      "text/plain": [
       "Num timesteps: 376000\n"
      ]
     },
     "metadata": {},
     "output_type": "display_data"
    },
    {
     "data": {
      "text/html": [
       "<pre style=\"white-space:pre;overflow-x:auto;line-height:normal;font-family:Menlo,'DejaVu Sans Mono',consolas,'Courier New',monospace\">Best mean reward: 83.73 - Last mean reward per episode: 74.90\n",
       "</pre>\n"
      ],
      "text/plain": [
       "Best mean reward: 83.73 - Last mean reward per episode: 74.90\n"
      ]
     },
     "metadata": {},
     "output_type": "display_data"
    },
    {
     "data": {
      "text/html": [
       "<pre style=\"white-space:pre;overflow-x:auto;line-height:normal;font-family:Menlo,'DejaVu Sans Mono',consolas,'Courier New',monospace\">Num timesteps: 377000\n",
       "</pre>\n"
      ],
      "text/plain": [
       "Num timesteps: 377000\n"
      ]
     },
     "metadata": {},
     "output_type": "display_data"
    },
    {
     "data": {
      "text/html": [
       "<pre style=\"white-space:pre;overflow-x:auto;line-height:normal;font-family:Menlo,'DejaVu Sans Mono',consolas,'Courier New',monospace\">Best mean reward: 83.73 - Last mean reward per episode: 74.69\n",
       "</pre>\n"
      ],
      "text/plain": [
       "Best mean reward: 83.73 - Last mean reward per episode: 74.69\n"
      ]
     },
     "metadata": {},
     "output_type": "display_data"
    },
    {
     "data": {
      "text/html": [
       "<pre style=\"white-space:pre;overflow-x:auto;line-height:normal;font-family:Menlo,'DejaVu Sans Mono',consolas,'Courier New',monospace\">Num timesteps: 378000\n",
       "</pre>\n"
      ],
      "text/plain": [
       "Num timesteps: 378000\n"
      ]
     },
     "metadata": {},
     "output_type": "display_data"
    },
    {
     "data": {
      "text/html": [
       "<pre style=\"white-space:pre;overflow-x:auto;line-height:normal;font-family:Menlo,'DejaVu Sans Mono',consolas,'Courier New',monospace\">Best mean reward: 83.73 - Last mean reward per episode: 74.66\n",
       "</pre>\n"
      ],
      "text/plain": [
       "Best mean reward: 83.73 - Last mean reward per episode: 74.66\n"
      ]
     },
     "metadata": {},
     "output_type": "display_data"
    },
    {
     "data": {
      "text/html": [
       "<pre style=\"white-space:pre;overflow-x:auto;line-height:normal;font-family:Menlo,'DejaVu Sans Mono',consolas,'Courier New',monospace\">Num timesteps: 379000\n",
       "</pre>\n"
      ],
      "text/plain": [
       "Num timesteps: 379000\n"
      ]
     },
     "metadata": {},
     "output_type": "display_data"
    },
    {
     "data": {
      "text/html": [
       "<pre style=\"white-space:pre;overflow-x:auto;line-height:normal;font-family:Menlo,'DejaVu Sans Mono',consolas,'Courier New',monospace\">Best mean reward: 83.73 - Last mean reward per episode: 75.08\n",
       "</pre>\n"
      ],
      "text/plain": [
       "Best mean reward: 83.73 - Last mean reward per episode: 75.08\n"
      ]
     },
     "metadata": {},
     "output_type": "display_data"
    },
    {
     "data": {
      "text/html": [
       "<pre style=\"white-space:pre;overflow-x:auto;line-height:normal;font-family:Menlo,'DejaVu Sans Mono',consolas,'Courier New',monospace\">Num timesteps: 380000\n",
       "</pre>\n"
      ],
      "text/plain": [
       "Num timesteps: 380000\n"
      ]
     },
     "metadata": {},
     "output_type": "display_data"
    },
    {
     "data": {
      "text/html": [
       "<pre style=\"white-space:pre;overflow-x:auto;line-height:normal;font-family:Menlo,'DejaVu Sans Mono',consolas,'Courier New',monospace\">Best mean reward: 83.73 - Last mean reward per episode: 74.47\n",
       "</pre>\n"
      ],
      "text/plain": [
       "Best mean reward: 83.73 - Last mean reward per episode: 74.47\n"
      ]
     },
     "metadata": {},
     "output_type": "display_data"
    },
    {
     "data": {
      "text/html": [
       "<pre style=\"white-space:pre;overflow-x:auto;line-height:normal;font-family:Menlo,'DejaVu Sans Mono',consolas,'Courier New',monospace\">Num timesteps: 381000\n",
       "</pre>\n"
      ],
      "text/plain": [
       "Num timesteps: 381000\n"
      ]
     },
     "metadata": {},
     "output_type": "display_data"
    },
    {
     "data": {
      "text/html": [
       "<pre style=\"white-space:pre;overflow-x:auto;line-height:normal;font-family:Menlo,'DejaVu Sans Mono',consolas,'Courier New',monospace\">Best mean reward: 83.73 - Last mean reward per episode: 74.01\n",
       "</pre>\n"
      ],
      "text/plain": [
       "Best mean reward: 83.73 - Last mean reward per episode: 74.01\n"
      ]
     },
     "metadata": {},
     "output_type": "display_data"
    },
    {
     "data": {
      "text/html": [
       "<pre style=\"white-space:pre;overflow-x:auto;line-height:normal;font-family:Menlo,'DejaVu Sans Mono',consolas,'Courier New',monospace\">Num timesteps: 382000\n",
       "</pre>\n"
      ],
      "text/plain": [
       "Num timesteps: 382000\n"
      ]
     },
     "metadata": {},
     "output_type": "display_data"
    },
    {
     "data": {
      "text/html": [
       "<pre style=\"white-space:pre;overflow-x:auto;line-height:normal;font-family:Menlo,'DejaVu Sans Mono',consolas,'Courier New',monospace\">Best mean reward: 83.73 - Last mean reward per episode: 73.40\n",
       "</pre>\n"
      ],
      "text/plain": [
       "Best mean reward: 83.73 - Last mean reward per episode: 73.40\n"
      ]
     },
     "metadata": {},
     "output_type": "display_data"
    },
    {
     "data": {
      "text/html": [
       "<pre style=\"white-space:pre;overflow-x:auto;line-height:normal;font-family:Menlo,'DejaVu Sans Mono',consolas,'Courier New',monospace\">Num timesteps: 383000\n",
       "</pre>\n"
      ],
      "text/plain": [
       "Num timesteps: 383000\n"
      ]
     },
     "metadata": {},
     "output_type": "display_data"
    },
    {
     "data": {
      "text/html": [
       "<pre style=\"white-space:pre;overflow-x:auto;line-height:normal;font-family:Menlo,'DejaVu Sans Mono',consolas,'Courier New',monospace\">Best mean reward: 83.73 - Last mean reward per episode: 71.95\n",
       "</pre>\n"
      ],
      "text/plain": [
       "Best mean reward: 83.73 - Last mean reward per episode: 71.95\n"
      ]
     },
     "metadata": {},
     "output_type": "display_data"
    },
    {
     "data": {
      "text/html": [
       "<pre style=\"white-space:pre;overflow-x:auto;line-height:normal;font-family:Menlo,'DejaVu Sans Mono',consolas,'Courier New',monospace\">Num timesteps: 384000\n",
       "</pre>\n"
      ],
      "text/plain": [
       "Num timesteps: 384000\n"
      ]
     },
     "metadata": {},
     "output_type": "display_data"
    },
    {
     "data": {
      "text/html": [
       "<pre style=\"white-space:pre;overflow-x:auto;line-height:normal;font-family:Menlo,'DejaVu Sans Mono',consolas,'Courier New',monospace\">Best mean reward: 83.73 - Last mean reward per episode: 71.16\n",
       "</pre>\n"
      ],
      "text/plain": [
       "Best mean reward: 83.73 - Last mean reward per episode: 71.16\n"
      ]
     },
     "metadata": {},
     "output_type": "display_data"
    },
    {
     "data": {
      "text/html": [
       "<pre style=\"white-space:pre;overflow-x:auto;line-height:normal;font-family:Menlo,'DejaVu Sans Mono',consolas,'Courier New',monospace\">Num timesteps: 385000\n",
       "</pre>\n"
      ],
      "text/plain": [
       "Num timesteps: 385000\n"
      ]
     },
     "metadata": {},
     "output_type": "display_data"
    },
    {
     "data": {
      "text/html": [
       "<pre style=\"white-space:pre;overflow-x:auto;line-height:normal;font-family:Menlo,'DejaVu Sans Mono',consolas,'Courier New',monospace\">Best mean reward: 83.73 - Last mean reward per episode: 69.43\n",
       "</pre>\n"
      ],
      "text/plain": [
       "Best mean reward: 83.73 - Last mean reward per episode: 69.43\n"
      ]
     },
     "metadata": {},
     "output_type": "display_data"
    },
    {
     "data": {
      "text/html": [
       "<pre style=\"white-space:pre;overflow-x:auto;line-height:normal;font-family:Menlo,'DejaVu Sans Mono',consolas,'Courier New',monospace\">Num timesteps: 386000\n",
       "</pre>\n"
      ],
      "text/plain": [
       "Num timesteps: 386000\n"
      ]
     },
     "metadata": {},
     "output_type": "display_data"
    },
    {
     "data": {
      "text/html": [
       "<pre style=\"white-space:pre;overflow-x:auto;line-height:normal;font-family:Menlo,'DejaVu Sans Mono',consolas,'Courier New',monospace\">Best mean reward: 83.73 - Last mean reward per episode: 68.56\n",
       "</pre>\n"
      ],
      "text/plain": [
       "Best mean reward: 83.73 - Last mean reward per episode: 68.56\n"
      ]
     },
     "metadata": {},
     "output_type": "display_data"
    },
    {
     "data": {
      "text/html": [
       "<pre style=\"white-space:pre;overflow-x:auto;line-height:normal;font-family:Menlo,'DejaVu Sans Mono',consolas,'Courier New',monospace\">Num timesteps: 387000\n",
       "</pre>\n"
      ],
      "text/plain": [
       "Num timesteps: 387000\n"
      ]
     },
     "metadata": {},
     "output_type": "display_data"
    },
    {
     "data": {
      "text/html": [
       "<pre style=\"white-space:pre;overflow-x:auto;line-height:normal;font-family:Menlo,'DejaVu Sans Mono',consolas,'Courier New',monospace\">Best mean reward: 83.73 - Last mean reward per episode: 67.68\n",
       "</pre>\n"
      ],
      "text/plain": [
       "Best mean reward: 83.73 - Last mean reward per episode: 67.68\n"
      ]
     },
     "metadata": {},
     "output_type": "display_data"
    },
    {
     "data": {
      "text/html": [
       "<pre style=\"white-space:pre;overflow-x:auto;line-height:normal;font-family:Menlo,'DejaVu Sans Mono',consolas,'Courier New',monospace\">Num timesteps: 388000\n",
       "</pre>\n"
      ],
      "text/plain": [
       "Num timesteps: 388000\n"
      ]
     },
     "metadata": {},
     "output_type": "display_data"
    },
    {
     "data": {
      "text/html": [
       "<pre style=\"white-space:pre;overflow-x:auto;line-height:normal;font-family:Menlo,'DejaVu Sans Mono',consolas,'Courier New',monospace\">Best mean reward: 83.73 - Last mean reward per episode: 67.88\n",
       "</pre>\n"
      ],
      "text/plain": [
       "Best mean reward: 83.73 - Last mean reward per episode: 67.88\n"
      ]
     },
     "metadata": {},
     "output_type": "display_data"
    },
    {
     "data": {
      "text/html": [
       "<pre style=\"white-space:pre;overflow-x:auto;line-height:normal;font-family:Menlo,'DejaVu Sans Mono',consolas,'Courier New',monospace\">Num timesteps: 389000\n",
       "</pre>\n"
      ],
      "text/plain": [
       "Num timesteps: 389000\n"
      ]
     },
     "metadata": {},
     "output_type": "display_data"
    },
    {
     "data": {
      "text/html": [
       "<pre style=\"white-space:pre;overflow-x:auto;line-height:normal;font-family:Menlo,'DejaVu Sans Mono',consolas,'Courier New',monospace\">Best mean reward: 83.73 - Last mean reward per episode: 68.45\n",
       "</pre>\n"
      ],
      "text/plain": [
       "Best mean reward: 83.73 - Last mean reward per episode: 68.45\n"
      ]
     },
     "metadata": {},
     "output_type": "display_data"
    },
    {
     "name": "stdout",
     "output_type": "stream",
     "text": [
      "----------------------------------------\n",
      "| rollout/                |            |\n",
      "|    ep_len_mean          | 500        |\n",
      "|    ep_rew_mean          | 68.4       |\n",
      "| time/                   |            |\n",
      "|    fps                  | 89         |\n",
      "|    iterations           | 190        |\n",
      "|    time_elapsed         | 4358       |\n",
      "|    total_timesteps      | 389120     |\n",
      "| train/                  |            |\n",
      "|    approx_kl            | 0.36234456 |\n",
      "|    clip_fraction        | 0.671      |\n",
      "|    clip_range           | 0.2        |\n",
      "|    entropy_loss         | -6.05      |\n",
      "|    explained_variance   | 0.966      |\n",
      "|    learning_rate        | 0.0003     |\n",
      "|    loss                 | -0.0463    |\n",
      "|    n_updates            | 1890       |\n",
      "|    policy_gradient_loss | -0.0508    |\n",
      "|    std                  | 0.574      |\n",
      "|    value_loss           | 0.305      |\n",
      "----------------------------------------\n"
     ]
    },
    {
     "data": {
      "text/html": [
       "<pre style=\"white-space:pre;overflow-x:auto;line-height:normal;font-family:Menlo,'DejaVu Sans Mono',consolas,'Courier New',monospace\">Num timesteps: 390000\n",
       "</pre>\n"
      ],
      "text/plain": [
       "Num timesteps: 390000\n"
      ]
     },
     "metadata": {},
     "output_type": "display_data"
    },
    {
     "data": {
      "text/html": [
       "<pre style=\"white-space:pre;overflow-x:auto;line-height:normal;font-family:Menlo,'DejaVu Sans Mono',consolas,'Courier New',monospace\">Best mean reward: 83.73 - Last mean reward per episode: 68.43\n",
       "</pre>\n"
      ],
      "text/plain": [
       "Best mean reward: 83.73 - Last mean reward per episode: 68.43\n"
      ]
     },
     "metadata": {},
     "output_type": "display_data"
    },
    {
     "data": {
      "text/html": [
       "<pre style=\"white-space:pre;overflow-x:auto;line-height:normal;font-family:Menlo,'DejaVu Sans Mono',consolas,'Courier New',monospace\">Num timesteps: 391000\n",
       "</pre>\n"
      ],
      "text/plain": [
       "Num timesteps: 391000\n"
      ]
     },
     "metadata": {},
     "output_type": "display_data"
    },
    {
     "data": {
      "text/html": [
       "<pre style=\"white-space:pre;overflow-x:auto;line-height:normal;font-family:Menlo,'DejaVu Sans Mono',consolas,'Courier New',monospace\">Best mean reward: 83.73 - Last mean reward per episode: 68.64\n",
       "</pre>\n"
      ],
      "text/plain": [
       "Best mean reward: 83.73 - Last mean reward per episode: 68.64\n"
      ]
     },
     "metadata": {},
     "output_type": "display_data"
    },
    {
     "data": {
      "text/html": [
       "<pre style=\"white-space:pre;overflow-x:auto;line-height:normal;font-family:Menlo,'DejaVu Sans Mono',consolas,'Courier New',monospace\">Num timesteps: 392000\n",
       "</pre>\n"
      ],
      "text/plain": [
       "Num timesteps: 392000\n"
      ]
     },
     "metadata": {},
     "output_type": "display_data"
    },
    {
     "data": {
      "text/html": [
       "<pre style=\"white-space:pre;overflow-x:auto;line-height:normal;font-family:Menlo,'DejaVu Sans Mono',consolas,'Courier New',monospace\">Best mean reward: 83.73 - Last mean reward per episode: 68.79\n",
       "</pre>\n"
      ],
      "text/plain": [
       "Best mean reward: 83.73 - Last mean reward per episode: 68.79\n"
      ]
     },
     "metadata": {},
     "output_type": "display_data"
    },
    {
     "data": {
      "text/html": [
       "<pre style=\"white-space:pre;overflow-x:auto;line-height:normal;font-family:Menlo,'DejaVu Sans Mono',consolas,'Courier New',monospace\">Num timesteps: 393000\n",
       "</pre>\n"
      ],
      "text/plain": [
       "Num timesteps: 393000\n"
      ]
     },
     "metadata": {},
     "output_type": "display_data"
    },
    {
     "data": {
      "text/html": [
       "<pre style=\"white-space:pre;overflow-x:auto;line-height:normal;font-family:Menlo,'DejaVu Sans Mono',consolas,'Courier New',monospace\">Best mean reward: 83.73 - Last mean reward per episode: 69.27\n",
       "</pre>\n"
      ],
      "text/plain": [
       "Best mean reward: 83.73 - Last mean reward per episode: 69.27\n"
      ]
     },
     "metadata": {},
     "output_type": "display_data"
    },
    {
     "data": {
      "text/html": [
       "<pre style=\"white-space:pre;overflow-x:auto;line-height:normal;font-family:Menlo,'DejaVu Sans Mono',consolas,'Courier New',monospace\">Num timesteps: 394000\n",
       "</pre>\n"
      ],
      "text/plain": [
       "Num timesteps: 394000\n"
      ]
     },
     "metadata": {},
     "output_type": "display_data"
    },
    {
     "data": {
      "text/html": [
       "<pre style=\"white-space:pre;overflow-x:auto;line-height:normal;font-family:Menlo,'DejaVu Sans Mono',consolas,'Courier New',monospace\">Best mean reward: 83.73 - Last mean reward per episode: 69.49\n",
       "</pre>\n"
      ],
      "text/plain": [
       "Best mean reward: 83.73 - Last mean reward per episode: 69.49\n"
      ]
     },
     "metadata": {},
     "output_type": "display_data"
    },
    {
     "data": {
      "text/html": [
       "<pre style=\"white-space:pre;overflow-x:auto;line-height:normal;font-family:Menlo,'DejaVu Sans Mono',consolas,'Courier New',monospace\">Num timesteps: 395000\n",
       "</pre>\n"
      ],
      "text/plain": [
       "Num timesteps: 395000\n"
      ]
     },
     "metadata": {},
     "output_type": "display_data"
    },
    {
     "data": {
      "text/html": [
       "<pre style=\"white-space:pre;overflow-x:auto;line-height:normal;font-family:Menlo,'DejaVu Sans Mono',consolas,'Courier New',monospace\">Best mean reward: 83.73 - Last mean reward per episode: 70.84\n",
       "</pre>\n"
      ],
      "text/plain": [
       "Best mean reward: 83.73 - Last mean reward per episode: 70.84\n"
      ]
     },
     "metadata": {},
     "output_type": "display_data"
    },
    {
     "data": {
      "text/html": [
       "<pre style=\"white-space:pre;overflow-x:auto;line-height:normal;font-family:Menlo,'DejaVu Sans Mono',consolas,'Courier New',monospace\">Num timesteps: 396000\n",
       "</pre>\n"
      ],
      "text/plain": [
       "Num timesteps: 396000\n"
      ]
     },
     "metadata": {},
     "output_type": "display_data"
    },
    {
     "data": {
      "text/html": [
       "<pre style=\"white-space:pre;overflow-x:auto;line-height:normal;font-family:Menlo,'DejaVu Sans Mono',consolas,'Courier New',monospace\">Best mean reward: 83.73 - Last mean reward per episode: 72.58\n",
       "</pre>\n"
      ],
      "text/plain": [
       "Best mean reward: 83.73 - Last mean reward per episode: 72.58\n"
      ]
     },
     "metadata": {},
     "output_type": "display_data"
    },
    {
     "data": {
      "text/html": [
       "<pre style=\"white-space:pre;overflow-x:auto;line-height:normal;font-family:Menlo,'DejaVu Sans Mono',consolas,'Courier New',monospace\">Num timesteps: 397000\n",
       "</pre>\n"
      ],
      "text/plain": [
       "Num timesteps: 397000\n"
      ]
     },
     "metadata": {},
     "output_type": "display_data"
    },
    {
     "data": {
      "text/html": [
       "<pre style=\"white-space:pre;overflow-x:auto;line-height:normal;font-family:Menlo,'DejaVu Sans Mono',consolas,'Courier New',monospace\">Best mean reward: 83.73 - Last mean reward per episode: 73.88\n",
       "</pre>\n"
      ],
      "text/plain": [
       "Best mean reward: 83.73 - Last mean reward per episode: 73.88\n"
      ]
     },
     "metadata": {},
     "output_type": "display_data"
    },
    {
     "data": {
      "text/html": [
       "<pre style=\"white-space:pre;overflow-x:auto;line-height:normal;font-family:Menlo,'DejaVu Sans Mono',consolas,'Courier New',monospace\">Num timesteps: 398000\n",
       "</pre>\n"
      ],
      "text/plain": [
       "Num timesteps: 398000\n"
      ]
     },
     "metadata": {},
     "output_type": "display_data"
    },
    {
     "data": {
      "text/html": [
       "<pre style=\"white-space:pre;overflow-x:auto;line-height:normal;font-family:Menlo,'DejaVu Sans Mono',consolas,'Courier New',monospace\">Best mean reward: 83.73 - Last mean reward per episode: 76.06\n",
       "</pre>\n"
      ],
      "text/plain": [
       "Best mean reward: 83.73 - Last mean reward per episode: 76.06\n"
      ]
     },
     "metadata": {},
     "output_type": "display_data"
    },
    {
     "data": {
      "text/html": [
       "<pre style=\"white-space:pre;overflow-x:auto;line-height:normal;font-family:Menlo,'DejaVu Sans Mono',consolas,'Courier New',monospace\">Num timesteps: 399000\n",
       "</pre>\n"
      ],
      "text/plain": [
       "Num timesteps: 399000\n"
      ]
     },
     "metadata": {},
     "output_type": "display_data"
    },
    {
     "data": {
      "text/html": [
       "<pre style=\"white-space:pre;overflow-x:auto;line-height:normal;font-family:Menlo,'DejaVu Sans Mono',consolas,'Courier New',monospace\">Best mean reward: 83.73 - Last mean reward per episode: 75.92\n",
       "</pre>\n"
      ],
      "text/plain": [
       "Best mean reward: 83.73 - Last mean reward per episode: 75.92\n"
      ]
     },
     "metadata": {},
     "output_type": "display_data"
    },
    {
     "data": {
      "text/html": [
       "<pre style=\"white-space:pre;overflow-x:auto;line-height:normal;font-family:Menlo,'DejaVu Sans Mono',consolas,'Courier New',monospace\">Num timesteps: 400000\n",
       "</pre>\n"
      ],
      "text/plain": [
       "Num timesteps: 400000\n"
      ]
     },
     "metadata": {},
     "output_type": "display_data"
    },
    {
     "data": {
      "text/html": [
       "<pre style=\"white-space:pre;overflow-x:auto;line-height:normal;font-family:Menlo,'DejaVu Sans Mono',consolas,'Courier New',monospace\">Best mean reward: 83.73 - Last mean reward per episode: 76.74\n",
       "</pre>\n"
      ],
      "text/plain": [
       "Best mean reward: 83.73 - Last mean reward per episode: 76.74\n"
      ]
     },
     "metadata": {},
     "output_type": "display_data"
    },
    {
     "data": {
      "text/html": [
       "<pre style=\"white-space:pre;overflow-x:auto;line-height:normal;font-family:Menlo,'DejaVu Sans Mono',consolas,'Courier New',monospace\">Num timesteps: 401000\n",
       "</pre>\n"
      ],
      "text/plain": [
       "Num timesteps: 401000\n"
      ]
     },
     "metadata": {},
     "output_type": "display_data"
    },
    {
     "data": {
      "text/html": [
       "<pre style=\"white-space:pre;overflow-x:auto;line-height:normal;font-family:Menlo,'DejaVu Sans Mono',consolas,'Courier New',monospace\">Best mean reward: 83.73 - Last mean reward per episode: 78.17\n",
       "</pre>\n"
      ],
      "text/plain": [
       "Best mean reward: 83.73 - Last mean reward per episode: 78.17\n"
      ]
     },
     "metadata": {},
     "output_type": "display_data"
    },
    {
     "data": {
      "text/html": [
       "<pre style=\"white-space:pre;overflow-x:auto;line-height:normal;font-family:Menlo,'DejaVu Sans Mono',consolas,'Courier New',monospace\">Num timesteps: 402000\n",
       "</pre>\n"
      ],
      "text/plain": [
       "Num timesteps: 402000\n"
      ]
     },
     "metadata": {},
     "output_type": "display_data"
    },
    {
     "data": {
      "text/html": [
       "<pre style=\"white-space:pre;overflow-x:auto;line-height:normal;font-family:Menlo,'DejaVu Sans Mono',consolas,'Courier New',monospace\">Best mean reward: 83.73 - Last mean reward per episode: 79.90\n",
       "</pre>\n"
      ],
      "text/plain": [
       "Best mean reward: 83.73 - Last mean reward per episode: 79.90\n"
      ]
     },
     "metadata": {},
     "output_type": "display_data"
    },
    {
     "data": {
      "text/html": [
       "<pre style=\"white-space:pre;overflow-x:auto;line-height:normal;font-family:Menlo,'DejaVu Sans Mono',consolas,'Courier New',monospace\">Num timesteps: 403000\n",
       "</pre>\n"
      ],
      "text/plain": [
       "Num timesteps: 403000\n"
      ]
     },
     "metadata": {},
     "output_type": "display_data"
    },
    {
     "data": {
      "text/html": [
       "<pre style=\"white-space:pre;overflow-x:auto;line-height:normal;font-family:Menlo,'DejaVu Sans Mono',consolas,'Courier New',monospace\">Best mean reward: 83.73 - Last mean reward per episode: 79.65\n",
       "</pre>\n"
      ],
      "text/plain": [
       "Best mean reward: 83.73 - Last mean reward per episode: 79.65\n"
      ]
     },
     "metadata": {},
     "output_type": "display_data"
    },
    {
     "data": {
      "text/html": [
       "<pre style=\"white-space:pre;overflow-x:auto;line-height:normal;font-family:Menlo,'DejaVu Sans Mono',consolas,'Courier New',monospace\">Num timesteps: 404000\n",
       "</pre>\n"
      ],
      "text/plain": [
       "Num timesteps: 404000\n"
      ]
     },
     "metadata": {},
     "output_type": "display_data"
    },
    {
     "data": {
      "text/html": [
       "<pre style=\"white-space:pre;overflow-x:auto;line-height:normal;font-family:Menlo,'DejaVu Sans Mono',consolas,'Courier New',monospace\">Best mean reward: 83.73 - Last mean reward per episode: 81.83\n",
       "</pre>\n"
      ],
      "text/plain": [
       "Best mean reward: 83.73 - Last mean reward per episode: 81.83\n"
      ]
     },
     "metadata": {},
     "output_type": "display_data"
    },
    {
     "data": {
      "text/html": [
       "<pre style=\"white-space:pre;overflow-x:auto;line-height:normal;font-family:Menlo,'DejaVu Sans Mono',consolas,'Courier New',monospace\">Num timesteps: 405000\n",
       "</pre>\n"
      ],
      "text/plain": [
       "Num timesteps: 405000\n"
      ]
     },
     "metadata": {},
     "output_type": "display_data"
    },
    {
     "data": {
      "text/html": [
       "<pre style=\"white-space:pre;overflow-x:auto;line-height:normal;font-family:Menlo,'DejaVu Sans Mono',consolas,'Courier New',monospace\">Best mean reward: 83.73 - Last mean reward per episode: 82.72\n",
       "</pre>\n"
      ],
      "text/plain": [
       "Best mean reward: 83.73 - Last mean reward per episode: 82.72\n"
      ]
     },
     "metadata": {},
     "output_type": "display_data"
    },
    {
     "data": {
      "text/html": [
       "<pre style=\"white-space:pre;overflow-x:auto;line-height:normal;font-family:Menlo,'DejaVu Sans Mono',consolas,'Courier New',monospace\">Num timesteps: 406000\n",
       "</pre>\n"
      ],
      "text/plain": [
       "Num timesteps: 406000\n"
      ]
     },
     "metadata": {},
     "output_type": "display_data"
    },
    {
     "data": {
      "text/html": [
       "<pre style=\"white-space:pre;overflow-x:auto;line-height:normal;font-family:Menlo,'DejaVu Sans Mono',consolas,'Courier New',monospace\">Best mean reward: 83.73 - Last mean reward per episode: 83.13\n",
       "</pre>\n"
      ],
      "text/plain": [
       "Best mean reward: 83.73 - Last mean reward per episode: 83.13\n"
      ]
     },
     "metadata": {},
     "output_type": "display_data"
    },
    {
     "data": {
      "text/html": [
       "<pre style=\"white-space:pre;overflow-x:auto;line-height:normal;font-family:Menlo,'DejaVu Sans Mono',consolas,'Courier New',monospace\">Num timesteps: 407000\n",
       "</pre>\n"
      ],
      "text/plain": [
       "Num timesteps: 407000\n"
      ]
     },
     "metadata": {},
     "output_type": "display_data"
    },
    {
     "data": {
      "text/html": [
       "<pre style=\"white-space:pre;overflow-x:auto;line-height:normal;font-family:Menlo,'DejaVu Sans Mono',consolas,'Courier New',monospace\">Best mean reward: 83.73 - Last mean reward per episode: 84.12\n",
       "</pre>\n"
      ],
      "text/plain": [
       "Best mean reward: 83.73 - Last mean reward per episode: 84.12\n"
      ]
     },
     "metadata": {},
     "output_type": "display_data"
    },
    {
     "data": {
      "text/html": [
       "<pre style=\"white-space:pre;overflow-x:auto;line-height:normal;font-family:Menlo,'DejaVu Sans Mono',consolas,'Courier New',monospace\">Saving new best model to tmp/gym/multiinput_256/best_model.zip\n",
       "</pre>\n"
      ],
      "text/plain": [
       "Saving new best model to tmp/gym/multiinput_256/best_model.zip\n"
      ]
     },
     "metadata": {},
     "output_type": "display_data"
    },
    {
     "data": {
      "text/html": [
       "<pre style=\"white-space:pre;overflow-x:auto;line-height:normal;font-family:Menlo,'DejaVu Sans Mono',consolas,'Courier New',monospace\">Num timesteps: 408000\n",
       "</pre>\n"
      ],
      "text/plain": [
       "Num timesteps: 408000\n"
      ]
     },
     "metadata": {},
     "output_type": "display_data"
    },
    {
     "data": {
      "text/html": [
       "<pre style=\"white-space:pre;overflow-x:auto;line-height:normal;font-family:Menlo,'DejaVu Sans Mono',consolas,'Courier New',monospace\">Best mean reward: 84.12 - Last mean reward per episode: 85.53\n",
       "</pre>\n"
      ],
      "text/plain": [
       "Best mean reward: 84.12 - Last mean reward per episode: 85.53\n"
      ]
     },
     "metadata": {},
     "output_type": "display_data"
    },
    {
     "data": {
      "text/html": [
       "<pre style=\"white-space:pre;overflow-x:auto;line-height:normal;font-family:Menlo,'DejaVu Sans Mono',consolas,'Courier New',monospace\">Saving new best model to tmp/gym/multiinput_256/best_model.zip\n",
       "</pre>\n"
      ],
      "text/plain": [
       "Saving new best model to tmp/gym/multiinput_256/best_model.zip\n"
      ]
     },
     "metadata": {},
     "output_type": "display_data"
    },
    {
     "data": {
      "text/html": [
       "<pre style=\"white-space:pre;overflow-x:auto;line-height:normal;font-family:Menlo,'DejaVu Sans Mono',consolas,'Courier New',monospace\">Num timesteps: 409000\n",
       "</pre>\n"
      ],
      "text/plain": [
       "Num timesteps: 409000\n"
      ]
     },
     "metadata": {},
     "output_type": "display_data"
    },
    {
     "data": {
      "text/html": [
       "<pre style=\"white-space:pre;overflow-x:auto;line-height:normal;font-family:Menlo,'DejaVu Sans Mono',consolas,'Courier New',monospace\">Best mean reward: 85.53 - Last mean reward per episode: 85.90\n",
       "</pre>\n"
      ],
      "text/plain": [
       "Best mean reward: 85.53 - Last mean reward per episode: 85.90\n"
      ]
     },
     "metadata": {},
     "output_type": "display_data"
    },
    {
     "data": {
      "text/html": [
       "<pre style=\"white-space:pre;overflow-x:auto;line-height:normal;font-family:Menlo,'DejaVu Sans Mono',consolas,'Courier New',monospace\">Saving new best model to tmp/gym/multiinput_256/best_model.zip\n",
       "</pre>\n"
      ],
      "text/plain": [
       "Saving new best model to tmp/gym/multiinput_256/best_model.zip\n"
      ]
     },
     "metadata": {},
     "output_type": "display_data"
    },
    {
     "name": "stdout",
     "output_type": "stream",
     "text": [
      "----------------------------------------\n",
      "| rollout/                |            |\n",
      "|    ep_len_mean          | 500        |\n",
      "|    ep_rew_mean          | 86.8       |\n",
      "| time/                   |            |\n",
      "|    fps                  | 89         |\n",
      "|    iterations           | 200        |\n",
      "|    time_elapsed         | 4574       |\n",
      "|    total_timesteps      | 409600     |\n",
      "| train/                  |            |\n",
      "|    approx_kl            | 0.36100337 |\n",
      "|    clip_fraction        | 0.675      |\n",
      "|    clip_range           | 0.2        |\n",
      "|    entropy_loss         | -5.82      |\n",
      "|    explained_variance   | 0.955      |\n",
      "|    learning_rate        | 0.0003     |\n",
      "|    loss                 | -0.0736    |\n",
      "|    n_updates            | 1990       |\n",
      "|    policy_gradient_loss | -0.0473    |\n",
      "|    std                  | 0.556      |\n",
      "|    value_loss           | 0.694      |\n",
      "----------------------------------------\n"
     ]
    },
    {
     "data": {
      "text/html": [
       "<pre style=\"white-space:pre;overflow-x:auto;line-height:normal;font-family:Menlo,'DejaVu Sans Mono',consolas,'Courier New',monospace\">Num timesteps: 410000\n",
       "</pre>\n"
      ],
      "text/plain": [
       "Num timesteps: 410000\n"
      ]
     },
     "metadata": {},
     "output_type": "display_data"
    },
    {
     "data": {
      "text/html": [
       "<pre style=\"white-space:pre;overflow-x:auto;line-height:normal;font-family:Menlo,'DejaVu Sans Mono',consolas,'Courier New',monospace\">Best mean reward: 85.90 - Last mean reward per episode: 86.52\n",
       "</pre>\n"
      ],
      "text/plain": [
       "Best mean reward: 85.90 - Last mean reward per episode: 86.52\n"
      ]
     },
     "metadata": {},
     "output_type": "display_data"
    },
    {
     "data": {
      "text/html": [
       "<pre style=\"white-space:pre;overflow-x:auto;line-height:normal;font-family:Menlo,'DejaVu Sans Mono',consolas,'Courier New',monospace\">Saving new best model to tmp/gym/multiinput_256/best_model.zip\n",
       "</pre>\n"
      ],
      "text/plain": [
       "Saving new best model to tmp/gym/multiinput_256/best_model.zip\n"
      ]
     },
     "metadata": {},
     "output_type": "display_data"
    },
    {
     "data": {
      "text/html": [
       "<pre style=\"white-space:pre;overflow-x:auto;line-height:normal;font-family:Menlo,'DejaVu Sans Mono',consolas,'Courier New',monospace\">Num timesteps: 411000\n",
       "</pre>\n"
      ],
      "text/plain": [
       "Num timesteps: 411000\n"
      ]
     },
     "metadata": {},
     "output_type": "display_data"
    },
    {
     "data": {
      "text/html": [
       "<pre style=\"white-space:pre;overflow-x:auto;line-height:normal;font-family:Menlo,'DejaVu Sans Mono',consolas,'Courier New',monospace\">Best mean reward: 86.52 - Last mean reward per episode: 86.40\n",
       "</pre>\n"
      ],
      "text/plain": [
       "Best mean reward: 86.52 - Last mean reward per episode: 86.40\n"
      ]
     },
     "metadata": {},
     "output_type": "display_data"
    },
    {
     "data": {
      "text/html": [
       "<pre style=\"white-space:pre;overflow-x:auto;line-height:normal;font-family:Menlo,'DejaVu Sans Mono',consolas,'Courier New',monospace\">Num timesteps: 412000\n",
       "</pre>\n"
      ],
      "text/plain": [
       "Num timesteps: 412000\n"
      ]
     },
     "metadata": {},
     "output_type": "display_data"
    },
    {
     "data": {
      "text/html": [
       "<pre style=\"white-space:pre;overflow-x:auto;line-height:normal;font-family:Menlo,'DejaVu Sans Mono',consolas,'Courier New',monospace\">Best mean reward: 86.52 - Last mean reward per episode: 87.01\n",
       "</pre>\n"
      ],
      "text/plain": [
       "Best mean reward: 86.52 - Last mean reward per episode: 87.01\n"
      ]
     },
     "metadata": {},
     "output_type": "display_data"
    },
    {
     "data": {
      "text/html": [
       "<pre style=\"white-space:pre;overflow-x:auto;line-height:normal;font-family:Menlo,'DejaVu Sans Mono',consolas,'Courier New',monospace\">Saving new best model to tmp/gym/multiinput_256/best_model.zip\n",
       "</pre>\n"
      ],
      "text/plain": [
       "Saving new best model to tmp/gym/multiinput_256/best_model.zip\n"
      ]
     },
     "metadata": {},
     "output_type": "display_data"
    },
    {
     "data": {
      "text/html": [
       "<pre style=\"white-space:pre;overflow-x:auto;line-height:normal;font-family:Menlo,'DejaVu Sans Mono',consolas,'Courier New',monospace\">Num timesteps: 413000\n",
       "</pre>\n"
      ],
      "text/plain": [
       "Num timesteps: 413000\n"
      ]
     },
     "metadata": {},
     "output_type": "display_data"
    },
    {
     "data": {
      "text/html": [
       "<pre style=\"white-space:pre;overflow-x:auto;line-height:normal;font-family:Menlo,'DejaVu Sans Mono',consolas,'Courier New',monospace\">Best mean reward: 87.01 - Last mean reward per episode: 87.80\n",
       "</pre>\n"
      ],
      "text/plain": [
       "Best mean reward: 87.01 - Last mean reward per episode: 87.80\n"
      ]
     },
     "metadata": {},
     "output_type": "display_data"
    },
    {
     "data": {
      "text/html": [
       "<pre style=\"white-space:pre;overflow-x:auto;line-height:normal;font-family:Menlo,'DejaVu Sans Mono',consolas,'Courier New',monospace\">Saving new best model to tmp/gym/multiinput_256/best_model.zip\n",
       "</pre>\n"
      ],
      "text/plain": [
       "Saving new best model to tmp/gym/multiinput_256/best_model.zip\n"
      ]
     },
     "metadata": {},
     "output_type": "display_data"
    },
    {
     "data": {
      "text/html": [
       "<pre style=\"white-space:pre;overflow-x:auto;line-height:normal;font-family:Menlo,'DejaVu Sans Mono',consolas,'Courier New',monospace\">Num timesteps: 414000\n",
       "</pre>\n"
      ],
      "text/plain": [
       "Num timesteps: 414000\n"
      ]
     },
     "metadata": {},
     "output_type": "display_data"
    },
    {
     "data": {
      "text/html": [
       "<pre style=\"white-space:pre;overflow-x:auto;line-height:normal;font-family:Menlo,'DejaVu Sans Mono',consolas,'Courier New',monospace\">Best mean reward: 87.80 - Last mean reward per episode: 88.31\n",
       "</pre>\n"
      ],
      "text/plain": [
       "Best mean reward: 87.80 - Last mean reward per episode: 88.31\n"
      ]
     },
     "metadata": {},
     "output_type": "display_data"
    },
    {
     "data": {
      "text/html": [
       "<pre style=\"white-space:pre;overflow-x:auto;line-height:normal;font-family:Menlo,'DejaVu Sans Mono',consolas,'Courier New',monospace\">Saving new best model to tmp/gym/multiinput_256/best_model.zip\n",
       "</pre>\n"
      ],
      "text/plain": [
       "Saving new best model to tmp/gym/multiinput_256/best_model.zip\n"
      ]
     },
     "metadata": {},
     "output_type": "display_data"
    },
    {
     "data": {
      "text/html": [
       "<pre style=\"white-space:pre;overflow-x:auto;line-height:normal;font-family:Menlo,'DejaVu Sans Mono',consolas,'Courier New',monospace\">Num timesteps: 415000\n",
       "</pre>\n"
      ],
      "text/plain": [
       "Num timesteps: 415000\n"
      ]
     },
     "metadata": {},
     "output_type": "display_data"
    },
    {
     "data": {
      "text/html": [
       "<pre style=\"white-space:pre;overflow-x:auto;line-height:normal;font-family:Menlo,'DejaVu Sans Mono',consolas,'Courier New',monospace\">Best mean reward: 88.31 - Last mean reward per episode: 88.78\n",
       "</pre>\n"
      ],
      "text/plain": [
       "Best mean reward: 88.31 - Last mean reward per episode: 88.78\n"
      ]
     },
     "metadata": {},
     "output_type": "display_data"
    },
    {
     "data": {
      "text/html": [
       "<pre style=\"white-space:pre;overflow-x:auto;line-height:normal;font-family:Menlo,'DejaVu Sans Mono',consolas,'Courier New',monospace\">Saving new best model to tmp/gym/multiinput_256/best_model.zip\n",
       "</pre>\n"
      ],
      "text/plain": [
       "Saving new best model to tmp/gym/multiinput_256/best_model.zip\n"
      ]
     },
     "metadata": {},
     "output_type": "display_data"
    },
    {
     "data": {
      "text/html": [
       "<pre style=\"white-space:pre;overflow-x:auto;line-height:normal;font-family:Menlo,'DejaVu Sans Mono',consolas,'Courier New',monospace\">Num timesteps: 416000\n",
       "</pre>\n"
      ],
      "text/plain": [
       "Num timesteps: 416000\n"
      ]
     },
     "metadata": {},
     "output_type": "display_data"
    },
    {
     "data": {
      "text/html": [
       "<pre style=\"white-space:pre;overflow-x:auto;line-height:normal;font-family:Menlo,'DejaVu Sans Mono',consolas,'Courier New',monospace\">Best mean reward: 88.78 - Last mean reward per episode: 88.85\n",
       "</pre>\n"
      ],
      "text/plain": [
       "Best mean reward: 88.78 - Last mean reward per episode: 88.85\n"
      ]
     },
     "metadata": {},
     "output_type": "display_data"
    },
    {
     "data": {
      "text/html": [
       "<pre style=\"white-space:pre;overflow-x:auto;line-height:normal;font-family:Menlo,'DejaVu Sans Mono',consolas,'Courier New',monospace\">Saving new best model to tmp/gym/multiinput_256/best_model.zip\n",
       "</pre>\n"
      ],
      "text/plain": [
       "Saving new best model to tmp/gym/multiinput_256/best_model.zip\n"
      ]
     },
     "metadata": {},
     "output_type": "display_data"
    },
    {
     "data": {
      "text/html": [
       "<pre style=\"white-space:pre;overflow-x:auto;line-height:normal;font-family:Menlo,'DejaVu Sans Mono',consolas,'Courier New',monospace\">Num timesteps: 417000\n",
       "</pre>\n"
      ],
      "text/plain": [
       "Num timesteps: 417000\n"
      ]
     },
     "metadata": {},
     "output_type": "display_data"
    },
    {
     "data": {
      "text/html": [
       "<pre style=\"white-space:pre;overflow-x:auto;line-height:normal;font-family:Menlo,'DejaVu Sans Mono',consolas,'Courier New',monospace\">Best mean reward: 88.85 - Last mean reward per episode: 90.38\n",
       "</pre>\n"
      ],
      "text/plain": [
       "Best mean reward: 88.85 - Last mean reward per episode: 90.38\n"
      ]
     },
     "metadata": {},
     "output_type": "display_data"
    },
    {
     "data": {
      "text/html": [
       "<pre style=\"white-space:pre;overflow-x:auto;line-height:normal;font-family:Menlo,'DejaVu Sans Mono',consolas,'Courier New',monospace\">Saving new best model to tmp/gym/multiinput_256/best_model.zip\n",
       "</pre>\n"
      ],
      "text/plain": [
       "Saving new best model to tmp/gym/multiinput_256/best_model.zip\n"
      ]
     },
     "metadata": {},
     "output_type": "display_data"
    },
    {
     "data": {
      "text/html": [
       "<pre style=\"white-space:pre;overflow-x:auto;line-height:normal;font-family:Menlo,'DejaVu Sans Mono',consolas,'Courier New',monospace\">Num timesteps: 418000\n",
       "</pre>\n"
      ],
      "text/plain": [
       "Num timesteps: 418000\n"
      ]
     },
     "metadata": {},
     "output_type": "display_data"
    },
    {
     "data": {
      "text/html": [
       "<pre style=\"white-space:pre;overflow-x:auto;line-height:normal;font-family:Menlo,'DejaVu Sans Mono',consolas,'Courier New',monospace\">Best mean reward: 90.38 - Last mean reward per episode: 91.22\n",
       "</pre>\n"
      ],
      "text/plain": [
       "Best mean reward: 90.38 - Last mean reward per episode: 91.22\n"
      ]
     },
     "metadata": {},
     "output_type": "display_data"
    },
    {
     "data": {
      "text/html": [
       "<pre style=\"white-space:pre;overflow-x:auto;line-height:normal;font-family:Menlo,'DejaVu Sans Mono',consolas,'Courier New',monospace\">Saving new best model to tmp/gym/multiinput_256/best_model.zip\n",
       "</pre>\n"
      ],
      "text/plain": [
       "Saving new best model to tmp/gym/multiinput_256/best_model.zip\n"
      ]
     },
     "metadata": {},
     "output_type": "display_data"
    },
    {
     "data": {
      "text/html": [
       "<pre style=\"white-space:pre;overflow-x:auto;line-height:normal;font-family:Menlo,'DejaVu Sans Mono',consolas,'Courier New',monospace\">Num timesteps: 419000\n",
       "</pre>\n"
      ],
      "text/plain": [
       "Num timesteps: 419000\n"
      ]
     },
     "metadata": {},
     "output_type": "display_data"
    },
    {
     "data": {
      "text/html": [
       "<pre style=\"white-space:pre;overflow-x:auto;line-height:normal;font-family:Menlo,'DejaVu Sans Mono',consolas,'Courier New',monospace\">Best mean reward: 91.22 - Last mean reward per episode: 91.20\n",
       "</pre>\n"
      ],
      "text/plain": [
       "Best mean reward: 91.22 - Last mean reward per episode: 91.20\n"
      ]
     },
     "metadata": {},
     "output_type": "display_data"
    },
    {
     "data": {
      "text/html": [
       "<pre style=\"white-space:pre;overflow-x:auto;line-height:normal;font-family:Menlo,'DejaVu Sans Mono',consolas,'Courier New',monospace\">Num timesteps: 420000\n",
       "</pre>\n"
      ],
      "text/plain": [
       "Num timesteps: 420000\n"
      ]
     },
     "metadata": {},
     "output_type": "display_data"
    },
    {
     "data": {
      "text/html": [
       "<pre style=\"white-space:pre;overflow-x:auto;line-height:normal;font-family:Menlo,'DejaVu Sans Mono',consolas,'Courier New',monospace\">Best mean reward: 91.22 - Last mean reward per episode: 91.96\n",
       "</pre>\n"
      ],
      "text/plain": [
       "Best mean reward: 91.22 - Last mean reward per episode: 91.96\n"
      ]
     },
     "metadata": {},
     "output_type": "display_data"
    },
    {
     "data": {
      "text/html": [
       "<pre style=\"white-space:pre;overflow-x:auto;line-height:normal;font-family:Menlo,'DejaVu Sans Mono',consolas,'Courier New',monospace\">Saving new best model to tmp/gym/multiinput_256/best_model.zip\n",
       "</pre>\n"
      ],
      "text/plain": [
       "Saving new best model to tmp/gym/multiinput_256/best_model.zip\n"
      ]
     },
     "metadata": {},
     "output_type": "display_data"
    },
    {
     "data": {
      "text/html": [
       "<pre style=\"white-space:pre;overflow-x:auto;line-height:normal;font-family:Menlo,'DejaVu Sans Mono',consolas,'Courier New',monospace\">Num timesteps: 421000\n",
       "</pre>\n"
      ],
      "text/plain": [
       "Num timesteps: 421000\n"
      ]
     },
     "metadata": {},
     "output_type": "display_data"
    },
    {
     "data": {
      "text/html": [
       "<pre style=\"white-space:pre;overflow-x:auto;line-height:normal;font-family:Menlo,'DejaVu Sans Mono',consolas,'Courier New',monospace\">Best mean reward: 91.96 - Last mean reward per episode: 93.10\n",
       "</pre>\n"
      ],
      "text/plain": [
       "Best mean reward: 91.96 - Last mean reward per episode: 93.10\n"
      ]
     },
     "metadata": {},
     "output_type": "display_data"
    },
    {
     "data": {
      "text/html": [
       "<pre style=\"white-space:pre;overflow-x:auto;line-height:normal;font-family:Menlo,'DejaVu Sans Mono',consolas,'Courier New',monospace\">Saving new best model to tmp/gym/multiinput_256/best_model.zip\n",
       "</pre>\n"
      ],
      "text/plain": [
       "Saving new best model to tmp/gym/multiinput_256/best_model.zip\n"
      ]
     },
     "metadata": {},
     "output_type": "display_data"
    },
    {
     "data": {
      "text/html": [
       "<pre style=\"white-space:pre;overflow-x:auto;line-height:normal;font-family:Menlo,'DejaVu Sans Mono',consolas,'Courier New',monospace\">Num timesteps: 422000\n",
       "</pre>\n"
      ],
      "text/plain": [
       "Num timesteps: 422000\n"
      ]
     },
     "metadata": {},
     "output_type": "display_data"
    },
    {
     "data": {
      "text/html": [
       "<pre style=\"white-space:pre;overflow-x:auto;line-height:normal;font-family:Menlo,'DejaVu Sans Mono',consolas,'Courier New',monospace\">Best mean reward: 93.10 - Last mean reward per episode: 93.48\n",
       "</pre>\n"
      ],
      "text/plain": [
       "Best mean reward: 93.10 - Last mean reward per episode: 93.48\n"
      ]
     },
     "metadata": {},
     "output_type": "display_data"
    },
    {
     "data": {
      "text/html": [
       "<pre style=\"white-space:pre;overflow-x:auto;line-height:normal;font-family:Menlo,'DejaVu Sans Mono',consolas,'Courier New',monospace\">Saving new best model to tmp/gym/multiinput_256/best_model.zip\n",
       "</pre>\n"
      ],
      "text/plain": [
       "Saving new best model to tmp/gym/multiinput_256/best_model.zip\n"
      ]
     },
     "metadata": {},
     "output_type": "display_data"
    },
    {
     "data": {
      "text/html": [
       "<pre style=\"white-space:pre;overflow-x:auto;line-height:normal;font-family:Menlo,'DejaVu Sans Mono',consolas,'Courier New',monospace\">Num timesteps: 423000\n",
       "</pre>\n"
      ],
      "text/plain": [
       "Num timesteps: 423000\n"
      ]
     },
     "metadata": {},
     "output_type": "display_data"
    },
    {
     "data": {
      "text/html": [
       "<pre style=\"white-space:pre;overflow-x:auto;line-height:normal;font-family:Menlo,'DejaVu Sans Mono',consolas,'Courier New',monospace\">Best mean reward: 93.48 - Last mean reward per episode: 93.99\n",
       "</pre>\n"
      ],
      "text/plain": [
       "Best mean reward: 93.48 - Last mean reward per episode: 93.99\n"
      ]
     },
     "metadata": {},
     "output_type": "display_data"
    },
    {
     "data": {
      "text/html": [
       "<pre style=\"white-space:pre;overflow-x:auto;line-height:normal;font-family:Menlo,'DejaVu Sans Mono',consolas,'Courier New',monospace\">Saving new best model to tmp/gym/multiinput_256/best_model.zip\n",
       "</pre>\n"
      ],
      "text/plain": [
       "Saving new best model to tmp/gym/multiinput_256/best_model.zip\n"
      ]
     },
     "metadata": {},
     "output_type": "display_data"
    },
    {
     "data": {
      "text/html": [
       "<pre style=\"white-space:pre;overflow-x:auto;line-height:normal;font-family:Menlo,'DejaVu Sans Mono',consolas,'Courier New',monospace\">Num timesteps: 424000\n",
       "</pre>\n"
      ],
      "text/plain": [
       "Num timesteps: 424000\n"
      ]
     },
     "metadata": {},
     "output_type": "display_data"
    },
    {
     "data": {
      "text/html": [
       "<pre style=\"white-space:pre;overflow-x:auto;line-height:normal;font-family:Menlo,'DejaVu Sans Mono',consolas,'Courier New',monospace\">Best mean reward: 93.99 - Last mean reward per episode: 94.65\n",
       "</pre>\n"
      ],
      "text/plain": [
       "Best mean reward: 93.99 - Last mean reward per episode: 94.65\n"
      ]
     },
     "metadata": {},
     "output_type": "display_data"
    },
    {
     "data": {
      "text/html": [
       "<pre style=\"white-space:pre;overflow-x:auto;line-height:normal;font-family:Menlo,'DejaVu Sans Mono',consolas,'Courier New',monospace\">Saving new best model to tmp/gym/multiinput_256/best_model.zip\n",
       "</pre>\n"
      ],
      "text/plain": [
       "Saving new best model to tmp/gym/multiinput_256/best_model.zip\n"
      ]
     },
     "metadata": {},
     "output_type": "display_data"
    },
    {
     "data": {
      "text/html": [
       "<pre style=\"white-space:pre;overflow-x:auto;line-height:normal;font-family:Menlo,'DejaVu Sans Mono',consolas,'Courier New',monospace\">Num timesteps: 425000\n",
       "</pre>\n"
      ],
      "text/plain": [
       "Num timesteps: 425000\n"
      ]
     },
     "metadata": {},
     "output_type": "display_data"
    },
    {
     "data": {
      "text/html": [
       "<pre style=\"white-space:pre;overflow-x:auto;line-height:normal;font-family:Menlo,'DejaVu Sans Mono',consolas,'Courier New',monospace\">Best mean reward: 94.65 - Last mean reward per episode: 94.56\n",
       "</pre>\n"
      ],
      "text/plain": [
       "Best mean reward: 94.65 - Last mean reward per episode: 94.56\n"
      ]
     },
     "metadata": {},
     "output_type": "display_data"
    },
    {
     "data": {
      "text/html": [
       "<pre style=\"white-space:pre;overflow-x:auto;line-height:normal;font-family:Menlo,'DejaVu Sans Mono',consolas,'Courier New',monospace\">Num timesteps: 426000\n",
       "</pre>\n"
      ],
      "text/plain": [
       "Num timesteps: 426000\n"
      ]
     },
     "metadata": {},
     "output_type": "display_data"
    },
    {
     "data": {
      "text/html": [
       "<pre style=\"white-space:pre;overflow-x:auto;line-height:normal;font-family:Menlo,'DejaVu Sans Mono',consolas,'Courier New',monospace\">Best mean reward: 94.65 - Last mean reward per episode: 95.31\n",
       "</pre>\n"
      ],
      "text/plain": [
       "Best mean reward: 94.65 - Last mean reward per episode: 95.31\n"
      ]
     },
     "metadata": {},
     "output_type": "display_data"
    },
    {
     "data": {
      "text/html": [
       "<pre style=\"white-space:pre;overflow-x:auto;line-height:normal;font-family:Menlo,'DejaVu Sans Mono',consolas,'Courier New',monospace\">Saving new best model to tmp/gym/multiinput_256/best_model.zip\n",
       "</pre>\n"
      ],
      "text/plain": [
       "Saving new best model to tmp/gym/multiinput_256/best_model.zip\n"
      ]
     },
     "metadata": {},
     "output_type": "display_data"
    },
    {
     "data": {
      "text/html": [
       "<pre style=\"white-space:pre;overflow-x:auto;line-height:normal;font-family:Menlo,'DejaVu Sans Mono',consolas,'Courier New',monospace\">Num timesteps: 427000\n",
       "</pre>\n"
      ],
      "text/plain": [
       "Num timesteps: 427000\n"
      ]
     },
     "metadata": {},
     "output_type": "display_data"
    },
    {
     "data": {
      "text/html": [
       "<pre style=\"white-space:pre;overflow-x:auto;line-height:normal;font-family:Menlo,'DejaVu Sans Mono',consolas,'Courier New',monospace\">Best mean reward: 95.31 - Last mean reward per episode: 96.47\n",
       "</pre>\n"
      ],
      "text/plain": [
       "Best mean reward: 95.31 - Last mean reward per episode: 96.47\n"
      ]
     },
     "metadata": {},
     "output_type": "display_data"
    },
    {
     "data": {
      "text/html": [
       "<pre style=\"white-space:pre;overflow-x:auto;line-height:normal;font-family:Menlo,'DejaVu Sans Mono',consolas,'Courier New',monospace\">Saving new best model to tmp/gym/multiinput_256/best_model.zip\n",
       "</pre>\n"
      ],
      "text/plain": [
       "Saving new best model to tmp/gym/multiinput_256/best_model.zip\n"
      ]
     },
     "metadata": {},
     "output_type": "display_data"
    },
    {
     "data": {
      "text/html": [
       "<pre style=\"white-space:pre;overflow-x:auto;line-height:normal;font-family:Menlo,'DejaVu Sans Mono',consolas,'Courier New',monospace\">Num timesteps: 428000\n",
       "</pre>\n"
      ],
      "text/plain": [
       "Num timesteps: 428000\n"
      ]
     },
     "metadata": {},
     "output_type": "display_data"
    },
    {
     "data": {
      "text/html": [
       "<pre style=\"white-space:pre;overflow-x:auto;line-height:normal;font-family:Menlo,'DejaVu Sans Mono',consolas,'Courier New',monospace\">Best mean reward: 96.47 - Last mean reward per episode: 96.27\n",
       "</pre>\n"
      ],
      "text/plain": [
       "Best mean reward: 96.47 - Last mean reward per episode: 96.27\n"
      ]
     },
     "metadata": {},
     "output_type": "display_data"
    },
    {
     "data": {
      "text/html": [
       "<pre style=\"white-space:pre;overflow-x:auto;line-height:normal;font-family:Menlo,'DejaVu Sans Mono',consolas,'Courier New',monospace\">Num timesteps: 429000\n",
       "</pre>\n"
      ],
      "text/plain": [
       "Num timesteps: 429000\n"
      ]
     },
     "metadata": {},
     "output_type": "display_data"
    },
    {
     "data": {
      "text/html": [
       "<pre style=\"white-space:pre;overflow-x:auto;line-height:normal;font-family:Menlo,'DejaVu Sans Mono',consolas,'Courier New',monospace\">Best mean reward: 96.47 - Last mean reward per episode: 97.28\n",
       "</pre>\n"
      ],
      "text/plain": [
       "Best mean reward: 96.47 - Last mean reward per episode: 97.28\n"
      ]
     },
     "metadata": {},
     "output_type": "display_data"
    },
    {
     "data": {
      "text/html": [
       "<pre style=\"white-space:pre;overflow-x:auto;line-height:normal;font-family:Menlo,'DejaVu Sans Mono',consolas,'Courier New',monospace\">Saving new best model to tmp/gym/multiinput_256/best_model.zip\n",
       "</pre>\n"
      ],
      "text/plain": [
       "Saving new best model to tmp/gym/multiinput_256/best_model.zip\n"
      ]
     },
     "metadata": {},
     "output_type": "display_data"
    },
    {
     "data": {
      "text/html": [
       "<pre style=\"white-space:pre;overflow-x:auto;line-height:normal;font-family:Menlo,'DejaVu Sans Mono',consolas,'Courier New',monospace\">Num timesteps: 430000\n",
       "</pre>\n"
      ],
      "text/plain": [
       "Num timesteps: 430000\n"
      ]
     },
     "metadata": {},
     "output_type": "display_data"
    },
    {
     "data": {
      "text/html": [
       "<pre style=\"white-space:pre;overflow-x:auto;line-height:normal;font-family:Menlo,'DejaVu Sans Mono',consolas,'Courier New',monospace\">Best mean reward: 97.28 - Last mean reward per episode: 97.74\n",
       "</pre>\n"
      ],
      "text/plain": [
       "Best mean reward: 97.28 - Last mean reward per episode: 97.74\n"
      ]
     },
     "metadata": {},
     "output_type": "display_data"
    },
    {
     "data": {
      "text/html": [
       "<pre style=\"white-space:pre;overflow-x:auto;line-height:normal;font-family:Menlo,'DejaVu Sans Mono',consolas,'Courier New',monospace\">Saving new best model to tmp/gym/multiinput_256/best_model.zip\n",
       "</pre>\n"
      ],
      "text/plain": [
       "Saving new best model to tmp/gym/multiinput_256/best_model.zip\n"
      ]
     },
     "metadata": {},
     "output_type": "display_data"
    },
    {
     "name": "stdout",
     "output_type": "stream",
     "text": [
      "---------------------------------------\n",
      "| rollout/                |           |\n",
      "|    ep_len_mean          | 500       |\n",
      "|    ep_rew_mean          | 97.7      |\n",
      "| time/                   |           |\n",
      "|    fps                  | 89        |\n",
      "|    iterations           | 210       |\n",
      "|    time_elapsed         | 4795      |\n",
      "|    total_timesteps      | 430080    |\n",
      "| train/                  |           |\n",
      "|    approx_kl            | 0.5653002 |\n",
      "|    clip_fraction        | 0.748     |\n",
      "|    clip_range           | 0.2       |\n",
      "|    entropy_loss         | -5.59     |\n",
      "|    explained_variance   | 0.968     |\n",
      "|    learning_rate        | 0.0003    |\n",
      "|    loss                 | -0.0703   |\n",
      "|    n_updates            | 2090      |\n",
      "|    policy_gradient_loss | -0.0543   |\n",
      "|    std                  | 0.538     |\n",
      "|    value_loss           | 0.439     |\n",
      "---------------------------------------\n"
     ]
    },
    {
     "data": {
      "text/html": [
       "<pre style=\"white-space:pre;overflow-x:auto;line-height:normal;font-family:Menlo,'DejaVu Sans Mono',consolas,'Courier New',monospace\">Num timesteps: 431000\n",
       "</pre>\n"
      ],
      "text/plain": [
       "Num timesteps: 431000\n"
      ]
     },
     "metadata": {},
     "output_type": "display_data"
    },
    {
     "data": {
      "text/html": [
       "<pre style=\"white-space:pre;overflow-x:auto;line-height:normal;font-family:Menlo,'DejaVu Sans Mono',consolas,'Courier New',monospace\">Best mean reward: 97.74 - Last mean reward per episode: 98.53\n",
       "</pre>\n"
      ],
      "text/plain": [
       "Best mean reward: 97.74 - Last mean reward per episode: 98.53\n"
      ]
     },
     "metadata": {},
     "output_type": "display_data"
    },
    {
     "data": {
      "text/html": [
       "<pre style=\"white-space:pre;overflow-x:auto;line-height:normal;font-family:Menlo,'DejaVu Sans Mono',consolas,'Courier New',monospace\">Saving new best model to tmp/gym/multiinput_256/best_model.zip\n",
       "</pre>\n"
      ],
      "text/plain": [
       "Saving new best model to tmp/gym/multiinput_256/best_model.zip\n"
      ]
     },
     "metadata": {},
     "output_type": "display_data"
    },
    {
     "data": {
      "text/html": [
       "<pre style=\"white-space:pre;overflow-x:auto;line-height:normal;font-family:Menlo,'DejaVu Sans Mono',consolas,'Courier New',monospace\">Num timesteps: 432000\n",
       "</pre>\n"
      ],
      "text/plain": [
       "Num timesteps: 432000\n"
      ]
     },
     "metadata": {},
     "output_type": "display_data"
    },
    {
     "data": {
      "text/html": [
       "<pre style=\"white-space:pre;overflow-x:auto;line-height:normal;font-family:Menlo,'DejaVu Sans Mono',consolas,'Courier New',monospace\">Best mean reward: 98.53 - Last mean reward per episode: 99.47\n",
       "</pre>\n"
      ],
      "text/plain": [
       "Best mean reward: 98.53 - Last mean reward per episode: 99.47\n"
      ]
     },
     "metadata": {},
     "output_type": "display_data"
    },
    {
     "data": {
      "text/html": [
       "<pre style=\"white-space:pre;overflow-x:auto;line-height:normal;font-family:Menlo,'DejaVu Sans Mono',consolas,'Courier New',monospace\">Saving new best model to tmp/gym/multiinput_256/best_model.zip\n",
       "</pre>\n"
      ],
      "text/plain": [
       "Saving new best model to tmp/gym/multiinput_256/best_model.zip\n"
      ]
     },
     "metadata": {},
     "output_type": "display_data"
    },
    {
     "data": {
      "text/html": [
       "<pre style=\"white-space:pre;overflow-x:auto;line-height:normal;font-family:Menlo,'DejaVu Sans Mono',consolas,'Courier New',monospace\">Num timesteps: 433000\n",
       "</pre>\n"
      ],
      "text/plain": [
       "Num timesteps: 433000\n"
      ]
     },
     "metadata": {},
     "output_type": "display_data"
    },
    {
     "data": {
      "text/html": [
       "<pre style=\"white-space:pre;overflow-x:auto;line-height:normal;font-family:Menlo,'DejaVu Sans Mono',consolas,'Courier New',monospace\">Best mean reward: 99.47 - Last mean reward per episode: 102.06\n",
       "</pre>\n"
      ],
      "text/plain": [
       "Best mean reward: 99.47 - Last mean reward per episode: 102.06\n"
      ]
     },
     "metadata": {},
     "output_type": "display_data"
    },
    {
     "data": {
      "text/html": [
       "<pre style=\"white-space:pre;overflow-x:auto;line-height:normal;font-family:Menlo,'DejaVu Sans Mono',consolas,'Courier New',monospace\">Saving new best model to tmp/gym/multiinput_256/best_model.zip\n",
       "</pre>\n"
      ],
      "text/plain": [
       "Saving new best model to tmp/gym/multiinput_256/best_model.zip\n"
      ]
     },
     "metadata": {},
     "output_type": "display_data"
    },
    {
     "data": {
      "text/html": [
       "<pre style=\"white-space:pre;overflow-x:auto;line-height:normal;font-family:Menlo,'DejaVu Sans Mono',consolas,'Courier New',monospace\">Num timesteps: 434000\n",
       "</pre>\n"
      ],
      "text/plain": [
       "Num timesteps: 434000\n"
      ]
     },
     "metadata": {},
     "output_type": "display_data"
    },
    {
     "data": {
      "text/html": [
       "<pre style=\"white-space:pre;overflow-x:auto;line-height:normal;font-family:Menlo,'DejaVu Sans Mono',consolas,'Courier New',monospace\">Best mean reward: 102.06 - Last mean reward per episode: 103.79\n",
       "</pre>\n"
      ],
      "text/plain": [
       "Best mean reward: 102.06 - Last mean reward per episode: 103.79\n"
      ]
     },
     "metadata": {},
     "output_type": "display_data"
    },
    {
     "data": {
      "text/html": [
       "<pre style=\"white-space:pre;overflow-x:auto;line-height:normal;font-family:Menlo,'DejaVu Sans Mono',consolas,'Courier New',monospace\">Saving new best model to tmp/gym/multiinput_256/best_model.zip\n",
       "</pre>\n"
      ],
      "text/plain": [
       "Saving new best model to tmp/gym/multiinput_256/best_model.zip\n"
      ]
     },
     "metadata": {},
     "output_type": "display_data"
    },
    {
     "data": {
      "text/html": [
       "<pre style=\"white-space:pre;overflow-x:auto;line-height:normal;font-family:Menlo,'DejaVu Sans Mono',consolas,'Courier New',monospace\">Num timesteps: 435000\n",
       "</pre>\n"
      ],
      "text/plain": [
       "Num timesteps: 435000\n"
      ]
     },
     "metadata": {},
     "output_type": "display_data"
    },
    {
     "data": {
      "text/html": [
       "<pre style=\"white-space:pre;overflow-x:auto;line-height:normal;font-family:Menlo,'DejaVu Sans Mono',consolas,'Courier New',monospace\">Best mean reward: 103.79 - Last mean reward per episode: 105.74\n",
       "</pre>\n"
      ],
      "text/plain": [
       "Best mean reward: 103.79 - Last mean reward per episode: 105.74\n"
      ]
     },
     "metadata": {},
     "output_type": "display_data"
    },
    {
     "data": {
      "text/html": [
       "<pre style=\"white-space:pre;overflow-x:auto;line-height:normal;font-family:Menlo,'DejaVu Sans Mono',consolas,'Courier New',monospace\">Saving new best model to tmp/gym/multiinput_256/best_model.zip\n",
       "</pre>\n"
      ],
      "text/plain": [
       "Saving new best model to tmp/gym/multiinput_256/best_model.zip\n"
      ]
     },
     "metadata": {},
     "output_type": "display_data"
    },
    {
     "data": {
      "text/html": [
       "<pre style=\"white-space:pre;overflow-x:auto;line-height:normal;font-family:Menlo,'DejaVu Sans Mono',consolas,'Courier New',monospace\">Num timesteps: 436000\n",
       "</pre>\n"
      ],
      "text/plain": [
       "Num timesteps: 436000\n"
      ]
     },
     "metadata": {},
     "output_type": "display_data"
    },
    {
     "data": {
      "text/html": [
       "<pre style=\"white-space:pre;overflow-x:auto;line-height:normal;font-family:Menlo,'DejaVu Sans Mono',consolas,'Courier New',monospace\">Best mean reward: 105.74 - Last mean reward per episode: 107.15\n",
       "</pre>\n"
      ],
      "text/plain": [
       "Best mean reward: 105.74 - Last mean reward per episode: 107.15\n"
      ]
     },
     "metadata": {},
     "output_type": "display_data"
    },
    {
     "data": {
      "text/html": [
       "<pre style=\"white-space:pre;overflow-x:auto;line-height:normal;font-family:Menlo,'DejaVu Sans Mono',consolas,'Courier New',monospace\">Saving new best model to tmp/gym/multiinput_256/best_model.zip\n",
       "</pre>\n"
      ],
      "text/plain": [
       "Saving new best model to tmp/gym/multiinput_256/best_model.zip\n"
      ]
     },
     "metadata": {},
     "output_type": "display_data"
    },
    {
     "data": {
      "text/html": [
       "<pre style=\"white-space:pre;overflow-x:auto;line-height:normal;font-family:Menlo,'DejaVu Sans Mono',consolas,'Courier New',monospace\">Num timesteps: 437000\n",
       "</pre>\n"
      ],
      "text/plain": [
       "Num timesteps: 437000\n"
      ]
     },
     "metadata": {},
     "output_type": "display_data"
    },
    {
     "data": {
      "text/html": [
       "<pre style=\"white-space:pre;overflow-x:auto;line-height:normal;font-family:Menlo,'DejaVu Sans Mono',consolas,'Courier New',monospace\">Best mean reward: 107.15 - Last mean reward per episode: 107.35\n",
       "</pre>\n"
      ],
      "text/plain": [
       "Best mean reward: 107.15 - Last mean reward per episode: 107.35\n"
      ]
     },
     "metadata": {},
     "output_type": "display_data"
    },
    {
     "data": {
      "text/html": [
       "<pre style=\"white-space:pre;overflow-x:auto;line-height:normal;font-family:Menlo,'DejaVu Sans Mono',consolas,'Courier New',monospace\">Saving new best model to tmp/gym/multiinput_256/best_model.zip\n",
       "</pre>\n"
      ],
      "text/plain": [
       "Saving new best model to tmp/gym/multiinput_256/best_model.zip\n"
      ]
     },
     "metadata": {},
     "output_type": "display_data"
    },
    {
     "data": {
      "text/html": [
       "<pre style=\"white-space:pre;overflow-x:auto;line-height:normal;font-family:Menlo,'DejaVu Sans Mono',consolas,'Courier New',monospace\">Num timesteps: 438000\n",
       "</pre>\n"
      ],
      "text/plain": [
       "Num timesteps: 438000\n"
      ]
     },
     "metadata": {},
     "output_type": "display_data"
    },
    {
     "data": {
      "text/html": [
       "<pre style=\"white-space:pre;overflow-x:auto;line-height:normal;font-family:Menlo,'DejaVu Sans Mono',consolas,'Courier New',monospace\">Best mean reward: 107.35 - Last mean reward per episode: 106.65\n",
       "</pre>\n"
      ],
      "text/plain": [
       "Best mean reward: 107.35 - Last mean reward per episode: 106.65\n"
      ]
     },
     "metadata": {},
     "output_type": "display_data"
    },
    {
     "data": {
      "text/html": [
       "<pre style=\"white-space:pre;overflow-x:auto;line-height:normal;font-family:Menlo,'DejaVu Sans Mono',consolas,'Courier New',monospace\">Num timesteps: 439000\n",
       "</pre>\n"
      ],
      "text/plain": [
       "Num timesteps: 439000\n"
      ]
     },
     "metadata": {},
     "output_type": "display_data"
    },
    {
     "data": {
      "text/html": [
       "<pre style=\"white-space:pre;overflow-x:auto;line-height:normal;font-family:Menlo,'DejaVu Sans Mono',consolas,'Courier New',monospace\">Best mean reward: 107.35 - Last mean reward per episode: 106.52\n",
       "</pre>\n"
      ],
      "text/plain": [
       "Best mean reward: 107.35 - Last mean reward per episode: 106.52\n"
      ]
     },
     "metadata": {},
     "output_type": "display_data"
    },
    {
     "data": {
      "text/html": [
       "<pre style=\"white-space:pre;overflow-x:auto;line-height:normal;font-family:Menlo,'DejaVu Sans Mono',consolas,'Courier New',monospace\">Num timesteps: 440000\n",
       "</pre>\n"
      ],
      "text/plain": [
       "Num timesteps: 440000\n"
      ]
     },
     "metadata": {},
     "output_type": "display_data"
    },
    {
     "data": {
      "text/html": [
       "<pre style=\"white-space:pre;overflow-x:auto;line-height:normal;font-family:Menlo,'DejaVu Sans Mono',consolas,'Courier New',monospace\">Best mean reward: 107.35 - Last mean reward per episode: 106.73\n",
       "</pre>\n"
      ],
      "text/plain": [
       "Best mean reward: 107.35 - Last mean reward per episode: 106.73\n"
      ]
     },
     "metadata": {},
     "output_type": "display_data"
    },
    {
     "data": {
      "text/html": [
       "<pre style=\"white-space:pre;overflow-x:auto;line-height:normal;font-family:Menlo,'DejaVu Sans Mono',consolas,'Courier New',monospace\">Num timesteps: 441000\n",
       "</pre>\n"
      ],
      "text/plain": [
       "Num timesteps: 441000\n"
      ]
     },
     "metadata": {},
     "output_type": "display_data"
    },
    {
     "data": {
      "text/html": [
       "<pre style=\"white-space:pre;overflow-x:auto;line-height:normal;font-family:Menlo,'DejaVu Sans Mono',consolas,'Courier New',monospace\">Best mean reward: 107.35 - Last mean reward per episode: 106.05\n",
       "</pre>\n"
      ],
      "text/plain": [
       "Best mean reward: 107.35 - Last mean reward per episode: 106.05\n"
      ]
     },
     "metadata": {},
     "output_type": "display_data"
    },
    {
     "data": {
      "text/html": [
       "<pre style=\"white-space:pre;overflow-x:auto;line-height:normal;font-family:Menlo,'DejaVu Sans Mono',consolas,'Courier New',monospace\">Num timesteps: 442000\n",
       "</pre>\n"
      ],
      "text/plain": [
       "Num timesteps: 442000\n"
      ]
     },
     "metadata": {},
     "output_type": "display_data"
    },
    {
     "data": {
      "text/html": [
       "<pre style=\"white-space:pre;overflow-x:auto;line-height:normal;font-family:Menlo,'DejaVu Sans Mono',consolas,'Courier New',monospace\">Best mean reward: 107.35 - Last mean reward per episode: 107.02\n",
       "</pre>\n"
      ],
      "text/plain": [
       "Best mean reward: 107.35 - Last mean reward per episode: 107.02\n"
      ]
     },
     "metadata": {},
     "output_type": "display_data"
    },
    {
     "data": {
      "text/html": [
       "<pre style=\"white-space:pre;overflow-x:auto;line-height:normal;font-family:Menlo,'DejaVu Sans Mono',consolas,'Courier New',monospace\">Num timesteps: 444000\n",
       "</pre>\n"
      ],
      "text/plain": [
       "Num timesteps: 444000\n"
      ]
     },
     "metadata": {},
     "output_type": "display_data"
    },
    {
     "data": {
      "text/html": [
       "<pre style=\"white-space:pre;overflow-x:auto;line-height:normal;font-family:Menlo,'DejaVu Sans Mono',consolas,'Courier New',monospace\">Best mean reward: 107.35 - Last mean reward per episode: 107.17\n",
       "</pre>\n"
      ],
      "text/plain": [
       "Best mean reward: 107.35 - Last mean reward per episode: 107.17\n"
      ]
     },
     "metadata": {},
     "output_type": "display_data"
    },
    {
     "data": {
      "text/html": [
       "<pre style=\"white-space:pre;overflow-x:auto;line-height:normal;font-family:Menlo,'DejaVu Sans Mono',consolas,'Courier New',monospace\">Num timesteps: 445000\n",
       "</pre>\n"
      ],
      "text/plain": [
       "Num timesteps: 445000\n"
      ]
     },
     "metadata": {},
     "output_type": "display_data"
    },
    {
     "data": {
      "text/html": [
       "<pre style=\"white-space:pre;overflow-x:auto;line-height:normal;font-family:Menlo,'DejaVu Sans Mono',consolas,'Courier New',monospace\">Best mean reward: 107.35 - Last mean reward per episode: 106.99\n",
       "</pre>\n"
      ],
      "text/plain": [
       "Best mean reward: 107.35 - Last mean reward per episode: 106.99\n"
      ]
     },
     "metadata": {},
     "output_type": "display_data"
    },
    {
     "data": {
      "text/html": [
       "<pre style=\"white-space:pre;overflow-x:auto;line-height:normal;font-family:Menlo,'DejaVu Sans Mono',consolas,'Courier New',monospace\">Num timesteps: 446000\n",
       "</pre>\n"
      ],
      "text/plain": [
       "Num timesteps: 446000\n"
      ]
     },
     "metadata": {},
     "output_type": "display_data"
    },
    {
     "data": {
      "text/html": [
       "<pre style=\"white-space:pre;overflow-x:auto;line-height:normal;font-family:Menlo,'DejaVu Sans Mono',consolas,'Courier New',monospace\">Best mean reward: 107.35 - Last mean reward per episode: 106.79\n",
       "</pre>\n"
      ],
      "text/plain": [
       "Best mean reward: 107.35 - Last mean reward per episode: 106.79\n"
      ]
     },
     "metadata": {},
     "output_type": "display_data"
    },
    {
     "data": {
      "text/html": [
       "<pre style=\"white-space:pre;overflow-x:auto;line-height:normal;font-family:Menlo,'DejaVu Sans Mono',consolas,'Courier New',monospace\">Num timesteps: 447000\n",
       "</pre>\n"
      ],
      "text/plain": [
       "Num timesteps: 447000\n"
      ]
     },
     "metadata": {},
     "output_type": "display_data"
    },
    {
     "data": {
      "text/html": [
       "<pre style=\"white-space:pre;overflow-x:auto;line-height:normal;font-family:Menlo,'DejaVu Sans Mono',consolas,'Courier New',monospace\">Best mean reward: 107.35 - Last mean reward per episode: 106.45\n",
       "</pre>\n"
      ],
      "text/plain": [
       "Best mean reward: 107.35 - Last mean reward per episode: 106.45\n"
      ]
     },
     "metadata": {},
     "output_type": "display_data"
    },
    {
     "data": {
      "text/html": [
       "<pre style=\"white-space:pre;overflow-x:auto;line-height:normal;font-family:Menlo,'DejaVu Sans Mono',consolas,'Courier New',monospace\">Num timesteps: 448000\n",
       "</pre>\n"
      ],
      "text/plain": [
       "Num timesteps: 448000\n"
      ]
     },
     "metadata": {},
     "output_type": "display_data"
    },
    {
     "data": {
      "text/html": [
       "<pre style=\"white-space:pre;overflow-x:auto;line-height:normal;font-family:Menlo,'DejaVu Sans Mono',consolas,'Courier New',monospace\">Best mean reward: 107.35 - Last mean reward per episode: 105.69\n",
       "</pre>\n"
      ],
      "text/plain": [
       "Best mean reward: 107.35 - Last mean reward per episode: 105.69\n"
      ]
     },
     "metadata": {},
     "output_type": "display_data"
    },
    {
     "data": {
      "text/html": [
       "<pre style=\"white-space:pre;overflow-x:auto;line-height:normal;font-family:Menlo,'DejaVu Sans Mono',consolas,'Courier New',monospace\">Num timesteps: 449000\n",
       "</pre>\n"
      ],
      "text/plain": [
       "Num timesteps: 449000\n"
      ]
     },
     "metadata": {},
     "output_type": "display_data"
    },
    {
     "data": {
      "text/html": [
       "<pre style=\"white-space:pre;overflow-x:auto;line-height:normal;font-family:Menlo,'DejaVu Sans Mono',consolas,'Courier New',monospace\">Best mean reward: 107.35 - Last mean reward per episode: 106.42\n",
       "</pre>\n"
      ],
      "text/plain": [
       "Best mean reward: 107.35 - Last mean reward per episode: 106.42\n"
      ]
     },
     "metadata": {},
     "output_type": "display_data"
    },
    {
     "data": {
      "text/html": [
       "<pre style=\"white-space:pre;overflow-x:auto;line-height:normal;font-family:Menlo,'DejaVu Sans Mono',consolas,'Courier New',monospace\">Num timesteps: 450000\n",
       "</pre>\n"
      ],
      "text/plain": [
       "Num timesteps: 450000\n"
      ]
     },
     "metadata": {},
     "output_type": "display_data"
    },
    {
     "data": {
      "text/html": [
       "<pre style=\"white-space:pre;overflow-x:auto;line-height:normal;font-family:Menlo,'DejaVu Sans Mono',consolas,'Courier New',monospace\">Best mean reward: 107.35 - Last mean reward per episode: 106.62\n",
       "</pre>\n"
      ],
      "text/plain": [
       "Best mean reward: 107.35 - Last mean reward per episode: 106.62\n"
      ]
     },
     "metadata": {},
     "output_type": "display_data"
    },
    {
     "name": "stdout",
     "output_type": "stream",
     "text": [
      "----------------------------------------\n",
      "| rollout/                |            |\n",
      "|    ep_len_mean          | 500        |\n",
      "|    ep_rew_mean          | 107        |\n",
      "| time/                   |            |\n",
      "|    fps                  | 89         |\n",
      "|    iterations           | 220        |\n",
      "|    time_elapsed         | 5017       |\n",
      "|    total_timesteps      | 450560     |\n",
      "| train/                  |            |\n",
      "|    approx_kl            | 0.50470227 |\n",
      "|    clip_fraction        | 0.709      |\n",
      "|    clip_range           | 0.2        |\n",
      "|    entropy_loss         | -5.38      |\n",
      "|    explained_variance   | 0.922      |\n",
      "|    learning_rate        | 0.0003     |\n",
      "|    loss                 | 0.132      |\n",
      "|    n_updates            | 2190       |\n",
      "|    policy_gradient_loss | -0.0283    |\n",
      "|    std                  | 0.523      |\n",
      "|    value_loss           | 1.46       |\n",
      "----------------------------------------\n"
     ]
    },
    {
     "data": {
      "text/html": [
       "<pre style=\"white-space:pre;overflow-x:auto;line-height:normal;font-family:Menlo,'DejaVu Sans Mono',consolas,'Courier New',monospace\">Num timesteps: 451000\n",
       "</pre>\n"
      ],
      "text/plain": [
       "Num timesteps: 451000\n"
      ]
     },
     "metadata": {},
     "output_type": "display_data"
    },
    {
     "data": {
      "text/html": [
       "<pre style=\"white-space:pre;overflow-x:auto;line-height:normal;font-family:Menlo,'DejaVu Sans Mono',consolas,'Courier New',monospace\">Best mean reward: 107.35 - Last mean reward per episode: 107.52\n",
       "</pre>\n"
      ],
      "text/plain": [
       "Best mean reward: 107.35 - Last mean reward per episode: 107.52\n"
      ]
     },
     "metadata": {},
     "output_type": "display_data"
    },
    {
     "data": {
      "text/html": [
       "<pre style=\"white-space:pre;overflow-x:auto;line-height:normal;font-family:Menlo,'DejaVu Sans Mono',consolas,'Courier New',monospace\">Saving new best model to tmp/gym/multiinput_256/best_model.zip\n",
       "</pre>\n"
      ],
      "text/plain": [
       "Saving new best model to tmp/gym/multiinput_256/best_model.zip\n"
      ]
     },
     "metadata": {},
     "output_type": "display_data"
    },
    {
     "data": {
      "text/html": [
       "<pre style=\"white-space:pre;overflow-x:auto;line-height:normal;font-family:Menlo,'DejaVu Sans Mono',consolas,'Courier New',monospace\">Num timesteps: 452000\n",
       "</pre>\n"
      ],
      "text/plain": [
       "Num timesteps: 452000\n"
      ]
     },
     "metadata": {},
     "output_type": "display_data"
    },
    {
     "data": {
      "text/html": [
       "<pre style=\"white-space:pre;overflow-x:auto;line-height:normal;font-family:Menlo,'DejaVu Sans Mono',consolas,'Courier New',monospace\">Best mean reward: 107.52 - Last mean reward per episode: 106.29\n",
       "</pre>\n"
      ],
      "text/plain": [
       "Best mean reward: 107.52 - Last mean reward per episode: 106.29\n"
      ]
     },
     "metadata": {},
     "output_type": "display_data"
    },
    {
     "data": {
      "text/html": [
       "<pre style=\"white-space:pre;overflow-x:auto;line-height:normal;font-family:Menlo,'DejaVu Sans Mono',consolas,'Courier New',monospace\">Num timesteps: 453000\n",
       "</pre>\n"
      ],
      "text/plain": [
       "Num timesteps: 453000\n"
      ]
     },
     "metadata": {},
     "output_type": "display_data"
    },
    {
     "data": {
      "text/html": [
       "<pre style=\"white-space:pre;overflow-x:auto;line-height:normal;font-family:Menlo,'DejaVu Sans Mono',consolas,'Courier New',monospace\">Best mean reward: 107.52 - Last mean reward per episode: 106.66\n",
       "</pre>\n"
      ],
      "text/plain": [
       "Best mean reward: 107.52 - Last mean reward per episode: 106.66\n"
      ]
     },
     "metadata": {},
     "output_type": "display_data"
    },
    {
     "data": {
      "text/html": [
       "<pre style=\"white-space:pre;overflow-x:auto;line-height:normal;font-family:Menlo,'DejaVu Sans Mono',consolas,'Courier New',monospace\">Num timesteps: 454000\n",
       "</pre>\n"
      ],
      "text/plain": [
       "Num timesteps: 454000\n"
      ]
     },
     "metadata": {},
     "output_type": "display_data"
    },
    {
     "data": {
      "text/html": [
       "<pre style=\"white-space:pre;overflow-x:auto;line-height:normal;font-family:Menlo,'DejaVu Sans Mono',consolas,'Courier New',monospace\">Best mean reward: 107.52 - Last mean reward per episode: 106.09\n",
       "</pre>\n"
      ],
      "text/plain": [
       "Best mean reward: 107.52 - Last mean reward per episode: 106.09\n"
      ]
     },
     "metadata": {},
     "output_type": "display_data"
    },
    {
     "data": {
      "text/html": [
       "<pre style=\"white-space:pre;overflow-x:auto;line-height:normal;font-family:Menlo,'DejaVu Sans Mono',consolas,'Courier New',monospace\">Num timesteps: 455000\n",
       "</pre>\n"
      ],
      "text/plain": [
       "Num timesteps: 455000\n"
      ]
     },
     "metadata": {},
     "output_type": "display_data"
    },
    {
     "data": {
      "text/html": [
       "<pre style=\"white-space:pre;overflow-x:auto;line-height:normal;font-family:Menlo,'DejaVu Sans Mono',consolas,'Courier New',monospace\">Best mean reward: 107.52 - Last mean reward per episode: 105.14\n",
       "</pre>\n"
      ],
      "text/plain": [
       "Best mean reward: 107.52 - Last mean reward per episode: 105.14\n"
      ]
     },
     "metadata": {},
     "output_type": "display_data"
    },
    {
     "data": {
      "text/html": [
       "<pre style=\"white-space:pre;overflow-x:auto;line-height:normal;font-family:Menlo,'DejaVu Sans Mono',consolas,'Courier New',monospace\">Num timesteps: 456000\n",
       "</pre>\n"
      ],
      "text/plain": [
       "Num timesteps: 456000\n"
      ]
     },
     "metadata": {},
     "output_type": "display_data"
    },
    {
     "data": {
      "text/html": [
       "<pre style=\"white-space:pre;overflow-x:auto;line-height:normal;font-family:Menlo,'DejaVu Sans Mono',consolas,'Courier New',monospace\">Best mean reward: 107.52 - Last mean reward per episode: 106.61\n",
       "</pre>\n"
      ],
      "text/plain": [
       "Best mean reward: 107.52 - Last mean reward per episode: 106.61\n"
      ]
     },
     "metadata": {},
     "output_type": "display_data"
    },
    {
     "data": {
      "text/html": [
       "<pre style=\"white-space:pre;overflow-x:auto;line-height:normal;font-family:Menlo,'DejaVu Sans Mono',consolas,'Courier New',monospace\">Num timesteps: 457000\n",
       "</pre>\n"
      ],
      "text/plain": [
       "Num timesteps: 457000\n"
      ]
     },
     "metadata": {},
     "output_type": "display_data"
    },
    {
     "data": {
      "text/html": [
       "<pre style=\"white-space:pre;overflow-x:auto;line-height:normal;font-family:Menlo,'DejaVu Sans Mono',consolas,'Courier New',monospace\">Best mean reward: 107.52 - Last mean reward per episode: 104.50\n",
       "</pre>\n"
      ],
      "text/plain": [
       "Best mean reward: 107.52 - Last mean reward per episode: 104.50\n"
      ]
     },
     "metadata": {},
     "output_type": "display_data"
    },
    {
     "data": {
      "text/html": [
       "<pre style=\"white-space:pre;overflow-x:auto;line-height:normal;font-family:Menlo,'DejaVu Sans Mono',consolas,'Courier New',monospace\">Num timesteps: 458000\n",
       "</pre>\n"
      ],
      "text/plain": [
       "Num timesteps: 458000\n"
      ]
     },
     "metadata": {},
     "output_type": "display_data"
    },
    {
     "data": {
      "text/html": [
       "<pre style=\"white-space:pre;overflow-x:auto;line-height:normal;font-family:Menlo,'DejaVu Sans Mono',consolas,'Courier New',monospace\">Best mean reward: 107.52 - Last mean reward per episode: 102.46\n",
       "</pre>\n"
      ],
      "text/plain": [
       "Best mean reward: 107.52 - Last mean reward per episode: 102.46\n"
      ]
     },
     "metadata": {},
     "output_type": "display_data"
    },
    {
     "data": {
      "text/html": [
       "<pre style=\"white-space:pre;overflow-x:auto;line-height:normal;font-family:Menlo,'DejaVu Sans Mono',consolas,'Courier New',monospace\">Num timesteps: 459000\n",
       "</pre>\n"
      ],
      "text/plain": [
       "Num timesteps: 459000\n"
      ]
     },
     "metadata": {},
     "output_type": "display_data"
    },
    {
     "data": {
      "text/html": [
       "<pre style=\"white-space:pre;overflow-x:auto;line-height:normal;font-family:Menlo,'DejaVu Sans Mono',consolas,'Courier New',monospace\">Best mean reward: 107.52 - Last mean reward per episode: 101.35\n",
       "</pre>\n"
      ],
      "text/plain": [
       "Best mean reward: 107.52 - Last mean reward per episode: 101.35\n"
      ]
     },
     "metadata": {},
     "output_type": "display_data"
    },
    {
     "data": {
      "text/html": [
       "<pre style=\"white-space:pre;overflow-x:auto;line-height:normal;font-family:Menlo,'DejaVu Sans Mono',consolas,'Courier New',monospace\">Num timesteps: 460000\n",
       "</pre>\n"
      ],
      "text/plain": [
       "Num timesteps: 460000\n"
      ]
     },
     "metadata": {},
     "output_type": "display_data"
    },
    {
     "data": {
      "text/html": [
       "<pre style=\"white-space:pre;overflow-x:auto;line-height:normal;font-family:Menlo,'DejaVu Sans Mono',consolas,'Courier New',monospace\">Best mean reward: 107.52 - Last mean reward per episode: 99.86\n",
       "</pre>\n"
      ],
      "text/plain": [
       "Best mean reward: 107.52 - Last mean reward per episode: 99.86\n"
      ]
     },
     "metadata": {},
     "output_type": "display_data"
    },
    {
     "data": {
      "text/html": [
       "<pre style=\"white-space:pre;overflow-x:auto;line-height:normal;font-family:Menlo,'DejaVu Sans Mono',consolas,'Courier New',monospace\">Num timesteps: 461000\n",
       "</pre>\n"
      ],
      "text/plain": [
       "Num timesteps: 461000\n"
      ]
     },
     "metadata": {},
     "output_type": "display_data"
    },
    {
     "data": {
      "text/html": [
       "<pre style=\"white-space:pre;overflow-x:auto;line-height:normal;font-family:Menlo,'DejaVu Sans Mono',consolas,'Courier New',monospace\">Best mean reward: 107.52 - Last mean reward per episode: 100.37\n",
       "</pre>\n"
      ],
      "text/plain": [
       "Best mean reward: 107.52 - Last mean reward per episode: 100.37\n"
      ]
     },
     "metadata": {},
     "output_type": "display_data"
    },
    {
     "data": {
      "text/html": [
       "<pre style=\"white-space:pre;overflow-x:auto;line-height:normal;font-family:Menlo,'DejaVu Sans Mono',consolas,'Courier New',monospace\">Num timesteps: 462000\n",
       "</pre>\n"
      ],
      "text/plain": [
       "Num timesteps: 462000\n"
      ]
     },
     "metadata": {},
     "output_type": "display_data"
    },
    {
     "data": {
      "text/html": [
       "<pre style=\"white-space:pre;overflow-x:auto;line-height:normal;font-family:Menlo,'DejaVu Sans Mono',consolas,'Courier New',monospace\">Best mean reward: 107.52 - Last mean reward per episode: 99.66\n",
       "</pre>\n"
      ],
      "text/plain": [
       "Best mean reward: 107.52 - Last mean reward per episode: 99.66\n"
      ]
     },
     "metadata": {},
     "output_type": "display_data"
    },
    {
     "data": {
      "text/html": [
       "<pre style=\"white-space:pre;overflow-x:auto;line-height:normal;font-family:Menlo,'DejaVu Sans Mono',consolas,'Courier New',monospace\">Num timesteps: 463000\n",
       "</pre>\n"
      ],
      "text/plain": [
       "Num timesteps: 463000\n"
      ]
     },
     "metadata": {},
     "output_type": "display_data"
    },
    {
     "data": {
      "text/html": [
       "<pre style=\"white-space:pre;overflow-x:auto;line-height:normal;font-family:Menlo,'DejaVu Sans Mono',consolas,'Courier New',monospace\">Best mean reward: 107.52 - Last mean reward per episode: 98.36\n",
       "</pre>\n"
      ],
      "text/plain": [
       "Best mean reward: 107.52 - Last mean reward per episode: 98.36\n"
      ]
     },
     "metadata": {},
     "output_type": "display_data"
    },
    {
     "data": {
      "text/html": [
       "<pre style=\"white-space:pre;overflow-x:auto;line-height:normal;font-family:Menlo,'DejaVu Sans Mono',consolas,'Courier New',monospace\">Num timesteps: 464000\n",
       "</pre>\n"
      ],
      "text/plain": [
       "Num timesteps: 464000\n"
      ]
     },
     "metadata": {},
     "output_type": "display_data"
    },
    {
     "data": {
      "text/html": [
       "<pre style=\"white-space:pre;overflow-x:auto;line-height:normal;font-family:Menlo,'DejaVu Sans Mono',consolas,'Courier New',monospace\">Best mean reward: 107.52 - Last mean reward per episode: 98.07\n",
       "</pre>\n"
      ],
      "text/plain": [
       "Best mean reward: 107.52 - Last mean reward per episode: 98.07\n"
      ]
     },
     "metadata": {},
     "output_type": "display_data"
    },
    {
     "data": {
      "text/html": [
       "<pre style=\"white-space:pre;overflow-x:auto;line-height:normal;font-family:Menlo,'DejaVu Sans Mono',consolas,'Courier New',monospace\">Num timesteps: 465000\n",
       "</pre>\n"
      ],
      "text/plain": [
       "Num timesteps: 465000\n"
      ]
     },
     "metadata": {},
     "output_type": "display_data"
    },
    {
     "data": {
      "text/html": [
       "<pre style=\"white-space:pre;overflow-x:auto;line-height:normal;font-family:Menlo,'DejaVu Sans Mono',consolas,'Courier New',monospace\">Best mean reward: 107.52 - Last mean reward per episode: 96.07\n",
       "</pre>\n"
      ],
      "text/plain": [
       "Best mean reward: 107.52 - Last mean reward per episode: 96.07\n"
      ]
     },
     "metadata": {},
     "output_type": "display_data"
    },
    {
     "data": {
      "text/html": [
       "<pre style=\"white-space:pre;overflow-x:auto;line-height:normal;font-family:Menlo,'DejaVu Sans Mono',consolas,'Courier New',monospace\">Num timesteps: 466000\n",
       "</pre>\n"
      ],
      "text/plain": [
       "Num timesteps: 466000\n"
      ]
     },
     "metadata": {},
     "output_type": "display_data"
    },
    {
     "data": {
      "text/html": [
       "<pre style=\"white-space:pre;overflow-x:auto;line-height:normal;font-family:Menlo,'DejaVu Sans Mono',consolas,'Courier New',monospace\">Best mean reward: 107.52 - Last mean reward per episode: 96.35\n",
       "</pre>\n"
      ],
      "text/plain": [
       "Best mean reward: 107.52 - Last mean reward per episode: 96.35\n"
      ]
     },
     "metadata": {},
     "output_type": "display_data"
    },
    {
     "data": {
      "text/html": [
       "<pre style=\"white-space:pre;overflow-x:auto;line-height:normal;font-family:Menlo,'DejaVu Sans Mono',consolas,'Courier New',monospace\">Num timesteps: 467000\n",
       "</pre>\n"
      ],
      "text/plain": [
       "Num timesteps: 467000\n"
      ]
     },
     "metadata": {},
     "output_type": "display_data"
    },
    {
     "data": {
      "text/html": [
       "<pre style=\"white-space:pre;overflow-x:auto;line-height:normal;font-family:Menlo,'DejaVu Sans Mono',consolas,'Courier New',monospace\">Best mean reward: 107.52 - Last mean reward per episode: 95.81\n",
       "</pre>\n"
      ],
      "text/plain": [
       "Best mean reward: 107.52 - Last mean reward per episode: 95.81\n"
      ]
     },
     "metadata": {},
     "output_type": "display_data"
    },
    {
     "data": {
      "text/html": [
       "<pre style=\"white-space:pre;overflow-x:auto;line-height:normal;font-family:Menlo,'DejaVu Sans Mono',consolas,'Courier New',monospace\">Num timesteps: 468000\n",
       "</pre>\n"
      ],
      "text/plain": [
       "Num timesteps: 468000\n"
      ]
     },
     "metadata": {},
     "output_type": "display_data"
    },
    {
     "data": {
      "text/html": [
       "<pre style=\"white-space:pre;overflow-x:auto;line-height:normal;font-family:Menlo,'DejaVu Sans Mono',consolas,'Courier New',monospace\">Best mean reward: 107.52 - Last mean reward per episode: 94.57\n",
       "</pre>\n"
      ],
      "text/plain": [
       "Best mean reward: 107.52 - Last mean reward per episode: 94.57\n"
      ]
     },
     "metadata": {},
     "output_type": "display_data"
    },
    {
     "data": {
      "text/html": [
       "<pre style=\"white-space:pre;overflow-x:auto;line-height:normal;font-family:Menlo,'DejaVu Sans Mono',consolas,'Courier New',monospace\">Num timesteps: 469000\n",
       "</pre>\n"
      ],
      "text/plain": [
       "Num timesteps: 469000\n"
      ]
     },
     "metadata": {},
     "output_type": "display_data"
    },
    {
     "data": {
      "text/html": [
       "<pre style=\"white-space:pre;overflow-x:auto;line-height:normal;font-family:Menlo,'DejaVu Sans Mono',consolas,'Courier New',monospace\">Best mean reward: 107.52 - Last mean reward per episode: 94.43\n",
       "</pre>\n"
      ],
      "text/plain": [
       "Best mean reward: 107.52 - Last mean reward per episode: 94.43\n"
      ]
     },
     "metadata": {},
     "output_type": "display_data"
    },
    {
     "data": {
      "text/html": [
       "<pre style=\"white-space:pre;overflow-x:auto;line-height:normal;font-family:Menlo,'DejaVu Sans Mono',consolas,'Courier New',monospace\">Num timesteps: 470000\n",
       "</pre>\n"
      ],
      "text/plain": [
       "Num timesteps: 470000\n"
      ]
     },
     "metadata": {},
     "output_type": "display_data"
    },
    {
     "data": {
      "text/html": [
       "<pre style=\"white-space:pre;overflow-x:auto;line-height:normal;font-family:Menlo,'DejaVu Sans Mono',consolas,'Courier New',monospace\">Best mean reward: 107.52 - Last mean reward per episode: 93.03\n",
       "</pre>\n"
      ],
      "text/plain": [
       "Best mean reward: 107.52 - Last mean reward per episode: 93.03\n"
      ]
     },
     "metadata": {},
     "output_type": "display_data"
    },
    {
     "data": {
      "text/html": [
       "<pre style=\"white-space:pre;overflow-x:auto;line-height:normal;font-family:Menlo,'DejaVu Sans Mono',consolas,'Courier New',monospace\">Num timesteps: 471000\n",
       "</pre>\n"
      ],
      "text/plain": [
       "Num timesteps: 471000\n"
      ]
     },
     "metadata": {},
     "output_type": "display_data"
    },
    {
     "data": {
      "text/html": [
       "<pre style=\"white-space:pre;overflow-x:auto;line-height:normal;font-family:Menlo,'DejaVu Sans Mono',consolas,'Courier New',monospace\">Best mean reward: 107.52 - Last mean reward per episode: 92.07\n",
       "</pre>\n"
      ],
      "text/plain": [
       "Best mean reward: 107.52 - Last mean reward per episode: 92.07\n"
      ]
     },
     "metadata": {},
     "output_type": "display_data"
    },
    {
     "name": "stdout",
     "output_type": "stream",
     "text": [
      "----------------------------------------\n",
      "| rollout/                |            |\n",
      "|    ep_len_mean          | 500        |\n",
      "|    ep_rew_mean          | 92.1       |\n",
      "| time/                   |            |\n",
      "|    fps                  | 89         |\n",
      "|    iterations           | 230        |\n",
      "|    time_elapsed         | 5248       |\n",
      "|    total_timesteps      | 471040     |\n",
      "| train/                  |            |\n",
      "|    approx_kl            | 0.62536776 |\n",
      "|    clip_fraction        | 0.691      |\n",
      "|    clip_range           | 0.2        |\n",
      "|    entropy_loss         | -5.18      |\n",
      "|    explained_variance   | 0.951      |\n",
      "|    learning_rate        | 0.0003     |\n",
      "|    loss                 | -0.0135    |\n",
      "|    n_updates            | 2290       |\n",
      "|    policy_gradient_loss | -0.0446    |\n",
      "|    std                  | 0.508      |\n",
      "|    value_loss           | 0.44       |\n",
      "----------------------------------------\n"
     ]
    },
    {
     "data": {
      "text/html": [
       "<pre style=\"white-space:pre;overflow-x:auto;line-height:normal;font-family:Menlo,'DejaVu Sans Mono',consolas,'Courier New',monospace\">Num timesteps: 472000\n",
       "</pre>\n"
      ],
      "text/plain": [
       "Num timesteps: 472000\n"
      ]
     },
     "metadata": {},
     "output_type": "display_data"
    },
    {
     "data": {
      "text/html": [
       "<pre style=\"white-space:pre;overflow-x:auto;line-height:normal;font-family:Menlo,'DejaVu Sans Mono',consolas,'Courier New',monospace\">Best mean reward: 107.52 - Last mean reward per episode: 91.33\n",
       "</pre>\n"
      ],
      "text/plain": [
       "Best mean reward: 107.52 - Last mean reward per episode: 91.33\n"
      ]
     },
     "metadata": {},
     "output_type": "display_data"
    },
    {
     "data": {
      "text/html": [
       "<pre style=\"white-space:pre;overflow-x:auto;line-height:normal;font-family:Menlo,'DejaVu Sans Mono',consolas,'Courier New',monospace\">Num timesteps: 473000\n",
       "</pre>\n"
      ],
      "text/plain": [
       "Num timesteps: 473000\n"
      ]
     },
     "metadata": {},
     "output_type": "display_data"
    },
    {
     "data": {
      "text/html": [
       "<pre style=\"white-space:pre;overflow-x:auto;line-height:normal;font-family:Menlo,'DejaVu Sans Mono',consolas,'Courier New',monospace\">Best mean reward: 107.52 - Last mean reward per episode: 90.38\n",
       "</pre>\n"
      ],
      "text/plain": [
       "Best mean reward: 107.52 - Last mean reward per episode: 90.38\n"
      ]
     },
     "metadata": {},
     "output_type": "display_data"
    },
    {
     "data": {
      "text/html": [
       "<pre style=\"white-space:pre;overflow-x:auto;line-height:normal;font-family:Menlo,'DejaVu Sans Mono',consolas,'Courier New',monospace\">Num timesteps: 474000\n",
       "</pre>\n"
      ],
      "text/plain": [
       "Num timesteps: 474000\n"
      ]
     },
     "metadata": {},
     "output_type": "display_data"
    },
    {
     "data": {
      "text/html": [
       "<pre style=\"white-space:pre;overflow-x:auto;line-height:normal;font-family:Menlo,'DejaVu Sans Mono',consolas,'Courier New',monospace\">Best mean reward: 107.52 - Last mean reward per episode: 90.88\n",
       "</pre>\n"
      ],
      "text/plain": [
       "Best mean reward: 107.52 - Last mean reward per episode: 90.88\n"
      ]
     },
     "metadata": {},
     "output_type": "display_data"
    },
    {
     "data": {
      "text/html": [
       "<pre style=\"white-space:pre;overflow-x:auto;line-height:normal;font-family:Menlo,'DejaVu Sans Mono',consolas,'Courier New',monospace\">Num timesteps: 475000\n",
       "</pre>\n"
      ],
      "text/plain": [
       "Num timesteps: 475000\n"
      ]
     },
     "metadata": {},
     "output_type": "display_data"
    },
    {
     "data": {
      "text/html": [
       "<pre style=\"white-space:pre;overflow-x:auto;line-height:normal;font-family:Menlo,'DejaVu Sans Mono',consolas,'Courier New',monospace\">Best mean reward: 107.52 - Last mean reward per episode: 89.37\n",
       "</pre>\n"
      ],
      "text/plain": [
       "Best mean reward: 107.52 - Last mean reward per episode: 89.37\n"
      ]
     },
     "metadata": {},
     "output_type": "display_data"
    },
    {
     "data": {
      "text/html": [
       "<pre style=\"white-space:pre;overflow-x:auto;line-height:normal;font-family:Menlo,'DejaVu Sans Mono',consolas,'Courier New',monospace\">Num timesteps: 476000\n",
       "</pre>\n"
      ],
      "text/plain": [
       "Num timesteps: 476000\n"
      ]
     },
     "metadata": {},
     "output_type": "display_data"
    },
    {
     "data": {
      "text/html": [
       "<pre style=\"white-space:pre;overflow-x:auto;line-height:normal;font-family:Menlo,'DejaVu Sans Mono',consolas,'Courier New',monospace\">Best mean reward: 107.52 - Last mean reward per episode: 88.30\n",
       "</pre>\n"
      ],
      "text/plain": [
       "Best mean reward: 107.52 - Last mean reward per episode: 88.30\n"
      ]
     },
     "metadata": {},
     "output_type": "display_data"
    },
    {
     "data": {
      "text/html": [
       "<pre style=\"white-space:pre;overflow-x:auto;line-height:normal;font-family:Menlo,'DejaVu Sans Mono',consolas,'Courier New',monospace\">Num timesteps: 477000\n",
       "</pre>\n"
      ],
      "text/plain": [
       "Num timesteps: 477000\n"
      ]
     },
     "metadata": {},
     "output_type": "display_data"
    },
    {
     "data": {
      "text/html": [
       "<pre style=\"white-space:pre;overflow-x:auto;line-height:normal;font-family:Menlo,'DejaVu Sans Mono',consolas,'Courier New',monospace\">Best mean reward: 107.52 - Last mean reward per episode: 86.67\n",
       "</pre>\n"
      ],
      "text/plain": [
       "Best mean reward: 107.52 - Last mean reward per episode: 86.67\n"
      ]
     },
     "metadata": {},
     "output_type": "display_data"
    },
    {
     "data": {
      "text/html": [
       "<pre style=\"white-space:pre;overflow-x:auto;line-height:normal;font-family:Menlo,'DejaVu Sans Mono',consolas,'Courier New',monospace\">Num timesteps: 478000\n",
       "</pre>\n"
      ],
      "text/plain": [
       "Num timesteps: 478000\n"
      ]
     },
     "metadata": {},
     "output_type": "display_data"
    },
    {
     "data": {
      "text/html": [
       "<pre style=\"white-space:pre;overflow-x:auto;line-height:normal;font-family:Menlo,'DejaVu Sans Mono',consolas,'Courier New',monospace\">Best mean reward: 107.52 - Last mean reward per episode: 87.10\n",
       "</pre>\n"
      ],
      "text/plain": [
       "Best mean reward: 107.52 - Last mean reward per episode: 87.10\n"
      ]
     },
     "metadata": {},
     "output_type": "display_data"
    },
    {
     "data": {
      "text/html": [
       "<pre style=\"white-space:pre;overflow-x:auto;line-height:normal;font-family:Menlo,'DejaVu Sans Mono',consolas,'Courier New',monospace\">Num timesteps: 479000\n",
       "</pre>\n"
      ],
      "text/plain": [
       "Num timesteps: 479000\n"
      ]
     },
     "metadata": {},
     "output_type": "display_data"
    },
    {
     "data": {
      "text/html": [
       "<pre style=\"white-space:pre;overflow-x:auto;line-height:normal;font-family:Menlo,'DejaVu Sans Mono',consolas,'Courier New',monospace\">Best mean reward: 107.52 - Last mean reward per episode: 84.79\n",
       "</pre>\n"
      ],
      "text/plain": [
       "Best mean reward: 107.52 - Last mean reward per episode: 84.79\n"
      ]
     },
     "metadata": {},
     "output_type": "display_data"
    },
    {
     "data": {
      "text/html": [
       "<pre style=\"white-space:pre;overflow-x:auto;line-height:normal;font-family:Menlo,'DejaVu Sans Mono',consolas,'Courier New',monospace\">Num timesteps: 480000\n",
       "</pre>\n"
      ],
      "text/plain": [
       "Num timesteps: 480000\n"
      ]
     },
     "metadata": {},
     "output_type": "display_data"
    },
    {
     "data": {
      "text/html": [
       "<pre style=\"white-space:pre;overflow-x:auto;line-height:normal;font-family:Menlo,'DejaVu Sans Mono',consolas,'Courier New',monospace\">Best mean reward: 107.52 - Last mean reward per episode: 84.35\n",
       "</pre>\n"
      ],
      "text/plain": [
       "Best mean reward: 107.52 - Last mean reward per episode: 84.35\n"
      ]
     },
     "metadata": {},
     "output_type": "display_data"
    },
    {
     "data": {
      "text/html": [
       "<pre style=\"white-space:pre;overflow-x:auto;line-height:normal;font-family:Menlo,'DejaVu Sans Mono',consolas,'Courier New',monospace\">Num timesteps: 481000\n",
       "</pre>\n"
      ],
      "text/plain": [
       "Num timesteps: 481000\n"
      ]
     },
     "metadata": {},
     "output_type": "display_data"
    },
    {
     "data": {
      "text/html": [
       "<pre style=\"white-space:pre;overflow-x:auto;line-height:normal;font-family:Menlo,'DejaVu Sans Mono',consolas,'Courier New',monospace\">Best mean reward: 107.52 - Last mean reward per episode: 83.44\n",
       "</pre>\n"
      ],
      "text/plain": [
       "Best mean reward: 107.52 - Last mean reward per episode: 83.44\n"
      ]
     },
     "metadata": {},
     "output_type": "display_data"
    },
    {
     "data": {
      "text/html": [
       "<pre style=\"white-space:pre;overflow-x:auto;line-height:normal;font-family:Menlo,'DejaVu Sans Mono',consolas,'Courier New',monospace\">Num timesteps: 482000\n",
       "</pre>\n"
      ],
      "text/plain": [
       "Num timesteps: 482000\n"
      ]
     },
     "metadata": {},
     "output_type": "display_data"
    },
    {
     "data": {
      "text/html": [
       "<pre style=\"white-space:pre;overflow-x:auto;line-height:normal;font-family:Menlo,'DejaVu Sans Mono',consolas,'Courier New',monospace\">Best mean reward: 107.52 - Last mean reward per episode: 82.70\n",
       "</pre>\n"
      ],
      "text/plain": [
       "Best mean reward: 107.52 - Last mean reward per episode: 82.70\n"
      ]
     },
     "metadata": {},
     "output_type": "display_data"
    },
    {
     "data": {
      "text/html": [
       "<pre style=\"white-space:pre;overflow-x:auto;line-height:normal;font-family:Menlo,'DejaVu Sans Mono',consolas,'Courier New',monospace\">Num timesteps: 483000\n",
       "</pre>\n"
      ],
      "text/plain": [
       "Num timesteps: 483000\n"
      ]
     },
     "metadata": {},
     "output_type": "display_data"
    },
    {
     "data": {
      "text/html": [
       "<pre style=\"white-space:pre;overflow-x:auto;line-height:normal;font-family:Menlo,'DejaVu Sans Mono',consolas,'Courier New',monospace\">Best mean reward: 107.52 - Last mean reward per episode: 81.36\n",
       "</pre>\n"
      ],
      "text/plain": [
       "Best mean reward: 107.52 - Last mean reward per episode: 81.36\n"
      ]
     },
     "metadata": {},
     "output_type": "display_data"
    },
    {
     "data": {
      "text/html": [
       "<pre style=\"white-space:pre;overflow-x:auto;line-height:normal;font-family:Menlo,'DejaVu Sans Mono',consolas,'Courier New',monospace\">Num timesteps: 484000\n",
       "</pre>\n"
      ],
      "text/plain": [
       "Num timesteps: 484000\n"
      ]
     },
     "metadata": {},
     "output_type": "display_data"
    },
    {
     "data": {
      "text/html": [
       "<pre style=\"white-space:pre;overflow-x:auto;line-height:normal;font-family:Menlo,'DejaVu Sans Mono',consolas,'Courier New',monospace\">Best mean reward: 107.52 - Last mean reward per episode: 79.46\n",
       "</pre>\n"
      ],
      "text/plain": [
       "Best mean reward: 107.52 - Last mean reward per episode: 79.46\n"
      ]
     },
     "metadata": {},
     "output_type": "display_data"
    },
    {
     "data": {
      "text/html": [
       "<pre style=\"white-space:pre;overflow-x:auto;line-height:normal;font-family:Menlo,'DejaVu Sans Mono',consolas,'Courier New',monospace\">Num timesteps: 485000\n",
       "</pre>\n"
      ],
      "text/plain": [
       "Num timesteps: 485000\n"
      ]
     },
     "metadata": {},
     "output_type": "display_data"
    },
    {
     "data": {
      "text/html": [
       "<pre style=\"white-space:pre;overflow-x:auto;line-height:normal;font-family:Menlo,'DejaVu Sans Mono',consolas,'Courier New',monospace\">Best mean reward: 107.52 - Last mean reward per episode: 78.77\n",
       "</pre>\n"
      ],
      "text/plain": [
       "Best mean reward: 107.52 - Last mean reward per episode: 78.77\n"
      ]
     },
     "metadata": {},
     "output_type": "display_data"
    },
    {
     "data": {
      "text/html": [
       "<pre style=\"white-space:pre;overflow-x:auto;line-height:normal;font-family:Menlo,'DejaVu Sans Mono',consolas,'Courier New',monospace\">Num timesteps: 486000\n",
       "</pre>\n"
      ],
      "text/plain": [
       "Num timesteps: 486000\n"
      ]
     },
     "metadata": {},
     "output_type": "display_data"
    },
    {
     "data": {
      "text/html": [
       "<pre style=\"white-space:pre;overflow-x:auto;line-height:normal;font-family:Menlo,'DejaVu Sans Mono',consolas,'Courier New',monospace\">Best mean reward: 107.52 - Last mean reward per episode: 77.94\n",
       "</pre>\n"
      ],
      "text/plain": [
       "Best mean reward: 107.52 - Last mean reward per episode: 77.94\n"
      ]
     },
     "metadata": {},
     "output_type": "display_data"
    },
    {
     "data": {
      "text/html": [
       "<pre style=\"white-space:pre;overflow-x:auto;line-height:normal;font-family:Menlo,'DejaVu Sans Mono',consolas,'Courier New',monospace\">Num timesteps: 487000\n",
       "</pre>\n"
      ],
      "text/plain": [
       "Num timesteps: 487000\n"
      ]
     },
     "metadata": {},
     "output_type": "display_data"
    },
    {
     "data": {
      "text/html": [
       "<pre style=\"white-space:pre;overflow-x:auto;line-height:normal;font-family:Menlo,'DejaVu Sans Mono',consolas,'Courier New',monospace\">Best mean reward: 107.52 - Last mean reward per episode: 78.14\n",
       "</pre>\n"
      ],
      "text/plain": [
       "Best mean reward: 107.52 - Last mean reward per episode: 78.14\n"
      ]
     },
     "metadata": {},
     "output_type": "display_data"
    },
    {
     "data": {
      "text/html": [
       "<pre style=\"white-space:pre;overflow-x:auto;line-height:normal;font-family:Menlo,'DejaVu Sans Mono',consolas,'Courier New',monospace\">Num timesteps: 488000\n",
       "</pre>\n"
      ],
      "text/plain": [
       "Num timesteps: 488000\n"
      ]
     },
     "metadata": {},
     "output_type": "display_data"
    },
    {
     "data": {
      "text/html": [
       "<pre style=\"white-space:pre;overflow-x:auto;line-height:normal;font-family:Menlo,'DejaVu Sans Mono',consolas,'Courier New',monospace\">Best mean reward: 107.52 - Last mean reward per episode: 79.18\n",
       "</pre>\n"
      ],
      "text/plain": [
       "Best mean reward: 107.52 - Last mean reward per episode: 79.18\n"
      ]
     },
     "metadata": {},
     "output_type": "display_data"
    },
    {
     "data": {
      "text/html": [
       "<pre style=\"white-space:pre;overflow-x:auto;line-height:normal;font-family:Menlo,'DejaVu Sans Mono',consolas,'Courier New',monospace\">Num timesteps: 489000\n",
       "</pre>\n"
      ],
      "text/plain": [
       "Num timesteps: 489000\n"
      ]
     },
     "metadata": {},
     "output_type": "display_data"
    },
    {
     "data": {
      "text/html": [
       "<pre style=\"white-space:pre;overflow-x:auto;line-height:normal;font-family:Menlo,'DejaVu Sans Mono',consolas,'Courier New',monospace\">Best mean reward: 107.52 - Last mean reward per episode: 78.76\n",
       "</pre>\n"
      ],
      "text/plain": [
       "Best mean reward: 107.52 - Last mean reward per episode: 78.76\n"
      ]
     },
     "metadata": {},
     "output_type": "display_data"
    },
    {
     "data": {
      "text/html": [
       "<pre style=\"white-space:pre;overflow-x:auto;line-height:normal;font-family:Menlo,'DejaVu Sans Mono',consolas,'Courier New',monospace\">Num timesteps: 490000\n",
       "</pre>\n"
      ],
      "text/plain": [
       "Num timesteps: 490000\n"
      ]
     },
     "metadata": {},
     "output_type": "display_data"
    },
    {
     "data": {
      "text/html": [
       "<pre style=\"white-space:pre;overflow-x:auto;line-height:normal;font-family:Menlo,'DejaVu Sans Mono',consolas,'Courier New',monospace\">Best mean reward: 107.52 - Last mean reward per episode: 77.94\n",
       "</pre>\n"
      ],
      "text/plain": [
       "Best mean reward: 107.52 - Last mean reward per episode: 77.94\n"
      ]
     },
     "metadata": {},
     "output_type": "display_data"
    },
    {
     "data": {
      "text/html": [
       "<pre style=\"white-space:pre;overflow-x:auto;line-height:normal;font-family:Menlo,'DejaVu Sans Mono',consolas,'Courier New',monospace\">Num timesteps: 491000\n",
       "</pre>\n"
      ],
      "text/plain": [
       "Num timesteps: 491000\n"
      ]
     },
     "metadata": {},
     "output_type": "display_data"
    },
    {
     "data": {
      "text/html": [
       "<pre style=\"white-space:pre;overflow-x:auto;line-height:normal;font-family:Menlo,'DejaVu Sans Mono',consolas,'Courier New',monospace\">Best mean reward: 107.52 - Last mean reward per episode: 77.73\n",
       "</pre>\n"
      ],
      "text/plain": [
       "Best mean reward: 107.52 - Last mean reward per episode: 77.73\n"
      ]
     },
     "metadata": {},
     "output_type": "display_data"
    },
    {
     "name": "stdout",
     "output_type": "stream",
     "text": [
      "----------------------------------------\n",
      "| rollout/                |            |\n",
      "|    ep_len_mean          | 500        |\n",
      "|    ep_rew_mean          | 76.7       |\n",
      "| time/                   |            |\n",
      "|    fps                  | 89         |\n",
      "|    iterations           | 240        |\n",
      "|    time_elapsed         | 5477       |\n",
      "|    total_timesteps      | 491520     |\n",
      "| train/                  |            |\n",
      "|    approx_kl            | 0.34418285 |\n",
      "|    clip_fraction        | 0.656      |\n",
      "|    clip_range           | 0.2        |\n",
      "|    entropy_loss         | -4.99      |\n",
      "|    explained_variance   | 0.973      |\n",
      "|    learning_rate        | 0.0003     |\n",
      "|    loss                 | -0.019     |\n",
      "|    n_updates            | 2390       |\n",
      "|    policy_gradient_loss | -0.0242    |\n",
      "|    std                  | 0.496      |\n",
      "|    value_loss           | 0.39       |\n",
      "----------------------------------------\n"
     ]
    },
    {
     "data": {
      "text/html": [
       "<pre style=\"white-space:pre;overflow-x:auto;line-height:normal;font-family:Menlo,'DejaVu Sans Mono',consolas,'Courier New',monospace\">Num timesteps: 492000\n",
       "</pre>\n"
      ],
      "text/plain": [
       "Num timesteps: 492000\n"
      ]
     },
     "metadata": {},
     "output_type": "display_data"
    },
    {
     "data": {
      "text/html": [
       "<pre style=\"white-space:pre;overflow-x:auto;line-height:normal;font-family:Menlo,'DejaVu Sans Mono',consolas,'Courier New',monospace\">Best mean reward: 107.52 - Last mean reward per episode: 76.14\n",
       "</pre>\n"
      ],
      "text/plain": [
       "Best mean reward: 107.52 - Last mean reward per episode: 76.14\n"
      ]
     },
     "metadata": {},
     "output_type": "display_data"
    },
    {
     "data": {
      "text/html": [
       "<pre style=\"white-space:pre;overflow-x:auto;line-height:normal;font-family:Menlo,'DejaVu Sans Mono',consolas,'Courier New',monospace\">Num timesteps: 493000\n",
       "</pre>\n"
      ],
      "text/plain": [
       "Num timesteps: 493000\n"
      ]
     },
     "metadata": {},
     "output_type": "display_data"
    },
    {
     "data": {
      "text/html": [
       "<pre style=\"white-space:pre;overflow-x:auto;line-height:normal;font-family:Menlo,'DejaVu Sans Mono',consolas,'Courier New',monospace\">Best mean reward: 107.52 - Last mean reward per episode: 75.60\n",
       "</pre>\n"
      ],
      "text/plain": [
       "Best mean reward: 107.52 - Last mean reward per episode: 75.60\n"
      ]
     },
     "metadata": {},
     "output_type": "display_data"
    },
    {
     "data": {
      "text/html": [
       "<pre style=\"white-space:pre;overflow-x:auto;line-height:normal;font-family:Menlo,'DejaVu Sans Mono',consolas,'Courier New',monospace\">Num timesteps: 494000\n",
       "</pre>\n"
      ],
      "text/plain": [
       "Num timesteps: 494000\n"
      ]
     },
     "metadata": {},
     "output_type": "display_data"
    },
    {
     "data": {
      "text/html": [
       "<pre style=\"white-space:pre;overflow-x:auto;line-height:normal;font-family:Menlo,'DejaVu Sans Mono',consolas,'Courier New',monospace\">Best mean reward: 107.52 - Last mean reward per episode: 75.36\n",
       "</pre>\n"
      ],
      "text/plain": [
       "Best mean reward: 107.52 - Last mean reward per episode: 75.36\n"
      ]
     },
     "metadata": {},
     "output_type": "display_data"
    },
    {
     "data": {
      "text/html": [
       "<pre style=\"white-space:pre;overflow-x:auto;line-height:normal;font-family:Menlo,'DejaVu Sans Mono',consolas,'Courier New',monospace\">Num timesteps: 495000\n",
       "</pre>\n"
      ],
      "text/plain": [
       "Num timesteps: 495000\n"
      ]
     },
     "metadata": {},
     "output_type": "display_data"
    },
    {
     "data": {
      "text/html": [
       "<pre style=\"white-space:pre;overflow-x:auto;line-height:normal;font-family:Menlo,'DejaVu Sans Mono',consolas,'Courier New',monospace\">Best mean reward: 107.52 - Last mean reward per episode: 76.27\n",
       "</pre>\n"
      ],
      "text/plain": [
       "Best mean reward: 107.52 - Last mean reward per episode: 76.27\n"
      ]
     },
     "metadata": {},
     "output_type": "display_data"
    },
    {
     "data": {
      "text/html": [
       "<pre style=\"white-space:pre;overflow-x:auto;line-height:normal;font-family:Menlo,'DejaVu Sans Mono',consolas,'Courier New',monospace\">Num timesteps: 496000\n",
       "</pre>\n"
      ],
      "text/plain": [
       "Num timesteps: 496000\n"
      ]
     },
     "metadata": {},
     "output_type": "display_data"
    },
    {
     "data": {
      "text/html": [
       "<pre style=\"white-space:pre;overflow-x:auto;line-height:normal;font-family:Menlo,'DejaVu Sans Mono',consolas,'Courier New',monospace\">Best mean reward: 107.52 - Last mean reward per episode: 76.34\n",
       "</pre>\n"
      ],
      "text/plain": [
       "Best mean reward: 107.52 - Last mean reward per episode: 76.34\n"
      ]
     },
     "metadata": {},
     "output_type": "display_data"
    },
    {
     "data": {
      "text/html": [
       "<pre style=\"white-space:pre;overflow-x:auto;line-height:normal;font-family:Menlo,'DejaVu Sans Mono',consolas,'Courier New',monospace\">Num timesteps: 497000\n",
       "</pre>\n"
      ],
      "text/plain": [
       "Num timesteps: 497000\n"
      ]
     },
     "metadata": {},
     "output_type": "display_data"
    },
    {
     "data": {
      "text/html": [
       "<pre style=\"white-space:pre;overflow-x:auto;line-height:normal;font-family:Menlo,'DejaVu Sans Mono',consolas,'Courier New',monospace\">Best mean reward: 107.52 - Last mean reward per episode: 77.30\n",
       "</pre>\n"
      ],
      "text/plain": [
       "Best mean reward: 107.52 - Last mean reward per episode: 77.30\n"
      ]
     },
     "metadata": {},
     "output_type": "display_data"
    },
    {
     "data": {
      "text/html": [
       "<pre style=\"white-space:pre;overflow-x:auto;line-height:normal;font-family:Menlo,'DejaVu Sans Mono',consolas,'Courier New',monospace\">Num timesteps: 498000\n",
       "</pre>\n"
      ],
      "text/plain": [
       "Num timesteps: 498000\n"
      ]
     },
     "metadata": {},
     "output_type": "display_data"
    },
    {
     "data": {
      "text/html": [
       "<pre style=\"white-space:pre;overflow-x:auto;line-height:normal;font-family:Menlo,'DejaVu Sans Mono',consolas,'Courier New',monospace\">Best mean reward: 107.52 - Last mean reward per episode: 77.25\n",
       "</pre>\n"
      ],
      "text/plain": [
       "Best mean reward: 107.52 - Last mean reward per episode: 77.25\n"
      ]
     },
     "metadata": {},
     "output_type": "display_data"
    },
    {
     "data": {
      "text/html": [
       "<pre style=\"white-space:pre;overflow-x:auto;line-height:normal;font-family:Menlo,'DejaVu Sans Mono',consolas,'Courier New',monospace\">Num timesteps: 499000\n",
       "</pre>\n"
      ],
      "text/plain": [
       "Num timesteps: 499000\n"
      ]
     },
     "metadata": {},
     "output_type": "display_data"
    },
    {
     "data": {
      "text/html": [
       "<pre style=\"white-space:pre;overflow-x:auto;line-height:normal;font-family:Menlo,'DejaVu Sans Mono',consolas,'Courier New',monospace\">Best mean reward: 107.52 - Last mean reward per episode: 76.14\n",
       "</pre>\n"
      ],
      "text/plain": [
       "Best mean reward: 107.52 - Last mean reward per episode: 76.14\n"
      ]
     },
     "metadata": {},
     "output_type": "display_data"
    },
    {
     "data": {
      "text/html": [
       "<pre style=\"white-space:pre;overflow-x:auto;line-height:normal;font-family:Menlo,'DejaVu Sans Mono',consolas,'Courier New',monospace\">Num timesteps: 500000\n",
       "</pre>\n"
      ],
      "text/plain": [
       "Num timesteps: 500000\n"
      ]
     },
     "metadata": {},
     "output_type": "display_data"
    },
    {
     "data": {
      "text/html": [
       "<pre style=\"white-space:pre;overflow-x:auto;line-height:normal;font-family:Menlo,'DejaVu Sans Mono',consolas,'Courier New',monospace\">Best mean reward: 107.52 - Last mean reward per episode: 75.93\n",
       "</pre>\n"
      ],
      "text/plain": [
       "Best mean reward: 107.52 - Last mean reward per episode: 75.93\n"
      ]
     },
     "metadata": {},
     "output_type": "display_data"
    },
    {
     "data": {
      "text/html": [
       "<pre style=\"white-space:pre;overflow-x:auto;line-height:normal;font-family:Menlo,'DejaVu Sans Mono',consolas,'Courier New',monospace\">Num timesteps: 501000\n",
       "</pre>\n"
      ],
      "text/plain": [
       "Num timesteps: 501000\n"
      ]
     },
     "metadata": {},
     "output_type": "display_data"
    },
    {
     "data": {
      "text/html": [
       "<pre style=\"white-space:pre;overflow-x:auto;line-height:normal;font-family:Menlo,'DejaVu Sans Mono',consolas,'Courier New',monospace\">Best mean reward: 107.52 - Last mean reward per episode: 73.17\n",
       "</pre>\n"
      ],
      "text/plain": [
       "Best mean reward: 107.52 - Last mean reward per episode: 73.17\n"
      ]
     },
     "metadata": {},
     "output_type": "display_data"
    },
    {
     "data": {
      "text/html": [
       "<pre style=\"white-space:pre;overflow-x:auto;line-height:normal;font-family:Menlo,'DejaVu Sans Mono',consolas,'Courier New',monospace\"></pre>\n"
      ],
      "text/plain": []
     },
     "metadata": {},
     "output_type": "display_data"
    },
    {
     "data": {
      "text/html": [
       "<pre style=\"white-space:pre;overflow-x:auto;line-height:normal;font-family:Menlo,'DejaVu Sans Mono',consolas,'Courier New',monospace\">\n",
       "</pre>\n"
      ],
      "text/plain": [
       "\n"
      ]
     },
     "metadata": {},
     "output_type": "display_data"
    },
    {
     "data": {
      "text/plain": [
       "<stable_baselines3.ppo.ppo.PPO at 0x7fd51cf94150>"
      ]
     },
     "execution_count": 6,
     "metadata": {},
     "output_type": "execute_result"
    }
   ],
   "source": [
    "from stable_baselines3 import PPO\n",
    "policy_kwargs = dict(\n",
    "    net_arch=[256, 256]\n",
    ")\n",
    "model = PPO(\"MultiInputPolicy\", env, verbose=1, batch_size=256, policy_kwargs=policy_kwargs)\n",
    "callback = SaveOnBestTrainingRewardCallback(check_freq=1000, log_dir=filename)\n",
    "model.learn(total_timesteps=5e5, progress_bar=True, log_interval=10, callback=callback)"
   ]
  },
  {
   "cell_type": "code",
   "execution_count": null,
   "id": "bb69f51e",
   "metadata": {},
   "outputs": [],
   "source": [
    "model.save(filename)"
   ]
  },
  {
   "cell_type": "code",
   "execution_count": 8,
   "id": "650999e57ee19c05",
   "metadata": {
    "ExecuteTime": {
     "end_time": "2023-09-25T08:01:01.175729695Z",
     "start_time": "2023-09-25T08:00:36.924182236Z"
    }
   },
   "outputs": [
    {
     "name": "stderr",
     "output_type": "stream",
     "text": [
      "QObject::moveToThread: Current thread (0xe9abfb0) is not the object's thread (0xcd03960).\n",
      "Cannot move to target thread (0xe9abfb0)\n",
      "\n",
      "QObject::moveToThread: Current thread (0xe9abfb0) is not the object's thread (0xcd03960).\n",
      "Cannot move to target thread (0xe9abfb0)\n",
      "\n",
      "QObject::moveToThread: Current thread (0xe9abfb0) is not the object's thread (0xcd03960).\n",
      "Cannot move to target thread (0xe9abfb0)\n",
      "\n",
      "QObject::moveToThread: Current thread (0xe9abfb0) is not the object's thread (0xcd03960).\n",
      "Cannot move to target thread (0xe9abfb0)\n",
      "\n",
      "QObject::moveToThread: Current thread (0xe9abfb0) is not the object's thread (0xcd03960).\n",
      "Cannot move to target thread (0xe9abfb0)\n",
      "\n",
      "QObject::moveToThread: Current thread (0xe9abfb0) is not the object's thread (0xcd03960).\n",
      "Cannot move to target thread (0xe9abfb0)\n",
      "\n",
      "QObject::moveToThread: Current thread (0xe9abfb0) is not the object's thread (0xcd03960).\n",
      "Cannot move to target thread (0xe9abfb0)\n",
      "\n",
      "QObject::moveToThread: Current thread (0xe9abfb0) is not the object's thread (0xcd03960).\n",
      "Cannot move to target thread (0xe9abfb0)\n",
      "\n",
      "QObject::moveToThread: Current thread (0xe9abfb0) is not the object's thread (0xcd03960).\n",
      "Cannot move to target thread (0xe9abfb0)\n",
      "\n",
      "QObject::moveToThread: Current thread (0xe9abfb0) is not the object's thread (0xcd03960).\n",
      "Cannot move to target thread (0xe9abfb0)\n",
      "\n",
      "QObject::moveToThread: Current thread (0xe9abfb0) is not the object's thread (0xcd03960).\n",
      "Cannot move to target thread (0xe9abfb0)\n",
      "\n",
      "QObject::moveToThread: Current thread (0xe9abfb0) is not the object's thread (0xcd03960).\n",
      "Cannot move to target thread (0xe9abfb0)\n",
      "\n",
      "QObject::moveToThread: Current thread (0xe9abfb0) is not the object's thread (0xcd03960).\n",
      "Cannot move to target thread (0xe9abfb0)\n",
      "\n",
      "QObject::moveToThread: Current thread (0xe9abfb0) is not the object's thread (0xcd03960).\n",
      "Cannot move to target thread (0xe9abfb0)\n",
      "\n",
      "QObject::moveToThread: Current thread (0xe9abfb0) is not the object's thread (0xcd03960).\n",
      "Cannot move to target thread (0xe9abfb0)\n",
      "\n",
      "QObject::moveToThread: Current thread (0xe9abfb0) is not the object's thread (0xcd03960).\n",
      "Cannot move to target thread (0xe9abfb0)\n",
      "\n",
      "QObject::moveToThread: Current thread (0xe9abfb0) is not the object's thread (0xcd03960).\n",
      "Cannot move to target thread (0xe9abfb0)\n",
      "\n",
      "QObject::moveToThread: Current thread (0xe9abfb0) is not the object's thread (0xcd03960).\n",
      "Cannot move to target thread (0xe9abfb0)\n",
      "\n",
      "QObject::moveToThread: Current thread (0xe9abfb0) is not the object's thread (0xcd03960).\n",
      "Cannot move to target thread (0xe9abfb0)\n",
      "\n",
      "QObject::moveToThread: Current thread (0xe9abfb0) is not the object's thread (0xcd03960).\n",
      "Cannot move to target thread (0xe9abfb0)\n",
      "\n",
      "QObject::moveToThread: Current thread (0xe9abfb0) is not the object's thread (0xcd03960).\n",
      "Cannot move to target thread (0xe9abfb0)\n",
      "\n",
      "QObject::moveToThread: Current thread (0xe9abfb0) is not the object's thread (0xcd03960).\n",
      "Cannot move to target thread (0xe9abfb0)\n",
      "\n",
      "QObject::moveToThread: Current thread (0xe9abfb0) is not the object's thread (0xcd03960).\n",
      "Cannot move to target thread (0xe9abfb0)\n",
      "\n",
      "QObject::moveToThread: Current thread (0xe9abfb0) is not the object's thread (0xcd03960).\n",
      "Cannot move to target thread (0xe9abfb0)\n",
      "\n",
      "QObject::moveToThread: Current thread (0xe9abfb0) is not the object's thread (0xcd03960).\n",
      "Cannot move to target thread (0xe9abfb0)\n",
      "\n",
      "QObject::moveToThread: Current thread (0xe9abfb0) is not the object's thread (0xcd03960).\n",
      "Cannot move to target thread (0xe9abfb0)\n",
      "\n",
      "QObject::moveToThread: Current thread (0xe9abfb0) is not the object's thread (0xcd03960).\n",
      "Cannot move to target thread (0xe9abfb0)\n",
      "\n",
      "QObject::moveToThread: Current thread (0xe9abfb0) is not the object's thread (0xcd03960).\n",
      "Cannot move to target thread (0xe9abfb0)\n",
      "\n",
      "QObject::moveToThread: Current thread (0xe9abfb0) is not the object's thread (0xcd03960).\n",
      "Cannot move to target thread (0xe9abfb0)\n",
      "\n",
      "QObject::moveToThread: Current thread (0xe9abfb0) is not the object's thread (0xcd03960).\n",
      "Cannot move to target thread (0xe9abfb0)\n",
      "\n",
      "QObject::moveToThread: Current thread (0xe9abfb0) is not the object's thread (0xcd03960).\n",
      "Cannot move to target thread (0xe9abfb0)\n",
      "\n",
      "QObject::moveToThread: Current thread (0xe9abfb0) is not the object's thread (0xcd03960).\n",
      "Cannot move to target thread (0xe9abfb0)\n",
      "\n",
      "QObject::moveToThread: Current thread (0xe9abfb0) is not the object's thread (0xcd03960).\n",
      "Cannot move to target thread (0xe9abfb0)\n",
      "\n",
      "QObject::moveToThread: Current thread (0xe9abfb0) is not the object's thread (0xcd03960).\n",
      "Cannot move to target thread (0xe9abfb0)\n",
      "\n",
      "QObject::moveToThread: Current thread (0xe9abfb0) is not the object's thread (0xcd03960).\n",
      "Cannot move to target thread (0xe9abfb0)\n",
      "\n",
      "QObject::moveToThread: Current thread (0xe9abfb0) is not the object's thread (0xcd03960).\n",
      "Cannot move to target thread (0xe9abfb0)\n",
      "\n",
      "QObject::moveToThread: Current thread (0xe9abfb0) is not the object's thread (0xcd03960).\n",
      "Cannot move to target thread (0xe9abfb0)\n",
      "\n",
      "QObject::moveToThread: Current thread (0xe9abfb0) is not the object's thread (0xcd03960).\n",
      "Cannot move to target thread (0xe9abfb0)\n",
      "\n",
      "QObject::moveToThread: Current thread (0xe9abfb0) is not the object's thread (0xcd03960).\n",
      "Cannot move to target thread (0xe9abfb0)\n",
      "\n",
      "QObject::moveToThread: Current thread (0xe9abfb0) is not the object's thread (0xcd03960).\n",
      "Cannot move to target thread (0xe9abfb0)\n",
      "\n",
      "QObject::moveToThread: Current thread (0xe9abfb0) is not the object's thread (0xcd03960).\n",
      "Cannot move to target thread (0xe9abfb0)\n",
      "\n",
      "QObject::moveToThread: Current thread (0xe9abfb0) is not the object's thread (0xcd03960).\n",
      "Cannot move to target thread (0xe9abfb0)\n",
      "\n",
      "QObject::moveToThread: Current thread (0xe9abfb0) is not the object's thread (0xcd03960).\n",
      "Cannot move to target thread (0xe9abfb0)\n",
      "\n",
      "QObject::moveToThread: Current thread (0xe9abfb0) is not the object's thread (0xcd03960).\n",
      "Cannot move to target thread (0xe9abfb0)\n",
      "\n",
      "QObject::moveToThread: Current thread (0xe9abfb0) is not the object's thread (0xcd03960).\n",
      "Cannot move to target thread (0xe9abfb0)\n",
      "\n",
      "QObject::moveToThread: Current thread (0xe9abfb0) is not the object's thread (0xcd03960).\n",
      "Cannot move to target thread (0xe9abfb0)\n",
      "\n",
      "QObject::moveToThread: Current thread (0xe9abfb0) is not the object's thread (0xcd03960).\n",
      "Cannot move to target thread (0xe9abfb0)\n",
      "\n",
      "QObject::moveToThread: Current thread (0xe9abfb0) is not the object's thread (0xcd03960).\n",
      "Cannot move to target thread (0xe9abfb0)\n",
      "\n",
      "QObject::moveToThread: Current thread (0xe9abfb0) is not the object's thread (0xcd03960).\n",
      "Cannot move to target thread (0xe9abfb0)\n",
      "\n",
      "QObject::moveToThread: Current thread (0xe9abfb0) is not the object's thread (0xcd03960).\n",
      "Cannot move to target thread (0xe9abfb0)\n",
      "\n",
      "QObject::moveToThread: Current thread (0xe9abfb0) is not the object's thread (0xcd03960).\n",
      "Cannot move to target thread (0xe9abfb0)\n",
      "\n",
      "QObject::moveToThread: Current thread (0xe9abfb0) is not the object's thread (0xcd03960).\n",
      "Cannot move to target thread (0xe9abfb0)\n",
      "\n",
      "QObject::moveToThread: Current thread (0xe9abfb0) is not the object's thread (0xcd03960).\n",
      "Cannot move to target thread (0xe9abfb0)\n",
      "\n",
      "QObject::moveToThread: Current thread (0xe9abfb0) is not the object's thread (0xcd03960).\n",
      "Cannot move to target thread (0xe9abfb0)\n",
      "\n",
      "QObject::moveToThread: Current thread (0xe9abfb0) is not the object's thread (0xcd03960).\n",
      "Cannot move to target thread (0xe9abfb0)\n",
      "\n",
      "QObject::moveToThread: Current thread (0xe9abfb0) is not the object's thread (0xcd03960).\n",
      "Cannot move to target thread (0xe9abfb0)\n",
      "\n",
      "QObject::moveToThread: Current thread (0xe9abfb0) is not the object's thread (0xcd03960).\n",
      "Cannot move to target thread (0xe9abfb0)\n",
      "\n",
      "QObject::moveToThread: Current thread (0xe9abfb0) is not the object's thread (0xcd03960).\n",
      "Cannot move to target thread (0xe9abfb0)\n",
      "\n",
      "QObject::moveToThread: Current thread (0xe9abfb0) is not the object's thread (0xcd03960).\n",
      "Cannot move to target thread (0xe9abfb0)\n",
      "\n",
      "QObject::moveToThread: Current thread (0xe9abfb0) is not the object's thread (0xcd03960).\n",
      "Cannot move to target thread (0xe9abfb0)\n",
      "\n",
      "QObject::moveToThread: Current thread (0xe9abfb0) is not the object's thread (0xcd03960).\n",
      "Cannot move to target thread (0xe9abfb0)\n",
      "\n",
      "QObject::moveToThread: Current thread (0xe9abfb0) is not the object's thread (0xcd03960).\n",
      "Cannot move to target thread (0xe9abfb0)\n",
      "\n",
      "QObject::moveToThread: Current thread (0xe9abfb0) is not the object's thread (0xcd03960).\n",
      "Cannot move to target thread (0xe9abfb0)\n",
      "\n",
      "QObject::moveToThread: Current thread (0xe9abfb0) is not the object's thread (0xcd03960).\n",
      "Cannot move to target thread (0xe9abfb0)\n",
      "\n",
      "QObject::moveToThread: Current thread (0xe9abfb0) is not the object's thread (0xcd03960).\n",
      "Cannot move to target thread (0xe9abfb0)\n",
      "\n",
      "QObject::moveToThread: Current thread (0xe9abfb0) is not the object's thread (0xcd03960).\n",
      "Cannot move to target thread (0xe9abfb0)\n",
      "\n",
      "QObject::moveToThread: Current thread (0xe9abfb0) is not the object's thread (0xcd03960).\n",
      "Cannot move to target thread (0xe9abfb0)\n",
      "\n",
      "QObject::moveToThread: Current thread (0xe9abfb0) is not the object's thread (0xcd03960).\n",
      "Cannot move to target thread (0xe9abfb0)\n",
      "\n",
      "QObject::moveToThread: Current thread (0xe9abfb0) is not the object's thread (0xcd03960).\n",
      "Cannot move to target thread (0xe9abfb0)\n",
      "\n",
      "QObject::moveToThread: Current thread (0xe9abfb0) is not the object's thread (0xcd03960).\n",
      "Cannot move to target thread (0xe9abfb0)\n",
      "\n",
      "QObject::moveToThread: Current thread (0xe9abfb0) is not the object's thread (0xcd03960).\n",
      "Cannot move to target thread (0xe9abfb0)\n",
      "\n",
      "QObject::moveToThread: Current thread (0xe9abfb0) is not the object's thread (0xcd03960).\n",
      "Cannot move to target thread (0xe9abfb0)\n",
      "\n",
      "QObject::moveToThread: Current thread (0xe9abfb0) is not the object's thread (0xcd03960).\n",
      "Cannot move to target thread (0xe9abfb0)\n",
      "\n",
      "QObject::moveToThread: Current thread (0xe9abfb0) is not the object's thread (0xcd03960).\n",
      "Cannot move to target thread (0xe9abfb0)\n",
      "\n",
      "QObject::moveToThread: Current thread (0xe9abfb0) is not the object's thread (0xcd03960).\n",
      "Cannot move to target thread (0xe9abfb0)\n",
      "\n",
      "QObject::moveToThread: Current thread (0xe9abfb0) is not the object's thread (0xcd03960).\n",
      "Cannot move to target thread (0xe9abfb0)\n",
      "\n",
      "QObject::moveToThread: Current thread (0xe9abfb0) is not the object's thread (0xcd03960).\n",
      "Cannot move to target thread (0xe9abfb0)\n",
      "\n",
      "QObject::moveToThread: Current thread (0xe9abfb0) is not the object's thread (0xcd03960).\n",
      "Cannot move to target thread (0xe9abfb0)\n",
      "\n",
      "QObject::moveToThread: Current thread (0xe9abfb0) is not the object's thread (0xcd03960).\n",
      "Cannot move to target thread (0xe9abfb0)\n",
      "\n",
      "QObject::moveToThread: Current thread (0xe9abfb0) is not the object's thread (0xcd03960).\n",
      "Cannot move to target thread (0xe9abfb0)\n",
      "\n",
      "QObject::moveToThread: Current thread (0xe9abfb0) is not the object's thread (0xcd03960).\n",
      "Cannot move to target thread (0xe9abfb0)\n",
      "\n",
      "QObject::moveToThread: Current thread (0xe9abfb0) is not the object's thread (0xcd03960).\n",
      "Cannot move to target thread (0xe9abfb0)\n",
      "\n",
      "QObject::moveToThread: Current thread (0xe9abfb0) is not the object's thread (0xcd03960).\n",
      "Cannot move to target thread (0xe9abfb0)\n",
      "\n",
      "QObject::moveToThread: Current thread (0xe9abfb0) is not the object's thread (0xcd03960).\n",
      "Cannot move to target thread (0xe9abfb0)\n",
      "\n",
      "QObject::moveToThread: Current thread (0xe9abfb0) is not the object's thread (0xcd03960).\n",
      "Cannot move to target thread (0xe9abfb0)\n",
      "\n",
      "QObject::moveToThread: Current thread (0xe9abfb0) is not the object's thread (0xcd03960).\n",
      "Cannot move to target thread (0xe9abfb0)\n",
      "\n",
      "QObject::moveToThread: Current thread (0xe9abfb0) is not the object's thread (0xcd03960).\n",
      "Cannot move to target thread (0xe9abfb0)\n",
      "\n",
      "QObject::moveToThread: Current thread (0xe9abfb0) is not the object's thread (0xcd03960).\n",
      "Cannot move to target thread (0xe9abfb0)\n",
      "\n",
      "QObject::moveToThread: Current thread (0xe9abfb0) is not the object's thread (0xcd03960).\n",
      "Cannot move to target thread (0xe9abfb0)\n",
      "\n",
      "QObject::moveToThread: Current thread (0xe9abfb0) is not the object's thread (0xcd03960).\n",
      "Cannot move to target thread (0xe9abfb0)\n",
      "\n",
      "QObject::moveToThread: Current thread (0xe9abfb0) is not the object's thread (0xcd03960).\n",
      "Cannot move to target thread (0xe9abfb0)\n",
      "\n",
      "QObject::moveToThread: Current thread (0xe9abfb0) is not the object's thread (0xcd03960).\n",
      "Cannot move to target thread (0xe9abfb0)\n",
      "\n",
      "QObject::moveToThread: Current thread (0xe9abfb0) is not the object's thread (0xcd03960).\n",
      "Cannot move to target thread (0xe9abfb0)\n",
      "\n",
      "QObject::moveToThread: Current thread (0xe9abfb0) is not the object's thread (0xcd03960).\n",
      "Cannot move to target thread (0xe9abfb0)\n",
      "\n",
      "QObject::moveToThread: Current thread (0xe9abfb0) is not the object's thread (0xcd03960).\n",
      "Cannot move to target thread (0xe9abfb0)\n",
      "\n",
      "QObject::moveToThread: Current thread (0xe9abfb0) is not the object's thread (0xcd03960).\n",
      "Cannot move to target thread (0xe9abfb0)\n",
      "\n",
      "QObject::moveToThread: Current thread (0xe9abfb0) is not the object's thread (0xcd03960).\n",
      "Cannot move to target thread (0xe9abfb0)\n",
      "\n",
      "QObject::moveToThread: Current thread (0xe9abfb0) is not the object's thread (0xcd03960).\n",
      "Cannot move to target thread (0xe9abfb0)\n",
      "\n",
      "QObject::moveToThread: Current thread (0xe9abfb0) is not the object's thread (0xcd03960).\n",
      "Cannot move to target thread (0xe9abfb0)\n",
      "\n",
      "QObject::moveToThread: Current thread (0xe9abfb0) is not the object's thread (0xcd03960).\n",
      "Cannot move to target thread (0xe9abfb0)\n",
      "\n",
      "QObject::moveToThread: Current thread (0xe9abfb0) is not the object's thread (0xcd03960).\n",
      "Cannot move to target thread (0xe9abfb0)\n",
      "\n",
      "QObject::moveToThread: Current thread (0xe9abfb0) is not the object's thread (0xcd03960).\n",
      "Cannot move to target thread (0xe9abfb0)\n",
      "\n",
      "QObject::moveToThread: Current thread (0xe9abfb0) is not the object's thread (0xcd03960).\n",
      "Cannot move to target thread (0xe9abfb0)\n",
      "\n",
      "QObject::moveToThread: Current thread (0xe9abfb0) is not the object's thread (0xcd03960).\n",
      "Cannot move to target thread (0xe9abfb0)\n",
      "\n",
      "QObject::moveToThread: Current thread (0xe9abfb0) is not the object's thread (0xcd03960).\n",
      "Cannot move to target thread (0xe9abfb0)\n",
      "\n",
      "QObject::moveToThread: Current thread (0xe9abfb0) is not the object's thread (0xcd03960).\n",
      "Cannot move to target thread (0xe9abfb0)\n",
      "\n",
      "QObject::moveToThread: Current thread (0xe9abfb0) is not the object's thread (0xcd03960).\n",
      "Cannot move to target thread (0xe9abfb0)\n",
      "\n",
      "QObject::moveToThread: Current thread (0xe9abfb0) is not the object's thread (0xcd03960).\n",
      "Cannot move to target thread (0xe9abfb0)\n",
      "\n",
      "QObject::moveToThread: Current thread (0xe9abfb0) is not the object's thread (0xcd03960).\n",
      "Cannot move to target thread (0xe9abfb0)\n",
      "\n",
      "QObject::moveToThread: Current thread (0xe9abfb0) is not the object's thread (0xcd03960).\n",
      "Cannot move to target thread (0xe9abfb0)\n",
      "\n",
      "QObject::moveToThread: Current thread (0xe9abfb0) is not the object's thread (0xcd03960).\n",
      "Cannot move to target thread (0xe9abfb0)\n",
      "\n",
      "QObject::moveToThread: Current thread (0xe9abfb0) is not the object's thread (0xcd03960).\n",
      "Cannot move to target thread (0xe9abfb0)\n",
      "\n",
      "QObject::moveToThread: Current thread (0xe9abfb0) is not the object's thread (0xcd03960).\n",
      "Cannot move to target thread (0xe9abfb0)\n",
      "\n",
      "QObject::moveToThread: Current thread (0xe9abfb0) is not the object's thread (0xcd03960).\n",
      "Cannot move to target thread (0xe9abfb0)\n",
      "\n",
      "QObject::moveToThread: Current thread (0xe9abfb0) is not the object's thread (0xcd03960).\n",
      "Cannot move to target thread (0xe9abfb0)\n",
      "\n",
      "QObject::moveToThread: Current thread (0xe9abfb0) is not the object's thread (0xcd03960).\n",
      "Cannot move to target thread (0xe9abfb0)\n",
      "\n",
      "QObject::moveToThread: Current thread (0xe9abfb0) is not the object's thread (0xcd03960).\n",
      "Cannot move to target thread (0xe9abfb0)\n",
      "\n",
      "QObject::moveToThread: Current thread (0xe9abfb0) is not the object's thread (0xcd03960).\n",
      "Cannot move to target thread (0xe9abfb0)\n",
      "\n",
      "QObject::moveToThread: Current thread (0xe9abfb0) is not the object's thread (0xcd03960).\n",
      "Cannot move to target thread (0xe9abfb0)\n",
      "\n",
      "QObject::moveToThread: Current thread (0xe9abfb0) is not the object's thread (0xcd03960).\n",
      "Cannot move to target thread (0xe9abfb0)\n",
      "\n",
      "QObject::moveToThread: Current thread (0xe9abfb0) is not the object's thread (0xcd03960).\n",
      "Cannot move to target thread (0xe9abfb0)\n",
      "\n",
      "QObject::moveToThread: Current thread (0xe9abfb0) is not the object's thread (0xcd03960).\n",
      "Cannot move to target thread (0xe9abfb0)\n",
      "\n",
      "QObject::moveToThread: Current thread (0xe9abfb0) is not the object's thread (0xcd03960).\n",
      "Cannot move to target thread (0xe9abfb0)\n",
      "\n",
      "QObject::moveToThread: Current thread (0xe9abfb0) is not the object's thread (0xcd03960).\n",
      "Cannot move to target thread (0xe9abfb0)\n",
      "\n",
      "QObject::moveToThread: Current thread (0xe9abfb0) is not the object's thread (0xcd03960).\n",
      "Cannot move to target thread (0xe9abfb0)\n",
      "\n",
      "QObject::moveToThread: Current thread (0xe9abfb0) is not the object's thread (0xcd03960).\n",
      "Cannot move to target thread (0xe9abfb0)\n",
      "\n",
      "QObject::moveToThread: Current thread (0xe9abfb0) is not the object's thread (0xcd03960).\n",
      "Cannot move to target thread (0xe9abfb0)\n",
      "\n",
      "QObject::moveToThread: Current thread (0xe9abfb0) is not the object's thread (0xcd03960).\n",
      "Cannot move to target thread (0xe9abfb0)\n",
      "\n",
      "QObject::moveToThread: Current thread (0xe9abfb0) is not the object's thread (0xcd03960).\n",
      "Cannot move to target thread (0xe9abfb0)\n",
      "\n",
      "QObject::moveToThread: Current thread (0xe9abfb0) is not the object's thread (0xcd03960).\n",
      "Cannot move to target thread (0xe9abfb0)\n",
      "\n",
      "QObject::moveToThread: Current thread (0xe9abfb0) is not the object's thread (0xcd03960).\n",
      "Cannot move to target thread (0xe9abfb0)\n",
      "\n",
      "QObject::moveToThread: Current thread (0xe9abfb0) is not the object's thread (0xcd03960).\n",
      "Cannot move to target thread (0xe9abfb0)\n",
      "\n",
      "QObject::moveToThread: Current thread (0xe9abfb0) is not the object's thread (0xcd03960).\n",
      "Cannot move to target thread (0xe9abfb0)\n",
      "\n",
      "QObject::moveToThread: Current thread (0xe9abfb0) is not the object's thread (0xcd03960).\n",
      "Cannot move to target thread (0xe9abfb0)\n",
      "\n",
      "QObject::moveToThread: Current thread (0xe9abfb0) is not the object's thread (0xcd03960).\n",
      "Cannot move to target thread (0xe9abfb0)\n",
      "\n",
      "QObject::moveToThread: Current thread (0xe9abfb0) is not the object's thread (0xcd03960).\n",
      "Cannot move to target thread (0xe9abfb0)\n",
      "\n",
      "QObject::moveToThread: Current thread (0xe9abfb0) is not the object's thread (0xcd03960).\n",
      "Cannot move to target thread (0xe9abfb0)\n",
      "\n",
      "QObject::moveToThread: Current thread (0xe9abfb0) is not the object's thread (0xcd03960).\n",
      "Cannot move to target thread (0xe9abfb0)\n",
      "\n",
      "QObject::moveToThread: Current thread (0xe9abfb0) is not the object's thread (0xcd03960).\n",
      "Cannot move to target thread (0xe9abfb0)\n",
      "\n",
      "QObject::moveToThread: Current thread (0xe9abfb0) is not the object's thread (0xcd03960).\n",
      "Cannot move to target thread (0xe9abfb0)\n",
      "\n"
     ]
    },
    {
     "ename": "ValueError",
     "evalue": "I/O operation on closed file.",
     "output_type": "error",
     "traceback": [
      "\u001b[0;31m---------------------------------------------------------------------------\u001b[0m",
      "\u001b[0;31mValueError\u001b[0m                                Traceback (most recent call last)",
      "Cell \u001b[0;32mIn[8], line 6\u001b[0m\n\u001b[1;32m      4\u001b[0m action, state \u001b[38;5;241m=\u001b[39m model\u001b[38;5;241m.\u001b[39mpredict(obs)\n\u001b[1;32m      5\u001b[0m action_list\u001b[38;5;241m.\u001b[39mappend(action)\n\u001b[0;32m----> 6\u001b[0m obs, reward, done,done, info \u001b[38;5;241m=\u001b[39m env\u001b[38;5;241m.\u001b[39mstep(action)\n\u001b[1;32m      7\u001b[0m env\u001b[38;5;241m.\u001b[39mrender()\n\u001b[1;32m      8\u001b[0m \u001b[38;5;66;03m# time.sleep(0.2)\u001b[39;00m\n",
      "File \u001b[0;32m~/anaconda3/envs/robosuite/lib/python3.11/site-packages/stable_baselines3/common/monitor.py:108\u001b[0m, in \u001b[0;36mMonitor.step\u001b[0;34m(self, action)\u001b[0m\n\u001b[1;32m    106\u001b[0m     ep_info\u001b[38;5;241m.\u001b[39mupdate(\u001b[38;5;28mself\u001b[39m\u001b[38;5;241m.\u001b[39mcurrent_reset_info)\n\u001b[1;32m    107\u001b[0m     \u001b[38;5;28;01mif\u001b[39;00m \u001b[38;5;28mself\u001b[39m\u001b[38;5;241m.\u001b[39mresults_writer:\n\u001b[0;32m--> 108\u001b[0m         \u001b[38;5;28mself\u001b[39m\u001b[38;5;241m.\u001b[39mresults_writer\u001b[38;5;241m.\u001b[39mwrite_row(ep_info)\n\u001b[1;32m    109\u001b[0m     info[\u001b[38;5;124m\"\u001b[39m\u001b[38;5;124mepisode\u001b[39m\u001b[38;5;124m\"\u001b[39m] \u001b[38;5;241m=\u001b[39m ep_info\n\u001b[1;32m    110\u001b[0m \u001b[38;5;28mself\u001b[39m\u001b[38;5;241m.\u001b[39mtotal_steps \u001b[38;5;241m+\u001b[39m\u001b[38;5;241m=\u001b[39m \u001b[38;5;241m1\u001b[39m\n",
      "File \u001b[0;32m~/anaconda3/envs/robosuite/lib/python3.11/site-packages/stable_baselines3/common/monitor.py:212\u001b[0m, in \u001b[0;36mResultsWriter.write_row\u001b[0;34m(self, epinfo)\u001b[0m\n\u001b[1;32m    206\u001b[0m \u001b[38;5;250m\u001b[39m\u001b[38;5;124;03m\"\"\"\u001b[39;00m\n\u001b[1;32m    207\u001b[0m \u001b[38;5;124;03mWrite row of monitor data to csv log file.\u001b[39;00m\n\u001b[1;32m    208\u001b[0m \n\u001b[1;32m    209\u001b[0m \u001b[38;5;124;03m:param epinfo: the information on episodic return, length, and time\u001b[39;00m\n\u001b[1;32m    210\u001b[0m \u001b[38;5;124;03m\"\"\"\u001b[39;00m\n\u001b[1;32m    211\u001b[0m \u001b[38;5;28;01mif\u001b[39;00m \u001b[38;5;28mself\u001b[39m\u001b[38;5;241m.\u001b[39mlogger:\n\u001b[0;32m--> 212\u001b[0m     \u001b[38;5;28mself\u001b[39m\u001b[38;5;241m.\u001b[39mlogger\u001b[38;5;241m.\u001b[39mwriterow(epinfo)\n\u001b[1;32m    213\u001b[0m     \u001b[38;5;28mself\u001b[39m\u001b[38;5;241m.\u001b[39mfile_handler\u001b[38;5;241m.\u001b[39mflush()\n",
      "File \u001b[0;32m~/anaconda3/envs/robosuite/lib/python3.11/csv.py:154\u001b[0m, in \u001b[0;36mDictWriter.writerow\u001b[0;34m(self, rowdict)\u001b[0m\n\u001b[1;32m    153\u001b[0m \u001b[38;5;28;01mdef\u001b[39;00m \u001b[38;5;21mwriterow\u001b[39m(\u001b[38;5;28mself\u001b[39m, rowdict):\n\u001b[0;32m--> 154\u001b[0m     \u001b[38;5;28;01mreturn\u001b[39;00m \u001b[38;5;28mself\u001b[39m\u001b[38;5;241m.\u001b[39mwriter\u001b[38;5;241m.\u001b[39mwriterow(\u001b[38;5;28mself\u001b[39m\u001b[38;5;241m.\u001b[39m_dict_to_list(rowdict))\n",
      "\u001b[0;31mValueError\u001b[0m: I/O operation on closed file."
     ]
    }
   ],
   "source": [
    "obs = env.reset()[0]\n",
    "action_list = []\n",
    "for i in range(500):\n",
    "    action, state = model.predict(obs)\n",
    "    action_list.append(action)\n",
    "    obs, reward, done,done, info = env.step(action)\n",
    "    env.render()\n",
    "    # time.sleep(0.2)\n",
    "    if done:\n",
    "        break\n",
    "env.close()"
   ]
  },
  {
   "cell_type": "code",
   "execution_count": null,
   "id": "bc6e88f34c3e1ad",
   "metadata": {
    "ExecuteTime": {
     "end_time": "2023-09-25T07:45:52.507218709Z",
     "start_time": "2023-09-25T07:19:44.084127030Z"
    }
   },
   "outputs": [],
   "source": [
    "from stable_baselines3 import PPO\n",
    "model = PPO.load('trained_model', env=env)\n",
    "model.learn(total_timesteps=100000, progress_bar=True, log_interval=10)\n",
    "model.save('trained_model')\n"
   ]
  },
  {
   "cell_type": "code",
   "execution_count": null,
   "id": "e997e532ad5e1641",
   "metadata": {},
   "outputs": [],
   "source": [
    "import torch\n",
    "torch.cuda.is_available()"
   ]
  },
  {
   "cell_type": "code",
   "execution_count": null,
   "id": "32703687",
   "metadata": {},
   "outputs": [],
   "source": [
    "import robosuite.macros as macros\n",
    "macros.IMAGE_CONVENTION = \"opencv\"\n",
    "env = GymWrapper(suite.make(\n",
    "    env_name=\"Lift\", # try with other tasks like \"Stack\" and \"Door\"\n",
    "    robots=\"UR5e\",  # try with other robots like \"Sawyer\" and \"Jaco\"\n",
    "    has_renderer=False,\n",
    "    ignore_done = True,\n",
    "    has_offscreen_renderer=True,\n",
    "    use_object_obs=True,                   # don't provide object observations to agent\n",
    "    use_camera_obs=True,\n",
    "    camera_names=\"agentview\",      # use \"agentview\" camera for observations\n",
    "    camera_heights=512,                      # image height\n",
    "    camera_widths=512,                       # image width\n",
    "    reward_shaping=True,                    # use a dense reward signal for learning\n",
    "    horizon = 500,\n",
    "    control_freq=20,                        # control should happen fast enough so that simulation looks smooth\n",
    "))"
   ]
  },
  {
   "cell_type": "code",
   "execution_count": null,
   "id": "28e25391",
   "metadata": {},
   "outputs": [],
   "source": [
    "import imageio\n",
    "\n",
    "writer = imageio.get_writer(f'{filename}/video.mp4', fps=20)\n",
    "obs = env.reset()[0]\n",
    "for i,v in enumerate(action_list):\n",
    "    obs, reward, done,done, info = env.step(v)\n",
    "    frame = obs[\"agentview_image\"]\n",
    "    writer.append_data(frame)\n",
    "    print(\"Saving frame #{}\".format(i))\n",
    "    if done:\n",
    "        break\n",
    "writer.close()\n",
    "env.close()"
   ]
  }
 ],
 "metadata": {
  "kernelspec": {
   "display_name": "Python 3 (ipykernel)",
   "language": "python",
   "name": "python3"
  },
  "language_info": {
   "codemirror_mode": {
    "name": "ipython",
    "version": 3
   },
   "file_extension": ".py",
   "mimetype": "text/x-python",
   "name": "python",
   "nbconvert_exporter": "python",
   "pygments_lexer": "ipython3",
   "version": "3.11.5"
  }
 },
 "nbformat": 4,
 "nbformat_minor": 5
}
