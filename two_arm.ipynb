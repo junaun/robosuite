{
 "cells": [
  {
   "cell_type": "code",
   "execution_count": 1,
   "metadata": {},
   "outputs": [
    {
     "name": "stderr",
     "output_type": "stream",
     "text": [
      "\u001b[1m\u001b[33m[robosuite WARNING] \u001b[0mNo private macro file found! (macros.py:53)\n",
      "\u001b[1m\u001b[33m[robosuite WARNING] \u001b[0mIt is recommended to use a private macro file (macros.py:54)\n",
      "\u001b[1m\u001b[33m[robosuite WARNING] \u001b[0mTo setup, run: python /home/ja/PycharmProjects/robosuite/robosuite/robosuite/scripts/setup_macros.py (macros.py:55)\n"
     ]
    }
   ],
   "source": [
    "import robosuite as suite\n",
    "from robosuite.wrappers.gym_wrapper import GymWrapper\n",
    "import gymnasium as gym\n",
    "from stable_baselines3.common.vec_env import SubprocVecEnv\n",
    "from stable_baselines3.common.utils import set_random_seed\n",
    "from stable_baselines3.common.monitor import Monitor\n",
    "import time\n",
    "from stable_baselines3.common.env_util import make_vec_env\n",
    "from stable_baselines3.common.results_plotter import load_results, ts2xy\n",
    "from stable_baselines3.common.callbacks import BaseCallback\n",
    "import numpy as np"
   ]
  },
  {
   "cell_type": "code",
   "execution_count": 2,
   "metadata": {},
   "outputs": [],
   "source": [
    "import os\n",
    "filename = 'tmp/gym/twoarm_ppo'\n",
    "cwd = os.getcwd()\n",
    "new_folder = os.path.join(cwd, filename)\n",
    "os.makedirs(new_folder, exist_ok=True)"
   ]
  },
  {
   "cell_type": "code",
   "execution_count": 3,
   "metadata": {},
   "outputs": [],
   "source": [
    "# create environment instance\n",
    "env = GymWrapper(suite.make(\n",
    "    env_name=\"TwoArmPegInHole\", # try with other tasks like \"Stack\" and \"Door\"\n",
    "    robots=[\"UR5e\",\"UR5e\"],  # try with other robots like \"Sawyer\" and \"Jaco\"\n",
    "    has_renderer=True,\n",
    "    has_offscreen_renderer=True,\n",
    "    use_object_obs=False,                   # don't provide object observations to agent\n",
    "    use_camera_obs=True,\n",
    "    camera_names=\"robot0_eye_in_hand\",      # use \"agentview\" camera for observations\n",
    "    camera_heights=84,                      # image height\n",
    "    camera_widths=84,                       # image width\n",
    "    reward_shaping=True,                    # use a dense reward signal for learning\n",
    "    horizon = 500,\n",
    "    control_freq=20,                        # control should happen fast enough so that simulation looks smooth\n",
    "))\n",
    "env = Monitor(env, filename)\n",
    "# ), ['robot0_eye_in_hand_image'])"
   ]
  },
  {
   "cell_type": "code",
   "execution_count": 4,
   "metadata": {},
   "outputs": [
    {
     "data": {
      "text/plain": [
       "Dict('robot0_eef_pos': Box(-1.0, 1.0, (3,), float32), 'robot0_eef_quat': Box(-1.0, 1.0, (4,), float32), 'robot0_eye_in_hand_image': Box(0, 255, (84, 84, 3), uint8), 'robot0_joint_pos_cos': Box(-1.0, 1.0, (6,), float32), 'robot0_joint_pos_sin': Box(-1.0, 1.0, (6,), float32), 'robot0_joint_vel': Box(-1.0, 1.0, (6,), float32), 'robot0_proprio-state': Box(-1.0, 1.0, (25,), float32), 'robot1_eef_pos': Box(-1.0, 1.0, (3,), float32), 'robot1_eef_quat': Box(-1.0, 1.0, (4,), float32), 'robot1_joint_pos_cos': Box(-1.0, 1.0, (6,), float32), 'robot1_joint_pos_sin': Box(-1.0, 1.0, (6,), float32), 'robot1_joint_vel': Box(-1.0, 1.0, (6,), float32), 'robot1_proprio-state': Box(-1.0, 1.0, (25,), float32))"
      ]
     },
     "execution_count": 4,
     "metadata": {},
     "output_type": "execute_result"
    }
   ],
   "source": [
    "env.observation_space"
   ]
  },
  {
   "cell_type": "code",
   "execution_count": 5,
   "metadata": {},
   "outputs": [],
   "source": [
    "class SaveOnBestTrainingRewardCallback(BaseCallback):\n",
    "    \"\"\"\n",
    "    Callback for saving a model (the check is done every ``check_freq`` steps)\n",
    "    based on the training reward (in practice, we recommend using ``EvalCallback``).\n",
    "\n",
    "    :param check_freq: (int)\n",
    "    :param log_dir: (str) Path to the folder where the model will be saved.\n",
    "      It must contains the file created by the ``Monitor`` wrapper.\n",
    "    :param verbose: (int)\n",
    "    \"\"\"\n",
    "\n",
    "    def __init__(self, check_freq: int, log_dir: str, verbose=1):\n",
    "        super().__init__(verbose)\n",
    "        self.check_freq = check_freq\n",
    "        self.log_dir = log_dir\n",
    "        self.save_path = os.path.join(log_dir, \"best_model\")\n",
    "        self.best_mean_reward = -np.inf\n",
    "\n",
    "    def _init_callback(self) -> None:\n",
    "        # Create folder if needed\n",
    "        if self.save_path is not None:\n",
    "            os.makedirs(self.save_path, exist_ok=True)\n",
    "\n",
    "    def _on_step(self) -> bool:\n",
    "        if self.n_calls % self.check_freq == 0:\n",
    "\n",
    "            # Retrieve training reward\n",
    "            x, y = ts2xy(load_results(self.log_dir), \"timesteps\")\n",
    "            if len(x) > 0:\n",
    "                # Mean training reward over the last 100 episodes\n",
    "                mean_reward = np.mean(y[-100:])\n",
    "                if self.verbose > 0:\n",
    "                    print(f\"Num timesteps: {self.num_timesteps}\")\n",
    "                    print(\n",
    "                        f\"Best mean reward: {self.best_mean_reward:.2f} - Last mean reward per episode: {mean_reward:.2f}\"\n",
    "                    )\n",
    "\n",
    "                # New best model, you could save the agent here\n",
    "                if mean_reward > self.best_mean_reward:\n",
    "                    self.best_mean_reward = mean_reward\n",
    "                    # Example for saving best model\n",
    "                    if self.verbose > 0:\n",
    "                        print(f\"Saving new best model to {self.save_path}.zip\")\n",
    "                    self.model.save(self.save_path)\n",
    "\n",
    "        return True"
   ]
  },
  {
   "cell_type": "code",
   "execution_count": 6,
   "metadata": {},
   "outputs": [
    {
     "name": "stdout",
     "output_type": "stream",
     "text": [
      "Using cuda device\n",
      "Wrapping the env in a DummyVecEnv.\n",
      "Wrapping the env in a VecTransposeImage.\n"
     ]
    },
    {
     "data": {
      "application/vnd.jupyter.widget-view+json": {
       "model_id": "7d36f714445340cdb7bb7a4fb8263564",
       "version_major": 2,
       "version_minor": 0
      },
      "text/plain": [
       "Output()"
      ]
     },
     "metadata": {},
     "output_type": "display_data"
    },
    {
     "data": {
      "text/html": [
       "<pre style=\"white-space:pre;overflow-x:auto;line-height:normal;font-family:Menlo,'DejaVu Sans Mono',consolas,'Courier New',monospace\">Num timesteps: 1000\n",
       "</pre>\n"
      ],
      "text/plain": [
       "Num timesteps: 1000\n"
      ]
     },
     "metadata": {},
     "output_type": "display_data"
    },
    {
     "data": {
      "text/html": [
       "<pre style=\"white-space:pre;overflow-x:auto;line-height:normal;font-family:Menlo,'DejaVu Sans Mono',consolas,'Courier New',monospace\">Best mean reward: -inf - Last mean reward per episode: 212.60\n",
       "</pre>\n"
      ],
      "text/plain": [
       "Best mean reward: -inf - Last mean reward per episode: 212.60\n"
      ]
     },
     "metadata": {},
     "output_type": "display_data"
    },
    {
     "data": {
      "text/html": [
       "<pre style=\"white-space:pre;overflow-x:auto;line-height:normal;font-family:Menlo,'DejaVu Sans Mono',consolas,'Courier New',monospace\">Saving new best model to tmp/gym/twoarm_ppo/best_model.zip\n",
       "</pre>\n"
      ],
      "text/plain": [
       "Saving new best model to tmp/gym/twoarm_ppo/best_model.zip\n"
      ]
     },
     "metadata": {},
     "output_type": "display_data"
    },
    {
     "data": {
      "text/html": [
       "<pre style=\"white-space:pre;overflow-x:auto;line-height:normal;font-family:Menlo,'DejaVu Sans Mono',consolas,'Courier New',monospace\">Num timesteps: 2000\n",
       "</pre>\n"
      ],
      "text/plain": [
       "Num timesteps: 2000\n"
      ]
     },
     "metadata": {},
     "output_type": "display_data"
    },
    {
     "data": {
      "text/html": [
       "<pre style=\"white-space:pre;overflow-x:auto;line-height:normal;font-family:Menlo,'DejaVu Sans Mono',consolas,'Courier New',monospace\">Best mean reward: 212.60 - Last mean reward per episode: 213.46\n",
       "</pre>\n"
      ],
      "text/plain": [
       "Best mean reward: 212.60 - Last mean reward per episode: 213.46\n"
      ]
     },
     "metadata": {},
     "output_type": "display_data"
    },
    {
     "data": {
      "text/html": [
       "<pre style=\"white-space:pre;overflow-x:auto;line-height:normal;font-family:Menlo,'DejaVu Sans Mono',consolas,'Courier New',monospace\">Saving new best model to tmp/gym/twoarm_ppo/best_model.zip\n",
       "</pre>\n"
      ],
      "text/plain": [
       "Saving new best model to tmp/gym/twoarm_ppo/best_model.zip\n"
      ]
     },
     "metadata": {},
     "output_type": "display_data"
    },
    {
     "data": {
      "text/html": [
       "<pre style=\"white-space:pre;overflow-x:auto;line-height:normal;font-family:Menlo,'DejaVu Sans Mono',consolas,'Courier New',monospace\">Num timesteps: 3000\n",
       "</pre>\n"
      ],
      "text/plain": [
       "Num timesteps: 3000\n"
      ]
     },
     "metadata": {},
     "output_type": "display_data"
    },
    {
     "data": {
      "text/html": [
       "<pre style=\"white-space:pre;overflow-x:auto;line-height:normal;font-family:Menlo,'DejaVu Sans Mono',consolas,'Courier New',monospace\">Best mean reward: 213.46 - Last mean reward per episode: 214.48\n",
       "</pre>\n"
      ],
      "text/plain": [
       "Best mean reward: 213.46 - Last mean reward per episode: 214.48\n"
      ]
     },
     "metadata": {},
     "output_type": "display_data"
    },
    {
     "data": {
      "text/html": [
       "<pre style=\"white-space:pre;overflow-x:auto;line-height:normal;font-family:Menlo,'DejaVu Sans Mono',consolas,'Courier New',monospace\">Saving new best model to tmp/gym/twoarm_ppo/best_model.zip\n",
       "</pre>\n"
      ],
      "text/plain": [
       "Saving new best model to tmp/gym/twoarm_ppo/best_model.zip\n"
      ]
     },
     "metadata": {},
     "output_type": "display_data"
    },
    {
     "data": {
      "text/html": [
       "<pre style=\"white-space:pre;overflow-x:auto;line-height:normal;font-family:Menlo,'DejaVu Sans Mono',consolas,'Courier New',monospace\">Num timesteps: 4000\n",
       "</pre>\n"
      ],
      "text/plain": [
       "Num timesteps: 4000\n"
      ]
     },
     "metadata": {},
     "output_type": "display_data"
    },
    {
     "data": {
      "text/html": [
       "<pre style=\"white-space:pre;overflow-x:auto;line-height:normal;font-family:Menlo,'DejaVu Sans Mono',consolas,'Courier New',monospace\">Best mean reward: 214.48 - Last mean reward per episode: 219.66\n",
       "</pre>\n"
      ],
      "text/plain": [
       "Best mean reward: 214.48 - Last mean reward per episode: 219.66\n"
      ]
     },
     "metadata": {},
     "output_type": "display_data"
    },
    {
     "data": {
      "text/html": [
       "<pre style=\"white-space:pre;overflow-x:auto;line-height:normal;font-family:Menlo,'DejaVu Sans Mono',consolas,'Courier New',monospace\">Saving new best model to tmp/gym/twoarm_ppo/best_model.zip\n",
       "</pre>\n"
      ],
      "text/plain": [
       "Saving new best model to tmp/gym/twoarm_ppo/best_model.zip\n"
      ]
     },
     "metadata": {},
     "output_type": "display_data"
    },
    {
     "data": {
      "text/html": [
       "<pre style=\"white-space:pre;overflow-x:auto;line-height:normal;font-family:Menlo,'DejaVu Sans Mono',consolas,'Courier New',monospace\">Num timesteps: 5000\n",
       "</pre>\n"
      ],
      "text/plain": [
       "Num timesteps: 5000\n"
      ]
     },
     "metadata": {},
     "output_type": "display_data"
    },
    {
     "data": {
      "text/html": [
       "<pre style=\"white-space:pre;overflow-x:auto;line-height:normal;font-family:Menlo,'DejaVu Sans Mono',consolas,'Courier New',monospace\">Best mean reward: 219.66 - Last mean reward per episode: 218.27\n",
       "</pre>\n"
      ],
      "text/plain": [
       "Best mean reward: 219.66 - Last mean reward per episode: 218.27\n"
      ]
     },
     "metadata": {},
     "output_type": "display_data"
    },
    {
     "data": {
      "text/html": [
       "<pre style=\"white-space:pre;overflow-x:auto;line-height:normal;font-family:Menlo,'DejaVu Sans Mono',consolas,'Courier New',monospace\">Num timesteps: 6000\n",
       "</pre>\n"
      ],
      "text/plain": [
       "Num timesteps: 6000\n"
      ]
     },
     "metadata": {},
     "output_type": "display_data"
    },
    {
     "data": {
      "text/html": [
       "<pre style=\"white-space:pre;overflow-x:auto;line-height:normal;font-family:Menlo,'DejaVu Sans Mono',consolas,'Courier New',monospace\">Best mean reward: 219.66 - Last mean reward per episode: 215.37\n",
       "</pre>\n"
      ],
      "text/plain": [
       "Best mean reward: 219.66 - Last mean reward per episode: 215.37\n"
      ]
     },
     "metadata": {},
     "output_type": "display_data"
    },
    {
     "data": {
      "text/html": [
       "<pre style=\"white-space:pre;overflow-x:auto;line-height:normal;font-family:Menlo,'DejaVu Sans Mono',consolas,'Courier New',monospace\">Num timesteps: 7000\n",
       "</pre>\n"
      ],
      "text/plain": [
       "Num timesteps: 7000\n"
      ]
     },
     "metadata": {},
     "output_type": "display_data"
    },
    {
     "data": {
      "text/html": [
       "<pre style=\"white-space:pre;overflow-x:auto;line-height:normal;font-family:Menlo,'DejaVu Sans Mono',consolas,'Courier New',monospace\">Best mean reward: 219.66 - Last mean reward per episode: 215.42\n",
       "</pre>\n"
      ],
      "text/plain": [
       "Best mean reward: 219.66 - Last mean reward per episode: 215.42\n"
      ]
     },
     "metadata": {},
     "output_type": "display_data"
    },
    {
     "data": {
      "text/html": [
       "<pre style=\"white-space:pre;overflow-x:auto;line-height:normal;font-family:Menlo,'DejaVu Sans Mono',consolas,'Courier New',monospace\">Num timesteps: 8000\n",
       "</pre>\n"
      ],
      "text/plain": [
       "Num timesteps: 8000\n"
      ]
     },
     "metadata": {},
     "output_type": "display_data"
    },
    {
     "data": {
      "text/html": [
       "<pre style=\"white-space:pre;overflow-x:auto;line-height:normal;font-family:Menlo,'DejaVu Sans Mono',consolas,'Courier New',monospace\">Best mean reward: 219.66 - Last mean reward per episode: 221.12\n",
       "</pre>\n"
      ],
      "text/plain": [
       "Best mean reward: 219.66 - Last mean reward per episode: 221.12\n"
      ]
     },
     "metadata": {},
     "output_type": "display_data"
    },
    {
     "data": {
      "text/html": [
       "<pre style=\"white-space:pre;overflow-x:auto;line-height:normal;font-family:Menlo,'DejaVu Sans Mono',consolas,'Courier New',monospace\">Saving new best model to tmp/gym/twoarm_ppo/best_model.zip\n",
       "</pre>\n"
      ],
      "text/plain": [
       "Saving new best model to tmp/gym/twoarm_ppo/best_model.zip\n"
      ]
     },
     "metadata": {},
     "output_type": "display_data"
    },
    {
     "data": {
      "text/html": [
       "<pre style=\"white-space:pre;overflow-x:auto;line-height:normal;font-family:Menlo,'DejaVu Sans Mono',consolas,'Courier New',monospace\">Num timesteps: 9000\n",
       "</pre>\n"
      ],
      "text/plain": [
       "Num timesteps: 9000\n"
      ]
     },
     "metadata": {},
     "output_type": "display_data"
    },
    {
     "data": {
      "text/html": [
       "<pre style=\"white-space:pre;overflow-x:auto;line-height:normal;font-family:Menlo,'DejaVu Sans Mono',consolas,'Courier New',monospace\">Best mean reward: 221.12 - Last mean reward per episode: 223.93\n",
       "</pre>\n"
      ],
      "text/plain": [
       "Best mean reward: 221.12 - Last mean reward per episode: 223.93\n"
      ]
     },
     "metadata": {},
     "output_type": "display_data"
    },
    {
     "data": {
      "text/html": [
       "<pre style=\"white-space:pre;overflow-x:auto;line-height:normal;font-family:Menlo,'DejaVu Sans Mono',consolas,'Courier New',monospace\">Saving new best model to tmp/gym/twoarm_ppo/best_model.zip\n",
       "</pre>\n"
      ],
      "text/plain": [
       "Saving new best model to tmp/gym/twoarm_ppo/best_model.zip\n"
      ]
     },
     "metadata": {},
     "output_type": "display_data"
    },
    {
     "data": {
      "text/html": [
       "<pre style=\"white-space:pre;overflow-x:auto;line-height:normal;font-family:Menlo,'DejaVu Sans Mono',consolas,'Courier New',monospace\">Num timesteps: 10000\n",
       "</pre>\n"
      ],
      "text/plain": [
       "Num timesteps: 10000\n"
      ]
     },
     "metadata": {},
     "output_type": "display_data"
    },
    {
     "data": {
      "text/html": [
       "<pre style=\"white-space:pre;overflow-x:auto;line-height:normal;font-family:Menlo,'DejaVu Sans Mono',consolas,'Courier New',monospace\">Best mean reward: 223.93 - Last mean reward per episode: 220.64\n",
       "</pre>\n"
      ],
      "text/plain": [
       "Best mean reward: 223.93 - Last mean reward per episode: 220.64\n"
      ]
     },
     "metadata": {},
     "output_type": "display_data"
    },
    {
     "data": {
      "text/html": [
       "<pre style=\"white-space:pre;overflow-x:auto;line-height:normal;font-family:Menlo,'DejaVu Sans Mono',consolas,'Courier New',monospace\">Num timesteps: 11000\n",
       "</pre>\n"
      ],
      "text/plain": [
       "Num timesteps: 11000\n"
      ]
     },
     "metadata": {},
     "output_type": "display_data"
    },
    {
     "data": {
      "text/html": [
       "<pre style=\"white-space:pre;overflow-x:auto;line-height:normal;font-family:Menlo,'DejaVu Sans Mono',consolas,'Courier New',monospace\">Best mean reward: 223.93 - Last mean reward per episode: 222.21\n",
       "</pre>\n"
      ],
      "text/plain": [
       "Best mean reward: 223.93 - Last mean reward per episode: 222.21\n"
      ]
     },
     "metadata": {},
     "output_type": "display_data"
    },
    {
     "data": {
      "text/html": [
       "<pre style=\"white-space:pre;overflow-x:auto;line-height:normal;font-family:Menlo,'DejaVu Sans Mono',consolas,'Courier New',monospace\">Num timesteps: 12000\n",
       "</pre>\n"
      ],
      "text/plain": [
       "Num timesteps: 12000\n"
      ]
     },
     "metadata": {},
     "output_type": "display_data"
    },
    {
     "data": {
      "text/html": [
       "<pre style=\"white-space:pre;overflow-x:auto;line-height:normal;font-family:Menlo,'DejaVu Sans Mono',consolas,'Courier New',monospace\">Best mean reward: 223.93 - Last mean reward per episode: 221.26\n",
       "</pre>\n"
      ],
      "text/plain": [
       "Best mean reward: 223.93 - Last mean reward per episode: 221.26\n"
      ]
     },
     "metadata": {},
     "output_type": "display_data"
    },
    {
     "data": {
      "text/html": [
       "<pre style=\"white-space:pre;overflow-x:auto;line-height:normal;font-family:Menlo,'DejaVu Sans Mono',consolas,'Courier New',monospace\">Num timesteps: 13000\n",
       "</pre>\n"
      ],
      "text/plain": [
       "Num timesteps: 13000\n"
      ]
     },
     "metadata": {},
     "output_type": "display_data"
    },
    {
     "data": {
      "text/html": [
       "<pre style=\"white-space:pre;overflow-x:auto;line-height:normal;font-family:Menlo,'DejaVu Sans Mono',consolas,'Courier New',monospace\">Best mean reward: 223.93 - Last mean reward per episode: 221.04\n",
       "</pre>\n"
      ],
      "text/plain": [
       "Best mean reward: 223.93 - Last mean reward per episode: 221.04\n"
      ]
     },
     "metadata": {},
     "output_type": "display_data"
    },
    {
     "data": {
      "text/html": [
       "<pre style=\"white-space:pre;overflow-x:auto;line-height:normal;font-family:Menlo,'DejaVu Sans Mono',consolas,'Courier New',monospace\">Num timesteps: 14000\n",
       "</pre>\n"
      ],
      "text/plain": [
       "Num timesteps: 14000\n"
      ]
     },
     "metadata": {},
     "output_type": "display_data"
    },
    {
     "data": {
      "text/html": [
       "<pre style=\"white-space:pre;overflow-x:auto;line-height:normal;font-family:Menlo,'DejaVu Sans Mono',consolas,'Courier New',monospace\">Best mean reward: 223.93 - Last mean reward per episode: 221.08\n",
       "</pre>\n"
      ],
      "text/plain": [
       "Best mean reward: 223.93 - Last mean reward per episode: 221.08\n"
      ]
     },
     "metadata": {},
     "output_type": "display_data"
    },
    {
     "data": {
      "text/html": [
       "<pre style=\"white-space:pre;overflow-x:auto;line-height:normal;font-family:Menlo,'DejaVu Sans Mono',consolas,'Courier New',monospace\">Num timesteps: 15000\n",
       "</pre>\n"
      ],
      "text/plain": [
       "Num timesteps: 15000\n"
      ]
     },
     "metadata": {},
     "output_type": "display_data"
    },
    {
     "data": {
      "text/html": [
       "<pre style=\"white-space:pre;overflow-x:auto;line-height:normal;font-family:Menlo,'DejaVu Sans Mono',consolas,'Courier New',monospace\">Best mean reward: 223.93 - Last mean reward per episode: 221.15\n",
       "</pre>\n"
      ],
      "text/plain": [
       "Best mean reward: 223.93 - Last mean reward per episode: 221.15\n"
      ]
     },
     "metadata": {},
     "output_type": "display_data"
    },
    {
     "data": {
      "text/html": [
       "<pre style=\"white-space:pre;overflow-x:auto;line-height:normal;font-family:Menlo,'DejaVu Sans Mono',consolas,'Courier New',monospace\">Num timesteps: 16000\n",
       "</pre>\n"
      ],
      "text/plain": [
       "Num timesteps: 16000\n"
      ]
     },
     "metadata": {},
     "output_type": "display_data"
    },
    {
     "data": {
      "text/html": [
       "<pre style=\"white-space:pre;overflow-x:auto;line-height:normal;font-family:Menlo,'DejaVu Sans Mono',consolas,'Courier New',monospace\">Best mean reward: 223.93 - Last mean reward per episode: 223.04\n",
       "</pre>\n"
      ],
      "text/plain": [
       "Best mean reward: 223.93 - Last mean reward per episode: 223.04\n"
      ]
     },
     "metadata": {},
     "output_type": "display_data"
    },
    {
     "data": {
      "text/html": [
       "<pre style=\"white-space:pre;overflow-x:auto;line-height:normal;font-family:Menlo,'DejaVu Sans Mono',consolas,'Courier New',monospace\">Num timesteps: 17000\n",
       "</pre>\n"
      ],
      "text/plain": [
       "Num timesteps: 17000\n"
      ]
     },
     "metadata": {},
     "output_type": "display_data"
    },
    {
     "data": {
      "text/html": [
       "<pre style=\"white-space:pre;overflow-x:auto;line-height:normal;font-family:Menlo,'DejaVu Sans Mono',consolas,'Courier New',monospace\">Best mean reward: 223.93 - Last mean reward per episode: 223.96\n",
       "</pre>\n"
      ],
      "text/plain": [
       "Best mean reward: 223.93 - Last mean reward per episode: 223.96\n"
      ]
     },
     "metadata": {},
     "output_type": "display_data"
    },
    {
     "data": {
      "text/html": [
       "<pre style=\"white-space:pre;overflow-x:auto;line-height:normal;font-family:Menlo,'DejaVu Sans Mono',consolas,'Courier New',monospace\">Saving new best model to tmp/gym/twoarm_ppo/best_model.zip\n",
       "</pre>\n"
      ],
      "text/plain": [
       "Saving new best model to tmp/gym/twoarm_ppo/best_model.zip\n"
      ]
     },
     "metadata": {},
     "output_type": "display_data"
    },
    {
     "data": {
      "text/html": [
       "<pre style=\"white-space:pre;overflow-x:auto;line-height:normal;font-family:Menlo,'DejaVu Sans Mono',consolas,'Courier New',monospace\">Num timesteps: 18000\n",
       "</pre>\n"
      ],
      "text/plain": [
       "Num timesteps: 18000\n"
      ]
     },
     "metadata": {},
     "output_type": "display_data"
    },
    {
     "data": {
      "text/html": [
       "<pre style=\"white-space:pre;overflow-x:auto;line-height:normal;font-family:Menlo,'DejaVu Sans Mono',consolas,'Courier New',monospace\">Best mean reward: 223.96 - Last mean reward per episode: 223.60\n",
       "</pre>\n"
      ],
      "text/plain": [
       "Best mean reward: 223.96 - Last mean reward per episode: 223.60\n"
      ]
     },
     "metadata": {},
     "output_type": "display_data"
    },
    {
     "data": {
      "text/html": [
       "<pre style=\"white-space:pre;overflow-x:auto;line-height:normal;font-family:Menlo,'DejaVu Sans Mono',consolas,'Courier New',monospace\">Num timesteps: 19000\n",
       "</pre>\n"
      ],
      "text/plain": [
       "Num timesteps: 19000\n"
      ]
     },
     "metadata": {},
     "output_type": "display_data"
    },
    {
     "data": {
      "text/html": [
       "<pre style=\"white-space:pre;overflow-x:auto;line-height:normal;font-family:Menlo,'DejaVu Sans Mono',consolas,'Courier New',monospace\">Best mean reward: 223.96 - Last mean reward per episode: 222.65\n",
       "</pre>\n"
      ],
      "text/plain": [
       "Best mean reward: 223.96 - Last mean reward per episode: 222.65\n"
      ]
     },
     "metadata": {},
     "output_type": "display_data"
    },
    {
     "data": {
      "text/html": [
       "<pre style=\"white-space:pre;overflow-x:auto;line-height:normal;font-family:Menlo,'DejaVu Sans Mono',consolas,'Courier New',monospace\">Num timesteps: 20000\n",
       "</pre>\n"
      ],
      "text/plain": [
       "Num timesteps: 20000\n"
      ]
     },
     "metadata": {},
     "output_type": "display_data"
    },
    {
     "data": {
      "text/html": [
       "<pre style=\"white-space:pre;overflow-x:auto;line-height:normal;font-family:Menlo,'DejaVu Sans Mono',consolas,'Courier New',monospace\">Best mean reward: 223.96 - Last mean reward per episode: 221.91\n",
       "</pre>\n"
      ],
      "text/plain": [
       "Best mean reward: 223.96 - Last mean reward per episode: 221.91\n"
      ]
     },
     "metadata": {},
     "output_type": "display_data"
    },
    {
     "name": "stdout",
     "output_type": "stream",
     "text": [
      "-----------------------------------------\n",
      "| rollout/                |             |\n",
      "|    ep_len_mean          | 500         |\n",
      "|    ep_rew_mean          | 222         |\n",
      "| time/                   |             |\n",
      "|    fps                  | 78          |\n",
      "|    iterations           | 10          |\n",
      "|    time_elapsed         | 261         |\n",
      "|    total_timesteps      | 20480       |\n",
      "| train/                  |             |\n",
      "|    approx_kl            | 0.011395536 |\n",
      "|    clip_fraction        | 0.159       |\n",
      "|    clip_range           | 0.2         |\n",
      "|    entropy_loss         | -17         |\n",
      "|    explained_variance   | 0.0136      |\n",
      "|    learning_rate        | 0.0003      |\n",
      "|    loss                 | 1.38        |\n",
      "|    n_updates            | 90          |\n",
      "|    policy_gradient_loss | -0.00952    |\n",
      "|    std                  | 1           |\n",
      "|    value_loss           | 7.74        |\n",
      "-----------------------------------------\n"
     ]
    },
    {
     "data": {
      "text/html": [
       "<pre style=\"white-space:pre;overflow-x:auto;line-height:normal;font-family:Menlo,'DejaVu Sans Mono',consolas,'Courier New',monospace\">Num timesteps: 21000\n",
       "</pre>\n"
      ],
      "text/plain": [
       "Num timesteps: 21000\n"
      ]
     },
     "metadata": {},
     "output_type": "display_data"
    },
    {
     "data": {
      "text/html": [
       "<pre style=\"white-space:pre;overflow-x:auto;line-height:normal;font-family:Menlo,'DejaVu Sans Mono',consolas,'Courier New',monospace\">Best mean reward: 223.96 - Last mean reward per episode: 222.62\n",
       "</pre>\n"
      ],
      "text/plain": [
       "Best mean reward: 223.96 - Last mean reward per episode: 222.62\n"
      ]
     },
     "metadata": {},
     "output_type": "display_data"
    },
    {
     "data": {
      "text/html": [
       "<pre style=\"white-space:pre;overflow-x:auto;line-height:normal;font-family:Menlo,'DejaVu Sans Mono',consolas,'Courier New',monospace\">Num timesteps: 22000\n",
       "</pre>\n"
      ],
      "text/plain": [
       "Num timesteps: 22000\n"
      ]
     },
     "metadata": {},
     "output_type": "display_data"
    },
    {
     "data": {
      "text/html": [
       "<pre style=\"white-space:pre;overflow-x:auto;line-height:normal;font-family:Menlo,'DejaVu Sans Mono',consolas,'Courier New',monospace\">Best mean reward: 223.96 - Last mean reward per episode: 222.32\n",
       "</pre>\n"
      ],
      "text/plain": [
       "Best mean reward: 223.96 - Last mean reward per episode: 222.32\n"
      ]
     },
     "metadata": {},
     "output_type": "display_data"
    },
    {
     "data": {
      "text/html": [
       "<pre style=\"white-space:pre;overflow-x:auto;line-height:normal;font-family:Menlo,'DejaVu Sans Mono',consolas,'Courier New',monospace\">Num timesteps: 23000\n",
       "</pre>\n"
      ],
      "text/plain": [
       "Num timesteps: 23000\n"
      ]
     },
     "metadata": {},
     "output_type": "display_data"
    },
    {
     "data": {
      "text/html": [
       "<pre style=\"white-space:pre;overflow-x:auto;line-height:normal;font-family:Menlo,'DejaVu Sans Mono',consolas,'Courier New',monospace\">Best mean reward: 223.96 - Last mean reward per episode: 223.45\n",
       "</pre>\n"
      ],
      "text/plain": [
       "Best mean reward: 223.96 - Last mean reward per episode: 223.45\n"
      ]
     },
     "metadata": {},
     "output_type": "display_data"
    },
    {
     "data": {
      "text/html": [
       "<pre style=\"white-space:pre;overflow-x:auto;line-height:normal;font-family:Menlo,'DejaVu Sans Mono',consolas,'Courier New',monospace\">Num timesteps: 24000\n",
       "</pre>\n"
      ],
      "text/plain": [
       "Num timesteps: 24000\n"
      ]
     },
     "metadata": {},
     "output_type": "display_data"
    },
    {
     "data": {
      "text/html": [
       "<pre style=\"white-space:pre;overflow-x:auto;line-height:normal;font-family:Menlo,'DejaVu Sans Mono',consolas,'Courier New',monospace\">Best mean reward: 223.96 - Last mean reward per episode: 224.66\n",
       "</pre>\n"
      ],
      "text/plain": [
       "Best mean reward: 223.96 - Last mean reward per episode: 224.66\n"
      ]
     },
     "metadata": {},
     "output_type": "display_data"
    },
    {
     "data": {
      "text/html": [
       "<pre style=\"white-space:pre;overflow-x:auto;line-height:normal;font-family:Menlo,'DejaVu Sans Mono',consolas,'Courier New',monospace\">Saving new best model to tmp/gym/twoarm_ppo/best_model.zip\n",
       "</pre>\n"
      ],
      "text/plain": [
       "Saving new best model to tmp/gym/twoarm_ppo/best_model.zip\n"
      ]
     },
     "metadata": {},
     "output_type": "display_data"
    },
    {
     "data": {
      "text/html": [
       "<pre style=\"white-space:pre;overflow-x:auto;line-height:normal;font-family:Menlo,'DejaVu Sans Mono',consolas,'Courier New',monospace\">Num timesteps: 25000\n",
       "</pre>\n"
      ],
      "text/plain": [
       "Num timesteps: 25000\n"
      ]
     },
     "metadata": {},
     "output_type": "display_data"
    },
    {
     "data": {
      "text/html": [
       "<pre style=\"white-space:pre;overflow-x:auto;line-height:normal;font-family:Menlo,'DejaVu Sans Mono',consolas,'Courier New',monospace\">Best mean reward: 224.66 - Last mean reward per episode: 225.63\n",
       "</pre>\n"
      ],
      "text/plain": [
       "Best mean reward: 224.66 - Last mean reward per episode: 225.63\n"
      ]
     },
     "metadata": {},
     "output_type": "display_data"
    },
    {
     "data": {
      "text/html": [
       "<pre style=\"white-space:pre;overflow-x:auto;line-height:normal;font-family:Menlo,'DejaVu Sans Mono',consolas,'Courier New',monospace\">Saving new best model to tmp/gym/twoarm_ppo/best_model.zip\n",
       "</pre>\n"
      ],
      "text/plain": [
       "Saving new best model to tmp/gym/twoarm_ppo/best_model.zip\n"
      ]
     },
     "metadata": {},
     "output_type": "display_data"
    },
    {
     "data": {
      "text/html": [
       "<pre style=\"white-space:pre;overflow-x:auto;line-height:normal;font-family:Menlo,'DejaVu Sans Mono',consolas,'Courier New',monospace\">Num timesteps: 26000\n",
       "</pre>\n"
      ],
      "text/plain": [
       "Num timesteps: 26000\n"
      ]
     },
     "metadata": {},
     "output_type": "display_data"
    },
    {
     "data": {
      "text/html": [
       "<pre style=\"white-space:pre;overflow-x:auto;line-height:normal;font-family:Menlo,'DejaVu Sans Mono',consolas,'Courier New',monospace\">Best mean reward: 225.63 - Last mean reward per episode: 226.62\n",
       "</pre>\n"
      ],
      "text/plain": [
       "Best mean reward: 225.63 - Last mean reward per episode: 226.62\n"
      ]
     },
     "metadata": {},
     "output_type": "display_data"
    },
    {
     "data": {
      "text/html": [
       "<pre style=\"white-space:pre;overflow-x:auto;line-height:normal;font-family:Menlo,'DejaVu Sans Mono',consolas,'Courier New',monospace\">Saving new best model to tmp/gym/twoarm_ppo/best_model.zip\n",
       "</pre>\n"
      ],
      "text/plain": [
       "Saving new best model to tmp/gym/twoarm_ppo/best_model.zip\n"
      ]
     },
     "metadata": {},
     "output_type": "display_data"
    },
    {
     "data": {
      "text/html": [
       "<pre style=\"white-space:pre;overflow-x:auto;line-height:normal;font-family:Menlo,'DejaVu Sans Mono',consolas,'Courier New',monospace\">Num timesteps: 27000\n",
       "</pre>\n"
      ],
      "text/plain": [
       "Num timesteps: 27000\n"
      ]
     },
     "metadata": {},
     "output_type": "display_data"
    },
    {
     "data": {
      "text/html": [
       "<pre style=\"white-space:pre;overflow-x:auto;line-height:normal;font-family:Menlo,'DejaVu Sans Mono',consolas,'Courier New',monospace\">Best mean reward: 226.62 - Last mean reward per episode: 228.17\n",
       "</pre>\n"
      ],
      "text/plain": [
       "Best mean reward: 226.62 - Last mean reward per episode: 228.17\n"
      ]
     },
     "metadata": {},
     "output_type": "display_data"
    },
    {
     "data": {
      "text/html": [
       "<pre style=\"white-space:pre;overflow-x:auto;line-height:normal;font-family:Menlo,'DejaVu Sans Mono',consolas,'Courier New',monospace\">Saving new best model to tmp/gym/twoarm_ppo/best_model.zip\n",
       "</pre>\n"
      ],
      "text/plain": [
       "Saving new best model to tmp/gym/twoarm_ppo/best_model.zip\n"
      ]
     },
     "metadata": {},
     "output_type": "display_data"
    },
    {
     "data": {
      "text/html": [
       "<pre style=\"white-space:pre;overflow-x:auto;line-height:normal;font-family:Menlo,'DejaVu Sans Mono',consolas,'Courier New',monospace\">Num timesteps: 28000\n",
       "</pre>\n"
      ],
      "text/plain": [
       "Num timesteps: 28000\n"
      ]
     },
     "metadata": {},
     "output_type": "display_data"
    },
    {
     "data": {
      "text/html": [
       "<pre style=\"white-space:pre;overflow-x:auto;line-height:normal;font-family:Menlo,'DejaVu Sans Mono',consolas,'Courier New',monospace\">Best mean reward: 228.17 - Last mean reward per episode: 227.79\n",
       "</pre>\n"
      ],
      "text/plain": [
       "Best mean reward: 228.17 - Last mean reward per episode: 227.79\n"
      ]
     },
     "metadata": {},
     "output_type": "display_data"
    },
    {
     "data": {
      "text/html": [
       "<pre style=\"white-space:pre;overflow-x:auto;line-height:normal;font-family:Menlo,'DejaVu Sans Mono',consolas,'Courier New',monospace\">Num timesteps: 29000\n",
       "</pre>\n"
      ],
      "text/plain": [
       "Num timesteps: 29000\n"
      ]
     },
     "metadata": {},
     "output_type": "display_data"
    },
    {
     "data": {
      "text/html": [
       "<pre style=\"white-space:pre;overflow-x:auto;line-height:normal;font-family:Menlo,'DejaVu Sans Mono',consolas,'Courier New',monospace\">Best mean reward: 228.17 - Last mean reward per episode: 227.89\n",
       "</pre>\n"
      ],
      "text/plain": [
       "Best mean reward: 228.17 - Last mean reward per episode: 227.89\n"
      ]
     },
     "metadata": {},
     "output_type": "display_data"
    },
    {
     "data": {
      "text/html": [
       "<pre style=\"white-space:pre;overflow-x:auto;line-height:normal;font-family:Menlo,'DejaVu Sans Mono',consolas,'Courier New',monospace\">Num timesteps: 30000\n",
       "</pre>\n"
      ],
      "text/plain": [
       "Num timesteps: 30000\n"
      ]
     },
     "metadata": {},
     "output_type": "display_data"
    },
    {
     "data": {
      "text/html": [
       "<pre style=\"white-space:pre;overflow-x:auto;line-height:normal;font-family:Menlo,'DejaVu Sans Mono',consolas,'Courier New',monospace\">Best mean reward: 228.17 - Last mean reward per episode: 227.75\n",
       "</pre>\n"
      ],
      "text/plain": [
       "Best mean reward: 228.17 - Last mean reward per episode: 227.75\n"
      ]
     },
     "metadata": {},
     "output_type": "display_data"
    },
    {
     "data": {
      "text/html": [
       "<pre style=\"white-space:pre;overflow-x:auto;line-height:normal;font-family:Menlo,'DejaVu Sans Mono',consolas,'Courier New',monospace\">Num timesteps: 31000\n",
       "</pre>\n"
      ],
      "text/plain": [
       "Num timesteps: 31000\n"
      ]
     },
     "metadata": {},
     "output_type": "display_data"
    },
    {
     "data": {
      "text/html": [
       "<pre style=\"white-space:pre;overflow-x:auto;line-height:normal;font-family:Menlo,'DejaVu Sans Mono',consolas,'Courier New',monospace\">Best mean reward: 228.17 - Last mean reward per episode: 225.74\n",
       "</pre>\n"
      ],
      "text/plain": [
       "Best mean reward: 228.17 - Last mean reward per episode: 225.74\n"
      ]
     },
     "metadata": {},
     "output_type": "display_data"
    },
    {
     "data": {
      "text/html": [
       "<pre style=\"white-space:pre;overflow-x:auto;line-height:normal;font-family:Menlo,'DejaVu Sans Mono',consolas,'Courier New',monospace\">Num timesteps: 32000\n",
       "</pre>\n"
      ],
      "text/plain": [
       "Num timesteps: 32000\n"
      ]
     },
     "metadata": {},
     "output_type": "display_data"
    },
    {
     "data": {
      "text/html": [
       "<pre style=\"white-space:pre;overflow-x:auto;line-height:normal;font-family:Menlo,'DejaVu Sans Mono',consolas,'Courier New',monospace\">Best mean reward: 228.17 - Last mean reward per episode: 226.42\n",
       "</pre>\n"
      ],
      "text/plain": [
       "Best mean reward: 228.17 - Last mean reward per episode: 226.42\n"
      ]
     },
     "metadata": {},
     "output_type": "display_data"
    },
    {
     "data": {
      "text/html": [
       "<pre style=\"white-space:pre;overflow-x:auto;line-height:normal;font-family:Menlo,'DejaVu Sans Mono',consolas,'Courier New',monospace\">Num timesteps: 33000\n",
       "</pre>\n"
      ],
      "text/plain": [
       "Num timesteps: 33000\n"
      ]
     },
     "metadata": {},
     "output_type": "display_data"
    },
    {
     "data": {
      "text/html": [
       "<pre style=\"white-space:pre;overflow-x:auto;line-height:normal;font-family:Menlo,'DejaVu Sans Mono',consolas,'Courier New',monospace\">Best mean reward: 228.17 - Last mean reward per episode: 226.08\n",
       "</pre>\n"
      ],
      "text/plain": [
       "Best mean reward: 228.17 - Last mean reward per episode: 226.08\n"
      ]
     },
     "metadata": {},
     "output_type": "display_data"
    },
    {
     "data": {
      "text/html": [
       "<pre style=\"white-space:pre;overflow-x:auto;line-height:normal;font-family:Menlo,'DejaVu Sans Mono',consolas,'Courier New',monospace\">Num timesteps: 34000\n",
       "</pre>\n"
      ],
      "text/plain": [
       "Num timesteps: 34000\n"
      ]
     },
     "metadata": {},
     "output_type": "display_data"
    },
    {
     "data": {
      "text/html": [
       "<pre style=\"white-space:pre;overflow-x:auto;line-height:normal;font-family:Menlo,'DejaVu Sans Mono',consolas,'Courier New',monospace\">Best mean reward: 228.17 - Last mean reward per episode: 226.34\n",
       "</pre>\n"
      ],
      "text/plain": [
       "Best mean reward: 228.17 - Last mean reward per episode: 226.34\n"
      ]
     },
     "metadata": {},
     "output_type": "display_data"
    },
    {
     "data": {
      "text/html": [
       "<pre style=\"white-space:pre;overflow-x:auto;line-height:normal;font-family:Menlo,'DejaVu Sans Mono',consolas,'Courier New',monospace\">Num timesteps: 35000\n",
       "</pre>\n"
      ],
      "text/plain": [
       "Num timesteps: 35000\n"
      ]
     },
     "metadata": {},
     "output_type": "display_data"
    },
    {
     "data": {
      "text/html": [
       "<pre style=\"white-space:pre;overflow-x:auto;line-height:normal;font-family:Menlo,'DejaVu Sans Mono',consolas,'Courier New',monospace\">Best mean reward: 228.17 - Last mean reward per episode: 226.33\n",
       "</pre>\n"
      ],
      "text/plain": [
       "Best mean reward: 228.17 - Last mean reward per episode: 226.33\n"
      ]
     },
     "metadata": {},
     "output_type": "display_data"
    },
    {
     "data": {
      "text/html": [
       "<pre style=\"white-space:pre;overflow-x:auto;line-height:normal;font-family:Menlo,'DejaVu Sans Mono',consolas,'Courier New',monospace\">Num timesteps: 36000\n",
       "</pre>\n"
      ],
      "text/plain": [
       "Num timesteps: 36000\n"
      ]
     },
     "metadata": {},
     "output_type": "display_data"
    },
    {
     "data": {
      "text/html": [
       "<pre style=\"white-space:pre;overflow-x:auto;line-height:normal;font-family:Menlo,'DejaVu Sans Mono',consolas,'Courier New',monospace\">Best mean reward: 228.17 - Last mean reward per episode: 226.59\n",
       "</pre>\n"
      ],
      "text/plain": [
       "Best mean reward: 228.17 - Last mean reward per episode: 226.59\n"
      ]
     },
     "metadata": {},
     "output_type": "display_data"
    },
    {
     "data": {
      "text/html": [
       "<pre style=\"white-space:pre;overflow-x:auto;line-height:normal;font-family:Menlo,'DejaVu Sans Mono',consolas,'Courier New',monospace\">Num timesteps: 37000\n",
       "</pre>\n"
      ],
      "text/plain": [
       "Num timesteps: 37000\n"
      ]
     },
     "metadata": {},
     "output_type": "display_data"
    },
    {
     "data": {
      "text/html": [
       "<pre style=\"white-space:pre;overflow-x:auto;line-height:normal;font-family:Menlo,'DejaVu Sans Mono',consolas,'Courier New',monospace\">Best mean reward: 228.17 - Last mean reward per episode: 227.09\n",
       "</pre>\n"
      ],
      "text/plain": [
       "Best mean reward: 228.17 - Last mean reward per episode: 227.09\n"
      ]
     },
     "metadata": {},
     "output_type": "display_data"
    },
    {
     "data": {
      "text/html": [
       "<pre style=\"white-space:pre;overflow-x:auto;line-height:normal;font-family:Menlo,'DejaVu Sans Mono',consolas,'Courier New',monospace\">Num timesteps: 38000\n",
       "</pre>\n"
      ],
      "text/plain": [
       "Num timesteps: 38000\n"
      ]
     },
     "metadata": {},
     "output_type": "display_data"
    },
    {
     "data": {
      "text/html": [
       "<pre style=\"white-space:pre;overflow-x:auto;line-height:normal;font-family:Menlo,'DejaVu Sans Mono',consolas,'Courier New',monospace\">Best mean reward: 228.17 - Last mean reward per episode: 227.33\n",
       "</pre>\n"
      ],
      "text/plain": [
       "Best mean reward: 228.17 - Last mean reward per episode: 227.33\n"
      ]
     },
     "metadata": {},
     "output_type": "display_data"
    },
    {
     "data": {
      "text/html": [
       "<pre style=\"white-space:pre;overflow-x:auto;line-height:normal;font-family:Menlo,'DejaVu Sans Mono',consolas,'Courier New',monospace\">Num timesteps: 39000\n",
       "</pre>\n"
      ],
      "text/plain": [
       "Num timesteps: 39000\n"
      ]
     },
     "metadata": {},
     "output_type": "display_data"
    },
    {
     "data": {
      "text/html": [
       "<pre style=\"white-space:pre;overflow-x:auto;line-height:normal;font-family:Menlo,'DejaVu Sans Mono',consolas,'Courier New',monospace\">Best mean reward: 228.17 - Last mean reward per episode: 227.69\n",
       "</pre>\n"
      ],
      "text/plain": [
       "Best mean reward: 228.17 - Last mean reward per episode: 227.69\n"
      ]
     },
     "metadata": {},
     "output_type": "display_data"
    },
    {
     "data": {
      "text/html": [
       "<pre style=\"white-space:pre;overflow-x:auto;line-height:normal;font-family:Menlo,'DejaVu Sans Mono',consolas,'Courier New',monospace\">Num timesteps: 40000\n",
       "</pre>\n"
      ],
      "text/plain": [
       "Num timesteps: 40000\n"
      ]
     },
     "metadata": {},
     "output_type": "display_data"
    },
    {
     "data": {
      "text/html": [
       "<pre style=\"white-space:pre;overflow-x:auto;line-height:normal;font-family:Menlo,'DejaVu Sans Mono',consolas,'Courier New',monospace\">Best mean reward: 228.17 - Last mean reward per episode: 226.66\n",
       "</pre>\n"
      ],
      "text/plain": [
       "Best mean reward: 228.17 - Last mean reward per episode: 226.66\n"
      ]
     },
     "metadata": {},
     "output_type": "display_data"
    },
    {
     "name": "stdout",
     "output_type": "stream",
     "text": [
      "-----------------------------------------\n",
      "| rollout/                |             |\n",
      "|    ep_len_mean          | 500         |\n",
      "|    ep_rew_mean          | 227         |\n",
      "| time/                   |             |\n",
      "|    fps                  | 78          |\n",
      "|    iterations           | 20          |\n",
      "|    time_elapsed         | 520         |\n",
      "|    total_timesteps      | 40960       |\n",
      "| train/                  |             |\n",
      "|    approx_kl            | 0.008254632 |\n",
      "|    clip_fraction        | 0.0898      |\n",
      "|    clip_range           | 0.2         |\n",
      "|    entropy_loss         | -17         |\n",
      "|    explained_variance   | 0.302       |\n",
      "|    learning_rate        | 0.0003      |\n",
      "|    loss                 | 0.668       |\n",
      "|    n_updates            | 190         |\n",
      "|    policy_gradient_loss | -0.0101     |\n",
      "|    std                  | 1           |\n",
      "|    value_loss           | 6.77        |\n",
      "-----------------------------------------\n"
     ]
    },
    {
     "data": {
      "text/html": [
       "<pre style=\"white-space:pre;overflow-x:auto;line-height:normal;font-family:Menlo,'DejaVu Sans Mono',consolas,'Courier New',monospace\">Num timesteps: 41000\n",
       "</pre>\n"
      ],
      "text/plain": [
       "Num timesteps: 41000\n"
      ]
     },
     "metadata": {},
     "output_type": "display_data"
    },
    {
     "data": {
      "text/html": [
       "<pre style=\"white-space:pre;overflow-x:auto;line-height:normal;font-family:Menlo,'DejaVu Sans Mono',consolas,'Courier New',monospace\">Best mean reward: 228.17 - Last mean reward per episode: 227.19\n",
       "</pre>\n"
      ],
      "text/plain": [
       "Best mean reward: 228.17 - Last mean reward per episode: 227.19\n"
      ]
     },
     "metadata": {},
     "output_type": "display_data"
    },
    {
     "data": {
      "text/html": [
       "<pre style=\"white-space:pre;overflow-x:auto;line-height:normal;font-family:Menlo,'DejaVu Sans Mono',consolas,'Courier New',monospace\">Num timesteps: 42000\n",
       "</pre>\n"
      ],
      "text/plain": [
       "Num timesteps: 42000\n"
      ]
     },
     "metadata": {},
     "output_type": "display_data"
    },
    {
     "data": {
      "text/html": [
       "<pre style=\"white-space:pre;overflow-x:auto;line-height:normal;font-family:Menlo,'DejaVu Sans Mono',consolas,'Courier New',monospace\">Best mean reward: 228.17 - Last mean reward per episode: 227.31\n",
       "</pre>\n"
      ],
      "text/plain": [
       "Best mean reward: 228.17 - Last mean reward per episode: 227.31\n"
      ]
     },
     "metadata": {},
     "output_type": "display_data"
    },
    {
     "data": {
      "text/html": [
       "<pre style=\"white-space:pre;overflow-x:auto;line-height:normal;font-family:Menlo,'DejaVu Sans Mono',consolas,'Courier New',monospace\">Num timesteps: 43000\n",
       "</pre>\n"
      ],
      "text/plain": [
       "Num timesteps: 43000\n"
      ]
     },
     "metadata": {},
     "output_type": "display_data"
    },
    {
     "data": {
      "text/html": [
       "<pre style=\"white-space:pre;overflow-x:auto;line-height:normal;font-family:Menlo,'DejaVu Sans Mono',consolas,'Courier New',monospace\">Best mean reward: 228.17 - Last mean reward per episode: 227.69\n",
       "</pre>\n"
      ],
      "text/plain": [
       "Best mean reward: 228.17 - Last mean reward per episode: 227.69\n"
      ]
     },
     "metadata": {},
     "output_type": "display_data"
    },
    {
     "data": {
      "text/html": [
       "<pre style=\"white-space:pre;overflow-x:auto;line-height:normal;font-family:Menlo,'DejaVu Sans Mono',consolas,'Courier New',monospace\">Num timesteps: 44000\n",
       "</pre>\n"
      ],
      "text/plain": [
       "Num timesteps: 44000\n"
      ]
     },
     "metadata": {},
     "output_type": "display_data"
    },
    {
     "data": {
      "text/html": [
       "<pre style=\"white-space:pre;overflow-x:auto;line-height:normal;font-family:Menlo,'DejaVu Sans Mono',consolas,'Courier New',monospace\">Best mean reward: 228.17 - Last mean reward per episode: 228.03\n",
       "</pre>\n"
      ],
      "text/plain": [
       "Best mean reward: 228.17 - Last mean reward per episode: 228.03\n"
      ]
     },
     "metadata": {},
     "output_type": "display_data"
    },
    {
     "data": {
      "text/html": [
       "<pre style=\"white-space:pre;overflow-x:auto;line-height:normal;font-family:Menlo,'DejaVu Sans Mono',consolas,'Courier New',monospace\">Num timesteps: 45000\n",
       "</pre>\n"
      ],
      "text/plain": [
       "Num timesteps: 45000\n"
      ]
     },
     "metadata": {},
     "output_type": "display_data"
    },
    {
     "data": {
      "text/html": [
       "<pre style=\"white-space:pre;overflow-x:auto;line-height:normal;font-family:Menlo,'DejaVu Sans Mono',consolas,'Courier New',monospace\">Best mean reward: 228.17 - Last mean reward per episode: 228.57\n",
       "</pre>\n"
      ],
      "text/plain": [
       "Best mean reward: 228.17 - Last mean reward per episode: 228.57\n"
      ]
     },
     "metadata": {},
     "output_type": "display_data"
    },
    {
     "data": {
      "text/html": [
       "<pre style=\"white-space:pre;overflow-x:auto;line-height:normal;font-family:Menlo,'DejaVu Sans Mono',consolas,'Courier New',monospace\">Saving new best model to tmp/gym/twoarm_ppo/best_model.zip\n",
       "</pre>\n"
      ],
      "text/plain": [
       "Saving new best model to tmp/gym/twoarm_ppo/best_model.zip\n"
      ]
     },
     "metadata": {},
     "output_type": "display_data"
    },
    {
     "data": {
      "text/html": [
       "<pre style=\"white-space:pre;overflow-x:auto;line-height:normal;font-family:Menlo,'DejaVu Sans Mono',consolas,'Courier New',monospace\">Num timesteps: 46000\n",
       "</pre>\n"
      ],
      "text/plain": [
       "Num timesteps: 46000\n"
      ]
     },
     "metadata": {},
     "output_type": "display_data"
    },
    {
     "data": {
      "text/html": [
       "<pre style=\"white-space:pre;overflow-x:auto;line-height:normal;font-family:Menlo,'DejaVu Sans Mono',consolas,'Courier New',monospace\">Best mean reward: 228.57 - Last mean reward per episode: 228.78\n",
       "</pre>\n"
      ],
      "text/plain": [
       "Best mean reward: 228.57 - Last mean reward per episode: 228.78\n"
      ]
     },
     "metadata": {},
     "output_type": "display_data"
    },
    {
     "data": {
      "text/html": [
       "<pre style=\"white-space:pre;overflow-x:auto;line-height:normal;font-family:Menlo,'DejaVu Sans Mono',consolas,'Courier New',monospace\">Saving new best model to tmp/gym/twoarm_ppo/best_model.zip\n",
       "</pre>\n"
      ],
      "text/plain": [
       "Saving new best model to tmp/gym/twoarm_ppo/best_model.zip\n"
      ]
     },
     "metadata": {},
     "output_type": "display_data"
    },
    {
     "data": {
      "text/html": [
       "<pre style=\"white-space:pre;overflow-x:auto;line-height:normal;font-family:Menlo,'DejaVu Sans Mono',consolas,'Courier New',monospace\">Num timesteps: 47000\n",
       "</pre>\n"
      ],
      "text/plain": [
       "Num timesteps: 47000\n"
      ]
     },
     "metadata": {},
     "output_type": "display_data"
    },
    {
     "data": {
      "text/html": [
       "<pre style=\"white-space:pre;overflow-x:auto;line-height:normal;font-family:Menlo,'DejaVu Sans Mono',consolas,'Courier New',monospace\">Best mean reward: 228.78 - Last mean reward per episode: 228.19\n",
       "</pre>\n"
      ],
      "text/plain": [
       "Best mean reward: 228.78 - Last mean reward per episode: 228.19\n"
      ]
     },
     "metadata": {},
     "output_type": "display_data"
    },
    {
     "data": {
      "text/html": [
       "<pre style=\"white-space:pre;overflow-x:auto;line-height:normal;font-family:Menlo,'DejaVu Sans Mono',consolas,'Courier New',monospace\">Num timesteps: 48000\n",
       "</pre>\n"
      ],
      "text/plain": [
       "Num timesteps: 48000\n"
      ]
     },
     "metadata": {},
     "output_type": "display_data"
    },
    {
     "data": {
      "text/html": [
       "<pre style=\"white-space:pre;overflow-x:auto;line-height:normal;font-family:Menlo,'DejaVu Sans Mono',consolas,'Courier New',monospace\">Best mean reward: 228.78 - Last mean reward per episode: 227.97\n",
       "</pre>\n"
      ],
      "text/plain": [
       "Best mean reward: 228.78 - Last mean reward per episode: 227.97\n"
      ]
     },
     "metadata": {},
     "output_type": "display_data"
    },
    {
     "data": {
      "text/html": [
       "<pre style=\"white-space:pre;overflow-x:auto;line-height:normal;font-family:Menlo,'DejaVu Sans Mono',consolas,'Courier New',monospace\">Num timesteps: 49000\n",
       "</pre>\n"
      ],
      "text/plain": [
       "Num timesteps: 49000\n"
      ]
     },
     "metadata": {},
     "output_type": "display_data"
    },
    {
     "data": {
      "text/html": [
       "<pre style=\"white-space:pre;overflow-x:auto;line-height:normal;font-family:Menlo,'DejaVu Sans Mono',consolas,'Courier New',monospace\">Best mean reward: 228.78 - Last mean reward per episode: 227.19\n",
       "</pre>\n"
      ],
      "text/plain": [
       "Best mean reward: 228.78 - Last mean reward per episode: 227.19\n"
      ]
     },
     "metadata": {},
     "output_type": "display_data"
    },
    {
     "data": {
      "text/html": [
       "<pre style=\"white-space:pre;overflow-x:auto;line-height:normal;font-family:Menlo,'DejaVu Sans Mono',consolas,'Courier New',monospace\">Num timesteps: 50000\n",
       "</pre>\n"
      ],
      "text/plain": [
       "Num timesteps: 50000\n"
      ]
     },
     "metadata": {},
     "output_type": "display_data"
    },
    {
     "data": {
      "text/html": [
       "<pre style=\"white-space:pre;overflow-x:auto;line-height:normal;font-family:Menlo,'DejaVu Sans Mono',consolas,'Courier New',monospace\">Best mean reward: 228.78 - Last mean reward per episode: 226.49\n",
       "</pre>\n"
      ],
      "text/plain": [
       "Best mean reward: 228.78 - Last mean reward per episode: 226.49\n"
      ]
     },
     "metadata": {},
     "output_type": "display_data"
    },
    {
     "data": {
      "text/html": [
       "<pre style=\"white-space:pre;overflow-x:auto;line-height:normal;font-family:Menlo,'DejaVu Sans Mono',consolas,'Courier New',monospace\">Num timesteps: 51000\n",
       "</pre>\n"
      ],
      "text/plain": [
       "Num timesteps: 51000\n"
      ]
     },
     "metadata": {},
     "output_type": "display_data"
    },
    {
     "data": {
      "text/html": [
       "<pre style=\"white-space:pre;overflow-x:auto;line-height:normal;font-family:Menlo,'DejaVu Sans Mono',consolas,'Courier New',monospace\">Best mean reward: 228.78 - Last mean reward per episode: 226.28\n",
       "</pre>\n"
      ],
      "text/plain": [
       "Best mean reward: 228.78 - Last mean reward per episode: 226.28\n"
      ]
     },
     "metadata": {},
     "output_type": "display_data"
    },
    {
     "data": {
      "text/html": [
       "<pre style=\"white-space:pre;overflow-x:auto;line-height:normal;font-family:Menlo,'DejaVu Sans Mono',consolas,'Courier New',monospace\">Num timesteps: 52000\n",
       "</pre>\n"
      ],
      "text/plain": [
       "Num timesteps: 52000\n"
      ]
     },
     "metadata": {},
     "output_type": "display_data"
    },
    {
     "data": {
      "text/html": [
       "<pre style=\"white-space:pre;overflow-x:auto;line-height:normal;font-family:Menlo,'DejaVu Sans Mono',consolas,'Courier New',monospace\">Best mean reward: 228.78 - Last mean reward per episode: 226.63\n",
       "</pre>\n"
      ],
      "text/plain": [
       "Best mean reward: 228.78 - Last mean reward per episode: 226.63\n"
      ]
     },
     "metadata": {},
     "output_type": "display_data"
    },
    {
     "data": {
      "text/html": [
       "<pre style=\"white-space:pre;overflow-x:auto;line-height:normal;font-family:Menlo,'DejaVu Sans Mono',consolas,'Courier New',monospace\">Num timesteps: 53000\n",
       "</pre>\n"
      ],
      "text/plain": [
       "Num timesteps: 53000\n"
      ]
     },
     "metadata": {},
     "output_type": "display_data"
    },
    {
     "data": {
      "text/html": [
       "<pre style=\"white-space:pre;overflow-x:auto;line-height:normal;font-family:Menlo,'DejaVu Sans Mono',consolas,'Courier New',monospace\">Best mean reward: 228.78 - Last mean reward per episode: 227.46\n",
       "</pre>\n"
      ],
      "text/plain": [
       "Best mean reward: 228.78 - Last mean reward per episode: 227.46\n"
      ]
     },
     "metadata": {},
     "output_type": "display_data"
    },
    {
     "data": {
      "text/html": [
       "<pre style=\"white-space:pre;overflow-x:auto;line-height:normal;font-family:Menlo,'DejaVu Sans Mono',consolas,'Courier New',monospace\">Num timesteps: 54000\n",
       "</pre>\n"
      ],
      "text/plain": [
       "Num timesteps: 54000\n"
      ]
     },
     "metadata": {},
     "output_type": "display_data"
    },
    {
     "data": {
      "text/html": [
       "<pre style=\"white-space:pre;overflow-x:auto;line-height:normal;font-family:Menlo,'DejaVu Sans Mono',consolas,'Courier New',monospace\">Best mean reward: 228.78 - Last mean reward per episode: 227.05\n",
       "</pre>\n"
      ],
      "text/plain": [
       "Best mean reward: 228.78 - Last mean reward per episode: 227.05\n"
      ]
     },
     "metadata": {},
     "output_type": "display_data"
    },
    {
     "data": {
      "text/html": [
       "<pre style=\"white-space:pre;overflow-x:auto;line-height:normal;font-family:Menlo,'DejaVu Sans Mono',consolas,'Courier New',monospace\">Num timesteps: 55000\n",
       "</pre>\n"
      ],
      "text/plain": [
       "Num timesteps: 55000\n"
      ]
     },
     "metadata": {},
     "output_type": "display_data"
    },
    {
     "data": {
      "text/html": [
       "<pre style=\"white-space:pre;overflow-x:auto;line-height:normal;font-family:Menlo,'DejaVu Sans Mono',consolas,'Courier New',monospace\">Best mean reward: 228.78 - Last mean reward per episode: 226.93\n",
       "</pre>\n"
      ],
      "text/plain": [
       "Best mean reward: 228.78 - Last mean reward per episode: 226.93\n"
      ]
     },
     "metadata": {},
     "output_type": "display_data"
    },
    {
     "data": {
      "text/html": [
       "<pre style=\"white-space:pre;overflow-x:auto;line-height:normal;font-family:Menlo,'DejaVu Sans Mono',consolas,'Courier New',monospace\">Num timesteps: 56000\n",
       "</pre>\n"
      ],
      "text/plain": [
       "Num timesteps: 56000\n"
      ]
     },
     "metadata": {},
     "output_type": "display_data"
    },
    {
     "data": {
      "text/html": [
       "<pre style=\"white-space:pre;overflow-x:auto;line-height:normal;font-family:Menlo,'DejaVu Sans Mono',consolas,'Courier New',monospace\">Best mean reward: 228.78 - Last mean reward per episode: 227.40\n",
       "</pre>\n"
      ],
      "text/plain": [
       "Best mean reward: 228.78 - Last mean reward per episode: 227.40\n"
      ]
     },
     "metadata": {},
     "output_type": "display_data"
    },
    {
     "data": {
      "text/html": [
       "<pre style=\"white-space:pre;overflow-x:auto;line-height:normal;font-family:Menlo,'DejaVu Sans Mono',consolas,'Courier New',monospace\">Num timesteps: 57000\n",
       "</pre>\n"
      ],
      "text/plain": [
       "Num timesteps: 57000\n"
      ]
     },
     "metadata": {},
     "output_type": "display_data"
    },
    {
     "data": {
      "text/html": [
       "<pre style=\"white-space:pre;overflow-x:auto;line-height:normal;font-family:Menlo,'DejaVu Sans Mono',consolas,'Courier New',monospace\">Best mean reward: 228.78 - Last mean reward per episode: 227.86\n",
       "</pre>\n"
      ],
      "text/plain": [
       "Best mean reward: 228.78 - Last mean reward per episode: 227.86\n"
      ]
     },
     "metadata": {},
     "output_type": "display_data"
    },
    {
     "data": {
      "text/html": [
       "<pre style=\"white-space:pre;overflow-x:auto;line-height:normal;font-family:Menlo,'DejaVu Sans Mono',consolas,'Courier New',monospace\">Num timesteps: 58000\n",
       "</pre>\n"
      ],
      "text/plain": [
       "Num timesteps: 58000\n"
      ]
     },
     "metadata": {},
     "output_type": "display_data"
    },
    {
     "data": {
      "text/html": [
       "<pre style=\"white-space:pre;overflow-x:auto;line-height:normal;font-family:Menlo,'DejaVu Sans Mono',consolas,'Courier New',monospace\">Best mean reward: 228.78 - Last mean reward per episode: 226.92\n",
       "</pre>\n"
      ],
      "text/plain": [
       "Best mean reward: 228.78 - Last mean reward per episode: 226.92\n"
      ]
     },
     "metadata": {},
     "output_type": "display_data"
    },
    {
     "data": {
      "text/html": [
       "<pre style=\"white-space:pre;overflow-x:auto;line-height:normal;font-family:Menlo,'DejaVu Sans Mono',consolas,'Courier New',monospace\">Num timesteps: 59000\n",
       "</pre>\n"
      ],
      "text/plain": [
       "Num timesteps: 59000\n"
      ]
     },
     "metadata": {},
     "output_type": "display_data"
    },
    {
     "data": {
      "text/html": [
       "<pre style=\"white-space:pre;overflow-x:auto;line-height:normal;font-family:Menlo,'DejaVu Sans Mono',consolas,'Courier New',monospace\">Best mean reward: 228.78 - Last mean reward per episode: 226.69\n",
       "</pre>\n"
      ],
      "text/plain": [
       "Best mean reward: 228.78 - Last mean reward per episode: 226.69\n"
      ]
     },
     "metadata": {},
     "output_type": "display_data"
    },
    {
     "data": {
      "text/html": [
       "<pre style=\"white-space:pre;overflow-x:auto;line-height:normal;font-family:Menlo,'DejaVu Sans Mono',consolas,'Courier New',monospace\">Num timesteps: 60000\n",
       "</pre>\n"
      ],
      "text/plain": [
       "Num timesteps: 60000\n"
      ]
     },
     "metadata": {},
     "output_type": "display_data"
    },
    {
     "data": {
      "text/html": [
       "<pre style=\"white-space:pre;overflow-x:auto;line-height:normal;font-family:Menlo,'DejaVu Sans Mono',consolas,'Courier New',monospace\">Best mean reward: 228.78 - Last mean reward per episode: 227.31\n",
       "</pre>\n"
      ],
      "text/plain": [
       "Best mean reward: 228.78 - Last mean reward per episode: 227.31\n"
      ]
     },
     "metadata": {},
     "output_type": "display_data"
    },
    {
     "data": {
      "text/html": [
       "<pre style=\"white-space:pre;overflow-x:auto;line-height:normal;font-family:Menlo,'DejaVu Sans Mono',consolas,'Courier New',monospace\">Num timesteps: 61000\n",
       "</pre>\n"
      ],
      "text/plain": [
       "Num timesteps: 61000\n"
      ]
     },
     "metadata": {},
     "output_type": "display_data"
    },
    {
     "data": {
      "text/html": [
       "<pre style=\"white-space:pre;overflow-x:auto;line-height:normal;font-family:Menlo,'DejaVu Sans Mono',consolas,'Courier New',monospace\">Best mean reward: 228.78 - Last mean reward per episode: 226.37\n",
       "</pre>\n"
      ],
      "text/plain": [
       "Best mean reward: 228.78 - Last mean reward per episode: 226.37\n"
      ]
     },
     "metadata": {},
     "output_type": "display_data"
    },
    {
     "name": "stdout",
     "output_type": "stream",
     "text": [
      "-----------------------------------------\n",
      "| rollout/                |             |\n",
      "|    ep_len_mean          | 500         |\n",
      "|    ep_rew_mean          | 226         |\n",
      "| time/                   |             |\n",
      "|    fps                  | 79          |\n",
      "|    iterations           | 30          |\n",
      "|    time_elapsed         | 777         |\n",
      "|    total_timesteps      | 61440       |\n",
      "| train/                  |             |\n",
      "|    approx_kl            | 0.012809235 |\n",
      "|    clip_fraction        | 0.126       |\n",
      "|    clip_range           | 0.2         |\n",
      "|    entropy_loss         | -17         |\n",
      "|    explained_variance   | 0.658       |\n",
      "|    learning_rate        | 0.0003      |\n",
      "|    loss                 | 0.369       |\n",
      "|    n_updates            | 290         |\n",
      "|    policy_gradient_loss | -0.0112     |\n",
      "|    std                  | 1           |\n",
      "|    value_loss           | 6.47        |\n",
      "-----------------------------------------\n"
     ]
    },
    {
     "data": {
      "text/html": [
       "<pre style=\"white-space:pre;overflow-x:auto;line-height:normal;font-family:Menlo,'DejaVu Sans Mono',consolas,'Courier New',monospace\">Num timesteps: 62000\n",
       "</pre>\n"
      ],
      "text/plain": [
       "Num timesteps: 62000\n"
      ]
     },
     "metadata": {},
     "output_type": "display_data"
    },
    {
     "data": {
      "text/html": [
       "<pre style=\"white-space:pre;overflow-x:auto;line-height:normal;font-family:Menlo,'DejaVu Sans Mono',consolas,'Courier New',monospace\">Best mean reward: 228.78 - Last mean reward per episode: 226.45\n",
       "</pre>\n"
      ],
      "text/plain": [
       "Best mean reward: 228.78 - Last mean reward per episode: 226.45\n"
      ]
     },
     "metadata": {},
     "output_type": "display_data"
    },
    {
     "data": {
      "text/html": [
       "<pre style=\"white-space:pre;overflow-x:auto;line-height:normal;font-family:Menlo,'DejaVu Sans Mono',consolas,'Courier New',monospace\">Num timesteps: 63000\n",
       "</pre>\n"
      ],
      "text/plain": [
       "Num timesteps: 63000\n"
      ]
     },
     "metadata": {},
     "output_type": "display_data"
    },
    {
     "data": {
      "text/html": [
       "<pre style=\"white-space:pre;overflow-x:auto;line-height:normal;font-family:Menlo,'DejaVu Sans Mono',consolas,'Courier New',monospace\">Best mean reward: 228.78 - Last mean reward per episode: 226.67\n",
       "</pre>\n"
      ],
      "text/plain": [
       "Best mean reward: 228.78 - Last mean reward per episode: 226.67\n"
      ]
     },
     "metadata": {},
     "output_type": "display_data"
    },
    {
     "data": {
      "text/html": [
       "<pre style=\"white-space:pre;overflow-x:auto;line-height:normal;font-family:Menlo,'DejaVu Sans Mono',consolas,'Courier New',monospace\">Num timesteps: 64000\n",
       "</pre>\n"
      ],
      "text/plain": [
       "Num timesteps: 64000\n"
      ]
     },
     "metadata": {},
     "output_type": "display_data"
    },
    {
     "data": {
      "text/html": [
       "<pre style=\"white-space:pre;overflow-x:auto;line-height:normal;font-family:Menlo,'DejaVu Sans Mono',consolas,'Courier New',monospace\">Best mean reward: 228.78 - Last mean reward per episode: 226.82\n",
       "</pre>\n"
      ],
      "text/plain": [
       "Best mean reward: 228.78 - Last mean reward per episode: 226.82\n"
      ]
     },
     "metadata": {},
     "output_type": "display_data"
    },
    {
     "data": {
      "text/html": [
       "<pre style=\"white-space:pre;overflow-x:auto;line-height:normal;font-family:Menlo,'DejaVu Sans Mono',consolas,'Courier New',monospace\">Num timesteps: 65000\n",
       "</pre>\n"
      ],
      "text/plain": [
       "Num timesteps: 65000\n"
      ]
     },
     "metadata": {},
     "output_type": "display_data"
    },
    {
     "data": {
      "text/html": [
       "<pre style=\"white-space:pre;overflow-x:auto;line-height:normal;font-family:Menlo,'DejaVu Sans Mono',consolas,'Courier New',monospace\">Best mean reward: 228.78 - Last mean reward per episode: 226.77\n",
       "</pre>\n"
      ],
      "text/plain": [
       "Best mean reward: 228.78 - Last mean reward per episode: 226.77\n"
      ]
     },
     "metadata": {},
     "output_type": "display_data"
    },
    {
     "data": {
      "text/html": [
       "<pre style=\"white-space:pre;overflow-x:auto;line-height:normal;font-family:Menlo,'DejaVu Sans Mono',consolas,'Courier New',monospace\">Num timesteps: 66000\n",
       "</pre>\n"
      ],
      "text/plain": [
       "Num timesteps: 66000\n"
      ]
     },
     "metadata": {},
     "output_type": "display_data"
    },
    {
     "data": {
      "text/html": [
       "<pre style=\"white-space:pre;overflow-x:auto;line-height:normal;font-family:Menlo,'DejaVu Sans Mono',consolas,'Courier New',monospace\">Best mean reward: 228.78 - Last mean reward per episode: 226.68\n",
       "</pre>\n"
      ],
      "text/plain": [
       "Best mean reward: 228.78 - Last mean reward per episode: 226.68\n"
      ]
     },
     "metadata": {},
     "output_type": "display_data"
    },
    {
     "data": {
      "text/html": [
       "<pre style=\"white-space:pre;overflow-x:auto;line-height:normal;font-family:Menlo,'DejaVu Sans Mono',consolas,'Courier New',monospace\">Num timesteps: 67000\n",
       "</pre>\n"
      ],
      "text/plain": [
       "Num timesteps: 67000\n"
      ]
     },
     "metadata": {},
     "output_type": "display_data"
    },
    {
     "data": {
      "text/html": [
       "<pre style=\"white-space:pre;overflow-x:auto;line-height:normal;font-family:Menlo,'DejaVu Sans Mono',consolas,'Courier New',monospace\">Best mean reward: 228.78 - Last mean reward per episode: 226.08\n",
       "</pre>\n"
      ],
      "text/plain": [
       "Best mean reward: 228.78 - Last mean reward per episode: 226.08\n"
      ]
     },
     "metadata": {},
     "output_type": "display_data"
    },
    {
     "data": {
      "text/html": [
       "<pre style=\"white-space:pre;overflow-x:auto;line-height:normal;font-family:Menlo,'DejaVu Sans Mono',consolas,'Courier New',monospace\">Num timesteps: 68000\n",
       "</pre>\n"
      ],
      "text/plain": [
       "Num timesteps: 68000\n"
      ]
     },
     "metadata": {},
     "output_type": "display_data"
    },
    {
     "data": {
      "text/html": [
       "<pre style=\"white-space:pre;overflow-x:auto;line-height:normal;font-family:Menlo,'DejaVu Sans Mono',consolas,'Courier New',monospace\">Best mean reward: 228.78 - Last mean reward per episode: 226.16\n",
       "</pre>\n"
      ],
      "text/plain": [
       "Best mean reward: 228.78 - Last mean reward per episode: 226.16\n"
      ]
     },
     "metadata": {},
     "output_type": "display_data"
    },
    {
     "data": {
      "text/html": [
       "<pre style=\"white-space:pre;overflow-x:auto;line-height:normal;font-family:Menlo,'DejaVu Sans Mono',consolas,'Courier New',monospace\">Num timesteps: 69000\n",
       "</pre>\n"
      ],
      "text/plain": [
       "Num timesteps: 69000\n"
      ]
     },
     "metadata": {},
     "output_type": "display_data"
    },
    {
     "data": {
      "text/html": [
       "<pre style=\"white-space:pre;overflow-x:auto;line-height:normal;font-family:Menlo,'DejaVu Sans Mono',consolas,'Courier New',monospace\">Best mean reward: 228.78 - Last mean reward per episode: 226.46\n",
       "</pre>\n"
      ],
      "text/plain": [
       "Best mean reward: 228.78 - Last mean reward per episode: 226.46\n"
      ]
     },
     "metadata": {},
     "output_type": "display_data"
    },
    {
     "data": {
      "text/html": [
       "<pre style=\"white-space:pre;overflow-x:auto;line-height:normal;font-family:Menlo,'DejaVu Sans Mono',consolas,'Courier New',monospace\">Num timesteps: 70000\n",
       "</pre>\n"
      ],
      "text/plain": [
       "Num timesteps: 70000\n"
      ]
     },
     "metadata": {},
     "output_type": "display_data"
    },
    {
     "data": {
      "text/html": [
       "<pre style=\"white-space:pre;overflow-x:auto;line-height:normal;font-family:Menlo,'DejaVu Sans Mono',consolas,'Courier New',monospace\">Best mean reward: 228.78 - Last mean reward per episode: 227.34\n",
       "</pre>\n"
      ],
      "text/plain": [
       "Best mean reward: 228.78 - Last mean reward per episode: 227.34\n"
      ]
     },
     "metadata": {},
     "output_type": "display_data"
    },
    {
     "data": {
      "text/html": [
       "<pre style=\"white-space:pre;overflow-x:auto;line-height:normal;font-family:Menlo,'DejaVu Sans Mono',consolas,'Courier New',monospace\">Num timesteps: 71000\n",
       "</pre>\n"
      ],
      "text/plain": [
       "Num timesteps: 71000\n"
      ]
     },
     "metadata": {},
     "output_type": "display_data"
    },
    {
     "data": {
      "text/html": [
       "<pre style=\"white-space:pre;overflow-x:auto;line-height:normal;font-family:Menlo,'DejaVu Sans Mono',consolas,'Courier New',monospace\">Best mean reward: 228.78 - Last mean reward per episode: 227.94\n",
       "</pre>\n"
      ],
      "text/plain": [
       "Best mean reward: 228.78 - Last mean reward per episode: 227.94\n"
      ]
     },
     "metadata": {},
     "output_type": "display_data"
    },
    {
     "data": {
      "text/html": [
       "<pre style=\"white-space:pre;overflow-x:auto;line-height:normal;font-family:Menlo,'DejaVu Sans Mono',consolas,'Courier New',monospace\">Num timesteps: 72000\n",
       "</pre>\n"
      ],
      "text/plain": [
       "Num timesteps: 72000\n"
      ]
     },
     "metadata": {},
     "output_type": "display_data"
    },
    {
     "data": {
      "text/html": [
       "<pre style=\"white-space:pre;overflow-x:auto;line-height:normal;font-family:Menlo,'DejaVu Sans Mono',consolas,'Courier New',monospace\">Best mean reward: 228.78 - Last mean reward per episode: 228.74\n",
       "</pre>\n"
      ],
      "text/plain": [
       "Best mean reward: 228.78 - Last mean reward per episode: 228.74\n"
      ]
     },
     "metadata": {},
     "output_type": "display_data"
    },
    {
     "data": {
      "text/html": [
       "<pre style=\"white-space:pre;overflow-x:auto;line-height:normal;font-family:Menlo,'DejaVu Sans Mono',consolas,'Courier New',monospace\">Num timesteps: 73000\n",
       "</pre>\n"
      ],
      "text/plain": [
       "Num timesteps: 73000\n"
      ]
     },
     "metadata": {},
     "output_type": "display_data"
    },
    {
     "data": {
      "text/html": [
       "<pre style=\"white-space:pre;overflow-x:auto;line-height:normal;font-family:Menlo,'DejaVu Sans Mono',consolas,'Courier New',monospace\">Best mean reward: 228.78 - Last mean reward per episode: 229.10\n",
       "</pre>\n"
      ],
      "text/plain": [
       "Best mean reward: 228.78 - Last mean reward per episode: 229.10\n"
      ]
     },
     "metadata": {},
     "output_type": "display_data"
    },
    {
     "data": {
      "text/html": [
       "<pre style=\"white-space:pre;overflow-x:auto;line-height:normal;font-family:Menlo,'DejaVu Sans Mono',consolas,'Courier New',monospace\">Saving new best model to tmp/gym/twoarm_ppo/best_model.zip\n",
       "</pre>\n"
      ],
      "text/plain": [
       "Saving new best model to tmp/gym/twoarm_ppo/best_model.zip\n"
      ]
     },
     "metadata": {},
     "output_type": "display_data"
    },
    {
     "data": {
      "text/html": [
       "<pre style=\"white-space:pre;overflow-x:auto;line-height:normal;font-family:Menlo,'DejaVu Sans Mono',consolas,'Courier New',monospace\">Num timesteps: 74000\n",
       "</pre>\n"
      ],
      "text/plain": [
       "Num timesteps: 74000\n"
      ]
     },
     "metadata": {},
     "output_type": "display_data"
    },
    {
     "data": {
      "text/html": [
       "<pre style=\"white-space:pre;overflow-x:auto;line-height:normal;font-family:Menlo,'DejaVu Sans Mono',consolas,'Courier New',monospace\">Best mean reward: 229.10 - Last mean reward per episode: 229.28\n",
       "</pre>\n"
      ],
      "text/plain": [
       "Best mean reward: 229.10 - Last mean reward per episode: 229.28\n"
      ]
     },
     "metadata": {},
     "output_type": "display_data"
    },
    {
     "data": {
      "text/html": [
       "<pre style=\"white-space:pre;overflow-x:auto;line-height:normal;font-family:Menlo,'DejaVu Sans Mono',consolas,'Courier New',monospace\">Saving new best model to tmp/gym/twoarm_ppo/best_model.zip\n",
       "</pre>\n"
      ],
      "text/plain": [
       "Saving new best model to tmp/gym/twoarm_ppo/best_model.zip\n"
      ]
     },
     "metadata": {},
     "output_type": "display_data"
    },
    {
     "data": {
      "text/html": [
       "<pre style=\"white-space:pre;overflow-x:auto;line-height:normal;font-family:Menlo,'DejaVu Sans Mono',consolas,'Courier New',monospace\">Num timesteps: 75000\n",
       "</pre>\n"
      ],
      "text/plain": [
       "Num timesteps: 75000\n"
      ]
     },
     "metadata": {},
     "output_type": "display_data"
    },
    {
     "data": {
      "text/html": [
       "<pre style=\"white-space:pre;overflow-x:auto;line-height:normal;font-family:Menlo,'DejaVu Sans Mono',consolas,'Courier New',monospace\">Best mean reward: 229.28 - Last mean reward per episode: 228.95\n",
       "</pre>\n"
      ],
      "text/plain": [
       "Best mean reward: 229.28 - Last mean reward per episode: 228.95\n"
      ]
     },
     "metadata": {},
     "output_type": "display_data"
    },
    {
     "data": {
      "text/html": [
       "<pre style=\"white-space:pre;overflow-x:auto;line-height:normal;font-family:Menlo,'DejaVu Sans Mono',consolas,'Courier New',monospace\">Num timesteps: 76000\n",
       "</pre>\n"
      ],
      "text/plain": [
       "Num timesteps: 76000\n"
      ]
     },
     "metadata": {},
     "output_type": "display_data"
    },
    {
     "data": {
      "text/html": [
       "<pre style=\"white-space:pre;overflow-x:auto;line-height:normal;font-family:Menlo,'DejaVu Sans Mono',consolas,'Courier New',monospace\">Best mean reward: 229.28 - Last mean reward per episode: 229.03\n",
       "</pre>\n"
      ],
      "text/plain": [
       "Best mean reward: 229.28 - Last mean reward per episode: 229.03\n"
      ]
     },
     "metadata": {},
     "output_type": "display_data"
    },
    {
     "data": {
      "text/html": [
       "<pre style=\"white-space:pre;overflow-x:auto;line-height:normal;font-family:Menlo,'DejaVu Sans Mono',consolas,'Courier New',monospace\">Num timesteps: 77000\n",
       "</pre>\n"
      ],
      "text/plain": [
       "Num timesteps: 77000\n"
      ]
     },
     "metadata": {},
     "output_type": "display_data"
    },
    {
     "data": {
      "text/html": [
       "<pre style=\"white-space:pre;overflow-x:auto;line-height:normal;font-family:Menlo,'DejaVu Sans Mono',consolas,'Courier New',monospace\">Best mean reward: 229.28 - Last mean reward per episode: 228.35\n",
       "</pre>\n"
      ],
      "text/plain": [
       "Best mean reward: 229.28 - Last mean reward per episode: 228.35\n"
      ]
     },
     "metadata": {},
     "output_type": "display_data"
    },
    {
     "data": {
      "text/html": [
       "<pre style=\"white-space:pre;overflow-x:auto;line-height:normal;font-family:Menlo,'DejaVu Sans Mono',consolas,'Courier New',monospace\">Num timesteps: 78000\n",
       "</pre>\n"
      ],
      "text/plain": [
       "Num timesteps: 78000\n"
      ]
     },
     "metadata": {},
     "output_type": "display_data"
    },
    {
     "data": {
      "text/html": [
       "<pre style=\"white-space:pre;overflow-x:auto;line-height:normal;font-family:Menlo,'DejaVu Sans Mono',consolas,'Courier New',monospace\">Best mean reward: 229.28 - Last mean reward per episode: 228.49\n",
       "</pre>\n"
      ],
      "text/plain": [
       "Best mean reward: 229.28 - Last mean reward per episode: 228.49\n"
      ]
     },
     "metadata": {},
     "output_type": "display_data"
    },
    {
     "data": {
      "text/html": [
       "<pre style=\"white-space:pre;overflow-x:auto;line-height:normal;font-family:Menlo,'DejaVu Sans Mono',consolas,'Courier New',monospace\">Num timesteps: 79000\n",
       "</pre>\n"
      ],
      "text/plain": [
       "Num timesteps: 79000\n"
      ]
     },
     "metadata": {},
     "output_type": "display_data"
    },
    {
     "data": {
      "text/html": [
       "<pre style=\"white-space:pre;overflow-x:auto;line-height:normal;font-family:Menlo,'DejaVu Sans Mono',consolas,'Courier New',monospace\">Best mean reward: 229.28 - Last mean reward per episode: 228.78\n",
       "</pre>\n"
      ],
      "text/plain": [
       "Best mean reward: 229.28 - Last mean reward per episode: 228.78\n"
      ]
     },
     "metadata": {},
     "output_type": "display_data"
    },
    {
     "data": {
      "text/html": [
       "<pre style=\"white-space:pre;overflow-x:auto;line-height:normal;font-family:Menlo,'DejaVu Sans Mono',consolas,'Courier New',monospace\">Num timesteps: 80000\n",
       "</pre>\n"
      ],
      "text/plain": [
       "Num timesteps: 80000\n"
      ]
     },
     "metadata": {},
     "output_type": "display_data"
    },
    {
     "data": {
      "text/html": [
       "<pre style=\"white-space:pre;overflow-x:auto;line-height:normal;font-family:Menlo,'DejaVu Sans Mono',consolas,'Courier New',monospace\">Best mean reward: 229.28 - Last mean reward per episode: 228.98\n",
       "</pre>\n"
      ],
      "text/plain": [
       "Best mean reward: 229.28 - Last mean reward per episode: 228.98\n"
      ]
     },
     "metadata": {},
     "output_type": "display_data"
    },
    {
     "data": {
      "text/html": [
       "<pre style=\"white-space:pre;overflow-x:auto;line-height:normal;font-family:Menlo,'DejaVu Sans Mono',consolas,'Courier New',monospace\">Num timesteps: 81000\n",
       "</pre>\n"
      ],
      "text/plain": [
       "Num timesteps: 81000\n"
      ]
     },
     "metadata": {},
     "output_type": "display_data"
    },
    {
     "data": {
      "text/html": [
       "<pre style=\"white-space:pre;overflow-x:auto;line-height:normal;font-family:Menlo,'DejaVu Sans Mono',consolas,'Courier New',monospace\">Best mean reward: 229.28 - Last mean reward per episode: 231.19\n",
       "</pre>\n"
      ],
      "text/plain": [
       "Best mean reward: 229.28 - Last mean reward per episode: 231.19\n"
      ]
     },
     "metadata": {},
     "output_type": "display_data"
    },
    {
     "data": {
      "text/html": [
       "<pre style=\"white-space:pre;overflow-x:auto;line-height:normal;font-family:Menlo,'DejaVu Sans Mono',consolas,'Courier New',monospace\">Saving new best model to tmp/gym/twoarm_ppo/best_model.zip\n",
       "</pre>\n"
      ],
      "text/plain": [
       "Saving new best model to tmp/gym/twoarm_ppo/best_model.zip\n"
      ]
     },
     "metadata": {},
     "output_type": "display_data"
    },
    {
     "name": "stdout",
     "output_type": "stream",
     "text": [
      "----------------------------------------\n",
      "| rollout/                |            |\n",
      "|    ep_len_mean          | 500        |\n",
      "|    ep_rew_mean          | 231        |\n",
      "| time/                   |            |\n",
      "|    fps                  | 78         |\n",
      "|    iterations           | 40         |\n",
      "|    time_elapsed         | 1047       |\n",
      "|    total_timesteps      | 81920      |\n",
      "| train/                  |            |\n",
      "|    approx_kl            | 0.02132714 |\n",
      "|    clip_fraction        | 0.235      |\n",
      "|    clip_range           | 0.2        |\n",
      "|    entropy_loss         | -17        |\n",
      "|    explained_variance   | 0.736      |\n",
      "|    learning_rate        | 0.0003     |\n",
      "|    loss                 | 1.02       |\n",
      "|    n_updates            | 390        |\n",
      "|    policy_gradient_loss | -0.0179    |\n",
      "|    std                  | 0.997      |\n",
      "|    value_loss           | 8.67       |\n",
      "----------------------------------------\n"
     ]
    },
    {
     "data": {
      "text/html": [
       "<pre style=\"white-space:pre;overflow-x:auto;line-height:normal;font-family:Menlo,'DejaVu Sans Mono',consolas,'Courier New',monospace\">Num timesteps: 82000\n",
       "</pre>\n"
      ],
      "text/plain": [
       "Num timesteps: 82000\n"
      ]
     },
     "metadata": {},
     "output_type": "display_data"
    },
    {
     "data": {
      "text/html": [
       "<pre style=\"white-space:pre;overflow-x:auto;line-height:normal;font-family:Menlo,'DejaVu Sans Mono',consolas,'Courier New',monospace\">Best mean reward: 231.19 - Last mean reward per episode: 231.15\n",
       "</pre>\n"
      ],
      "text/plain": [
       "Best mean reward: 231.19 - Last mean reward per episode: 231.15\n"
      ]
     },
     "metadata": {},
     "output_type": "display_data"
    },
    {
     "data": {
      "text/html": [
       "<pre style=\"white-space:pre;overflow-x:auto;line-height:normal;font-family:Menlo,'DejaVu Sans Mono',consolas,'Courier New',monospace\">Num timesteps: 83000\n",
       "</pre>\n"
      ],
      "text/plain": [
       "Num timesteps: 83000\n"
      ]
     },
     "metadata": {},
     "output_type": "display_data"
    },
    {
     "data": {
      "text/html": [
       "<pre style=\"white-space:pre;overflow-x:auto;line-height:normal;font-family:Menlo,'DejaVu Sans Mono',consolas,'Courier New',monospace\">Best mean reward: 231.19 - Last mean reward per episode: 232.24\n",
       "</pre>\n"
      ],
      "text/plain": [
       "Best mean reward: 231.19 - Last mean reward per episode: 232.24\n"
      ]
     },
     "metadata": {},
     "output_type": "display_data"
    },
    {
     "data": {
      "text/html": [
       "<pre style=\"white-space:pre;overflow-x:auto;line-height:normal;font-family:Menlo,'DejaVu Sans Mono',consolas,'Courier New',monospace\">Saving new best model to tmp/gym/twoarm_ppo/best_model.zip\n",
       "</pre>\n"
      ],
      "text/plain": [
       "Saving new best model to tmp/gym/twoarm_ppo/best_model.zip\n"
      ]
     },
     "metadata": {},
     "output_type": "display_data"
    },
    {
     "data": {
      "text/html": [
       "<pre style=\"white-space:pre;overflow-x:auto;line-height:normal;font-family:Menlo,'DejaVu Sans Mono',consolas,'Courier New',monospace\">Num timesteps: 84000\n",
       "</pre>\n"
      ],
      "text/plain": [
       "Num timesteps: 84000\n"
      ]
     },
     "metadata": {},
     "output_type": "display_data"
    },
    {
     "data": {
      "text/html": [
       "<pre style=\"white-space:pre;overflow-x:auto;line-height:normal;font-family:Menlo,'DejaVu Sans Mono',consolas,'Courier New',monospace\">Best mean reward: 232.24 - Last mean reward per episode: 232.26\n",
       "</pre>\n"
      ],
      "text/plain": [
       "Best mean reward: 232.24 - Last mean reward per episode: 232.26\n"
      ]
     },
     "metadata": {},
     "output_type": "display_data"
    },
    {
     "data": {
      "text/html": [
       "<pre style=\"white-space:pre;overflow-x:auto;line-height:normal;font-family:Menlo,'DejaVu Sans Mono',consolas,'Courier New',monospace\">Saving new best model to tmp/gym/twoarm_ppo/best_model.zip\n",
       "</pre>\n"
      ],
      "text/plain": [
       "Saving new best model to tmp/gym/twoarm_ppo/best_model.zip\n"
      ]
     },
     "metadata": {},
     "output_type": "display_data"
    },
    {
     "data": {
      "text/html": [
       "<pre style=\"white-space:pre;overflow-x:auto;line-height:normal;font-family:Menlo,'DejaVu Sans Mono',consolas,'Courier New',monospace\">Num timesteps: 85000\n",
       "</pre>\n"
      ],
      "text/plain": [
       "Num timesteps: 85000\n"
      ]
     },
     "metadata": {},
     "output_type": "display_data"
    },
    {
     "data": {
      "text/html": [
       "<pre style=\"white-space:pre;overflow-x:auto;line-height:normal;font-family:Menlo,'DejaVu Sans Mono',consolas,'Courier New',monospace\">Best mean reward: 232.26 - Last mean reward per episode: 232.60\n",
       "</pre>\n"
      ],
      "text/plain": [
       "Best mean reward: 232.26 - Last mean reward per episode: 232.60\n"
      ]
     },
     "metadata": {},
     "output_type": "display_data"
    },
    {
     "data": {
      "text/html": [
       "<pre style=\"white-space:pre;overflow-x:auto;line-height:normal;font-family:Menlo,'DejaVu Sans Mono',consolas,'Courier New',monospace\">Saving new best model to tmp/gym/twoarm_ppo/best_model.zip\n",
       "</pre>\n"
      ],
      "text/plain": [
       "Saving new best model to tmp/gym/twoarm_ppo/best_model.zip\n"
      ]
     },
     "metadata": {},
     "output_type": "display_data"
    },
    {
     "data": {
      "text/html": [
       "<pre style=\"white-space:pre;overflow-x:auto;line-height:normal;font-family:Menlo,'DejaVu Sans Mono',consolas,'Courier New',monospace\">Num timesteps: 86000\n",
       "</pre>\n"
      ],
      "text/plain": [
       "Num timesteps: 86000\n"
      ]
     },
     "metadata": {},
     "output_type": "display_data"
    },
    {
     "data": {
      "text/html": [
       "<pre style=\"white-space:pre;overflow-x:auto;line-height:normal;font-family:Menlo,'DejaVu Sans Mono',consolas,'Courier New',monospace\">Best mean reward: 232.60 - Last mean reward per episode: 232.54\n",
       "</pre>\n"
      ],
      "text/plain": [
       "Best mean reward: 232.60 - Last mean reward per episode: 232.54\n"
      ]
     },
     "metadata": {},
     "output_type": "display_data"
    },
    {
     "data": {
      "text/html": [
       "<pre style=\"white-space:pre;overflow-x:auto;line-height:normal;font-family:Menlo,'DejaVu Sans Mono',consolas,'Courier New',monospace\">Num timesteps: 87000\n",
       "</pre>\n"
      ],
      "text/plain": [
       "Num timesteps: 87000\n"
      ]
     },
     "metadata": {},
     "output_type": "display_data"
    },
    {
     "data": {
      "text/html": [
       "<pre style=\"white-space:pre;overflow-x:auto;line-height:normal;font-family:Menlo,'DejaVu Sans Mono',consolas,'Courier New',monospace\">Best mean reward: 232.60 - Last mean reward per episode: 233.31\n",
       "</pre>\n"
      ],
      "text/plain": [
       "Best mean reward: 232.60 - Last mean reward per episode: 233.31\n"
      ]
     },
     "metadata": {},
     "output_type": "display_data"
    },
    {
     "data": {
      "text/html": [
       "<pre style=\"white-space:pre;overflow-x:auto;line-height:normal;font-family:Menlo,'DejaVu Sans Mono',consolas,'Courier New',monospace\">Saving new best model to tmp/gym/twoarm_ppo/best_model.zip\n",
       "</pre>\n"
      ],
      "text/plain": [
       "Saving new best model to tmp/gym/twoarm_ppo/best_model.zip\n"
      ]
     },
     "metadata": {},
     "output_type": "display_data"
    },
    {
     "data": {
      "text/html": [
       "<pre style=\"white-space:pre;overflow-x:auto;line-height:normal;font-family:Menlo,'DejaVu Sans Mono',consolas,'Courier New',monospace\">Num timesteps: 88000\n",
       "</pre>\n"
      ],
      "text/plain": [
       "Num timesteps: 88000\n"
      ]
     },
     "metadata": {},
     "output_type": "display_data"
    },
    {
     "data": {
      "text/html": [
       "<pre style=\"white-space:pre;overflow-x:auto;line-height:normal;font-family:Menlo,'DejaVu Sans Mono',consolas,'Courier New',monospace\">Best mean reward: 233.31 - Last mean reward per episode: 233.19\n",
       "</pre>\n"
      ],
      "text/plain": [
       "Best mean reward: 233.31 - Last mean reward per episode: 233.19\n"
      ]
     },
     "metadata": {},
     "output_type": "display_data"
    },
    {
     "data": {
      "text/html": [
       "<pre style=\"white-space:pre;overflow-x:auto;line-height:normal;font-family:Menlo,'DejaVu Sans Mono',consolas,'Courier New',monospace\">Num timesteps: 89000\n",
       "</pre>\n"
      ],
      "text/plain": [
       "Num timesteps: 89000\n"
      ]
     },
     "metadata": {},
     "output_type": "display_data"
    },
    {
     "data": {
      "text/html": [
       "<pre style=\"white-space:pre;overflow-x:auto;line-height:normal;font-family:Menlo,'DejaVu Sans Mono',consolas,'Courier New',monospace\">Best mean reward: 233.31 - Last mean reward per episode: 233.45\n",
       "</pre>\n"
      ],
      "text/plain": [
       "Best mean reward: 233.31 - Last mean reward per episode: 233.45\n"
      ]
     },
     "metadata": {},
     "output_type": "display_data"
    },
    {
     "data": {
      "text/html": [
       "<pre style=\"white-space:pre;overflow-x:auto;line-height:normal;font-family:Menlo,'DejaVu Sans Mono',consolas,'Courier New',monospace\">Saving new best model to tmp/gym/twoarm_ppo/best_model.zip\n",
       "</pre>\n"
      ],
      "text/plain": [
       "Saving new best model to tmp/gym/twoarm_ppo/best_model.zip\n"
      ]
     },
     "metadata": {},
     "output_type": "display_data"
    },
    {
     "data": {
      "text/html": [
       "<pre style=\"white-space:pre;overflow-x:auto;line-height:normal;font-family:Menlo,'DejaVu Sans Mono',consolas,'Courier New',monospace\">Num timesteps: 90000\n",
       "</pre>\n"
      ],
      "text/plain": [
       "Num timesteps: 90000\n"
      ]
     },
     "metadata": {},
     "output_type": "display_data"
    },
    {
     "data": {
      "text/html": [
       "<pre style=\"white-space:pre;overflow-x:auto;line-height:normal;font-family:Menlo,'DejaVu Sans Mono',consolas,'Courier New',monospace\">Best mean reward: 233.45 - Last mean reward per episode: 234.92\n",
       "</pre>\n"
      ],
      "text/plain": [
       "Best mean reward: 233.45 - Last mean reward per episode: 234.92\n"
      ]
     },
     "metadata": {},
     "output_type": "display_data"
    },
    {
     "data": {
      "text/html": [
       "<pre style=\"white-space:pre;overflow-x:auto;line-height:normal;font-family:Menlo,'DejaVu Sans Mono',consolas,'Courier New',monospace\">Saving new best model to tmp/gym/twoarm_ppo/best_model.zip\n",
       "</pre>\n"
      ],
      "text/plain": [
       "Saving new best model to tmp/gym/twoarm_ppo/best_model.zip\n"
      ]
     },
     "metadata": {},
     "output_type": "display_data"
    },
    {
     "data": {
      "text/html": [
       "<pre style=\"white-space:pre;overflow-x:auto;line-height:normal;font-family:Menlo,'DejaVu Sans Mono',consolas,'Courier New',monospace\">Num timesteps: 91000\n",
       "</pre>\n"
      ],
      "text/plain": [
       "Num timesteps: 91000\n"
      ]
     },
     "metadata": {},
     "output_type": "display_data"
    },
    {
     "data": {
      "text/html": [
       "<pre style=\"white-space:pre;overflow-x:auto;line-height:normal;font-family:Menlo,'DejaVu Sans Mono',consolas,'Courier New',monospace\">Best mean reward: 234.92 - Last mean reward per episode: 235.22\n",
       "</pre>\n"
      ],
      "text/plain": [
       "Best mean reward: 234.92 - Last mean reward per episode: 235.22\n"
      ]
     },
     "metadata": {},
     "output_type": "display_data"
    },
    {
     "data": {
      "text/html": [
       "<pre style=\"white-space:pre;overflow-x:auto;line-height:normal;font-family:Menlo,'DejaVu Sans Mono',consolas,'Courier New',monospace\">Saving new best model to tmp/gym/twoarm_ppo/best_model.zip\n",
       "</pre>\n"
      ],
      "text/plain": [
       "Saving new best model to tmp/gym/twoarm_ppo/best_model.zip\n"
      ]
     },
     "metadata": {},
     "output_type": "display_data"
    },
    {
     "data": {
      "text/html": [
       "<pre style=\"white-space:pre;overflow-x:auto;line-height:normal;font-family:Menlo,'DejaVu Sans Mono',consolas,'Courier New',monospace\">Num timesteps: 92000\n",
       "</pre>\n"
      ],
      "text/plain": [
       "Num timesteps: 92000\n"
      ]
     },
     "metadata": {},
     "output_type": "display_data"
    },
    {
     "data": {
      "text/html": [
       "<pre style=\"white-space:pre;overflow-x:auto;line-height:normal;font-family:Menlo,'DejaVu Sans Mono',consolas,'Courier New',monospace\">Best mean reward: 235.22 - Last mean reward per episode: 234.92\n",
       "</pre>\n"
      ],
      "text/plain": [
       "Best mean reward: 235.22 - Last mean reward per episode: 234.92\n"
      ]
     },
     "metadata": {},
     "output_type": "display_data"
    },
    {
     "data": {
      "text/html": [
       "<pre style=\"white-space:pre;overflow-x:auto;line-height:normal;font-family:Menlo,'DejaVu Sans Mono',consolas,'Courier New',monospace\">Num timesteps: 93000\n",
       "</pre>\n"
      ],
      "text/plain": [
       "Num timesteps: 93000\n"
      ]
     },
     "metadata": {},
     "output_type": "display_data"
    },
    {
     "data": {
      "text/html": [
       "<pre style=\"white-space:pre;overflow-x:auto;line-height:normal;font-family:Menlo,'DejaVu Sans Mono',consolas,'Courier New',monospace\">Best mean reward: 235.22 - Last mean reward per episode: 234.46\n",
       "</pre>\n"
      ],
      "text/plain": [
       "Best mean reward: 235.22 - Last mean reward per episode: 234.46\n"
      ]
     },
     "metadata": {},
     "output_type": "display_data"
    },
    {
     "data": {
      "text/html": [
       "<pre style=\"white-space:pre;overflow-x:auto;line-height:normal;font-family:Menlo,'DejaVu Sans Mono',consolas,'Courier New',monospace\">Num timesteps: 94000\n",
       "</pre>\n"
      ],
      "text/plain": [
       "Num timesteps: 94000\n"
      ]
     },
     "metadata": {},
     "output_type": "display_data"
    },
    {
     "data": {
      "text/html": [
       "<pre style=\"white-space:pre;overflow-x:auto;line-height:normal;font-family:Menlo,'DejaVu Sans Mono',consolas,'Courier New',monospace\">Best mean reward: 235.22 - Last mean reward per episode: 234.53\n",
       "</pre>\n"
      ],
      "text/plain": [
       "Best mean reward: 235.22 - Last mean reward per episode: 234.53\n"
      ]
     },
     "metadata": {},
     "output_type": "display_data"
    },
    {
     "data": {
      "text/html": [
       "<pre style=\"white-space:pre;overflow-x:auto;line-height:normal;font-family:Menlo,'DejaVu Sans Mono',consolas,'Courier New',monospace\">Num timesteps: 95000\n",
       "</pre>\n"
      ],
      "text/plain": [
       "Num timesteps: 95000\n"
      ]
     },
     "metadata": {},
     "output_type": "display_data"
    },
    {
     "data": {
      "text/html": [
       "<pre style=\"white-space:pre;overflow-x:auto;line-height:normal;font-family:Menlo,'DejaVu Sans Mono',consolas,'Courier New',monospace\">Best mean reward: 235.22 - Last mean reward per episode: 234.77\n",
       "</pre>\n"
      ],
      "text/plain": [
       "Best mean reward: 235.22 - Last mean reward per episode: 234.77\n"
      ]
     },
     "metadata": {},
     "output_type": "display_data"
    },
    {
     "data": {
      "text/html": [
       "<pre style=\"white-space:pre;overflow-x:auto;line-height:normal;font-family:Menlo,'DejaVu Sans Mono',consolas,'Courier New',monospace\">Num timesteps: 96000\n",
       "</pre>\n"
      ],
      "text/plain": [
       "Num timesteps: 96000\n"
      ]
     },
     "metadata": {},
     "output_type": "display_data"
    },
    {
     "data": {
      "text/html": [
       "<pre style=\"white-space:pre;overflow-x:auto;line-height:normal;font-family:Menlo,'DejaVu Sans Mono',consolas,'Courier New',monospace\">Best mean reward: 235.22 - Last mean reward per episode: 234.94\n",
       "</pre>\n"
      ],
      "text/plain": [
       "Best mean reward: 235.22 - Last mean reward per episode: 234.94\n"
      ]
     },
     "metadata": {},
     "output_type": "display_data"
    },
    {
     "data": {
      "text/html": [
       "<pre style=\"white-space:pre;overflow-x:auto;line-height:normal;font-family:Menlo,'DejaVu Sans Mono',consolas,'Courier New',monospace\">Num timesteps: 97000\n",
       "</pre>\n"
      ],
      "text/plain": [
       "Num timesteps: 97000\n"
      ]
     },
     "metadata": {},
     "output_type": "display_data"
    },
    {
     "data": {
      "text/html": [
       "<pre style=\"white-space:pre;overflow-x:auto;line-height:normal;font-family:Menlo,'DejaVu Sans Mono',consolas,'Courier New',monospace\">Best mean reward: 235.22 - Last mean reward per episode: 236.06\n",
       "</pre>\n"
      ],
      "text/plain": [
       "Best mean reward: 235.22 - Last mean reward per episode: 236.06\n"
      ]
     },
     "metadata": {},
     "output_type": "display_data"
    },
    {
     "data": {
      "text/html": [
       "<pre style=\"white-space:pre;overflow-x:auto;line-height:normal;font-family:Menlo,'DejaVu Sans Mono',consolas,'Courier New',monospace\">Saving new best model to tmp/gym/twoarm_ppo/best_model.zip\n",
       "</pre>\n"
      ],
      "text/plain": [
       "Saving new best model to tmp/gym/twoarm_ppo/best_model.zip\n"
      ]
     },
     "metadata": {},
     "output_type": "display_data"
    },
    {
     "data": {
      "text/html": [
       "<pre style=\"white-space:pre;overflow-x:auto;line-height:normal;font-family:Menlo,'DejaVu Sans Mono',consolas,'Courier New',monospace\">Num timesteps: 98000\n",
       "</pre>\n"
      ],
      "text/plain": [
       "Num timesteps: 98000\n"
      ]
     },
     "metadata": {},
     "output_type": "display_data"
    },
    {
     "data": {
      "text/html": [
       "<pre style=\"white-space:pre;overflow-x:auto;line-height:normal;font-family:Menlo,'DejaVu Sans Mono',consolas,'Courier New',monospace\">Best mean reward: 236.06 - Last mean reward per episode: 236.95\n",
       "</pre>\n"
      ],
      "text/plain": [
       "Best mean reward: 236.06 - Last mean reward per episode: 236.95\n"
      ]
     },
     "metadata": {},
     "output_type": "display_data"
    },
    {
     "data": {
      "text/html": [
       "<pre style=\"white-space:pre;overflow-x:auto;line-height:normal;font-family:Menlo,'DejaVu Sans Mono',consolas,'Courier New',monospace\">Saving new best model to tmp/gym/twoarm_ppo/best_model.zip\n",
       "</pre>\n"
      ],
      "text/plain": [
       "Saving new best model to tmp/gym/twoarm_ppo/best_model.zip\n"
      ]
     },
     "metadata": {},
     "output_type": "display_data"
    },
    {
     "data": {
      "text/html": [
       "<pre style=\"white-space:pre;overflow-x:auto;line-height:normal;font-family:Menlo,'DejaVu Sans Mono',consolas,'Courier New',monospace\">Num timesteps: 99000\n",
       "</pre>\n"
      ],
      "text/plain": [
       "Num timesteps: 99000\n"
      ]
     },
     "metadata": {},
     "output_type": "display_data"
    },
    {
     "data": {
      "text/html": [
       "<pre style=\"white-space:pre;overflow-x:auto;line-height:normal;font-family:Menlo,'DejaVu Sans Mono',consolas,'Courier New',monospace\">Best mean reward: 236.95 - Last mean reward per episode: 238.19\n",
       "</pre>\n"
      ],
      "text/plain": [
       "Best mean reward: 236.95 - Last mean reward per episode: 238.19\n"
      ]
     },
     "metadata": {},
     "output_type": "display_data"
    },
    {
     "data": {
      "text/html": [
       "<pre style=\"white-space:pre;overflow-x:auto;line-height:normal;font-family:Menlo,'DejaVu Sans Mono',consolas,'Courier New',monospace\">Saving new best model to tmp/gym/twoarm_ppo/best_model.zip\n",
       "</pre>\n"
      ],
      "text/plain": [
       "Saving new best model to tmp/gym/twoarm_ppo/best_model.zip\n"
      ]
     },
     "metadata": {},
     "output_type": "display_data"
    },
    {
     "data": {
      "text/html": [
       "<pre style=\"white-space:pre;overflow-x:auto;line-height:normal;font-family:Menlo,'DejaVu Sans Mono',consolas,'Courier New',monospace\">Num timesteps: 100000\n",
       "</pre>\n"
      ],
      "text/plain": [
       "Num timesteps: 100000\n"
      ]
     },
     "metadata": {},
     "output_type": "display_data"
    },
    {
     "data": {
      "text/html": [
       "<pre style=\"white-space:pre;overflow-x:auto;line-height:normal;font-family:Menlo,'DejaVu Sans Mono',consolas,'Courier New',monospace\">Best mean reward: 238.19 - Last mean reward per episode: 239.07\n",
       "</pre>\n"
      ],
      "text/plain": [
       "Best mean reward: 238.19 - Last mean reward per episode: 239.07\n"
      ]
     },
     "metadata": {},
     "output_type": "display_data"
    },
    {
     "data": {
      "text/html": [
       "<pre style=\"white-space:pre;overflow-x:auto;line-height:normal;font-family:Menlo,'DejaVu Sans Mono',consolas,'Courier New',monospace\">Saving new best model to tmp/gym/twoarm_ppo/best_model.zip\n",
       "</pre>\n"
      ],
      "text/plain": [
       "Saving new best model to tmp/gym/twoarm_ppo/best_model.zip\n"
      ]
     },
     "metadata": {},
     "output_type": "display_data"
    },
    {
     "data": {
      "text/html": [
       "<pre style=\"white-space:pre;overflow-x:auto;line-height:normal;font-family:Menlo,'DejaVu Sans Mono',consolas,'Courier New',monospace\">Num timesteps: 101000\n",
       "</pre>\n"
      ],
      "text/plain": [
       "Num timesteps: 101000\n"
      ]
     },
     "metadata": {},
     "output_type": "display_data"
    },
    {
     "data": {
      "text/html": [
       "<pre style=\"white-space:pre;overflow-x:auto;line-height:normal;font-family:Menlo,'DejaVu Sans Mono',consolas,'Courier New',monospace\">Best mean reward: 239.07 - Last mean reward per episode: 240.20\n",
       "</pre>\n"
      ],
      "text/plain": [
       "Best mean reward: 239.07 - Last mean reward per episode: 240.20\n"
      ]
     },
     "metadata": {},
     "output_type": "display_data"
    },
    {
     "data": {
      "text/html": [
       "<pre style=\"white-space:pre;overflow-x:auto;line-height:normal;font-family:Menlo,'DejaVu Sans Mono',consolas,'Courier New',monospace\">Saving new best model to tmp/gym/twoarm_ppo/best_model.zip\n",
       "</pre>\n"
      ],
      "text/plain": [
       "Saving new best model to tmp/gym/twoarm_ppo/best_model.zip\n"
      ]
     },
     "metadata": {},
     "output_type": "display_data"
    },
    {
     "data": {
      "text/html": [
       "<pre style=\"white-space:pre;overflow-x:auto;line-height:normal;font-family:Menlo,'DejaVu Sans Mono',consolas,'Courier New',monospace\">Num timesteps: 102000\n",
       "</pre>\n"
      ],
      "text/plain": [
       "Num timesteps: 102000\n"
      ]
     },
     "metadata": {},
     "output_type": "display_data"
    },
    {
     "data": {
      "text/html": [
       "<pre style=\"white-space:pre;overflow-x:auto;line-height:normal;font-family:Menlo,'DejaVu Sans Mono',consolas,'Courier New',monospace\">Best mean reward: 240.20 - Last mean reward per episode: 240.52\n",
       "</pre>\n"
      ],
      "text/plain": [
       "Best mean reward: 240.20 - Last mean reward per episode: 240.52\n"
      ]
     },
     "metadata": {},
     "output_type": "display_data"
    },
    {
     "data": {
      "text/html": [
       "<pre style=\"white-space:pre;overflow-x:auto;line-height:normal;font-family:Menlo,'DejaVu Sans Mono',consolas,'Courier New',monospace\">Saving new best model to tmp/gym/twoarm_ppo/best_model.zip\n",
       "</pre>\n"
      ],
      "text/plain": [
       "Saving new best model to tmp/gym/twoarm_ppo/best_model.zip\n"
      ]
     },
     "metadata": {},
     "output_type": "display_data"
    },
    {
     "name": "stdout",
     "output_type": "stream",
     "text": [
      "----------------------------------------\n",
      "| rollout/                |            |\n",
      "|    ep_len_mean          | 500        |\n",
      "|    ep_rew_mean          | 241        |\n",
      "| time/                   |            |\n",
      "|    fps                  | 77         |\n",
      "|    iterations           | 50         |\n",
      "|    time_elapsed         | 1325       |\n",
      "|    total_timesteps      | 102400     |\n",
      "| train/                  |            |\n",
      "|    approx_kl            | 0.02624504 |\n",
      "|    clip_fraction        | 0.284      |\n",
      "|    clip_range           | 0.2        |\n",
      "|    entropy_loss         | -17        |\n",
      "|    explained_variance   | 0.738      |\n",
      "|    learning_rate        | 0.0003     |\n",
      "|    loss                 | 0.366      |\n",
      "|    n_updates            | 490        |\n",
      "|    policy_gradient_loss | -0.0174    |\n",
      "|    std                  | 0.998      |\n",
      "|    value_loss           | 5.26       |\n",
      "----------------------------------------\n"
     ]
    },
    {
     "data": {
      "text/html": [
       "<pre style=\"white-space:pre;overflow-x:auto;line-height:normal;font-family:Menlo,'DejaVu Sans Mono',consolas,'Courier New',monospace\">Num timesteps: 103000\n",
       "</pre>\n"
      ],
      "text/plain": [
       "Num timesteps: 103000\n"
      ]
     },
     "metadata": {},
     "output_type": "display_data"
    },
    {
     "data": {
      "text/html": [
       "<pre style=\"white-space:pre;overflow-x:auto;line-height:normal;font-family:Menlo,'DejaVu Sans Mono',consolas,'Courier New',monospace\">Best mean reward: 240.52 - Last mean reward per episode: 240.08\n",
       "</pre>\n"
      ],
      "text/plain": [
       "Best mean reward: 240.52 - Last mean reward per episode: 240.08\n"
      ]
     },
     "metadata": {},
     "output_type": "display_data"
    },
    {
     "data": {
      "text/html": [
       "<pre style=\"white-space:pre;overflow-x:auto;line-height:normal;font-family:Menlo,'DejaVu Sans Mono',consolas,'Courier New',monospace\">Num timesteps: 104000\n",
       "</pre>\n"
      ],
      "text/plain": [
       "Num timesteps: 104000\n"
      ]
     },
     "metadata": {},
     "output_type": "display_data"
    },
    {
     "data": {
      "text/html": [
       "<pre style=\"white-space:pre;overflow-x:auto;line-height:normal;font-family:Menlo,'DejaVu Sans Mono',consolas,'Courier New',monospace\">Best mean reward: 240.52 - Last mean reward per episode: 240.72\n",
       "</pre>\n"
      ],
      "text/plain": [
       "Best mean reward: 240.52 - Last mean reward per episode: 240.72\n"
      ]
     },
     "metadata": {},
     "output_type": "display_data"
    },
    {
     "data": {
      "text/html": [
       "<pre style=\"white-space:pre;overflow-x:auto;line-height:normal;font-family:Menlo,'DejaVu Sans Mono',consolas,'Courier New',monospace\">Saving new best model to tmp/gym/twoarm_ppo/best_model.zip\n",
       "</pre>\n"
      ],
      "text/plain": [
       "Saving new best model to tmp/gym/twoarm_ppo/best_model.zip\n"
      ]
     },
     "metadata": {},
     "output_type": "display_data"
    },
    {
     "data": {
      "text/html": [
       "<pre style=\"white-space:pre;overflow-x:auto;line-height:normal;font-family:Menlo,'DejaVu Sans Mono',consolas,'Courier New',monospace\">Num timesteps: 105000\n",
       "</pre>\n"
      ],
      "text/plain": [
       "Num timesteps: 105000\n"
      ]
     },
     "metadata": {},
     "output_type": "display_data"
    },
    {
     "data": {
      "text/html": [
       "<pre style=\"white-space:pre;overflow-x:auto;line-height:normal;font-family:Menlo,'DejaVu Sans Mono',consolas,'Courier New',monospace\">Best mean reward: 240.72 - Last mean reward per episode: 241.84\n",
       "</pre>\n"
      ],
      "text/plain": [
       "Best mean reward: 240.72 - Last mean reward per episode: 241.84\n"
      ]
     },
     "metadata": {},
     "output_type": "display_data"
    },
    {
     "data": {
      "text/html": [
       "<pre style=\"white-space:pre;overflow-x:auto;line-height:normal;font-family:Menlo,'DejaVu Sans Mono',consolas,'Courier New',monospace\">Saving new best model to tmp/gym/twoarm_ppo/best_model.zip\n",
       "</pre>\n"
      ],
      "text/plain": [
       "Saving new best model to tmp/gym/twoarm_ppo/best_model.zip\n"
      ]
     },
     "metadata": {},
     "output_type": "display_data"
    },
    {
     "data": {
      "text/html": [
       "<pre style=\"white-space:pre;overflow-x:auto;line-height:normal;font-family:Menlo,'DejaVu Sans Mono',consolas,'Courier New',monospace\">Num timesteps: 106000\n",
       "</pre>\n"
      ],
      "text/plain": [
       "Num timesteps: 106000\n"
      ]
     },
     "metadata": {},
     "output_type": "display_data"
    },
    {
     "data": {
      "text/html": [
       "<pre style=\"white-space:pre;overflow-x:auto;line-height:normal;font-family:Menlo,'DejaVu Sans Mono',consolas,'Courier New',monospace\">Best mean reward: 241.84 - Last mean reward per episode: 242.38\n",
       "</pre>\n"
      ],
      "text/plain": [
       "Best mean reward: 241.84 - Last mean reward per episode: 242.38\n"
      ]
     },
     "metadata": {},
     "output_type": "display_data"
    },
    {
     "data": {
      "text/html": [
       "<pre style=\"white-space:pre;overflow-x:auto;line-height:normal;font-family:Menlo,'DejaVu Sans Mono',consolas,'Courier New',monospace\">Saving new best model to tmp/gym/twoarm_ppo/best_model.zip\n",
       "</pre>\n"
      ],
      "text/plain": [
       "Saving new best model to tmp/gym/twoarm_ppo/best_model.zip\n"
      ]
     },
     "metadata": {},
     "output_type": "display_data"
    },
    {
     "data": {
      "text/html": [
       "<pre style=\"white-space:pre;overflow-x:auto;line-height:normal;font-family:Menlo,'DejaVu Sans Mono',consolas,'Courier New',monospace\">Num timesteps: 107000\n",
       "</pre>\n"
      ],
      "text/plain": [
       "Num timesteps: 107000\n"
      ]
     },
     "metadata": {},
     "output_type": "display_data"
    },
    {
     "data": {
      "text/html": [
       "<pre style=\"white-space:pre;overflow-x:auto;line-height:normal;font-family:Menlo,'DejaVu Sans Mono',consolas,'Courier New',monospace\">Best mean reward: 242.38 - Last mean reward per episode: 242.72\n",
       "</pre>\n"
      ],
      "text/plain": [
       "Best mean reward: 242.38 - Last mean reward per episode: 242.72\n"
      ]
     },
     "metadata": {},
     "output_type": "display_data"
    },
    {
     "data": {
      "text/html": [
       "<pre style=\"white-space:pre;overflow-x:auto;line-height:normal;font-family:Menlo,'DejaVu Sans Mono',consolas,'Courier New',monospace\">Saving new best model to tmp/gym/twoarm_ppo/best_model.zip\n",
       "</pre>\n"
      ],
      "text/plain": [
       "Saving new best model to tmp/gym/twoarm_ppo/best_model.zip\n"
      ]
     },
     "metadata": {},
     "output_type": "display_data"
    },
    {
     "data": {
      "text/html": [
       "<pre style=\"white-space:pre;overflow-x:auto;line-height:normal;font-family:Menlo,'DejaVu Sans Mono',consolas,'Courier New',monospace\">Num timesteps: 108000\n",
       "</pre>\n"
      ],
      "text/plain": [
       "Num timesteps: 108000\n"
      ]
     },
     "metadata": {},
     "output_type": "display_data"
    },
    {
     "data": {
      "text/html": [
       "<pre style=\"white-space:pre;overflow-x:auto;line-height:normal;font-family:Menlo,'DejaVu Sans Mono',consolas,'Courier New',monospace\">Best mean reward: 242.72 - Last mean reward per episode: 243.70\n",
       "</pre>\n"
      ],
      "text/plain": [
       "Best mean reward: 242.72 - Last mean reward per episode: 243.70\n"
      ]
     },
     "metadata": {},
     "output_type": "display_data"
    },
    {
     "data": {
      "text/html": [
       "<pre style=\"white-space:pre;overflow-x:auto;line-height:normal;font-family:Menlo,'DejaVu Sans Mono',consolas,'Courier New',monospace\">Saving new best model to tmp/gym/twoarm_ppo/best_model.zip\n",
       "</pre>\n"
      ],
      "text/plain": [
       "Saving new best model to tmp/gym/twoarm_ppo/best_model.zip\n"
      ]
     },
     "metadata": {},
     "output_type": "display_data"
    },
    {
     "data": {
      "text/html": [
       "<pre style=\"white-space:pre;overflow-x:auto;line-height:normal;font-family:Menlo,'DejaVu Sans Mono',consolas,'Courier New',monospace\">Num timesteps: 109000\n",
       "</pre>\n"
      ],
      "text/plain": [
       "Num timesteps: 109000\n"
      ]
     },
     "metadata": {},
     "output_type": "display_data"
    },
    {
     "data": {
      "text/html": [
       "<pre style=\"white-space:pre;overflow-x:auto;line-height:normal;font-family:Menlo,'DejaVu Sans Mono',consolas,'Courier New',monospace\">Best mean reward: 243.70 - Last mean reward per episode: 244.50\n",
       "</pre>\n"
      ],
      "text/plain": [
       "Best mean reward: 243.70 - Last mean reward per episode: 244.50\n"
      ]
     },
     "metadata": {},
     "output_type": "display_data"
    },
    {
     "data": {
      "text/html": [
       "<pre style=\"white-space:pre;overflow-x:auto;line-height:normal;font-family:Menlo,'DejaVu Sans Mono',consolas,'Courier New',monospace\">Saving new best model to tmp/gym/twoarm_ppo/best_model.zip\n",
       "</pre>\n"
      ],
      "text/plain": [
       "Saving new best model to tmp/gym/twoarm_ppo/best_model.zip\n"
      ]
     },
     "metadata": {},
     "output_type": "display_data"
    },
    {
     "data": {
      "text/html": [
       "<pre style=\"white-space:pre;overflow-x:auto;line-height:normal;font-family:Menlo,'DejaVu Sans Mono',consolas,'Courier New',monospace\">Num timesteps: 110000\n",
       "</pre>\n"
      ],
      "text/plain": [
       "Num timesteps: 110000\n"
      ]
     },
     "metadata": {},
     "output_type": "display_data"
    },
    {
     "data": {
      "text/html": [
       "<pre style=\"white-space:pre;overflow-x:auto;line-height:normal;font-family:Menlo,'DejaVu Sans Mono',consolas,'Courier New',monospace\">Best mean reward: 244.50 - Last mean reward per episode: 244.93\n",
       "</pre>\n"
      ],
      "text/plain": [
       "Best mean reward: 244.50 - Last mean reward per episode: 244.93\n"
      ]
     },
     "metadata": {},
     "output_type": "display_data"
    },
    {
     "data": {
      "text/html": [
       "<pre style=\"white-space:pre;overflow-x:auto;line-height:normal;font-family:Menlo,'DejaVu Sans Mono',consolas,'Courier New',monospace\">Saving new best model to tmp/gym/twoarm_ppo/best_model.zip\n",
       "</pre>\n"
      ],
      "text/plain": [
       "Saving new best model to tmp/gym/twoarm_ppo/best_model.zip\n"
      ]
     },
     "metadata": {},
     "output_type": "display_data"
    },
    {
     "data": {
      "text/html": [
       "<pre style=\"white-space:pre;overflow-x:auto;line-height:normal;font-family:Menlo,'DejaVu Sans Mono',consolas,'Courier New',monospace\">Num timesteps: 111000\n",
       "</pre>\n"
      ],
      "text/plain": [
       "Num timesteps: 111000\n"
      ]
     },
     "metadata": {},
     "output_type": "display_data"
    },
    {
     "data": {
      "text/html": [
       "<pre style=\"white-space:pre;overflow-x:auto;line-height:normal;font-family:Menlo,'DejaVu Sans Mono',consolas,'Courier New',monospace\">Best mean reward: 244.93 - Last mean reward per episode: 246.03\n",
       "</pre>\n"
      ],
      "text/plain": [
       "Best mean reward: 244.93 - Last mean reward per episode: 246.03\n"
      ]
     },
     "metadata": {},
     "output_type": "display_data"
    },
    {
     "data": {
      "text/html": [
       "<pre style=\"white-space:pre;overflow-x:auto;line-height:normal;font-family:Menlo,'DejaVu Sans Mono',consolas,'Courier New',monospace\">Saving new best model to tmp/gym/twoarm_ppo/best_model.zip\n",
       "</pre>\n"
      ],
      "text/plain": [
       "Saving new best model to tmp/gym/twoarm_ppo/best_model.zip\n"
      ]
     },
     "metadata": {},
     "output_type": "display_data"
    },
    {
     "data": {
      "text/html": [
       "<pre style=\"white-space:pre;overflow-x:auto;line-height:normal;font-family:Menlo,'DejaVu Sans Mono',consolas,'Courier New',monospace\">Num timesteps: 112000\n",
       "</pre>\n"
      ],
      "text/plain": [
       "Num timesteps: 112000\n"
      ]
     },
     "metadata": {},
     "output_type": "display_data"
    },
    {
     "data": {
      "text/html": [
       "<pre style=\"white-space:pre;overflow-x:auto;line-height:normal;font-family:Menlo,'DejaVu Sans Mono',consolas,'Courier New',monospace\">Best mean reward: 246.03 - Last mean reward per episode: 246.72\n",
       "</pre>\n"
      ],
      "text/plain": [
       "Best mean reward: 246.03 - Last mean reward per episode: 246.72\n"
      ]
     },
     "metadata": {},
     "output_type": "display_data"
    },
    {
     "data": {
      "text/html": [
       "<pre style=\"white-space:pre;overflow-x:auto;line-height:normal;font-family:Menlo,'DejaVu Sans Mono',consolas,'Courier New',monospace\">Saving new best model to tmp/gym/twoarm_ppo/best_model.zip\n",
       "</pre>\n"
      ],
      "text/plain": [
       "Saving new best model to tmp/gym/twoarm_ppo/best_model.zip\n"
      ]
     },
     "metadata": {},
     "output_type": "display_data"
    },
    {
     "data": {
      "text/html": [
       "<pre style=\"white-space:pre;overflow-x:auto;line-height:normal;font-family:Menlo,'DejaVu Sans Mono',consolas,'Courier New',monospace\">Num timesteps: 113000\n",
       "</pre>\n"
      ],
      "text/plain": [
       "Num timesteps: 113000\n"
      ]
     },
     "metadata": {},
     "output_type": "display_data"
    },
    {
     "data": {
      "text/html": [
       "<pre style=\"white-space:pre;overflow-x:auto;line-height:normal;font-family:Menlo,'DejaVu Sans Mono',consolas,'Courier New',monospace\">Best mean reward: 246.72 - Last mean reward per episode: 247.05\n",
       "</pre>\n"
      ],
      "text/plain": [
       "Best mean reward: 246.72 - Last mean reward per episode: 247.05\n"
      ]
     },
     "metadata": {},
     "output_type": "display_data"
    },
    {
     "data": {
      "text/html": [
       "<pre style=\"white-space:pre;overflow-x:auto;line-height:normal;font-family:Menlo,'DejaVu Sans Mono',consolas,'Courier New',monospace\">Saving new best model to tmp/gym/twoarm_ppo/best_model.zip\n",
       "</pre>\n"
      ],
      "text/plain": [
       "Saving new best model to tmp/gym/twoarm_ppo/best_model.zip\n"
      ]
     },
     "metadata": {},
     "output_type": "display_data"
    },
    {
     "data": {
      "text/html": [
       "<pre style=\"white-space:pre;overflow-x:auto;line-height:normal;font-family:Menlo,'DejaVu Sans Mono',consolas,'Courier New',monospace\">Num timesteps: 114000\n",
       "</pre>\n"
      ],
      "text/plain": [
       "Num timesteps: 114000\n"
      ]
     },
     "metadata": {},
     "output_type": "display_data"
    },
    {
     "data": {
      "text/html": [
       "<pre style=\"white-space:pre;overflow-x:auto;line-height:normal;font-family:Menlo,'DejaVu Sans Mono',consolas,'Courier New',monospace\">Best mean reward: 247.05 - Last mean reward per episode: 247.72\n",
       "</pre>\n"
      ],
      "text/plain": [
       "Best mean reward: 247.05 - Last mean reward per episode: 247.72\n"
      ]
     },
     "metadata": {},
     "output_type": "display_data"
    },
    {
     "data": {
      "text/html": [
       "<pre style=\"white-space:pre;overflow-x:auto;line-height:normal;font-family:Menlo,'DejaVu Sans Mono',consolas,'Courier New',monospace\">Saving new best model to tmp/gym/twoarm_ppo/best_model.zip\n",
       "</pre>\n"
      ],
      "text/plain": [
       "Saving new best model to tmp/gym/twoarm_ppo/best_model.zip\n"
      ]
     },
     "metadata": {},
     "output_type": "display_data"
    },
    {
     "data": {
      "text/html": [
       "<pre style=\"white-space:pre;overflow-x:auto;line-height:normal;font-family:Menlo,'DejaVu Sans Mono',consolas,'Courier New',monospace\">Num timesteps: 115000\n",
       "</pre>\n"
      ],
      "text/plain": [
       "Num timesteps: 115000\n"
      ]
     },
     "metadata": {},
     "output_type": "display_data"
    },
    {
     "data": {
      "text/html": [
       "<pre style=\"white-space:pre;overflow-x:auto;line-height:normal;font-family:Menlo,'DejaVu Sans Mono',consolas,'Courier New',monospace\">Best mean reward: 247.72 - Last mean reward per episode: 248.33\n",
       "</pre>\n"
      ],
      "text/plain": [
       "Best mean reward: 247.72 - Last mean reward per episode: 248.33\n"
      ]
     },
     "metadata": {},
     "output_type": "display_data"
    },
    {
     "data": {
      "text/html": [
       "<pre style=\"white-space:pre;overflow-x:auto;line-height:normal;font-family:Menlo,'DejaVu Sans Mono',consolas,'Courier New',monospace\">Saving new best model to tmp/gym/twoarm_ppo/best_model.zip\n",
       "</pre>\n"
      ],
      "text/plain": [
       "Saving new best model to tmp/gym/twoarm_ppo/best_model.zip\n"
      ]
     },
     "metadata": {},
     "output_type": "display_data"
    },
    {
     "data": {
      "text/html": [
       "<pre style=\"white-space:pre;overflow-x:auto;line-height:normal;font-family:Menlo,'DejaVu Sans Mono',consolas,'Courier New',monospace\">Num timesteps: 116000\n",
       "</pre>\n"
      ],
      "text/plain": [
       "Num timesteps: 116000\n"
      ]
     },
     "metadata": {},
     "output_type": "display_data"
    },
    {
     "data": {
      "text/html": [
       "<pre style=\"white-space:pre;overflow-x:auto;line-height:normal;font-family:Menlo,'DejaVu Sans Mono',consolas,'Courier New',monospace\">Best mean reward: 248.33 - Last mean reward per episode: 249.05\n",
       "</pre>\n"
      ],
      "text/plain": [
       "Best mean reward: 248.33 - Last mean reward per episode: 249.05\n"
      ]
     },
     "metadata": {},
     "output_type": "display_data"
    },
    {
     "data": {
      "text/html": [
       "<pre style=\"white-space:pre;overflow-x:auto;line-height:normal;font-family:Menlo,'DejaVu Sans Mono',consolas,'Courier New',monospace\">Saving new best model to tmp/gym/twoarm_ppo/best_model.zip\n",
       "</pre>\n"
      ],
      "text/plain": [
       "Saving new best model to tmp/gym/twoarm_ppo/best_model.zip\n"
      ]
     },
     "metadata": {},
     "output_type": "display_data"
    },
    {
     "data": {
      "text/html": [
       "<pre style=\"white-space:pre;overflow-x:auto;line-height:normal;font-family:Menlo,'DejaVu Sans Mono',consolas,'Courier New',monospace\">Num timesteps: 117000\n",
       "</pre>\n"
      ],
      "text/plain": [
       "Num timesteps: 117000\n"
      ]
     },
     "metadata": {},
     "output_type": "display_data"
    },
    {
     "data": {
      "text/html": [
       "<pre style=\"white-space:pre;overflow-x:auto;line-height:normal;font-family:Menlo,'DejaVu Sans Mono',consolas,'Courier New',monospace\">Best mean reward: 249.05 - Last mean reward per episode: 249.99\n",
       "</pre>\n"
      ],
      "text/plain": [
       "Best mean reward: 249.05 - Last mean reward per episode: 249.99\n"
      ]
     },
     "metadata": {},
     "output_type": "display_data"
    },
    {
     "data": {
      "text/html": [
       "<pre style=\"white-space:pre;overflow-x:auto;line-height:normal;font-family:Menlo,'DejaVu Sans Mono',consolas,'Courier New',monospace\">Saving new best model to tmp/gym/twoarm_ppo/best_model.zip\n",
       "</pre>\n"
      ],
      "text/plain": [
       "Saving new best model to tmp/gym/twoarm_ppo/best_model.zip\n"
      ]
     },
     "metadata": {},
     "output_type": "display_data"
    },
    {
     "data": {
      "text/html": [
       "<pre style=\"white-space:pre;overflow-x:auto;line-height:normal;font-family:Menlo,'DejaVu Sans Mono',consolas,'Courier New',monospace\">Num timesteps: 118000\n",
       "</pre>\n"
      ],
      "text/plain": [
       "Num timesteps: 118000\n"
      ]
     },
     "metadata": {},
     "output_type": "display_data"
    },
    {
     "data": {
      "text/html": [
       "<pre style=\"white-space:pre;overflow-x:auto;line-height:normal;font-family:Menlo,'DejaVu Sans Mono',consolas,'Courier New',monospace\">Best mean reward: 249.99 - Last mean reward per episode: 251.12\n",
       "</pre>\n"
      ],
      "text/plain": [
       "Best mean reward: 249.99 - Last mean reward per episode: 251.12\n"
      ]
     },
     "metadata": {},
     "output_type": "display_data"
    },
    {
     "data": {
      "text/html": [
       "<pre style=\"white-space:pre;overflow-x:auto;line-height:normal;font-family:Menlo,'DejaVu Sans Mono',consolas,'Courier New',monospace\">Saving new best model to tmp/gym/twoarm_ppo/best_model.zip\n",
       "</pre>\n"
      ],
      "text/plain": [
       "Saving new best model to tmp/gym/twoarm_ppo/best_model.zip\n"
      ]
     },
     "metadata": {},
     "output_type": "display_data"
    },
    {
     "data": {
      "text/html": [
       "<pre style=\"white-space:pre;overflow-x:auto;line-height:normal;font-family:Menlo,'DejaVu Sans Mono',consolas,'Courier New',monospace\">Num timesteps: 119000\n",
       "</pre>\n"
      ],
      "text/plain": [
       "Num timesteps: 119000\n"
      ]
     },
     "metadata": {},
     "output_type": "display_data"
    },
    {
     "data": {
      "text/html": [
       "<pre style=\"white-space:pre;overflow-x:auto;line-height:normal;font-family:Menlo,'DejaVu Sans Mono',consolas,'Courier New',monospace\">Best mean reward: 251.12 - Last mean reward per episode: 251.29\n",
       "</pre>\n"
      ],
      "text/plain": [
       "Best mean reward: 251.12 - Last mean reward per episode: 251.29\n"
      ]
     },
     "metadata": {},
     "output_type": "display_data"
    },
    {
     "data": {
      "text/html": [
       "<pre style=\"white-space:pre;overflow-x:auto;line-height:normal;font-family:Menlo,'DejaVu Sans Mono',consolas,'Courier New',monospace\">Saving new best model to tmp/gym/twoarm_ppo/best_model.zip\n",
       "</pre>\n"
      ],
      "text/plain": [
       "Saving new best model to tmp/gym/twoarm_ppo/best_model.zip\n"
      ]
     },
     "metadata": {},
     "output_type": "display_data"
    },
    {
     "data": {
      "text/html": [
       "<pre style=\"white-space:pre;overflow-x:auto;line-height:normal;font-family:Menlo,'DejaVu Sans Mono',consolas,'Courier New',monospace\">Num timesteps: 120000\n",
       "</pre>\n"
      ],
      "text/plain": [
       "Num timesteps: 120000\n"
      ]
     },
     "metadata": {},
     "output_type": "display_data"
    },
    {
     "data": {
      "text/html": [
       "<pre style=\"white-space:pre;overflow-x:auto;line-height:normal;font-family:Menlo,'DejaVu Sans Mono',consolas,'Courier New',monospace\">Best mean reward: 251.29 - Last mean reward per episode: 250.98\n",
       "</pre>\n"
      ],
      "text/plain": [
       "Best mean reward: 251.29 - Last mean reward per episode: 250.98\n"
      ]
     },
     "metadata": {},
     "output_type": "display_data"
    },
    {
     "data": {
      "text/html": [
       "<pre style=\"white-space:pre;overflow-x:auto;line-height:normal;font-family:Menlo,'DejaVu Sans Mono',consolas,'Courier New',monospace\">Num timesteps: 121000\n",
       "</pre>\n"
      ],
      "text/plain": [
       "Num timesteps: 121000\n"
      ]
     },
     "metadata": {},
     "output_type": "display_data"
    },
    {
     "data": {
      "text/html": [
       "<pre style=\"white-space:pre;overflow-x:auto;line-height:normal;font-family:Menlo,'DejaVu Sans Mono',consolas,'Courier New',monospace\">Best mean reward: 251.29 - Last mean reward per episode: 250.06\n",
       "</pre>\n"
      ],
      "text/plain": [
       "Best mean reward: 251.29 - Last mean reward per episode: 250.06\n"
      ]
     },
     "metadata": {},
     "output_type": "display_data"
    },
    {
     "data": {
      "text/html": [
       "<pre style=\"white-space:pre;overflow-x:auto;line-height:normal;font-family:Menlo,'DejaVu Sans Mono',consolas,'Courier New',monospace\">Num timesteps: 122000\n",
       "</pre>\n"
      ],
      "text/plain": [
       "Num timesteps: 122000\n"
      ]
     },
     "metadata": {},
     "output_type": "display_data"
    },
    {
     "data": {
      "text/html": [
       "<pre style=\"white-space:pre;overflow-x:auto;line-height:normal;font-family:Menlo,'DejaVu Sans Mono',consolas,'Courier New',monospace\">Best mean reward: 251.29 - Last mean reward per episode: 249.80\n",
       "</pre>\n"
      ],
      "text/plain": [
       "Best mean reward: 251.29 - Last mean reward per episode: 249.80\n"
      ]
     },
     "metadata": {},
     "output_type": "display_data"
    },
    {
     "name": "stdout",
     "output_type": "stream",
     "text": [
      "-----------------------------------------\n",
      "| rollout/                |             |\n",
      "|    ep_len_mean          | 500         |\n",
      "|    ep_rew_mean          | 249         |\n",
      "| time/                   |             |\n",
      "|    fps                  | 76          |\n",
      "|    iterations           | 60          |\n",
      "|    time_elapsed         | 1603        |\n",
      "|    total_timesteps      | 122880      |\n",
      "| train/                  |             |\n",
      "|    approx_kl            | 0.032504156 |\n",
      "|    clip_fraction        | 0.402       |\n",
      "|    clip_range           | 0.2         |\n",
      "|    entropy_loss         | -17         |\n",
      "|    explained_variance   | 0.796       |\n",
      "|    learning_rate        | 0.0003      |\n",
      "|    loss                 | 0.827       |\n",
      "|    n_updates            | 590         |\n",
      "|    policy_gradient_loss | -0.00782    |\n",
      "|    std                  | 0.998       |\n",
      "|    value_loss           | 4.8         |\n",
      "-----------------------------------------\n"
     ]
    },
    {
     "data": {
      "text/html": [
       "<pre style=\"white-space:pre;overflow-x:auto;line-height:normal;font-family:Menlo,'DejaVu Sans Mono',consolas,'Courier New',monospace\">Num timesteps: 123000\n",
       "</pre>\n"
      ],
      "text/plain": [
       "Num timesteps: 123000\n"
      ]
     },
     "metadata": {},
     "output_type": "display_data"
    },
    {
     "data": {
      "text/html": [
       "<pre style=\"white-space:pre;overflow-x:auto;line-height:normal;font-family:Menlo,'DejaVu Sans Mono',consolas,'Courier New',monospace\">Best mean reward: 251.29 - Last mean reward per episode: 249.09\n",
       "</pre>\n"
      ],
      "text/plain": [
       "Best mean reward: 251.29 - Last mean reward per episode: 249.09\n"
      ]
     },
     "metadata": {},
     "output_type": "display_data"
    },
    {
     "data": {
      "text/html": [
       "<pre style=\"white-space:pre;overflow-x:auto;line-height:normal;font-family:Menlo,'DejaVu Sans Mono',consolas,'Courier New',monospace\">Num timesteps: 124000\n",
       "</pre>\n"
      ],
      "text/plain": [
       "Num timesteps: 124000\n"
      ]
     },
     "metadata": {},
     "output_type": "display_data"
    },
    {
     "data": {
      "text/html": [
       "<pre style=\"white-space:pre;overflow-x:auto;line-height:normal;font-family:Menlo,'DejaVu Sans Mono',consolas,'Courier New',monospace\">Best mean reward: 251.29 - Last mean reward per episode: 248.70\n",
       "</pre>\n"
      ],
      "text/plain": [
       "Best mean reward: 251.29 - Last mean reward per episode: 248.70\n"
      ]
     },
     "metadata": {},
     "output_type": "display_data"
    },
    {
     "data": {
      "text/html": [
       "<pre style=\"white-space:pre;overflow-x:auto;line-height:normal;font-family:Menlo,'DejaVu Sans Mono',consolas,'Courier New',monospace\">Num timesteps: 125000\n",
       "</pre>\n"
      ],
      "text/plain": [
       "Num timesteps: 125000\n"
      ]
     },
     "metadata": {},
     "output_type": "display_data"
    },
    {
     "data": {
      "text/html": [
       "<pre style=\"white-space:pre;overflow-x:auto;line-height:normal;font-family:Menlo,'DejaVu Sans Mono',consolas,'Courier New',monospace\">Best mean reward: 251.29 - Last mean reward per episode: 248.74\n",
       "</pre>\n"
      ],
      "text/plain": [
       "Best mean reward: 251.29 - Last mean reward per episode: 248.74\n"
      ]
     },
     "metadata": {},
     "output_type": "display_data"
    },
    {
     "data": {
      "text/html": [
       "<pre style=\"white-space:pre;overflow-x:auto;line-height:normal;font-family:Menlo,'DejaVu Sans Mono',consolas,'Courier New',monospace\">Num timesteps: 126000\n",
       "</pre>\n"
      ],
      "text/plain": [
       "Num timesteps: 126000\n"
      ]
     },
     "metadata": {},
     "output_type": "display_data"
    },
    {
     "data": {
      "text/html": [
       "<pre style=\"white-space:pre;overflow-x:auto;line-height:normal;font-family:Menlo,'DejaVu Sans Mono',consolas,'Courier New',monospace\">Best mean reward: 251.29 - Last mean reward per episode: 248.29\n",
       "</pre>\n"
      ],
      "text/plain": [
       "Best mean reward: 251.29 - Last mean reward per episode: 248.29\n"
      ]
     },
     "metadata": {},
     "output_type": "display_data"
    },
    {
     "data": {
      "text/html": [
       "<pre style=\"white-space:pre;overflow-x:auto;line-height:normal;font-family:Menlo,'DejaVu Sans Mono',consolas,'Courier New',monospace\">Num timesteps: 127000\n",
       "</pre>\n"
      ],
      "text/plain": [
       "Num timesteps: 127000\n"
      ]
     },
     "metadata": {},
     "output_type": "display_data"
    },
    {
     "data": {
      "text/html": [
       "<pre style=\"white-space:pre;overflow-x:auto;line-height:normal;font-family:Menlo,'DejaVu Sans Mono',consolas,'Courier New',monospace\">Best mean reward: 251.29 - Last mean reward per episode: 248.10\n",
       "</pre>\n"
      ],
      "text/plain": [
       "Best mean reward: 251.29 - Last mean reward per episode: 248.10\n"
      ]
     },
     "metadata": {},
     "output_type": "display_data"
    },
    {
     "data": {
      "text/html": [
       "<pre style=\"white-space:pre;overflow-x:auto;line-height:normal;font-family:Menlo,'DejaVu Sans Mono',consolas,'Courier New',monospace\">Num timesteps: 128000\n",
       "</pre>\n"
      ],
      "text/plain": [
       "Num timesteps: 128000\n"
      ]
     },
     "metadata": {},
     "output_type": "display_data"
    },
    {
     "data": {
      "text/html": [
       "<pre style=\"white-space:pre;overflow-x:auto;line-height:normal;font-family:Menlo,'DejaVu Sans Mono',consolas,'Courier New',monospace\">Best mean reward: 251.29 - Last mean reward per episode: 248.34\n",
       "</pre>\n"
      ],
      "text/plain": [
       "Best mean reward: 251.29 - Last mean reward per episode: 248.34\n"
      ]
     },
     "metadata": {},
     "output_type": "display_data"
    },
    {
     "data": {
      "text/html": [
       "<pre style=\"white-space:pre;overflow-x:auto;line-height:normal;font-family:Menlo,'DejaVu Sans Mono',consolas,'Courier New',monospace\">Num timesteps: 129000\n",
       "</pre>\n"
      ],
      "text/plain": [
       "Num timesteps: 129000\n"
      ]
     },
     "metadata": {},
     "output_type": "display_data"
    },
    {
     "data": {
      "text/html": [
       "<pre style=\"white-space:pre;overflow-x:auto;line-height:normal;font-family:Menlo,'DejaVu Sans Mono',consolas,'Courier New',monospace\">Best mean reward: 251.29 - Last mean reward per episode: 248.44\n",
       "</pre>\n"
      ],
      "text/plain": [
       "Best mean reward: 251.29 - Last mean reward per episode: 248.44\n"
      ]
     },
     "metadata": {},
     "output_type": "display_data"
    },
    {
     "data": {
      "text/html": [
       "<pre style=\"white-space:pre;overflow-x:auto;line-height:normal;font-family:Menlo,'DejaVu Sans Mono',consolas,'Courier New',monospace\">Num timesteps: 130000\n",
       "</pre>\n"
      ],
      "text/plain": [
       "Num timesteps: 130000\n"
      ]
     },
     "metadata": {},
     "output_type": "display_data"
    },
    {
     "data": {
      "text/html": [
       "<pre style=\"white-space:pre;overflow-x:auto;line-height:normal;font-family:Menlo,'DejaVu Sans Mono',consolas,'Courier New',monospace\">Best mean reward: 251.29 - Last mean reward per episode: 248.83\n",
       "</pre>\n"
      ],
      "text/plain": [
       "Best mean reward: 251.29 - Last mean reward per episode: 248.83\n"
      ]
     },
     "metadata": {},
     "output_type": "display_data"
    },
    {
     "data": {
      "text/html": [
       "<pre style=\"white-space:pre;overflow-x:auto;line-height:normal;font-family:Menlo,'DejaVu Sans Mono',consolas,'Courier New',monospace\">Num timesteps: 131000\n",
       "</pre>\n"
      ],
      "text/plain": [
       "Num timesteps: 131000\n"
      ]
     },
     "metadata": {},
     "output_type": "display_data"
    },
    {
     "data": {
      "text/html": [
       "<pre style=\"white-space:pre;overflow-x:auto;line-height:normal;font-family:Menlo,'DejaVu Sans Mono',consolas,'Courier New',monospace\">Best mean reward: 251.29 - Last mean reward per episode: 248.09\n",
       "</pre>\n"
      ],
      "text/plain": [
       "Best mean reward: 251.29 - Last mean reward per episode: 248.09\n"
      ]
     },
     "metadata": {},
     "output_type": "display_data"
    },
    {
     "data": {
      "text/html": [
       "<pre style=\"white-space:pre;overflow-x:auto;line-height:normal;font-family:Menlo,'DejaVu Sans Mono',consolas,'Courier New',monospace\">Num timesteps: 132000\n",
       "</pre>\n"
      ],
      "text/plain": [
       "Num timesteps: 132000\n"
      ]
     },
     "metadata": {},
     "output_type": "display_data"
    },
    {
     "data": {
      "text/html": [
       "<pre style=\"white-space:pre;overflow-x:auto;line-height:normal;font-family:Menlo,'DejaVu Sans Mono',consolas,'Courier New',monospace\">Best mean reward: 251.29 - Last mean reward per episode: 247.64\n",
       "</pre>\n"
      ],
      "text/plain": [
       "Best mean reward: 251.29 - Last mean reward per episode: 247.64\n"
      ]
     },
     "metadata": {},
     "output_type": "display_data"
    },
    {
     "data": {
      "text/html": [
       "<pre style=\"white-space:pre;overflow-x:auto;line-height:normal;font-family:Menlo,'DejaVu Sans Mono',consolas,'Courier New',monospace\">Num timesteps: 133000\n",
       "</pre>\n"
      ],
      "text/plain": [
       "Num timesteps: 133000\n"
      ]
     },
     "metadata": {},
     "output_type": "display_data"
    },
    {
     "data": {
      "text/html": [
       "<pre style=\"white-space:pre;overflow-x:auto;line-height:normal;font-family:Menlo,'DejaVu Sans Mono',consolas,'Courier New',monospace\">Best mean reward: 251.29 - Last mean reward per episode: 247.90\n",
       "</pre>\n"
      ],
      "text/plain": [
       "Best mean reward: 251.29 - Last mean reward per episode: 247.90\n"
      ]
     },
     "metadata": {},
     "output_type": "display_data"
    },
    {
     "data": {
      "text/html": [
       "<pre style=\"white-space:pre;overflow-x:auto;line-height:normal;font-family:Menlo,'DejaVu Sans Mono',consolas,'Courier New',monospace\">Num timesteps: 134000\n",
       "</pre>\n"
      ],
      "text/plain": [
       "Num timesteps: 134000\n"
      ]
     },
     "metadata": {},
     "output_type": "display_data"
    },
    {
     "data": {
      "text/html": [
       "<pre style=\"white-space:pre;overflow-x:auto;line-height:normal;font-family:Menlo,'DejaVu Sans Mono',consolas,'Courier New',monospace\">Best mean reward: 251.29 - Last mean reward per episode: 247.72\n",
       "</pre>\n"
      ],
      "text/plain": [
       "Best mean reward: 251.29 - Last mean reward per episode: 247.72\n"
      ]
     },
     "metadata": {},
     "output_type": "display_data"
    },
    {
     "data": {
      "text/html": [
       "<pre style=\"white-space:pre;overflow-x:auto;line-height:normal;font-family:Menlo,'DejaVu Sans Mono',consolas,'Courier New',monospace\">Num timesteps: 135000\n",
       "</pre>\n"
      ],
      "text/plain": [
       "Num timesteps: 135000\n"
      ]
     },
     "metadata": {},
     "output_type": "display_data"
    },
    {
     "data": {
      "text/html": [
       "<pre style=\"white-space:pre;overflow-x:auto;line-height:normal;font-family:Menlo,'DejaVu Sans Mono',consolas,'Courier New',monospace\">Best mean reward: 251.29 - Last mean reward per episode: 247.47\n",
       "</pre>\n"
      ],
      "text/plain": [
       "Best mean reward: 251.29 - Last mean reward per episode: 247.47\n"
      ]
     },
     "metadata": {},
     "output_type": "display_data"
    },
    {
     "data": {
      "text/html": [
       "<pre style=\"white-space:pre;overflow-x:auto;line-height:normal;font-family:Menlo,'DejaVu Sans Mono',consolas,'Courier New',monospace\">Num timesteps: 136000\n",
       "</pre>\n"
      ],
      "text/plain": [
       "Num timesteps: 136000\n"
      ]
     },
     "metadata": {},
     "output_type": "display_data"
    },
    {
     "data": {
      "text/html": [
       "<pre style=\"white-space:pre;overflow-x:auto;line-height:normal;font-family:Menlo,'DejaVu Sans Mono',consolas,'Courier New',monospace\">Best mean reward: 251.29 - Last mean reward per episode: 248.34\n",
       "</pre>\n"
      ],
      "text/plain": [
       "Best mean reward: 251.29 - Last mean reward per episode: 248.34\n"
      ]
     },
     "metadata": {},
     "output_type": "display_data"
    },
    {
     "data": {
      "text/html": [
       "<pre style=\"white-space:pre;overflow-x:auto;line-height:normal;font-family:Menlo,'DejaVu Sans Mono',consolas,'Courier New',monospace\">Num timesteps: 137000\n",
       "</pre>\n"
      ],
      "text/plain": [
       "Num timesteps: 137000\n"
      ]
     },
     "metadata": {},
     "output_type": "display_data"
    },
    {
     "data": {
      "text/html": [
       "<pre style=\"white-space:pre;overflow-x:auto;line-height:normal;font-family:Menlo,'DejaVu Sans Mono',consolas,'Courier New',monospace\">Best mean reward: 251.29 - Last mean reward per episode: 248.23\n",
       "</pre>\n"
      ],
      "text/plain": [
       "Best mean reward: 251.29 - Last mean reward per episode: 248.23\n"
      ]
     },
     "metadata": {},
     "output_type": "display_data"
    },
    {
     "data": {
      "text/html": [
       "<pre style=\"white-space:pre;overflow-x:auto;line-height:normal;font-family:Menlo,'DejaVu Sans Mono',consolas,'Courier New',monospace\">Num timesteps: 138000\n",
       "</pre>\n"
      ],
      "text/plain": [
       "Num timesteps: 138000\n"
      ]
     },
     "metadata": {},
     "output_type": "display_data"
    },
    {
     "data": {
      "text/html": [
       "<pre style=\"white-space:pre;overflow-x:auto;line-height:normal;font-family:Menlo,'DejaVu Sans Mono',consolas,'Courier New',monospace\">Best mean reward: 251.29 - Last mean reward per episode: 249.10\n",
       "</pre>\n"
      ],
      "text/plain": [
       "Best mean reward: 251.29 - Last mean reward per episode: 249.10\n"
      ]
     },
     "metadata": {},
     "output_type": "display_data"
    },
    {
     "data": {
      "text/html": [
       "<pre style=\"white-space:pre;overflow-x:auto;line-height:normal;font-family:Menlo,'DejaVu Sans Mono',consolas,'Courier New',monospace\">Num timesteps: 139000\n",
       "</pre>\n"
      ],
      "text/plain": [
       "Num timesteps: 139000\n"
      ]
     },
     "metadata": {},
     "output_type": "display_data"
    },
    {
     "data": {
      "text/html": [
       "<pre style=\"white-space:pre;overflow-x:auto;line-height:normal;font-family:Menlo,'DejaVu Sans Mono',consolas,'Courier New',monospace\">Best mean reward: 251.29 - Last mean reward per episode: 248.18\n",
       "</pre>\n"
      ],
      "text/plain": [
       "Best mean reward: 251.29 - Last mean reward per episode: 248.18\n"
      ]
     },
     "metadata": {},
     "output_type": "display_data"
    },
    {
     "data": {
      "text/html": [
       "<pre style=\"white-space:pre;overflow-x:auto;line-height:normal;font-family:Menlo,'DejaVu Sans Mono',consolas,'Courier New',monospace\">Num timesteps: 140000\n",
       "</pre>\n"
      ],
      "text/plain": [
       "Num timesteps: 140000\n"
      ]
     },
     "metadata": {},
     "output_type": "display_data"
    },
    {
     "data": {
      "text/html": [
       "<pre style=\"white-space:pre;overflow-x:auto;line-height:normal;font-family:Menlo,'DejaVu Sans Mono',consolas,'Courier New',monospace\">Best mean reward: 251.29 - Last mean reward per episode: 248.38\n",
       "</pre>\n"
      ],
      "text/plain": [
       "Best mean reward: 251.29 - Last mean reward per episode: 248.38\n"
      ]
     },
     "metadata": {},
     "output_type": "display_data"
    },
    {
     "data": {
      "text/html": [
       "<pre style=\"white-space:pre;overflow-x:auto;line-height:normal;font-family:Menlo,'DejaVu Sans Mono',consolas,'Courier New',monospace\">Num timesteps: 141000\n",
       "</pre>\n"
      ],
      "text/plain": [
       "Num timesteps: 141000\n"
      ]
     },
     "metadata": {},
     "output_type": "display_data"
    },
    {
     "data": {
      "text/html": [
       "<pre style=\"white-space:pre;overflow-x:auto;line-height:normal;font-family:Menlo,'DejaVu Sans Mono',consolas,'Courier New',monospace\">Best mean reward: 251.29 - Last mean reward per episode: 248.59\n",
       "</pre>\n"
      ],
      "text/plain": [
       "Best mean reward: 251.29 - Last mean reward per episode: 248.59\n"
      ]
     },
     "metadata": {},
     "output_type": "display_data"
    },
    {
     "data": {
      "text/html": [
       "<pre style=\"white-space:pre;overflow-x:auto;line-height:normal;font-family:Menlo,'DejaVu Sans Mono',consolas,'Courier New',monospace\">Num timesteps: 142000\n",
       "</pre>\n"
      ],
      "text/plain": [
       "Num timesteps: 142000\n"
      ]
     },
     "metadata": {},
     "output_type": "display_data"
    },
    {
     "data": {
      "text/html": [
       "<pre style=\"white-space:pre;overflow-x:auto;line-height:normal;font-family:Menlo,'DejaVu Sans Mono',consolas,'Courier New',monospace\">Best mean reward: 251.29 - Last mean reward per episode: 249.68\n",
       "</pre>\n"
      ],
      "text/plain": [
       "Best mean reward: 251.29 - Last mean reward per episode: 249.68\n"
      ]
     },
     "metadata": {},
     "output_type": "display_data"
    },
    {
     "data": {
      "text/html": [
       "<pre style=\"white-space:pre;overflow-x:auto;line-height:normal;font-family:Menlo,'DejaVu Sans Mono',consolas,'Courier New',monospace\">Num timesteps: 143000\n",
       "</pre>\n"
      ],
      "text/plain": [
       "Num timesteps: 143000\n"
      ]
     },
     "metadata": {},
     "output_type": "display_data"
    },
    {
     "data": {
      "text/html": [
       "<pre style=\"white-space:pre;overflow-x:auto;line-height:normal;font-family:Menlo,'DejaVu Sans Mono',consolas,'Courier New',monospace\">Best mean reward: 251.29 - Last mean reward per episode: 249.97\n",
       "</pre>\n"
      ],
      "text/plain": [
       "Best mean reward: 251.29 - Last mean reward per episode: 249.97\n"
      ]
     },
     "metadata": {},
     "output_type": "display_data"
    },
    {
     "name": "stdout",
     "output_type": "stream",
     "text": [
      "----------------------------------------\n",
      "| rollout/                |            |\n",
      "|    ep_len_mean          | 500        |\n",
      "|    ep_rew_mean          | 250        |\n",
      "| time/                   |            |\n",
      "|    fps                  | 76         |\n",
      "|    iterations           | 70         |\n",
      "|    time_elapsed         | 1880       |\n",
      "|    total_timesteps      | 143360     |\n",
      "| train/                  |            |\n",
      "|    approx_kl            | 0.03863416 |\n",
      "|    clip_fraction        | 0.361      |\n",
      "|    clip_range           | 0.2        |\n",
      "|    entropy_loss         | -17.1      |\n",
      "|    explained_variance   | 0.936      |\n",
      "|    learning_rate        | 0.0003     |\n",
      "|    loss                 | 0.233      |\n",
      "|    n_updates            | 690        |\n",
      "|    policy_gradient_loss | -0.0168    |\n",
      "|    std                  | 1.01       |\n",
      "|    value_loss           | 2.34       |\n",
      "----------------------------------------\n"
     ]
    },
    {
     "data": {
      "text/html": [
       "<pre style=\"white-space:pre;overflow-x:auto;line-height:normal;font-family:Menlo,'DejaVu Sans Mono',consolas,'Courier New',monospace\">Num timesteps: 144000\n",
       "</pre>\n"
      ],
      "text/plain": [
       "Num timesteps: 144000\n"
      ]
     },
     "metadata": {},
     "output_type": "display_data"
    },
    {
     "data": {
      "text/html": [
       "<pre style=\"white-space:pre;overflow-x:auto;line-height:normal;font-family:Menlo,'DejaVu Sans Mono',consolas,'Courier New',monospace\">Best mean reward: 251.29 - Last mean reward per episode: 250.47\n",
       "</pre>\n"
      ],
      "text/plain": [
       "Best mean reward: 251.29 - Last mean reward per episode: 250.47\n"
      ]
     },
     "metadata": {},
     "output_type": "display_data"
    },
    {
     "data": {
      "text/html": [
       "<pre style=\"white-space:pre;overflow-x:auto;line-height:normal;font-family:Menlo,'DejaVu Sans Mono',consolas,'Courier New',monospace\">Num timesteps: 145000\n",
       "</pre>\n"
      ],
      "text/plain": [
       "Num timesteps: 145000\n"
      ]
     },
     "metadata": {},
     "output_type": "display_data"
    },
    {
     "data": {
      "text/html": [
       "<pre style=\"white-space:pre;overflow-x:auto;line-height:normal;font-family:Menlo,'DejaVu Sans Mono',consolas,'Courier New',monospace\">Best mean reward: 251.29 - Last mean reward per episode: 250.27\n",
       "</pre>\n"
      ],
      "text/plain": [
       "Best mean reward: 251.29 - Last mean reward per episode: 250.27\n"
      ]
     },
     "metadata": {},
     "output_type": "display_data"
    },
    {
     "data": {
      "text/html": [
       "<pre style=\"white-space:pre;overflow-x:auto;line-height:normal;font-family:Menlo,'DejaVu Sans Mono',consolas,'Courier New',monospace\">Num timesteps: 146000\n",
       "</pre>\n"
      ],
      "text/plain": [
       "Num timesteps: 146000\n"
      ]
     },
     "metadata": {},
     "output_type": "display_data"
    },
    {
     "data": {
      "text/html": [
       "<pre style=\"white-space:pre;overflow-x:auto;line-height:normal;font-family:Menlo,'DejaVu Sans Mono',consolas,'Courier New',monospace\">Best mean reward: 251.29 - Last mean reward per episode: 250.43\n",
       "</pre>\n"
      ],
      "text/plain": [
       "Best mean reward: 251.29 - Last mean reward per episode: 250.43\n"
      ]
     },
     "metadata": {},
     "output_type": "display_data"
    },
    {
     "data": {
      "text/html": [
       "<pre style=\"white-space:pre;overflow-x:auto;line-height:normal;font-family:Menlo,'DejaVu Sans Mono',consolas,'Courier New',monospace\">Num timesteps: 147000\n",
       "</pre>\n"
      ],
      "text/plain": [
       "Num timesteps: 147000\n"
      ]
     },
     "metadata": {},
     "output_type": "display_data"
    },
    {
     "data": {
      "text/html": [
       "<pre style=\"white-space:pre;overflow-x:auto;line-height:normal;font-family:Menlo,'DejaVu Sans Mono',consolas,'Courier New',monospace\">Best mean reward: 251.29 - Last mean reward per episode: 250.83\n",
       "</pre>\n"
      ],
      "text/plain": [
       "Best mean reward: 251.29 - Last mean reward per episode: 250.83\n"
      ]
     },
     "metadata": {},
     "output_type": "display_data"
    },
    {
     "data": {
      "text/html": [
       "<pre style=\"white-space:pre;overflow-x:auto;line-height:normal;font-family:Menlo,'DejaVu Sans Mono',consolas,'Courier New',monospace\">Num timesteps: 148000\n",
       "</pre>\n"
      ],
      "text/plain": [
       "Num timesteps: 148000\n"
      ]
     },
     "metadata": {},
     "output_type": "display_data"
    },
    {
     "data": {
      "text/html": [
       "<pre style=\"white-space:pre;overflow-x:auto;line-height:normal;font-family:Menlo,'DejaVu Sans Mono',consolas,'Courier New',monospace\">Best mean reward: 251.29 - Last mean reward per episode: 251.32\n",
       "</pre>\n"
      ],
      "text/plain": [
       "Best mean reward: 251.29 - Last mean reward per episode: 251.32\n"
      ]
     },
     "metadata": {},
     "output_type": "display_data"
    },
    {
     "data": {
      "text/html": [
       "<pre style=\"white-space:pre;overflow-x:auto;line-height:normal;font-family:Menlo,'DejaVu Sans Mono',consolas,'Courier New',monospace\">Saving new best model to tmp/gym/twoarm_ppo/best_model.zip\n",
       "</pre>\n"
      ],
      "text/plain": [
       "Saving new best model to tmp/gym/twoarm_ppo/best_model.zip\n"
      ]
     },
     "metadata": {},
     "output_type": "display_data"
    },
    {
     "data": {
      "text/html": [
       "<pre style=\"white-space:pre;overflow-x:auto;line-height:normal;font-family:Menlo,'DejaVu Sans Mono',consolas,'Courier New',monospace\">Num timesteps: 149000\n",
       "</pre>\n"
      ],
      "text/plain": [
       "Num timesteps: 149000\n"
      ]
     },
     "metadata": {},
     "output_type": "display_data"
    },
    {
     "data": {
      "text/html": [
       "<pre style=\"white-space:pre;overflow-x:auto;line-height:normal;font-family:Menlo,'DejaVu Sans Mono',consolas,'Courier New',monospace\">Best mean reward: 251.32 - Last mean reward per episode: 251.49\n",
       "</pre>\n"
      ],
      "text/plain": [
       "Best mean reward: 251.32 - Last mean reward per episode: 251.49\n"
      ]
     },
     "metadata": {},
     "output_type": "display_data"
    },
    {
     "data": {
      "text/html": [
       "<pre style=\"white-space:pre;overflow-x:auto;line-height:normal;font-family:Menlo,'DejaVu Sans Mono',consolas,'Courier New',monospace\">Saving new best model to tmp/gym/twoarm_ppo/best_model.zip\n",
       "</pre>\n"
      ],
      "text/plain": [
       "Saving new best model to tmp/gym/twoarm_ppo/best_model.zip\n"
      ]
     },
     "metadata": {},
     "output_type": "display_data"
    },
    {
     "data": {
      "text/html": [
       "<pre style=\"white-space:pre;overflow-x:auto;line-height:normal;font-family:Menlo,'DejaVu Sans Mono',consolas,'Courier New',monospace\">Num timesteps: 150000\n",
       "</pre>\n"
      ],
      "text/plain": [
       "Num timesteps: 150000\n"
      ]
     },
     "metadata": {},
     "output_type": "display_data"
    },
    {
     "data": {
      "text/html": [
       "<pre style=\"white-space:pre;overflow-x:auto;line-height:normal;font-family:Menlo,'DejaVu Sans Mono',consolas,'Courier New',monospace\">Best mean reward: 251.49 - Last mean reward per episode: 251.79\n",
       "</pre>\n"
      ],
      "text/plain": [
       "Best mean reward: 251.49 - Last mean reward per episode: 251.79\n"
      ]
     },
     "metadata": {},
     "output_type": "display_data"
    },
    {
     "data": {
      "text/html": [
       "<pre style=\"white-space:pre;overflow-x:auto;line-height:normal;font-family:Menlo,'DejaVu Sans Mono',consolas,'Courier New',monospace\">Saving new best model to tmp/gym/twoarm_ppo/best_model.zip\n",
       "</pre>\n"
      ],
      "text/plain": [
       "Saving new best model to tmp/gym/twoarm_ppo/best_model.zip\n"
      ]
     },
     "metadata": {},
     "output_type": "display_data"
    },
    {
     "data": {
      "text/html": [
       "<pre style=\"white-space:pre;overflow-x:auto;line-height:normal;font-family:Menlo,'DejaVu Sans Mono',consolas,'Courier New',monospace\">Num timesteps: 151000\n",
       "</pre>\n"
      ],
      "text/plain": [
       "Num timesteps: 151000\n"
      ]
     },
     "metadata": {},
     "output_type": "display_data"
    },
    {
     "data": {
      "text/html": [
       "<pre style=\"white-space:pre;overflow-x:auto;line-height:normal;font-family:Menlo,'DejaVu Sans Mono',consolas,'Courier New',monospace\">Best mean reward: 251.79 - Last mean reward per episode: 252.31\n",
       "</pre>\n"
      ],
      "text/plain": [
       "Best mean reward: 251.79 - Last mean reward per episode: 252.31\n"
      ]
     },
     "metadata": {},
     "output_type": "display_data"
    },
    {
     "data": {
      "text/html": [
       "<pre style=\"white-space:pre;overflow-x:auto;line-height:normal;font-family:Menlo,'DejaVu Sans Mono',consolas,'Courier New',monospace\">Saving new best model to tmp/gym/twoarm_ppo/best_model.zip\n",
       "</pre>\n"
      ],
      "text/plain": [
       "Saving new best model to tmp/gym/twoarm_ppo/best_model.zip\n"
      ]
     },
     "metadata": {},
     "output_type": "display_data"
    },
    {
     "data": {
      "text/html": [
       "<pre style=\"white-space:pre;overflow-x:auto;line-height:normal;font-family:Menlo,'DejaVu Sans Mono',consolas,'Courier New',monospace\">Num timesteps: 152000\n",
       "</pre>\n"
      ],
      "text/plain": [
       "Num timesteps: 152000\n"
      ]
     },
     "metadata": {},
     "output_type": "display_data"
    },
    {
     "data": {
      "text/html": [
       "<pre style=\"white-space:pre;overflow-x:auto;line-height:normal;font-family:Menlo,'DejaVu Sans Mono',consolas,'Courier New',monospace\">Best mean reward: 252.31 - Last mean reward per episode: 253.21\n",
       "</pre>\n"
      ],
      "text/plain": [
       "Best mean reward: 252.31 - Last mean reward per episode: 253.21\n"
      ]
     },
     "metadata": {},
     "output_type": "display_data"
    },
    {
     "data": {
      "text/html": [
       "<pre style=\"white-space:pre;overflow-x:auto;line-height:normal;font-family:Menlo,'DejaVu Sans Mono',consolas,'Courier New',monospace\">Saving new best model to tmp/gym/twoarm_ppo/best_model.zip\n",
       "</pre>\n"
      ],
      "text/plain": [
       "Saving new best model to tmp/gym/twoarm_ppo/best_model.zip\n"
      ]
     },
     "metadata": {},
     "output_type": "display_data"
    },
    {
     "data": {
      "text/html": [
       "<pre style=\"white-space:pre;overflow-x:auto;line-height:normal;font-family:Menlo,'DejaVu Sans Mono',consolas,'Courier New',monospace\">Num timesteps: 153000\n",
       "</pre>\n"
      ],
      "text/plain": [
       "Num timesteps: 153000\n"
      ]
     },
     "metadata": {},
     "output_type": "display_data"
    },
    {
     "data": {
      "text/html": [
       "<pre style=\"white-space:pre;overflow-x:auto;line-height:normal;font-family:Menlo,'DejaVu Sans Mono',consolas,'Courier New',monospace\">Best mean reward: 253.21 - Last mean reward per episode: 253.32\n",
       "</pre>\n"
      ],
      "text/plain": [
       "Best mean reward: 253.21 - Last mean reward per episode: 253.32\n"
      ]
     },
     "metadata": {},
     "output_type": "display_data"
    },
    {
     "data": {
      "text/html": [
       "<pre style=\"white-space:pre;overflow-x:auto;line-height:normal;font-family:Menlo,'DejaVu Sans Mono',consolas,'Courier New',monospace\">Saving new best model to tmp/gym/twoarm_ppo/best_model.zip\n",
       "</pre>\n"
      ],
      "text/plain": [
       "Saving new best model to tmp/gym/twoarm_ppo/best_model.zip\n"
      ]
     },
     "metadata": {},
     "output_type": "display_data"
    },
    {
     "data": {
      "text/html": [
       "<pre style=\"white-space:pre;overflow-x:auto;line-height:normal;font-family:Menlo,'DejaVu Sans Mono',consolas,'Courier New',monospace\">Num timesteps: 154000\n",
       "</pre>\n"
      ],
      "text/plain": [
       "Num timesteps: 154000\n"
      ]
     },
     "metadata": {},
     "output_type": "display_data"
    },
    {
     "data": {
      "text/html": [
       "<pre style=\"white-space:pre;overflow-x:auto;line-height:normal;font-family:Menlo,'DejaVu Sans Mono',consolas,'Courier New',monospace\">Best mean reward: 253.32 - Last mean reward per episode: 254.04\n",
       "</pre>\n"
      ],
      "text/plain": [
       "Best mean reward: 253.32 - Last mean reward per episode: 254.04\n"
      ]
     },
     "metadata": {},
     "output_type": "display_data"
    },
    {
     "data": {
      "text/html": [
       "<pre style=\"white-space:pre;overflow-x:auto;line-height:normal;font-family:Menlo,'DejaVu Sans Mono',consolas,'Courier New',monospace\">Saving new best model to tmp/gym/twoarm_ppo/best_model.zip\n",
       "</pre>\n"
      ],
      "text/plain": [
       "Saving new best model to tmp/gym/twoarm_ppo/best_model.zip\n"
      ]
     },
     "metadata": {},
     "output_type": "display_data"
    },
    {
     "data": {
      "text/html": [
       "<pre style=\"white-space:pre;overflow-x:auto;line-height:normal;font-family:Menlo,'DejaVu Sans Mono',consolas,'Courier New',monospace\">Num timesteps: 155000\n",
       "</pre>\n"
      ],
      "text/plain": [
       "Num timesteps: 155000\n"
      ]
     },
     "metadata": {},
     "output_type": "display_data"
    },
    {
     "data": {
      "text/html": [
       "<pre style=\"white-space:pre;overflow-x:auto;line-height:normal;font-family:Menlo,'DejaVu Sans Mono',consolas,'Courier New',monospace\">Best mean reward: 254.04 - Last mean reward per episode: 254.00\n",
       "</pre>\n"
      ],
      "text/plain": [
       "Best mean reward: 254.04 - Last mean reward per episode: 254.00\n"
      ]
     },
     "metadata": {},
     "output_type": "display_data"
    },
    {
     "data": {
      "text/html": [
       "<pre style=\"white-space:pre;overflow-x:auto;line-height:normal;font-family:Menlo,'DejaVu Sans Mono',consolas,'Courier New',monospace\">Num timesteps: 156000\n",
       "</pre>\n"
      ],
      "text/plain": [
       "Num timesteps: 156000\n"
      ]
     },
     "metadata": {},
     "output_type": "display_data"
    },
    {
     "data": {
      "text/html": [
       "<pre style=\"white-space:pre;overflow-x:auto;line-height:normal;font-family:Menlo,'DejaVu Sans Mono',consolas,'Courier New',monospace\">Best mean reward: 254.04 - Last mean reward per episode: 254.44\n",
       "</pre>\n"
      ],
      "text/plain": [
       "Best mean reward: 254.04 - Last mean reward per episode: 254.44\n"
      ]
     },
     "metadata": {},
     "output_type": "display_data"
    },
    {
     "data": {
      "text/html": [
       "<pre style=\"white-space:pre;overflow-x:auto;line-height:normal;font-family:Menlo,'DejaVu Sans Mono',consolas,'Courier New',monospace\">Saving new best model to tmp/gym/twoarm_ppo/best_model.zip\n",
       "</pre>\n"
      ],
      "text/plain": [
       "Saving new best model to tmp/gym/twoarm_ppo/best_model.zip\n"
      ]
     },
     "metadata": {},
     "output_type": "display_data"
    },
    {
     "data": {
      "text/html": [
       "<pre style=\"white-space:pre;overflow-x:auto;line-height:normal;font-family:Menlo,'DejaVu Sans Mono',consolas,'Courier New',monospace\">Num timesteps: 157000\n",
       "</pre>\n"
      ],
      "text/plain": [
       "Num timesteps: 157000\n"
      ]
     },
     "metadata": {},
     "output_type": "display_data"
    },
    {
     "data": {
      "text/html": [
       "<pre style=\"white-space:pre;overflow-x:auto;line-height:normal;font-family:Menlo,'DejaVu Sans Mono',consolas,'Courier New',monospace\">Best mean reward: 254.44 - Last mean reward per episode: 255.60\n",
       "</pre>\n"
      ],
      "text/plain": [
       "Best mean reward: 254.44 - Last mean reward per episode: 255.60\n"
      ]
     },
     "metadata": {},
     "output_type": "display_data"
    },
    {
     "data": {
      "text/html": [
       "<pre style=\"white-space:pre;overflow-x:auto;line-height:normal;font-family:Menlo,'DejaVu Sans Mono',consolas,'Courier New',monospace\">Saving new best model to tmp/gym/twoarm_ppo/best_model.zip\n",
       "</pre>\n"
      ],
      "text/plain": [
       "Saving new best model to tmp/gym/twoarm_ppo/best_model.zip\n"
      ]
     },
     "metadata": {},
     "output_type": "display_data"
    },
    {
     "data": {
      "text/html": [
       "<pre style=\"white-space:pre;overflow-x:auto;line-height:normal;font-family:Menlo,'DejaVu Sans Mono',consolas,'Courier New',monospace\">Num timesteps: 158000\n",
       "</pre>\n"
      ],
      "text/plain": [
       "Num timesteps: 158000\n"
      ]
     },
     "metadata": {},
     "output_type": "display_data"
    },
    {
     "data": {
      "text/html": [
       "<pre style=\"white-space:pre;overflow-x:auto;line-height:normal;font-family:Menlo,'DejaVu Sans Mono',consolas,'Courier New',monospace\">Best mean reward: 255.60 - Last mean reward per episode: 256.35\n",
       "</pre>\n"
      ],
      "text/plain": [
       "Best mean reward: 255.60 - Last mean reward per episode: 256.35\n"
      ]
     },
     "metadata": {},
     "output_type": "display_data"
    },
    {
     "data": {
      "text/html": [
       "<pre style=\"white-space:pre;overflow-x:auto;line-height:normal;font-family:Menlo,'DejaVu Sans Mono',consolas,'Courier New',monospace\">Saving new best model to tmp/gym/twoarm_ppo/best_model.zip\n",
       "</pre>\n"
      ],
      "text/plain": [
       "Saving new best model to tmp/gym/twoarm_ppo/best_model.zip\n"
      ]
     },
     "metadata": {},
     "output_type": "display_data"
    },
    {
     "data": {
      "text/html": [
       "<pre style=\"white-space:pre;overflow-x:auto;line-height:normal;font-family:Menlo,'DejaVu Sans Mono',consolas,'Courier New',monospace\">Num timesteps: 159000\n",
       "</pre>\n"
      ],
      "text/plain": [
       "Num timesteps: 159000\n"
      ]
     },
     "metadata": {},
     "output_type": "display_data"
    },
    {
     "data": {
      "text/html": [
       "<pre style=\"white-space:pre;overflow-x:auto;line-height:normal;font-family:Menlo,'DejaVu Sans Mono',consolas,'Courier New',monospace\">Best mean reward: 256.35 - Last mean reward per episode: 256.25\n",
       "</pre>\n"
      ],
      "text/plain": [
       "Best mean reward: 256.35 - Last mean reward per episode: 256.25\n"
      ]
     },
     "metadata": {},
     "output_type": "display_data"
    },
    {
     "data": {
      "text/html": [
       "<pre style=\"white-space:pre;overflow-x:auto;line-height:normal;font-family:Menlo,'DejaVu Sans Mono',consolas,'Courier New',monospace\">Num timesteps: 160000\n",
       "</pre>\n"
      ],
      "text/plain": [
       "Num timesteps: 160000\n"
      ]
     },
     "metadata": {},
     "output_type": "display_data"
    },
    {
     "data": {
      "text/html": [
       "<pre style=\"white-space:pre;overflow-x:auto;line-height:normal;font-family:Menlo,'DejaVu Sans Mono',consolas,'Courier New',monospace\">Best mean reward: 256.35 - Last mean reward per episode: 257.13\n",
       "</pre>\n"
      ],
      "text/plain": [
       "Best mean reward: 256.35 - Last mean reward per episode: 257.13\n"
      ]
     },
     "metadata": {},
     "output_type": "display_data"
    },
    {
     "data": {
      "text/html": [
       "<pre style=\"white-space:pre;overflow-x:auto;line-height:normal;font-family:Menlo,'DejaVu Sans Mono',consolas,'Courier New',monospace\">Saving new best model to tmp/gym/twoarm_ppo/best_model.zip\n",
       "</pre>\n"
      ],
      "text/plain": [
       "Saving new best model to tmp/gym/twoarm_ppo/best_model.zip\n"
      ]
     },
     "metadata": {},
     "output_type": "display_data"
    },
    {
     "data": {
      "text/html": [
       "<pre style=\"white-space:pre;overflow-x:auto;line-height:normal;font-family:Menlo,'DejaVu Sans Mono',consolas,'Courier New',monospace\">Num timesteps: 161000\n",
       "</pre>\n"
      ],
      "text/plain": [
       "Num timesteps: 161000\n"
      ]
     },
     "metadata": {},
     "output_type": "display_data"
    },
    {
     "data": {
      "text/html": [
       "<pre style=\"white-space:pre;overflow-x:auto;line-height:normal;font-family:Menlo,'DejaVu Sans Mono',consolas,'Courier New',monospace\">Best mean reward: 257.13 - Last mean reward per episode: 257.59\n",
       "</pre>\n"
      ],
      "text/plain": [
       "Best mean reward: 257.13 - Last mean reward per episode: 257.59\n"
      ]
     },
     "metadata": {},
     "output_type": "display_data"
    },
    {
     "data": {
      "text/html": [
       "<pre style=\"white-space:pre;overflow-x:auto;line-height:normal;font-family:Menlo,'DejaVu Sans Mono',consolas,'Courier New',monospace\">Saving new best model to tmp/gym/twoarm_ppo/best_model.zip\n",
       "</pre>\n"
      ],
      "text/plain": [
       "Saving new best model to tmp/gym/twoarm_ppo/best_model.zip\n"
      ]
     },
     "metadata": {},
     "output_type": "display_data"
    },
    {
     "data": {
      "text/html": [
       "<pre style=\"white-space:pre;overflow-x:auto;line-height:normal;font-family:Menlo,'DejaVu Sans Mono',consolas,'Courier New',monospace\">Num timesteps: 162000\n",
       "</pre>\n"
      ],
      "text/plain": [
       "Num timesteps: 162000\n"
      ]
     },
     "metadata": {},
     "output_type": "display_data"
    },
    {
     "data": {
      "text/html": [
       "<pre style=\"white-space:pre;overflow-x:auto;line-height:normal;font-family:Menlo,'DejaVu Sans Mono',consolas,'Courier New',monospace\">Best mean reward: 257.59 - Last mean reward per episode: 258.37\n",
       "</pre>\n"
      ],
      "text/plain": [
       "Best mean reward: 257.59 - Last mean reward per episode: 258.37\n"
      ]
     },
     "metadata": {},
     "output_type": "display_data"
    },
    {
     "data": {
      "text/html": [
       "<pre style=\"white-space:pre;overflow-x:auto;line-height:normal;font-family:Menlo,'DejaVu Sans Mono',consolas,'Courier New',monospace\">Saving new best model to tmp/gym/twoarm_ppo/best_model.zip\n",
       "</pre>\n"
      ],
      "text/plain": [
       "Saving new best model to tmp/gym/twoarm_ppo/best_model.zip\n"
      ]
     },
     "metadata": {},
     "output_type": "display_data"
    },
    {
     "data": {
      "text/html": [
       "<pre style=\"white-space:pre;overflow-x:auto;line-height:normal;font-family:Menlo,'DejaVu Sans Mono',consolas,'Courier New',monospace\">Num timesteps: 163000\n",
       "</pre>\n"
      ],
      "text/plain": [
       "Num timesteps: 163000\n"
      ]
     },
     "metadata": {},
     "output_type": "display_data"
    },
    {
     "data": {
      "text/html": [
       "<pre style=\"white-space:pre;overflow-x:auto;line-height:normal;font-family:Menlo,'DejaVu Sans Mono',consolas,'Courier New',monospace\">Best mean reward: 258.37 - Last mean reward per episode: 259.30\n",
       "</pre>\n"
      ],
      "text/plain": [
       "Best mean reward: 258.37 - Last mean reward per episode: 259.30\n"
      ]
     },
     "metadata": {},
     "output_type": "display_data"
    },
    {
     "data": {
      "text/html": [
       "<pre style=\"white-space:pre;overflow-x:auto;line-height:normal;font-family:Menlo,'DejaVu Sans Mono',consolas,'Courier New',monospace\">Saving new best model to tmp/gym/twoarm_ppo/best_model.zip\n",
       "</pre>\n"
      ],
      "text/plain": [
       "Saving new best model to tmp/gym/twoarm_ppo/best_model.zip\n"
      ]
     },
     "metadata": {},
     "output_type": "display_data"
    },
    {
     "name": "stdout",
     "output_type": "stream",
     "text": [
      "-----------------------------------------\n",
      "| rollout/                |             |\n",
      "|    ep_len_mean          | 500         |\n",
      "|    ep_rew_mean          | 259         |\n",
      "| time/                   |             |\n",
      "|    fps                  | 76          |\n",
      "|    iterations           | 80          |\n",
      "|    time_elapsed         | 2148        |\n",
      "|    total_timesteps      | 163840      |\n",
      "| train/                  |             |\n",
      "|    approx_kl            | 0.052617386 |\n",
      "|    clip_fraction        | 0.448       |\n",
      "|    clip_range           | 0.2         |\n",
      "|    entropy_loss         | -17.1       |\n",
      "|    explained_variance   | 0.729       |\n",
      "|    learning_rate        | 0.0003      |\n",
      "|    loss                 | 0.255       |\n",
      "|    n_updates            | 790         |\n",
      "|    policy_gradient_loss | -0.00826    |\n",
      "|    std                  | 1           |\n",
      "|    value_loss           | 9.03        |\n",
      "-----------------------------------------\n"
     ]
    },
    {
     "data": {
      "text/html": [
       "<pre style=\"white-space:pre;overflow-x:auto;line-height:normal;font-family:Menlo,'DejaVu Sans Mono',consolas,'Courier New',monospace\">Num timesteps: 164000\n",
       "</pre>\n"
      ],
      "text/plain": [
       "Num timesteps: 164000\n"
      ]
     },
     "metadata": {},
     "output_type": "display_data"
    },
    {
     "data": {
      "text/html": [
       "<pre style=\"white-space:pre;overflow-x:auto;line-height:normal;font-family:Menlo,'DejaVu Sans Mono',consolas,'Courier New',monospace\">Best mean reward: 259.30 - Last mean reward per episode: 259.08\n",
       "</pre>\n"
      ],
      "text/plain": [
       "Best mean reward: 259.30 - Last mean reward per episode: 259.08\n"
      ]
     },
     "metadata": {},
     "output_type": "display_data"
    },
    {
     "data": {
      "text/html": [
       "<pre style=\"white-space:pre;overflow-x:auto;line-height:normal;font-family:Menlo,'DejaVu Sans Mono',consolas,'Courier New',monospace\">Num timesteps: 165000\n",
       "</pre>\n"
      ],
      "text/plain": [
       "Num timesteps: 165000\n"
      ]
     },
     "metadata": {},
     "output_type": "display_data"
    },
    {
     "data": {
      "text/html": [
       "<pre style=\"white-space:pre;overflow-x:auto;line-height:normal;font-family:Menlo,'DejaVu Sans Mono',consolas,'Courier New',monospace\">Best mean reward: 259.30 - Last mean reward per episode: 260.60\n",
       "</pre>\n"
      ],
      "text/plain": [
       "Best mean reward: 259.30 - Last mean reward per episode: 260.60\n"
      ]
     },
     "metadata": {},
     "output_type": "display_data"
    },
    {
     "data": {
      "text/html": [
       "<pre style=\"white-space:pre;overflow-x:auto;line-height:normal;font-family:Menlo,'DejaVu Sans Mono',consolas,'Courier New',monospace\">Saving new best model to tmp/gym/twoarm_ppo/best_model.zip\n",
       "</pre>\n"
      ],
      "text/plain": [
       "Saving new best model to tmp/gym/twoarm_ppo/best_model.zip\n"
      ]
     },
     "metadata": {},
     "output_type": "display_data"
    },
    {
     "data": {
      "text/html": [
       "<pre style=\"white-space:pre;overflow-x:auto;line-height:normal;font-family:Menlo,'DejaVu Sans Mono',consolas,'Courier New',monospace\">Num timesteps: 166000\n",
       "</pre>\n"
      ],
      "text/plain": [
       "Num timesteps: 166000\n"
      ]
     },
     "metadata": {},
     "output_type": "display_data"
    },
    {
     "data": {
      "text/html": [
       "<pre style=\"white-space:pre;overflow-x:auto;line-height:normal;font-family:Menlo,'DejaVu Sans Mono',consolas,'Courier New',monospace\">Best mean reward: 260.60 - Last mean reward per episode: 260.70\n",
       "</pre>\n"
      ],
      "text/plain": [
       "Best mean reward: 260.60 - Last mean reward per episode: 260.70\n"
      ]
     },
     "metadata": {},
     "output_type": "display_data"
    },
    {
     "data": {
      "text/html": [
       "<pre style=\"white-space:pre;overflow-x:auto;line-height:normal;font-family:Menlo,'DejaVu Sans Mono',consolas,'Courier New',monospace\">Saving new best model to tmp/gym/twoarm_ppo/best_model.zip\n",
       "</pre>\n"
      ],
      "text/plain": [
       "Saving new best model to tmp/gym/twoarm_ppo/best_model.zip\n"
      ]
     },
     "metadata": {},
     "output_type": "display_data"
    },
    {
     "data": {
      "text/html": [
       "<pre style=\"white-space:pre;overflow-x:auto;line-height:normal;font-family:Menlo,'DejaVu Sans Mono',consolas,'Courier New',monospace\">Num timesteps: 167000\n",
       "</pre>\n"
      ],
      "text/plain": [
       "Num timesteps: 167000\n"
      ]
     },
     "metadata": {},
     "output_type": "display_data"
    },
    {
     "data": {
      "text/html": [
       "<pre style=\"white-space:pre;overflow-x:auto;line-height:normal;font-family:Menlo,'DejaVu Sans Mono',consolas,'Courier New',monospace\">Best mean reward: 260.70 - Last mean reward per episode: 261.83\n",
       "</pre>\n"
      ],
      "text/plain": [
       "Best mean reward: 260.70 - Last mean reward per episode: 261.83\n"
      ]
     },
     "metadata": {},
     "output_type": "display_data"
    },
    {
     "data": {
      "text/html": [
       "<pre style=\"white-space:pre;overflow-x:auto;line-height:normal;font-family:Menlo,'DejaVu Sans Mono',consolas,'Courier New',monospace\">Saving new best model to tmp/gym/twoarm_ppo/best_model.zip\n",
       "</pre>\n"
      ],
      "text/plain": [
       "Saving new best model to tmp/gym/twoarm_ppo/best_model.zip\n"
      ]
     },
     "metadata": {},
     "output_type": "display_data"
    },
    {
     "data": {
      "text/html": [
       "<pre style=\"white-space:pre;overflow-x:auto;line-height:normal;font-family:Menlo,'DejaVu Sans Mono',consolas,'Courier New',monospace\">Num timesteps: 168000\n",
       "</pre>\n"
      ],
      "text/plain": [
       "Num timesteps: 168000\n"
      ]
     },
     "metadata": {},
     "output_type": "display_data"
    },
    {
     "data": {
      "text/html": [
       "<pre style=\"white-space:pre;overflow-x:auto;line-height:normal;font-family:Menlo,'DejaVu Sans Mono',consolas,'Courier New',monospace\">Best mean reward: 261.83 - Last mean reward per episode: 262.80\n",
       "</pre>\n"
      ],
      "text/plain": [
       "Best mean reward: 261.83 - Last mean reward per episode: 262.80\n"
      ]
     },
     "metadata": {},
     "output_type": "display_data"
    },
    {
     "data": {
      "text/html": [
       "<pre style=\"white-space:pre;overflow-x:auto;line-height:normal;font-family:Menlo,'DejaVu Sans Mono',consolas,'Courier New',monospace\">Saving new best model to tmp/gym/twoarm_ppo/best_model.zip\n",
       "</pre>\n"
      ],
      "text/plain": [
       "Saving new best model to tmp/gym/twoarm_ppo/best_model.zip\n"
      ]
     },
     "metadata": {},
     "output_type": "display_data"
    },
    {
     "data": {
      "text/html": [
       "<pre style=\"white-space:pre;overflow-x:auto;line-height:normal;font-family:Menlo,'DejaVu Sans Mono',consolas,'Courier New',monospace\">Num timesteps: 169000\n",
       "</pre>\n"
      ],
      "text/plain": [
       "Num timesteps: 169000\n"
      ]
     },
     "metadata": {},
     "output_type": "display_data"
    },
    {
     "data": {
      "text/html": [
       "<pre style=\"white-space:pre;overflow-x:auto;line-height:normal;font-family:Menlo,'DejaVu Sans Mono',consolas,'Courier New',monospace\">Best mean reward: 262.80 - Last mean reward per episode: 264.33\n",
       "</pre>\n"
      ],
      "text/plain": [
       "Best mean reward: 262.80 - Last mean reward per episode: 264.33\n"
      ]
     },
     "metadata": {},
     "output_type": "display_data"
    },
    {
     "data": {
      "text/html": [
       "<pre style=\"white-space:pre;overflow-x:auto;line-height:normal;font-family:Menlo,'DejaVu Sans Mono',consolas,'Courier New',monospace\">Saving new best model to tmp/gym/twoarm_ppo/best_model.zip\n",
       "</pre>\n"
      ],
      "text/plain": [
       "Saving new best model to tmp/gym/twoarm_ppo/best_model.zip\n"
      ]
     },
     "metadata": {},
     "output_type": "display_data"
    },
    {
     "data": {
      "text/html": [
       "<pre style=\"white-space:pre;overflow-x:auto;line-height:normal;font-family:Menlo,'DejaVu Sans Mono',consolas,'Courier New',monospace\">Num timesteps: 170000\n",
       "</pre>\n"
      ],
      "text/plain": [
       "Num timesteps: 170000\n"
      ]
     },
     "metadata": {},
     "output_type": "display_data"
    },
    {
     "data": {
      "text/html": [
       "<pre style=\"white-space:pre;overflow-x:auto;line-height:normal;font-family:Menlo,'DejaVu Sans Mono',consolas,'Courier New',monospace\">Best mean reward: 264.33 - Last mean reward per episode: 264.73\n",
       "</pre>\n"
      ],
      "text/plain": [
       "Best mean reward: 264.33 - Last mean reward per episode: 264.73\n"
      ]
     },
     "metadata": {},
     "output_type": "display_data"
    },
    {
     "data": {
      "text/html": [
       "<pre style=\"white-space:pre;overflow-x:auto;line-height:normal;font-family:Menlo,'DejaVu Sans Mono',consolas,'Courier New',monospace\">Saving new best model to tmp/gym/twoarm_ppo/best_model.zip\n",
       "</pre>\n"
      ],
      "text/plain": [
       "Saving new best model to tmp/gym/twoarm_ppo/best_model.zip\n"
      ]
     },
     "metadata": {},
     "output_type": "display_data"
    },
    {
     "data": {
      "text/html": [
       "<pre style=\"white-space:pre;overflow-x:auto;line-height:normal;font-family:Menlo,'DejaVu Sans Mono',consolas,'Courier New',monospace\">Num timesteps: 171000\n",
       "</pre>\n"
      ],
      "text/plain": [
       "Num timesteps: 171000\n"
      ]
     },
     "metadata": {},
     "output_type": "display_data"
    },
    {
     "data": {
      "text/html": [
       "<pre style=\"white-space:pre;overflow-x:auto;line-height:normal;font-family:Menlo,'DejaVu Sans Mono',consolas,'Courier New',monospace\">Best mean reward: 264.73 - Last mean reward per episode: 265.75\n",
       "</pre>\n"
      ],
      "text/plain": [
       "Best mean reward: 264.73 - Last mean reward per episode: 265.75\n"
      ]
     },
     "metadata": {},
     "output_type": "display_data"
    },
    {
     "data": {
      "text/html": [
       "<pre style=\"white-space:pre;overflow-x:auto;line-height:normal;font-family:Menlo,'DejaVu Sans Mono',consolas,'Courier New',monospace\">Saving new best model to tmp/gym/twoarm_ppo/best_model.zip\n",
       "</pre>\n"
      ],
      "text/plain": [
       "Saving new best model to tmp/gym/twoarm_ppo/best_model.zip\n"
      ]
     },
     "metadata": {},
     "output_type": "display_data"
    },
    {
     "data": {
      "text/html": [
       "<pre style=\"white-space:pre;overflow-x:auto;line-height:normal;font-family:Menlo,'DejaVu Sans Mono',consolas,'Courier New',monospace\">Num timesteps: 172000\n",
       "</pre>\n"
      ],
      "text/plain": [
       "Num timesteps: 172000\n"
      ]
     },
     "metadata": {},
     "output_type": "display_data"
    },
    {
     "data": {
      "text/html": [
       "<pre style=\"white-space:pre;overflow-x:auto;line-height:normal;font-family:Menlo,'DejaVu Sans Mono',consolas,'Courier New',monospace\">Best mean reward: 265.75 - Last mean reward per episode: 266.30\n",
       "</pre>\n"
      ],
      "text/plain": [
       "Best mean reward: 265.75 - Last mean reward per episode: 266.30\n"
      ]
     },
     "metadata": {},
     "output_type": "display_data"
    },
    {
     "data": {
      "text/html": [
       "<pre style=\"white-space:pre;overflow-x:auto;line-height:normal;font-family:Menlo,'DejaVu Sans Mono',consolas,'Courier New',monospace\">Saving new best model to tmp/gym/twoarm_ppo/best_model.zip\n",
       "</pre>\n"
      ],
      "text/plain": [
       "Saving new best model to tmp/gym/twoarm_ppo/best_model.zip\n"
      ]
     },
     "metadata": {},
     "output_type": "display_data"
    },
    {
     "data": {
      "text/html": [
       "<pre style=\"white-space:pre;overflow-x:auto;line-height:normal;font-family:Menlo,'DejaVu Sans Mono',consolas,'Courier New',monospace\">Num timesteps: 173000\n",
       "</pre>\n"
      ],
      "text/plain": [
       "Num timesteps: 173000\n"
      ]
     },
     "metadata": {},
     "output_type": "display_data"
    },
    {
     "data": {
      "text/html": [
       "<pre style=\"white-space:pre;overflow-x:auto;line-height:normal;font-family:Menlo,'DejaVu Sans Mono',consolas,'Courier New',monospace\">Best mean reward: 266.30 - Last mean reward per episode: 267.49\n",
       "</pre>\n"
      ],
      "text/plain": [
       "Best mean reward: 266.30 - Last mean reward per episode: 267.49\n"
      ]
     },
     "metadata": {},
     "output_type": "display_data"
    },
    {
     "data": {
      "text/html": [
       "<pre style=\"white-space:pre;overflow-x:auto;line-height:normal;font-family:Menlo,'DejaVu Sans Mono',consolas,'Courier New',monospace\">Saving new best model to tmp/gym/twoarm_ppo/best_model.zip\n",
       "</pre>\n"
      ],
      "text/plain": [
       "Saving new best model to tmp/gym/twoarm_ppo/best_model.zip\n"
      ]
     },
     "metadata": {},
     "output_type": "display_data"
    },
    {
     "data": {
      "text/html": [
       "<pre style=\"white-space:pre;overflow-x:auto;line-height:normal;font-family:Menlo,'DejaVu Sans Mono',consolas,'Courier New',monospace\">Num timesteps: 174000\n",
       "</pre>\n"
      ],
      "text/plain": [
       "Num timesteps: 174000\n"
      ]
     },
     "metadata": {},
     "output_type": "display_data"
    },
    {
     "data": {
      "text/html": [
       "<pre style=\"white-space:pre;overflow-x:auto;line-height:normal;font-family:Menlo,'DejaVu Sans Mono',consolas,'Courier New',monospace\">Best mean reward: 267.49 - Last mean reward per episode: 268.24\n",
       "</pre>\n"
      ],
      "text/plain": [
       "Best mean reward: 267.49 - Last mean reward per episode: 268.24\n"
      ]
     },
     "metadata": {},
     "output_type": "display_data"
    },
    {
     "data": {
      "text/html": [
       "<pre style=\"white-space:pre;overflow-x:auto;line-height:normal;font-family:Menlo,'DejaVu Sans Mono',consolas,'Courier New',monospace\">Saving new best model to tmp/gym/twoarm_ppo/best_model.zip\n",
       "</pre>\n"
      ],
      "text/plain": [
       "Saving new best model to tmp/gym/twoarm_ppo/best_model.zip\n"
      ]
     },
     "metadata": {},
     "output_type": "display_data"
    },
    {
     "data": {
      "text/html": [
       "<pre style=\"white-space:pre;overflow-x:auto;line-height:normal;font-family:Menlo,'DejaVu Sans Mono',consolas,'Courier New',monospace\">Num timesteps: 175000\n",
       "</pre>\n"
      ],
      "text/plain": [
       "Num timesteps: 175000\n"
      ]
     },
     "metadata": {},
     "output_type": "display_data"
    },
    {
     "data": {
      "text/html": [
       "<pre style=\"white-space:pre;overflow-x:auto;line-height:normal;font-family:Menlo,'DejaVu Sans Mono',consolas,'Courier New',monospace\">Best mean reward: 268.24 - Last mean reward per episode: 268.08\n",
       "</pre>\n"
      ],
      "text/plain": [
       "Best mean reward: 268.24 - Last mean reward per episode: 268.08\n"
      ]
     },
     "metadata": {},
     "output_type": "display_data"
    },
    {
     "data": {
      "text/html": [
       "<pre style=\"white-space:pre;overflow-x:auto;line-height:normal;font-family:Menlo,'DejaVu Sans Mono',consolas,'Courier New',monospace\">Num timesteps: 176000\n",
       "</pre>\n"
      ],
      "text/plain": [
       "Num timesteps: 176000\n"
      ]
     },
     "metadata": {},
     "output_type": "display_data"
    },
    {
     "data": {
      "text/html": [
       "<pre style=\"white-space:pre;overflow-x:auto;line-height:normal;font-family:Menlo,'DejaVu Sans Mono',consolas,'Courier New',monospace\">Best mean reward: 268.24 - Last mean reward per episode: 268.33\n",
       "</pre>\n"
      ],
      "text/plain": [
       "Best mean reward: 268.24 - Last mean reward per episode: 268.33\n"
      ]
     },
     "metadata": {},
     "output_type": "display_data"
    },
    {
     "data": {
      "text/html": [
       "<pre style=\"white-space:pre;overflow-x:auto;line-height:normal;font-family:Menlo,'DejaVu Sans Mono',consolas,'Courier New',monospace\">Saving new best model to tmp/gym/twoarm_ppo/best_model.zip\n",
       "</pre>\n"
      ],
      "text/plain": [
       "Saving new best model to tmp/gym/twoarm_ppo/best_model.zip\n"
      ]
     },
     "metadata": {},
     "output_type": "display_data"
    },
    {
     "data": {
      "text/html": [
       "<pre style=\"white-space:pre;overflow-x:auto;line-height:normal;font-family:Menlo,'DejaVu Sans Mono',consolas,'Courier New',monospace\">Num timesteps: 177000\n",
       "</pre>\n"
      ],
      "text/plain": [
       "Num timesteps: 177000\n"
      ]
     },
     "metadata": {},
     "output_type": "display_data"
    },
    {
     "data": {
      "text/html": [
       "<pre style=\"white-space:pre;overflow-x:auto;line-height:normal;font-family:Menlo,'DejaVu Sans Mono',consolas,'Courier New',monospace\">Best mean reward: 268.33 - Last mean reward per episode: 269.06\n",
       "</pre>\n"
      ],
      "text/plain": [
       "Best mean reward: 268.33 - Last mean reward per episode: 269.06\n"
      ]
     },
     "metadata": {},
     "output_type": "display_data"
    },
    {
     "data": {
      "text/html": [
       "<pre style=\"white-space:pre;overflow-x:auto;line-height:normal;font-family:Menlo,'DejaVu Sans Mono',consolas,'Courier New',monospace\">Saving new best model to tmp/gym/twoarm_ppo/best_model.zip\n",
       "</pre>\n"
      ],
      "text/plain": [
       "Saving new best model to tmp/gym/twoarm_ppo/best_model.zip\n"
      ]
     },
     "metadata": {},
     "output_type": "display_data"
    },
    {
     "data": {
      "text/html": [
       "<pre style=\"white-space:pre;overflow-x:auto;line-height:normal;font-family:Menlo,'DejaVu Sans Mono',consolas,'Courier New',monospace\">Num timesteps: 178000\n",
       "</pre>\n"
      ],
      "text/plain": [
       "Num timesteps: 178000\n"
      ]
     },
     "metadata": {},
     "output_type": "display_data"
    },
    {
     "data": {
      "text/html": [
       "<pre style=\"white-space:pre;overflow-x:auto;line-height:normal;font-family:Menlo,'DejaVu Sans Mono',consolas,'Courier New',monospace\">Best mean reward: 269.06 - Last mean reward per episode: 270.32\n",
       "</pre>\n"
      ],
      "text/plain": [
       "Best mean reward: 269.06 - Last mean reward per episode: 270.32\n"
      ]
     },
     "metadata": {},
     "output_type": "display_data"
    },
    {
     "data": {
      "text/html": [
       "<pre style=\"white-space:pre;overflow-x:auto;line-height:normal;font-family:Menlo,'DejaVu Sans Mono',consolas,'Courier New',monospace\">Saving new best model to tmp/gym/twoarm_ppo/best_model.zip\n",
       "</pre>\n"
      ],
      "text/plain": [
       "Saving new best model to tmp/gym/twoarm_ppo/best_model.zip\n"
      ]
     },
     "metadata": {},
     "output_type": "display_data"
    },
    {
     "data": {
      "text/html": [
       "<pre style=\"white-space:pre;overflow-x:auto;line-height:normal;font-family:Menlo,'DejaVu Sans Mono',consolas,'Courier New',monospace\">Num timesteps: 179000\n",
       "</pre>\n"
      ],
      "text/plain": [
       "Num timesteps: 179000\n"
      ]
     },
     "metadata": {},
     "output_type": "display_data"
    },
    {
     "data": {
      "text/html": [
       "<pre style=\"white-space:pre;overflow-x:auto;line-height:normal;font-family:Menlo,'DejaVu Sans Mono',consolas,'Courier New',monospace\">Best mean reward: 270.32 - Last mean reward per episode: 270.38\n",
       "</pre>\n"
      ],
      "text/plain": [
       "Best mean reward: 270.32 - Last mean reward per episode: 270.38\n"
      ]
     },
     "metadata": {},
     "output_type": "display_data"
    },
    {
     "data": {
      "text/html": [
       "<pre style=\"white-space:pre;overflow-x:auto;line-height:normal;font-family:Menlo,'DejaVu Sans Mono',consolas,'Courier New',monospace\">Saving new best model to tmp/gym/twoarm_ppo/best_model.zip\n",
       "</pre>\n"
      ],
      "text/plain": [
       "Saving new best model to tmp/gym/twoarm_ppo/best_model.zip\n"
      ]
     },
     "metadata": {},
     "output_type": "display_data"
    },
    {
     "data": {
      "text/html": [
       "<pre style=\"white-space:pre;overflow-x:auto;line-height:normal;font-family:Menlo,'DejaVu Sans Mono',consolas,'Courier New',monospace\">Num timesteps: 180000\n",
       "</pre>\n"
      ],
      "text/plain": [
       "Num timesteps: 180000\n"
      ]
     },
     "metadata": {},
     "output_type": "display_data"
    },
    {
     "data": {
      "text/html": [
       "<pre style=\"white-space:pre;overflow-x:auto;line-height:normal;font-family:Menlo,'DejaVu Sans Mono',consolas,'Courier New',monospace\">Best mean reward: 270.38 - Last mean reward per episode: 270.00\n",
       "</pre>\n"
      ],
      "text/plain": [
       "Best mean reward: 270.38 - Last mean reward per episode: 270.00\n"
      ]
     },
     "metadata": {},
     "output_type": "display_data"
    },
    {
     "data": {
      "text/html": [
       "<pre style=\"white-space:pre;overflow-x:auto;line-height:normal;font-family:Menlo,'DejaVu Sans Mono',consolas,'Courier New',monospace\">Num timesteps: 181000\n",
       "</pre>\n"
      ],
      "text/plain": [
       "Num timesteps: 181000\n"
      ]
     },
     "metadata": {},
     "output_type": "display_data"
    },
    {
     "data": {
      "text/html": [
       "<pre style=\"white-space:pre;overflow-x:auto;line-height:normal;font-family:Menlo,'DejaVu Sans Mono',consolas,'Courier New',monospace\">Best mean reward: 270.38 - Last mean reward per episode: 270.40\n",
       "</pre>\n"
      ],
      "text/plain": [
       "Best mean reward: 270.38 - Last mean reward per episode: 270.40\n"
      ]
     },
     "metadata": {},
     "output_type": "display_data"
    },
    {
     "data": {
      "text/html": [
       "<pre style=\"white-space:pre;overflow-x:auto;line-height:normal;font-family:Menlo,'DejaVu Sans Mono',consolas,'Courier New',monospace\">Saving new best model to tmp/gym/twoarm_ppo/best_model.zip\n",
       "</pre>\n"
      ],
      "text/plain": [
       "Saving new best model to tmp/gym/twoarm_ppo/best_model.zip\n"
      ]
     },
     "metadata": {},
     "output_type": "display_data"
    },
    {
     "data": {
      "text/html": [
       "<pre style=\"white-space:pre;overflow-x:auto;line-height:normal;font-family:Menlo,'DejaVu Sans Mono',consolas,'Courier New',monospace\">Num timesteps: 182000\n",
       "</pre>\n"
      ],
      "text/plain": [
       "Num timesteps: 182000\n"
      ]
     },
     "metadata": {},
     "output_type": "display_data"
    },
    {
     "data": {
      "text/html": [
       "<pre style=\"white-space:pre;overflow-x:auto;line-height:normal;font-family:Menlo,'DejaVu Sans Mono',consolas,'Courier New',monospace\">Best mean reward: 270.40 - Last mean reward per episode: 270.76\n",
       "</pre>\n"
      ],
      "text/plain": [
       "Best mean reward: 270.40 - Last mean reward per episode: 270.76\n"
      ]
     },
     "metadata": {},
     "output_type": "display_data"
    },
    {
     "data": {
      "text/html": [
       "<pre style=\"white-space:pre;overflow-x:auto;line-height:normal;font-family:Menlo,'DejaVu Sans Mono',consolas,'Courier New',monospace\">Saving new best model to tmp/gym/twoarm_ppo/best_model.zip\n",
       "</pre>\n"
      ],
      "text/plain": [
       "Saving new best model to tmp/gym/twoarm_ppo/best_model.zip\n"
      ]
     },
     "metadata": {},
     "output_type": "display_data"
    },
    {
     "data": {
      "text/html": [
       "<pre style=\"white-space:pre;overflow-x:auto;line-height:normal;font-family:Menlo,'DejaVu Sans Mono',consolas,'Courier New',monospace\">Num timesteps: 183000\n",
       "</pre>\n"
      ],
      "text/plain": [
       "Num timesteps: 183000\n"
      ]
     },
     "metadata": {},
     "output_type": "display_data"
    },
    {
     "data": {
      "text/html": [
       "<pre style=\"white-space:pre;overflow-x:auto;line-height:normal;font-family:Menlo,'DejaVu Sans Mono',consolas,'Courier New',monospace\">Best mean reward: 270.76 - Last mean reward per episode: 270.01\n",
       "</pre>\n"
      ],
      "text/plain": [
       "Best mean reward: 270.76 - Last mean reward per episode: 270.01\n"
      ]
     },
     "metadata": {},
     "output_type": "display_data"
    },
    {
     "data": {
      "text/html": [
       "<pre style=\"white-space:pre;overflow-x:auto;line-height:normal;font-family:Menlo,'DejaVu Sans Mono',consolas,'Courier New',monospace\">Num timesteps: 184000\n",
       "</pre>\n"
      ],
      "text/plain": [
       "Num timesteps: 184000\n"
      ]
     },
     "metadata": {},
     "output_type": "display_data"
    },
    {
     "data": {
      "text/html": [
       "<pre style=\"white-space:pre;overflow-x:auto;line-height:normal;font-family:Menlo,'DejaVu Sans Mono',consolas,'Courier New',monospace\">Best mean reward: 270.76 - Last mean reward per episode: 270.40\n",
       "</pre>\n"
      ],
      "text/plain": [
       "Best mean reward: 270.76 - Last mean reward per episode: 270.40\n"
      ]
     },
     "metadata": {},
     "output_type": "display_data"
    },
    {
     "name": "stdout",
     "output_type": "stream",
     "text": [
      "-----------------------------------------\n",
      "| rollout/                |             |\n",
      "|    ep_len_mean          | 500         |\n",
      "|    ep_rew_mean          | 270         |\n",
      "| time/                   |             |\n",
      "|    fps                  | 76          |\n",
      "|    iterations           | 90          |\n",
      "|    time_elapsed         | 2423        |\n",
      "|    total_timesteps      | 184320      |\n",
      "| train/                  |             |\n",
      "|    approx_kl            | 0.043158695 |\n",
      "|    clip_fraction        | 0.406       |\n",
      "|    clip_range           | 0.2         |\n",
      "|    entropy_loss         | -17         |\n",
      "|    explained_variance   | 0.879       |\n",
      "|    learning_rate        | 0.0003      |\n",
      "|    loss                 | 0.101       |\n",
      "|    n_updates            | 890         |\n",
      "|    policy_gradient_loss | -0.0151     |\n",
      "|    std                  | 0.996       |\n",
      "|    value_loss           | 3.11        |\n",
      "-----------------------------------------\n"
     ]
    },
    {
     "data": {
      "text/html": [
       "<pre style=\"white-space:pre;overflow-x:auto;line-height:normal;font-family:Menlo,'DejaVu Sans Mono',consolas,'Courier New',monospace\">Num timesteps: 185000\n",
       "</pre>\n"
      ],
      "text/plain": [
       "Num timesteps: 185000\n"
      ]
     },
     "metadata": {},
     "output_type": "display_data"
    },
    {
     "data": {
      "text/html": [
       "<pre style=\"white-space:pre;overflow-x:auto;line-height:normal;font-family:Menlo,'DejaVu Sans Mono',consolas,'Courier New',monospace\">Best mean reward: 270.76 - Last mean reward per episode: 270.07\n",
       "</pre>\n"
      ],
      "text/plain": [
       "Best mean reward: 270.76 - Last mean reward per episode: 270.07\n"
      ]
     },
     "metadata": {},
     "output_type": "display_data"
    },
    {
     "data": {
      "text/html": [
       "<pre style=\"white-space:pre;overflow-x:auto;line-height:normal;font-family:Menlo,'DejaVu Sans Mono',consolas,'Courier New',monospace\">Num timesteps: 186000\n",
       "</pre>\n"
      ],
      "text/plain": [
       "Num timesteps: 186000\n"
      ]
     },
     "metadata": {},
     "output_type": "display_data"
    },
    {
     "data": {
      "text/html": [
       "<pre style=\"white-space:pre;overflow-x:auto;line-height:normal;font-family:Menlo,'DejaVu Sans Mono',consolas,'Courier New',monospace\">Best mean reward: 270.76 - Last mean reward per episode: 269.36\n",
       "</pre>\n"
      ],
      "text/plain": [
       "Best mean reward: 270.76 - Last mean reward per episode: 269.36\n"
      ]
     },
     "metadata": {},
     "output_type": "display_data"
    },
    {
     "data": {
      "text/html": [
       "<pre style=\"white-space:pre;overflow-x:auto;line-height:normal;font-family:Menlo,'DejaVu Sans Mono',consolas,'Courier New',monospace\">Num timesteps: 187000\n",
       "</pre>\n"
      ],
      "text/plain": [
       "Num timesteps: 187000\n"
      ]
     },
     "metadata": {},
     "output_type": "display_data"
    },
    {
     "data": {
      "text/html": [
       "<pre style=\"white-space:pre;overflow-x:auto;line-height:normal;font-family:Menlo,'DejaVu Sans Mono',consolas,'Courier New',monospace\">Best mean reward: 270.76 - Last mean reward per episode: 268.68\n",
       "</pre>\n"
      ],
      "text/plain": [
       "Best mean reward: 270.76 - Last mean reward per episode: 268.68\n"
      ]
     },
     "metadata": {},
     "output_type": "display_data"
    },
    {
     "data": {
      "text/html": [
       "<pre style=\"white-space:pre;overflow-x:auto;line-height:normal;font-family:Menlo,'DejaVu Sans Mono',consolas,'Courier New',monospace\">Num timesteps: 188000\n",
       "</pre>\n"
      ],
      "text/plain": [
       "Num timesteps: 188000\n"
      ]
     },
     "metadata": {},
     "output_type": "display_data"
    },
    {
     "data": {
      "text/html": [
       "<pre style=\"white-space:pre;overflow-x:auto;line-height:normal;font-family:Menlo,'DejaVu Sans Mono',consolas,'Courier New',monospace\">Best mean reward: 270.76 - Last mean reward per episode: 268.31\n",
       "</pre>\n"
      ],
      "text/plain": [
       "Best mean reward: 270.76 - Last mean reward per episode: 268.31\n"
      ]
     },
     "metadata": {},
     "output_type": "display_data"
    },
    {
     "data": {
      "text/html": [
       "<pre style=\"white-space:pre;overflow-x:auto;line-height:normal;font-family:Menlo,'DejaVu Sans Mono',consolas,'Courier New',monospace\">Num timesteps: 189000\n",
       "</pre>\n"
      ],
      "text/plain": [
       "Num timesteps: 189000\n"
      ]
     },
     "metadata": {},
     "output_type": "display_data"
    },
    {
     "data": {
      "text/html": [
       "<pre style=\"white-space:pre;overflow-x:auto;line-height:normal;font-family:Menlo,'DejaVu Sans Mono',consolas,'Courier New',monospace\">Best mean reward: 270.76 - Last mean reward per episode: 269.08\n",
       "</pre>\n"
      ],
      "text/plain": [
       "Best mean reward: 270.76 - Last mean reward per episode: 269.08\n"
      ]
     },
     "metadata": {},
     "output_type": "display_data"
    },
    {
     "data": {
      "text/html": [
       "<pre style=\"white-space:pre;overflow-x:auto;line-height:normal;font-family:Menlo,'DejaVu Sans Mono',consolas,'Courier New',monospace\">Num timesteps: 190000\n",
       "</pre>\n"
      ],
      "text/plain": [
       "Num timesteps: 190000\n"
      ]
     },
     "metadata": {},
     "output_type": "display_data"
    },
    {
     "data": {
      "text/html": [
       "<pre style=\"white-space:pre;overflow-x:auto;line-height:normal;font-family:Menlo,'DejaVu Sans Mono',consolas,'Courier New',monospace\">Best mean reward: 270.76 - Last mean reward per episode: 268.74\n",
       "</pre>\n"
      ],
      "text/plain": [
       "Best mean reward: 270.76 - Last mean reward per episode: 268.74\n"
      ]
     },
     "metadata": {},
     "output_type": "display_data"
    },
    {
     "data": {
      "text/html": [
       "<pre style=\"white-space:pre;overflow-x:auto;line-height:normal;font-family:Menlo,'DejaVu Sans Mono',consolas,'Courier New',monospace\">Num timesteps: 191000\n",
       "</pre>\n"
      ],
      "text/plain": [
       "Num timesteps: 191000\n"
      ]
     },
     "metadata": {},
     "output_type": "display_data"
    },
    {
     "data": {
      "text/html": [
       "<pre style=\"white-space:pre;overflow-x:auto;line-height:normal;font-family:Menlo,'DejaVu Sans Mono',consolas,'Courier New',monospace\">Best mean reward: 270.76 - Last mean reward per episode: 268.14\n",
       "</pre>\n"
      ],
      "text/plain": [
       "Best mean reward: 270.76 - Last mean reward per episode: 268.14\n"
      ]
     },
     "metadata": {},
     "output_type": "display_data"
    },
    {
     "data": {
      "text/html": [
       "<pre style=\"white-space:pre;overflow-x:auto;line-height:normal;font-family:Menlo,'DejaVu Sans Mono',consolas,'Courier New',monospace\">Num timesteps: 192000\n",
       "</pre>\n"
      ],
      "text/plain": [
       "Num timesteps: 192000\n"
      ]
     },
     "metadata": {},
     "output_type": "display_data"
    },
    {
     "data": {
      "text/html": [
       "<pre style=\"white-space:pre;overflow-x:auto;line-height:normal;font-family:Menlo,'DejaVu Sans Mono',consolas,'Courier New',monospace\">Best mean reward: 270.76 - Last mean reward per episode: 267.95\n",
       "</pre>\n"
      ],
      "text/plain": [
       "Best mean reward: 270.76 - Last mean reward per episode: 267.95\n"
      ]
     },
     "metadata": {},
     "output_type": "display_data"
    },
    {
     "data": {
      "text/html": [
       "<pre style=\"white-space:pre;overflow-x:auto;line-height:normal;font-family:Menlo,'DejaVu Sans Mono',consolas,'Courier New',monospace\">Num timesteps: 193000\n",
       "</pre>\n"
      ],
      "text/plain": [
       "Num timesteps: 193000\n"
      ]
     },
     "metadata": {},
     "output_type": "display_data"
    },
    {
     "data": {
      "text/html": [
       "<pre style=\"white-space:pre;overflow-x:auto;line-height:normal;font-family:Menlo,'DejaVu Sans Mono',consolas,'Courier New',monospace\">Best mean reward: 270.76 - Last mean reward per episode: 268.15\n",
       "</pre>\n"
      ],
      "text/plain": [
       "Best mean reward: 270.76 - Last mean reward per episode: 268.15\n"
      ]
     },
     "metadata": {},
     "output_type": "display_data"
    },
    {
     "data": {
      "text/html": [
       "<pre style=\"white-space:pre;overflow-x:auto;line-height:normal;font-family:Menlo,'DejaVu Sans Mono',consolas,'Courier New',monospace\">Num timesteps: 194000\n",
       "</pre>\n"
      ],
      "text/plain": [
       "Num timesteps: 194000\n"
      ]
     },
     "metadata": {},
     "output_type": "display_data"
    },
    {
     "data": {
      "text/html": [
       "<pre style=\"white-space:pre;overflow-x:auto;line-height:normal;font-family:Menlo,'DejaVu Sans Mono',consolas,'Courier New',monospace\">Best mean reward: 270.76 - Last mean reward per episode: 268.17\n",
       "</pre>\n"
      ],
      "text/plain": [
       "Best mean reward: 270.76 - Last mean reward per episode: 268.17\n"
      ]
     },
     "metadata": {},
     "output_type": "display_data"
    },
    {
     "data": {
      "text/html": [
       "<pre style=\"white-space:pre;overflow-x:auto;line-height:normal;font-family:Menlo,'DejaVu Sans Mono',consolas,'Courier New',monospace\">Num timesteps: 195000\n",
       "</pre>\n"
      ],
      "text/plain": [
       "Num timesteps: 195000\n"
      ]
     },
     "metadata": {},
     "output_type": "display_data"
    },
    {
     "data": {
      "text/html": [
       "<pre style=\"white-space:pre;overflow-x:auto;line-height:normal;font-family:Menlo,'DejaVu Sans Mono',consolas,'Courier New',monospace\">Best mean reward: 270.76 - Last mean reward per episode: 268.60\n",
       "</pre>\n"
      ],
      "text/plain": [
       "Best mean reward: 270.76 - Last mean reward per episode: 268.60\n"
      ]
     },
     "metadata": {},
     "output_type": "display_data"
    },
    {
     "data": {
      "text/html": [
       "<pre style=\"white-space:pre;overflow-x:auto;line-height:normal;font-family:Menlo,'DejaVu Sans Mono',consolas,'Courier New',monospace\">Num timesteps: 196000\n",
       "</pre>\n"
      ],
      "text/plain": [
       "Num timesteps: 196000\n"
      ]
     },
     "metadata": {},
     "output_type": "display_data"
    },
    {
     "data": {
      "text/html": [
       "<pre style=\"white-space:pre;overflow-x:auto;line-height:normal;font-family:Menlo,'DejaVu Sans Mono',consolas,'Courier New',monospace\">Best mean reward: 270.76 - Last mean reward per episode: 269.05\n",
       "</pre>\n"
      ],
      "text/plain": [
       "Best mean reward: 270.76 - Last mean reward per episode: 269.05\n"
      ]
     },
     "metadata": {},
     "output_type": "display_data"
    },
    {
     "data": {
      "text/html": [
       "<pre style=\"white-space:pre;overflow-x:auto;line-height:normal;font-family:Menlo,'DejaVu Sans Mono',consolas,'Courier New',monospace\">Num timesteps: 197000\n",
       "</pre>\n"
      ],
      "text/plain": [
       "Num timesteps: 197000\n"
      ]
     },
     "metadata": {},
     "output_type": "display_data"
    },
    {
     "data": {
      "text/html": [
       "<pre style=\"white-space:pre;overflow-x:auto;line-height:normal;font-family:Menlo,'DejaVu Sans Mono',consolas,'Courier New',monospace\">Best mean reward: 270.76 - Last mean reward per episode: 269.05\n",
       "</pre>\n"
      ],
      "text/plain": [
       "Best mean reward: 270.76 - Last mean reward per episode: 269.05\n"
      ]
     },
     "metadata": {},
     "output_type": "display_data"
    },
    {
     "data": {
      "text/html": [
       "<pre style=\"white-space:pre;overflow-x:auto;line-height:normal;font-family:Menlo,'DejaVu Sans Mono',consolas,'Courier New',monospace\">Num timesteps: 198000\n",
       "</pre>\n"
      ],
      "text/plain": [
       "Num timesteps: 198000\n"
      ]
     },
     "metadata": {},
     "output_type": "display_data"
    },
    {
     "data": {
      "text/html": [
       "<pre style=\"white-space:pre;overflow-x:auto;line-height:normal;font-family:Menlo,'DejaVu Sans Mono',consolas,'Courier New',monospace\">Best mean reward: 270.76 - Last mean reward per episode: 268.88\n",
       "</pre>\n"
      ],
      "text/plain": [
       "Best mean reward: 270.76 - Last mean reward per episode: 268.88\n"
      ]
     },
     "metadata": {},
     "output_type": "display_data"
    },
    {
     "data": {
      "text/html": [
       "<pre style=\"white-space:pre;overflow-x:auto;line-height:normal;font-family:Menlo,'DejaVu Sans Mono',consolas,'Courier New',monospace\">Num timesteps: 199000\n",
       "</pre>\n"
      ],
      "text/plain": [
       "Num timesteps: 199000\n"
      ]
     },
     "metadata": {},
     "output_type": "display_data"
    },
    {
     "data": {
      "text/html": [
       "<pre style=\"white-space:pre;overflow-x:auto;line-height:normal;font-family:Menlo,'DejaVu Sans Mono',consolas,'Courier New',monospace\">Best mean reward: 270.76 - Last mean reward per episode: 269.08\n",
       "</pre>\n"
      ],
      "text/plain": [
       "Best mean reward: 270.76 - Last mean reward per episode: 269.08\n"
      ]
     },
     "metadata": {},
     "output_type": "display_data"
    },
    {
     "data": {
      "text/html": [
       "<pre style=\"white-space:pre;overflow-x:auto;line-height:normal;font-family:Menlo,'DejaVu Sans Mono',consolas,'Courier New',monospace\">Num timesteps: 200000\n",
       "</pre>\n"
      ],
      "text/plain": [
       "Num timesteps: 200000\n"
      ]
     },
     "metadata": {},
     "output_type": "display_data"
    },
    {
     "data": {
      "text/html": [
       "<pre style=\"white-space:pre;overflow-x:auto;line-height:normal;font-family:Menlo,'DejaVu Sans Mono',consolas,'Courier New',monospace\">Best mean reward: 270.76 - Last mean reward per episode: 269.33\n",
       "</pre>\n"
      ],
      "text/plain": [
       "Best mean reward: 270.76 - Last mean reward per episode: 269.33\n"
      ]
     },
     "metadata": {},
     "output_type": "display_data"
    },
    {
     "data": {
      "text/html": [
       "<pre style=\"white-space:pre;overflow-x:auto;line-height:normal;font-family:Menlo,'DejaVu Sans Mono',consolas,'Courier New',monospace\">Num timesteps: 201000\n",
       "</pre>\n"
      ],
      "text/plain": [
       "Num timesteps: 201000\n"
      ]
     },
     "metadata": {},
     "output_type": "display_data"
    },
    {
     "data": {
      "text/html": [
       "<pre style=\"white-space:pre;overflow-x:auto;line-height:normal;font-family:Menlo,'DejaVu Sans Mono',consolas,'Courier New',monospace\">Best mean reward: 270.76 - Last mean reward per episode: 269.35\n",
       "</pre>\n"
      ],
      "text/plain": [
       "Best mean reward: 270.76 - Last mean reward per episode: 269.35\n"
      ]
     },
     "metadata": {},
     "output_type": "display_data"
    },
    {
     "data": {
      "text/html": [
       "<pre style=\"white-space:pre;overflow-x:auto;line-height:normal;font-family:Menlo,'DejaVu Sans Mono',consolas,'Courier New',monospace\">Num timesteps: 202000\n",
       "</pre>\n"
      ],
      "text/plain": [
       "Num timesteps: 202000\n"
      ]
     },
     "metadata": {},
     "output_type": "display_data"
    },
    {
     "data": {
      "text/html": [
       "<pre style=\"white-space:pre;overflow-x:auto;line-height:normal;font-family:Menlo,'DejaVu Sans Mono',consolas,'Courier New',monospace\">Best mean reward: 270.76 - Last mean reward per episode: 268.99\n",
       "</pre>\n"
      ],
      "text/plain": [
       "Best mean reward: 270.76 - Last mean reward per episode: 268.99\n"
      ]
     },
     "metadata": {},
     "output_type": "display_data"
    },
    {
     "data": {
      "text/html": [
       "<pre style=\"white-space:pre;overflow-x:auto;line-height:normal;font-family:Menlo,'DejaVu Sans Mono',consolas,'Courier New',monospace\">Num timesteps: 203000\n",
       "</pre>\n"
      ],
      "text/plain": [
       "Num timesteps: 203000\n"
      ]
     },
     "metadata": {},
     "output_type": "display_data"
    },
    {
     "data": {
      "text/html": [
       "<pre style=\"white-space:pre;overflow-x:auto;line-height:normal;font-family:Menlo,'DejaVu Sans Mono',consolas,'Courier New',monospace\">Best mean reward: 270.76 - Last mean reward per episode: 269.60\n",
       "</pre>\n"
      ],
      "text/plain": [
       "Best mean reward: 270.76 - Last mean reward per episode: 269.60\n"
      ]
     },
     "metadata": {},
     "output_type": "display_data"
    },
    {
     "data": {
      "text/html": [
       "<pre style=\"white-space:pre;overflow-x:auto;line-height:normal;font-family:Menlo,'DejaVu Sans Mono',consolas,'Courier New',monospace\">Num timesteps: 204000\n",
       "</pre>\n"
      ],
      "text/plain": [
       "Num timesteps: 204000\n"
      ]
     },
     "metadata": {},
     "output_type": "display_data"
    },
    {
     "data": {
      "text/html": [
       "<pre style=\"white-space:pre;overflow-x:auto;line-height:normal;font-family:Menlo,'DejaVu Sans Mono',consolas,'Courier New',monospace\">Best mean reward: 270.76 - Last mean reward per episode: 270.25\n",
       "</pre>\n"
      ],
      "text/plain": [
       "Best mean reward: 270.76 - Last mean reward per episode: 270.25\n"
      ]
     },
     "metadata": {},
     "output_type": "display_data"
    },
    {
     "name": "stdout",
     "output_type": "stream",
     "text": [
      "-----------------------------------------\n",
      "| rollout/                |             |\n",
      "|    ep_len_mean          | 500         |\n",
      "|    ep_rew_mean          | 270         |\n",
      "| time/                   |             |\n",
      "|    fps                  | 75          |\n",
      "|    iterations           | 100         |\n",
      "|    time_elapsed         | 2696        |\n",
      "|    total_timesteps      | 204800      |\n",
      "| train/                  |             |\n",
      "|    approx_kl            | 0.039029747 |\n",
      "|    clip_fraction        | 0.408       |\n",
      "|    clip_range           | 0.2         |\n",
      "|    entropy_loss         | -17         |\n",
      "|    explained_variance   | 0.726       |\n",
      "|    learning_rate        | 0.0003      |\n",
      "|    loss                 | 0.452       |\n",
      "|    n_updates            | 990         |\n",
      "|    policy_gradient_loss | -0.00632    |\n",
      "|    std                  | 1           |\n",
      "|    value_loss           | 4.98        |\n",
      "-----------------------------------------\n"
     ]
    },
    {
     "data": {
      "text/html": [
       "<pre style=\"white-space:pre;overflow-x:auto;line-height:normal;font-family:Menlo,'DejaVu Sans Mono',consolas,'Courier New',monospace\">Num timesteps: 205000\n",
       "</pre>\n"
      ],
      "text/plain": [
       "Num timesteps: 205000\n"
      ]
     },
     "metadata": {},
     "output_type": "display_data"
    },
    {
     "data": {
      "text/html": [
       "<pre style=\"white-space:pre;overflow-x:auto;line-height:normal;font-family:Menlo,'DejaVu Sans Mono',consolas,'Courier New',monospace\">Best mean reward: 270.76 - Last mean reward per episode: 270.97\n",
       "</pre>\n"
      ],
      "text/plain": [
       "Best mean reward: 270.76 - Last mean reward per episode: 270.97\n"
      ]
     },
     "metadata": {},
     "output_type": "display_data"
    },
    {
     "data": {
      "text/html": [
       "<pre style=\"white-space:pre;overflow-x:auto;line-height:normal;font-family:Menlo,'DejaVu Sans Mono',consolas,'Courier New',monospace\">Saving new best model to tmp/gym/twoarm_ppo/best_model.zip\n",
       "</pre>\n"
      ],
      "text/plain": [
       "Saving new best model to tmp/gym/twoarm_ppo/best_model.zip\n"
      ]
     },
     "metadata": {},
     "output_type": "display_data"
    },
    {
     "data": {
      "text/html": [
       "<pre style=\"white-space:pre;overflow-x:auto;line-height:normal;font-family:Menlo,'DejaVu Sans Mono',consolas,'Courier New',monospace\">Num timesteps: 206000\n",
       "</pre>\n"
      ],
      "text/plain": [
       "Num timesteps: 206000\n"
      ]
     },
     "metadata": {},
     "output_type": "display_data"
    },
    {
     "data": {
      "text/html": [
       "<pre style=\"white-space:pre;overflow-x:auto;line-height:normal;font-family:Menlo,'DejaVu Sans Mono',consolas,'Courier New',monospace\">Best mean reward: 270.97 - Last mean reward per episode: 271.44\n",
       "</pre>\n"
      ],
      "text/plain": [
       "Best mean reward: 270.97 - Last mean reward per episode: 271.44\n"
      ]
     },
     "metadata": {},
     "output_type": "display_data"
    },
    {
     "data": {
      "text/html": [
       "<pre style=\"white-space:pre;overflow-x:auto;line-height:normal;font-family:Menlo,'DejaVu Sans Mono',consolas,'Courier New',monospace\">Saving new best model to tmp/gym/twoarm_ppo/best_model.zip\n",
       "</pre>\n"
      ],
      "text/plain": [
       "Saving new best model to tmp/gym/twoarm_ppo/best_model.zip\n"
      ]
     },
     "metadata": {},
     "output_type": "display_data"
    },
    {
     "data": {
      "text/html": [
       "<pre style=\"white-space:pre;overflow-x:auto;line-height:normal;font-family:Menlo,'DejaVu Sans Mono',consolas,'Courier New',monospace\">Num timesteps: 207000\n",
       "</pre>\n"
      ],
      "text/plain": [
       "Num timesteps: 207000\n"
      ]
     },
     "metadata": {},
     "output_type": "display_data"
    },
    {
     "data": {
      "text/html": [
       "<pre style=\"white-space:pre;overflow-x:auto;line-height:normal;font-family:Menlo,'DejaVu Sans Mono',consolas,'Courier New',monospace\">Best mean reward: 271.44 - Last mean reward per episode: 271.46\n",
       "</pre>\n"
      ],
      "text/plain": [
       "Best mean reward: 271.44 - Last mean reward per episode: 271.46\n"
      ]
     },
     "metadata": {},
     "output_type": "display_data"
    },
    {
     "data": {
      "text/html": [
       "<pre style=\"white-space:pre;overflow-x:auto;line-height:normal;font-family:Menlo,'DejaVu Sans Mono',consolas,'Courier New',monospace\">Saving new best model to tmp/gym/twoarm_ppo/best_model.zip\n",
       "</pre>\n"
      ],
      "text/plain": [
       "Saving new best model to tmp/gym/twoarm_ppo/best_model.zip\n"
      ]
     },
     "metadata": {},
     "output_type": "display_data"
    },
    {
     "data": {
      "text/html": [
       "<pre style=\"white-space:pre;overflow-x:auto;line-height:normal;font-family:Menlo,'DejaVu Sans Mono',consolas,'Courier New',monospace\">Num timesteps: 208000\n",
       "</pre>\n"
      ],
      "text/plain": [
       "Num timesteps: 208000\n"
      ]
     },
     "metadata": {},
     "output_type": "display_data"
    },
    {
     "data": {
      "text/html": [
       "<pre style=\"white-space:pre;overflow-x:auto;line-height:normal;font-family:Menlo,'DejaVu Sans Mono',consolas,'Courier New',monospace\">Best mean reward: 271.46 - Last mean reward per episode: 271.41\n",
       "</pre>\n"
      ],
      "text/plain": [
       "Best mean reward: 271.46 - Last mean reward per episode: 271.41\n"
      ]
     },
     "metadata": {},
     "output_type": "display_data"
    },
    {
     "data": {
      "text/html": [
       "<pre style=\"white-space:pre;overflow-x:auto;line-height:normal;font-family:Menlo,'DejaVu Sans Mono',consolas,'Courier New',monospace\">Num timesteps: 209000\n",
       "</pre>\n"
      ],
      "text/plain": [
       "Num timesteps: 209000\n"
      ]
     },
     "metadata": {},
     "output_type": "display_data"
    },
    {
     "data": {
      "text/html": [
       "<pre style=\"white-space:pre;overflow-x:auto;line-height:normal;font-family:Menlo,'DejaVu Sans Mono',consolas,'Courier New',monospace\">Best mean reward: 271.46 - Last mean reward per episode: 271.58\n",
       "</pre>\n"
      ],
      "text/plain": [
       "Best mean reward: 271.46 - Last mean reward per episode: 271.58\n"
      ]
     },
     "metadata": {},
     "output_type": "display_data"
    },
    {
     "data": {
      "text/html": [
       "<pre style=\"white-space:pre;overflow-x:auto;line-height:normal;font-family:Menlo,'DejaVu Sans Mono',consolas,'Courier New',monospace\">Saving new best model to tmp/gym/twoarm_ppo/best_model.zip\n",
       "</pre>\n"
      ],
      "text/plain": [
       "Saving new best model to tmp/gym/twoarm_ppo/best_model.zip\n"
      ]
     },
     "metadata": {},
     "output_type": "display_data"
    },
    {
     "data": {
      "text/html": [
       "<pre style=\"white-space:pre;overflow-x:auto;line-height:normal;font-family:Menlo,'DejaVu Sans Mono',consolas,'Courier New',monospace\">Num timesteps: 210000\n",
       "</pre>\n"
      ],
      "text/plain": [
       "Num timesteps: 210000\n"
      ]
     },
     "metadata": {},
     "output_type": "display_data"
    },
    {
     "data": {
      "text/html": [
       "<pre style=\"white-space:pre;overflow-x:auto;line-height:normal;font-family:Menlo,'DejaVu Sans Mono',consolas,'Courier New',monospace\">Best mean reward: 271.58 - Last mean reward per episode: 271.46\n",
       "</pre>\n"
      ],
      "text/plain": [
       "Best mean reward: 271.58 - Last mean reward per episode: 271.46\n"
      ]
     },
     "metadata": {},
     "output_type": "display_data"
    },
    {
     "data": {
      "text/html": [
       "<pre style=\"white-space:pre;overflow-x:auto;line-height:normal;font-family:Menlo,'DejaVu Sans Mono',consolas,'Courier New',monospace\">Num timesteps: 211000\n",
       "</pre>\n"
      ],
      "text/plain": [
       "Num timesteps: 211000\n"
      ]
     },
     "metadata": {},
     "output_type": "display_data"
    },
    {
     "data": {
      "text/html": [
       "<pre style=\"white-space:pre;overflow-x:auto;line-height:normal;font-family:Menlo,'DejaVu Sans Mono',consolas,'Courier New',monospace\">Best mean reward: 271.58 - Last mean reward per episode: 272.22\n",
       "</pre>\n"
      ],
      "text/plain": [
       "Best mean reward: 271.58 - Last mean reward per episode: 272.22\n"
      ]
     },
     "metadata": {},
     "output_type": "display_data"
    },
    {
     "data": {
      "text/html": [
       "<pre style=\"white-space:pre;overflow-x:auto;line-height:normal;font-family:Menlo,'DejaVu Sans Mono',consolas,'Courier New',monospace\">Saving new best model to tmp/gym/twoarm_ppo/best_model.zip\n",
       "</pre>\n"
      ],
      "text/plain": [
       "Saving new best model to tmp/gym/twoarm_ppo/best_model.zip\n"
      ]
     },
     "metadata": {},
     "output_type": "display_data"
    },
    {
     "data": {
      "text/html": [
       "<pre style=\"white-space:pre;overflow-x:auto;line-height:normal;font-family:Menlo,'DejaVu Sans Mono',consolas,'Courier New',monospace\">Num timesteps: 212000\n",
       "</pre>\n"
      ],
      "text/plain": [
       "Num timesteps: 212000\n"
      ]
     },
     "metadata": {},
     "output_type": "display_data"
    },
    {
     "data": {
      "text/html": [
       "<pre style=\"white-space:pre;overflow-x:auto;line-height:normal;font-family:Menlo,'DejaVu Sans Mono',consolas,'Courier New',monospace\">Best mean reward: 272.22 - Last mean reward per episode: 272.54\n",
       "</pre>\n"
      ],
      "text/plain": [
       "Best mean reward: 272.22 - Last mean reward per episode: 272.54\n"
      ]
     },
     "metadata": {},
     "output_type": "display_data"
    },
    {
     "data": {
      "text/html": [
       "<pre style=\"white-space:pre;overflow-x:auto;line-height:normal;font-family:Menlo,'DejaVu Sans Mono',consolas,'Courier New',monospace\">Saving new best model to tmp/gym/twoarm_ppo/best_model.zip\n",
       "</pre>\n"
      ],
      "text/plain": [
       "Saving new best model to tmp/gym/twoarm_ppo/best_model.zip\n"
      ]
     },
     "metadata": {},
     "output_type": "display_data"
    },
    {
     "data": {
      "text/html": [
       "<pre style=\"white-space:pre;overflow-x:auto;line-height:normal;font-family:Menlo,'DejaVu Sans Mono',consolas,'Courier New',monospace\">Num timesteps: 213000\n",
       "</pre>\n"
      ],
      "text/plain": [
       "Num timesteps: 213000\n"
      ]
     },
     "metadata": {},
     "output_type": "display_data"
    },
    {
     "data": {
      "text/html": [
       "<pre style=\"white-space:pre;overflow-x:auto;line-height:normal;font-family:Menlo,'DejaVu Sans Mono',consolas,'Courier New',monospace\">Best mean reward: 272.54 - Last mean reward per episode: 273.08\n",
       "</pre>\n"
      ],
      "text/plain": [
       "Best mean reward: 272.54 - Last mean reward per episode: 273.08\n"
      ]
     },
     "metadata": {},
     "output_type": "display_data"
    },
    {
     "data": {
      "text/html": [
       "<pre style=\"white-space:pre;overflow-x:auto;line-height:normal;font-family:Menlo,'DejaVu Sans Mono',consolas,'Courier New',monospace\">Saving new best model to tmp/gym/twoarm_ppo/best_model.zip\n",
       "</pre>\n"
      ],
      "text/plain": [
       "Saving new best model to tmp/gym/twoarm_ppo/best_model.zip\n"
      ]
     },
     "metadata": {},
     "output_type": "display_data"
    },
    {
     "data": {
      "text/html": [
       "<pre style=\"white-space:pre;overflow-x:auto;line-height:normal;font-family:Menlo,'DejaVu Sans Mono',consolas,'Courier New',monospace\">Num timesteps: 214000\n",
       "</pre>\n"
      ],
      "text/plain": [
       "Num timesteps: 214000\n"
      ]
     },
     "metadata": {},
     "output_type": "display_data"
    },
    {
     "data": {
      "text/html": [
       "<pre style=\"white-space:pre;overflow-x:auto;line-height:normal;font-family:Menlo,'DejaVu Sans Mono',consolas,'Courier New',monospace\">Best mean reward: 273.08 - Last mean reward per episode: 273.68\n",
       "</pre>\n"
      ],
      "text/plain": [
       "Best mean reward: 273.08 - Last mean reward per episode: 273.68\n"
      ]
     },
     "metadata": {},
     "output_type": "display_data"
    },
    {
     "data": {
      "text/html": [
       "<pre style=\"white-space:pre;overflow-x:auto;line-height:normal;font-family:Menlo,'DejaVu Sans Mono',consolas,'Courier New',monospace\">Saving new best model to tmp/gym/twoarm_ppo/best_model.zip\n",
       "</pre>\n"
      ],
      "text/plain": [
       "Saving new best model to tmp/gym/twoarm_ppo/best_model.zip\n"
      ]
     },
     "metadata": {},
     "output_type": "display_data"
    },
    {
     "data": {
      "text/html": [
       "<pre style=\"white-space:pre;overflow-x:auto;line-height:normal;font-family:Menlo,'DejaVu Sans Mono',consolas,'Courier New',monospace\">Num timesteps: 215000\n",
       "</pre>\n"
      ],
      "text/plain": [
       "Num timesteps: 215000\n"
      ]
     },
     "metadata": {},
     "output_type": "display_data"
    },
    {
     "data": {
      "text/html": [
       "<pre style=\"white-space:pre;overflow-x:auto;line-height:normal;font-family:Menlo,'DejaVu Sans Mono',consolas,'Courier New',monospace\">Best mean reward: 273.68 - Last mean reward per episode: 272.70\n",
       "</pre>\n"
      ],
      "text/plain": [
       "Best mean reward: 273.68 - Last mean reward per episode: 272.70\n"
      ]
     },
     "metadata": {},
     "output_type": "display_data"
    },
    {
     "data": {
      "text/html": [
       "<pre style=\"white-space:pre;overflow-x:auto;line-height:normal;font-family:Menlo,'DejaVu Sans Mono',consolas,'Courier New',monospace\">Num timesteps: 216000\n",
       "</pre>\n"
      ],
      "text/plain": [
       "Num timesteps: 216000\n"
      ]
     },
     "metadata": {},
     "output_type": "display_data"
    },
    {
     "data": {
      "text/html": [
       "<pre style=\"white-space:pre;overflow-x:auto;line-height:normal;font-family:Menlo,'DejaVu Sans Mono',consolas,'Courier New',monospace\">Best mean reward: 273.68 - Last mean reward per episode: 272.38\n",
       "</pre>\n"
      ],
      "text/plain": [
       "Best mean reward: 273.68 - Last mean reward per episode: 272.38\n"
      ]
     },
     "metadata": {},
     "output_type": "display_data"
    },
    {
     "data": {
      "text/html": [
       "<pre style=\"white-space:pre;overflow-x:auto;line-height:normal;font-family:Menlo,'DejaVu Sans Mono',consolas,'Courier New',monospace\">Num timesteps: 217000\n",
       "</pre>\n"
      ],
      "text/plain": [
       "Num timesteps: 217000\n"
      ]
     },
     "metadata": {},
     "output_type": "display_data"
    },
    {
     "data": {
      "text/html": [
       "<pre style=\"white-space:pre;overflow-x:auto;line-height:normal;font-family:Menlo,'DejaVu Sans Mono',consolas,'Courier New',monospace\">Best mean reward: 273.68 - Last mean reward per episode: 270.84\n",
       "</pre>\n"
      ],
      "text/plain": [
       "Best mean reward: 273.68 - Last mean reward per episode: 270.84\n"
      ]
     },
     "metadata": {},
     "output_type": "display_data"
    },
    {
     "data": {
      "text/html": [
       "<pre style=\"white-space:pre;overflow-x:auto;line-height:normal;font-family:Menlo,'DejaVu Sans Mono',consolas,'Courier New',monospace\">Num timesteps: 218000\n",
       "</pre>\n"
      ],
      "text/plain": [
       "Num timesteps: 218000\n"
      ]
     },
     "metadata": {},
     "output_type": "display_data"
    },
    {
     "data": {
      "text/html": [
       "<pre style=\"white-space:pre;overflow-x:auto;line-height:normal;font-family:Menlo,'DejaVu Sans Mono',consolas,'Courier New',monospace\">Best mean reward: 273.68 - Last mean reward per episode: 269.57\n",
       "</pre>\n"
      ],
      "text/plain": [
       "Best mean reward: 273.68 - Last mean reward per episode: 269.57\n"
      ]
     },
     "metadata": {},
     "output_type": "display_data"
    },
    {
     "data": {
      "text/html": [
       "<pre style=\"white-space:pre;overflow-x:auto;line-height:normal;font-family:Menlo,'DejaVu Sans Mono',consolas,'Courier New',monospace\">Num timesteps: 219000\n",
       "</pre>\n"
      ],
      "text/plain": [
       "Num timesteps: 219000\n"
      ]
     },
     "metadata": {},
     "output_type": "display_data"
    },
    {
     "data": {
      "text/html": [
       "<pre style=\"white-space:pre;overflow-x:auto;line-height:normal;font-family:Menlo,'DejaVu Sans Mono',consolas,'Courier New',monospace\">Best mean reward: 273.68 - Last mean reward per episode: 269.32\n",
       "</pre>\n"
      ],
      "text/plain": [
       "Best mean reward: 273.68 - Last mean reward per episode: 269.32\n"
      ]
     },
     "metadata": {},
     "output_type": "display_data"
    },
    {
     "data": {
      "text/html": [
       "<pre style=\"white-space:pre;overflow-x:auto;line-height:normal;font-family:Menlo,'DejaVu Sans Mono',consolas,'Courier New',monospace\">Num timesteps: 220000\n",
       "</pre>\n"
      ],
      "text/plain": [
       "Num timesteps: 220000\n"
      ]
     },
     "metadata": {},
     "output_type": "display_data"
    },
    {
     "data": {
      "text/html": [
       "<pre style=\"white-space:pre;overflow-x:auto;line-height:normal;font-family:Menlo,'DejaVu Sans Mono',consolas,'Courier New',monospace\">Best mean reward: 273.68 - Last mean reward per episode: 269.78\n",
       "</pre>\n"
      ],
      "text/plain": [
       "Best mean reward: 273.68 - Last mean reward per episode: 269.78\n"
      ]
     },
     "metadata": {},
     "output_type": "display_data"
    },
    {
     "data": {
      "text/html": [
       "<pre style=\"white-space:pre;overflow-x:auto;line-height:normal;font-family:Menlo,'DejaVu Sans Mono',consolas,'Courier New',monospace\">Num timesteps: 221000\n",
       "</pre>\n"
      ],
      "text/plain": [
       "Num timesteps: 221000\n"
      ]
     },
     "metadata": {},
     "output_type": "display_data"
    },
    {
     "data": {
      "text/html": [
       "<pre style=\"white-space:pre;overflow-x:auto;line-height:normal;font-family:Menlo,'DejaVu Sans Mono',consolas,'Courier New',monospace\">Best mean reward: 273.68 - Last mean reward per episode: 270.59\n",
       "</pre>\n"
      ],
      "text/plain": [
       "Best mean reward: 273.68 - Last mean reward per episode: 270.59\n"
      ]
     },
     "metadata": {},
     "output_type": "display_data"
    },
    {
     "data": {
      "text/html": [
       "<pre style=\"white-space:pre;overflow-x:auto;line-height:normal;font-family:Menlo,'DejaVu Sans Mono',consolas,'Courier New',monospace\">Num timesteps: 222000\n",
       "</pre>\n"
      ],
      "text/plain": [
       "Num timesteps: 222000\n"
      ]
     },
     "metadata": {},
     "output_type": "display_data"
    },
    {
     "data": {
      "text/html": [
       "<pre style=\"white-space:pre;overflow-x:auto;line-height:normal;font-family:Menlo,'DejaVu Sans Mono',consolas,'Courier New',monospace\">Best mean reward: 273.68 - Last mean reward per episode: 270.83\n",
       "</pre>\n"
      ],
      "text/plain": [
       "Best mean reward: 273.68 - Last mean reward per episode: 270.83\n"
      ]
     },
     "metadata": {},
     "output_type": "display_data"
    },
    {
     "data": {
      "text/html": [
       "<pre style=\"white-space:pre;overflow-x:auto;line-height:normal;font-family:Menlo,'DejaVu Sans Mono',consolas,'Courier New',monospace\">Num timesteps: 223000\n",
       "</pre>\n"
      ],
      "text/plain": [
       "Num timesteps: 223000\n"
      ]
     },
     "metadata": {},
     "output_type": "display_data"
    },
    {
     "data": {
      "text/html": [
       "<pre style=\"white-space:pre;overflow-x:auto;line-height:normal;font-family:Menlo,'DejaVu Sans Mono',consolas,'Courier New',monospace\">Best mean reward: 273.68 - Last mean reward per episode: 270.49\n",
       "</pre>\n"
      ],
      "text/plain": [
       "Best mean reward: 273.68 - Last mean reward per episode: 270.49\n"
      ]
     },
     "metadata": {},
     "output_type": "display_data"
    },
    {
     "data": {
      "text/html": [
       "<pre style=\"white-space:pre;overflow-x:auto;line-height:normal;font-family:Menlo,'DejaVu Sans Mono',consolas,'Courier New',monospace\">Num timesteps: 224000\n",
       "</pre>\n"
      ],
      "text/plain": [
       "Num timesteps: 224000\n"
      ]
     },
     "metadata": {},
     "output_type": "display_data"
    },
    {
     "data": {
      "text/html": [
       "<pre style=\"white-space:pre;overflow-x:auto;line-height:normal;font-family:Menlo,'DejaVu Sans Mono',consolas,'Courier New',monospace\">Best mean reward: 273.68 - Last mean reward per episode: 270.72\n",
       "</pre>\n"
      ],
      "text/plain": [
       "Best mean reward: 273.68 - Last mean reward per episode: 270.72\n"
      ]
     },
     "metadata": {},
     "output_type": "display_data"
    },
    {
     "data": {
      "text/html": [
       "<pre style=\"white-space:pre;overflow-x:auto;line-height:normal;font-family:Menlo,'DejaVu Sans Mono',consolas,'Courier New',monospace\">Num timesteps: 225000\n",
       "</pre>\n"
      ],
      "text/plain": [
       "Num timesteps: 225000\n"
      ]
     },
     "metadata": {},
     "output_type": "display_data"
    },
    {
     "data": {
      "text/html": [
       "<pre style=\"white-space:pre;overflow-x:auto;line-height:normal;font-family:Menlo,'DejaVu Sans Mono',consolas,'Courier New',monospace\">Best mean reward: 273.68 - Last mean reward per episode: 272.04\n",
       "</pre>\n"
      ],
      "text/plain": [
       "Best mean reward: 273.68 - Last mean reward per episode: 272.04\n"
      ]
     },
     "metadata": {},
     "output_type": "display_data"
    },
    {
     "name": "stdout",
     "output_type": "stream",
     "text": [
      "----------------------------------------\n",
      "| rollout/                |            |\n",
      "|    ep_len_mean          | 500        |\n",
      "|    ep_rew_mean          | 272        |\n",
      "| time/                   |            |\n",
      "|    fps                  | 75         |\n",
      "|    iterations           | 110        |\n",
      "|    time_elapsed         | 2970       |\n",
      "|    total_timesteps      | 225280     |\n",
      "| train/                  |            |\n",
      "|    approx_kl            | 0.04693403 |\n",
      "|    clip_fraction        | 0.467      |\n",
      "|    clip_range           | 0.2        |\n",
      "|    entropy_loss         | -17        |\n",
      "|    explained_variance   | 0.956      |\n",
      "|    learning_rate        | 0.0003     |\n",
      "|    loss                 | 0.0706     |\n",
      "|    n_updates            | 1090       |\n",
      "|    policy_gradient_loss | -0.0118    |\n",
      "|    std                  | 1          |\n",
      "|    value_loss           | 2.65       |\n",
      "----------------------------------------\n"
     ]
    },
    {
     "data": {
      "text/html": [
       "<pre style=\"white-space:pre;overflow-x:auto;line-height:normal;font-family:Menlo,'DejaVu Sans Mono',consolas,'Courier New',monospace\">Num timesteps: 226000\n",
       "</pre>\n"
      ],
      "text/plain": [
       "Num timesteps: 226000\n"
      ]
     },
     "metadata": {},
     "output_type": "display_data"
    },
    {
     "data": {
      "text/html": [
       "<pre style=\"white-space:pre;overflow-x:auto;line-height:normal;font-family:Menlo,'DejaVu Sans Mono',consolas,'Courier New',monospace\">Best mean reward: 273.68 - Last mean reward per episode: 273.10\n",
       "</pre>\n"
      ],
      "text/plain": [
       "Best mean reward: 273.68 - Last mean reward per episode: 273.10\n"
      ]
     },
     "metadata": {},
     "output_type": "display_data"
    },
    {
     "data": {
      "text/html": [
       "<pre style=\"white-space:pre;overflow-x:auto;line-height:normal;font-family:Menlo,'DejaVu Sans Mono',consolas,'Courier New',monospace\">Num timesteps: 227000\n",
       "</pre>\n"
      ],
      "text/plain": [
       "Num timesteps: 227000\n"
      ]
     },
     "metadata": {},
     "output_type": "display_data"
    },
    {
     "data": {
      "text/html": [
       "<pre style=\"white-space:pre;overflow-x:auto;line-height:normal;font-family:Menlo,'DejaVu Sans Mono',consolas,'Courier New',monospace\">Best mean reward: 273.68 - Last mean reward per episode: 273.72\n",
       "</pre>\n"
      ],
      "text/plain": [
       "Best mean reward: 273.68 - Last mean reward per episode: 273.72\n"
      ]
     },
     "metadata": {},
     "output_type": "display_data"
    },
    {
     "data": {
      "text/html": [
       "<pre style=\"white-space:pre;overflow-x:auto;line-height:normal;font-family:Menlo,'DejaVu Sans Mono',consolas,'Courier New',monospace\">Saving new best model to tmp/gym/twoarm_ppo/best_model.zip\n",
       "</pre>\n"
      ],
      "text/plain": [
       "Saving new best model to tmp/gym/twoarm_ppo/best_model.zip\n"
      ]
     },
     "metadata": {},
     "output_type": "display_data"
    },
    {
     "data": {
      "text/html": [
       "<pre style=\"white-space:pre;overflow-x:auto;line-height:normal;font-family:Menlo,'DejaVu Sans Mono',consolas,'Courier New',monospace\">Num timesteps: 228000\n",
       "</pre>\n"
      ],
      "text/plain": [
       "Num timesteps: 228000\n"
      ]
     },
     "metadata": {},
     "output_type": "display_data"
    },
    {
     "data": {
      "text/html": [
       "<pre style=\"white-space:pre;overflow-x:auto;line-height:normal;font-family:Menlo,'DejaVu Sans Mono',consolas,'Courier New',monospace\">Best mean reward: 273.72 - Last mean reward per episode: 273.18\n",
       "</pre>\n"
      ],
      "text/plain": [
       "Best mean reward: 273.72 - Last mean reward per episode: 273.18\n"
      ]
     },
     "metadata": {},
     "output_type": "display_data"
    },
    {
     "data": {
      "text/html": [
       "<pre style=\"white-space:pre;overflow-x:auto;line-height:normal;font-family:Menlo,'DejaVu Sans Mono',consolas,'Courier New',monospace\">Num timesteps: 229000\n",
       "</pre>\n"
      ],
      "text/plain": [
       "Num timesteps: 229000\n"
      ]
     },
     "metadata": {},
     "output_type": "display_data"
    },
    {
     "data": {
      "text/html": [
       "<pre style=\"white-space:pre;overflow-x:auto;line-height:normal;font-family:Menlo,'DejaVu Sans Mono',consolas,'Courier New',monospace\">Best mean reward: 273.72 - Last mean reward per episode: 274.50\n",
       "</pre>\n"
      ],
      "text/plain": [
       "Best mean reward: 273.72 - Last mean reward per episode: 274.50\n"
      ]
     },
     "metadata": {},
     "output_type": "display_data"
    },
    {
     "data": {
      "text/html": [
       "<pre style=\"white-space:pre;overflow-x:auto;line-height:normal;font-family:Menlo,'DejaVu Sans Mono',consolas,'Courier New',monospace\">Saving new best model to tmp/gym/twoarm_ppo/best_model.zip\n",
       "</pre>\n"
      ],
      "text/plain": [
       "Saving new best model to tmp/gym/twoarm_ppo/best_model.zip\n"
      ]
     },
     "metadata": {},
     "output_type": "display_data"
    },
    {
     "data": {
      "text/html": [
       "<pre style=\"white-space:pre;overflow-x:auto;line-height:normal;font-family:Menlo,'DejaVu Sans Mono',consolas,'Courier New',monospace\">Num timesteps: 230000\n",
       "</pre>\n"
      ],
      "text/plain": [
       "Num timesteps: 230000\n"
      ]
     },
     "metadata": {},
     "output_type": "display_data"
    },
    {
     "data": {
      "text/html": [
       "<pre style=\"white-space:pre;overflow-x:auto;line-height:normal;font-family:Menlo,'DejaVu Sans Mono',consolas,'Courier New',monospace\">Best mean reward: 274.50 - Last mean reward per episode: 276.08\n",
       "</pre>\n"
      ],
      "text/plain": [
       "Best mean reward: 274.50 - Last mean reward per episode: 276.08\n"
      ]
     },
     "metadata": {},
     "output_type": "display_data"
    },
    {
     "data": {
      "text/html": [
       "<pre style=\"white-space:pre;overflow-x:auto;line-height:normal;font-family:Menlo,'DejaVu Sans Mono',consolas,'Courier New',monospace\">Saving new best model to tmp/gym/twoarm_ppo/best_model.zip\n",
       "</pre>\n"
      ],
      "text/plain": [
       "Saving new best model to tmp/gym/twoarm_ppo/best_model.zip\n"
      ]
     },
     "metadata": {},
     "output_type": "display_data"
    },
    {
     "data": {
      "text/html": [
       "<pre style=\"white-space:pre;overflow-x:auto;line-height:normal;font-family:Menlo,'DejaVu Sans Mono',consolas,'Courier New',monospace\">Num timesteps: 231000\n",
       "</pre>\n"
      ],
      "text/plain": [
       "Num timesteps: 231000\n"
      ]
     },
     "metadata": {},
     "output_type": "display_data"
    },
    {
     "data": {
      "text/html": [
       "<pre style=\"white-space:pre;overflow-x:auto;line-height:normal;font-family:Menlo,'DejaVu Sans Mono',consolas,'Courier New',monospace\">Best mean reward: 276.08 - Last mean reward per episode: 276.88\n",
       "</pre>\n"
      ],
      "text/plain": [
       "Best mean reward: 276.08 - Last mean reward per episode: 276.88\n"
      ]
     },
     "metadata": {},
     "output_type": "display_data"
    },
    {
     "data": {
      "text/html": [
       "<pre style=\"white-space:pre;overflow-x:auto;line-height:normal;font-family:Menlo,'DejaVu Sans Mono',consolas,'Courier New',monospace\">Saving new best model to tmp/gym/twoarm_ppo/best_model.zip\n",
       "</pre>\n"
      ],
      "text/plain": [
       "Saving new best model to tmp/gym/twoarm_ppo/best_model.zip\n"
      ]
     },
     "metadata": {},
     "output_type": "display_data"
    },
    {
     "data": {
      "text/html": [
       "<pre style=\"white-space:pre;overflow-x:auto;line-height:normal;font-family:Menlo,'DejaVu Sans Mono',consolas,'Courier New',monospace\">Num timesteps: 232000\n",
       "</pre>\n"
      ],
      "text/plain": [
       "Num timesteps: 232000\n"
      ]
     },
     "metadata": {},
     "output_type": "display_data"
    },
    {
     "data": {
      "text/html": [
       "<pre style=\"white-space:pre;overflow-x:auto;line-height:normal;font-family:Menlo,'DejaVu Sans Mono',consolas,'Courier New',monospace\">Best mean reward: 276.88 - Last mean reward per episode: 277.90\n",
       "</pre>\n"
      ],
      "text/plain": [
       "Best mean reward: 276.88 - Last mean reward per episode: 277.90\n"
      ]
     },
     "metadata": {},
     "output_type": "display_data"
    },
    {
     "data": {
      "text/html": [
       "<pre style=\"white-space:pre;overflow-x:auto;line-height:normal;font-family:Menlo,'DejaVu Sans Mono',consolas,'Courier New',monospace\">Saving new best model to tmp/gym/twoarm_ppo/best_model.zip\n",
       "</pre>\n"
      ],
      "text/plain": [
       "Saving new best model to tmp/gym/twoarm_ppo/best_model.zip\n"
      ]
     },
     "metadata": {},
     "output_type": "display_data"
    },
    {
     "data": {
      "text/html": [
       "<pre style=\"white-space:pre;overflow-x:auto;line-height:normal;font-family:Menlo,'DejaVu Sans Mono',consolas,'Courier New',monospace\">Num timesteps: 233000\n",
       "</pre>\n"
      ],
      "text/plain": [
       "Num timesteps: 233000\n"
      ]
     },
     "metadata": {},
     "output_type": "display_data"
    },
    {
     "data": {
      "text/html": [
       "<pre style=\"white-space:pre;overflow-x:auto;line-height:normal;font-family:Menlo,'DejaVu Sans Mono',consolas,'Courier New',monospace\">Best mean reward: 277.90 - Last mean reward per episode: 278.83\n",
       "</pre>\n"
      ],
      "text/plain": [
       "Best mean reward: 277.90 - Last mean reward per episode: 278.83\n"
      ]
     },
     "metadata": {},
     "output_type": "display_data"
    },
    {
     "data": {
      "text/html": [
       "<pre style=\"white-space:pre;overflow-x:auto;line-height:normal;font-family:Menlo,'DejaVu Sans Mono',consolas,'Courier New',monospace\">Saving new best model to tmp/gym/twoarm_ppo/best_model.zip\n",
       "</pre>\n"
      ],
      "text/plain": [
       "Saving new best model to tmp/gym/twoarm_ppo/best_model.zip\n"
      ]
     },
     "metadata": {},
     "output_type": "display_data"
    },
    {
     "data": {
      "text/html": [
       "<pre style=\"white-space:pre;overflow-x:auto;line-height:normal;font-family:Menlo,'DejaVu Sans Mono',consolas,'Courier New',monospace\">Num timesteps: 234000\n",
       "</pre>\n"
      ],
      "text/plain": [
       "Num timesteps: 234000\n"
      ]
     },
     "metadata": {},
     "output_type": "display_data"
    },
    {
     "data": {
      "text/html": [
       "<pre style=\"white-space:pre;overflow-x:auto;line-height:normal;font-family:Menlo,'DejaVu Sans Mono',consolas,'Courier New',monospace\">Best mean reward: 278.83 - Last mean reward per episode: 280.12\n",
       "</pre>\n"
      ],
      "text/plain": [
       "Best mean reward: 278.83 - Last mean reward per episode: 280.12\n"
      ]
     },
     "metadata": {},
     "output_type": "display_data"
    },
    {
     "data": {
      "text/html": [
       "<pre style=\"white-space:pre;overflow-x:auto;line-height:normal;font-family:Menlo,'DejaVu Sans Mono',consolas,'Courier New',monospace\">Saving new best model to tmp/gym/twoarm_ppo/best_model.zip\n",
       "</pre>\n"
      ],
      "text/plain": [
       "Saving new best model to tmp/gym/twoarm_ppo/best_model.zip\n"
      ]
     },
     "metadata": {},
     "output_type": "display_data"
    },
    {
     "data": {
      "text/html": [
       "<pre style=\"white-space:pre;overflow-x:auto;line-height:normal;font-family:Menlo,'DejaVu Sans Mono',consolas,'Courier New',monospace\">Num timesteps: 235000\n",
       "</pre>\n"
      ],
      "text/plain": [
       "Num timesteps: 235000\n"
      ]
     },
     "metadata": {},
     "output_type": "display_data"
    },
    {
     "data": {
      "text/html": [
       "<pre style=\"white-space:pre;overflow-x:auto;line-height:normal;font-family:Menlo,'DejaVu Sans Mono',consolas,'Courier New',monospace\">Best mean reward: 280.12 - Last mean reward per episode: 282.27\n",
       "</pre>\n"
      ],
      "text/plain": [
       "Best mean reward: 280.12 - Last mean reward per episode: 282.27\n"
      ]
     },
     "metadata": {},
     "output_type": "display_data"
    },
    {
     "data": {
      "text/html": [
       "<pre style=\"white-space:pre;overflow-x:auto;line-height:normal;font-family:Menlo,'DejaVu Sans Mono',consolas,'Courier New',monospace\">Saving new best model to tmp/gym/twoarm_ppo/best_model.zip\n",
       "</pre>\n"
      ],
      "text/plain": [
       "Saving new best model to tmp/gym/twoarm_ppo/best_model.zip\n"
      ]
     },
     "metadata": {},
     "output_type": "display_data"
    },
    {
     "data": {
      "text/html": [
       "<pre style=\"white-space:pre;overflow-x:auto;line-height:normal;font-family:Menlo,'DejaVu Sans Mono',consolas,'Courier New',monospace\">Num timesteps: 236000\n",
       "</pre>\n"
      ],
      "text/plain": [
       "Num timesteps: 236000\n"
      ]
     },
     "metadata": {},
     "output_type": "display_data"
    },
    {
     "data": {
      "text/html": [
       "<pre style=\"white-space:pre;overflow-x:auto;line-height:normal;font-family:Menlo,'DejaVu Sans Mono',consolas,'Courier New',monospace\">Best mean reward: 282.27 - Last mean reward per episode: 283.18\n",
       "</pre>\n"
      ],
      "text/plain": [
       "Best mean reward: 282.27 - Last mean reward per episode: 283.18\n"
      ]
     },
     "metadata": {},
     "output_type": "display_data"
    },
    {
     "data": {
      "text/html": [
       "<pre style=\"white-space:pre;overflow-x:auto;line-height:normal;font-family:Menlo,'DejaVu Sans Mono',consolas,'Courier New',monospace\">Saving new best model to tmp/gym/twoarm_ppo/best_model.zip\n",
       "</pre>\n"
      ],
      "text/plain": [
       "Saving new best model to tmp/gym/twoarm_ppo/best_model.zip\n"
      ]
     },
     "metadata": {},
     "output_type": "display_data"
    },
    {
     "data": {
      "text/html": [
       "<pre style=\"white-space:pre;overflow-x:auto;line-height:normal;font-family:Menlo,'DejaVu Sans Mono',consolas,'Courier New',monospace\">Num timesteps: 237000\n",
       "</pre>\n"
      ],
      "text/plain": [
       "Num timesteps: 237000\n"
      ]
     },
     "metadata": {},
     "output_type": "display_data"
    },
    {
     "data": {
      "text/html": [
       "<pre style=\"white-space:pre;overflow-x:auto;line-height:normal;font-family:Menlo,'DejaVu Sans Mono',consolas,'Courier New',monospace\">Best mean reward: 283.18 - Last mean reward per episode: 284.46\n",
       "</pre>\n"
      ],
      "text/plain": [
       "Best mean reward: 283.18 - Last mean reward per episode: 284.46\n"
      ]
     },
     "metadata": {},
     "output_type": "display_data"
    },
    {
     "data": {
      "text/html": [
       "<pre style=\"white-space:pre;overflow-x:auto;line-height:normal;font-family:Menlo,'DejaVu Sans Mono',consolas,'Courier New',monospace\">Saving new best model to tmp/gym/twoarm_ppo/best_model.zip\n",
       "</pre>\n"
      ],
      "text/plain": [
       "Saving new best model to tmp/gym/twoarm_ppo/best_model.zip\n"
      ]
     },
     "metadata": {},
     "output_type": "display_data"
    },
    {
     "data": {
      "text/html": [
       "<pre style=\"white-space:pre;overflow-x:auto;line-height:normal;font-family:Menlo,'DejaVu Sans Mono',consolas,'Courier New',monospace\">Num timesteps: 238000\n",
       "</pre>\n"
      ],
      "text/plain": [
       "Num timesteps: 238000\n"
      ]
     },
     "metadata": {},
     "output_type": "display_data"
    },
    {
     "data": {
      "text/html": [
       "<pre style=\"white-space:pre;overflow-x:auto;line-height:normal;font-family:Menlo,'DejaVu Sans Mono',consolas,'Courier New',monospace\">Best mean reward: 284.46 - Last mean reward per episode: 285.05\n",
       "</pre>\n"
      ],
      "text/plain": [
       "Best mean reward: 284.46 - Last mean reward per episode: 285.05\n"
      ]
     },
     "metadata": {},
     "output_type": "display_data"
    },
    {
     "data": {
      "text/html": [
       "<pre style=\"white-space:pre;overflow-x:auto;line-height:normal;font-family:Menlo,'DejaVu Sans Mono',consolas,'Courier New',monospace\">Saving new best model to tmp/gym/twoarm_ppo/best_model.zip\n",
       "</pre>\n"
      ],
      "text/plain": [
       "Saving new best model to tmp/gym/twoarm_ppo/best_model.zip\n"
      ]
     },
     "metadata": {},
     "output_type": "display_data"
    },
    {
     "data": {
      "text/html": [
       "<pre style=\"white-space:pre;overflow-x:auto;line-height:normal;font-family:Menlo,'DejaVu Sans Mono',consolas,'Courier New',monospace\">Num timesteps: 239000\n",
       "</pre>\n"
      ],
      "text/plain": [
       "Num timesteps: 239000\n"
      ]
     },
     "metadata": {},
     "output_type": "display_data"
    },
    {
     "data": {
      "text/html": [
       "<pre style=\"white-space:pre;overflow-x:auto;line-height:normal;font-family:Menlo,'DejaVu Sans Mono',consolas,'Courier New',monospace\">Best mean reward: 285.05 - Last mean reward per episode: 286.65\n",
       "</pre>\n"
      ],
      "text/plain": [
       "Best mean reward: 285.05 - Last mean reward per episode: 286.65\n"
      ]
     },
     "metadata": {},
     "output_type": "display_data"
    },
    {
     "data": {
      "text/html": [
       "<pre style=\"white-space:pre;overflow-x:auto;line-height:normal;font-family:Menlo,'DejaVu Sans Mono',consolas,'Courier New',monospace\">Saving new best model to tmp/gym/twoarm_ppo/best_model.zip\n",
       "</pre>\n"
      ],
      "text/plain": [
       "Saving new best model to tmp/gym/twoarm_ppo/best_model.zip\n"
      ]
     },
     "metadata": {},
     "output_type": "display_data"
    },
    {
     "data": {
      "text/html": [
       "<pre style=\"white-space:pre;overflow-x:auto;line-height:normal;font-family:Menlo,'DejaVu Sans Mono',consolas,'Courier New',monospace\">Num timesteps: 240000\n",
       "</pre>\n"
      ],
      "text/plain": [
       "Num timesteps: 240000\n"
      ]
     },
     "metadata": {},
     "output_type": "display_data"
    },
    {
     "data": {
      "text/html": [
       "<pre style=\"white-space:pre;overflow-x:auto;line-height:normal;font-family:Menlo,'DejaVu Sans Mono',consolas,'Courier New',monospace\">Best mean reward: 286.65 - Last mean reward per episode: 288.10\n",
       "</pre>\n"
      ],
      "text/plain": [
       "Best mean reward: 286.65 - Last mean reward per episode: 288.10\n"
      ]
     },
     "metadata": {},
     "output_type": "display_data"
    },
    {
     "data": {
      "text/html": [
       "<pre style=\"white-space:pre;overflow-x:auto;line-height:normal;font-family:Menlo,'DejaVu Sans Mono',consolas,'Courier New',monospace\">Saving new best model to tmp/gym/twoarm_ppo/best_model.zip\n",
       "</pre>\n"
      ],
      "text/plain": [
       "Saving new best model to tmp/gym/twoarm_ppo/best_model.zip\n"
      ]
     },
     "metadata": {},
     "output_type": "display_data"
    },
    {
     "data": {
      "text/html": [
       "<pre style=\"white-space:pre;overflow-x:auto;line-height:normal;font-family:Menlo,'DejaVu Sans Mono',consolas,'Courier New',monospace\">Num timesteps: 241000\n",
       "</pre>\n"
      ],
      "text/plain": [
       "Num timesteps: 241000\n"
      ]
     },
     "metadata": {},
     "output_type": "display_data"
    },
    {
     "data": {
      "text/html": [
       "<pre style=\"white-space:pre;overflow-x:auto;line-height:normal;font-family:Menlo,'DejaVu Sans Mono',consolas,'Courier New',monospace\">Best mean reward: 288.10 - Last mean reward per episode: 288.96\n",
       "</pre>\n"
      ],
      "text/plain": [
       "Best mean reward: 288.10 - Last mean reward per episode: 288.96\n"
      ]
     },
     "metadata": {},
     "output_type": "display_data"
    },
    {
     "data": {
      "text/html": [
       "<pre style=\"white-space:pre;overflow-x:auto;line-height:normal;font-family:Menlo,'DejaVu Sans Mono',consolas,'Courier New',monospace\">Saving new best model to tmp/gym/twoarm_ppo/best_model.zip\n",
       "</pre>\n"
      ],
      "text/plain": [
       "Saving new best model to tmp/gym/twoarm_ppo/best_model.zip\n"
      ]
     },
     "metadata": {},
     "output_type": "display_data"
    },
    {
     "data": {
      "text/html": [
       "<pre style=\"white-space:pre;overflow-x:auto;line-height:normal;font-family:Menlo,'DejaVu Sans Mono',consolas,'Courier New',monospace\">Num timesteps: 242000\n",
       "</pre>\n"
      ],
      "text/plain": [
       "Num timesteps: 242000\n"
      ]
     },
     "metadata": {},
     "output_type": "display_data"
    },
    {
     "data": {
      "text/html": [
       "<pre style=\"white-space:pre;overflow-x:auto;line-height:normal;font-family:Menlo,'DejaVu Sans Mono',consolas,'Courier New',monospace\">Best mean reward: 288.96 - Last mean reward per episode: 289.78\n",
       "</pre>\n"
      ],
      "text/plain": [
       "Best mean reward: 288.96 - Last mean reward per episode: 289.78\n"
      ]
     },
     "metadata": {},
     "output_type": "display_data"
    },
    {
     "data": {
      "text/html": [
       "<pre style=\"white-space:pre;overflow-x:auto;line-height:normal;font-family:Menlo,'DejaVu Sans Mono',consolas,'Courier New',monospace\">Saving new best model to tmp/gym/twoarm_ppo/best_model.zip\n",
       "</pre>\n"
      ],
      "text/plain": [
       "Saving new best model to tmp/gym/twoarm_ppo/best_model.zip\n"
      ]
     },
     "metadata": {},
     "output_type": "display_data"
    },
    {
     "data": {
      "text/html": [
       "<pre style=\"white-space:pre;overflow-x:auto;line-height:normal;font-family:Menlo,'DejaVu Sans Mono',consolas,'Courier New',monospace\">Num timesteps: 243000\n",
       "</pre>\n"
      ],
      "text/plain": [
       "Num timesteps: 243000\n"
      ]
     },
     "metadata": {},
     "output_type": "display_data"
    },
    {
     "data": {
      "text/html": [
       "<pre style=\"white-space:pre;overflow-x:auto;line-height:normal;font-family:Menlo,'DejaVu Sans Mono',consolas,'Courier New',monospace\">Best mean reward: 289.78 - Last mean reward per episode: 291.20\n",
       "</pre>\n"
      ],
      "text/plain": [
       "Best mean reward: 289.78 - Last mean reward per episode: 291.20\n"
      ]
     },
     "metadata": {},
     "output_type": "display_data"
    },
    {
     "data": {
      "text/html": [
       "<pre style=\"white-space:pre;overflow-x:auto;line-height:normal;font-family:Menlo,'DejaVu Sans Mono',consolas,'Courier New',monospace\">Saving new best model to tmp/gym/twoarm_ppo/best_model.zip\n",
       "</pre>\n"
      ],
      "text/plain": [
       "Saving new best model to tmp/gym/twoarm_ppo/best_model.zip\n"
      ]
     },
     "metadata": {},
     "output_type": "display_data"
    },
    {
     "data": {
      "text/html": [
       "<pre style=\"white-space:pre;overflow-x:auto;line-height:normal;font-family:Menlo,'DejaVu Sans Mono',consolas,'Courier New',monospace\">Num timesteps: 244000\n",
       "</pre>\n"
      ],
      "text/plain": [
       "Num timesteps: 244000\n"
      ]
     },
     "metadata": {},
     "output_type": "display_data"
    },
    {
     "data": {
      "text/html": [
       "<pre style=\"white-space:pre;overflow-x:auto;line-height:normal;font-family:Menlo,'DejaVu Sans Mono',consolas,'Courier New',monospace\">Best mean reward: 291.20 - Last mean reward per episode: 291.70\n",
       "</pre>\n"
      ],
      "text/plain": [
       "Best mean reward: 291.20 - Last mean reward per episode: 291.70\n"
      ]
     },
     "metadata": {},
     "output_type": "display_data"
    },
    {
     "data": {
      "text/html": [
       "<pre style=\"white-space:pre;overflow-x:auto;line-height:normal;font-family:Menlo,'DejaVu Sans Mono',consolas,'Courier New',monospace\">Saving new best model to tmp/gym/twoarm_ppo/best_model.zip\n",
       "</pre>\n"
      ],
      "text/plain": [
       "Saving new best model to tmp/gym/twoarm_ppo/best_model.zip\n"
      ]
     },
     "metadata": {},
     "output_type": "display_data"
    },
    {
     "data": {
      "text/html": [
       "<pre style=\"white-space:pre;overflow-x:auto;line-height:normal;font-family:Menlo,'DejaVu Sans Mono',consolas,'Courier New',monospace\">Num timesteps: 245000\n",
       "</pre>\n"
      ],
      "text/plain": [
       "Num timesteps: 245000\n"
      ]
     },
     "metadata": {},
     "output_type": "display_data"
    },
    {
     "data": {
      "text/html": [
       "<pre style=\"white-space:pre;overflow-x:auto;line-height:normal;font-family:Menlo,'DejaVu Sans Mono',consolas,'Courier New',monospace\">Best mean reward: 291.70 - Last mean reward per episode: 292.47\n",
       "</pre>\n"
      ],
      "text/plain": [
       "Best mean reward: 291.70 - Last mean reward per episode: 292.47\n"
      ]
     },
     "metadata": {},
     "output_type": "display_data"
    },
    {
     "data": {
      "text/html": [
       "<pre style=\"white-space:pre;overflow-x:auto;line-height:normal;font-family:Menlo,'DejaVu Sans Mono',consolas,'Courier New',monospace\">Saving new best model to tmp/gym/twoarm_ppo/best_model.zip\n",
       "</pre>\n"
      ],
      "text/plain": [
       "Saving new best model to tmp/gym/twoarm_ppo/best_model.zip\n"
      ]
     },
     "metadata": {},
     "output_type": "display_data"
    },
    {
     "name": "stdout",
     "output_type": "stream",
     "text": [
      "---------------------------------------\n",
      "| rollout/                |           |\n",
      "|    ep_len_mean          | 500       |\n",
      "|    ep_rew_mean          | 293       |\n",
      "| time/                   |           |\n",
      "|    fps                  | 75        |\n",
      "|    iterations           | 120       |\n",
      "|    time_elapsed         | 3259      |\n",
      "|    total_timesteps      | 245760    |\n",
      "| train/                  |           |\n",
      "|    approx_kl            | 0.0711153 |\n",
      "|    clip_fraction        | 0.48      |\n",
      "|    clip_range           | 0.2       |\n",
      "|    entropy_loss         | -17       |\n",
      "|    explained_variance   | 0.773     |\n",
      "|    learning_rate        | 0.0003    |\n",
      "|    loss                 | 0.145     |\n",
      "|    n_updates            | 1190      |\n",
      "|    policy_gradient_loss | -0.00281  |\n",
      "|    std                  | 1         |\n",
      "|    value_loss           | 5.38      |\n",
      "---------------------------------------\n"
     ]
    },
    {
     "data": {
      "text/html": [
       "<pre style=\"white-space:pre;overflow-x:auto;line-height:normal;font-family:Menlo,'DejaVu Sans Mono',consolas,'Courier New',monospace\">Num timesteps: 246000\n",
       "</pre>\n"
      ],
      "text/plain": [
       "Num timesteps: 246000\n"
      ]
     },
     "metadata": {},
     "output_type": "display_data"
    },
    {
     "data": {
      "text/html": [
       "<pre style=\"white-space:pre;overflow-x:auto;line-height:normal;font-family:Menlo,'DejaVu Sans Mono',consolas,'Courier New',monospace\">Best mean reward: 292.47 - Last mean reward per episode: 293.20\n",
       "</pre>\n"
      ],
      "text/plain": [
       "Best mean reward: 292.47 - Last mean reward per episode: 293.20\n"
      ]
     },
     "metadata": {},
     "output_type": "display_data"
    },
    {
     "data": {
      "text/html": [
       "<pre style=\"white-space:pre;overflow-x:auto;line-height:normal;font-family:Menlo,'DejaVu Sans Mono',consolas,'Courier New',monospace\">Saving new best model to tmp/gym/twoarm_ppo/best_model.zip\n",
       "</pre>\n"
      ],
      "text/plain": [
       "Saving new best model to tmp/gym/twoarm_ppo/best_model.zip\n"
      ]
     },
     "metadata": {},
     "output_type": "display_data"
    },
    {
     "data": {
      "text/html": [
       "<pre style=\"white-space:pre;overflow-x:auto;line-height:normal;font-family:Menlo,'DejaVu Sans Mono',consolas,'Courier New',monospace\">Num timesteps: 247000\n",
       "</pre>\n"
      ],
      "text/plain": [
       "Num timesteps: 247000\n"
      ]
     },
     "metadata": {},
     "output_type": "display_data"
    },
    {
     "data": {
      "text/html": [
       "<pre style=\"white-space:pre;overflow-x:auto;line-height:normal;font-family:Menlo,'DejaVu Sans Mono',consolas,'Courier New',monospace\">Best mean reward: 293.20 - Last mean reward per episode: 294.01\n",
       "</pre>\n"
      ],
      "text/plain": [
       "Best mean reward: 293.20 - Last mean reward per episode: 294.01\n"
      ]
     },
     "metadata": {},
     "output_type": "display_data"
    },
    {
     "data": {
      "text/html": [
       "<pre style=\"white-space:pre;overflow-x:auto;line-height:normal;font-family:Menlo,'DejaVu Sans Mono',consolas,'Courier New',monospace\">Saving new best model to tmp/gym/twoarm_ppo/best_model.zip\n",
       "</pre>\n"
      ],
      "text/plain": [
       "Saving new best model to tmp/gym/twoarm_ppo/best_model.zip\n"
      ]
     },
     "metadata": {},
     "output_type": "display_data"
    },
    {
     "data": {
      "text/html": [
       "<pre style=\"white-space:pre;overflow-x:auto;line-height:normal;font-family:Menlo,'DejaVu Sans Mono',consolas,'Courier New',monospace\">Num timesteps: 248000\n",
       "</pre>\n"
      ],
      "text/plain": [
       "Num timesteps: 248000\n"
      ]
     },
     "metadata": {},
     "output_type": "display_data"
    },
    {
     "data": {
      "text/html": [
       "<pre style=\"white-space:pre;overflow-x:auto;line-height:normal;font-family:Menlo,'DejaVu Sans Mono',consolas,'Courier New',monospace\">Best mean reward: 294.01 - Last mean reward per episode: 294.16\n",
       "</pre>\n"
      ],
      "text/plain": [
       "Best mean reward: 294.01 - Last mean reward per episode: 294.16\n"
      ]
     },
     "metadata": {},
     "output_type": "display_data"
    },
    {
     "data": {
      "text/html": [
       "<pre style=\"white-space:pre;overflow-x:auto;line-height:normal;font-family:Menlo,'DejaVu Sans Mono',consolas,'Courier New',monospace\">Saving new best model to tmp/gym/twoarm_ppo/best_model.zip\n",
       "</pre>\n"
      ],
      "text/plain": [
       "Saving new best model to tmp/gym/twoarm_ppo/best_model.zip\n"
      ]
     },
     "metadata": {},
     "output_type": "display_data"
    },
    {
     "data": {
      "text/html": [
       "<pre style=\"white-space:pre;overflow-x:auto;line-height:normal;font-family:Menlo,'DejaVu Sans Mono',consolas,'Courier New',monospace\">Num timesteps: 249000\n",
       "</pre>\n"
      ],
      "text/plain": [
       "Num timesteps: 249000\n"
      ]
     },
     "metadata": {},
     "output_type": "display_data"
    },
    {
     "data": {
      "text/html": [
       "<pre style=\"white-space:pre;overflow-x:auto;line-height:normal;font-family:Menlo,'DejaVu Sans Mono',consolas,'Courier New',monospace\">Best mean reward: 294.16 - Last mean reward per episode: 294.79\n",
       "</pre>\n"
      ],
      "text/plain": [
       "Best mean reward: 294.16 - Last mean reward per episode: 294.79\n"
      ]
     },
     "metadata": {},
     "output_type": "display_data"
    },
    {
     "data": {
      "text/html": [
       "<pre style=\"white-space:pre;overflow-x:auto;line-height:normal;font-family:Menlo,'DejaVu Sans Mono',consolas,'Courier New',monospace\">Saving new best model to tmp/gym/twoarm_ppo/best_model.zip\n",
       "</pre>\n"
      ],
      "text/plain": [
       "Saving new best model to tmp/gym/twoarm_ppo/best_model.zip\n"
      ]
     },
     "metadata": {},
     "output_type": "display_data"
    },
    {
     "data": {
      "text/html": [
       "<pre style=\"white-space:pre;overflow-x:auto;line-height:normal;font-family:Menlo,'DejaVu Sans Mono',consolas,'Courier New',monospace\">Num timesteps: 250000\n",
       "</pre>\n"
      ],
      "text/plain": [
       "Num timesteps: 250000\n"
      ]
     },
     "metadata": {},
     "output_type": "display_data"
    },
    {
     "data": {
      "text/html": [
       "<pre style=\"white-space:pre;overflow-x:auto;line-height:normal;font-family:Menlo,'DejaVu Sans Mono',consolas,'Courier New',monospace\">Best mean reward: 294.79 - Last mean reward per episode: 295.52\n",
       "</pre>\n"
      ],
      "text/plain": [
       "Best mean reward: 294.79 - Last mean reward per episode: 295.52\n"
      ]
     },
     "metadata": {},
     "output_type": "display_data"
    },
    {
     "data": {
      "text/html": [
       "<pre style=\"white-space:pre;overflow-x:auto;line-height:normal;font-family:Menlo,'DejaVu Sans Mono',consolas,'Courier New',monospace\">Saving new best model to tmp/gym/twoarm_ppo/best_model.zip\n",
       "</pre>\n"
      ],
      "text/plain": [
       "Saving new best model to tmp/gym/twoarm_ppo/best_model.zip\n"
      ]
     },
     "metadata": {},
     "output_type": "display_data"
    },
    {
     "data": {
      "text/html": [
       "<pre style=\"white-space:pre;overflow-x:auto;line-height:normal;font-family:Menlo,'DejaVu Sans Mono',consolas,'Courier New',monospace\">Num timesteps: 251000\n",
       "</pre>\n"
      ],
      "text/plain": [
       "Num timesteps: 251000\n"
      ]
     },
     "metadata": {},
     "output_type": "display_data"
    },
    {
     "data": {
      "text/html": [
       "<pre style=\"white-space:pre;overflow-x:auto;line-height:normal;font-family:Menlo,'DejaVu Sans Mono',consolas,'Courier New',monospace\">Best mean reward: 295.52 - Last mean reward per episode: 295.77\n",
       "</pre>\n"
      ],
      "text/plain": [
       "Best mean reward: 295.52 - Last mean reward per episode: 295.77\n"
      ]
     },
     "metadata": {},
     "output_type": "display_data"
    },
    {
     "data": {
      "text/html": [
       "<pre style=\"white-space:pre;overflow-x:auto;line-height:normal;font-family:Menlo,'DejaVu Sans Mono',consolas,'Courier New',monospace\">Saving new best model to tmp/gym/twoarm_ppo/best_model.zip\n",
       "</pre>\n"
      ],
      "text/plain": [
       "Saving new best model to tmp/gym/twoarm_ppo/best_model.zip\n"
      ]
     },
     "metadata": {},
     "output_type": "display_data"
    },
    {
     "data": {
      "text/html": [
       "<pre style=\"white-space:pre;overflow-x:auto;line-height:normal;font-family:Menlo,'DejaVu Sans Mono',consolas,'Courier New',monospace\">Num timesteps: 252000\n",
       "</pre>\n"
      ],
      "text/plain": [
       "Num timesteps: 252000\n"
      ]
     },
     "metadata": {},
     "output_type": "display_data"
    },
    {
     "data": {
      "text/html": [
       "<pre style=\"white-space:pre;overflow-x:auto;line-height:normal;font-family:Menlo,'DejaVu Sans Mono',consolas,'Courier New',monospace\">Best mean reward: 295.77 - Last mean reward per episode: 296.62\n",
       "</pre>\n"
      ],
      "text/plain": [
       "Best mean reward: 295.77 - Last mean reward per episode: 296.62\n"
      ]
     },
     "metadata": {},
     "output_type": "display_data"
    },
    {
     "data": {
      "text/html": [
       "<pre style=\"white-space:pre;overflow-x:auto;line-height:normal;font-family:Menlo,'DejaVu Sans Mono',consolas,'Courier New',monospace\">Saving new best model to tmp/gym/twoarm_ppo/best_model.zip\n",
       "</pre>\n"
      ],
      "text/plain": [
       "Saving new best model to tmp/gym/twoarm_ppo/best_model.zip\n"
      ]
     },
     "metadata": {},
     "output_type": "display_data"
    },
    {
     "data": {
      "text/html": [
       "<pre style=\"white-space:pre;overflow-x:auto;line-height:normal;font-family:Menlo,'DejaVu Sans Mono',consolas,'Courier New',monospace\">Num timesteps: 253000\n",
       "</pre>\n"
      ],
      "text/plain": [
       "Num timesteps: 253000\n"
      ]
     },
     "metadata": {},
     "output_type": "display_data"
    },
    {
     "data": {
      "text/html": [
       "<pre style=\"white-space:pre;overflow-x:auto;line-height:normal;font-family:Menlo,'DejaVu Sans Mono',consolas,'Courier New',monospace\">Best mean reward: 296.62 - Last mean reward per episode: 297.30\n",
       "</pre>\n"
      ],
      "text/plain": [
       "Best mean reward: 296.62 - Last mean reward per episode: 297.30\n"
      ]
     },
     "metadata": {},
     "output_type": "display_data"
    },
    {
     "data": {
      "text/html": [
       "<pre style=\"white-space:pre;overflow-x:auto;line-height:normal;font-family:Menlo,'DejaVu Sans Mono',consolas,'Courier New',monospace\">Saving new best model to tmp/gym/twoarm_ppo/best_model.zip\n",
       "</pre>\n"
      ],
      "text/plain": [
       "Saving new best model to tmp/gym/twoarm_ppo/best_model.zip\n"
      ]
     },
     "metadata": {},
     "output_type": "display_data"
    },
    {
     "data": {
      "text/html": [
       "<pre style=\"white-space:pre;overflow-x:auto;line-height:normal;font-family:Menlo,'DejaVu Sans Mono',consolas,'Courier New',monospace\">Num timesteps: 254000\n",
       "</pre>\n"
      ],
      "text/plain": [
       "Num timesteps: 254000\n"
      ]
     },
     "metadata": {},
     "output_type": "display_data"
    },
    {
     "data": {
      "text/html": [
       "<pre style=\"white-space:pre;overflow-x:auto;line-height:normal;font-family:Menlo,'DejaVu Sans Mono',consolas,'Courier New',monospace\">Best mean reward: 297.30 - Last mean reward per episode: 296.60\n",
       "</pre>\n"
      ],
      "text/plain": [
       "Best mean reward: 297.30 - Last mean reward per episode: 296.60\n"
      ]
     },
     "metadata": {},
     "output_type": "display_data"
    },
    {
     "data": {
      "text/html": [
       "<pre style=\"white-space:pre;overflow-x:auto;line-height:normal;font-family:Menlo,'DejaVu Sans Mono',consolas,'Courier New',monospace\">Num timesteps: 255000\n",
       "</pre>\n"
      ],
      "text/plain": [
       "Num timesteps: 255000\n"
      ]
     },
     "metadata": {},
     "output_type": "display_data"
    },
    {
     "data": {
      "text/html": [
       "<pre style=\"white-space:pre;overflow-x:auto;line-height:normal;font-family:Menlo,'DejaVu Sans Mono',consolas,'Courier New',monospace\">Best mean reward: 297.30 - Last mean reward per episode: 296.11\n",
       "</pre>\n"
      ],
      "text/plain": [
       "Best mean reward: 297.30 - Last mean reward per episode: 296.11\n"
      ]
     },
     "metadata": {},
     "output_type": "display_data"
    },
    {
     "data": {
      "text/html": [
       "<pre style=\"white-space:pre;overflow-x:auto;line-height:normal;font-family:Menlo,'DejaVu Sans Mono',consolas,'Courier New',monospace\">Num timesteps: 256000\n",
       "</pre>\n"
      ],
      "text/plain": [
       "Num timesteps: 256000\n"
      ]
     },
     "metadata": {},
     "output_type": "display_data"
    },
    {
     "data": {
      "text/html": [
       "<pre style=\"white-space:pre;overflow-x:auto;line-height:normal;font-family:Menlo,'DejaVu Sans Mono',consolas,'Courier New',monospace\">Best mean reward: 297.30 - Last mean reward per episode: 296.28\n",
       "</pre>\n"
      ],
      "text/plain": [
       "Best mean reward: 297.30 - Last mean reward per episode: 296.28\n"
      ]
     },
     "metadata": {},
     "output_type": "display_data"
    },
    {
     "data": {
      "text/html": [
       "<pre style=\"white-space:pre;overflow-x:auto;line-height:normal;font-family:Menlo,'DejaVu Sans Mono',consolas,'Courier New',monospace\">Num timesteps: 257000\n",
       "</pre>\n"
      ],
      "text/plain": [
       "Num timesteps: 257000\n"
      ]
     },
     "metadata": {},
     "output_type": "display_data"
    },
    {
     "data": {
      "text/html": [
       "<pre style=\"white-space:pre;overflow-x:auto;line-height:normal;font-family:Menlo,'DejaVu Sans Mono',consolas,'Courier New',monospace\">Best mean reward: 297.30 - Last mean reward per episode: 295.90\n",
       "</pre>\n"
      ],
      "text/plain": [
       "Best mean reward: 297.30 - Last mean reward per episode: 295.90\n"
      ]
     },
     "metadata": {},
     "output_type": "display_data"
    },
    {
     "data": {
      "text/html": [
       "<pre style=\"white-space:pre;overflow-x:auto;line-height:normal;font-family:Menlo,'DejaVu Sans Mono',consolas,'Courier New',monospace\">Num timesteps: 258000\n",
       "</pre>\n"
      ],
      "text/plain": [
       "Num timesteps: 258000\n"
      ]
     },
     "metadata": {},
     "output_type": "display_data"
    },
    {
     "data": {
      "text/html": [
       "<pre style=\"white-space:pre;overflow-x:auto;line-height:normal;font-family:Menlo,'DejaVu Sans Mono',consolas,'Courier New',monospace\">Best mean reward: 297.30 - Last mean reward per episode: 296.06\n",
       "</pre>\n"
      ],
      "text/plain": [
       "Best mean reward: 297.30 - Last mean reward per episode: 296.06\n"
      ]
     },
     "metadata": {},
     "output_type": "display_data"
    },
    {
     "data": {
      "text/html": [
       "<pre style=\"white-space:pre;overflow-x:auto;line-height:normal;font-family:Menlo,'DejaVu Sans Mono',consolas,'Courier New',monospace\">Num timesteps: 259000\n",
       "</pre>\n"
      ],
      "text/plain": [
       "Num timesteps: 259000\n"
      ]
     },
     "metadata": {},
     "output_type": "display_data"
    },
    {
     "data": {
      "text/html": [
       "<pre style=\"white-space:pre;overflow-x:auto;line-height:normal;font-family:Menlo,'DejaVu Sans Mono',consolas,'Courier New',monospace\">Best mean reward: 297.30 - Last mean reward per episode: 296.93\n",
       "</pre>\n"
      ],
      "text/plain": [
       "Best mean reward: 297.30 - Last mean reward per episode: 296.93\n"
      ]
     },
     "metadata": {},
     "output_type": "display_data"
    },
    {
     "data": {
      "text/html": [
       "<pre style=\"white-space:pre;overflow-x:auto;line-height:normal;font-family:Menlo,'DejaVu Sans Mono',consolas,'Courier New',monospace\">Num timesteps: 260000\n",
       "</pre>\n"
      ],
      "text/plain": [
       "Num timesteps: 260000\n"
      ]
     },
     "metadata": {},
     "output_type": "display_data"
    },
    {
     "data": {
      "text/html": [
       "<pre style=\"white-space:pre;overflow-x:auto;line-height:normal;font-family:Menlo,'DejaVu Sans Mono',consolas,'Courier New',monospace\">Best mean reward: 297.30 - Last mean reward per episode: 297.71\n",
       "</pre>\n"
      ],
      "text/plain": [
       "Best mean reward: 297.30 - Last mean reward per episode: 297.71\n"
      ]
     },
     "metadata": {},
     "output_type": "display_data"
    },
    {
     "data": {
      "text/html": [
       "<pre style=\"white-space:pre;overflow-x:auto;line-height:normal;font-family:Menlo,'DejaVu Sans Mono',consolas,'Courier New',monospace\">Saving new best model to tmp/gym/twoarm_ppo/best_model.zip\n",
       "</pre>\n"
      ],
      "text/plain": [
       "Saving new best model to tmp/gym/twoarm_ppo/best_model.zip\n"
      ]
     },
     "metadata": {},
     "output_type": "display_data"
    },
    {
     "data": {
      "text/html": [
       "<pre style=\"white-space:pre;overflow-x:auto;line-height:normal;font-family:Menlo,'DejaVu Sans Mono',consolas,'Courier New',monospace\">Num timesteps: 261000\n",
       "</pre>\n"
      ],
      "text/plain": [
       "Num timesteps: 261000\n"
      ]
     },
     "metadata": {},
     "output_type": "display_data"
    },
    {
     "data": {
      "text/html": [
       "<pre style=\"white-space:pre;overflow-x:auto;line-height:normal;font-family:Menlo,'DejaVu Sans Mono',consolas,'Courier New',monospace\">Best mean reward: 297.71 - Last mean reward per episode: 298.29\n",
       "</pre>\n"
      ],
      "text/plain": [
       "Best mean reward: 297.71 - Last mean reward per episode: 298.29\n"
      ]
     },
     "metadata": {},
     "output_type": "display_data"
    },
    {
     "data": {
      "text/html": [
       "<pre style=\"white-space:pre;overflow-x:auto;line-height:normal;font-family:Menlo,'DejaVu Sans Mono',consolas,'Courier New',monospace\">Saving new best model to tmp/gym/twoarm_ppo/best_model.zip\n",
       "</pre>\n"
      ],
      "text/plain": [
       "Saving new best model to tmp/gym/twoarm_ppo/best_model.zip\n"
      ]
     },
     "metadata": {},
     "output_type": "display_data"
    },
    {
     "data": {
      "text/html": [
       "<pre style=\"white-space:pre;overflow-x:auto;line-height:normal;font-family:Menlo,'DejaVu Sans Mono',consolas,'Courier New',monospace\">Num timesteps: 262000\n",
       "</pre>\n"
      ],
      "text/plain": [
       "Num timesteps: 262000\n"
      ]
     },
     "metadata": {},
     "output_type": "display_data"
    },
    {
     "data": {
      "text/html": [
       "<pre style=\"white-space:pre;overflow-x:auto;line-height:normal;font-family:Menlo,'DejaVu Sans Mono',consolas,'Courier New',monospace\">Best mean reward: 298.29 - Last mean reward per episode: 298.76\n",
       "</pre>\n"
      ],
      "text/plain": [
       "Best mean reward: 298.29 - Last mean reward per episode: 298.76\n"
      ]
     },
     "metadata": {},
     "output_type": "display_data"
    },
    {
     "data": {
      "text/html": [
       "<pre style=\"white-space:pre;overflow-x:auto;line-height:normal;font-family:Menlo,'DejaVu Sans Mono',consolas,'Courier New',monospace\">Saving new best model to tmp/gym/twoarm_ppo/best_model.zip\n",
       "</pre>\n"
      ],
      "text/plain": [
       "Saving new best model to tmp/gym/twoarm_ppo/best_model.zip\n"
      ]
     },
     "metadata": {},
     "output_type": "display_data"
    },
    {
     "data": {
      "text/html": [
       "<pre style=\"white-space:pre;overflow-x:auto;line-height:normal;font-family:Menlo,'DejaVu Sans Mono',consolas,'Courier New',monospace\">Num timesteps: 263000\n",
       "</pre>\n"
      ],
      "text/plain": [
       "Num timesteps: 263000\n"
      ]
     },
     "metadata": {},
     "output_type": "display_data"
    },
    {
     "data": {
      "text/html": [
       "<pre style=\"white-space:pre;overflow-x:auto;line-height:normal;font-family:Menlo,'DejaVu Sans Mono',consolas,'Courier New',monospace\">Best mean reward: 298.76 - Last mean reward per episode: 298.82\n",
       "</pre>\n"
      ],
      "text/plain": [
       "Best mean reward: 298.76 - Last mean reward per episode: 298.82\n"
      ]
     },
     "metadata": {},
     "output_type": "display_data"
    },
    {
     "data": {
      "text/html": [
       "<pre style=\"white-space:pre;overflow-x:auto;line-height:normal;font-family:Menlo,'DejaVu Sans Mono',consolas,'Courier New',monospace\">Saving new best model to tmp/gym/twoarm_ppo/best_model.zip\n",
       "</pre>\n"
      ],
      "text/plain": [
       "Saving new best model to tmp/gym/twoarm_ppo/best_model.zip\n"
      ]
     },
     "metadata": {},
     "output_type": "display_data"
    },
    {
     "data": {
      "text/html": [
       "<pre style=\"white-space:pre;overflow-x:auto;line-height:normal;font-family:Menlo,'DejaVu Sans Mono',consolas,'Courier New',monospace\">Num timesteps: 264000\n",
       "</pre>\n"
      ],
      "text/plain": [
       "Num timesteps: 264000\n"
      ]
     },
     "metadata": {},
     "output_type": "display_data"
    },
    {
     "data": {
      "text/html": [
       "<pre style=\"white-space:pre;overflow-x:auto;line-height:normal;font-family:Menlo,'DejaVu Sans Mono',consolas,'Courier New',monospace\">Best mean reward: 298.82 - Last mean reward per episode: 299.25\n",
       "</pre>\n"
      ],
      "text/plain": [
       "Best mean reward: 298.82 - Last mean reward per episode: 299.25\n"
      ]
     },
     "metadata": {},
     "output_type": "display_data"
    },
    {
     "data": {
      "text/html": [
       "<pre style=\"white-space:pre;overflow-x:auto;line-height:normal;font-family:Menlo,'DejaVu Sans Mono',consolas,'Courier New',monospace\">Saving new best model to tmp/gym/twoarm_ppo/best_model.zip\n",
       "</pre>\n"
      ],
      "text/plain": [
       "Saving new best model to tmp/gym/twoarm_ppo/best_model.zip\n"
      ]
     },
     "metadata": {},
     "output_type": "display_data"
    },
    {
     "data": {
      "text/html": [
       "<pre style=\"white-space:pre;overflow-x:auto;line-height:normal;font-family:Menlo,'DejaVu Sans Mono',consolas,'Courier New',monospace\">Num timesteps: 265000\n",
       "</pre>\n"
      ],
      "text/plain": [
       "Num timesteps: 265000\n"
      ]
     },
     "metadata": {},
     "output_type": "display_data"
    },
    {
     "data": {
      "text/html": [
       "<pre style=\"white-space:pre;overflow-x:auto;line-height:normal;font-family:Menlo,'DejaVu Sans Mono',consolas,'Courier New',monospace\">Best mean reward: 299.25 - Last mean reward per episode: 299.76\n",
       "</pre>\n"
      ],
      "text/plain": [
       "Best mean reward: 299.25 - Last mean reward per episode: 299.76\n"
      ]
     },
     "metadata": {},
     "output_type": "display_data"
    },
    {
     "data": {
      "text/html": [
       "<pre style=\"white-space:pre;overflow-x:auto;line-height:normal;font-family:Menlo,'DejaVu Sans Mono',consolas,'Courier New',monospace\">Saving new best model to tmp/gym/twoarm_ppo/best_model.zip\n",
       "</pre>\n"
      ],
      "text/plain": [
       "Saving new best model to tmp/gym/twoarm_ppo/best_model.zip\n"
      ]
     },
     "metadata": {},
     "output_type": "display_data"
    },
    {
     "data": {
      "text/html": [
       "<pre style=\"white-space:pre;overflow-x:auto;line-height:normal;font-family:Menlo,'DejaVu Sans Mono',consolas,'Courier New',monospace\">Num timesteps: 266000\n",
       "</pre>\n"
      ],
      "text/plain": [
       "Num timesteps: 266000\n"
      ]
     },
     "metadata": {},
     "output_type": "display_data"
    },
    {
     "data": {
      "text/html": [
       "<pre style=\"white-space:pre;overflow-x:auto;line-height:normal;font-family:Menlo,'DejaVu Sans Mono',consolas,'Courier New',monospace\">Best mean reward: 299.76 - Last mean reward per episode: 300.47\n",
       "</pre>\n"
      ],
      "text/plain": [
       "Best mean reward: 299.76 - Last mean reward per episode: 300.47\n"
      ]
     },
     "metadata": {},
     "output_type": "display_data"
    },
    {
     "data": {
      "text/html": [
       "<pre style=\"white-space:pre;overflow-x:auto;line-height:normal;font-family:Menlo,'DejaVu Sans Mono',consolas,'Courier New',monospace\">Saving new best model to tmp/gym/twoarm_ppo/best_model.zip\n",
       "</pre>\n"
      ],
      "text/plain": [
       "Saving new best model to tmp/gym/twoarm_ppo/best_model.zip\n"
      ]
     },
     "metadata": {},
     "output_type": "display_data"
    },
    {
     "name": "stdout",
     "output_type": "stream",
     "text": [
      "-----------------------------------------\n",
      "| rollout/                |             |\n",
      "|    ep_len_mean          | 500         |\n",
      "|    ep_rew_mean          | 300         |\n",
      "| time/                   |             |\n",
      "|    fps                  | 74          |\n",
      "|    iterations           | 130         |\n",
      "|    time_elapsed         | 3576        |\n",
      "|    total_timesteps      | 266240      |\n",
      "| train/                  |             |\n",
      "|    approx_kl            | 0.054752585 |\n",
      "|    clip_fraction        | 0.397       |\n",
      "|    clip_range           | 0.2         |\n",
      "|    entropy_loss         | -17         |\n",
      "|    explained_variance   | 0.441       |\n",
      "|    learning_rate        | 0.0003      |\n",
      "|    loss                 | 0.313       |\n",
      "|    n_updates            | 1290        |\n",
      "|    policy_gradient_loss | -0.00997    |\n",
      "|    std                  | 0.998       |\n",
      "|    value_loss           | 13.1        |\n",
      "-----------------------------------------\n"
     ]
    },
    {
     "data": {
      "text/html": [
       "<pre style=\"white-space:pre;overflow-x:auto;line-height:normal;font-family:Menlo,'DejaVu Sans Mono',consolas,'Courier New',monospace\">Num timesteps: 267000\n",
       "</pre>\n"
      ],
      "text/plain": [
       "Num timesteps: 267000\n"
      ]
     },
     "metadata": {},
     "output_type": "display_data"
    },
    {
     "data": {
      "text/html": [
       "<pre style=\"white-space:pre;overflow-x:auto;line-height:normal;font-family:Menlo,'DejaVu Sans Mono',consolas,'Courier New',monospace\">Best mean reward: 300.47 - Last mean reward per episode: 302.37\n",
       "</pre>\n"
      ],
      "text/plain": [
       "Best mean reward: 300.47 - Last mean reward per episode: 302.37\n"
      ]
     },
     "metadata": {},
     "output_type": "display_data"
    },
    {
     "data": {
      "text/html": [
       "<pre style=\"white-space:pre;overflow-x:auto;line-height:normal;font-family:Menlo,'DejaVu Sans Mono',consolas,'Courier New',monospace\">Saving new best model to tmp/gym/twoarm_ppo/best_model.zip\n",
       "</pre>\n"
      ],
      "text/plain": [
       "Saving new best model to tmp/gym/twoarm_ppo/best_model.zip\n"
      ]
     },
     "metadata": {},
     "output_type": "display_data"
    },
    {
     "data": {
      "text/html": [
       "<pre style=\"white-space:pre;overflow-x:auto;line-height:normal;font-family:Menlo,'DejaVu Sans Mono',consolas,'Courier New',monospace\">Num timesteps: 268000\n",
       "</pre>\n"
      ],
      "text/plain": [
       "Num timesteps: 268000\n"
      ]
     },
     "metadata": {},
     "output_type": "display_data"
    },
    {
     "data": {
      "text/html": [
       "<pre style=\"white-space:pre;overflow-x:auto;line-height:normal;font-family:Menlo,'DejaVu Sans Mono',consolas,'Courier New',monospace\">Best mean reward: 302.37 - Last mean reward per episode: 302.98\n",
       "</pre>\n"
      ],
      "text/plain": [
       "Best mean reward: 302.37 - Last mean reward per episode: 302.98\n"
      ]
     },
     "metadata": {},
     "output_type": "display_data"
    },
    {
     "data": {
      "text/html": [
       "<pre style=\"white-space:pre;overflow-x:auto;line-height:normal;font-family:Menlo,'DejaVu Sans Mono',consolas,'Courier New',monospace\">Saving new best model to tmp/gym/twoarm_ppo/best_model.zip\n",
       "</pre>\n"
      ],
      "text/plain": [
       "Saving new best model to tmp/gym/twoarm_ppo/best_model.zip\n"
      ]
     },
     "metadata": {},
     "output_type": "display_data"
    },
    {
     "data": {
      "text/html": [
       "<pre style=\"white-space:pre;overflow-x:auto;line-height:normal;font-family:Menlo,'DejaVu Sans Mono',consolas,'Courier New',monospace\">Num timesteps: 269000\n",
       "</pre>\n"
      ],
      "text/plain": [
       "Num timesteps: 269000\n"
      ]
     },
     "metadata": {},
     "output_type": "display_data"
    },
    {
     "data": {
      "text/html": [
       "<pre style=\"white-space:pre;overflow-x:auto;line-height:normal;font-family:Menlo,'DejaVu Sans Mono',consolas,'Courier New',monospace\">Best mean reward: 302.98 - Last mean reward per episode: 303.13\n",
       "</pre>\n"
      ],
      "text/plain": [
       "Best mean reward: 302.98 - Last mean reward per episode: 303.13\n"
      ]
     },
     "metadata": {},
     "output_type": "display_data"
    },
    {
     "data": {
      "text/html": [
       "<pre style=\"white-space:pre;overflow-x:auto;line-height:normal;font-family:Menlo,'DejaVu Sans Mono',consolas,'Courier New',monospace\">Saving new best model to tmp/gym/twoarm_ppo/best_model.zip\n",
       "</pre>\n"
      ],
      "text/plain": [
       "Saving new best model to tmp/gym/twoarm_ppo/best_model.zip\n"
      ]
     },
     "metadata": {},
     "output_type": "display_data"
    },
    {
     "data": {
      "text/html": [
       "<pre style=\"white-space:pre;overflow-x:auto;line-height:normal;font-family:Menlo,'DejaVu Sans Mono',consolas,'Courier New',monospace\">Num timesteps: 270000\n",
       "</pre>\n"
      ],
      "text/plain": [
       "Num timesteps: 270000\n"
      ]
     },
     "metadata": {},
     "output_type": "display_data"
    },
    {
     "data": {
      "text/html": [
       "<pre style=\"white-space:pre;overflow-x:auto;line-height:normal;font-family:Menlo,'DejaVu Sans Mono',consolas,'Courier New',monospace\">Best mean reward: 303.13 - Last mean reward per episode: 302.41\n",
       "</pre>\n"
      ],
      "text/plain": [
       "Best mean reward: 303.13 - Last mean reward per episode: 302.41\n"
      ]
     },
     "metadata": {},
     "output_type": "display_data"
    },
    {
     "data": {
      "text/html": [
       "<pre style=\"white-space:pre;overflow-x:auto;line-height:normal;font-family:Menlo,'DejaVu Sans Mono',consolas,'Courier New',monospace\">Num timesteps: 271000\n",
       "</pre>\n"
      ],
      "text/plain": [
       "Num timesteps: 271000\n"
      ]
     },
     "metadata": {},
     "output_type": "display_data"
    },
    {
     "data": {
      "text/html": [
       "<pre style=\"white-space:pre;overflow-x:auto;line-height:normal;font-family:Menlo,'DejaVu Sans Mono',consolas,'Courier New',monospace\">Best mean reward: 303.13 - Last mean reward per episode: 302.49\n",
       "</pre>\n"
      ],
      "text/plain": [
       "Best mean reward: 303.13 - Last mean reward per episode: 302.49\n"
      ]
     },
     "metadata": {},
     "output_type": "display_data"
    },
    {
     "data": {
      "text/html": [
       "<pre style=\"white-space:pre;overflow-x:auto;line-height:normal;font-family:Menlo,'DejaVu Sans Mono',consolas,'Courier New',monospace\">Num timesteps: 272000\n",
       "</pre>\n"
      ],
      "text/plain": [
       "Num timesteps: 272000\n"
      ]
     },
     "metadata": {},
     "output_type": "display_data"
    },
    {
     "data": {
      "text/html": [
       "<pre style=\"white-space:pre;overflow-x:auto;line-height:normal;font-family:Menlo,'DejaVu Sans Mono',consolas,'Courier New',monospace\">Best mean reward: 303.13 - Last mean reward per episode: 303.07\n",
       "</pre>\n"
      ],
      "text/plain": [
       "Best mean reward: 303.13 - Last mean reward per episode: 303.07\n"
      ]
     },
     "metadata": {},
     "output_type": "display_data"
    },
    {
     "data": {
      "text/html": [
       "<pre style=\"white-space:pre;overflow-x:auto;line-height:normal;font-family:Menlo,'DejaVu Sans Mono',consolas,'Courier New',monospace\">Num timesteps: 273000\n",
       "</pre>\n"
      ],
      "text/plain": [
       "Num timesteps: 273000\n"
      ]
     },
     "metadata": {},
     "output_type": "display_data"
    },
    {
     "data": {
      "text/html": [
       "<pre style=\"white-space:pre;overflow-x:auto;line-height:normal;font-family:Menlo,'DejaVu Sans Mono',consolas,'Courier New',monospace\">Best mean reward: 303.13 - Last mean reward per episode: 304.10\n",
       "</pre>\n"
      ],
      "text/plain": [
       "Best mean reward: 303.13 - Last mean reward per episode: 304.10\n"
      ]
     },
     "metadata": {},
     "output_type": "display_data"
    },
    {
     "data": {
      "text/html": [
       "<pre style=\"white-space:pre;overflow-x:auto;line-height:normal;font-family:Menlo,'DejaVu Sans Mono',consolas,'Courier New',monospace\">Saving new best model to tmp/gym/twoarm_ppo/best_model.zip\n",
       "</pre>\n"
      ],
      "text/plain": [
       "Saving new best model to tmp/gym/twoarm_ppo/best_model.zip\n"
      ]
     },
     "metadata": {},
     "output_type": "display_data"
    },
    {
     "data": {
      "text/html": [
       "<pre style=\"white-space:pre;overflow-x:auto;line-height:normal;font-family:Menlo,'DejaVu Sans Mono',consolas,'Courier New',monospace\">Num timesteps: 274000\n",
       "</pre>\n"
      ],
      "text/plain": [
       "Num timesteps: 274000\n"
      ]
     },
     "metadata": {},
     "output_type": "display_data"
    },
    {
     "data": {
      "text/html": [
       "<pre style=\"white-space:pre;overflow-x:auto;line-height:normal;font-family:Menlo,'DejaVu Sans Mono',consolas,'Courier New',monospace\">Best mean reward: 304.10 - Last mean reward per episode: 304.74\n",
       "</pre>\n"
      ],
      "text/plain": [
       "Best mean reward: 304.10 - Last mean reward per episode: 304.74\n"
      ]
     },
     "metadata": {},
     "output_type": "display_data"
    },
    {
     "data": {
      "text/html": [
       "<pre style=\"white-space:pre;overflow-x:auto;line-height:normal;font-family:Menlo,'DejaVu Sans Mono',consolas,'Courier New',monospace\">Saving new best model to tmp/gym/twoarm_ppo/best_model.zip\n",
       "</pre>\n"
      ],
      "text/plain": [
       "Saving new best model to tmp/gym/twoarm_ppo/best_model.zip\n"
      ]
     },
     "metadata": {},
     "output_type": "display_data"
    },
    {
     "data": {
      "text/html": [
       "<pre style=\"white-space:pre;overflow-x:auto;line-height:normal;font-family:Menlo,'DejaVu Sans Mono',consolas,'Courier New',monospace\">Num timesteps: 275000\n",
       "</pre>\n"
      ],
      "text/plain": [
       "Num timesteps: 275000\n"
      ]
     },
     "metadata": {},
     "output_type": "display_data"
    },
    {
     "data": {
      "text/html": [
       "<pre style=\"white-space:pre;overflow-x:auto;line-height:normal;font-family:Menlo,'DejaVu Sans Mono',consolas,'Courier New',monospace\">Best mean reward: 304.74 - Last mean reward per episode: 305.55\n",
       "</pre>\n"
      ],
      "text/plain": [
       "Best mean reward: 304.74 - Last mean reward per episode: 305.55\n"
      ]
     },
     "metadata": {},
     "output_type": "display_data"
    },
    {
     "data": {
      "text/html": [
       "<pre style=\"white-space:pre;overflow-x:auto;line-height:normal;font-family:Menlo,'DejaVu Sans Mono',consolas,'Courier New',monospace\">Saving new best model to tmp/gym/twoarm_ppo/best_model.zip\n",
       "</pre>\n"
      ],
      "text/plain": [
       "Saving new best model to tmp/gym/twoarm_ppo/best_model.zip\n"
      ]
     },
     "metadata": {},
     "output_type": "display_data"
    },
    {
     "data": {
      "text/html": [
       "<pre style=\"white-space:pre;overflow-x:auto;line-height:normal;font-family:Menlo,'DejaVu Sans Mono',consolas,'Courier New',monospace\">Num timesteps: 276000\n",
       "</pre>\n"
      ],
      "text/plain": [
       "Num timesteps: 276000\n"
      ]
     },
     "metadata": {},
     "output_type": "display_data"
    },
    {
     "data": {
      "text/html": [
       "<pre style=\"white-space:pre;overflow-x:auto;line-height:normal;font-family:Menlo,'DejaVu Sans Mono',consolas,'Courier New',monospace\">Best mean reward: 305.55 - Last mean reward per episode: 305.92\n",
       "</pre>\n"
      ],
      "text/plain": [
       "Best mean reward: 305.55 - Last mean reward per episode: 305.92\n"
      ]
     },
     "metadata": {},
     "output_type": "display_data"
    },
    {
     "data": {
      "text/html": [
       "<pre style=\"white-space:pre;overflow-x:auto;line-height:normal;font-family:Menlo,'DejaVu Sans Mono',consolas,'Courier New',monospace\">Saving new best model to tmp/gym/twoarm_ppo/best_model.zip\n",
       "</pre>\n"
      ],
      "text/plain": [
       "Saving new best model to tmp/gym/twoarm_ppo/best_model.zip\n"
      ]
     },
     "metadata": {},
     "output_type": "display_data"
    },
    {
     "data": {
      "text/html": [
       "<pre style=\"white-space:pre;overflow-x:auto;line-height:normal;font-family:Menlo,'DejaVu Sans Mono',consolas,'Courier New',monospace\">Num timesteps: 277000\n",
       "</pre>\n"
      ],
      "text/plain": [
       "Num timesteps: 277000\n"
      ]
     },
     "metadata": {},
     "output_type": "display_data"
    },
    {
     "data": {
      "text/html": [
       "<pre style=\"white-space:pre;overflow-x:auto;line-height:normal;font-family:Menlo,'DejaVu Sans Mono',consolas,'Courier New',monospace\">Best mean reward: 305.92 - Last mean reward per episode: 306.30\n",
       "</pre>\n"
      ],
      "text/plain": [
       "Best mean reward: 305.92 - Last mean reward per episode: 306.30\n"
      ]
     },
     "metadata": {},
     "output_type": "display_data"
    },
    {
     "data": {
      "text/html": [
       "<pre style=\"white-space:pre;overflow-x:auto;line-height:normal;font-family:Menlo,'DejaVu Sans Mono',consolas,'Courier New',monospace\">Saving new best model to tmp/gym/twoarm_ppo/best_model.zip\n",
       "</pre>\n"
      ],
      "text/plain": [
       "Saving new best model to tmp/gym/twoarm_ppo/best_model.zip\n"
      ]
     },
     "metadata": {},
     "output_type": "display_data"
    },
    {
     "data": {
      "text/html": [
       "<pre style=\"white-space:pre;overflow-x:auto;line-height:normal;font-family:Menlo,'DejaVu Sans Mono',consolas,'Courier New',monospace\">Num timesteps: 278000\n",
       "</pre>\n"
      ],
      "text/plain": [
       "Num timesteps: 278000\n"
      ]
     },
     "metadata": {},
     "output_type": "display_data"
    },
    {
     "data": {
      "text/html": [
       "<pre style=\"white-space:pre;overflow-x:auto;line-height:normal;font-family:Menlo,'DejaVu Sans Mono',consolas,'Courier New',monospace\">Best mean reward: 306.30 - Last mean reward per episode: 307.00\n",
       "</pre>\n"
      ],
      "text/plain": [
       "Best mean reward: 306.30 - Last mean reward per episode: 307.00\n"
      ]
     },
     "metadata": {},
     "output_type": "display_data"
    },
    {
     "data": {
      "text/html": [
       "<pre style=\"white-space:pre;overflow-x:auto;line-height:normal;font-family:Menlo,'DejaVu Sans Mono',consolas,'Courier New',monospace\">Saving new best model to tmp/gym/twoarm_ppo/best_model.zip\n",
       "</pre>\n"
      ],
      "text/plain": [
       "Saving new best model to tmp/gym/twoarm_ppo/best_model.zip\n"
      ]
     },
     "metadata": {},
     "output_type": "display_data"
    },
    {
     "data": {
      "text/html": [
       "<pre style=\"white-space:pre;overflow-x:auto;line-height:normal;font-family:Menlo,'DejaVu Sans Mono',consolas,'Courier New',monospace\">Num timesteps: 279000\n",
       "</pre>\n"
      ],
      "text/plain": [
       "Num timesteps: 279000\n"
      ]
     },
     "metadata": {},
     "output_type": "display_data"
    },
    {
     "data": {
      "text/html": [
       "<pre style=\"white-space:pre;overflow-x:auto;line-height:normal;font-family:Menlo,'DejaVu Sans Mono',consolas,'Courier New',monospace\">Best mean reward: 307.00 - Last mean reward per episode: 306.70\n",
       "</pre>\n"
      ],
      "text/plain": [
       "Best mean reward: 307.00 - Last mean reward per episode: 306.70\n"
      ]
     },
     "metadata": {},
     "output_type": "display_data"
    },
    {
     "data": {
      "text/html": [
       "<pre style=\"white-space:pre;overflow-x:auto;line-height:normal;font-family:Menlo,'DejaVu Sans Mono',consolas,'Courier New',monospace\">Num timesteps: 280000\n",
       "</pre>\n"
      ],
      "text/plain": [
       "Num timesteps: 280000\n"
      ]
     },
     "metadata": {},
     "output_type": "display_data"
    },
    {
     "data": {
      "text/html": [
       "<pre style=\"white-space:pre;overflow-x:auto;line-height:normal;font-family:Menlo,'DejaVu Sans Mono',consolas,'Courier New',monospace\">Best mean reward: 307.00 - Last mean reward per episode: 306.42\n",
       "</pre>\n"
      ],
      "text/plain": [
       "Best mean reward: 307.00 - Last mean reward per episode: 306.42\n"
      ]
     },
     "metadata": {},
     "output_type": "display_data"
    },
    {
     "data": {
      "text/html": [
       "<pre style=\"white-space:pre;overflow-x:auto;line-height:normal;font-family:Menlo,'DejaVu Sans Mono',consolas,'Courier New',monospace\">Num timesteps: 281000\n",
       "</pre>\n"
      ],
      "text/plain": [
       "Num timesteps: 281000\n"
      ]
     },
     "metadata": {},
     "output_type": "display_data"
    },
    {
     "data": {
      "text/html": [
       "<pre style=\"white-space:pre;overflow-x:auto;line-height:normal;font-family:Menlo,'DejaVu Sans Mono',consolas,'Courier New',monospace\">Best mean reward: 307.00 - Last mean reward per episode: 306.85\n",
       "</pre>\n"
      ],
      "text/plain": [
       "Best mean reward: 307.00 - Last mean reward per episode: 306.85\n"
      ]
     },
     "metadata": {},
     "output_type": "display_data"
    },
    {
     "data": {
      "text/html": [
       "<pre style=\"white-space:pre;overflow-x:auto;line-height:normal;font-family:Menlo,'DejaVu Sans Mono',consolas,'Courier New',monospace\">Num timesteps: 282000\n",
       "</pre>\n"
      ],
      "text/plain": [
       "Num timesteps: 282000\n"
      ]
     },
     "metadata": {},
     "output_type": "display_data"
    },
    {
     "data": {
      "text/html": [
       "<pre style=\"white-space:pre;overflow-x:auto;line-height:normal;font-family:Menlo,'DejaVu Sans Mono',consolas,'Courier New',monospace\">Best mean reward: 307.00 - Last mean reward per episode: 306.81\n",
       "</pre>\n"
      ],
      "text/plain": [
       "Best mean reward: 307.00 - Last mean reward per episode: 306.81\n"
      ]
     },
     "metadata": {},
     "output_type": "display_data"
    },
    {
     "data": {
      "text/html": [
       "<pre style=\"white-space:pre;overflow-x:auto;line-height:normal;font-family:Menlo,'DejaVu Sans Mono',consolas,'Courier New',monospace\">Num timesteps: 283000\n",
       "</pre>\n"
      ],
      "text/plain": [
       "Num timesteps: 283000\n"
      ]
     },
     "metadata": {},
     "output_type": "display_data"
    },
    {
     "data": {
      "text/html": [
       "<pre style=\"white-space:pre;overflow-x:auto;line-height:normal;font-family:Menlo,'DejaVu Sans Mono',consolas,'Courier New',monospace\">Best mean reward: 307.00 - Last mean reward per episode: 307.16\n",
       "</pre>\n"
      ],
      "text/plain": [
       "Best mean reward: 307.00 - Last mean reward per episode: 307.16\n"
      ]
     },
     "metadata": {},
     "output_type": "display_data"
    },
    {
     "data": {
      "text/html": [
       "<pre style=\"white-space:pre;overflow-x:auto;line-height:normal;font-family:Menlo,'DejaVu Sans Mono',consolas,'Courier New',monospace\">Saving new best model to tmp/gym/twoarm_ppo/best_model.zip\n",
       "</pre>\n"
      ],
      "text/plain": [
       "Saving new best model to tmp/gym/twoarm_ppo/best_model.zip\n"
      ]
     },
     "metadata": {},
     "output_type": "display_data"
    },
    {
     "data": {
      "text/html": [
       "<pre style=\"white-space:pre;overflow-x:auto;line-height:normal;font-family:Menlo,'DejaVu Sans Mono',consolas,'Courier New',monospace\">Num timesteps: 284000\n",
       "</pre>\n"
      ],
      "text/plain": [
       "Num timesteps: 284000\n"
      ]
     },
     "metadata": {},
     "output_type": "display_data"
    },
    {
     "data": {
      "text/html": [
       "<pre style=\"white-space:pre;overflow-x:auto;line-height:normal;font-family:Menlo,'DejaVu Sans Mono',consolas,'Courier New',monospace\">Best mean reward: 307.16 - Last mean reward per episode: 307.08\n",
       "</pre>\n"
      ],
      "text/plain": [
       "Best mean reward: 307.16 - Last mean reward per episode: 307.08\n"
      ]
     },
     "metadata": {},
     "output_type": "display_data"
    },
    {
     "data": {
      "text/html": [
       "<pre style=\"white-space:pre;overflow-x:auto;line-height:normal;font-family:Menlo,'DejaVu Sans Mono',consolas,'Courier New',monospace\">Num timesteps: 285000\n",
       "</pre>\n"
      ],
      "text/plain": [
       "Num timesteps: 285000\n"
      ]
     },
     "metadata": {},
     "output_type": "display_data"
    },
    {
     "data": {
      "text/html": [
       "<pre style=\"white-space:pre;overflow-x:auto;line-height:normal;font-family:Menlo,'DejaVu Sans Mono',consolas,'Courier New',monospace\">Best mean reward: 307.16 - Last mean reward per episode: 306.78\n",
       "</pre>\n"
      ],
      "text/plain": [
       "Best mean reward: 307.16 - Last mean reward per episode: 306.78\n"
      ]
     },
     "metadata": {},
     "output_type": "display_data"
    },
    {
     "data": {
      "text/html": [
       "<pre style=\"white-space:pre;overflow-x:auto;line-height:normal;font-family:Menlo,'DejaVu Sans Mono',consolas,'Courier New',monospace\">Num timesteps: 286000\n",
       "</pre>\n"
      ],
      "text/plain": [
       "Num timesteps: 286000\n"
      ]
     },
     "metadata": {},
     "output_type": "display_data"
    },
    {
     "data": {
      "text/html": [
       "<pre style=\"white-space:pre;overflow-x:auto;line-height:normal;font-family:Menlo,'DejaVu Sans Mono',consolas,'Courier New',monospace\">Best mean reward: 307.16 - Last mean reward per episode: 306.69\n",
       "</pre>\n"
      ],
      "text/plain": [
       "Best mean reward: 307.16 - Last mean reward per episode: 306.69\n"
      ]
     },
     "metadata": {},
     "output_type": "display_data"
    },
    {
     "name": "stdout",
     "output_type": "stream",
     "text": [
      "-----------------------------------------\n",
      "| rollout/                |             |\n",
      "|    ep_len_mean          | 500         |\n",
      "|    ep_rew_mean          | 307         |\n",
      "| time/                   |             |\n",
      "|    fps                  | 73          |\n",
      "|    iterations           | 140         |\n",
      "|    time_elapsed         | 3893        |\n",
      "|    total_timesteps      | 286720      |\n",
      "| train/                  |             |\n",
      "|    approx_kl            | 0.056276172 |\n",
      "|    clip_fraction        | 0.477       |\n",
      "|    clip_range           | 0.2         |\n",
      "|    entropy_loss         | -17         |\n",
      "|    explained_variance   | 0.277       |\n",
      "|    learning_rate        | 0.0003      |\n",
      "|    loss                 | 0.342       |\n",
      "|    n_updates            | 1390        |\n",
      "|    policy_gradient_loss | 0.00683     |\n",
      "|    std                  | 0.996       |\n",
      "|    value_loss           | 10.7        |\n",
      "-----------------------------------------\n"
     ]
    },
    {
     "data": {
      "text/html": [
       "<pre style=\"white-space:pre;overflow-x:auto;line-height:normal;font-family:Menlo,'DejaVu Sans Mono',consolas,'Courier New',monospace\">Num timesteps: 287000\n",
       "</pre>\n"
      ],
      "text/plain": [
       "Num timesteps: 287000\n"
      ]
     },
     "metadata": {},
     "output_type": "display_data"
    },
    {
     "data": {
      "text/html": [
       "<pre style=\"white-space:pre;overflow-x:auto;line-height:normal;font-family:Menlo,'DejaVu Sans Mono',consolas,'Courier New',monospace\">Best mean reward: 307.16 - Last mean reward per episode: 306.82\n",
       "</pre>\n"
      ],
      "text/plain": [
       "Best mean reward: 307.16 - Last mean reward per episode: 306.82\n"
      ]
     },
     "metadata": {},
     "output_type": "display_data"
    },
    {
     "data": {
      "text/html": [
       "<pre style=\"white-space:pre;overflow-x:auto;line-height:normal;font-family:Menlo,'DejaVu Sans Mono',consolas,'Courier New',monospace\">Num timesteps: 288000\n",
       "</pre>\n"
      ],
      "text/plain": [
       "Num timesteps: 288000\n"
      ]
     },
     "metadata": {},
     "output_type": "display_data"
    },
    {
     "data": {
      "text/html": [
       "<pre style=\"white-space:pre;overflow-x:auto;line-height:normal;font-family:Menlo,'DejaVu Sans Mono',consolas,'Courier New',monospace\">Best mean reward: 307.16 - Last mean reward per episode: 306.48\n",
       "</pre>\n"
      ],
      "text/plain": [
       "Best mean reward: 307.16 - Last mean reward per episode: 306.48\n"
      ]
     },
     "metadata": {},
     "output_type": "display_data"
    },
    {
     "data": {
      "text/html": [
       "<pre style=\"white-space:pre;overflow-x:auto;line-height:normal;font-family:Menlo,'DejaVu Sans Mono',consolas,'Courier New',monospace\">Num timesteps: 289000\n",
       "</pre>\n"
      ],
      "text/plain": [
       "Num timesteps: 289000\n"
      ]
     },
     "metadata": {},
     "output_type": "display_data"
    },
    {
     "data": {
      "text/html": [
       "<pre style=\"white-space:pre;overflow-x:auto;line-height:normal;font-family:Menlo,'DejaVu Sans Mono',consolas,'Courier New',monospace\">Best mean reward: 307.16 - Last mean reward per episode: 305.28\n",
       "</pre>\n"
      ],
      "text/plain": [
       "Best mean reward: 307.16 - Last mean reward per episode: 305.28\n"
      ]
     },
     "metadata": {},
     "output_type": "display_data"
    },
    {
     "data": {
      "text/html": [
       "<pre style=\"white-space:pre;overflow-x:auto;line-height:normal;font-family:Menlo,'DejaVu Sans Mono',consolas,'Courier New',monospace\">Num timesteps: 290000\n",
       "</pre>\n"
      ],
      "text/plain": [
       "Num timesteps: 290000\n"
      ]
     },
     "metadata": {},
     "output_type": "display_data"
    },
    {
     "data": {
      "text/html": [
       "<pre style=\"white-space:pre;overflow-x:auto;line-height:normal;font-family:Menlo,'DejaVu Sans Mono',consolas,'Courier New',monospace\">Best mean reward: 307.16 - Last mean reward per episode: 304.75\n",
       "</pre>\n"
      ],
      "text/plain": [
       "Best mean reward: 307.16 - Last mean reward per episode: 304.75\n"
      ]
     },
     "metadata": {},
     "output_type": "display_data"
    },
    {
     "data": {
      "text/html": [
       "<pre style=\"white-space:pre;overflow-x:auto;line-height:normal;font-family:Menlo,'DejaVu Sans Mono',consolas,'Courier New',monospace\">Num timesteps: 291000\n",
       "</pre>\n"
      ],
      "text/plain": [
       "Num timesteps: 291000\n"
      ]
     },
     "metadata": {},
     "output_type": "display_data"
    },
    {
     "data": {
      "text/html": [
       "<pre style=\"white-space:pre;overflow-x:auto;line-height:normal;font-family:Menlo,'DejaVu Sans Mono',consolas,'Courier New',monospace\">Best mean reward: 307.16 - Last mean reward per episode: 305.10\n",
       "</pre>\n"
      ],
      "text/plain": [
       "Best mean reward: 307.16 - Last mean reward per episode: 305.10\n"
      ]
     },
     "metadata": {},
     "output_type": "display_data"
    },
    {
     "data": {
      "text/html": [
       "<pre style=\"white-space:pre;overflow-x:auto;line-height:normal;font-family:Menlo,'DejaVu Sans Mono',consolas,'Courier New',monospace\">Num timesteps: 292000\n",
       "</pre>\n"
      ],
      "text/plain": [
       "Num timesteps: 292000\n"
      ]
     },
     "metadata": {},
     "output_type": "display_data"
    },
    {
     "data": {
      "text/html": [
       "<pre style=\"white-space:pre;overflow-x:auto;line-height:normal;font-family:Menlo,'DejaVu Sans Mono',consolas,'Courier New',monospace\">Best mean reward: 307.16 - Last mean reward per episode: 304.66\n",
       "</pre>\n"
      ],
      "text/plain": [
       "Best mean reward: 307.16 - Last mean reward per episode: 304.66\n"
      ]
     },
     "metadata": {},
     "output_type": "display_data"
    },
    {
     "data": {
      "text/html": [
       "<pre style=\"white-space:pre;overflow-x:auto;line-height:normal;font-family:Menlo,'DejaVu Sans Mono',consolas,'Courier New',monospace\">Num timesteps: 293000\n",
       "</pre>\n"
      ],
      "text/plain": [
       "Num timesteps: 293000\n"
      ]
     },
     "metadata": {},
     "output_type": "display_data"
    },
    {
     "data": {
      "text/html": [
       "<pre style=\"white-space:pre;overflow-x:auto;line-height:normal;font-family:Menlo,'DejaVu Sans Mono',consolas,'Courier New',monospace\">Best mean reward: 307.16 - Last mean reward per episode: 304.00\n",
       "</pre>\n"
      ],
      "text/plain": [
       "Best mean reward: 307.16 - Last mean reward per episode: 304.00\n"
      ]
     },
     "metadata": {},
     "output_type": "display_data"
    },
    {
     "data": {
      "text/html": [
       "<pre style=\"white-space:pre;overflow-x:auto;line-height:normal;font-family:Menlo,'DejaVu Sans Mono',consolas,'Courier New',monospace\">Num timesteps: 294000\n",
       "</pre>\n"
      ],
      "text/plain": [
       "Num timesteps: 294000\n"
      ]
     },
     "metadata": {},
     "output_type": "display_data"
    },
    {
     "data": {
      "text/html": [
       "<pre style=\"white-space:pre;overflow-x:auto;line-height:normal;font-family:Menlo,'DejaVu Sans Mono',consolas,'Courier New',monospace\">Best mean reward: 307.16 - Last mean reward per episode: 303.87\n",
       "</pre>\n"
      ],
      "text/plain": [
       "Best mean reward: 307.16 - Last mean reward per episode: 303.87\n"
      ]
     },
     "metadata": {},
     "output_type": "display_data"
    },
    {
     "data": {
      "text/html": [
       "<pre style=\"white-space:pre;overflow-x:auto;line-height:normal;font-family:Menlo,'DejaVu Sans Mono',consolas,'Courier New',monospace\">Num timesteps: 295000\n",
       "</pre>\n"
      ],
      "text/plain": [
       "Num timesteps: 295000\n"
      ]
     },
     "metadata": {},
     "output_type": "display_data"
    },
    {
     "data": {
      "text/html": [
       "<pre style=\"white-space:pre;overflow-x:auto;line-height:normal;font-family:Menlo,'DejaVu Sans Mono',consolas,'Courier New',monospace\">Best mean reward: 307.16 - Last mean reward per episode: 303.79\n",
       "</pre>\n"
      ],
      "text/plain": [
       "Best mean reward: 307.16 - Last mean reward per episode: 303.79\n"
      ]
     },
     "metadata": {},
     "output_type": "display_data"
    },
    {
     "data": {
      "text/html": [
       "<pre style=\"white-space:pre;overflow-x:auto;line-height:normal;font-family:Menlo,'DejaVu Sans Mono',consolas,'Courier New',monospace\">Num timesteps: 296000\n",
       "</pre>\n"
      ],
      "text/plain": [
       "Num timesteps: 296000\n"
      ]
     },
     "metadata": {},
     "output_type": "display_data"
    },
    {
     "data": {
      "text/html": [
       "<pre style=\"white-space:pre;overflow-x:auto;line-height:normal;font-family:Menlo,'DejaVu Sans Mono',consolas,'Courier New',monospace\">Best mean reward: 307.16 - Last mean reward per episode: 303.62\n",
       "</pre>\n"
      ],
      "text/plain": [
       "Best mean reward: 307.16 - Last mean reward per episode: 303.62\n"
      ]
     },
     "metadata": {},
     "output_type": "display_data"
    },
    {
     "data": {
      "text/html": [
       "<pre style=\"white-space:pre;overflow-x:auto;line-height:normal;font-family:Menlo,'DejaVu Sans Mono',consolas,'Courier New',monospace\">Num timesteps: 297000\n",
       "</pre>\n"
      ],
      "text/plain": [
       "Num timesteps: 297000\n"
      ]
     },
     "metadata": {},
     "output_type": "display_data"
    },
    {
     "data": {
      "text/html": [
       "<pre style=\"white-space:pre;overflow-x:auto;line-height:normal;font-family:Menlo,'DejaVu Sans Mono',consolas,'Courier New',monospace\">Best mean reward: 307.16 - Last mean reward per episode: 302.99\n",
       "</pre>\n"
      ],
      "text/plain": [
       "Best mean reward: 307.16 - Last mean reward per episode: 302.99\n"
      ]
     },
     "metadata": {},
     "output_type": "display_data"
    },
    {
     "data": {
      "text/html": [
       "<pre style=\"white-space:pre;overflow-x:auto;line-height:normal;font-family:Menlo,'DejaVu Sans Mono',consolas,'Courier New',monospace\">Num timesteps: 298000\n",
       "</pre>\n"
      ],
      "text/plain": [
       "Num timesteps: 298000\n"
      ]
     },
     "metadata": {},
     "output_type": "display_data"
    },
    {
     "data": {
      "text/html": [
       "<pre style=\"white-space:pre;overflow-x:auto;line-height:normal;font-family:Menlo,'DejaVu Sans Mono',consolas,'Courier New',monospace\">Best mean reward: 307.16 - Last mean reward per episode: 302.81\n",
       "</pre>\n"
      ],
      "text/plain": [
       "Best mean reward: 307.16 - Last mean reward per episode: 302.81\n"
      ]
     },
     "metadata": {},
     "output_type": "display_data"
    },
    {
     "data": {
      "text/html": [
       "<pre style=\"white-space:pre;overflow-x:auto;line-height:normal;font-family:Menlo,'DejaVu Sans Mono',consolas,'Courier New',monospace\">Num timesteps: 299000\n",
       "</pre>\n"
      ],
      "text/plain": [
       "Num timesteps: 299000\n"
      ]
     },
     "metadata": {},
     "output_type": "display_data"
    },
    {
     "data": {
      "text/html": [
       "<pre style=\"white-space:pre;overflow-x:auto;line-height:normal;font-family:Menlo,'DejaVu Sans Mono',consolas,'Courier New',monospace\">Best mean reward: 307.16 - Last mean reward per episode: 302.24\n",
       "</pre>\n"
      ],
      "text/plain": [
       "Best mean reward: 307.16 - Last mean reward per episode: 302.24\n"
      ]
     },
     "metadata": {},
     "output_type": "display_data"
    },
    {
     "data": {
      "text/html": [
       "<pre style=\"white-space:pre;overflow-x:auto;line-height:normal;font-family:Menlo,'DejaVu Sans Mono',consolas,'Courier New',monospace\">Num timesteps: 300000\n",
       "</pre>\n"
      ],
      "text/plain": [
       "Num timesteps: 300000\n"
      ]
     },
     "metadata": {},
     "output_type": "display_data"
    },
    {
     "data": {
      "text/html": [
       "<pre style=\"white-space:pre;overflow-x:auto;line-height:normal;font-family:Menlo,'DejaVu Sans Mono',consolas,'Courier New',monospace\">Best mean reward: 307.16 - Last mean reward per episode: 302.12\n",
       "</pre>\n"
      ],
      "text/plain": [
       "Best mean reward: 307.16 - Last mean reward per episode: 302.12\n"
      ]
     },
     "metadata": {},
     "output_type": "display_data"
    },
    {
     "data": {
      "text/html": [
       "<pre style=\"white-space:pre;overflow-x:auto;line-height:normal;font-family:Menlo,'DejaVu Sans Mono',consolas,'Courier New',monospace\">Num timesteps: 301000\n",
       "</pre>\n"
      ],
      "text/plain": [
       "Num timesteps: 301000\n"
      ]
     },
     "metadata": {},
     "output_type": "display_data"
    },
    {
     "data": {
      "text/html": [
       "<pre style=\"white-space:pre;overflow-x:auto;line-height:normal;font-family:Menlo,'DejaVu Sans Mono',consolas,'Courier New',monospace\">Best mean reward: 307.16 - Last mean reward per episode: 302.42\n",
       "</pre>\n"
      ],
      "text/plain": [
       "Best mean reward: 307.16 - Last mean reward per episode: 302.42\n"
      ]
     },
     "metadata": {},
     "output_type": "display_data"
    },
    {
     "data": {
      "text/html": [
       "<pre style=\"white-space:pre;overflow-x:auto;line-height:normal;font-family:Menlo,'DejaVu Sans Mono',consolas,'Courier New',monospace\">Num timesteps: 302000\n",
       "</pre>\n"
      ],
      "text/plain": [
       "Num timesteps: 302000\n"
      ]
     },
     "metadata": {},
     "output_type": "display_data"
    },
    {
     "data": {
      "text/html": [
       "<pre style=\"white-space:pre;overflow-x:auto;line-height:normal;font-family:Menlo,'DejaVu Sans Mono',consolas,'Courier New',monospace\">Best mean reward: 307.16 - Last mean reward per episode: 301.95\n",
       "</pre>\n"
      ],
      "text/plain": [
       "Best mean reward: 307.16 - Last mean reward per episode: 301.95\n"
      ]
     },
     "metadata": {},
     "output_type": "display_data"
    },
    {
     "data": {
      "text/html": [
       "<pre style=\"white-space:pre;overflow-x:auto;line-height:normal;font-family:Menlo,'DejaVu Sans Mono',consolas,'Courier New',monospace\">Num timesteps: 303000\n",
       "</pre>\n"
      ],
      "text/plain": [
       "Num timesteps: 303000\n"
      ]
     },
     "metadata": {},
     "output_type": "display_data"
    },
    {
     "data": {
      "text/html": [
       "<pre style=\"white-space:pre;overflow-x:auto;line-height:normal;font-family:Menlo,'DejaVu Sans Mono',consolas,'Courier New',monospace\">Best mean reward: 307.16 - Last mean reward per episode: 301.42\n",
       "</pre>\n"
      ],
      "text/plain": [
       "Best mean reward: 307.16 - Last mean reward per episode: 301.42\n"
      ]
     },
     "metadata": {},
     "output_type": "display_data"
    },
    {
     "data": {
      "text/html": [
       "<pre style=\"white-space:pre;overflow-x:auto;line-height:normal;font-family:Menlo,'DejaVu Sans Mono',consolas,'Courier New',monospace\">Num timesteps: 304000\n",
       "</pre>\n"
      ],
      "text/plain": [
       "Num timesteps: 304000\n"
      ]
     },
     "metadata": {},
     "output_type": "display_data"
    },
    {
     "data": {
      "text/html": [
       "<pre style=\"white-space:pre;overflow-x:auto;line-height:normal;font-family:Menlo,'DejaVu Sans Mono',consolas,'Courier New',monospace\">Best mean reward: 307.16 - Last mean reward per episode: 301.66\n",
       "</pre>\n"
      ],
      "text/plain": [
       "Best mean reward: 307.16 - Last mean reward per episode: 301.66\n"
      ]
     },
     "metadata": {},
     "output_type": "display_data"
    },
    {
     "data": {
      "text/html": [
       "<pre style=\"white-space:pre;overflow-x:auto;line-height:normal;font-family:Menlo,'DejaVu Sans Mono',consolas,'Courier New',monospace\">Num timesteps: 305000\n",
       "</pre>\n"
      ],
      "text/plain": [
       "Num timesteps: 305000\n"
      ]
     },
     "metadata": {},
     "output_type": "display_data"
    },
    {
     "data": {
      "text/html": [
       "<pre style=\"white-space:pre;overflow-x:auto;line-height:normal;font-family:Menlo,'DejaVu Sans Mono',consolas,'Courier New',monospace\">Best mean reward: 307.16 - Last mean reward per episode: 302.21\n",
       "</pre>\n"
      ],
      "text/plain": [
       "Best mean reward: 307.16 - Last mean reward per episode: 302.21\n"
      ]
     },
     "metadata": {},
     "output_type": "display_data"
    },
    {
     "data": {
      "text/html": [
       "<pre style=\"white-space:pre;overflow-x:auto;line-height:normal;font-family:Menlo,'DejaVu Sans Mono',consolas,'Courier New',monospace\">Num timesteps: 306000\n",
       "</pre>\n"
      ],
      "text/plain": [
       "Num timesteps: 306000\n"
      ]
     },
     "metadata": {},
     "output_type": "display_data"
    },
    {
     "data": {
      "text/html": [
       "<pre style=\"white-space:pre;overflow-x:auto;line-height:normal;font-family:Menlo,'DejaVu Sans Mono',consolas,'Courier New',monospace\">Best mean reward: 307.16 - Last mean reward per episode: 301.96\n",
       "</pre>\n"
      ],
      "text/plain": [
       "Best mean reward: 307.16 - Last mean reward per episode: 301.96\n"
      ]
     },
     "metadata": {},
     "output_type": "display_data"
    },
    {
     "data": {
      "text/html": [
       "<pre style=\"white-space:pre;overflow-x:auto;line-height:normal;font-family:Menlo,'DejaVu Sans Mono',consolas,'Courier New',monospace\">Num timesteps: 307000\n",
       "</pre>\n"
      ],
      "text/plain": [
       "Num timesteps: 307000\n"
      ]
     },
     "metadata": {},
     "output_type": "display_data"
    },
    {
     "data": {
      "text/html": [
       "<pre style=\"white-space:pre;overflow-x:auto;line-height:normal;font-family:Menlo,'DejaVu Sans Mono',consolas,'Courier New',monospace\">Best mean reward: 307.16 - Last mean reward per episode: 301.53\n",
       "</pre>\n"
      ],
      "text/plain": [
       "Best mean reward: 307.16 - Last mean reward per episode: 301.53\n"
      ]
     },
     "metadata": {},
     "output_type": "display_data"
    },
    {
     "name": "stdout",
     "output_type": "stream",
     "text": [
      "----------------------------------------\n",
      "| rollout/                |            |\n",
      "|    ep_len_mean          | 500        |\n",
      "|    ep_rew_mean          | 302        |\n",
      "| time/                   |            |\n",
      "|    fps                  | 73         |\n",
      "|    iterations           | 150        |\n",
      "|    time_elapsed         | 4203       |\n",
      "|    total_timesteps      | 307200     |\n",
      "| train/                  |            |\n",
      "|    approx_kl            | 0.03956879 |\n",
      "|    clip_fraction        | 0.404      |\n",
      "|    clip_range           | 0.2        |\n",
      "|    entropy_loss         | -17        |\n",
      "|    explained_variance   | 0.898      |\n",
      "|    learning_rate        | 0.0003     |\n",
      "|    loss                 | 0.469      |\n",
      "|    n_updates            | 1490       |\n",
      "|    policy_gradient_loss | -0.000723  |\n",
      "|    std                  | 0.996      |\n",
      "|    value_loss           | 4.03       |\n",
      "----------------------------------------\n"
     ]
    },
    {
     "data": {
      "text/html": [
       "<pre style=\"white-space:pre;overflow-x:auto;line-height:normal;font-family:Menlo,'DejaVu Sans Mono',consolas,'Courier New',monospace\">Num timesteps: 308000\n",
       "</pre>\n"
      ],
      "text/plain": [
       "Num timesteps: 308000\n"
      ]
     },
     "metadata": {},
     "output_type": "display_data"
    },
    {
     "data": {
      "text/html": [
       "<pre style=\"white-space:pre;overflow-x:auto;line-height:normal;font-family:Menlo,'DejaVu Sans Mono',consolas,'Courier New',monospace\">Best mean reward: 307.16 - Last mean reward per episode: 301.67\n",
       "</pre>\n"
      ],
      "text/plain": [
       "Best mean reward: 307.16 - Last mean reward per episode: 301.67\n"
      ]
     },
     "metadata": {},
     "output_type": "display_data"
    },
    {
     "data": {
      "text/html": [
       "<pre style=\"white-space:pre;overflow-x:auto;line-height:normal;font-family:Menlo,'DejaVu Sans Mono',consolas,'Courier New',monospace\">Num timesteps: 309000\n",
       "</pre>\n"
      ],
      "text/plain": [
       "Num timesteps: 309000\n"
      ]
     },
     "metadata": {},
     "output_type": "display_data"
    },
    {
     "data": {
      "text/html": [
       "<pre style=\"white-space:pre;overflow-x:auto;line-height:normal;font-family:Menlo,'DejaVu Sans Mono',consolas,'Courier New',monospace\">Best mean reward: 307.16 - Last mean reward per episode: 301.60\n",
       "</pre>\n"
      ],
      "text/plain": [
       "Best mean reward: 307.16 - Last mean reward per episode: 301.60\n"
      ]
     },
     "metadata": {},
     "output_type": "display_data"
    },
    {
     "data": {
      "text/html": [
       "<pre style=\"white-space:pre;overflow-x:auto;line-height:normal;font-family:Menlo,'DejaVu Sans Mono',consolas,'Courier New',monospace\">Num timesteps: 310000\n",
       "</pre>\n"
      ],
      "text/plain": [
       "Num timesteps: 310000\n"
      ]
     },
     "metadata": {},
     "output_type": "display_data"
    },
    {
     "data": {
      "text/html": [
       "<pre style=\"white-space:pre;overflow-x:auto;line-height:normal;font-family:Menlo,'DejaVu Sans Mono',consolas,'Courier New',monospace\">Best mean reward: 307.16 - Last mean reward per episode: 301.06\n",
       "</pre>\n"
      ],
      "text/plain": [
       "Best mean reward: 307.16 - Last mean reward per episode: 301.06\n"
      ]
     },
     "metadata": {},
     "output_type": "display_data"
    },
    {
     "data": {
      "text/html": [
       "<pre style=\"white-space:pre;overflow-x:auto;line-height:normal;font-family:Menlo,'DejaVu Sans Mono',consolas,'Courier New',monospace\">Num timesteps: 311000\n",
       "</pre>\n"
      ],
      "text/plain": [
       "Num timesteps: 311000\n"
      ]
     },
     "metadata": {},
     "output_type": "display_data"
    },
    {
     "data": {
      "text/html": [
       "<pre style=\"white-space:pre;overflow-x:auto;line-height:normal;font-family:Menlo,'DejaVu Sans Mono',consolas,'Courier New',monospace\">Best mean reward: 307.16 - Last mean reward per episode: 300.62\n",
       "</pre>\n"
      ],
      "text/plain": [
       "Best mean reward: 307.16 - Last mean reward per episode: 300.62\n"
      ]
     },
     "metadata": {},
     "output_type": "display_data"
    },
    {
     "data": {
      "text/html": [
       "<pre style=\"white-space:pre;overflow-x:auto;line-height:normal;font-family:Menlo,'DejaVu Sans Mono',consolas,'Courier New',monospace\">Num timesteps: 312000\n",
       "</pre>\n"
      ],
      "text/plain": [
       "Num timesteps: 312000\n"
      ]
     },
     "metadata": {},
     "output_type": "display_data"
    },
    {
     "data": {
      "text/html": [
       "<pre style=\"white-space:pre;overflow-x:auto;line-height:normal;font-family:Menlo,'DejaVu Sans Mono',consolas,'Courier New',monospace\">Best mean reward: 307.16 - Last mean reward per episode: 300.11\n",
       "</pre>\n"
      ],
      "text/plain": [
       "Best mean reward: 307.16 - Last mean reward per episode: 300.11\n"
      ]
     },
     "metadata": {},
     "output_type": "display_data"
    },
    {
     "data": {
      "text/html": [
       "<pre style=\"white-space:pre;overflow-x:auto;line-height:normal;font-family:Menlo,'DejaVu Sans Mono',consolas,'Courier New',monospace\">Num timesteps: 313000\n",
       "</pre>\n"
      ],
      "text/plain": [
       "Num timesteps: 313000\n"
      ]
     },
     "metadata": {},
     "output_type": "display_data"
    },
    {
     "data": {
      "text/html": [
       "<pre style=\"white-space:pre;overflow-x:auto;line-height:normal;font-family:Menlo,'DejaVu Sans Mono',consolas,'Courier New',monospace\">Best mean reward: 307.16 - Last mean reward per episode: 299.48\n",
       "</pre>\n"
      ],
      "text/plain": [
       "Best mean reward: 307.16 - Last mean reward per episode: 299.48\n"
      ]
     },
     "metadata": {},
     "output_type": "display_data"
    },
    {
     "data": {
      "text/html": [
       "<pre style=\"white-space:pre;overflow-x:auto;line-height:normal;font-family:Menlo,'DejaVu Sans Mono',consolas,'Courier New',monospace\">Num timesteps: 314000\n",
       "</pre>\n"
      ],
      "text/plain": [
       "Num timesteps: 314000\n"
      ]
     },
     "metadata": {},
     "output_type": "display_data"
    },
    {
     "data": {
      "text/html": [
       "<pre style=\"white-space:pre;overflow-x:auto;line-height:normal;font-family:Menlo,'DejaVu Sans Mono',consolas,'Courier New',monospace\">Best mean reward: 307.16 - Last mean reward per episode: 299.25\n",
       "</pre>\n"
      ],
      "text/plain": [
       "Best mean reward: 307.16 - Last mean reward per episode: 299.25\n"
      ]
     },
     "metadata": {},
     "output_type": "display_data"
    },
    {
     "data": {
      "text/html": [
       "<pre style=\"white-space:pre;overflow-x:auto;line-height:normal;font-family:Menlo,'DejaVu Sans Mono',consolas,'Courier New',monospace\">Num timesteps: 315000\n",
       "</pre>\n"
      ],
      "text/plain": [
       "Num timesteps: 315000\n"
      ]
     },
     "metadata": {},
     "output_type": "display_data"
    },
    {
     "data": {
      "text/html": [
       "<pre style=\"white-space:pre;overflow-x:auto;line-height:normal;font-family:Menlo,'DejaVu Sans Mono',consolas,'Courier New',monospace\">Best mean reward: 307.16 - Last mean reward per episode: 299.11\n",
       "</pre>\n"
      ],
      "text/plain": [
       "Best mean reward: 307.16 - Last mean reward per episode: 299.11\n"
      ]
     },
     "metadata": {},
     "output_type": "display_data"
    },
    {
     "data": {
      "text/html": [
       "<pre style=\"white-space:pre;overflow-x:auto;line-height:normal;font-family:Menlo,'DejaVu Sans Mono',consolas,'Courier New',monospace\">Num timesteps: 316000\n",
       "</pre>\n"
      ],
      "text/plain": [
       "Num timesteps: 316000\n"
      ]
     },
     "metadata": {},
     "output_type": "display_data"
    },
    {
     "data": {
      "text/html": [
       "<pre style=\"white-space:pre;overflow-x:auto;line-height:normal;font-family:Menlo,'DejaVu Sans Mono',consolas,'Courier New',monospace\">Best mean reward: 307.16 - Last mean reward per episode: 299.59\n",
       "</pre>\n"
      ],
      "text/plain": [
       "Best mean reward: 307.16 - Last mean reward per episode: 299.59\n"
      ]
     },
     "metadata": {},
     "output_type": "display_data"
    },
    {
     "data": {
      "text/html": [
       "<pre style=\"white-space:pre;overflow-x:auto;line-height:normal;font-family:Menlo,'DejaVu Sans Mono',consolas,'Courier New',monospace\">Num timesteps: 317000\n",
       "</pre>\n"
      ],
      "text/plain": [
       "Num timesteps: 317000\n"
      ]
     },
     "metadata": {},
     "output_type": "display_data"
    },
    {
     "data": {
      "text/html": [
       "<pre style=\"white-space:pre;overflow-x:auto;line-height:normal;font-family:Menlo,'DejaVu Sans Mono',consolas,'Courier New',monospace\">Best mean reward: 307.16 - Last mean reward per episode: 299.57\n",
       "</pre>\n"
      ],
      "text/plain": [
       "Best mean reward: 307.16 - Last mean reward per episode: 299.57\n"
      ]
     },
     "metadata": {},
     "output_type": "display_data"
    },
    {
     "data": {
      "text/html": [
       "<pre style=\"white-space:pre;overflow-x:auto;line-height:normal;font-family:Menlo,'DejaVu Sans Mono',consolas,'Courier New',monospace\">Num timesteps: 318000\n",
       "</pre>\n"
      ],
      "text/plain": [
       "Num timesteps: 318000\n"
      ]
     },
     "metadata": {},
     "output_type": "display_data"
    },
    {
     "data": {
      "text/html": [
       "<pre style=\"white-space:pre;overflow-x:auto;line-height:normal;font-family:Menlo,'DejaVu Sans Mono',consolas,'Courier New',monospace\">Best mean reward: 307.16 - Last mean reward per episode: 299.57\n",
       "</pre>\n"
      ],
      "text/plain": [
       "Best mean reward: 307.16 - Last mean reward per episode: 299.57\n"
      ]
     },
     "metadata": {},
     "output_type": "display_data"
    },
    {
     "data": {
      "text/html": [
       "<pre style=\"white-space:pre;overflow-x:auto;line-height:normal;font-family:Menlo,'DejaVu Sans Mono',consolas,'Courier New',monospace\">Num timesteps: 319000\n",
       "</pre>\n"
      ],
      "text/plain": [
       "Num timesteps: 319000\n"
      ]
     },
     "metadata": {},
     "output_type": "display_data"
    },
    {
     "data": {
      "text/html": [
       "<pre style=\"white-space:pre;overflow-x:auto;line-height:normal;font-family:Menlo,'DejaVu Sans Mono',consolas,'Courier New',monospace\">Best mean reward: 307.16 - Last mean reward per episode: 299.85\n",
       "</pre>\n"
      ],
      "text/plain": [
       "Best mean reward: 307.16 - Last mean reward per episode: 299.85\n"
      ]
     },
     "metadata": {},
     "output_type": "display_data"
    },
    {
     "data": {
      "text/html": [
       "<pre style=\"white-space:pre;overflow-x:auto;line-height:normal;font-family:Menlo,'DejaVu Sans Mono',consolas,'Courier New',monospace\">Num timesteps: 320000\n",
       "</pre>\n"
      ],
      "text/plain": [
       "Num timesteps: 320000\n"
      ]
     },
     "metadata": {},
     "output_type": "display_data"
    },
    {
     "data": {
      "text/html": [
       "<pre style=\"white-space:pre;overflow-x:auto;line-height:normal;font-family:Menlo,'DejaVu Sans Mono',consolas,'Courier New',monospace\">Best mean reward: 307.16 - Last mean reward per episode: 301.26\n",
       "</pre>\n"
      ],
      "text/plain": [
       "Best mean reward: 307.16 - Last mean reward per episode: 301.26\n"
      ]
     },
     "metadata": {},
     "output_type": "display_data"
    },
    {
     "data": {
      "text/html": [
       "<pre style=\"white-space:pre;overflow-x:auto;line-height:normal;font-family:Menlo,'DejaVu Sans Mono',consolas,'Courier New',monospace\">Num timesteps: 321000\n",
       "</pre>\n"
      ],
      "text/plain": [
       "Num timesteps: 321000\n"
      ]
     },
     "metadata": {},
     "output_type": "display_data"
    },
    {
     "data": {
      "text/html": [
       "<pre style=\"white-space:pre;overflow-x:auto;line-height:normal;font-family:Menlo,'DejaVu Sans Mono',consolas,'Courier New',monospace\">Best mean reward: 307.16 - Last mean reward per episode: 301.33\n",
       "</pre>\n"
      ],
      "text/plain": [
       "Best mean reward: 307.16 - Last mean reward per episode: 301.33\n"
      ]
     },
     "metadata": {},
     "output_type": "display_data"
    },
    {
     "data": {
      "text/html": [
       "<pre style=\"white-space:pre;overflow-x:auto;line-height:normal;font-family:Menlo,'DejaVu Sans Mono',consolas,'Courier New',monospace\">Num timesteps: 322000\n",
       "</pre>\n"
      ],
      "text/plain": [
       "Num timesteps: 322000\n"
      ]
     },
     "metadata": {},
     "output_type": "display_data"
    },
    {
     "data": {
      "text/html": [
       "<pre style=\"white-space:pre;overflow-x:auto;line-height:normal;font-family:Menlo,'DejaVu Sans Mono',consolas,'Courier New',monospace\">Best mean reward: 307.16 - Last mean reward per episode: 301.65\n",
       "</pre>\n"
      ],
      "text/plain": [
       "Best mean reward: 307.16 - Last mean reward per episode: 301.65\n"
      ]
     },
     "metadata": {},
     "output_type": "display_data"
    },
    {
     "data": {
      "text/html": [
       "<pre style=\"white-space:pre;overflow-x:auto;line-height:normal;font-family:Menlo,'DejaVu Sans Mono',consolas,'Courier New',monospace\">Num timesteps: 323000\n",
       "</pre>\n"
      ],
      "text/plain": [
       "Num timesteps: 323000\n"
      ]
     },
     "metadata": {},
     "output_type": "display_data"
    },
    {
     "data": {
      "text/html": [
       "<pre style=\"white-space:pre;overflow-x:auto;line-height:normal;font-family:Menlo,'DejaVu Sans Mono',consolas,'Courier New',monospace\">Best mean reward: 307.16 - Last mean reward per episode: 301.07\n",
       "</pre>\n"
      ],
      "text/plain": [
       "Best mean reward: 307.16 - Last mean reward per episode: 301.07\n"
      ]
     },
     "metadata": {},
     "output_type": "display_data"
    },
    {
     "data": {
      "text/html": [
       "<pre style=\"white-space:pre;overflow-x:auto;line-height:normal;font-family:Menlo,'DejaVu Sans Mono',consolas,'Courier New',monospace\">Num timesteps: 324000\n",
       "</pre>\n"
      ],
      "text/plain": [
       "Num timesteps: 324000\n"
      ]
     },
     "metadata": {},
     "output_type": "display_data"
    },
    {
     "data": {
      "text/html": [
       "<pre style=\"white-space:pre;overflow-x:auto;line-height:normal;font-family:Menlo,'DejaVu Sans Mono',consolas,'Courier New',monospace\">Best mean reward: 307.16 - Last mean reward per episode: 300.70\n",
       "</pre>\n"
      ],
      "text/plain": [
       "Best mean reward: 307.16 - Last mean reward per episode: 300.70\n"
      ]
     },
     "metadata": {},
     "output_type": "display_data"
    },
    {
     "data": {
      "text/html": [
       "<pre style=\"white-space:pre;overflow-x:auto;line-height:normal;font-family:Menlo,'DejaVu Sans Mono',consolas,'Courier New',monospace\">Num timesteps: 325000\n",
       "</pre>\n"
      ],
      "text/plain": [
       "Num timesteps: 325000\n"
      ]
     },
     "metadata": {},
     "output_type": "display_data"
    },
    {
     "data": {
      "text/html": [
       "<pre style=\"white-space:pre;overflow-x:auto;line-height:normal;font-family:Menlo,'DejaVu Sans Mono',consolas,'Courier New',monospace\">Best mean reward: 307.16 - Last mean reward per episode: 300.40\n",
       "</pre>\n"
      ],
      "text/plain": [
       "Best mean reward: 307.16 - Last mean reward per episode: 300.40\n"
      ]
     },
     "metadata": {},
     "output_type": "display_data"
    },
    {
     "data": {
      "text/html": [
       "<pre style=\"white-space:pre;overflow-x:auto;line-height:normal;font-family:Menlo,'DejaVu Sans Mono',consolas,'Courier New',monospace\">Num timesteps: 326000\n",
       "</pre>\n"
      ],
      "text/plain": [
       "Num timesteps: 326000\n"
      ]
     },
     "metadata": {},
     "output_type": "display_data"
    },
    {
     "data": {
      "text/html": [
       "<pre style=\"white-space:pre;overflow-x:auto;line-height:normal;font-family:Menlo,'DejaVu Sans Mono',consolas,'Courier New',monospace\">Best mean reward: 307.16 - Last mean reward per episode: 300.06\n",
       "</pre>\n"
      ],
      "text/plain": [
       "Best mean reward: 307.16 - Last mean reward per episode: 300.06\n"
      ]
     },
     "metadata": {},
     "output_type": "display_data"
    },
    {
     "data": {
      "text/html": [
       "<pre style=\"white-space:pre;overflow-x:auto;line-height:normal;font-family:Menlo,'DejaVu Sans Mono',consolas,'Courier New',monospace\">Num timesteps: 327000\n",
       "</pre>\n"
      ],
      "text/plain": [
       "Num timesteps: 327000\n"
      ]
     },
     "metadata": {},
     "output_type": "display_data"
    },
    {
     "data": {
      "text/html": [
       "<pre style=\"white-space:pre;overflow-x:auto;line-height:normal;font-family:Menlo,'DejaVu Sans Mono',consolas,'Courier New',monospace\">Best mean reward: 307.16 - Last mean reward per episode: 299.74\n",
       "</pre>\n"
      ],
      "text/plain": [
       "Best mean reward: 307.16 - Last mean reward per episode: 299.74\n"
      ]
     },
     "metadata": {},
     "output_type": "display_data"
    },
    {
     "name": "stdout",
     "output_type": "stream",
     "text": [
      "----------------------------------------\n",
      "| rollout/                |            |\n",
      "|    ep_len_mean          | 500        |\n",
      "|    ep_rew_mean          | 300        |\n",
      "| time/                   |            |\n",
      "|    fps                  | 72         |\n",
      "|    iterations           | 160        |\n",
      "|    time_elapsed         | 4515       |\n",
      "|    total_timesteps      | 327680     |\n",
      "| train/                  |            |\n",
      "|    approx_kl            | 0.06621088 |\n",
      "|    clip_fraction        | 0.43       |\n",
      "|    clip_range           | 0.2        |\n",
      "|    entropy_loss         | -17        |\n",
      "|    explained_variance   | 0.872      |\n",
      "|    learning_rate        | 0.0003     |\n",
      "|    loss                 | 0.116      |\n",
      "|    n_updates            | 1590       |\n",
      "|    policy_gradient_loss | -0.0183    |\n",
      "|    std                  | 1          |\n",
      "|    value_loss           | 3.09       |\n",
      "----------------------------------------\n"
     ]
    },
    {
     "data": {
      "text/html": [
       "<pre style=\"white-space:pre;overflow-x:auto;line-height:normal;font-family:Menlo,'DejaVu Sans Mono',consolas,'Courier New',monospace\">Num timesteps: 328000\n",
       "</pre>\n"
      ],
      "text/plain": [
       "Num timesteps: 328000\n"
      ]
     },
     "metadata": {},
     "output_type": "display_data"
    },
    {
     "data": {
      "text/html": [
       "<pre style=\"white-space:pre;overflow-x:auto;line-height:normal;font-family:Menlo,'DejaVu Sans Mono',consolas,'Courier New',monospace\">Best mean reward: 307.16 - Last mean reward per episode: 299.50\n",
       "</pre>\n"
      ],
      "text/plain": [
       "Best mean reward: 307.16 - Last mean reward per episode: 299.50\n"
      ]
     },
     "metadata": {},
     "output_type": "display_data"
    },
    {
     "data": {
      "text/html": [
       "<pre style=\"white-space:pre;overflow-x:auto;line-height:normal;font-family:Menlo,'DejaVu Sans Mono',consolas,'Courier New',monospace\">Num timesteps: 329000\n",
       "</pre>\n"
      ],
      "text/plain": [
       "Num timesteps: 329000\n"
      ]
     },
     "metadata": {},
     "output_type": "display_data"
    },
    {
     "data": {
      "text/html": [
       "<pre style=\"white-space:pre;overflow-x:auto;line-height:normal;font-family:Menlo,'DejaVu Sans Mono',consolas,'Courier New',monospace\">Best mean reward: 307.16 - Last mean reward per episode: 299.00\n",
       "</pre>\n"
      ],
      "text/plain": [
       "Best mean reward: 307.16 - Last mean reward per episode: 299.00\n"
      ]
     },
     "metadata": {},
     "output_type": "display_data"
    },
    {
     "data": {
      "text/html": [
       "<pre style=\"white-space:pre;overflow-x:auto;line-height:normal;font-family:Menlo,'DejaVu Sans Mono',consolas,'Courier New',monospace\">Num timesteps: 330000\n",
       "</pre>\n"
      ],
      "text/plain": [
       "Num timesteps: 330000\n"
      ]
     },
     "metadata": {},
     "output_type": "display_data"
    },
    {
     "data": {
      "text/html": [
       "<pre style=\"white-space:pre;overflow-x:auto;line-height:normal;font-family:Menlo,'DejaVu Sans Mono',consolas,'Courier New',monospace\">Best mean reward: 307.16 - Last mean reward per episode: 297.78\n",
       "</pre>\n"
      ],
      "text/plain": [
       "Best mean reward: 307.16 - Last mean reward per episode: 297.78\n"
      ]
     },
     "metadata": {},
     "output_type": "display_data"
    },
    {
     "data": {
      "text/html": [
       "<pre style=\"white-space:pre;overflow-x:auto;line-height:normal;font-family:Menlo,'DejaVu Sans Mono',consolas,'Courier New',monospace\">Num timesteps: 331000\n",
       "</pre>\n"
      ],
      "text/plain": [
       "Num timesteps: 331000\n"
      ]
     },
     "metadata": {},
     "output_type": "display_data"
    },
    {
     "data": {
      "text/html": [
       "<pre style=\"white-space:pre;overflow-x:auto;line-height:normal;font-family:Menlo,'DejaVu Sans Mono',consolas,'Courier New',monospace\">Best mean reward: 307.16 - Last mean reward per episode: 296.62\n",
       "</pre>\n"
      ],
      "text/plain": [
       "Best mean reward: 307.16 - Last mean reward per episode: 296.62\n"
      ]
     },
     "metadata": {},
     "output_type": "display_data"
    },
    {
     "data": {
      "text/html": [
       "<pre style=\"white-space:pre;overflow-x:auto;line-height:normal;font-family:Menlo,'DejaVu Sans Mono',consolas,'Courier New',monospace\">Num timesteps: 332000\n",
       "</pre>\n"
      ],
      "text/plain": [
       "Num timesteps: 332000\n"
      ]
     },
     "metadata": {},
     "output_type": "display_data"
    },
    {
     "data": {
      "text/html": [
       "<pre style=\"white-space:pre;overflow-x:auto;line-height:normal;font-family:Menlo,'DejaVu Sans Mono',consolas,'Courier New',monospace\">Best mean reward: 307.16 - Last mean reward per episode: 296.87\n",
       "</pre>\n"
      ],
      "text/plain": [
       "Best mean reward: 307.16 - Last mean reward per episode: 296.87\n"
      ]
     },
     "metadata": {},
     "output_type": "display_data"
    },
    {
     "data": {
      "text/html": [
       "<pre style=\"white-space:pre;overflow-x:auto;line-height:normal;font-family:Menlo,'DejaVu Sans Mono',consolas,'Courier New',monospace\">Num timesteps: 333000\n",
       "</pre>\n"
      ],
      "text/plain": [
       "Num timesteps: 333000\n"
      ]
     },
     "metadata": {},
     "output_type": "display_data"
    },
    {
     "data": {
      "text/html": [
       "<pre style=\"white-space:pre;overflow-x:auto;line-height:normal;font-family:Menlo,'DejaVu Sans Mono',consolas,'Courier New',monospace\">Best mean reward: 307.16 - Last mean reward per episode: 296.09\n",
       "</pre>\n"
      ],
      "text/plain": [
       "Best mean reward: 307.16 - Last mean reward per episode: 296.09\n"
      ]
     },
     "metadata": {},
     "output_type": "display_data"
    },
    {
     "data": {
      "text/html": [
       "<pre style=\"white-space:pre;overflow-x:auto;line-height:normal;font-family:Menlo,'DejaVu Sans Mono',consolas,'Courier New',monospace\">Num timesteps: 334000\n",
       "</pre>\n"
      ],
      "text/plain": [
       "Num timesteps: 334000\n"
      ]
     },
     "metadata": {},
     "output_type": "display_data"
    },
    {
     "data": {
      "text/html": [
       "<pre style=\"white-space:pre;overflow-x:auto;line-height:normal;font-family:Menlo,'DejaVu Sans Mono',consolas,'Courier New',monospace\">Best mean reward: 307.16 - Last mean reward per episode: 295.06\n",
       "</pre>\n"
      ],
      "text/plain": [
       "Best mean reward: 307.16 - Last mean reward per episode: 295.06\n"
      ]
     },
     "metadata": {},
     "output_type": "display_data"
    },
    {
     "data": {
      "text/html": [
       "<pre style=\"white-space:pre;overflow-x:auto;line-height:normal;font-family:Menlo,'DejaVu Sans Mono',consolas,'Courier New',monospace\">Num timesteps: 335000\n",
       "</pre>\n"
      ],
      "text/plain": [
       "Num timesteps: 335000\n"
      ]
     },
     "metadata": {},
     "output_type": "display_data"
    },
    {
     "data": {
      "text/html": [
       "<pre style=\"white-space:pre;overflow-x:auto;line-height:normal;font-family:Menlo,'DejaVu Sans Mono',consolas,'Courier New',monospace\">Best mean reward: 307.16 - Last mean reward per episode: 294.52\n",
       "</pre>\n"
      ],
      "text/plain": [
       "Best mean reward: 307.16 - Last mean reward per episode: 294.52\n"
      ]
     },
     "metadata": {},
     "output_type": "display_data"
    },
    {
     "data": {
      "text/html": [
       "<pre style=\"white-space:pre;overflow-x:auto;line-height:normal;font-family:Menlo,'DejaVu Sans Mono',consolas,'Courier New',monospace\">Num timesteps: 336000\n",
       "</pre>\n"
      ],
      "text/plain": [
       "Num timesteps: 336000\n"
      ]
     },
     "metadata": {},
     "output_type": "display_data"
    },
    {
     "data": {
      "text/html": [
       "<pre style=\"white-space:pre;overflow-x:auto;line-height:normal;font-family:Menlo,'DejaVu Sans Mono',consolas,'Courier New',monospace\">Best mean reward: 307.16 - Last mean reward per episode: 294.20\n",
       "</pre>\n"
      ],
      "text/plain": [
       "Best mean reward: 307.16 - Last mean reward per episode: 294.20\n"
      ]
     },
     "metadata": {},
     "output_type": "display_data"
    },
    {
     "data": {
      "text/html": [
       "<pre style=\"white-space:pre;overflow-x:auto;line-height:normal;font-family:Menlo,'DejaVu Sans Mono',consolas,'Courier New',monospace\">Num timesteps: 337000\n",
       "</pre>\n"
      ],
      "text/plain": [
       "Num timesteps: 337000\n"
      ]
     },
     "metadata": {},
     "output_type": "display_data"
    },
    {
     "data": {
      "text/html": [
       "<pre style=\"white-space:pre;overflow-x:auto;line-height:normal;font-family:Menlo,'DejaVu Sans Mono',consolas,'Courier New',monospace\">Best mean reward: 307.16 - Last mean reward per episode: 293.25\n",
       "</pre>\n"
      ],
      "text/plain": [
       "Best mean reward: 307.16 - Last mean reward per episode: 293.25\n"
      ]
     },
     "metadata": {},
     "output_type": "display_data"
    },
    {
     "data": {
      "text/html": [
       "<pre style=\"white-space:pre;overflow-x:auto;line-height:normal;font-family:Menlo,'DejaVu Sans Mono',consolas,'Courier New',monospace\">Num timesteps: 338000\n",
       "</pre>\n"
      ],
      "text/plain": [
       "Num timesteps: 338000\n"
      ]
     },
     "metadata": {},
     "output_type": "display_data"
    },
    {
     "data": {
      "text/html": [
       "<pre style=\"white-space:pre;overflow-x:auto;line-height:normal;font-family:Menlo,'DejaVu Sans Mono',consolas,'Courier New',monospace\">Best mean reward: 307.16 - Last mean reward per episode: 294.02\n",
       "</pre>\n"
      ],
      "text/plain": [
       "Best mean reward: 307.16 - Last mean reward per episode: 294.02\n"
      ]
     },
     "metadata": {},
     "output_type": "display_data"
    },
    {
     "data": {
      "text/html": [
       "<pre style=\"white-space:pre;overflow-x:auto;line-height:normal;font-family:Menlo,'DejaVu Sans Mono',consolas,'Courier New',monospace\">Num timesteps: 339000\n",
       "</pre>\n"
      ],
      "text/plain": [
       "Num timesteps: 339000\n"
      ]
     },
     "metadata": {},
     "output_type": "display_data"
    },
    {
     "data": {
      "text/html": [
       "<pre style=\"white-space:pre;overflow-x:auto;line-height:normal;font-family:Menlo,'DejaVu Sans Mono',consolas,'Courier New',monospace\">Best mean reward: 307.16 - Last mean reward per episode: 294.73\n",
       "</pre>\n"
      ],
      "text/plain": [
       "Best mean reward: 307.16 - Last mean reward per episode: 294.73\n"
      ]
     },
     "metadata": {},
     "output_type": "display_data"
    },
    {
     "data": {
      "text/html": [
       "<pre style=\"white-space:pre;overflow-x:auto;line-height:normal;font-family:Menlo,'DejaVu Sans Mono',consolas,'Courier New',monospace\">Num timesteps: 340000\n",
       "</pre>\n"
      ],
      "text/plain": [
       "Num timesteps: 340000\n"
      ]
     },
     "metadata": {},
     "output_type": "display_data"
    },
    {
     "data": {
      "text/html": [
       "<pre style=\"white-space:pre;overflow-x:auto;line-height:normal;font-family:Menlo,'DejaVu Sans Mono',consolas,'Courier New',monospace\">Best mean reward: 307.16 - Last mean reward per episode: 294.36\n",
       "</pre>\n"
      ],
      "text/plain": [
       "Best mean reward: 307.16 - Last mean reward per episode: 294.36\n"
      ]
     },
     "metadata": {},
     "output_type": "display_data"
    },
    {
     "data": {
      "text/html": [
       "<pre style=\"white-space:pre;overflow-x:auto;line-height:normal;font-family:Menlo,'DejaVu Sans Mono',consolas,'Courier New',monospace\">Num timesteps: 341000\n",
       "</pre>\n"
      ],
      "text/plain": [
       "Num timesteps: 341000\n"
      ]
     },
     "metadata": {},
     "output_type": "display_data"
    },
    {
     "data": {
      "text/html": [
       "<pre style=\"white-space:pre;overflow-x:auto;line-height:normal;font-family:Menlo,'DejaVu Sans Mono',consolas,'Courier New',monospace\">Best mean reward: 307.16 - Last mean reward per episode: 294.02\n",
       "</pre>\n"
      ],
      "text/plain": [
       "Best mean reward: 307.16 - Last mean reward per episode: 294.02\n"
      ]
     },
     "metadata": {},
     "output_type": "display_data"
    },
    {
     "data": {
      "text/html": [
       "<pre style=\"white-space:pre;overflow-x:auto;line-height:normal;font-family:Menlo,'DejaVu Sans Mono',consolas,'Courier New',monospace\">Num timesteps: 342000\n",
       "</pre>\n"
      ],
      "text/plain": [
       "Num timesteps: 342000\n"
      ]
     },
     "metadata": {},
     "output_type": "display_data"
    },
    {
     "data": {
      "text/html": [
       "<pre style=\"white-space:pre;overflow-x:auto;line-height:normal;font-family:Menlo,'DejaVu Sans Mono',consolas,'Courier New',monospace\">Best mean reward: 307.16 - Last mean reward per episode: 294.48\n",
       "</pre>\n"
      ],
      "text/plain": [
       "Best mean reward: 307.16 - Last mean reward per episode: 294.48\n"
      ]
     },
     "metadata": {},
     "output_type": "display_data"
    },
    {
     "data": {
      "text/html": [
       "<pre style=\"white-space:pre;overflow-x:auto;line-height:normal;font-family:Menlo,'DejaVu Sans Mono',consolas,'Courier New',monospace\">Num timesteps: 343000\n",
       "</pre>\n"
      ],
      "text/plain": [
       "Num timesteps: 343000\n"
      ]
     },
     "metadata": {},
     "output_type": "display_data"
    },
    {
     "data": {
      "text/html": [
       "<pre style=\"white-space:pre;overflow-x:auto;line-height:normal;font-family:Menlo,'DejaVu Sans Mono',consolas,'Courier New',monospace\">Best mean reward: 307.16 - Last mean reward per episode: 295.13\n",
       "</pre>\n"
      ],
      "text/plain": [
       "Best mean reward: 307.16 - Last mean reward per episode: 295.13\n"
      ]
     },
     "metadata": {},
     "output_type": "display_data"
    },
    {
     "data": {
      "text/html": [
       "<pre style=\"white-space:pre;overflow-x:auto;line-height:normal;font-family:Menlo,'DejaVu Sans Mono',consolas,'Courier New',monospace\">Num timesteps: 344000\n",
       "</pre>\n"
      ],
      "text/plain": [
       "Num timesteps: 344000\n"
      ]
     },
     "metadata": {},
     "output_type": "display_data"
    },
    {
     "data": {
      "text/html": [
       "<pre style=\"white-space:pre;overflow-x:auto;line-height:normal;font-family:Menlo,'DejaVu Sans Mono',consolas,'Courier New',monospace\">Best mean reward: 307.16 - Last mean reward per episode: 295.67\n",
       "</pre>\n"
      ],
      "text/plain": [
       "Best mean reward: 307.16 - Last mean reward per episode: 295.67\n"
      ]
     },
     "metadata": {},
     "output_type": "display_data"
    },
    {
     "data": {
      "text/html": [
       "<pre style=\"white-space:pre;overflow-x:auto;line-height:normal;font-family:Menlo,'DejaVu Sans Mono',consolas,'Courier New',monospace\">Num timesteps: 345000\n",
       "</pre>\n"
      ],
      "text/plain": [
       "Num timesteps: 345000\n"
      ]
     },
     "metadata": {},
     "output_type": "display_data"
    },
    {
     "data": {
      "text/html": [
       "<pre style=\"white-space:pre;overflow-x:auto;line-height:normal;font-family:Menlo,'DejaVu Sans Mono',consolas,'Courier New',monospace\">Best mean reward: 307.16 - Last mean reward per episode: 295.54\n",
       "</pre>\n"
      ],
      "text/plain": [
       "Best mean reward: 307.16 - Last mean reward per episode: 295.54\n"
      ]
     },
     "metadata": {},
     "output_type": "display_data"
    },
    {
     "data": {
      "text/html": [
       "<pre style=\"white-space:pre;overflow-x:auto;line-height:normal;font-family:Menlo,'DejaVu Sans Mono',consolas,'Courier New',monospace\">Num timesteps: 346000\n",
       "</pre>\n"
      ],
      "text/plain": [
       "Num timesteps: 346000\n"
      ]
     },
     "metadata": {},
     "output_type": "display_data"
    },
    {
     "data": {
      "text/html": [
       "<pre style=\"white-space:pre;overflow-x:auto;line-height:normal;font-family:Menlo,'DejaVu Sans Mono',consolas,'Courier New',monospace\">Best mean reward: 307.16 - Last mean reward per episode: 295.70\n",
       "</pre>\n"
      ],
      "text/plain": [
       "Best mean reward: 307.16 - Last mean reward per episode: 295.70\n"
      ]
     },
     "metadata": {},
     "output_type": "display_data"
    },
    {
     "data": {
      "text/html": [
       "<pre style=\"white-space:pre;overflow-x:auto;line-height:normal;font-family:Menlo,'DejaVu Sans Mono',consolas,'Courier New',monospace\">Num timesteps: 347000\n",
       "</pre>\n"
      ],
      "text/plain": [
       "Num timesteps: 347000\n"
      ]
     },
     "metadata": {},
     "output_type": "display_data"
    },
    {
     "data": {
      "text/html": [
       "<pre style=\"white-space:pre;overflow-x:auto;line-height:normal;font-family:Menlo,'DejaVu Sans Mono',consolas,'Courier New',monospace\">Best mean reward: 307.16 - Last mean reward per episode: 295.65\n",
       "</pre>\n"
      ],
      "text/plain": [
       "Best mean reward: 307.16 - Last mean reward per episode: 295.65\n"
      ]
     },
     "metadata": {},
     "output_type": "display_data"
    },
    {
     "data": {
      "text/html": [
       "<pre style=\"white-space:pre;overflow-x:auto;line-height:normal;font-family:Menlo,'DejaVu Sans Mono',consolas,'Courier New',monospace\">Num timesteps: 348000\n",
       "</pre>\n"
      ],
      "text/plain": [
       "Num timesteps: 348000\n"
      ]
     },
     "metadata": {},
     "output_type": "display_data"
    },
    {
     "data": {
      "text/html": [
       "<pre style=\"white-space:pre;overflow-x:auto;line-height:normal;font-family:Menlo,'DejaVu Sans Mono',consolas,'Courier New',monospace\">Best mean reward: 307.16 - Last mean reward per episode: 296.09\n",
       "</pre>\n"
      ],
      "text/plain": [
       "Best mean reward: 307.16 - Last mean reward per episode: 296.09\n"
      ]
     },
     "metadata": {},
     "output_type": "display_data"
    },
    {
     "name": "stdout",
     "output_type": "stream",
     "text": [
      "----------------------------------------\n",
      "| rollout/                |            |\n",
      "|    ep_len_mean          | 500        |\n",
      "|    ep_rew_mean          | 296        |\n",
      "| time/                   |            |\n",
      "|    fps                  | 72         |\n",
      "|    iterations           | 170        |\n",
      "|    time_elapsed         | 4817       |\n",
      "|    total_timesteps      | 348160     |\n",
      "| train/                  |            |\n",
      "|    approx_kl            | 0.03860174 |\n",
      "|    clip_fraction        | 0.326      |\n",
      "|    clip_range           | 0.2        |\n",
      "|    entropy_loss         | -17.1      |\n",
      "|    explained_variance   | 0.922      |\n",
      "|    learning_rate        | 0.0003     |\n",
      "|    loss                 | 0.373      |\n",
      "|    n_updates            | 1690       |\n",
      "|    policy_gradient_loss | -0.0164    |\n",
      "|    std                  | 1.01       |\n",
      "|    value_loss           | 4          |\n",
      "----------------------------------------\n"
     ]
    },
    {
     "data": {
      "text/html": [
       "<pre style=\"white-space:pre;overflow-x:auto;line-height:normal;font-family:Menlo,'DejaVu Sans Mono',consolas,'Courier New',monospace\">Num timesteps: 349000\n",
       "</pre>\n"
      ],
      "text/plain": [
       "Num timesteps: 349000\n"
      ]
     },
     "metadata": {},
     "output_type": "display_data"
    },
    {
     "data": {
      "text/html": [
       "<pre style=\"white-space:pre;overflow-x:auto;line-height:normal;font-family:Menlo,'DejaVu Sans Mono',consolas,'Courier New',monospace\">Best mean reward: 307.16 - Last mean reward per episode: 296.56\n",
       "</pre>\n"
      ],
      "text/plain": [
       "Best mean reward: 307.16 - Last mean reward per episode: 296.56\n"
      ]
     },
     "metadata": {},
     "output_type": "display_data"
    },
    {
     "data": {
      "text/html": [
       "<pre style=\"white-space:pre;overflow-x:auto;line-height:normal;font-family:Menlo,'DejaVu Sans Mono',consolas,'Courier New',monospace\">Num timesteps: 350000\n",
       "</pre>\n"
      ],
      "text/plain": [
       "Num timesteps: 350000\n"
      ]
     },
     "metadata": {},
     "output_type": "display_data"
    },
    {
     "data": {
      "text/html": [
       "<pre style=\"white-space:pre;overflow-x:auto;line-height:normal;font-family:Menlo,'DejaVu Sans Mono',consolas,'Courier New',monospace\">Best mean reward: 307.16 - Last mean reward per episode: 296.70\n",
       "</pre>\n"
      ],
      "text/plain": [
       "Best mean reward: 307.16 - Last mean reward per episode: 296.70\n"
      ]
     },
     "metadata": {},
     "output_type": "display_data"
    },
    {
     "data": {
      "text/html": [
       "<pre style=\"white-space:pre;overflow-x:auto;line-height:normal;font-family:Menlo,'DejaVu Sans Mono',consolas,'Courier New',monospace\">Num timesteps: 351000\n",
       "</pre>\n"
      ],
      "text/plain": [
       "Num timesteps: 351000\n"
      ]
     },
     "metadata": {},
     "output_type": "display_data"
    },
    {
     "data": {
      "text/html": [
       "<pre style=\"white-space:pre;overflow-x:auto;line-height:normal;font-family:Menlo,'DejaVu Sans Mono',consolas,'Courier New',monospace\">Best mean reward: 307.16 - Last mean reward per episode: 297.15\n",
       "</pre>\n"
      ],
      "text/plain": [
       "Best mean reward: 307.16 - Last mean reward per episode: 297.15\n"
      ]
     },
     "metadata": {},
     "output_type": "display_data"
    },
    {
     "data": {
      "text/html": [
       "<pre style=\"white-space:pre;overflow-x:auto;line-height:normal;font-family:Menlo,'DejaVu Sans Mono',consolas,'Courier New',monospace\">Num timesteps: 352000\n",
       "</pre>\n"
      ],
      "text/plain": [
       "Num timesteps: 352000\n"
      ]
     },
     "metadata": {},
     "output_type": "display_data"
    },
    {
     "data": {
      "text/html": [
       "<pre style=\"white-space:pre;overflow-x:auto;line-height:normal;font-family:Menlo,'DejaVu Sans Mono',consolas,'Courier New',monospace\">Best mean reward: 307.16 - Last mean reward per episode: 297.48\n",
       "</pre>\n"
      ],
      "text/plain": [
       "Best mean reward: 307.16 - Last mean reward per episode: 297.48\n"
      ]
     },
     "metadata": {},
     "output_type": "display_data"
    },
    {
     "data": {
      "text/html": [
       "<pre style=\"white-space:pre;overflow-x:auto;line-height:normal;font-family:Menlo,'DejaVu Sans Mono',consolas,'Courier New',monospace\">Num timesteps: 353000\n",
       "</pre>\n"
      ],
      "text/plain": [
       "Num timesteps: 353000\n"
      ]
     },
     "metadata": {},
     "output_type": "display_data"
    },
    {
     "data": {
      "text/html": [
       "<pre style=\"white-space:pre;overflow-x:auto;line-height:normal;font-family:Menlo,'DejaVu Sans Mono',consolas,'Courier New',monospace\">Best mean reward: 307.16 - Last mean reward per episode: 298.39\n",
       "</pre>\n"
      ],
      "text/plain": [
       "Best mean reward: 307.16 - Last mean reward per episode: 298.39\n"
      ]
     },
     "metadata": {},
     "output_type": "display_data"
    },
    {
     "data": {
      "text/html": [
       "<pre style=\"white-space:pre;overflow-x:auto;line-height:normal;font-family:Menlo,'DejaVu Sans Mono',consolas,'Courier New',monospace\">Num timesteps: 354000\n",
       "</pre>\n"
      ],
      "text/plain": [
       "Num timesteps: 354000\n"
      ]
     },
     "metadata": {},
     "output_type": "display_data"
    },
    {
     "data": {
      "text/html": [
       "<pre style=\"white-space:pre;overflow-x:auto;line-height:normal;font-family:Menlo,'DejaVu Sans Mono',consolas,'Courier New',monospace\">Best mean reward: 307.16 - Last mean reward per episode: 298.44\n",
       "</pre>\n"
      ],
      "text/plain": [
       "Best mean reward: 307.16 - Last mean reward per episode: 298.44\n"
      ]
     },
     "metadata": {},
     "output_type": "display_data"
    },
    {
     "data": {
      "text/html": [
       "<pre style=\"white-space:pre;overflow-x:auto;line-height:normal;font-family:Menlo,'DejaVu Sans Mono',consolas,'Courier New',monospace\">Num timesteps: 355000\n",
       "</pre>\n"
      ],
      "text/plain": [
       "Num timesteps: 355000\n"
      ]
     },
     "metadata": {},
     "output_type": "display_data"
    },
    {
     "data": {
      "text/html": [
       "<pre style=\"white-space:pre;overflow-x:auto;line-height:normal;font-family:Menlo,'DejaVu Sans Mono',consolas,'Courier New',monospace\">Best mean reward: 307.16 - Last mean reward per episode: 298.60\n",
       "</pre>\n"
      ],
      "text/plain": [
       "Best mean reward: 307.16 - Last mean reward per episode: 298.60\n"
      ]
     },
     "metadata": {},
     "output_type": "display_data"
    },
    {
     "data": {
      "text/html": [
       "<pre style=\"white-space:pre;overflow-x:auto;line-height:normal;font-family:Menlo,'DejaVu Sans Mono',consolas,'Courier New',monospace\">Num timesteps: 356000\n",
       "</pre>\n"
      ],
      "text/plain": [
       "Num timesteps: 356000\n"
      ]
     },
     "metadata": {},
     "output_type": "display_data"
    },
    {
     "data": {
      "text/html": [
       "<pre style=\"white-space:pre;overflow-x:auto;line-height:normal;font-family:Menlo,'DejaVu Sans Mono',consolas,'Courier New',monospace\">Best mean reward: 307.16 - Last mean reward per episode: 298.76\n",
       "</pre>\n"
      ],
      "text/plain": [
       "Best mean reward: 307.16 - Last mean reward per episode: 298.76\n"
      ]
     },
     "metadata": {},
     "output_type": "display_data"
    },
    {
     "data": {
      "text/html": [
       "<pre style=\"white-space:pre;overflow-x:auto;line-height:normal;font-family:Menlo,'DejaVu Sans Mono',consolas,'Courier New',monospace\">Num timesteps: 357000\n",
       "</pre>\n"
      ],
      "text/plain": [
       "Num timesteps: 357000\n"
      ]
     },
     "metadata": {},
     "output_type": "display_data"
    },
    {
     "data": {
      "text/html": [
       "<pre style=\"white-space:pre;overflow-x:auto;line-height:normal;font-family:Menlo,'DejaVu Sans Mono',consolas,'Courier New',monospace\">Best mean reward: 307.16 - Last mean reward per episode: 299.10\n",
       "</pre>\n"
      ],
      "text/plain": [
       "Best mean reward: 307.16 - Last mean reward per episode: 299.10\n"
      ]
     },
     "metadata": {},
     "output_type": "display_data"
    },
    {
     "data": {
      "text/html": [
       "<pre style=\"white-space:pre;overflow-x:auto;line-height:normal;font-family:Menlo,'DejaVu Sans Mono',consolas,'Courier New',monospace\">Num timesteps: 358000\n",
       "</pre>\n"
      ],
      "text/plain": [
       "Num timesteps: 358000\n"
      ]
     },
     "metadata": {},
     "output_type": "display_data"
    },
    {
     "data": {
      "text/html": [
       "<pre style=\"white-space:pre;overflow-x:auto;line-height:normal;font-family:Menlo,'DejaVu Sans Mono',consolas,'Courier New',monospace\">Best mean reward: 307.16 - Last mean reward per episode: 298.56\n",
       "</pre>\n"
      ],
      "text/plain": [
       "Best mean reward: 307.16 - Last mean reward per episode: 298.56\n"
      ]
     },
     "metadata": {},
     "output_type": "display_data"
    },
    {
     "data": {
      "text/html": [
       "<pre style=\"white-space:pre;overflow-x:auto;line-height:normal;font-family:Menlo,'DejaVu Sans Mono',consolas,'Courier New',monospace\">Num timesteps: 359000\n",
       "</pre>\n"
      ],
      "text/plain": [
       "Num timesteps: 359000\n"
      ]
     },
     "metadata": {},
     "output_type": "display_data"
    },
    {
     "data": {
      "text/html": [
       "<pre style=\"white-space:pre;overflow-x:auto;line-height:normal;font-family:Menlo,'DejaVu Sans Mono',consolas,'Courier New',monospace\">Best mean reward: 307.16 - Last mean reward per episode: 298.74\n",
       "</pre>\n"
      ],
      "text/plain": [
       "Best mean reward: 307.16 - Last mean reward per episode: 298.74\n"
      ]
     },
     "metadata": {},
     "output_type": "display_data"
    },
    {
     "data": {
      "text/html": [
       "<pre style=\"white-space:pre;overflow-x:auto;line-height:normal;font-family:Menlo,'DejaVu Sans Mono',consolas,'Courier New',monospace\">Num timesteps: 360000\n",
       "</pre>\n"
      ],
      "text/plain": [
       "Num timesteps: 360000\n"
      ]
     },
     "metadata": {},
     "output_type": "display_data"
    },
    {
     "data": {
      "text/html": [
       "<pre style=\"white-space:pre;overflow-x:auto;line-height:normal;font-family:Menlo,'DejaVu Sans Mono',consolas,'Courier New',monospace\">Best mean reward: 307.16 - Last mean reward per episode: 298.83\n",
       "</pre>\n"
      ],
      "text/plain": [
       "Best mean reward: 307.16 - Last mean reward per episode: 298.83\n"
      ]
     },
     "metadata": {},
     "output_type": "display_data"
    },
    {
     "data": {
      "text/html": [
       "<pre style=\"white-space:pre;overflow-x:auto;line-height:normal;font-family:Menlo,'DejaVu Sans Mono',consolas,'Courier New',monospace\">Num timesteps: 361000\n",
       "</pre>\n"
      ],
      "text/plain": [
       "Num timesteps: 361000\n"
      ]
     },
     "metadata": {},
     "output_type": "display_data"
    },
    {
     "data": {
      "text/html": [
       "<pre style=\"white-space:pre;overflow-x:auto;line-height:normal;font-family:Menlo,'DejaVu Sans Mono',consolas,'Courier New',monospace\">Best mean reward: 307.16 - Last mean reward per episode: 298.55\n",
       "</pre>\n"
      ],
      "text/plain": [
       "Best mean reward: 307.16 - Last mean reward per episode: 298.55\n"
      ]
     },
     "metadata": {},
     "output_type": "display_data"
    },
    {
     "data": {
      "text/html": [
       "<pre style=\"white-space:pre;overflow-x:auto;line-height:normal;font-family:Menlo,'DejaVu Sans Mono',consolas,'Courier New',monospace\">Num timesteps: 362000\n",
       "</pre>\n"
      ],
      "text/plain": [
       "Num timesteps: 362000\n"
      ]
     },
     "metadata": {},
     "output_type": "display_data"
    },
    {
     "data": {
      "text/html": [
       "<pre style=\"white-space:pre;overflow-x:auto;line-height:normal;font-family:Menlo,'DejaVu Sans Mono',consolas,'Courier New',monospace\">Best mean reward: 307.16 - Last mean reward per episode: 298.72\n",
       "</pre>\n"
      ],
      "text/plain": [
       "Best mean reward: 307.16 - Last mean reward per episode: 298.72\n"
      ]
     },
     "metadata": {},
     "output_type": "display_data"
    },
    {
     "data": {
      "text/html": [
       "<pre style=\"white-space:pre;overflow-x:auto;line-height:normal;font-family:Menlo,'DejaVu Sans Mono',consolas,'Courier New',monospace\">Num timesteps: 363000\n",
       "</pre>\n"
      ],
      "text/plain": [
       "Num timesteps: 363000\n"
      ]
     },
     "metadata": {},
     "output_type": "display_data"
    },
    {
     "data": {
      "text/html": [
       "<pre style=\"white-space:pre;overflow-x:auto;line-height:normal;font-family:Menlo,'DejaVu Sans Mono',consolas,'Courier New',monospace\">Best mean reward: 307.16 - Last mean reward per episode: 299.24\n",
       "</pre>\n"
      ],
      "text/plain": [
       "Best mean reward: 307.16 - Last mean reward per episode: 299.24\n"
      ]
     },
     "metadata": {},
     "output_type": "display_data"
    },
    {
     "data": {
      "text/html": [
       "<pre style=\"white-space:pre;overflow-x:auto;line-height:normal;font-family:Menlo,'DejaVu Sans Mono',consolas,'Courier New',monospace\">Num timesteps: 364000\n",
       "</pre>\n"
      ],
      "text/plain": [
       "Num timesteps: 364000\n"
      ]
     },
     "metadata": {},
     "output_type": "display_data"
    },
    {
     "data": {
      "text/html": [
       "<pre style=\"white-space:pre;overflow-x:auto;line-height:normal;font-family:Menlo,'DejaVu Sans Mono',consolas,'Courier New',monospace\">Best mean reward: 307.16 - Last mean reward per episode: 300.25\n",
       "</pre>\n"
      ],
      "text/plain": [
       "Best mean reward: 307.16 - Last mean reward per episode: 300.25\n"
      ]
     },
     "metadata": {},
     "output_type": "display_data"
    },
    {
     "data": {
      "text/html": [
       "<pre style=\"white-space:pre;overflow-x:auto;line-height:normal;font-family:Menlo,'DejaVu Sans Mono',consolas,'Courier New',monospace\">Num timesteps: 365000\n",
       "</pre>\n"
      ],
      "text/plain": [
       "Num timesteps: 365000\n"
      ]
     },
     "metadata": {},
     "output_type": "display_data"
    },
    {
     "data": {
      "text/html": [
       "<pre style=\"white-space:pre;overflow-x:auto;line-height:normal;font-family:Menlo,'DejaVu Sans Mono',consolas,'Courier New',monospace\">Best mean reward: 307.16 - Last mean reward per episode: 299.49\n",
       "</pre>\n"
      ],
      "text/plain": [
       "Best mean reward: 307.16 - Last mean reward per episode: 299.49\n"
      ]
     },
     "metadata": {},
     "output_type": "display_data"
    },
    {
     "data": {
      "text/html": [
       "<pre style=\"white-space:pre;overflow-x:auto;line-height:normal;font-family:Menlo,'DejaVu Sans Mono',consolas,'Courier New',monospace\">Num timesteps: 366000\n",
       "</pre>\n"
      ],
      "text/plain": [
       "Num timesteps: 366000\n"
      ]
     },
     "metadata": {},
     "output_type": "display_data"
    },
    {
     "data": {
      "text/html": [
       "<pre style=\"white-space:pre;overflow-x:auto;line-height:normal;font-family:Menlo,'DejaVu Sans Mono',consolas,'Courier New',monospace\">Best mean reward: 307.16 - Last mean reward per episode: 298.29\n",
       "</pre>\n"
      ],
      "text/plain": [
       "Best mean reward: 307.16 - Last mean reward per episode: 298.29\n"
      ]
     },
     "metadata": {},
     "output_type": "display_data"
    },
    {
     "data": {
      "text/html": [
       "<pre style=\"white-space:pre;overflow-x:auto;line-height:normal;font-family:Menlo,'DejaVu Sans Mono',consolas,'Courier New',monospace\">Num timesteps: 367000\n",
       "</pre>\n"
      ],
      "text/plain": [
       "Num timesteps: 367000\n"
      ]
     },
     "metadata": {},
     "output_type": "display_data"
    },
    {
     "data": {
      "text/html": [
       "<pre style=\"white-space:pre;overflow-x:auto;line-height:normal;font-family:Menlo,'DejaVu Sans Mono',consolas,'Courier New',monospace\">Best mean reward: 307.16 - Last mean reward per episode: 297.83\n",
       "</pre>\n"
      ],
      "text/plain": [
       "Best mean reward: 307.16 - Last mean reward per episode: 297.83\n"
      ]
     },
     "metadata": {},
     "output_type": "display_data"
    },
    {
     "data": {
      "text/html": [
       "<pre style=\"white-space:pre;overflow-x:auto;line-height:normal;font-family:Menlo,'DejaVu Sans Mono',consolas,'Courier New',monospace\">Num timesteps: 368000\n",
       "</pre>\n"
      ],
      "text/plain": [
       "Num timesteps: 368000\n"
      ]
     },
     "metadata": {},
     "output_type": "display_data"
    },
    {
     "data": {
      "text/html": [
       "<pre style=\"white-space:pre;overflow-x:auto;line-height:normal;font-family:Menlo,'DejaVu Sans Mono',consolas,'Courier New',monospace\">Best mean reward: 307.16 - Last mean reward per episode: 298.04\n",
       "</pre>\n"
      ],
      "text/plain": [
       "Best mean reward: 307.16 - Last mean reward per episode: 298.04\n"
      ]
     },
     "metadata": {},
     "output_type": "display_data"
    },
    {
     "name": "stdout",
     "output_type": "stream",
     "text": [
      "-----------------------------------------\n",
      "| rollout/                |             |\n",
      "|    ep_len_mean          | 500         |\n",
      "|    ep_rew_mean          | 298         |\n",
      "| time/                   |             |\n",
      "|    fps                  | 72          |\n",
      "|    iterations           | 180         |\n",
      "|    time_elapsed         | 5115        |\n",
      "|    total_timesteps      | 368640      |\n",
      "| train/                  |             |\n",
      "|    approx_kl            | 0.034937404 |\n",
      "|    clip_fraction        | 0.363       |\n",
      "|    clip_range           | 0.2         |\n",
      "|    entropy_loss         | -17.1       |\n",
      "|    explained_variance   | 0.779       |\n",
      "|    learning_rate        | 0.0003      |\n",
      "|    loss                 | 0.441       |\n",
      "|    n_updates            | 1790        |\n",
      "|    policy_gradient_loss | -0.00524    |\n",
      "|    std                  | 1           |\n",
      "|    value_loss           | 9.24        |\n",
      "-----------------------------------------\n"
     ]
    },
    {
     "data": {
      "text/html": [
       "<pre style=\"white-space:pre;overflow-x:auto;line-height:normal;font-family:Menlo,'DejaVu Sans Mono',consolas,'Courier New',monospace\">Num timesteps: 369000\n",
       "</pre>\n"
      ],
      "text/plain": [
       "Num timesteps: 369000\n"
      ]
     },
     "metadata": {},
     "output_type": "display_data"
    },
    {
     "data": {
      "text/html": [
       "<pre style=\"white-space:pre;overflow-x:auto;line-height:normal;font-family:Menlo,'DejaVu Sans Mono',consolas,'Courier New',monospace\">Best mean reward: 307.16 - Last mean reward per episode: 297.35\n",
       "</pre>\n"
      ],
      "text/plain": [
       "Best mean reward: 307.16 - Last mean reward per episode: 297.35\n"
      ]
     },
     "metadata": {},
     "output_type": "display_data"
    },
    {
     "data": {
      "text/html": [
       "<pre style=\"white-space:pre;overflow-x:auto;line-height:normal;font-family:Menlo,'DejaVu Sans Mono',consolas,'Courier New',monospace\">Num timesteps: 370000\n",
       "</pre>\n"
      ],
      "text/plain": [
       "Num timesteps: 370000\n"
      ]
     },
     "metadata": {},
     "output_type": "display_data"
    },
    {
     "data": {
      "text/html": [
       "<pre style=\"white-space:pre;overflow-x:auto;line-height:normal;font-family:Menlo,'DejaVu Sans Mono',consolas,'Courier New',monospace\">Best mean reward: 307.16 - Last mean reward per episode: 297.13\n",
       "</pre>\n"
      ],
      "text/plain": [
       "Best mean reward: 307.16 - Last mean reward per episode: 297.13\n"
      ]
     },
     "metadata": {},
     "output_type": "display_data"
    },
    {
     "data": {
      "text/html": [
       "<pre style=\"white-space:pre;overflow-x:auto;line-height:normal;font-family:Menlo,'DejaVu Sans Mono',consolas,'Courier New',monospace\">Num timesteps: 371000\n",
       "</pre>\n"
      ],
      "text/plain": [
       "Num timesteps: 371000\n"
      ]
     },
     "metadata": {},
     "output_type": "display_data"
    },
    {
     "data": {
      "text/html": [
       "<pre style=\"white-space:pre;overflow-x:auto;line-height:normal;font-family:Menlo,'DejaVu Sans Mono',consolas,'Courier New',monospace\">Best mean reward: 307.16 - Last mean reward per episode: 297.09\n",
       "</pre>\n"
      ],
      "text/plain": [
       "Best mean reward: 307.16 - Last mean reward per episode: 297.09\n"
      ]
     },
     "metadata": {},
     "output_type": "display_data"
    },
    {
     "data": {
      "text/html": [
       "<pre style=\"white-space:pre;overflow-x:auto;line-height:normal;font-family:Menlo,'DejaVu Sans Mono',consolas,'Courier New',monospace\">Num timesteps: 372000\n",
       "</pre>\n"
      ],
      "text/plain": [
       "Num timesteps: 372000\n"
      ]
     },
     "metadata": {},
     "output_type": "display_data"
    },
    {
     "data": {
      "text/html": [
       "<pre style=\"white-space:pre;overflow-x:auto;line-height:normal;font-family:Menlo,'DejaVu Sans Mono',consolas,'Courier New',monospace\">Best mean reward: 307.16 - Last mean reward per episode: 296.80\n",
       "</pre>\n"
      ],
      "text/plain": [
       "Best mean reward: 307.16 - Last mean reward per episode: 296.80\n"
      ]
     },
     "metadata": {},
     "output_type": "display_data"
    },
    {
     "data": {
      "text/html": [
       "<pre style=\"white-space:pre;overflow-x:auto;line-height:normal;font-family:Menlo,'DejaVu Sans Mono',consolas,'Courier New',monospace\">Num timesteps: 373000\n",
       "</pre>\n"
      ],
      "text/plain": [
       "Num timesteps: 373000\n"
      ]
     },
     "metadata": {},
     "output_type": "display_data"
    },
    {
     "data": {
      "text/html": [
       "<pre style=\"white-space:pre;overflow-x:auto;line-height:normal;font-family:Menlo,'DejaVu Sans Mono',consolas,'Courier New',monospace\">Best mean reward: 307.16 - Last mean reward per episode: 297.43\n",
       "</pre>\n"
      ],
      "text/plain": [
       "Best mean reward: 307.16 - Last mean reward per episode: 297.43\n"
      ]
     },
     "metadata": {},
     "output_type": "display_data"
    },
    {
     "data": {
      "text/html": [
       "<pre style=\"white-space:pre;overflow-x:auto;line-height:normal;font-family:Menlo,'DejaVu Sans Mono',consolas,'Courier New',monospace\">Num timesteps: 374000\n",
       "</pre>\n"
      ],
      "text/plain": [
       "Num timesteps: 374000\n"
      ]
     },
     "metadata": {},
     "output_type": "display_data"
    },
    {
     "data": {
      "text/html": [
       "<pre style=\"white-space:pre;overflow-x:auto;line-height:normal;font-family:Menlo,'DejaVu Sans Mono',consolas,'Courier New',monospace\">Best mean reward: 307.16 - Last mean reward per episode: 297.29\n",
       "</pre>\n"
      ],
      "text/plain": [
       "Best mean reward: 307.16 - Last mean reward per episode: 297.29\n"
      ]
     },
     "metadata": {},
     "output_type": "display_data"
    },
    {
     "data": {
      "text/html": [
       "<pre style=\"white-space:pre;overflow-x:auto;line-height:normal;font-family:Menlo,'DejaVu Sans Mono',consolas,'Courier New',monospace\">Num timesteps: 375000\n",
       "</pre>\n"
      ],
      "text/plain": [
       "Num timesteps: 375000\n"
      ]
     },
     "metadata": {},
     "output_type": "display_data"
    },
    {
     "data": {
      "text/html": [
       "<pre style=\"white-space:pre;overflow-x:auto;line-height:normal;font-family:Menlo,'DejaVu Sans Mono',consolas,'Courier New',monospace\">Best mean reward: 307.16 - Last mean reward per episode: 296.98\n",
       "</pre>\n"
      ],
      "text/plain": [
       "Best mean reward: 307.16 - Last mean reward per episode: 296.98\n"
      ]
     },
     "metadata": {},
     "output_type": "display_data"
    },
    {
     "data": {
      "text/html": [
       "<pre style=\"white-space:pre;overflow-x:auto;line-height:normal;font-family:Menlo,'DejaVu Sans Mono',consolas,'Courier New',monospace\">Num timesteps: 376000\n",
       "</pre>\n"
      ],
      "text/plain": [
       "Num timesteps: 376000\n"
      ]
     },
     "metadata": {},
     "output_type": "display_data"
    },
    {
     "data": {
      "text/html": [
       "<pre style=\"white-space:pre;overflow-x:auto;line-height:normal;font-family:Menlo,'DejaVu Sans Mono',consolas,'Courier New',monospace\">Best mean reward: 307.16 - Last mean reward per episode: 296.85\n",
       "</pre>\n"
      ],
      "text/plain": [
       "Best mean reward: 307.16 - Last mean reward per episode: 296.85\n"
      ]
     },
     "metadata": {},
     "output_type": "display_data"
    },
    {
     "data": {
      "text/html": [
       "<pre style=\"white-space:pre;overflow-x:auto;line-height:normal;font-family:Menlo,'DejaVu Sans Mono',consolas,'Courier New',monospace\">Num timesteps: 377000\n",
       "</pre>\n"
      ],
      "text/plain": [
       "Num timesteps: 377000\n"
      ]
     },
     "metadata": {},
     "output_type": "display_data"
    },
    {
     "data": {
      "text/html": [
       "<pre style=\"white-space:pre;overflow-x:auto;line-height:normal;font-family:Menlo,'DejaVu Sans Mono',consolas,'Courier New',monospace\">Best mean reward: 307.16 - Last mean reward per episode: 297.24\n",
       "</pre>\n"
      ],
      "text/plain": [
       "Best mean reward: 307.16 - Last mean reward per episode: 297.24\n"
      ]
     },
     "metadata": {},
     "output_type": "display_data"
    },
    {
     "data": {
      "text/html": [
       "<pre style=\"white-space:pre;overflow-x:auto;line-height:normal;font-family:Menlo,'DejaVu Sans Mono',consolas,'Courier New',monospace\">Num timesteps: 378000\n",
       "</pre>\n"
      ],
      "text/plain": [
       "Num timesteps: 378000\n"
      ]
     },
     "metadata": {},
     "output_type": "display_data"
    },
    {
     "data": {
      "text/html": [
       "<pre style=\"white-space:pre;overflow-x:auto;line-height:normal;font-family:Menlo,'DejaVu Sans Mono',consolas,'Courier New',monospace\">Best mean reward: 307.16 - Last mean reward per episode: 297.31\n",
       "</pre>\n"
      ],
      "text/plain": [
       "Best mean reward: 307.16 - Last mean reward per episode: 297.31\n"
      ]
     },
     "metadata": {},
     "output_type": "display_data"
    },
    {
     "data": {
      "text/html": [
       "<pre style=\"white-space:pre;overflow-x:auto;line-height:normal;font-family:Menlo,'DejaVu Sans Mono',consolas,'Courier New',monospace\">Num timesteps: 379000\n",
       "</pre>\n"
      ],
      "text/plain": [
       "Num timesteps: 379000\n"
      ]
     },
     "metadata": {},
     "output_type": "display_data"
    },
    {
     "data": {
      "text/html": [
       "<pre style=\"white-space:pre;overflow-x:auto;line-height:normal;font-family:Menlo,'DejaVu Sans Mono',consolas,'Courier New',monospace\">Best mean reward: 307.16 - Last mean reward per episode: 298.31\n",
       "</pre>\n"
      ],
      "text/plain": [
       "Best mean reward: 307.16 - Last mean reward per episode: 298.31\n"
      ]
     },
     "metadata": {},
     "output_type": "display_data"
    },
    {
     "data": {
      "text/html": [
       "<pre style=\"white-space:pre;overflow-x:auto;line-height:normal;font-family:Menlo,'DejaVu Sans Mono',consolas,'Courier New',monospace\">Num timesteps: 380000\n",
       "</pre>\n"
      ],
      "text/plain": [
       "Num timesteps: 380000\n"
      ]
     },
     "metadata": {},
     "output_type": "display_data"
    },
    {
     "data": {
      "text/html": [
       "<pre style=\"white-space:pre;overflow-x:auto;line-height:normal;font-family:Menlo,'DejaVu Sans Mono',consolas,'Courier New',monospace\">Best mean reward: 307.16 - Last mean reward per episode: 298.92\n",
       "</pre>\n"
      ],
      "text/plain": [
       "Best mean reward: 307.16 - Last mean reward per episode: 298.92\n"
      ]
     },
     "metadata": {},
     "output_type": "display_data"
    },
    {
     "data": {
      "text/html": [
       "<pre style=\"white-space:pre;overflow-x:auto;line-height:normal;font-family:Menlo,'DejaVu Sans Mono',consolas,'Courier New',monospace\">Num timesteps: 381000\n",
       "</pre>\n"
      ],
      "text/plain": [
       "Num timesteps: 381000\n"
      ]
     },
     "metadata": {},
     "output_type": "display_data"
    },
    {
     "data": {
      "text/html": [
       "<pre style=\"white-space:pre;overflow-x:auto;line-height:normal;font-family:Menlo,'DejaVu Sans Mono',consolas,'Courier New',monospace\">Best mean reward: 307.16 - Last mean reward per episode: 299.55\n",
       "</pre>\n"
      ],
      "text/plain": [
       "Best mean reward: 307.16 - Last mean reward per episode: 299.55\n"
      ]
     },
     "metadata": {},
     "output_type": "display_data"
    },
    {
     "data": {
      "text/html": [
       "<pre style=\"white-space:pre;overflow-x:auto;line-height:normal;font-family:Menlo,'DejaVu Sans Mono',consolas,'Courier New',monospace\">Num timesteps: 382000\n",
       "</pre>\n"
      ],
      "text/plain": [
       "Num timesteps: 382000\n"
      ]
     },
     "metadata": {},
     "output_type": "display_data"
    },
    {
     "data": {
      "text/html": [
       "<pre style=\"white-space:pre;overflow-x:auto;line-height:normal;font-family:Menlo,'DejaVu Sans Mono',consolas,'Courier New',monospace\">Best mean reward: 307.16 - Last mean reward per episode: 299.13\n",
       "</pre>\n"
      ],
      "text/plain": [
       "Best mean reward: 307.16 - Last mean reward per episode: 299.13\n"
      ]
     },
     "metadata": {},
     "output_type": "display_data"
    },
    {
     "data": {
      "text/html": [
       "<pre style=\"white-space:pre;overflow-x:auto;line-height:normal;font-family:Menlo,'DejaVu Sans Mono',consolas,'Courier New',monospace\">Num timesteps: 383000\n",
       "</pre>\n"
      ],
      "text/plain": [
       "Num timesteps: 383000\n"
      ]
     },
     "metadata": {},
     "output_type": "display_data"
    },
    {
     "data": {
      "text/html": [
       "<pre style=\"white-space:pre;overflow-x:auto;line-height:normal;font-family:Menlo,'DejaVu Sans Mono',consolas,'Courier New',monospace\">Best mean reward: 307.16 - Last mean reward per episode: 300.10\n",
       "</pre>\n"
      ],
      "text/plain": [
       "Best mean reward: 307.16 - Last mean reward per episode: 300.10\n"
      ]
     },
     "metadata": {},
     "output_type": "display_data"
    },
    {
     "data": {
      "text/html": [
       "<pre style=\"white-space:pre;overflow-x:auto;line-height:normal;font-family:Menlo,'DejaVu Sans Mono',consolas,'Courier New',monospace\">Num timesteps: 384000\n",
       "</pre>\n"
      ],
      "text/plain": [
       "Num timesteps: 384000\n"
      ]
     },
     "metadata": {},
     "output_type": "display_data"
    },
    {
     "data": {
      "text/html": [
       "<pre style=\"white-space:pre;overflow-x:auto;line-height:normal;font-family:Menlo,'DejaVu Sans Mono',consolas,'Courier New',monospace\">Best mean reward: 307.16 - Last mean reward per episode: 300.95\n",
       "</pre>\n"
      ],
      "text/plain": [
       "Best mean reward: 307.16 - Last mean reward per episode: 300.95\n"
      ]
     },
     "metadata": {},
     "output_type": "display_data"
    },
    {
     "data": {
      "text/html": [
       "<pre style=\"white-space:pre;overflow-x:auto;line-height:normal;font-family:Menlo,'DejaVu Sans Mono',consolas,'Courier New',monospace\">Num timesteps: 385000\n",
       "</pre>\n"
      ],
      "text/plain": [
       "Num timesteps: 385000\n"
      ]
     },
     "metadata": {},
     "output_type": "display_data"
    },
    {
     "data": {
      "text/html": [
       "<pre style=\"white-space:pre;overflow-x:auto;line-height:normal;font-family:Menlo,'DejaVu Sans Mono',consolas,'Courier New',monospace\">Best mean reward: 307.16 - Last mean reward per episode: 301.50\n",
       "</pre>\n"
      ],
      "text/plain": [
       "Best mean reward: 307.16 - Last mean reward per episode: 301.50\n"
      ]
     },
     "metadata": {},
     "output_type": "display_data"
    },
    {
     "data": {
      "text/html": [
       "<pre style=\"white-space:pre;overflow-x:auto;line-height:normal;font-family:Menlo,'DejaVu Sans Mono',consolas,'Courier New',monospace\">Num timesteps: 386000\n",
       "</pre>\n"
      ],
      "text/plain": [
       "Num timesteps: 386000\n"
      ]
     },
     "metadata": {},
     "output_type": "display_data"
    },
    {
     "data": {
      "text/html": [
       "<pre style=\"white-space:pre;overflow-x:auto;line-height:normal;font-family:Menlo,'DejaVu Sans Mono',consolas,'Courier New',monospace\">Best mean reward: 307.16 - Last mean reward per episode: 302.04\n",
       "</pre>\n"
      ],
      "text/plain": [
       "Best mean reward: 307.16 - Last mean reward per episode: 302.04\n"
      ]
     },
     "metadata": {},
     "output_type": "display_data"
    },
    {
     "data": {
      "text/html": [
       "<pre style=\"white-space:pre;overflow-x:auto;line-height:normal;font-family:Menlo,'DejaVu Sans Mono',consolas,'Courier New',monospace\">Num timesteps: 387000\n",
       "</pre>\n"
      ],
      "text/plain": [
       "Num timesteps: 387000\n"
      ]
     },
     "metadata": {},
     "output_type": "display_data"
    },
    {
     "data": {
      "text/html": [
       "<pre style=\"white-space:pre;overflow-x:auto;line-height:normal;font-family:Menlo,'DejaVu Sans Mono',consolas,'Courier New',monospace\">Best mean reward: 307.16 - Last mean reward per episode: 301.82\n",
       "</pre>\n"
      ],
      "text/plain": [
       "Best mean reward: 307.16 - Last mean reward per episode: 301.82\n"
      ]
     },
     "metadata": {},
     "output_type": "display_data"
    },
    {
     "data": {
      "text/html": [
       "<pre style=\"white-space:pre;overflow-x:auto;line-height:normal;font-family:Menlo,'DejaVu Sans Mono',consolas,'Courier New',monospace\">Num timesteps: 388000\n",
       "</pre>\n"
      ],
      "text/plain": [
       "Num timesteps: 388000\n"
      ]
     },
     "metadata": {},
     "output_type": "display_data"
    },
    {
     "data": {
      "text/html": [
       "<pre style=\"white-space:pre;overflow-x:auto;line-height:normal;font-family:Menlo,'DejaVu Sans Mono',consolas,'Courier New',monospace\">Best mean reward: 307.16 - Last mean reward per episode: 301.07\n",
       "</pre>\n"
      ],
      "text/plain": [
       "Best mean reward: 307.16 - Last mean reward per episode: 301.07\n"
      ]
     },
     "metadata": {},
     "output_type": "display_data"
    },
    {
     "data": {
      "text/html": [
       "<pre style=\"white-space:pre;overflow-x:auto;line-height:normal;font-family:Menlo,'DejaVu Sans Mono',consolas,'Courier New',monospace\">Num timesteps: 389000\n",
       "</pre>\n"
      ],
      "text/plain": [
       "Num timesteps: 389000\n"
      ]
     },
     "metadata": {},
     "output_type": "display_data"
    },
    {
     "data": {
      "text/html": [
       "<pre style=\"white-space:pre;overflow-x:auto;line-height:normal;font-family:Menlo,'DejaVu Sans Mono',consolas,'Courier New',monospace\">Best mean reward: 307.16 - Last mean reward per episode: 300.53\n",
       "</pre>\n"
      ],
      "text/plain": [
       "Best mean reward: 307.16 - Last mean reward per episode: 300.53\n"
      ]
     },
     "metadata": {},
     "output_type": "display_data"
    },
    {
     "name": "stdout",
     "output_type": "stream",
     "text": [
      "----------------------------------------\n",
      "| rollout/                |            |\n",
      "|    ep_len_mean          | 500        |\n",
      "|    ep_rew_mean          | 301        |\n",
      "| time/                   |            |\n",
      "|    fps                  | 71         |\n",
      "|    iterations           | 190        |\n",
      "|    time_elapsed         | 5412       |\n",
      "|    total_timesteps      | 389120     |\n",
      "| train/                  |            |\n",
      "|    approx_kl            | 0.06125351 |\n",
      "|    clip_fraction        | 0.421      |\n",
      "|    clip_range           | 0.2        |\n",
      "|    entropy_loss         | -17.1      |\n",
      "|    explained_variance   | 0.915      |\n",
      "|    learning_rate        | 0.0003     |\n",
      "|    loss                 | 0.235      |\n",
      "|    n_updates            | 1890       |\n",
      "|    policy_gradient_loss | -0.0125    |\n",
      "|    std                  | 1.01       |\n",
      "|    value_loss           | 3.69       |\n",
      "----------------------------------------\n"
     ]
    },
    {
     "data": {
      "text/html": [
       "<pre style=\"white-space:pre;overflow-x:auto;line-height:normal;font-family:Menlo,'DejaVu Sans Mono',consolas,'Courier New',monospace\">Num timesteps: 390000\n",
       "</pre>\n"
      ],
      "text/plain": [
       "Num timesteps: 390000\n"
      ]
     },
     "metadata": {},
     "output_type": "display_data"
    },
    {
     "data": {
      "text/html": [
       "<pre style=\"white-space:pre;overflow-x:auto;line-height:normal;font-family:Menlo,'DejaVu Sans Mono',consolas,'Courier New',monospace\">Best mean reward: 307.16 - Last mean reward per episode: 300.91\n",
       "</pre>\n"
      ],
      "text/plain": [
       "Best mean reward: 307.16 - Last mean reward per episode: 300.91\n"
      ]
     },
     "metadata": {},
     "output_type": "display_data"
    },
    {
     "data": {
      "text/html": [
       "<pre style=\"white-space:pre;overflow-x:auto;line-height:normal;font-family:Menlo,'DejaVu Sans Mono',consolas,'Courier New',monospace\">Num timesteps: 391000\n",
       "</pre>\n"
      ],
      "text/plain": [
       "Num timesteps: 391000\n"
      ]
     },
     "metadata": {},
     "output_type": "display_data"
    },
    {
     "data": {
      "text/html": [
       "<pre style=\"white-space:pre;overflow-x:auto;line-height:normal;font-family:Menlo,'DejaVu Sans Mono',consolas,'Courier New',monospace\">Best mean reward: 307.16 - Last mean reward per episode: 300.52\n",
       "</pre>\n"
      ],
      "text/plain": [
       "Best mean reward: 307.16 - Last mean reward per episode: 300.52\n"
      ]
     },
     "metadata": {},
     "output_type": "display_data"
    },
    {
     "data": {
      "text/html": [
       "<pre style=\"white-space:pre;overflow-x:auto;line-height:normal;font-family:Menlo,'DejaVu Sans Mono',consolas,'Courier New',monospace\">Num timesteps: 392000\n",
       "</pre>\n"
      ],
      "text/plain": [
       "Num timesteps: 392000\n"
      ]
     },
     "metadata": {},
     "output_type": "display_data"
    },
    {
     "data": {
      "text/html": [
       "<pre style=\"white-space:pre;overflow-x:auto;line-height:normal;font-family:Menlo,'DejaVu Sans Mono',consolas,'Courier New',monospace\">Best mean reward: 307.16 - Last mean reward per episode: 300.55\n",
       "</pre>\n"
      ],
      "text/plain": [
       "Best mean reward: 307.16 - Last mean reward per episode: 300.55\n"
      ]
     },
     "metadata": {},
     "output_type": "display_data"
    },
    {
     "data": {
      "text/html": [
       "<pre style=\"white-space:pre;overflow-x:auto;line-height:normal;font-family:Menlo,'DejaVu Sans Mono',consolas,'Courier New',monospace\">Num timesteps: 393000\n",
       "</pre>\n"
      ],
      "text/plain": [
       "Num timesteps: 393000\n"
      ]
     },
     "metadata": {},
     "output_type": "display_data"
    },
    {
     "data": {
      "text/html": [
       "<pre style=\"white-space:pre;overflow-x:auto;line-height:normal;font-family:Menlo,'DejaVu Sans Mono',consolas,'Courier New',monospace\">Best mean reward: 307.16 - Last mean reward per episode: 300.73\n",
       "</pre>\n"
      ],
      "text/plain": [
       "Best mean reward: 307.16 - Last mean reward per episode: 300.73\n"
      ]
     },
     "metadata": {},
     "output_type": "display_data"
    },
    {
     "data": {
      "text/html": [
       "<pre style=\"white-space:pre;overflow-x:auto;line-height:normal;font-family:Menlo,'DejaVu Sans Mono',consolas,'Courier New',monospace\">Num timesteps: 394000\n",
       "</pre>\n"
      ],
      "text/plain": [
       "Num timesteps: 394000\n"
      ]
     },
     "metadata": {},
     "output_type": "display_data"
    },
    {
     "data": {
      "text/html": [
       "<pre style=\"white-space:pre;overflow-x:auto;line-height:normal;font-family:Menlo,'DejaVu Sans Mono',consolas,'Courier New',monospace\">Best mean reward: 307.16 - Last mean reward per episode: 300.43\n",
       "</pre>\n"
      ],
      "text/plain": [
       "Best mean reward: 307.16 - Last mean reward per episode: 300.43\n"
      ]
     },
     "metadata": {},
     "output_type": "display_data"
    },
    {
     "data": {
      "text/html": [
       "<pre style=\"white-space:pre;overflow-x:auto;line-height:normal;font-family:Menlo,'DejaVu Sans Mono',consolas,'Courier New',monospace\">Num timesteps: 395000\n",
       "</pre>\n"
      ],
      "text/plain": [
       "Num timesteps: 395000\n"
      ]
     },
     "metadata": {},
     "output_type": "display_data"
    },
    {
     "data": {
      "text/html": [
       "<pre style=\"white-space:pre;overflow-x:auto;line-height:normal;font-family:Menlo,'DejaVu Sans Mono',consolas,'Courier New',monospace\">Best mean reward: 307.16 - Last mean reward per episode: 300.18\n",
       "</pre>\n"
      ],
      "text/plain": [
       "Best mean reward: 307.16 - Last mean reward per episode: 300.18\n"
      ]
     },
     "metadata": {},
     "output_type": "display_data"
    },
    {
     "data": {
      "text/html": [
       "<pre style=\"white-space:pre;overflow-x:auto;line-height:normal;font-family:Menlo,'DejaVu Sans Mono',consolas,'Courier New',monospace\">Num timesteps: 396000\n",
       "</pre>\n"
      ],
      "text/plain": [
       "Num timesteps: 396000\n"
      ]
     },
     "metadata": {},
     "output_type": "display_data"
    },
    {
     "data": {
      "text/html": [
       "<pre style=\"white-space:pre;overflow-x:auto;line-height:normal;font-family:Menlo,'DejaVu Sans Mono',consolas,'Courier New',monospace\">Best mean reward: 307.16 - Last mean reward per episode: 300.33\n",
       "</pre>\n"
      ],
      "text/plain": [
       "Best mean reward: 307.16 - Last mean reward per episode: 300.33\n"
      ]
     },
     "metadata": {},
     "output_type": "display_data"
    },
    {
     "data": {
      "text/html": [
       "<pre style=\"white-space:pre;overflow-x:auto;line-height:normal;font-family:Menlo,'DejaVu Sans Mono',consolas,'Courier New',monospace\">Num timesteps: 397000\n",
       "</pre>\n"
      ],
      "text/plain": [
       "Num timesteps: 397000\n"
      ]
     },
     "metadata": {},
     "output_type": "display_data"
    },
    {
     "data": {
      "text/html": [
       "<pre style=\"white-space:pre;overflow-x:auto;line-height:normal;font-family:Menlo,'DejaVu Sans Mono',consolas,'Courier New',monospace\">Best mean reward: 307.16 - Last mean reward per episode: 300.68\n",
       "</pre>\n"
      ],
      "text/plain": [
       "Best mean reward: 307.16 - Last mean reward per episode: 300.68\n"
      ]
     },
     "metadata": {},
     "output_type": "display_data"
    },
    {
     "data": {
      "text/html": [
       "<pre style=\"white-space:pre;overflow-x:auto;line-height:normal;font-family:Menlo,'DejaVu Sans Mono',consolas,'Courier New',monospace\">Num timesteps: 398000\n",
       "</pre>\n"
      ],
      "text/plain": [
       "Num timesteps: 398000\n"
      ]
     },
     "metadata": {},
     "output_type": "display_data"
    },
    {
     "data": {
      "text/html": [
       "<pre style=\"white-space:pre;overflow-x:auto;line-height:normal;font-family:Menlo,'DejaVu Sans Mono',consolas,'Courier New',monospace\">Best mean reward: 307.16 - Last mean reward per episode: 301.09\n",
       "</pre>\n"
      ],
      "text/plain": [
       "Best mean reward: 307.16 - Last mean reward per episode: 301.09\n"
      ]
     },
     "metadata": {},
     "output_type": "display_data"
    },
    {
     "data": {
      "text/html": [
       "<pre style=\"white-space:pre;overflow-x:auto;line-height:normal;font-family:Menlo,'DejaVu Sans Mono',consolas,'Courier New',monospace\">Num timesteps: 399000\n",
       "</pre>\n"
      ],
      "text/plain": [
       "Num timesteps: 399000\n"
      ]
     },
     "metadata": {},
     "output_type": "display_data"
    },
    {
     "data": {
      "text/html": [
       "<pre style=\"white-space:pre;overflow-x:auto;line-height:normal;font-family:Menlo,'DejaVu Sans Mono',consolas,'Courier New',monospace\">Best mean reward: 307.16 - Last mean reward per episode: 301.47\n",
       "</pre>\n"
      ],
      "text/plain": [
       "Best mean reward: 307.16 - Last mean reward per episode: 301.47\n"
      ]
     },
     "metadata": {},
     "output_type": "display_data"
    },
    {
     "data": {
      "text/html": [
       "<pre style=\"white-space:pre;overflow-x:auto;line-height:normal;font-family:Menlo,'DejaVu Sans Mono',consolas,'Courier New',monospace\">Num timesteps: 400000\n",
       "</pre>\n"
      ],
      "text/plain": [
       "Num timesteps: 400000\n"
      ]
     },
     "metadata": {},
     "output_type": "display_data"
    },
    {
     "data": {
      "text/html": [
       "<pre style=\"white-space:pre;overflow-x:auto;line-height:normal;font-family:Menlo,'DejaVu Sans Mono',consolas,'Courier New',monospace\">Best mean reward: 307.16 - Last mean reward per episode: 301.55\n",
       "</pre>\n"
      ],
      "text/plain": [
       "Best mean reward: 307.16 - Last mean reward per episode: 301.55\n"
      ]
     },
     "metadata": {},
     "output_type": "display_data"
    },
    {
     "data": {
      "text/html": [
       "<pre style=\"white-space:pre;overflow-x:auto;line-height:normal;font-family:Menlo,'DejaVu Sans Mono',consolas,'Courier New',monospace\">Num timesteps: 401000\n",
       "</pre>\n"
      ],
      "text/plain": [
       "Num timesteps: 401000\n"
      ]
     },
     "metadata": {},
     "output_type": "display_data"
    },
    {
     "data": {
      "text/html": [
       "<pre style=\"white-space:pre;overflow-x:auto;line-height:normal;font-family:Menlo,'DejaVu Sans Mono',consolas,'Courier New',monospace\">Best mean reward: 307.16 - Last mean reward per episode: 300.99\n",
       "</pre>\n"
      ],
      "text/plain": [
       "Best mean reward: 307.16 - Last mean reward per episode: 300.99\n"
      ]
     },
     "metadata": {},
     "output_type": "display_data"
    },
    {
     "data": {
      "text/html": [
       "<pre style=\"white-space:pre;overflow-x:auto;line-height:normal;font-family:Menlo,'DejaVu Sans Mono',consolas,'Courier New',monospace\">Num timesteps: 402000\n",
       "</pre>\n"
      ],
      "text/plain": [
       "Num timesteps: 402000\n"
      ]
     },
     "metadata": {},
     "output_type": "display_data"
    },
    {
     "data": {
      "text/html": [
       "<pre style=\"white-space:pre;overflow-x:auto;line-height:normal;font-family:Menlo,'DejaVu Sans Mono',consolas,'Courier New',monospace\">Best mean reward: 307.16 - Last mean reward per episode: 301.53\n",
       "</pre>\n"
      ],
      "text/plain": [
       "Best mean reward: 307.16 - Last mean reward per episode: 301.53\n"
      ]
     },
     "metadata": {},
     "output_type": "display_data"
    },
    {
     "data": {
      "text/html": [
       "<pre style=\"white-space:pre;overflow-x:auto;line-height:normal;font-family:Menlo,'DejaVu Sans Mono',consolas,'Courier New',monospace\">Num timesteps: 403000\n",
       "</pre>\n"
      ],
      "text/plain": [
       "Num timesteps: 403000\n"
      ]
     },
     "metadata": {},
     "output_type": "display_data"
    },
    {
     "data": {
      "text/html": [
       "<pre style=\"white-space:pre;overflow-x:auto;line-height:normal;font-family:Menlo,'DejaVu Sans Mono',consolas,'Courier New',monospace\">Best mean reward: 307.16 - Last mean reward per episode: 301.11\n",
       "</pre>\n"
      ],
      "text/plain": [
       "Best mean reward: 307.16 - Last mean reward per episode: 301.11\n"
      ]
     },
     "metadata": {},
     "output_type": "display_data"
    },
    {
     "data": {
      "text/html": [
       "<pre style=\"white-space:pre;overflow-x:auto;line-height:normal;font-family:Menlo,'DejaVu Sans Mono',consolas,'Courier New',monospace\">Num timesteps: 404000\n",
       "</pre>\n"
      ],
      "text/plain": [
       "Num timesteps: 404000\n"
      ]
     },
     "metadata": {},
     "output_type": "display_data"
    },
    {
     "data": {
      "text/html": [
       "<pre style=\"white-space:pre;overflow-x:auto;line-height:normal;font-family:Menlo,'DejaVu Sans Mono',consolas,'Courier New',monospace\">Best mean reward: 307.16 - Last mean reward per episode: 301.35\n",
       "</pre>\n"
      ],
      "text/plain": [
       "Best mean reward: 307.16 - Last mean reward per episode: 301.35\n"
      ]
     },
     "metadata": {},
     "output_type": "display_data"
    },
    {
     "data": {
      "text/html": [
       "<pre style=\"white-space:pre;overflow-x:auto;line-height:normal;font-family:Menlo,'DejaVu Sans Mono',consolas,'Courier New',monospace\">Num timesteps: 405000\n",
       "</pre>\n"
      ],
      "text/plain": [
       "Num timesteps: 405000\n"
      ]
     },
     "metadata": {},
     "output_type": "display_data"
    },
    {
     "data": {
      "text/html": [
       "<pre style=\"white-space:pre;overflow-x:auto;line-height:normal;font-family:Menlo,'DejaVu Sans Mono',consolas,'Courier New',monospace\">Best mean reward: 307.16 - Last mean reward per episode: 301.49\n",
       "</pre>\n"
      ],
      "text/plain": [
       "Best mean reward: 307.16 - Last mean reward per episode: 301.49\n"
      ]
     },
     "metadata": {},
     "output_type": "display_data"
    },
    {
     "data": {
      "text/html": [
       "<pre style=\"white-space:pre;overflow-x:auto;line-height:normal;font-family:Menlo,'DejaVu Sans Mono',consolas,'Courier New',monospace\">Num timesteps: 406000\n",
       "</pre>\n"
      ],
      "text/plain": [
       "Num timesteps: 406000\n"
      ]
     },
     "metadata": {},
     "output_type": "display_data"
    },
    {
     "data": {
      "text/html": [
       "<pre style=\"white-space:pre;overflow-x:auto;line-height:normal;font-family:Menlo,'DejaVu Sans Mono',consolas,'Courier New',monospace\">Best mean reward: 307.16 - Last mean reward per episode: 301.39\n",
       "</pre>\n"
      ],
      "text/plain": [
       "Best mean reward: 307.16 - Last mean reward per episode: 301.39\n"
      ]
     },
     "metadata": {},
     "output_type": "display_data"
    },
    {
     "data": {
      "text/html": [
       "<pre style=\"white-space:pre;overflow-x:auto;line-height:normal;font-family:Menlo,'DejaVu Sans Mono',consolas,'Courier New',monospace\">Num timesteps: 407000\n",
       "</pre>\n"
      ],
      "text/plain": [
       "Num timesteps: 407000\n"
      ]
     },
     "metadata": {},
     "output_type": "display_data"
    },
    {
     "data": {
      "text/html": [
       "<pre style=\"white-space:pre;overflow-x:auto;line-height:normal;font-family:Menlo,'DejaVu Sans Mono',consolas,'Courier New',monospace\">Best mean reward: 307.16 - Last mean reward per episode: 302.21\n",
       "</pre>\n"
      ],
      "text/plain": [
       "Best mean reward: 307.16 - Last mean reward per episode: 302.21\n"
      ]
     },
     "metadata": {},
     "output_type": "display_data"
    },
    {
     "data": {
      "text/html": [
       "<pre style=\"white-space:pre;overflow-x:auto;line-height:normal;font-family:Menlo,'DejaVu Sans Mono',consolas,'Courier New',monospace\">Num timesteps: 408000\n",
       "</pre>\n"
      ],
      "text/plain": [
       "Num timesteps: 408000\n"
      ]
     },
     "metadata": {},
     "output_type": "display_data"
    },
    {
     "data": {
      "text/html": [
       "<pre style=\"white-space:pre;overflow-x:auto;line-height:normal;font-family:Menlo,'DejaVu Sans Mono',consolas,'Courier New',monospace\">Best mean reward: 307.16 - Last mean reward per episode: 302.93\n",
       "</pre>\n"
      ],
      "text/plain": [
       "Best mean reward: 307.16 - Last mean reward per episode: 302.93\n"
      ]
     },
     "metadata": {},
     "output_type": "display_data"
    },
    {
     "data": {
      "text/html": [
       "<pre style=\"white-space:pre;overflow-x:auto;line-height:normal;font-family:Menlo,'DejaVu Sans Mono',consolas,'Courier New',monospace\">Num timesteps: 409000\n",
       "</pre>\n"
      ],
      "text/plain": [
       "Num timesteps: 409000\n"
      ]
     },
     "metadata": {},
     "output_type": "display_data"
    },
    {
     "data": {
      "text/html": [
       "<pre style=\"white-space:pre;overflow-x:auto;line-height:normal;font-family:Menlo,'DejaVu Sans Mono',consolas,'Courier New',monospace\">Best mean reward: 307.16 - Last mean reward per episode: 302.45\n",
       "</pre>\n"
      ],
      "text/plain": [
       "Best mean reward: 307.16 - Last mean reward per episode: 302.45\n"
      ]
     },
     "metadata": {},
     "output_type": "display_data"
    },
    {
     "name": "stdout",
     "output_type": "stream",
     "text": [
      "-----------------------------------------\n",
      "| rollout/                |             |\n",
      "|    ep_len_mean          | 500         |\n",
      "|    ep_rew_mean          | 303         |\n",
      "| time/                   |             |\n",
      "|    fps                  | 71          |\n",
      "|    iterations           | 200         |\n",
      "|    time_elapsed         | 5713        |\n",
      "|    total_timesteps      | 409600      |\n",
      "| train/                  |             |\n",
      "|    approx_kl            | 0.049124226 |\n",
      "|    clip_fraction        | 0.454       |\n",
      "|    clip_range           | 0.2         |\n",
      "|    entropy_loss         | -17.1       |\n",
      "|    explained_variance   | 0.649       |\n",
      "|    learning_rate        | 0.0003      |\n",
      "|    loss                 | 0.211       |\n",
      "|    n_updates            | 1990        |\n",
      "|    policy_gradient_loss | -0.00323    |\n",
      "|    std                  | 1.01        |\n",
      "|    value_loss           | 7.36        |\n",
      "-----------------------------------------\n"
     ]
    },
    {
     "data": {
      "text/html": [
       "<pre style=\"white-space:pre;overflow-x:auto;line-height:normal;font-family:Menlo,'DejaVu Sans Mono',consolas,'Courier New',monospace\">Num timesteps: 410000\n",
       "</pre>\n"
      ],
      "text/plain": [
       "Num timesteps: 410000\n"
      ]
     },
     "metadata": {},
     "output_type": "display_data"
    },
    {
     "data": {
      "text/html": [
       "<pre style=\"white-space:pre;overflow-x:auto;line-height:normal;font-family:Menlo,'DejaVu Sans Mono',consolas,'Courier New',monospace\">Best mean reward: 307.16 - Last mean reward per episode: 302.35\n",
       "</pre>\n"
      ],
      "text/plain": [
       "Best mean reward: 307.16 - Last mean reward per episode: 302.35\n"
      ]
     },
     "metadata": {},
     "output_type": "display_data"
    },
    {
     "data": {
      "text/html": [
       "<pre style=\"white-space:pre;overflow-x:auto;line-height:normal;font-family:Menlo,'DejaVu Sans Mono',consolas,'Courier New',monospace\">Num timesteps: 411000\n",
       "</pre>\n"
      ],
      "text/plain": [
       "Num timesteps: 411000\n"
      ]
     },
     "metadata": {},
     "output_type": "display_data"
    },
    {
     "data": {
      "text/html": [
       "<pre style=\"white-space:pre;overflow-x:auto;line-height:normal;font-family:Menlo,'DejaVu Sans Mono',consolas,'Courier New',monospace\">Best mean reward: 307.16 - Last mean reward per episode: 301.92\n",
       "</pre>\n"
      ],
      "text/plain": [
       "Best mean reward: 307.16 - Last mean reward per episode: 301.92\n"
      ]
     },
     "metadata": {},
     "output_type": "display_data"
    },
    {
     "data": {
      "text/html": [
       "<pre style=\"white-space:pre;overflow-x:auto;line-height:normal;font-family:Menlo,'DejaVu Sans Mono',consolas,'Courier New',monospace\">Num timesteps: 412000\n",
       "</pre>\n"
      ],
      "text/plain": [
       "Num timesteps: 412000\n"
      ]
     },
     "metadata": {},
     "output_type": "display_data"
    },
    {
     "data": {
      "text/html": [
       "<pre style=\"white-space:pre;overflow-x:auto;line-height:normal;font-family:Menlo,'DejaVu Sans Mono',consolas,'Courier New',monospace\">Best mean reward: 307.16 - Last mean reward per episode: 302.19\n",
       "</pre>\n"
      ],
      "text/plain": [
       "Best mean reward: 307.16 - Last mean reward per episode: 302.19\n"
      ]
     },
     "metadata": {},
     "output_type": "display_data"
    },
    {
     "data": {
      "text/html": [
       "<pre style=\"white-space:pre;overflow-x:auto;line-height:normal;font-family:Menlo,'DejaVu Sans Mono',consolas,'Courier New',monospace\">Num timesteps: 413000\n",
       "</pre>\n"
      ],
      "text/plain": [
       "Num timesteps: 413000\n"
      ]
     },
     "metadata": {},
     "output_type": "display_data"
    },
    {
     "data": {
      "text/html": [
       "<pre style=\"white-space:pre;overflow-x:auto;line-height:normal;font-family:Menlo,'DejaVu Sans Mono',consolas,'Courier New',monospace\">Best mean reward: 307.16 - Last mean reward per episode: 302.03\n",
       "</pre>\n"
      ],
      "text/plain": [
       "Best mean reward: 307.16 - Last mean reward per episode: 302.03\n"
      ]
     },
     "metadata": {},
     "output_type": "display_data"
    },
    {
     "data": {
      "text/html": [
       "<pre style=\"white-space:pre;overflow-x:auto;line-height:normal;font-family:Menlo,'DejaVu Sans Mono',consolas,'Courier New',monospace\">Num timesteps: 414000\n",
       "</pre>\n"
      ],
      "text/plain": [
       "Num timesteps: 414000\n"
      ]
     },
     "metadata": {},
     "output_type": "display_data"
    },
    {
     "data": {
      "text/html": [
       "<pre style=\"white-space:pre;overflow-x:auto;line-height:normal;font-family:Menlo,'DejaVu Sans Mono',consolas,'Courier New',monospace\">Best mean reward: 307.16 - Last mean reward per episode: 301.71\n",
       "</pre>\n"
      ],
      "text/plain": [
       "Best mean reward: 307.16 - Last mean reward per episode: 301.71\n"
      ]
     },
     "metadata": {},
     "output_type": "display_data"
    },
    {
     "data": {
      "text/html": [
       "<pre style=\"white-space:pre;overflow-x:auto;line-height:normal;font-family:Menlo,'DejaVu Sans Mono',consolas,'Courier New',monospace\">Num timesteps: 415000\n",
       "</pre>\n"
      ],
      "text/plain": [
       "Num timesteps: 415000\n"
      ]
     },
     "metadata": {},
     "output_type": "display_data"
    },
    {
     "data": {
      "text/html": [
       "<pre style=\"white-space:pre;overflow-x:auto;line-height:normal;font-family:Menlo,'DejaVu Sans Mono',consolas,'Courier New',monospace\">Best mean reward: 307.16 - Last mean reward per episode: 303.25\n",
       "</pre>\n"
      ],
      "text/plain": [
       "Best mean reward: 307.16 - Last mean reward per episode: 303.25\n"
      ]
     },
     "metadata": {},
     "output_type": "display_data"
    },
    {
     "data": {
      "text/html": [
       "<pre style=\"white-space:pre;overflow-x:auto;line-height:normal;font-family:Menlo,'DejaVu Sans Mono',consolas,'Courier New',monospace\">Num timesteps: 416000\n",
       "</pre>\n"
      ],
      "text/plain": [
       "Num timesteps: 416000\n"
      ]
     },
     "metadata": {},
     "output_type": "display_data"
    },
    {
     "data": {
      "text/html": [
       "<pre style=\"white-space:pre;overflow-x:auto;line-height:normal;font-family:Menlo,'DejaVu Sans Mono',consolas,'Courier New',monospace\">Best mean reward: 307.16 - Last mean reward per episode: 304.15\n",
       "</pre>\n"
      ],
      "text/plain": [
       "Best mean reward: 307.16 - Last mean reward per episode: 304.15\n"
      ]
     },
     "metadata": {},
     "output_type": "display_data"
    },
    {
     "data": {
      "text/html": [
       "<pre style=\"white-space:pre;overflow-x:auto;line-height:normal;font-family:Menlo,'DejaVu Sans Mono',consolas,'Courier New',monospace\">Num timesteps: 417000\n",
       "</pre>\n"
      ],
      "text/plain": [
       "Num timesteps: 417000\n"
      ]
     },
     "metadata": {},
     "output_type": "display_data"
    },
    {
     "data": {
      "text/html": [
       "<pre style=\"white-space:pre;overflow-x:auto;line-height:normal;font-family:Menlo,'DejaVu Sans Mono',consolas,'Courier New',monospace\">Best mean reward: 307.16 - Last mean reward per episode: 304.18\n",
       "</pre>\n"
      ],
      "text/plain": [
       "Best mean reward: 307.16 - Last mean reward per episode: 304.18\n"
      ]
     },
     "metadata": {},
     "output_type": "display_data"
    },
    {
     "data": {
      "text/html": [
       "<pre style=\"white-space:pre;overflow-x:auto;line-height:normal;font-family:Menlo,'DejaVu Sans Mono',consolas,'Courier New',monospace\">Num timesteps: 418000\n",
       "</pre>\n"
      ],
      "text/plain": [
       "Num timesteps: 418000\n"
      ]
     },
     "metadata": {},
     "output_type": "display_data"
    },
    {
     "data": {
      "text/html": [
       "<pre style=\"white-space:pre;overflow-x:auto;line-height:normal;font-family:Menlo,'DejaVu Sans Mono',consolas,'Courier New',monospace\">Best mean reward: 307.16 - Last mean reward per episode: 304.48\n",
       "</pre>\n"
      ],
      "text/plain": [
       "Best mean reward: 307.16 - Last mean reward per episode: 304.48\n"
      ]
     },
     "metadata": {},
     "output_type": "display_data"
    },
    {
     "data": {
      "text/html": [
       "<pre style=\"white-space:pre;overflow-x:auto;line-height:normal;font-family:Menlo,'DejaVu Sans Mono',consolas,'Courier New',monospace\">Num timesteps: 419000\n",
       "</pre>\n"
      ],
      "text/plain": [
       "Num timesteps: 419000\n"
      ]
     },
     "metadata": {},
     "output_type": "display_data"
    },
    {
     "data": {
      "text/html": [
       "<pre style=\"white-space:pre;overflow-x:auto;line-height:normal;font-family:Menlo,'DejaVu Sans Mono',consolas,'Courier New',monospace\">Best mean reward: 307.16 - Last mean reward per episode: 305.37\n",
       "</pre>\n"
      ],
      "text/plain": [
       "Best mean reward: 307.16 - Last mean reward per episode: 305.37\n"
      ]
     },
     "metadata": {},
     "output_type": "display_data"
    },
    {
     "data": {
      "text/html": [
       "<pre style=\"white-space:pre;overflow-x:auto;line-height:normal;font-family:Menlo,'DejaVu Sans Mono',consolas,'Courier New',monospace\">Num timesteps: 420000\n",
       "</pre>\n"
      ],
      "text/plain": [
       "Num timesteps: 420000\n"
      ]
     },
     "metadata": {},
     "output_type": "display_data"
    },
    {
     "data": {
      "text/html": [
       "<pre style=\"white-space:pre;overflow-x:auto;line-height:normal;font-family:Menlo,'DejaVu Sans Mono',consolas,'Courier New',monospace\">Best mean reward: 307.16 - Last mean reward per episode: 305.89\n",
       "</pre>\n"
      ],
      "text/plain": [
       "Best mean reward: 307.16 - Last mean reward per episode: 305.89\n"
      ]
     },
     "metadata": {},
     "output_type": "display_data"
    },
    {
     "data": {
      "text/html": [
       "<pre style=\"white-space:pre;overflow-x:auto;line-height:normal;font-family:Menlo,'DejaVu Sans Mono',consolas,'Courier New',monospace\">Num timesteps: 421000\n",
       "</pre>\n"
      ],
      "text/plain": [
       "Num timesteps: 421000\n"
      ]
     },
     "metadata": {},
     "output_type": "display_data"
    },
    {
     "data": {
      "text/html": [
       "<pre style=\"white-space:pre;overflow-x:auto;line-height:normal;font-family:Menlo,'DejaVu Sans Mono',consolas,'Courier New',monospace\">Best mean reward: 307.16 - Last mean reward per episode: 306.07\n",
       "</pre>\n"
      ],
      "text/plain": [
       "Best mean reward: 307.16 - Last mean reward per episode: 306.07\n"
      ]
     },
     "metadata": {},
     "output_type": "display_data"
    },
    {
     "data": {
      "text/html": [
       "<pre style=\"white-space:pre;overflow-x:auto;line-height:normal;font-family:Menlo,'DejaVu Sans Mono',consolas,'Courier New',monospace\">Num timesteps: 422000\n",
       "</pre>\n"
      ],
      "text/plain": [
       "Num timesteps: 422000\n"
      ]
     },
     "metadata": {},
     "output_type": "display_data"
    },
    {
     "data": {
      "text/html": [
       "<pre style=\"white-space:pre;overflow-x:auto;line-height:normal;font-family:Menlo,'DejaVu Sans Mono',consolas,'Courier New',monospace\">Best mean reward: 307.16 - Last mean reward per episode: 305.95\n",
       "</pre>\n"
      ],
      "text/plain": [
       "Best mean reward: 307.16 - Last mean reward per episode: 305.95\n"
      ]
     },
     "metadata": {},
     "output_type": "display_data"
    },
    {
     "data": {
      "text/html": [
       "<pre style=\"white-space:pre;overflow-x:auto;line-height:normal;font-family:Menlo,'DejaVu Sans Mono',consolas,'Courier New',monospace\">Num timesteps: 423000\n",
       "</pre>\n"
      ],
      "text/plain": [
       "Num timesteps: 423000\n"
      ]
     },
     "metadata": {},
     "output_type": "display_data"
    },
    {
     "data": {
      "text/html": [
       "<pre style=\"white-space:pre;overflow-x:auto;line-height:normal;font-family:Menlo,'DejaVu Sans Mono',consolas,'Courier New',monospace\">Best mean reward: 307.16 - Last mean reward per episode: 305.90\n",
       "</pre>\n"
      ],
      "text/plain": [
       "Best mean reward: 307.16 - Last mean reward per episode: 305.90\n"
      ]
     },
     "metadata": {},
     "output_type": "display_data"
    },
    {
     "data": {
      "text/html": [
       "<pre style=\"white-space:pre;overflow-x:auto;line-height:normal;font-family:Menlo,'DejaVu Sans Mono',consolas,'Courier New',monospace\">Num timesteps: 424000\n",
       "</pre>\n"
      ],
      "text/plain": [
       "Num timesteps: 424000\n"
      ]
     },
     "metadata": {},
     "output_type": "display_data"
    },
    {
     "data": {
      "text/html": [
       "<pre style=\"white-space:pre;overflow-x:auto;line-height:normal;font-family:Menlo,'DejaVu Sans Mono',consolas,'Courier New',monospace\">Best mean reward: 307.16 - Last mean reward per episode: 306.03\n",
       "</pre>\n"
      ],
      "text/plain": [
       "Best mean reward: 307.16 - Last mean reward per episode: 306.03\n"
      ]
     },
     "metadata": {},
     "output_type": "display_data"
    },
    {
     "data": {
      "text/html": [
       "<pre style=\"white-space:pre;overflow-x:auto;line-height:normal;font-family:Menlo,'DejaVu Sans Mono',consolas,'Courier New',monospace\">Num timesteps: 425000\n",
       "</pre>\n"
      ],
      "text/plain": [
       "Num timesteps: 425000\n"
      ]
     },
     "metadata": {},
     "output_type": "display_data"
    },
    {
     "data": {
      "text/html": [
       "<pre style=\"white-space:pre;overflow-x:auto;line-height:normal;font-family:Menlo,'DejaVu Sans Mono',consolas,'Courier New',monospace\">Best mean reward: 307.16 - Last mean reward per episode: 306.17\n",
       "</pre>\n"
      ],
      "text/plain": [
       "Best mean reward: 307.16 - Last mean reward per episode: 306.17\n"
      ]
     },
     "metadata": {},
     "output_type": "display_data"
    },
    {
     "data": {
      "text/html": [
       "<pre style=\"white-space:pre;overflow-x:auto;line-height:normal;font-family:Menlo,'DejaVu Sans Mono',consolas,'Courier New',monospace\">Num timesteps: 426000\n",
       "</pre>\n"
      ],
      "text/plain": [
       "Num timesteps: 426000\n"
      ]
     },
     "metadata": {},
     "output_type": "display_data"
    },
    {
     "data": {
      "text/html": [
       "<pre style=\"white-space:pre;overflow-x:auto;line-height:normal;font-family:Menlo,'DejaVu Sans Mono',consolas,'Courier New',monospace\">Best mean reward: 307.16 - Last mean reward per episode: 306.15\n",
       "</pre>\n"
      ],
      "text/plain": [
       "Best mean reward: 307.16 - Last mean reward per episode: 306.15\n"
      ]
     },
     "metadata": {},
     "output_type": "display_data"
    },
    {
     "data": {
      "text/html": [
       "<pre style=\"white-space:pre;overflow-x:auto;line-height:normal;font-family:Menlo,'DejaVu Sans Mono',consolas,'Courier New',monospace\">Num timesteps: 427000\n",
       "</pre>\n"
      ],
      "text/plain": [
       "Num timesteps: 427000\n"
      ]
     },
     "metadata": {},
     "output_type": "display_data"
    },
    {
     "data": {
      "text/html": [
       "<pre style=\"white-space:pre;overflow-x:auto;line-height:normal;font-family:Menlo,'DejaVu Sans Mono',consolas,'Courier New',monospace\">Best mean reward: 307.16 - Last mean reward per episode: 305.82\n",
       "</pre>\n"
      ],
      "text/plain": [
       "Best mean reward: 307.16 - Last mean reward per episode: 305.82\n"
      ]
     },
     "metadata": {},
     "output_type": "display_data"
    },
    {
     "data": {
      "text/html": [
       "<pre style=\"white-space:pre;overflow-x:auto;line-height:normal;font-family:Menlo,'DejaVu Sans Mono',consolas,'Courier New',monospace\">Num timesteps: 428000\n",
       "</pre>\n"
      ],
      "text/plain": [
       "Num timesteps: 428000\n"
      ]
     },
     "metadata": {},
     "output_type": "display_data"
    },
    {
     "data": {
      "text/html": [
       "<pre style=\"white-space:pre;overflow-x:auto;line-height:normal;font-family:Menlo,'DejaVu Sans Mono',consolas,'Courier New',monospace\">Best mean reward: 307.16 - Last mean reward per episode: 305.78\n",
       "</pre>\n"
      ],
      "text/plain": [
       "Best mean reward: 307.16 - Last mean reward per episode: 305.78\n"
      ]
     },
     "metadata": {},
     "output_type": "display_data"
    },
    {
     "data": {
      "text/html": [
       "<pre style=\"white-space:pre;overflow-x:auto;line-height:normal;font-family:Menlo,'DejaVu Sans Mono',consolas,'Courier New',monospace\">Num timesteps: 429000\n",
       "</pre>\n"
      ],
      "text/plain": [
       "Num timesteps: 429000\n"
      ]
     },
     "metadata": {},
     "output_type": "display_data"
    },
    {
     "data": {
      "text/html": [
       "<pre style=\"white-space:pre;overflow-x:auto;line-height:normal;font-family:Menlo,'DejaVu Sans Mono',consolas,'Courier New',monospace\">Best mean reward: 307.16 - Last mean reward per episode: 304.92\n",
       "</pre>\n"
      ],
      "text/plain": [
       "Best mean reward: 307.16 - Last mean reward per episode: 304.92\n"
      ]
     },
     "metadata": {},
     "output_type": "display_data"
    },
    {
     "data": {
      "text/html": [
       "<pre style=\"white-space:pre;overflow-x:auto;line-height:normal;font-family:Menlo,'DejaVu Sans Mono',consolas,'Courier New',monospace\">Num timesteps: 430000\n",
       "</pre>\n"
      ],
      "text/plain": [
       "Num timesteps: 430000\n"
      ]
     },
     "metadata": {},
     "output_type": "display_data"
    },
    {
     "data": {
      "text/html": [
       "<pre style=\"white-space:pre;overflow-x:auto;line-height:normal;font-family:Menlo,'DejaVu Sans Mono',consolas,'Courier New',monospace\">Best mean reward: 307.16 - Last mean reward per episode: 305.98\n",
       "</pre>\n"
      ],
      "text/plain": [
       "Best mean reward: 307.16 - Last mean reward per episode: 305.98\n"
      ]
     },
     "metadata": {},
     "output_type": "display_data"
    },
    {
     "name": "stdout",
     "output_type": "stream",
     "text": [
      "----------------------------------------\n",
      "| rollout/                |            |\n",
      "|    ep_len_mean          | 500        |\n",
      "|    ep_rew_mean          | 306        |\n",
      "| time/                   |            |\n",
      "|    fps                  | 71         |\n",
      "|    iterations           | 210        |\n",
      "|    time_elapsed         | 6017       |\n",
      "|    total_timesteps      | 430080     |\n",
      "| train/                  |            |\n",
      "|    approx_kl            | 0.08807609 |\n",
      "|    clip_fraction        | 0.5        |\n",
      "|    clip_range           | 0.2        |\n",
      "|    entropy_loss         | -17.1      |\n",
      "|    explained_variance   | 0.24       |\n",
      "|    learning_rate        | 0.0003     |\n",
      "|    loss                 | 0.763      |\n",
      "|    n_updates            | 2090       |\n",
      "|    policy_gradient_loss | -0.00437   |\n",
      "|    std                  | 1.01       |\n",
      "|    value_loss           | 21.9       |\n",
      "----------------------------------------\n"
     ]
    },
    {
     "data": {
      "text/html": [
       "<pre style=\"white-space:pre;overflow-x:auto;line-height:normal;font-family:Menlo,'DejaVu Sans Mono',consolas,'Courier New',monospace\">Num timesteps: 431000\n",
       "</pre>\n"
      ],
      "text/plain": [
       "Num timesteps: 431000\n"
      ]
     },
     "metadata": {},
     "output_type": "display_data"
    },
    {
     "data": {
      "text/html": [
       "<pre style=\"white-space:pre;overflow-x:auto;line-height:normal;font-family:Menlo,'DejaVu Sans Mono',consolas,'Courier New',monospace\">Best mean reward: 307.16 - Last mean reward per episode: 306.27\n",
       "</pre>\n"
      ],
      "text/plain": [
       "Best mean reward: 307.16 - Last mean reward per episode: 306.27\n"
      ]
     },
     "metadata": {},
     "output_type": "display_data"
    },
    {
     "data": {
      "text/html": [
       "<pre style=\"white-space:pre;overflow-x:auto;line-height:normal;font-family:Menlo,'DejaVu Sans Mono',consolas,'Courier New',monospace\">Num timesteps: 432000\n",
       "</pre>\n"
      ],
      "text/plain": [
       "Num timesteps: 432000\n"
      ]
     },
     "metadata": {},
     "output_type": "display_data"
    },
    {
     "data": {
      "text/html": [
       "<pre style=\"white-space:pre;overflow-x:auto;line-height:normal;font-family:Menlo,'DejaVu Sans Mono',consolas,'Courier New',monospace\">Best mean reward: 307.16 - Last mean reward per episode: 306.45\n",
       "</pre>\n"
      ],
      "text/plain": [
       "Best mean reward: 307.16 - Last mean reward per episode: 306.45\n"
      ]
     },
     "metadata": {},
     "output_type": "display_data"
    },
    {
     "data": {
      "text/html": [
       "<pre style=\"white-space:pre;overflow-x:auto;line-height:normal;font-family:Menlo,'DejaVu Sans Mono',consolas,'Courier New',monospace\">Num timesteps: 433000\n",
       "</pre>\n"
      ],
      "text/plain": [
       "Num timesteps: 433000\n"
      ]
     },
     "metadata": {},
     "output_type": "display_data"
    },
    {
     "data": {
      "text/html": [
       "<pre style=\"white-space:pre;overflow-x:auto;line-height:normal;font-family:Menlo,'DejaVu Sans Mono',consolas,'Courier New',monospace\">Best mean reward: 307.16 - Last mean reward per episode: 306.42\n",
       "</pre>\n"
      ],
      "text/plain": [
       "Best mean reward: 307.16 - Last mean reward per episode: 306.42\n"
      ]
     },
     "metadata": {},
     "output_type": "display_data"
    },
    {
     "data": {
      "text/html": [
       "<pre style=\"white-space:pre;overflow-x:auto;line-height:normal;font-family:Menlo,'DejaVu Sans Mono',consolas,'Courier New',monospace\">Num timesteps: 434000\n",
       "</pre>\n"
      ],
      "text/plain": [
       "Num timesteps: 434000\n"
      ]
     },
     "metadata": {},
     "output_type": "display_data"
    },
    {
     "data": {
      "text/html": [
       "<pre style=\"white-space:pre;overflow-x:auto;line-height:normal;font-family:Menlo,'DejaVu Sans Mono',consolas,'Courier New',monospace\">Best mean reward: 307.16 - Last mean reward per episode: 306.43\n",
       "</pre>\n"
      ],
      "text/plain": [
       "Best mean reward: 307.16 - Last mean reward per episode: 306.43\n"
      ]
     },
     "metadata": {},
     "output_type": "display_data"
    },
    {
     "data": {
      "text/html": [
       "<pre style=\"white-space:pre;overflow-x:auto;line-height:normal;font-family:Menlo,'DejaVu Sans Mono',consolas,'Courier New',monospace\">Num timesteps: 435000\n",
       "</pre>\n"
      ],
      "text/plain": [
       "Num timesteps: 435000\n"
      ]
     },
     "metadata": {},
     "output_type": "display_data"
    },
    {
     "data": {
      "text/html": [
       "<pre style=\"white-space:pre;overflow-x:auto;line-height:normal;font-family:Menlo,'DejaVu Sans Mono',consolas,'Courier New',monospace\">Best mean reward: 307.16 - Last mean reward per episode: 306.00\n",
       "</pre>\n"
      ],
      "text/plain": [
       "Best mean reward: 307.16 - Last mean reward per episode: 306.00\n"
      ]
     },
     "metadata": {},
     "output_type": "display_data"
    },
    {
     "data": {
      "text/html": [
       "<pre style=\"white-space:pre;overflow-x:auto;line-height:normal;font-family:Menlo,'DejaVu Sans Mono',consolas,'Courier New',monospace\">Num timesteps: 436000\n",
       "</pre>\n"
      ],
      "text/plain": [
       "Num timesteps: 436000\n"
      ]
     },
     "metadata": {},
     "output_type": "display_data"
    },
    {
     "data": {
      "text/html": [
       "<pre style=\"white-space:pre;overflow-x:auto;line-height:normal;font-family:Menlo,'DejaVu Sans Mono',consolas,'Courier New',monospace\">Best mean reward: 307.16 - Last mean reward per episode: 306.08\n",
       "</pre>\n"
      ],
      "text/plain": [
       "Best mean reward: 307.16 - Last mean reward per episode: 306.08\n"
      ]
     },
     "metadata": {},
     "output_type": "display_data"
    },
    {
     "data": {
      "text/html": [
       "<pre style=\"white-space:pre;overflow-x:auto;line-height:normal;font-family:Menlo,'DejaVu Sans Mono',consolas,'Courier New',monospace\">Num timesteps: 437000\n",
       "</pre>\n"
      ],
      "text/plain": [
       "Num timesteps: 437000\n"
      ]
     },
     "metadata": {},
     "output_type": "display_data"
    },
    {
     "data": {
      "text/html": [
       "<pre style=\"white-space:pre;overflow-x:auto;line-height:normal;font-family:Menlo,'DejaVu Sans Mono',consolas,'Courier New',monospace\">Best mean reward: 307.16 - Last mean reward per episode: 307.13\n",
       "</pre>\n"
      ],
      "text/plain": [
       "Best mean reward: 307.16 - Last mean reward per episode: 307.13\n"
      ]
     },
     "metadata": {},
     "output_type": "display_data"
    },
    {
     "data": {
      "text/html": [
       "<pre style=\"white-space:pre;overflow-x:auto;line-height:normal;font-family:Menlo,'DejaVu Sans Mono',consolas,'Courier New',monospace\">Num timesteps: 438000\n",
       "</pre>\n"
      ],
      "text/plain": [
       "Num timesteps: 438000\n"
      ]
     },
     "metadata": {},
     "output_type": "display_data"
    },
    {
     "data": {
      "text/html": [
       "<pre style=\"white-space:pre;overflow-x:auto;line-height:normal;font-family:Menlo,'DejaVu Sans Mono',consolas,'Courier New',monospace\">Best mean reward: 307.16 - Last mean reward per episode: 307.46\n",
       "</pre>\n"
      ],
      "text/plain": [
       "Best mean reward: 307.16 - Last mean reward per episode: 307.46\n"
      ]
     },
     "metadata": {},
     "output_type": "display_data"
    },
    {
     "data": {
      "text/html": [
       "<pre style=\"white-space:pre;overflow-x:auto;line-height:normal;font-family:Menlo,'DejaVu Sans Mono',consolas,'Courier New',monospace\">Saving new best model to tmp/gym/twoarm_ppo/best_model.zip\n",
       "</pre>\n"
      ],
      "text/plain": [
       "Saving new best model to tmp/gym/twoarm_ppo/best_model.zip\n"
      ]
     },
     "metadata": {},
     "output_type": "display_data"
    },
    {
     "data": {
      "text/html": [
       "<pre style=\"white-space:pre;overflow-x:auto;line-height:normal;font-family:Menlo,'DejaVu Sans Mono',consolas,'Courier New',monospace\">Num timesteps: 439000\n",
       "</pre>\n"
      ],
      "text/plain": [
       "Num timesteps: 439000\n"
      ]
     },
     "metadata": {},
     "output_type": "display_data"
    },
    {
     "data": {
      "text/html": [
       "<pre style=\"white-space:pre;overflow-x:auto;line-height:normal;font-family:Menlo,'DejaVu Sans Mono',consolas,'Courier New',monospace\">Best mean reward: 307.46 - Last mean reward per episode: 308.15\n",
       "</pre>\n"
      ],
      "text/plain": [
       "Best mean reward: 307.46 - Last mean reward per episode: 308.15\n"
      ]
     },
     "metadata": {},
     "output_type": "display_data"
    },
    {
     "data": {
      "text/html": [
       "<pre style=\"white-space:pre;overflow-x:auto;line-height:normal;font-family:Menlo,'DejaVu Sans Mono',consolas,'Courier New',monospace\">Saving new best model to tmp/gym/twoarm_ppo/best_model.zip\n",
       "</pre>\n"
      ],
      "text/plain": [
       "Saving new best model to tmp/gym/twoarm_ppo/best_model.zip\n"
      ]
     },
     "metadata": {},
     "output_type": "display_data"
    },
    {
     "data": {
      "text/html": [
       "<pre style=\"white-space:pre;overflow-x:auto;line-height:normal;font-family:Menlo,'DejaVu Sans Mono',consolas,'Courier New',monospace\">Num timesteps: 440000\n",
       "</pre>\n"
      ],
      "text/plain": [
       "Num timesteps: 440000\n"
      ]
     },
     "metadata": {},
     "output_type": "display_data"
    },
    {
     "data": {
      "text/html": [
       "<pre style=\"white-space:pre;overflow-x:auto;line-height:normal;font-family:Menlo,'DejaVu Sans Mono',consolas,'Courier New',monospace\">Best mean reward: 308.15 - Last mean reward per episode: 308.94\n",
       "</pre>\n"
      ],
      "text/plain": [
       "Best mean reward: 308.15 - Last mean reward per episode: 308.94\n"
      ]
     },
     "metadata": {},
     "output_type": "display_data"
    },
    {
     "data": {
      "text/html": [
       "<pre style=\"white-space:pre;overflow-x:auto;line-height:normal;font-family:Menlo,'DejaVu Sans Mono',consolas,'Courier New',monospace\">Saving new best model to tmp/gym/twoarm_ppo/best_model.zip\n",
       "</pre>\n"
      ],
      "text/plain": [
       "Saving new best model to tmp/gym/twoarm_ppo/best_model.zip\n"
      ]
     },
     "metadata": {},
     "output_type": "display_data"
    },
    {
     "data": {
      "text/html": [
       "<pre style=\"white-space:pre;overflow-x:auto;line-height:normal;font-family:Menlo,'DejaVu Sans Mono',consolas,'Courier New',monospace\">Num timesteps: 441000\n",
       "</pre>\n"
      ],
      "text/plain": [
       "Num timesteps: 441000\n"
      ]
     },
     "metadata": {},
     "output_type": "display_data"
    },
    {
     "data": {
      "text/html": [
       "<pre style=\"white-space:pre;overflow-x:auto;line-height:normal;font-family:Menlo,'DejaVu Sans Mono',consolas,'Courier New',monospace\">Best mean reward: 308.94 - Last mean reward per episode: 309.09\n",
       "</pre>\n"
      ],
      "text/plain": [
       "Best mean reward: 308.94 - Last mean reward per episode: 309.09\n"
      ]
     },
     "metadata": {},
     "output_type": "display_data"
    },
    {
     "data": {
      "text/html": [
       "<pre style=\"white-space:pre;overflow-x:auto;line-height:normal;font-family:Menlo,'DejaVu Sans Mono',consolas,'Courier New',monospace\">Saving new best model to tmp/gym/twoarm_ppo/best_model.zip\n",
       "</pre>\n"
      ],
      "text/plain": [
       "Saving new best model to tmp/gym/twoarm_ppo/best_model.zip\n"
      ]
     },
     "metadata": {},
     "output_type": "display_data"
    },
    {
     "data": {
      "text/html": [
       "<pre style=\"white-space:pre;overflow-x:auto;line-height:normal;font-family:Menlo,'DejaVu Sans Mono',consolas,'Courier New',monospace\">Num timesteps: 442000\n",
       "</pre>\n"
      ],
      "text/plain": [
       "Num timesteps: 442000\n"
      ]
     },
     "metadata": {},
     "output_type": "display_data"
    },
    {
     "data": {
      "text/html": [
       "<pre style=\"white-space:pre;overflow-x:auto;line-height:normal;font-family:Menlo,'DejaVu Sans Mono',consolas,'Courier New',monospace\">Best mean reward: 309.09 - Last mean reward per episode: 307.59\n",
       "</pre>\n"
      ],
      "text/plain": [
       "Best mean reward: 309.09 - Last mean reward per episode: 307.59\n"
      ]
     },
     "metadata": {},
     "output_type": "display_data"
    },
    {
     "data": {
      "text/html": [
       "<pre style=\"white-space:pre;overflow-x:auto;line-height:normal;font-family:Menlo,'DejaVu Sans Mono',consolas,'Courier New',monospace\">Num timesteps: 443000\n",
       "</pre>\n"
      ],
      "text/plain": [
       "Num timesteps: 443000\n"
      ]
     },
     "metadata": {},
     "output_type": "display_data"
    },
    {
     "data": {
      "text/html": [
       "<pre style=\"white-space:pre;overflow-x:auto;line-height:normal;font-family:Menlo,'DejaVu Sans Mono',consolas,'Courier New',monospace\">Best mean reward: 309.09 - Last mean reward per episode: 307.13\n",
       "</pre>\n"
      ],
      "text/plain": [
       "Best mean reward: 309.09 - Last mean reward per episode: 307.13\n"
      ]
     },
     "metadata": {},
     "output_type": "display_data"
    },
    {
     "data": {
      "text/html": [
       "<pre style=\"white-space:pre;overflow-x:auto;line-height:normal;font-family:Menlo,'DejaVu Sans Mono',consolas,'Courier New',monospace\">Num timesteps: 444000\n",
       "</pre>\n"
      ],
      "text/plain": [
       "Num timesteps: 444000\n"
      ]
     },
     "metadata": {},
     "output_type": "display_data"
    },
    {
     "data": {
      "text/html": [
       "<pre style=\"white-space:pre;overflow-x:auto;line-height:normal;font-family:Menlo,'DejaVu Sans Mono',consolas,'Courier New',monospace\">Best mean reward: 309.09 - Last mean reward per episode: 307.16\n",
       "</pre>\n"
      ],
      "text/plain": [
       "Best mean reward: 309.09 - Last mean reward per episode: 307.16\n"
      ]
     },
     "metadata": {},
     "output_type": "display_data"
    },
    {
     "data": {
      "text/html": [
       "<pre style=\"white-space:pre;overflow-x:auto;line-height:normal;font-family:Menlo,'DejaVu Sans Mono',consolas,'Courier New',monospace\">Num timesteps: 445000\n",
       "</pre>\n"
      ],
      "text/plain": [
       "Num timesteps: 445000\n"
      ]
     },
     "metadata": {},
     "output_type": "display_data"
    },
    {
     "data": {
      "text/html": [
       "<pre style=\"white-space:pre;overflow-x:auto;line-height:normal;font-family:Menlo,'DejaVu Sans Mono',consolas,'Courier New',monospace\">Best mean reward: 309.09 - Last mean reward per episode: 307.52\n",
       "</pre>\n"
      ],
      "text/plain": [
       "Best mean reward: 309.09 - Last mean reward per episode: 307.52\n"
      ]
     },
     "metadata": {},
     "output_type": "display_data"
    },
    {
     "data": {
      "text/html": [
       "<pre style=\"white-space:pre;overflow-x:auto;line-height:normal;font-family:Menlo,'DejaVu Sans Mono',consolas,'Courier New',monospace\">Num timesteps: 446000\n",
       "</pre>\n"
      ],
      "text/plain": [
       "Num timesteps: 446000\n"
      ]
     },
     "metadata": {},
     "output_type": "display_data"
    },
    {
     "data": {
      "text/html": [
       "<pre style=\"white-space:pre;overflow-x:auto;line-height:normal;font-family:Menlo,'DejaVu Sans Mono',consolas,'Courier New',monospace\">Best mean reward: 309.09 - Last mean reward per episode: 307.98\n",
       "</pre>\n"
      ],
      "text/plain": [
       "Best mean reward: 309.09 - Last mean reward per episode: 307.98\n"
      ]
     },
     "metadata": {},
     "output_type": "display_data"
    },
    {
     "data": {
      "text/html": [
       "<pre style=\"white-space:pre;overflow-x:auto;line-height:normal;font-family:Menlo,'DejaVu Sans Mono',consolas,'Courier New',monospace\">Num timesteps: 447000\n",
       "</pre>\n"
      ],
      "text/plain": [
       "Num timesteps: 447000\n"
      ]
     },
     "metadata": {},
     "output_type": "display_data"
    },
    {
     "data": {
      "text/html": [
       "<pre style=\"white-space:pre;overflow-x:auto;line-height:normal;font-family:Menlo,'DejaVu Sans Mono',consolas,'Courier New',monospace\">Best mean reward: 309.09 - Last mean reward per episode: 308.20\n",
       "</pre>\n"
      ],
      "text/plain": [
       "Best mean reward: 309.09 - Last mean reward per episode: 308.20\n"
      ]
     },
     "metadata": {},
     "output_type": "display_data"
    },
    {
     "data": {
      "text/html": [
       "<pre style=\"white-space:pre;overflow-x:auto;line-height:normal;font-family:Menlo,'DejaVu Sans Mono',consolas,'Courier New',monospace\">Num timesteps: 448000\n",
       "</pre>\n"
      ],
      "text/plain": [
       "Num timesteps: 448000\n"
      ]
     },
     "metadata": {},
     "output_type": "display_data"
    },
    {
     "data": {
      "text/html": [
       "<pre style=\"white-space:pre;overflow-x:auto;line-height:normal;font-family:Menlo,'DejaVu Sans Mono',consolas,'Courier New',monospace\">Best mean reward: 309.09 - Last mean reward per episode: 308.41\n",
       "</pre>\n"
      ],
      "text/plain": [
       "Best mean reward: 309.09 - Last mean reward per episode: 308.41\n"
      ]
     },
     "metadata": {},
     "output_type": "display_data"
    },
    {
     "data": {
      "text/html": [
       "<pre style=\"white-space:pre;overflow-x:auto;line-height:normal;font-family:Menlo,'DejaVu Sans Mono',consolas,'Courier New',monospace\">Num timesteps: 449000\n",
       "</pre>\n"
      ],
      "text/plain": [
       "Num timesteps: 449000\n"
      ]
     },
     "metadata": {},
     "output_type": "display_data"
    },
    {
     "data": {
      "text/html": [
       "<pre style=\"white-space:pre;overflow-x:auto;line-height:normal;font-family:Menlo,'DejaVu Sans Mono',consolas,'Courier New',monospace\">Best mean reward: 309.09 - Last mean reward per episode: 308.64\n",
       "</pre>\n"
      ],
      "text/plain": [
       "Best mean reward: 309.09 - Last mean reward per episode: 308.64\n"
      ]
     },
     "metadata": {},
     "output_type": "display_data"
    },
    {
     "data": {
      "text/html": [
       "<pre style=\"white-space:pre;overflow-x:auto;line-height:normal;font-family:Menlo,'DejaVu Sans Mono',consolas,'Courier New',monospace\">Num timesteps: 450000\n",
       "</pre>\n"
      ],
      "text/plain": [
       "Num timesteps: 450000\n"
      ]
     },
     "metadata": {},
     "output_type": "display_data"
    },
    {
     "data": {
      "text/html": [
       "<pre style=\"white-space:pre;overflow-x:auto;line-height:normal;font-family:Menlo,'DejaVu Sans Mono',consolas,'Courier New',monospace\">Best mean reward: 309.09 - Last mean reward per episode: 308.65\n",
       "</pre>\n"
      ],
      "text/plain": [
       "Best mean reward: 309.09 - Last mean reward per episode: 308.65\n"
      ]
     },
     "metadata": {},
     "output_type": "display_data"
    },
    {
     "name": "stdout",
     "output_type": "stream",
     "text": [
      "----------------------------------------\n",
      "| rollout/                |            |\n",
      "|    ep_len_mean          | 500        |\n",
      "|    ep_rew_mean          | 309        |\n",
      "| time/                   |            |\n",
      "|    fps                  | 71         |\n",
      "|    iterations           | 220        |\n",
      "|    time_elapsed         | 6314       |\n",
      "|    total_timesteps      | 450560     |\n",
      "| train/                  |            |\n",
      "|    approx_kl            | 0.06684698 |\n",
      "|    clip_fraction        | 0.44       |\n",
      "|    clip_range           | 0.2        |\n",
      "|    entropy_loss         | -17.1      |\n",
      "|    explained_variance   | 0.774      |\n",
      "|    learning_rate        | 0.0003     |\n",
      "|    loss                 | 0.408      |\n",
      "|    n_updates            | 2190       |\n",
      "|    policy_gradient_loss | -0.00204   |\n",
      "|    std                  | 1.01       |\n",
      "|    value_loss           | 11.8       |\n",
      "----------------------------------------\n"
     ]
    },
    {
     "data": {
      "text/html": [
       "<pre style=\"white-space:pre;overflow-x:auto;line-height:normal;font-family:Menlo,'DejaVu Sans Mono',consolas,'Courier New',monospace\">Num timesteps: 451000\n",
       "</pre>\n"
      ],
      "text/plain": [
       "Num timesteps: 451000\n"
      ]
     },
     "metadata": {},
     "output_type": "display_data"
    },
    {
     "data": {
      "text/html": [
       "<pre style=\"white-space:pre;overflow-x:auto;line-height:normal;font-family:Menlo,'DejaVu Sans Mono',consolas,'Courier New',monospace\">Best mean reward: 309.09 - Last mean reward per episode: 308.89\n",
       "</pre>\n"
      ],
      "text/plain": [
       "Best mean reward: 309.09 - Last mean reward per episode: 308.89\n"
      ]
     },
     "metadata": {},
     "output_type": "display_data"
    },
    {
     "data": {
      "text/html": [
       "<pre style=\"white-space:pre;overflow-x:auto;line-height:normal;font-family:Menlo,'DejaVu Sans Mono',consolas,'Courier New',monospace\">Num timesteps: 452000\n",
       "</pre>\n"
      ],
      "text/plain": [
       "Num timesteps: 452000\n"
      ]
     },
     "metadata": {},
     "output_type": "display_data"
    },
    {
     "data": {
      "text/html": [
       "<pre style=\"white-space:pre;overflow-x:auto;line-height:normal;font-family:Menlo,'DejaVu Sans Mono',consolas,'Courier New',monospace\">Best mean reward: 309.09 - Last mean reward per episode: 307.73\n",
       "</pre>\n"
      ],
      "text/plain": [
       "Best mean reward: 309.09 - Last mean reward per episode: 307.73\n"
      ]
     },
     "metadata": {},
     "output_type": "display_data"
    },
    {
     "data": {
      "text/html": [
       "<pre style=\"white-space:pre;overflow-x:auto;line-height:normal;font-family:Menlo,'DejaVu Sans Mono',consolas,'Courier New',monospace\">Num timesteps: 453000\n",
       "</pre>\n"
      ],
      "text/plain": [
       "Num timesteps: 453000\n"
      ]
     },
     "metadata": {},
     "output_type": "display_data"
    },
    {
     "data": {
      "text/html": [
       "<pre style=\"white-space:pre;overflow-x:auto;line-height:normal;font-family:Menlo,'DejaVu Sans Mono',consolas,'Courier New',monospace\">Best mean reward: 309.09 - Last mean reward per episode: 307.50\n",
       "</pre>\n"
      ],
      "text/plain": [
       "Best mean reward: 309.09 - Last mean reward per episode: 307.50\n"
      ]
     },
     "metadata": {},
     "output_type": "display_data"
    },
    {
     "data": {
      "text/html": [
       "<pre style=\"white-space:pre;overflow-x:auto;line-height:normal;font-family:Menlo,'DejaVu Sans Mono',consolas,'Courier New',monospace\">Num timesteps: 454000\n",
       "</pre>\n"
      ],
      "text/plain": [
       "Num timesteps: 454000\n"
      ]
     },
     "metadata": {},
     "output_type": "display_data"
    },
    {
     "data": {
      "text/html": [
       "<pre style=\"white-space:pre;overflow-x:auto;line-height:normal;font-family:Menlo,'DejaVu Sans Mono',consolas,'Courier New',monospace\">Best mean reward: 309.09 - Last mean reward per episode: 307.93\n",
       "</pre>\n"
      ],
      "text/plain": [
       "Best mean reward: 309.09 - Last mean reward per episode: 307.93\n"
      ]
     },
     "metadata": {},
     "output_type": "display_data"
    },
    {
     "data": {
      "text/html": [
       "<pre style=\"white-space:pre;overflow-x:auto;line-height:normal;font-family:Menlo,'DejaVu Sans Mono',consolas,'Courier New',monospace\">Num timesteps: 455000\n",
       "</pre>\n"
      ],
      "text/plain": [
       "Num timesteps: 455000\n"
      ]
     },
     "metadata": {},
     "output_type": "display_data"
    },
    {
     "data": {
      "text/html": [
       "<pre style=\"white-space:pre;overflow-x:auto;line-height:normal;font-family:Menlo,'DejaVu Sans Mono',consolas,'Courier New',monospace\">Best mean reward: 309.09 - Last mean reward per episode: 307.75\n",
       "</pre>\n"
      ],
      "text/plain": [
       "Best mean reward: 309.09 - Last mean reward per episode: 307.75\n"
      ]
     },
     "metadata": {},
     "output_type": "display_data"
    },
    {
     "data": {
      "text/html": [
       "<pre style=\"white-space:pre;overflow-x:auto;line-height:normal;font-family:Menlo,'DejaVu Sans Mono',consolas,'Courier New',monospace\">Num timesteps: 456000\n",
       "</pre>\n"
      ],
      "text/plain": [
       "Num timesteps: 456000\n"
      ]
     },
     "metadata": {},
     "output_type": "display_data"
    },
    {
     "data": {
      "text/html": [
       "<pre style=\"white-space:pre;overflow-x:auto;line-height:normal;font-family:Menlo,'DejaVu Sans Mono',consolas,'Courier New',monospace\">Best mean reward: 309.09 - Last mean reward per episode: 308.47\n",
       "</pre>\n"
      ],
      "text/plain": [
       "Best mean reward: 309.09 - Last mean reward per episode: 308.47\n"
      ]
     },
     "metadata": {},
     "output_type": "display_data"
    },
    {
     "data": {
      "text/html": [
       "<pre style=\"white-space:pre;overflow-x:auto;line-height:normal;font-family:Menlo,'DejaVu Sans Mono',consolas,'Courier New',monospace\">Num timesteps: 457000\n",
       "</pre>\n"
      ],
      "text/plain": [
       "Num timesteps: 457000\n"
      ]
     },
     "metadata": {},
     "output_type": "display_data"
    },
    {
     "data": {
      "text/html": [
       "<pre style=\"white-space:pre;overflow-x:auto;line-height:normal;font-family:Menlo,'DejaVu Sans Mono',consolas,'Courier New',monospace\">Best mean reward: 309.09 - Last mean reward per episode: 308.29\n",
       "</pre>\n"
      ],
      "text/plain": [
       "Best mean reward: 309.09 - Last mean reward per episode: 308.29\n"
      ]
     },
     "metadata": {},
     "output_type": "display_data"
    },
    {
     "data": {
      "text/html": [
       "<pre style=\"white-space:pre;overflow-x:auto;line-height:normal;font-family:Menlo,'DejaVu Sans Mono',consolas,'Courier New',monospace\">Num timesteps: 458000\n",
       "</pre>\n"
      ],
      "text/plain": [
       "Num timesteps: 458000\n"
      ]
     },
     "metadata": {},
     "output_type": "display_data"
    },
    {
     "data": {
      "text/html": [
       "<pre style=\"white-space:pre;overflow-x:auto;line-height:normal;font-family:Menlo,'DejaVu Sans Mono',consolas,'Courier New',monospace\">Best mean reward: 309.09 - Last mean reward per episode: 307.95\n",
       "</pre>\n"
      ],
      "text/plain": [
       "Best mean reward: 309.09 - Last mean reward per episode: 307.95\n"
      ]
     },
     "metadata": {},
     "output_type": "display_data"
    },
    {
     "data": {
      "text/html": [
       "<pre style=\"white-space:pre;overflow-x:auto;line-height:normal;font-family:Menlo,'DejaVu Sans Mono',consolas,'Courier New',monospace\">Num timesteps: 459000\n",
       "</pre>\n"
      ],
      "text/plain": [
       "Num timesteps: 459000\n"
      ]
     },
     "metadata": {},
     "output_type": "display_data"
    },
    {
     "data": {
      "text/html": [
       "<pre style=\"white-space:pre;overflow-x:auto;line-height:normal;font-family:Menlo,'DejaVu Sans Mono',consolas,'Courier New',monospace\">Best mean reward: 309.09 - Last mean reward per episode: 308.01\n",
       "</pre>\n"
      ],
      "text/plain": [
       "Best mean reward: 309.09 - Last mean reward per episode: 308.01\n"
      ]
     },
     "metadata": {},
     "output_type": "display_data"
    },
    {
     "data": {
      "text/html": [
       "<pre style=\"white-space:pre;overflow-x:auto;line-height:normal;font-family:Menlo,'DejaVu Sans Mono',consolas,'Courier New',monospace\">Num timesteps: 460000\n",
       "</pre>\n"
      ],
      "text/plain": [
       "Num timesteps: 460000\n"
      ]
     },
     "metadata": {},
     "output_type": "display_data"
    },
    {
     "data": {
      "text/html": [
       "<pre style=\"white-space:pre;overflow-x:auto;line-height:normal;font-family:Menlo,'DejaVu Sans Mono',consolas,'Courier New',monospace\">Best mean reward: 309.09 - Last mean reward per episode: 307.56\n",
       "</pre>\n"
      ],
      "text/plain": [
       "Best mean reward: 309.09 - Last mean reward per episode: 307.56\n"
      ]
     },
     "metadata": {},
     "output_type": "display_data"
    },
    {
     "data": {
      "text/html": [
       "<pre style=\"white-space:pre;overflow-x:auto;line-height:normal;font-family:Menlo,'DejaVu Sans Mono',consolas,'Courier New',monospace\">Num timesteps: 461000\n",
       "</pre>\n"
      ],
      "text/plain": [
       "Num timesteps: 461000\n"
      ]
     },
     "metadata": {},
     "output_type": "display_data"
    },
    {
     "data": {
      "text/html": [
       "<pre style=\"white-space:pre;overflow-x:auto;line-height:normal;font-family:Menlo,'DejaVu Sans Mono',consolas,'Courier New',monospace\">Best mean reward: 309.09 - Last mean reward per episode: 306.64\n",
       "</pre>\n"
      ],
      "text/plain": [
       "Best mean reward: 309.09 - Last mean reward per episode: 306.64\n"
      ]
     },
     "metadata": {},
     "output_type": "display_data"
    },
    {
     "data": {
      "text/html": [
       "<pre style=\"white-space:pre;overflow-x:auto;line-height:normal;font-family:Menlo,'DejaVu Sans Mono',consolas,'Courier New',monospace\">Num timesteps: 462000\n",
       "</pre>\n"
      ],
      "text/plain": [
       "Num timesteps: 462000\n"
      ]
     },
     "metadata": {},
     "output_type": "display_data"
    },
    {
     "data": {
      "text/html": [
       "<pre style=\"white-space:pre;overflow-x:auto;line-height:normal;font-family:Menlo,'DejaVu Sans Mono',consolas,'Courier New',monospace\">Best mean reward: 309.09 - Last mean reward per episode: 306.22\n",
       "</pre>\n"
      ],
      "text/plain": [
       "Best mean reward: 309.09 - Last mean reward per episode: 306.22\n"
      ]
     },
     "metadata": {},
     "output_type": "display_data"
    },
    {
     "data": {
      "text/html": [
       "<pre style=\"white-space:pre;overflow-x:auto;line-height:normal;font-family:Menlo,'DejaVu Sans Mono',consolas,'Courier New',monospace\">Num timesteps: 463000\n",
       "</pre>\n"
      ],
      "text/plain": [
       "Num timesteps: 463000\n"
      ]
     },
     "metadata": {},
     "output_type": "display_data"
    },
    {
     "data": {
      "text/html": [
       "<pre style=\"white-space:pre;overflow-x:auto;line-height:normal;font-family:Menlo,'DejaVu Sans Mono',consolas,'Courier New',monospace\">Best mean reward: 309.09 - Last mean reward per episode: 306.47\n",
       "</pre>\n"
      ],
      "text/plain": [
       "Best mean reward: 309.09 - Last mean reward per episode: 306.47\n"
      ]
     },
     "metadata": {},
     "output_type": "display_data"
    },
    {
     "data": {
      "text/html": [
       "<pre style=\"white-space:pre;overflow-x:auto;line-height:normal;font-family:Menlo,'DejaVu Sans Mono',consolas,'Courier New',monospace\">Num timesteps: 464000\n",
       "</pre>\n"
      ],
      "text/plain": [
       "Num timesteps: 464000\n"
      ]
     },
     "metadata": {},
     "output_type": "display_data"
    },
    {
     "data": {
      "text/html": [
       "<pre style=\"white-space:pre;overflow-x:auto;line-height:normal;font-family:Menlo,'DejaVu Sans Mono',consolas,'Courier New',monospace\">Best mean reward: 309.09 - Last mean reward per episode: 306.47\n",
       "</pre>\n"
      ],
      "text/plain": [
       "Best mean reward: 309.09 - Last mean reward per episode: 306.47\n"
      ]
     },
     "metadata": {},
     "output_type": "display_data"
    },
    {
     "data": {
      "text/html": [
       "<pre style=\"white-space:pre;overflow-x:auto;line-height:normal;font-family:Menlo,'DejaVu Sans Mono',consolas,'Courier New',monospace\">Num timesteps: 465000\n",
       "</pre>\n"
      ],
      "text/plain": [
       "Num timesteps: 465000\n"
      ]
     },
     "metadata": {},
     "output_type": "display_data"
    },
    {
     "data": {
      "text/html": [
       "<pre style=\"white-space:pre;overflow-x:auto;line-height:normal;font-family:Menlo,'DejaVu Sans Mono',consolas,'Courier New',monospace\">Best mean reward: 309.09 - Last mean reward per episode: 306.05\n",
       "</pre>\n"
      ],
      "text/plain": [
       "Best mean reward: 309.09 - Last mean reward per episode: 306.05\n"
      ]
     },
     "metadata": {},
     "output_type": "display_data"
    },
    {
     "data": {
      "text/html": [
       "<pre style=\"white-space:pre;overflow-x:auto;line-height:normal;font-family:Menlo,'DejaVu Sans Mono',consolas,'Courier New',monospace\">Num timesteps: 466000\n",
       "</pre>\n"
      ],
      "text/plain": [
       "Num timesteps: 466000\n"
      ]
     },
     "metadata": {},
     "output_type": "display_data"
    },
    {
     "data": {
      "text/html": [
       "<pre style=\"white-space:pre;overflow-x:auto;line-height:normal;font-family:Menlo,'DejaVu Sans Mono',consolas,'Courier New',monospace\">Best mean reward: 309.09 - Last mean reward per episode: 306.01\n",
       "</pre>\n"
      ],
      "text/plain": [
       "Best mean reward: 309.09 - Last mean reward per episode: 306.01\n"
      ]
     },
     "metadata": {},
     "output_type": "display_data"
    },
    {
     "data": {
      "text/html": [
       "<pre style=\"white-space:pre;overflow-x:auto;line-height:normal;font-family:Menlo,'DejaVu Sans Mono',consolas,'Courier New',monospace\">Num timesteps: 467000\n",
       "</pre>\n"
      ],
      "text/plain": [
       "Num timesteps: 467000\n"
      ]
     },
     "metadata": {},
     "output_type": "display_data"
    },
    {
     "data": {
      "text/html": [
       "<pre style=\"white-space:pre;overflow-x:auto;line-height:normal;font-family:Menlo,'DejaVu Sans Mono',consolas,'Courier New',monospace\">Best mean reward: 309.09 - Last mean reward per episode: 305.92\n",
       "</pre>\n"
      ],
      "text/plain": [
       "Best mean reward: 309.09 - Last mean reward per episode: 305.92\n"
      ]
     },
     "metadata": {},
     "output_type": "display_data"
    },
    {
     "data": {
      "text/html": [
       "<pre style=\"white-space:pre;overflow-x:auto;line-height:normal;font-family:Menlo,'DejaVu Sans Mono',consolas,'Courier New',monospace\">Num timesteps: 468000\n",
       "</pre>\n"
      ],
      "text/plain": [
       "Num timesteps: 468000\n"
      ]
     },
     "metadata": {},
     "output_type": "display_data"
    },
    {
     "data": {
      "text/html": [
       "<pre style=\"white-space:pre;overflow-x:auto;line-height:normal;font-family:Menlo,'DejaVu Sans Mono',consolas,'Courier New',monospace\">Best mean reward: 309.09 - Last mean reward per episode: 305.87\n",
       "</pre>\n"
      ],
      "text/plain": [
       "Best mean reward: 309.09 - Last mean reward per episode: 305.87\n"
      ]
     },
     "metadata": {},
     "output_type": "display_data"
    },
    {
     "data": {
      "text/html": [
       "<pre style=\"white-space:pre;overflow-x:auto;line-height:normal;font-family:Menlo,'DejaVu Sans Mono',consolas,'Courier New',monospace\">Num timesteps: 469000\n",
       "</pre>\n"
      ],
      "text/plain": [
       "Num timesteps: 469000\n"
      ]
     },
     "metadata": {},
     "output_type": "display_data"
    },
    {
     "data": {
      "text/html": [
       "<pre style=\"white-space:pre;overflow-x:auto;line-height:normal;font-family:Menlo,'DejaVu Sans Mono',consolas,'Courier New',monospace\">Best mean reward: 309.09 - Last mean reward per episode: 305.47\n",
       "</pre>\n"
      ],
      "text/plain": [
       "Best mean reward: 309.09 - Last mean reward per episode: 305.47\n"
      ]
     },
     "metadata": {},
     "output_type": "display_data"
    },
    {
     "data": {
      "text/html": [
       "<pre style=\"white-space:pre;overflow-x:auto;line-height:normal;font-family:Menlo,'DejaVu Sans Mono',consolas,'Courier New',monospace\">Num timesteps: 470000\n",
       "</pre>\n"
      ],
      "text/plain": [
       "Num timesteps: 470000\n"
      ]
     },
     "metadata": {},
     "output_type": "display_data"
    },
    {
     "data": {
      "text/html": [
       "<pre style=\"white-space:pre;overflow-x:auto;line-height:normal;font-family:Menlo,'DejaVu Sans Mono',consolas,'Courier New',monospace\">Best mean reward: 309.09 - Last mean reward per episode: 304.84\n",
       "</pre>\n"
      ],
      "text/plain": [
       "Best mean reward: 309.09 - Last mean reward per episode: 304.84\n"
      ]
     },
     "metadata": {},
     "output_type": "display_data"
    },
    {
     "data": {
      "text/html": [
       "<pre style=\"white-space:pre;overflow-x:auto;line-height:normal;font-family:Menlo,'DejaVu Sans Mono',consolas,'Courier New',monospace\">Num timesteps: 471000\n",
       "</pre>\n"
      ],
      "text/plain": [
       "Num timesteps: 471000\n"
      ]
     },
     "metadata": {},
     "output_type": "display_data"
    },
    {
     "data": {
      "text/html": [
       "<pre style=\"white-space:pre;overflow-x:auto;line-height:normal;font-family:Menlo,'DejaVu Sans Mono',consolas,'Courier New',monospace\">Best mean reward: 309.09 - Last mean reward per episode: 303.68\n",
       "</pre>\n"
      ],
      "text/plain": [
       "Best mean reward: 309.09 - Last mean reward per episode: 303.68\n"
      ]
     },
     "metadata": {},
     "output_type": "display_data"
    },
    {
     "name": "stdout",
     "output_type": "stream",
     "text": [
      "----------------------------------------\n",
      "| rollout/                |            |\n",
      "|    ep_len_mean          | 500        |\n",
      "|    ep_rew_mean          | 304        |\n",
      "| time/                   |            |\n",
      "|    fps                  | 71         |\n",
      "|    iterations           | 230        |\n",
      "|    time_elapsed         | 6608       |\n",
      "|    total_timesteps      | 471040     |\n",
      "| train/                  |            |\n",
      "|    approx_kl            | 0.08941426 |\n",
      "|    clip_fraction        | 0.496      |\n",
      "|    clip_range           | 0.2        |\n",
      "|    entropy_loss         | -17.1      |\n",
      "|    explained_variance   | 0.604      |\n",
      "|    learning_rate        | 0.0003     |\n",
      "|    loss                 | 0.208      |\n",
      "|    n_updates            | 2290       |\n",
      "|    policy_gradient_loss | -0.000954  |\n",
      "|    std                  | 1          |\n",
      "|    value_loss           | 7.12       |\n",
      "----------------------------------------\n"
     ]
    },
    {
     "data": {
      "text/html": [
       "<pre style=\"white-space:pre;overflow-x:auto;line-height:normal;font-family:Menlo,'DejaVu Sans Mono',consolas,'Courier New',monospace\">Num timesteps: 472000\n",
       "</pre>\n"
      ],
      "text/plain": [
       "Num timesteps: 472000\n"
      ]
     },
     "metadata": {},
     "output_type": "display_data"
    },
    {
     "data": {
      "text/html": [
       "<pre style=\"white-space:pre;overflow-x:auto;line-height:normal;font-family:Menlo,'DejaVu Sans Mono',consolas,'Courier New',monospace\">Best mean reward: 309.09 - Last mean reward per episode: 302.80\n",
       "</pre>\n"
      ],
      "text/plain": [
       "Best mean reward: 309.09 - Last mean reward per episode: 302.80\n"
      ]
     },
     "metadata": {},
     "output_type": "display_data"
    },
    {
     "data": {
      "text/html": [
       "<pre style=\"white-space:pre;overflow-x:auto;line-height:normal;font-family:Menlo,'DejaVu Sans Mono',consolas,'Courier New',monospace\">Num timesteps: 473000\n",
       "</pre>\n"
      ],
      "text/plain": [
       "Num timesteps: 473000\n"
      ]
     },
     "metadata": {},
     "output_type": "display_data"
    },
    {
     "data": {
      "text/html": [
       "<pre style=\"white-space:pre;overflow-x:auto;line-height:normal;font-family:Menlo,'DejaVu Sans Mono',consolas,'Courier New',monospace\">Best mean reward: 309.09 - Last mean reward per episode: 301.17\n",
       "</pre>\n"
      ],
      "text/plain": [
       "Best mean reward: 309.09 - Last mean reward per episode: 301.17\n"
      ]
     },
     "metadata": {},
     "output_type": "display_data"
    },
    {
     "data": {
      "text/html": [
       "<pre style=\"white-space:pre;overflow-x:auto;line-height:normal;font-family:Menlo,'DejaVu Sans Mono',consolas,'Courier New',monospace\">Num timesteps: 474000\n",
       "</pre>\n"
      ],
      "text/plain": [
       "Num timesteps: 474000\n"
      ]
     },
     "metadata": {},
     "output_type": "display_data"
    },
    {
     "data": {
      "text/html": [
       "<pre style=\"white-space:pre;overflow-x:auto;line-height:normal;font-family:Menlo,'DejaVu Sans Mono',consolas,'Courier New',monospace\">Best mean reward: 309.09 - Last mean reward per episode: 300.95\n",
       "</pre>\n"
      ],
      "text/plain": [
       "Best mean reward: 309.09 - Last mean reward per episode: 300.95\n"
      ]
     },
     "metadata": {},
     "output_type": "display_data"
    },
    {
     "data": {
      "text/html": [
       "<pre style=\"white-space:pre;overflow-x:auto;line-height:normal;font-family:Menlo,'DejaVu Sans Mono',consolas,'Courier New',monospace\">Num timesteps: 475000\n",
       "</pre>\n"
      ],
      "text/plain": [
       "Num timesteps: 475000\n"
      ]
     },
     "metadata": {},
     "output_type": "display_data"
    },
    {
     "data": {
      "text/html": [
       "<pre style=\"white-space:pre;overflow-x:auto;line-height:normal;font-family:Menlo,'DejaVu Sans Mono',consolas,'Courier New',monospace\">Best mean reward: 309.09 - Last mean reward per episode: 299.97\n",
       "</pre>\n"
      ],
      "text/plain": [
       "Best mean reward: 309.09 - Last mean reward per episode: 299.97\n"
      ]
     },
     "metadata": {},
     "output_type": "display_data"
    },
    {
     "data": {
      "text/html": [
       "<pre style=\"white-space:pre;overflow-x:auto;line-height:normal;font-family:Menlo,'DejaVu Sans Mono',consolas,'Courier New',monospace\">Num timesteps: 476000\n",
       "</pre>\n"
      ],
      "text/plain": [
       "Num timesteps: 476000\n"
      ]
     },
     "metadata": {},
     "output_type": "display_data"
    },
    {
     "data": {
      "text/html": [
       "<pre style=\"white-space:pre;overflow-x:auto;line-height:normal;font-family:Menlo,'DejaVu Sans Mono',consolas,'Courier New',monospace\">Best mean reward: 309.09 - Last mean reward per episode: 299.86\n",
       "</pre>\n"
      ],
      "text/plain": [
       "Best mean reward: 309.09 - Last mean reward per episode: 299.86\n"
      ]
     },
     "metadata": {},
     "output_type": "display_data"
    },
    {
     "data": {
      "text/html": [
       "<pre style=\"white-space:pre;overflow-x:auto;line-height:normal;font-family:Menlo,'DejaVu Sans Mono',consolas,'Courier New',monospace\">Num timesteps: 477000\n",
       "</pre>\n"
      ],
      "text/plain": [
       "Num timesteps: 477000\n"
      ]
     },
     "metadata": {},
     "output_type": "display_data"
    },
    {
     "data": {
      "text/html": [
       "<pre style=\"white-space:pre;overflow-x:auto;line-height:normal;font-family:Menlo,'DejaVu Sans Mono',consolas,'Courier New',monospace\">Best mean reward: 309.09 - Last mean reward per episode: 298.90\n",
       "</pre>\n"
      ],
      "text/plain": [
       "Best mean reward: 309.09 - Last mean reward per episode: 298.90\n"
      ]
     },
     "metadata": {},
     "output_type": "display_data"
    },
    {
     "data": {
      "text/html": [
       "<pre style=\"white-space:pre;overflow-x:auto;line-height:normal;font-family:Menlo,'DejaVu Sans Mono',consolas,'Courier New',monospace\">Num timesteps: 478000\n",
       "</pre>\n"
      ],
      "text/plain": [
       "Num timesteps: 478000\n"
      ]
     },
     "metadata": {},
     "output_type": "display_data"
    },
    {
     "data": {
      "text/html": [
       "<pre style=\"white-space:pre;overflow-x:auto;line-height:normal;font-family:Menlo,'DejaVu Sans Mono',consolas,'Courier New',monospace\">Best mean reward: 309.09 - Last mean reward per episode: 298.36\n",
       "</pre>\n"
      ],
      "text/plain": [
       "Best mean reward: 309.09 - Last mean reward per episode: 298.36\n"
      ]
     },
     "metadata": {},
     "output_type": "display_data"
    },
    {
     "data": {
      "text/html": [
       "<pre style=\"white-space:pre;overflow-x:auto;line-height:normal;font-family:Menlo,'DejaVu Sans Mono',consolas,'Courier New',monospace\">Num timesteps: 479000\n",
       "</pre>\n"
      ],
      "text/plain": [
       "Num timesteps: 479000\n"
      ]
     },
     "metadata": {},
     "output_type": "display_data"
    },
    {
     "data": {
      "text/html": [
       "<pre style=\"white-space:pre;overflow-x:auto;line-height:normal;font-family:Menlo,'DejaVu Sans Mono',consolas,'Courier New',monospace\">Best mean reward: 309.09 - Last mean reward per episode: 297.29\n",
       "</pre>\n"
      ],
      "text/plain": [
       "Best mean reward: 309.09 - Last mean reward per episode: 297.29\n"
      ]
     },
     "metadata": {},
     "output_type": "display_data"
    },
    {
     "data": {
      "text/html": [
       "<pre style=\"white-space:pre;overflow-x:auto;line-height:normal;font-family:Menlo,'DejaVu Sans Mono',consolas,'Courier New',monospace\">Num timesteps: 480000\n",
       "</pre>\n"
      ],
      "text/plain": [
       "Num timesteps: 480000\n"
      ]
     },
     "metadata": {},
     "output_type": "display_data"
    },
    {
     "data": {
      "text/html": [
       "<pre style=\"white-space:pre;overflow-x:auto;line-height:normal;font-family:Menlo,'DejaVu Sans Mono',consolas,'Courier New',monospace\">Best mean reward: 309.09 - Last mean reward per episode: 296.84\n",
       "</pre>\n"
      ],
      "text/plain": [
       "Best mean reward: 309.09 - Last mean reward per episode: 296.84\n"
      ]
     },
     "metadata": {},
     "output_type": "display_data"
    },
    {
     "data": {
      "text/html": [
       "<pre style=\"white-space:pre;overflow-x:auto;line-height:normal;font-family:Menlo,'DejaVu Sans Mono',consolas,'Courier New',monospace\">Num timesteps: 481000\n",
       "</pre>\n"
      ],
      "text/plain": [
       "Num timesteps: 481000\n"
      ]
     },
     "metadata": {},
     "output_type": "display_data"
    },
    {
     "data": {
      "text/html": [
       "<pre style=\"white-space:pre;overflow-x:auto;line-height:normal;font-family:Menlo,'DejaVu Sans Mono',consolas,'Courier New',monospace\">Best mean reward: 309.09 - Last mean reward per episode: 297.10\n",
       "</pre>\n"
      ],
      "text/plain": [
       "Best mean reward: 309.09 - Last mean reward per episode: 297.10\n"
      ]
     },
     "metadata": {},
     "output_type": "display_data"
    },
    {
     "data": {
      "text/html": [
       "<pre style=\"white-space:pre;overflow-x:auto;line-height:normal;font-family:Menlo,'DejaVu Sans Mono',consolas,'Courier New',monospace\">Num timesteps: 482000\n",
       "</pre>\n"
      ],
      "text/plain": [
       "Num timesteps: 482000\n"
      ]
     },
     "metadata": {},
     "output_type": "display_data"
    },
    {
     "data": {
      "text/html": [
       "<pre style=\"white-space:pre;overflow-x:auto;line-height:normal;font-family:Menlo,'DejaVu Sans Mono',consolas,'Courier New',monospace\">Best mean reward: 309.09 - Last mean reward per episode: 295.81\n",
       "</pre>\n"
      ],
      "text/plain": [
       "Best mean reward: 309.09 - Last mean reward per episode: 295.81\n"
      ]
     },
     "metadata": {},
     "output_type": "display_data"
    },
    {
     "data": {
      "text/html": [
       "<pre style=\"white-space:pre;overflow-x:auto;line-height:normal;font-family:Menlo,'DejaVu Sans Mono',consolas,'Courier New',monospace\">Num timesteps: 483000\n",
       "</pre>\n"
      ],
      "text/plain": [
       "Num timesteps: 483000\n"
      ]
     },
     "metadata": {},
     "output_type": "display_data"
    },
    {
     "data": {
      "text/html": [
       "<pre style=\"white-space:pre;overflow-x:auto;line-height:normal;font-family:Menlo,'DejaVu Sans Mono',consolas,'Courier New',monospace\">Best mean reward: 309.09 - Last mean reward per episode: 294.65\n",
       "</pre>\n"
      ],
      "text/plain": [
       "Best mean reward: 309.09 - Last mean reward per episode: 294.65\n"
      ]
     },
     "metadata": {},
     "output_type": "display_data"
    },
    {
     "data": {
      "text/html": [
       "<pre style=\"white-space:pre;overflow-x:auto;line-height:normal;font-family:Menlo,'DejaVu Sans Mono',consolas,'Courier New',monospace\">Num timesteps: 484000\n",
       "</pre>\n"
      ],
      "text/plain": [
       "Num timesteps: 484000\n"
      ]
     },
     "metadata": {},
     "output_type": "display_data"
    },
    {
     "data": {
      "text/html": [
       "<pre style=\"white-space:pre;overflow-x:auto;line-height:normal;font-family:Menlo,'DejaVu Sans Mono',consolas,'Courier New',monospace\">Best mean reward: 309.09 - Last mean reward per episode: 293.69\n",
       "</pre>\n"
      ],
      "text/plain": [
       "Best mean reward: 309.09 - Last mean reward per episode: 293.69\n"
      ]
     },
     "metadata": {},
     "output_type": "display_data"
    },
    {
     "data": {
      "text/html": [
       "<pre style=\"white-space:pre;overflow-x:auto;line-height:normal;font-family:Menlo,'DejaVu Sans Mono',consolas,'Courier New',monospace\">Num timesteps: 485000\n",
       "</pre>\n"
      ],
      "text/plain": [
       "Num timesteps: 485000\n"
      ]
     },
     "metadata": {},
     "output_type": "display_data"
    },
    {
     "data": {
      "text/html": [
       "<pre style=\"white-space:pre;overflow-x:auto;line-height:normal;font-family:Menlo,'DejaVu Sans Mono',consolas,'Courier New',monospace\">Best mean reward: 309.09 - Last mean reward per episode: 293.04\n",
       "</pre>\n"
      ],
      "text/plain": [
       "Best mean reward: 309.09 - Last mean reward per episode: 293.04\n"
      ]
     },
     "metadata": {},
     "output_type": "display_data"
    },
    {
     "data": {
      "text/html": [
       "<pre style=\"white-space:pre;overflow-x:auto;line-height:normal;font-family:Menlo,'DejaVu Sans Mono',consolas,'Courier New',monospace\">Num timesteps: 486000\n",
       "</pre>\n"
      ],
      "text/plain": [
       "Num timesteps: 486000\n"
      ]
     },
     "metadata": {},
     "output_type": "display_data"
    },
    {
     "data": {
      "text/html": [
       "<pre style=\"white-space:pre;overflow-x:auto;line-height:normal;font-family:Menlo,'DejaVu Sans Mono',consolas,'Courier New',monospace\">Best mean reward: 309.09 - Last mean reward per episode: 292.98\n",
       "</pre>\n"
      ],
      "text/plain": [
       "Best mean reward: 309.09 - Last mean reward per episode: 292.98\n"
      ]
     },
     "metadata": {},
     "output_type": "display_data"
    },
    {
     "data": {
      "text/html": [
       "<pre style=\"white-space:pre;overflow-x:auto;line-height:normal;font-family:Menlo,'DejaVu Sans Mono',consolas,'Courier New',monospace\">Num timesteps: 487000\n",
       "</pre>\n"
      ],
      "text/plain": [
       "Num timesteps: 487000\n"
      ]
     },
     "metadata": {},
     "output_type": "display_data"
    },
    {
     "data": {
      "text/html": [
       "<pre style=\"white-space:pre;overflow-x:auto;line-height:normal;font-family:Menlo,'DejaVu Sans Mono',consolas,'Courier New',monospace\">Best mean reward: 309.09 - Last mean reward per episode: 291.71\n",
       "</pre>\n"
      ],
      "text/plain": [
       "Best mean reward: 309.09 - Last mean reward per episode: 291.71\n"
      ]
     },
     "metadata": {},
     "output_type": "display_data"
    },
    {
     "data": {
      "text/html": [
       "<pre style=\"white-space:pre;overflow-x:auto;line-height:normal;font-family:Menlo,'DejaVu Sans Mono',consolas,'Courier New',monospace\">Num timesteps: 488000\n",
       "</pre>\n"
      ],
      "text/plain": [
       "Num timesteps: 488000\n"
      ]
     },
     "metadata": {},
     "output_type": "display_data"
    },
    {
     "data": {
      "text/html": [
       "<pre style=\"white-space:pre;overflow-x:auto;line-height:normal;font-family:Menlo,'DejaVu Sans Mono',consolas,'Courier New',monospace\">Best mean reward: 309.09 - Last mean reward per episode: 291.40\n",
       "</pre>\n"
      ],
      "text/plain": [
       "Best mean reward: 309.09 - Last mean reward per episode: 291.40\n"
      ]
     },
     "metadata": {},
     "output_type": "display_data"
    },
    {
     "data": {
      "text/html": [
       "<pre style=\"white-space:pre;overflow-x:auto;line-height:normal;font-family:Menlo,'DejaVu Sans Mono',consolas,'Courier New',monospace\">Num timesteps: 489000\n",
       "</pre>\n"
      ],
      "text/plain": [
       "Num timesteps: 489000\n"
      ]
     },
     "metadata": {},
     "output_type": "display_data"
    },
    {
     "data": {
      "text/html": [
       "<pre style=\"white-space:pre;overflow-x:auto;line-height:normal;font-family:Menlo,'DejaVu Sans Mono',consolas,'Courier New',monospace\">Best mean reward: 309.09 - Last mean reward per episode: 291.26\n",
       "</pre>\n"
      ],
      "text/plain": [
       "Best mean reward: 309.09 - Last mean reward per episode: 291.26\n"
      ]
     },
     "metadata": {},
     "output_type": "display_data"
    },
    {
     "data": {
      "text/html": [
       "<pre style=\"white-space:pre;overflow-x:auto;line-height:normal;font-family:Menlo,'DejaVu Sans Mono',consolas,'Courier New',monospace\">Num timesteps: 490000\n",
       "</pre>\n"
      ],
      "text/plain": [
       "Num timesteps: 490000\n"
      ]
     },
     "metadata": {},
     "output_type": "display_data"
    },
    {
     "data": {
      "text/html": [
       "<pre style=\"white-space:pre;overflow-x:auto;line-height:normal;font-family:Menlo,'DejaVu Sans Mono',consolas,'Courier New',monospace\">Best mean reward: 309.09 - Last mean reward per episode: 289.41\n",
       "</pre>\n"
      ],
      "text/plain": [
       "Best mean reward: 309.09 - Last mean reward per episode: 289.41\n"
      ]
     },
     "metadata": {},
     "output_type": "display_data"
    },
    {
     "data": {
      "text/html": [
       "<pre style=\"white-space:pre;overflow-x:auto;line-height:normal;font-family:Menlo,'DejaVu Sans Mono',consolas,'Courier New',monospace\">Num timesteps: 491000\n",
       "</pre>\n"
      ],
      "text/plain": [
       "Num timesteps: 491000\n"
      ]
     },
     "metadata": {},
     "output_type": "display_data"
    },
    {
     "data": {
      "text/html": [
       "<pre style=\"white-space:pre;overflow-x:auto;line-height:normal;font-family:Menlo,'DejaVu Sans Mono',consolas,'Courier New',monospace\">Best mean reward: 309.09 - Last mean reward per episode: 289.35\n",
       "</pre>\n"
      ],
      "text/plain": [
       "Best mean reward: 309.09 - Last mean reward per episode: 289.35\n"
      ]
     },
     "metadata": {},
     "output_type": "display_data"
    },
    {
     "name": "stdout",
     "output_type": "stream",
     "text": [
      "-----------------------------------------\n",
      "| rollout/                |             |\n",
      "|    ep_len_mean          | 500         |\n",
      "|    ep_rew_mean          | 290         |\n",
      "| time/                   |             |\n",
      "|    fps                  | 71          |\n",
      "|    iterations           | 240         |\n",
      "|    time_elapsed         | 6893        |\n",
      "|    total_timesteps      | 491520      |\n",
      "| train/                  |             |\n",
      "|    approx_kl            | 0.054978274 |\n",
      "|    clip_fraction        | 0.445       |\n",
      "|    clip_range           | 0.2         |\n",
      "|    entropy_loss         | -17.1       |\n",
      "|    explained_variance   | 0.959       |\n",
      "|    learning_rate        | 0.0003      |\n",
      "|    loss                 | 0.154       |\n",
      "|    n_updates            | 2390        |\n",
      "|    policy_gradient_loss | -0.00932    |\n",
      "|    std                  | 1.01        |\n",
      "|    value_loss           | 3.01        |\n",
      "-----------------------------------------\n"
     ]
    },
    {
     "data": {
      "text/html": [
       "<pre style=\"white-space:pre;overflow-x:auto;line-height:normal;font-family:Menlo,'DejaVu Sans Mono',consolas,'Courier New',monospace\">Num timesteps: 492000\n",
       "</pre>\n"
      ],
      "text/plain": [
       "Num timesteps: 492000\n"
      ]
     },
     "metadata": {},
     "output_type": "display_data"
    },
    {
     "data": {
      "text/html": [
       "<pre style=\"white-space:pre;overflow-x:auto;line-height:normal;font-family:Menlo,'DejaVu Sans Mono',consolas,'Courier New',monospace\">Best mean reward: 309.09 - Last mean reward per episode: 290.51\n",
       "</pre>\n"
      ],
      "text/plain": [
       "Best mean reward: 309.09 - Last mean reward per episode: 290.51\n"
      ]
     },
     "metadata": {},
     "output_type": "display_data"
    },
    {
     "data": {
      "text/html": [
       "<pre style=\"white-space:pre;overflow-x:auto;line-height:normal;font-family:Menlo,'DejaVu Sans Mono',consolas,'Courier New',monospace\">Num timesteps: 493000\n",
       "</pre>\n"
      ],
      "text/plain": [
       "Num timesteps: 493000\n"
      ]
     },
     "metadata": {},
     "output_type": "display_data"
    },
    {
     "data": {
      "text/html": [
       "<pre style=\"white-space:pre;overflow-x:auto;line-height:normal;font-family:Menlo,'DejaVu Sans Mono',consolas,'Courier New',monospace\">Best mean reward: 309.09 - Last mean reward per episode: 289.92\n",
       "</pre>\n"
      ],
      "text/plain": [
       "Best mean reward: 309.09 - Last mean reward per episode: 289.92\n"
      ]
     },
     "metadata": {},
     "output_type": "display_data"
    },
    {
     "data": {
      "text/html": [
       "<pre style=\"white-space:pre;overflow-x:auto;line-height:normal;font-family:Menlo,'DejaVu Sans Mono',consolas,'Courier New',monospace\">Num timesteps: 494000\n",
       "</pre>\n"
      ],
      "text/plain": [
       "Num timesteps: 494000\n"
      ]
     },
     "metadata": {},
     "output_type": "display_data"
    },
    {
     "data": {
      "text/html": [
       "<pre style=\"white-space:pre;overflow-x:auto;line-height:normal;font-family:Menlo,'DejaVu Sans Mono',consolas,'Courier New',monospace\">Best mean reward: 309.09 - Last mean reward per episode: 289.68\n",
       "</pre>\n"
      ],
      "text/plain": [
       "Best mean reward: 309.09 - Last mean reward per episode: 289.68\n"
      ]
     },
     "metadata": {},
     "output_type": "display_data"
    },
    {
     "data": {
      "text/html": [
       "<pre style=\"white-space:pre;overflow-x:auto;line-height:normal;font-family:Menlo,'DejaVu Sans Mono',consolas,'Courier New',monospace\">Num timesteps: 495000\n",
       "</pre>\n"
      ],
      "text/plain": [
       "Num timesteps: 495000\n"
      ]
     },
     "metadata": {},
     "output_type": "display_data"
    },
    {
     "data": {
      "text/html": [
       "<pre style=\"white-space:pre;overflow-x:auto;line-height:normal;font-family:Menlo,'DejaVu Sans Mono',consolas,'Courier New',monospace\">Best mean reward: 309.09 - Last mean reward per episode: 289.44\n",
       "</pre>\n"
      ],
      "text/plain": [
       "Best mean reward: 309.09 - Last mean reward per episode: 289.44\n"
      ]
     },
     "metadata": {},
     "output_type": "display_data"
    },
    {
     "data": {
      "text/html": [
       "<pre style=\"white-space:pre;overflow-x:auto;line-height:normal;font-family:Menlo,'DejaVu Sans Mono',consolas,'Courier New',monospace\">Num timesteps: 496000\n",
       "</pre>\n"
      ],
      "text/plain": [
       "Num timesteps: 496000\n"
      ]
     },
     "metadata": {},
     "output_type": "display_data"
    },
    {
     "data": {
      "text/html": [
       "<pre style=\"white-space:pre;overflow-x:auto;line-height:normal;font-family:Menlo,'DejaVu Sans Mono',consolas,'Courier New',monospace\">Best mean reward: 309.09 - Last mean reward per episode: 288.37\n",
       "</pre>\n"
      ],
      "text/plain": [
       "Best mean reward: 309.09 - Last mean reward per episode: 288.37\n"
      ]
     },
     "metadata": {},
     "output_type": "display_data"
    },
    {
     "data": {
      "text/html": [
       "<pre style=\"white-space:pre;overflow-x:auto;line-height:normal;font-family:Menlo,'DejaVu Sans Mono',consolas,'Courier New',monospace\">Num timesteps: 497000\n",
       "</pre>\n"
      ],
      "text/plain": [
       "Num timesteps: 497000\n"
      ]
     },
     "metadata": {},
     "output_type": "display_data"
    },
    {
     "data": {
      "text/html": [
       "<pre style=\"white-space:pre;overflow-x:auto;line-height:normal;font-family:Menlo,'DejaVu Sans Mono',consolas,'Courier New',monospace\">Best mean reward: 309.09 - Last mean reward per episode: 287.11\n",
       "</pre>\n"
      ],
      "text/plain": [
       "Best mean reward: 309.09 - Last mean reward per episode: 287.11\n"
      ]
     },
     "metadata": {},
     "output_type": "display_data"
    },
    {
     "data": {
      "text/html": [
       "<pre style=\"white-space:pre;overflow-x:auto;line-height:normal;font-family:Menlo,'DejaVu Sans Mono',consolas,'Courier New',monospace\">Num timesteps: 498000\n",
       "</pre>\n"
      ],
      "text/plain": [
       "Num timesteps: 498000\n"
      ]
     },
     "metadata": {},
     "output_type": "display_data"
    },
    {
     "data": {
      "text/html": [
       "<pre style=\"white-space:pre;overflow-x:auto;line-height:normal;font-family:Menlo,'DejaVu Sans Mono',consolas,'Courier New',monospace\">Best mean reward: 309.09 - Last mean reward per episode: 286.17\n",
       "</pre>\n"
      ],
      "text/plain": [
       "Best mean reward: 309.09 - Last mean reward per episode: 286.17\n"
      ]
     },
     "metadata": {},
     "output_type": "display_data"
    },
    {
     "data": {
      "text/html": [
       "<pre style=\"white-space:pre;overflow-x:auto;line-height:normal;font-family:Menlo,'DejaVu Sans Mono',consolas,'Courier New',monospace\">Num timesteps: 499000\n",
       "</pre>\n"
      ],
      "text/plain": [
       "Num timesteps: 499000\n"
      ]
     },
     "metadata": {},
     "output_type": "display_data"
    },
    {
     "data": {
      "text/html": [
       "<pre style=\"white-space:pre;overflow-x:auto;line-height:normal;font-family:Menlo,'DejaVu Sans Mono',consolas,'Courier New',monospace\">Best mean reward: 309.09 - Last mean reward per episode: 285.94\n",
       "</pre>\n"
      ],
      "text/plain": [
       "Best mean reward: 309.09 - Last mean reward per episode: 285.94\n"
      ]
     },
     "metadata": {},
     "output_type": "display_data"
    },
    {
     "data": {
      "text/html": [
       "<pre style=\"white-space:pre;overflow-x:auto;line-height:normal;font-family:Menlo,'DejaVu Sans Mono',consolas,'Courier New',monospace\">Num timesteps: 500000\n",
       "</pre>\n"
      ],
      "text/plain": [
       "Num timesteps: 500000\n"
      ]
     },
     "metadata": {},
     "output_type": "display_data"
    },
    {
     "data": {
      "text/html": [
       "<pre style=\"white-space:pre;overflow-x:auto;line-height:normal;font-family:Menlo,'DejaVu Sans Mono',consolas,'Courier New',monospace\">Best mean reward: 309.09 - Last mean reward per episode: 285.73\n",
       "</pre>\n"
      ],
      "text/plain": [
       "Best mean reward: 309.09 - Last mean reward per episode: 285.73\n"
      ]
     },
     "metadata": {},
     "output_type": "display_data"
    },
    {
     "data": {
      "text/html": [
       "<pre style=\"white-space:pre;overflow-x:auto;line-height:normal;font-family:Menlo,'DejaVu Sans Mono',consolas,'Courier New',monospace\">Num timesteps: 501000\n",
       "</pre>\n"
      ],
      "text/plain": [
       "Num timesteps: 501000\n"
      ]
     },
     "metadata": {},
     "output_type": "display_data"
    },
    {
     "data": {
      "text/html": [
       "<pre style=\"white-space:pre;overflow-x:auto;line-height:normal;font-family:Menlo,'DejaVu Sans Mono',consolas,'Courier New',monospace\">Best mean reward: 309.09 - Last mean reward per episode: 285.35\n",
       "</pre>\n"
      ],
      "text/plain": [
       "Best mean reward: 309.09 - Last mean reward per episode: 285.35\n"
      ]
     },
     "metadata": {},
     "output_type": "display_data"
    },
    {
     "data": {
      "text/html": [
       "<pre style=\"white-space:pre;overflow-x:auto;line-height:normal;font-family:Menlo,'DejaVu Sans Mono',consolas,'Courier New',monospace\"></pre>\n"
      ],
      "text/plain": []
     },
     "metadata": {},
     "output_type": "display_data"
    },
    {
     "data": {
      "text/html": [
       "<pre style=\"white-space:pre;overflow-x:auto;line-height:normal;font-family:Menlo,'DejaVu Sans Mono',consolas,'Courier New',monospace\">\n",
       "</pre>\n"
      ],
      "text/plain": [
       "\n"
      ]
     },
     "metadata": {},
     "output_type": "display_data"
    },
    {
     "data": {
      "text/plain": [
       "<stable_baselines3.ppo.ppo.PPO at 0x7fc52141f550>"
      ]
     },
     "execution_count": 6,
     "metadata": {},
     "output_type": "execute_result"
    }
   ],
   "source": [
    "from stable_baselines3 import PPO\n",
    "policy_kwargs = dict(\n",
    "    net_arch=[256, 256]\n",
    ")\n",
    "model = PPO(\"MultiInputPolicy\", env, verbose=1, batch_size=256, policy_kwargs=policy_kwargs)\n",
    "callback = SaveOnBestTrainingRewardCallback(check_freq=1000, log_dir=filename)\n",
    "model.learn(total_timesteps=5e5, progress_bar=True, log_interval=10, callback=callback)"
   ]
  },
  {
   "cell_type": "code",
   "execution_count": 7,
   "metadata": {},
   "outputs": [
    {
     "name": "stderr",
     "output_type": "stream",
     "text": [
      "QObject::moveToThread: Current thread (0x149c2140) is not the object's thread (0x17b0c690).\n",
      "Cannot move to target thread (0x149c2140)\n",
      "\n",
      "QObject::moveToThread: Current thread (0x149c2140) is not the object's thread (0x17b0c690).\n",
      "Cannot move to target thread (0x149c2140)\n",
      "\n",
      "QObject::moveToThread: Current thread (0x149c2140) is not the object's thread (0x17b0c690).\n",
      "Cannot move to target thread (0x149c2140)\n",
      "\n",
      "QObject::moveToThread: Current thread (0x149c2140) is not the object's thread (0x17b0c690).\n",
      "Cannot move to target thread (0x149c2140)\n",
      "\n",
      "QObject::moveToThread: Current thread (0x149c2140) is not the object's thread (0x17b0c690).\n",
      "Cannot move to target thread (0x149c2140)\n",
      "\n",
      "QObject::moveToThread: Current thread (0x149c2140) is not the object's thread (0x17b0c690).\n",
      "Cannot move to target thread (0x149c2140)\n",
      "\n",
      "QObject::moveToThread: Current thread (0x149c2140) is not the object's thread (0x17b0c690).\n",
      "Cannot move to target thread (0x149c2140)\n",
      "\n",
      "QObject::moveToThread: Current thread (0x149c2140) is not the object's thread (0x17b0c690).\n",
      "Cannot move to target thread (0x149c2140)\n",
      "\n",
      "QObject::moveToThread: Current thread (0x149c2140) is not the object's thread (0x17b0c690).\n",
      "Cannot move to target thread (0x149c2140)\n",
      "\n",
      "QObject::moveToThread: Current thread (0x149c2140) is not the object's thread (0x17b0c690).\n",
      "Cannot move to target thread (0x149c2140)\n",
      "\n",
      "QObject::moveToThread: Current thread (0x149c2140) is not the object's thread (0x17b0c690).\n",
      "Cannot move to target thread (0x149c2140)\n",
      "\n",
      "QObject::moveToThread: Current thread (0x149c2140) is not the object's thread (0x17b0c690).\n",
      "Cannot move to target thread (0x149c2140)\n",
      "\n",
      "QObject::moveToThread: Current thread (0x149c2140) is not the object's thread (0x17b0c690).\n",
      "Cannot move to target thread (0x149c2140)\n",
      "\n",
      "QObject::moveToThread: Current thread (0x149c2140) is not the object's thread (0x17b0c690).\n",
      "Cannot move to target thread (0x149c2140)\n",
      "\n",
      "QObject::moveToThread: Current thread (0x149c2140) is not the object's thread (0x17b0c690).\n",
      "Cannot move to target thread (0x149c2140)\n",
      "\n",
      "QObject::moveToThread: Current thread (0x149c2140) is not the object's thread (0x17b0c690).\n",
      "Cannot move to target thread (0x149c2140)\n",
      "\n",
      "QObject::moveToThread: Current thread (0x149c2140) is not the object's thread (0x17b0c690).\n",
      "Cannot move to target thread (0x149c2140)\n",
      "\n",
      "QObject::moveToThread: Current thread (0x149c2140) is not the object's thread (0x17b0c690).\n",
      "Cannot move to target thread (0x149c2140)\n",
      "\n",
      "QObject::moveToThread: Current thread (0x149c2140) is not the object's thread (0x17b0c690).\n",
      "Cannot move to target thread (0x149c2140)\n",
      "\n",
      "QObject::moveToThread: Current thread (0x149c2140) is not the object's thread (0x17b0c690).\n",
      "Cannot move to target thread (0x149c2140)\n",
      "\n",
      "QObject::moveToThread: Current thread (0x149c2140) is not the object's thread (0x17b0c690).\n",
      "Cannot move to target thread (0x149c2140)\n",
      "\n",
      "QObject::moveToThread: Current thread (0x149c2140) is not the object's thread (0x17b0c690).\n",
      "Cannot move to target thread (0x149c2140)\n",
      "\n",
      "QObject::moveToThread: Current thread (0x149c2140) is not the object's thread (0x17b0c690).\n",
      "Cannot move to target thread (0x149c2140)\n",
      "\n",
      "QObject::moveToThread: Current thread (0x149c2140) is not the object's thread (0x17b0c690).\n",
      "Cannot move to target thread (0x149c2140)\n",
      "\n",
      "QObject::moveToThread: Current thread (0x149c2140) is not the object's thread (0x17b0c690).\n",
      "Cannot move to target thread (0x149c2140)\n",
      "\n",
      "QObject::moveToThread: Current thread (0x149c2140) is not the object's thread (0x17b0c690).\n",
      "Cannot move to target thread (0x149c2140)\n",
      "\n",
      "QObject::moveToThread: Current thread (0x149c2140) is not the object's thread (0x17b0c690).\n",
      "Cannot move to target thread (0x149c2140)\n",
      "\n",
      "QObject::moveToThread: Current thread (0x149c2140) is not the object's thread (0x17b0c690).\n",
      "Cannot move to target thread (0x149c2140)\n",
      "\n",
      "QObject::moveToThread: Current thread (0x149c2140) is not the object's thread (0x17b0c690).\n",
      "Cannot move to target thread (0x149c2140)\n",
      "\n",
      "QObject::moveToThread: Current thread (0x149c2140) is not the object's thread (0x17b0c690).\n",
      "Cannot move to target thread (0x149c2140)\n",
      "\n",
      "QObject::moveToThread: Current thread (0x149c2140) is not the object's thread (0x17b0c690).\n",
      "Cannot move to target thread (0x149c2140)\n",
      "\n",
      "QObject::moveToThread: Current thread (0x149c2140) is not the object's thread (0x17b0c690).\n",
      "Cannot move to target thread (0x149c2140)\n",
      "\n",
      "QObject::moveToThread: Current thread (0x149c2140) is not the object's thread (0x17b0c690).\n",
      "Cannot move to target thread (0x149c2140)\n",
      "\n",
      "QObject::moveToThread: Current thread (0x149c2140) is not the object's thread (0x17b0c690).\n",
      "Cannot move to target thread (0x149c2140)\n",
      "\n",
      "QObject::moveToThread: Current thread (0x149c2140) is not the object's thread (0x17b0c690).\n",
      "Cannot move to target thread (0x149c2140)\n",
      "\n",
      "QObject::moveToThread: Current thread (0x149c2140) is not the object's thread (0x17b0c690).\n",
      "Cannot move to target thread (0x149c2140)\n",
      "\n",
      "QObject::moveToThread: Current thread (0x149c2140) is not the object's thread (0x17b0c690).\n",
      "Cannot move to target thread (0x149c2140)\n",
      "\n",
      "QObject::moveToThread: Current thread (0x149c2140) is not the object's thread (0x17b0c690).\n",
      "Cannot move to target thread (0x149c2140)\n",
      "\n",
      "QObject::moveToThread: Current thread (0x149c2140) is not the object's thread (0x17b0c690).\n",
      "Cannot move to target thread (0x149c2140)\n",
      "\n",
      "QObject::moveToThread: Current thread (0x149c2140) is not the object's thread (0x17b0c690).\n",
      "Cannot move to target thread (0x149c2140)\n",
      "\n",
      "QObject::moveToThread: Current thread (0x149c2140) is not the object's thread (0x17b0c690).\n",
      "Cannot move to target thread (0x149c2140)\n",
      "\n",
      "QObject::moveToThread: Current thread (0x149c2140) is not the object's thread (0x17b0c690).\n",
      "Cannot move to target thread (0x149c2140)\n",
      "\n",
      "QObject::moveToThread: Current thread (0x149c2140) is not the object's thread (0x17b0c690).\n",
      "Cannot move to target thread (0x149c2140)\n",
      "\n",
      "QObject::moveToThread: Current thread (0x149c2140) is not the object's thread (0x17b0c690).\n",
      "Cannot move to target thread (0x149c2140)\n",
      "\n",
      "QObject::moveToThread: Current thread (0x149c2140) is not the object's thread (0x17b0c690).\n",
      "Cannot move to target thread (0x149c2140)\n",
      "\n",
      "QObject::moveToThread: Current thread (0x149c2140) is not the object's thread (0x17b0c690).\n",
      "Cannot move to target thread (0x149c2140)\n",
      "\n",
      "QObject::moveToThread: Current thread (0x149c2140) is not the object's thread (0x17b0c690).\n",
      "Cannot move to target thread (0x149c2140)\n",
      "\n",
      "QObject::moveToThread: Current thread (0x149c2140) is not the object's thread (0x17b0c690).\n",
      "Cannot move to target thread (0x149c2140)\n",
      "\n",
      "QObject::moveToThread: Current thread (0x149c2140) is not the object's thread (0x17b0c690).\n",
      "Cannot move to target thread (0x149c2140)\n",
      "\n",
      "QObject::moveToThread: Current thread (0x149c2140) is not the object's thread (0x17b0c690).\n",
      "Cannot move to target thread (0x149c2140)\n",
      "\n",
      "QObject::moveToThread: Current thread (0x149c2140) is not the object's thread (0x17b0c690).\n",
      "Cannot move to target thread (0x149c2140)\n",
      "\n",
      "QObject::moveToThread: Current thread (0x149c2140) is not the object's thread (0x17b0c690).\n",
      "Cannot move to target thread (0x149c2140)\n",
      "\n",
      "QObject::moveToThread: Current thread (0x149c2140) is not the object's thread (0x17b0c690).\n",
      "Cannot move to target thread (0x149c2140)\n",
      "\n",
      "QObject::moveToThread: Current thread (0x149c2140) is not the object's thread (0x17b0c690).\n",
      "Cannot move to target thread (0x149c2140)\n",
      "\n",
      "QObject::moveToThread: Current thread (0x149c2140) is not the object's thread (0x17b0c690).\n",
      "Cannot move to target thread (0x149c2140)\n",
      "\n",
      "QObject::moveToThread: Current thread (0x149c2140) is not the object's thread (0x17b0c690).\n",
      "Cannot move to target thread (0x149c2140)\n",
      "\n",
      "QObject::moveToThread: Current thread (0x149c2140) is not the object's thread (0x17b0c690).\n",
      "Cannot move to target thread (0x149c2140)\n",
      "\n",
      "QObject::moveToThread: Current thread (0x149c2140) is not the object's thread (0x17b0c690).\n",
      "Cannot move to target thread (0x149c2140)\n",
      "\n",
      "QObject::moveToThread: Current thread (0x149c2140) is not the object's thread (0x17b0c690).\n",
      "Cannot move to target thread (0x149c2140)\n",
      "\n",
      "QObject::moveToThread: Current thread (0x149c2140) is not the object's thread (0x17b0c690).\n",
      "Cannot move to target thread (0x149c2140)\n",
      "\n",
      "QObject::moveToThread: Current thread (0x149c2140) is not the object's thread (0x17b0c690).\n",
      "Cannot move to target thread (0x149c2140)\n",
      "\n",
      "QObject::moveToThread: Current thread (0x149c2140) is not the object's thread (0x17b0c690).\n",
      "Cannot move to target thread (0x149c2140)\n",
      "\n",
      "QObject::moveToThread: Current thread (0x149c2140) is not the object's thread (0x17b0c690).\n",
      "Cannot move to target thread (0x149c2140)\n",
      "\n",
      "QObject::moveToThread: Current thread (0x149c2140) is not the object's thread (0x17b0c690).\n",
      "Cannot move to target thread (0x149c2140)\n",
      "\n",
      "QObject::moveToThread: Current thread (0x149c2140) is not the object's thread (0x17b0c690).\n",
      "Cannot move to target thread (0x149c2140)\n",
      "\n",
      "QObject::moveToThread: Current thread (0x149c2140) is not the object's thread (0x17b0c690).\n",
      "Cannot move to target thread (0x149c2140)\n",
      "\n",
      "QObject::moveToThread: Current thread (0x149c2140) is not the object's thread (0x17b0c690).\n",
      "Cannot move to target thread (0x149c2140)\n",
      "\n",
      "QObject::moveToThread: Current thread (0x149c2140) is not the object's thread (0x17b0c690).\n",
      "Cannot move to target thread (0x149c2140)\n",
      "\n",
      "QObject::moveToThread: Current thread (0x149c2140) is not the object's thread (0x17b0c690).\n",
      "Cannot move to target thread (0x149c2140)\n",
      "\n",
      "QObject::moveToThread: Current thread (0x149c2140) is not the object's thread (0x17b0c690).\n",
      "Cannot move to target thread (0x149c2140)\n",
      "\n",
      "QObject::moveToThread: Current thread (0x149c2140) is not the object's thread (0x17b0c690).\n",
      "Cannot move to target thread (0x149c2140)\n",
      "\n",
      "QObject::moveToThread: Current thread (0x149c2140) is not the object's thread (0x17b0c690).\n",
      "Cannot move to target thread (0x149c2140)\n",
      "\n",
      "QObject::moveToThread: Current thread (0x149c2140) is not the object's thread (0x17b0c690).\n",
      "Cannot move to target thread (0x149c2140)\n",
      "\n",
      "QObject::moveToThread: Current thread (0x149c2140) is not the object's thread (0x17b0c690).\n",
      "Cannot move to target thread (0x149c2140)\n",
      "\n",
      "QObject::moveToThread: Current thread (0x149c2140) is not the object's thread (0x17b0c690).\n",
      "Cannot move to target thread (0x149c2140)\n",
      "\n",
      "QObject::moveToThread: Current thread (0x149c2140) is not the object's thread (0x17b0c690).\n",
      "Cannot move to target thread (0x149c2140)\n",
      "\n",
      "QObject::moveToThread: Current thread (0x149c2140) is not the object's thread (0x17b0c690).\n",
      "Cannot move to target thread (0x149c2140)\n",
      "\n",
      "QObject::moveToThread: Current thread (0x149c2140) is not the object's thread (0x17b0c690).\n",
      "Cannot move to target thread (0x149c2140)\n",
      "\n",
      "QObject::moveToThread: Current thread (0x149c2140) is not the object's thread (0x17b0c690).\n",
      "Cannot move to target thread (0x149c2140)\n",
      "\n",
      "QObject::moveToThread: Current thread (0x149c2140) is not the object's thread (0x17b0c690).\n",
      "Cannot move to target thread (0x149c2140)\n",
      "\n",
      "QObject::moveToThread: Current thread (0x149c2140) is not the object's thread (0x17b0c690).\n",
      "Cannot move to target thread (0x149c2140)\n",
      "\n",
      "QObject::moveToThread: Current thread (0x149c2140) is not the object's thread (0x17b0c690).\n",
      "Cannot move to target thread (0x149c2140)\n",
      "\n",
      "QObject::moveToThread: Current thread (0x149c2140) is not the object's thread (0x17b0c690).\n",
      "Cannot move to target thread (0x149c2140)\n",
      "\n",
      "QObject::moveToThread: Current thread (0x149c2140) is not the object's thread (0x17b0c690).\n",
      "Cannot move to target thread (0x149c2140)\n",
      "\n",
      "QObject::moveToThread: Current thread (0x149c2140) is not the object's thread (0x17b0c690).\n",
      "Cannot move to target thread (0x149c2140)\n",
      "\n",
      "QObject::moveToThread: Current thread (0x149c2140) is not the object's thread (0x17b0c690).\n",
      "Cannot move to target thread (0x149c2140)\n",
      "\n",
      "QObject::moveToThread: Current thread (0x149c2140) is not the object's thread (0x17b0c690).\n",
      "Cannot move to target thread (0x149c2140)\n",
      "\n",
      "QObject::moveToThread: Current thread (0x149c2140) is not the object's thread (0x17b0c690).\n",
      "Cannot move to target thread (0x149c2140)\n",
      "\n",
      "QObject::moveToThread: Current thread (0x149c2140) is not the object's thread (0x17b0c690).\n",
      "Cannot move to target thread (0x149c2140)\n",
      "\n",
      "QObject::moveToThread: Current thread (0x149c2140) is not the object's thread (0x17b0c690).\n",
      "Cannot move to target thread (0x149c2140)\n",
      "\n",
      "QObject::moveToThread: Current thread (0x149c2140) is not the object's thread (0x17b0c690).\n",
      "Cannot move to target thread (0x149c2140)\n",
      "\n",
      "QObject::moveToThread: Current thread (0x149c2140) is not the object's thread (0x17b0c690).\n",
      "Cannot move to target thread (0x149c2140)\n",
      "\n",
      "QObject::moveToThread: Current thread (0x149c2140) is not the object's thread (0x17b0c690).\n",
      "Cannot move to target thread (0x149c2140)\n",
      "\n",
      "QObject::moveToThread: Current thread (0x149c2140) is not the object's thread (0x17b0c690).\n",
      "Cannot move to target thread (0x149c2140)\n",
      "\n",
      "QObject::moveToThread: Current thread (0x149c2140) is not the object's thread (0x17b0c690).\n",
      "Cannot move to target thread (0x149c2140)\n",
      "\n",
      "QObject::moveToThread: Current thread (0x149c2140) is not the object's thread (0x17b0c690).\n",
      "Cannot move to target thread (0x149c2140)\n",
      "\n",
      "QObject::moveToThread: Current thread (0x149c2140) is not the object's thread (0x17b0c690).\n",
      "Cannot move to target thread (0x149c2140)\n",
      "\n",
      "QObject::moveToThread: Current thread (0x149c2140) is not the object's thread (0x17b0c690).\n",
      "Cannot move to target thread (0x149c2140)\n",
      "\n",
      "QObject::moveToThread: Current thread (0x149c2140) is not the object's thread (0x17b0c690).\n",
      "Cannot move to target thread (0x149c2140)\n",
      "\n",
      "QObject::moveToThread: Current thread (0x149c2140) is not the object's thread (0x17b0c690).\n",
      "Cannot move to target thread (0x149c2140)\n",
      "\n",
      "QObject::moveToThread: Current thread (0x149c2140) is not the object's thread (0x17b0c690).\n",
      "Cannot move to target thread (0x149c2140)\n",
      "\n",
      "QObject::moveToThread: Current thread (0x149c2140) is not the object's thread (0x17b0c690).\n",
      "Cannot move to target thread (0x149c2140)\n",
      "\n",
      "QObject::moveToThread: Current thread (0x149c2140) is not the object's thread (0x17b0c690).\n",
      "Cannot move to target thread (0x149c2140)\n",
      "\n",
      "QObject::moveToThread: Current thread (0x149c2140) is not the object's thread (0x17b0c690).\n",
      "Cannot move to target thread (0x149c2140)\n",
      "\n",
      "QObject::moveToThread: Current thread (0x149c2140) is not the object's thread (0x17b0c690).\n",
      "Cannot move to target thread (0x149c2140)\n",
      "\n",
      "QObject::moveToThread: Current thread (0x149c2140) is not the object's thread (0x17b0c690).\n",
      "Cannot move to target thread (0x149c2140)\n",
      "\n",
      "QObject::moveToThread: Current thread (0x149c2140) is not the object's thread (0x17b0c690).\n",
      "Cannot move to target thread (0x149c2140)\n",
      "\n",
      "QObject::moveToThread: Current thread (0x149c2140) is not the object's thread (0x17b0c690).\n",
      "Cannot move to target thread (0x149c2140)\n",
      "\n",
      "QObject::moveToThread: Current thread (0x149c2140) is not the object's thread (0x17b0c690).\n",
      "Cannot move to target thread (0x149c2140)\n",
      "\n",
      "QObject::moveToThread: Current thread (0x149c2140) is not the object's thread (0x17b0c690).\n",
      "Cannot move to target thread (0x149c2140)\n",
      "\n",
      "QObject::moveToThread: Current thread (0x149c2140) is not the object's thread (0x17b0c690).\n",
      "Cannot move to target thread (0x149c2140)\n",
      "\n",
      "QObject::moveToThread: Current thread (0x149c2140) is not the object's thread (0x17b0c690).\n",
      "Cannot move to target thread (0x149c2140)\n",
      "\n",
      "QObject::moveToThread: Current thread (0x149c2140) is not the object's thread (0x17b0c690).\n",
      "Cannot move to target thread (0x149c2140)\n",
      "\n",
      "QObject::moveToThread: Current thread (0x149c2140) is not the object's thread (0x17b0c690).\n",
      "Cannot move to target thread (0x149c2140)\n",
      "\n",
      "QObject::moveToThread: Current thread (0x149c2140) is not the object's thread (0x17b0c690).\n",
      "Cannot move to target thread (0x149c2140)\n",
      "\n",
      "QObject::moveToThread: Current thread (0x149c2140) is not the object's thread (0x17b0c690).\n",
      "Cannot move to target thread (0x149c2140)\n",
      "\n",
      "QObject::moveToThread: Current thread (0x149c2140) is not the object's thread (0x17b0c690).\n",
      "Cannot move to target thread (0x149c2140)\n",
      "\n",
      "QObject::moveToThread: Current thread (0x149c2140) is not the object's thread (0x17b0c690).\n",
      "Cannot move to target thread (0x149c2140)\n",
      "\n",
      "QObject::moveToThread: Current thread (0x149c2140) is not the object's thread (0x17b0c690).\n",
      "Cannot move to target thread (0x149c2140)\n",
      "\n",
      "QObject::moveToThread: Current thread (0x149c2140) is not the object's thread (0x17b0c690).\n",
      "Cannot move to target thread (0x149c2140)\n",
      "\n",
      "QObject::moveToThread: Current thread (0x149c2140) is not the object's thread (0x17b0c690).\n",
      "Cannot move to target thread (0x149c2140)\n",
      "\n",
      "QObject::moveToThread: Current thread (0x149c2140) is not the object's thread (0x17b0c690).\n",
      "Cannot move to target thread (0x149c2140)\n",
      "\n",
      "QObject::moveToThread: Current thread (0x149c2140) is not the object's thread (0x17b0c690).\n",
      "Cannot move to target thread (0x149c2140)\n",
      "\n",
      "QObject::moveToThread: Current thread (0x149c2140) is not the object's thread (0x17b0c690).\n",
      "Cannot move to target thread (0x149c2140)\n",
      "\n",
      "QObject::moveToThread: Current thread (0x149c2140) is not the object's thread (0x17b0c690).\n",
      "Cannot move to target thread (0x149c2140)\n",
      "\n",
      "QObject::moveToThread: Current thread (0x149c2140) is not the object's thread (0x17b0c690).\n",
      "Cannot move to target thread (0x149c2140)\n",
      "\n",
      "QObject::moveToThread: Current thread (0x149c2140) is not the object's thread (0x17b0c690).\n",
      "Cannot move to target thread (0x149c2140)\n",
      "\n",
      "QObject::moveToThread: Current thread (0x149c2140) is not the object's thread (0x17b0c690).\n",
      "Cannot move to target thread (0x149c2140)\n",
      "\n",
      "QObject::moveToThread: Current thread (0x149c2140) is not the object's thread (0x17b0c690).\n",
      "Cannot move to target thread (0x149c2140)\n",
      "\n",
      "QObject::moveToThread: Current thread (0x149c2140) is not the object's thread (0x17b0c690).\n",
      "Cannot move to target thread (0x149c2140)\n",
      "\n",
      "QObject::moveToThread: Current thread (0x149c2140) is not the object's thread (0x17b0c690).\n",
      "Cannot move to target thread (0x149c2140)\n",
      "\n",
      "QObject::moveToThread: Current thread (0x149c2140) is not the object's thread (0x17b0c690).\n",
      "Cannot move to target thread (0x149c2140)\n",
      "\n",
      "QObject::moveToThread: Current thread (0x149c2140) is not the object's thread (0x17b0c690).\n",
      "Cannot move to target thread (0x149c2140)\n",
      "\n",
      "QObject::moveToThread: Current thread (0x149c2140) is not the object's thread (0x17b0c690).\n",
      "Cannot move to target thread (0x149c2140)\n",
      "\n",
      "QObject::moveToThread: Current thread (0x149c2140) is not the object's thread (0x17b0c690).\n",
      "Cannot move to target thread (0x149c2140)\n",
      "\n",
      "QObject::moveToThread: Current thread (0x149c2140) is not the object's thread (0x17b0c690).\n",
      "Cannot move to target thread (0x149c2140)\n",
      "\n",
      "QObject::moveToThread: Current thread (0x149c2140) is not the object's thread (0x17b0c690).\n",
      "Cannot move to target thread (0x149c2140)\n",
      "\n",
      "QObject::moveToThread: Current thread (0x149c2140) is not the object's thread (0x17b0c690).\n",
      "Cannot move to target thread (0x149c2140)\n",
      "\n",
      "QObject::moveToThread: Current thread (0x149c2140) is not the object's thread (0x17b0c690).\n",
      "Cannot move to target thread (0x149c2140)\n",
      "\n",
      "QObject::moveToThread: Current thread (0x149c2140) is not the object's thread (0x17b0c690).\n",
      "Cannot move to target thread (0x149c2140)\n",
      "\n",
      "QObject::moveToThread: Current thread (0x149c2140) is not the object's thread (0x17b0c690).\n",
      "Cannot move to target thread (0x149c2140)\n",
      "\n",
      "QObject::moveToThread: Current thread (0x149c2140) is not the object's thread (0x17b0c690).\n",
      "Cannot move to target thread (0x149c2140)\n",
      "\n",
      "QObject::moveToThread: Current thread (0x149c2140) is not the object's thread (0x17b0c690).\n",
      "Cannot move to target thread (0x149c2140)\n",
      "\n",
      "QObject::moveToThread: Current thread (0x149c2140) is not the object's thread (0x17b0c690).\n",
      "Cannot move to target thread (0x149c2140)\n",
      "\n"
     ]
    }
   ],
   "source": [
    "obs = env.reset()[0]\n",
    "action_list = []\n",
    "for i in range(500):\n",
    "    action, state = model.predict(obs)\n",
    "    action_list.append(action)\n",
    "    obs, reward, done,done, info = env.step(action)\n",
    "    env.render()\n",
    "    # time.sleep(0.2)\n",
    "    if done:\n",
    "        break\n",
    "env.close()"
   ]
  },
  {
   "cell_type": "code",
   "execution_count": 12,
   "metadata": {},
   "outputs": [],
   "source": [
    "import robosuite.macros as macros\n",
    "macros.IMAGE_CONVENTION = \"opencv\"\n",
    "env = GymWrapper(suite.make(\n",
    "    env_name=\"TwoArmPegInHole\", # try with other tasks like \"Stack\" and \"Door\"\n",
    "    robots=[\"UR5e\", \"UR5e\"],  # try with other robots like \"Sawyer\" and \"Jaco\"\n",
    "    has_renderer=False,\n",
    "    ignore_done = True,\n",
    "    has_offscreen_renderer=True,\n",
    "    use_object_obs=True,                   # don't provide object observations to agent\n",
    "    use_camera_obs=True,\n",
    "    camera_names=\"frontview\",      # use \"agentview\" camera for observations\n",
    "    camera_heights=512,                      # image height\n",
    "    camera_widths=512,                       # image width\n",
    "    reward_shaping=True,                    # use a dense reward signal for learning\n",
    "    horizon = 500,\n",
    "    control_freq=20,                        # control should happen fast enough so that simulation looks smooth\n",
    "))"
   ]
  },
  {
   "cell_type": "code",
   "execution_count": 13,
   "metadata": {},
   "outputs": [
    {
     "name": "stdout",
     "output_type": "stream",
     "text": [
      "Saving frame #0\n",
      "Saving frame #1\n",
      "Saving frame #2\n",
      "Saving frame #3\n",
      "Saving frame #4\n",
      "Saving frame #5\n",
      "Saving frame #6\n",
      "Saving frame #7\n",
      "Saving frame #8\n",
      "Saving frame #9\n",
      "Saving frame #10\n",
      "Saving frame #11\n",
      "Saving frame #12\n",
      "Saving frame #13\n",
      "Saving frame #14\n",
      "Saving frame #15\n",
      "Saving frame #16\n",
      "Saving frame #17\n",
      "Saving frame #18\n",
      "Saving frame #19\n",
      "Saving frame #20\n",
      "Saving frame #21\n",
      "Saving frame #22\n",
      "Saving frame #23\n",
      "Saving frame #24\n",
      "Saving frame #25\n",
      "Saving frame #26\n",
      "Saving frame #27\n",
      "Saving frame #28\n",
      "Saving frame #29\n",
      "Saving frame #30\n",
      "Saving frame #31\n",
      "Saving frame #32\n",
      "Saving frame #33\n",
      "Saving frame #34\n",
      "Saving frame #35\n",
      "Saving frame #36\n",
      "Saving frame #37\n",
      "Saving frame #38\n",
      "Saving frame #39\n",
      "Saving frame #40\n",
      "Saving frame #41\n",
      "Saving frame #42\n",
      "Saving frame #43\n",
      "Saving frame #44\n",
      "Saving frame #45\n",
      "Saving frame #46\n",
      "Saving frame #47\n",
      "Saving frame #48\n",
      "Saving frame #49\n",
      "Saving frame #50\n",
      "Saving frame #51\n",
      "Saving frame #52\n",
      "Saving frame #53\n",
      "Saving frame #54\n",
      "Saving frame #55\n",
      "Saving frame #56\n",
      "Saving frame #57\n",
      "Saving frame #58\n",
      "Saving frame #59\n",
      "Saving frame #60\n",
      "Saving frame #61\n",
      "Saving frame #62\n",
      "Saving frame #63\n",
      "Saving frame #64\n",
      "Saving frame #65\n",
      "Saving frame #66\n",
      "Saving frame #67\n",
      "Saving frame #68\n",
      "Saving frame #69\n",
      "Saving frame #70\n",
      "Saving frame #71\n",
      "Saving frame #72\n",
      "Saving frame #73\n",
      "Saving frame #74\n",
      "Saving frame #75\n",
      "Saving frame #76\n",
      "Saving frame #77\n",
      "Saving frame #78\n",
      "Saving frame #79\n",
      "Saving frame #80\n",
      "Saving frame #81\n",
      "Saving frame #82\n",
      "Saving frame #83\n",
      "Saving frame #84\n",
      "Saving frame #85\n",
      "Saving frame #86\n",
      "Saving frame #87\n",
      "Saving frame #88\n",
      "Saving frame #89\n",
      "Saving frame #90\n",
      "Saving frame #91\n",
      "Saving frame #92\n",
      "Saving frame #93\n",
      "Saving frame #94\n",
      "Saving frame #95\n",
      "Saving frame #96\n",
      "Saving frame #97\n",
      "Saving frame #98\n",
      "Saving frame #99\n",
      "Saving frame #100\n",
      "Saving frame #101\n",
      "Saving frame #102\n",
      "Saving frame #103\n",
      "Saving frame #104\n",
      "Saving frame #105\n",
      "Saving frame #106\n",
      "Saving frame #107\n",
      "Saving frame #108\n",
      "Saving frame #109\n",
      "Saving frame #110\n",
      "Saving frame #111\n",
      "Saving frame #112\n",
      "Saving frame #113\n",
      "Saving frame #114\n",
      "Saving frame #115\n",
      "Saving frame #116\n",
      "Saving frame #117\n",
      "Saving frame #118\n",
      "Saving frame #119\n",
      "Saving frame #120\n",
      "Saving frame #121\n",
      "Saving frame #122\n",
      "Saving frame #123\n",
      "Saving frame #124\n",
      "Saving frame #125\n",
      "Saving frame #126\n",
      "Saving frame #127\n",
      "Saving frame #128\n",
      "Saving frame #129\n",
      "Saving frame #130\n",
      "Saving frame #131\n",
      "Saving frame #132\n",
      "Saving frame #133\n",
      "Saving frame #134\n",
      "Saving frame #135\n",
      "Saving frame #136\n",
      "Saving frame #137\n",
      "Saving frame #138\n",
      "Saving frame #139\n",
      "Saving frame #140\n",
      "Saving frame #141\n",
      "Saving frame #142\n",
      "Saving frame #143\n",
      "Saving frame #144\n",
      "Saving frame #145\n",
      "Saving frame #146\n",
      "Saving frame #147\n",
      "Saving frame #148\n",
      "Saving frame #149\n",
      "Saving frame #150\n",
      "Saving frame #151\n",
      "Saving frame #152\n",
      "Saving frame #153\n",
      "Saving frame #154\n",
      "Saving frame #155\n",
      "Saving frame #156\n",
      "Saving frame #157\n",
      "Saving frame #158\n",
      "Saving frame #159\n",
      "Saving frame #160\n",
      "Saving frame #161\n",
      "Saving frame #162\n",
      "Saving frame #163\n",
      "Saving frame #164\n",
      "Saving frame #165\n",
      "Saving frame #166\n",
      "Saving frame #167\n",
      "Saving frame #168\n",
      "Saving frame #169\n",
      "Saving frame #170\n",
      "Saving frame #171\n",
      "Saving frame #172\n",
      "Saving frame #173\n",
      "Saving frame #174\n",
      "Saving frame #175\n",
      "Saving frame #176\n",
      "Saving frame #177\n",
      "Saving frame #178\n",
      "Saving frame #179\n",
      "Saving frame #180\n",
      "Saving frame #181\n",
      "Saving frame #182\n",
      "Saving frame #183\n",
      "Saving frame #184\n",
      "Saving frame #185\n",
      "Saving frame #186\n",
      "Saving frame #187\n",
      "Saving frame #188\n",
      "Saving frame #189\n",
      "Saving frame #190\n",
      "Saving frame #191\n",
      "Saving frame #192\n",
      "Saving frame #193\n",
      "Saving frame #194\n",
      "Saving frame #195\n",
      "Saving frame #196\n",
      "Saving frame #197\n",
      "Saving frame #198\n",
      "Saving frame #199\n",
      "Saving frame #200\n",
      "Saving frame #201\n",
      "Saving frame #202\n",
      "Saving frame #203\n",
      "Saving frame #204\n",
      "Saving frame #205\n",
      "Saving frame #206\n",
      "Saving frame #207\n",
      "Saving frame #208\n",
      "Saving frame #209\n",
      "Saving frame #210\n",
      "Saving frame #211\n",
      "Saving frame #212\n",
      "Saving frame #213\n",
      "Saving frame #214\n",
      "Saving frame #215\n",
      "Saving frame #216\n",
      "Saving frame #217\n",
      "Saving frame #218\n",
      "Saving frame #219\n",
      "Saving frame #220\n",
      "Saving frame #221\n",
      "Saving frame #222\n",
      "Saving frame #223\n",
      "Saving frame #224\n",
      "Saving frame #225\n",
      "Saving frame #226\n",
      "Saving frame #227\n",
      "Saving frame #228\n",
      "Saving frame #229\n",
      "Saving frame #230\n",
      "Saving frame #231\n",
      "Saving frame #232\n",
      "Saving frame #233\n",
      "Saving frame #234\n",
      "Saving frame #235\n",
      "Saving frame #236\n",
      "Saving frame #237\n",
      "Saving frame #238\n",
      "Saving frame #239\n",
      "Saving frame #240\n",
      "Saving frame #241\n",
      "Saving frame #242\n",
      "Saving frame #243\n",
      "Saving frame #244\n",
      "Saving frame #245\n",
      "Saving frame #246\n",
      "Saving frame #247\n",
      "Saving frame #248\n",
      "Saving frame #249\n",
      "Saving frame #250\n",
      "Saving frame #251\n",
      "Saving frame #252\n",
      "Saving frame #253\n",
      "Saving frame #254\n",
      "Saving frame #255\n",
      "Saving frame #256\n",
      "Saving frame #257\n",
      "Saving frame #258\n",
      "Saving frame #259\n",
      "Saving frame #260\n",
      "Saving frame #261\n",
      "Saving frame #262\n",
      "Saving frame #263\n",
      "Saving frame #264\n",
      "Saving frame #265\n",
      "Saving frame #266\n",
      "Saving frame #267\n",
      "Saving frame #268\n",
      "Saving frame #269\n",
      "Saving frame #270\n",
      "Saving frame #271\n",
      "Saving frame #272\n",
      "Saving frame #273\n",
      "Saving frame #274\n",
      "Saving frame #275\n",
      "Saving frame #276\n",
      "Saving frame #277\n",
      "Saving frame #278\n",
      "Saving frame #279\n",
      "Saving frame #280\n",
      "Saving frame #281\n",
      "Saving frame #282\n",
      "Saving frame #283\n",
      "Saving frame #284\n",
      "Saving frame #285\n",
      "Saving frame #286\n",
      "Saving frame #287\n",
      "Saving frame #288\n",
      "Saving frame #289\n",
      "Saving frame #290\n",
      "Saving frame #291\n",
      "Saving frame #292\n",
      "Saving frame #293\n",
      "Saving frame #294\n",
      "Saving frame #295\n",
      "Saving frame #296\n",
      "Saving frame #297\n",
      "Saving frame #298\n",
      "Saving frame #299\n",
      "Saving frame #300\n",
      "Saving frame #301\n",
      "Saving frame #302\n",
      "Saving frame #303\n",
      "Saving frame #304\n",
      "Saving frame #305\n",
      "Saving frame #306\n",
      "Saving frame #307\n",
      "Saving frame #308\n",
      "Saving frame #309\n",
      "Saving frame #310\n",
      "Saving frame #311\n",
      "Saving frame #312\n",
      "Saving frame #313\n",
      "Saving frame #314\n",
      "Saving frame #315\n",
      "Saving frame #316\n",
      "Saving frame #317\n",
      "Saving frame #318\n",
      "Saving frame #319\n",
      "Saving frame #320\n",
      "Saving frame #321\n",
      "Saving frame #322\n",
      "Saving frame #323\n",
      "Saving frame #324\n",
      "Saving frame #325\n",
      "Saving frame #326\n",
      "Saving frame #327\n",
      "Saving frame #328\n",
      "Saving frame #329\n",
      "Saving frame #330\n",
      "Saving frame #331\n",
      "Saving frame #332\n",
      "Saving frame #333\n",
      "Saving frame #334\n",
      "Saving frame #335\n",
      "Saving frame #336\n",
      "Saving frame #337\n",
      "Saving frame #338\n",
      "Saving frame #339\n",
      "Saving frame #340\n",
      "Saving frame #341\n",
      "Saving frame #342\n",
      "Saving frame #343\n",
      "Saving frame #344\n",
      "Saving frame #345\n",
      "Saving frame #346\n",
      "Saving frame #347\n",
      "Saving frame #348\n",
      "Saving frame #349\n",
      "Saving frame #350\n",
      "Saving frame #351\n",
      "Saving frame #352\n",
      "Saving frame #353\n",
      "Saving frame #354\n",
      "Saving frame #355\n",
      "Saving frame #356\n",
      "Saving frame #357\n",
      "Saving frame #358\n",
      "Saving frame #359\n",
      "Saving frame #360\n",
      "Saving frame #361\n",
      "Saving frame #362\n",
      "Saving frame #363\n",
      "Saving frame #364\n",
      "Saving frame #365\n",
      "Saving frame #366\n",
      "Saving frame #367\n",
      "Saving frame #368\n",
      "Saving frame #369\n",
      "Saving frame #370\n",
      "Saving frame #371\n",
      "Saving frame #372\n",
      "Saving frame #373\n",
      "Saving frame #374\n",
      "Saving frame #375\n",
      "Saving frame #376\n",
      "Saving frame #377\n",
      "Saving frame #378\n",
      "Saving frame #379\n",
      "Saving frame #380\n",
      "Saving frame #381\n",
      "Saving frame #382\n",
      "Saving frame #383\n",
      "Saving frame #384\n",
      "Saving frame #385\n",
      "Saving frame #386\n",
      "Saving frame #387\n",
      "Saving frame #388\n",
      "Saving frame #389\n",
      "Saving frame #390\n",
      "Saving frame #391\n",
      "Saving frame #392\n",
      "Saving frame #393\n",
      "Saving frame #394\n",
      "Saving frame #395\n",
      "Saving frame #396\n",
      "Saving frame #397\n",
      "Saving frame #398\n",
      "Saving frame #399\n",
      "Saving frame #400\n",
      "Saving frame #401\n",
      "Saving frame #402\n",
      "Saving frame #403\n",
      "Saving frame #404\n",
      "Saving frame #405\n",
      "Saving frame #406\n",
      "Saving frame #407\n",
      "Saving frame #408\n",
      "Saving frame #409\n",
      "Saving frame #410\n",
      "Saving frame #411\n",
      "Saving frame #412\n",
      "Saving frame #413\n",
      "Saving frame #414\n",
      "Saving frame #415\n",
      "Saving frame #416\n",
      "Saving frame #417\n",
      "Saving frame #418\n",
      "Saving frame #419\n",
      "Saving frame #420\n",
      "Saving frame #421\n",
      "Saving frame #422\n",
      "Saving frame #423\n",
      "Saving frame #424\n",
      "Saving frame #425\n",
      "Saving frame #426\n",
      "Saving frame #427\n",
      "Saving frame #428\n",
      "Saving frame #429\n",
      "Saving frame #430\n",
      "Saving frame #431\n",
      "Saving frame #432\n",
      "Saving frame #433\n",
      "Saving frame #434\n",
      "Saving frame #435\n",
      "Saving frame #436\n",
      "Saving frame #437\n",
      "Saving frame #438\n",
      "Saving frame #439\n",
      "Saving frame #440\n",
      "Saving frame #441\n",
      "Saving frame #442\n",
      "Saving frame #443\n",
      "Saving frame #444\n",
      "Saving frame #445\n",
      "Saving frame #446\n",
      "Saving frame #447\n",
      "Saving frame #448\n",
      "Saving frame #449\n",
      "Saving frame #450\n",
      "Saving frame #451\n",
      "Saving frame #452\n",
      "Saving frame #453\n",
      "Saving frame #454\n",
      "Saving frame #455\n",
      "Saving frame #456\n",
      "Saving frame #457\n",
      "Saving frame #458\n",
      "Saving frame #459\n",
      "Saving frame #460\n",
      "Saving frame #461\n",
      "Saving frame #462\n",
      "Saving frame #463\n",
      "Saving frame #464\n",
      "Saving frame #465\n",
      "Saving frame #466\n",
      "Saving frame #467\n",
      "Saving frame #468\n",
      "Saving frame #469\n",
      "Saving frame #470\n",
      "Saving frame #471\n",
      "Saving frame #472\n",
      "Saving frame #473\n",
      "Saving frame #474\n",
      "Saving frame #475\n",
      "Saving frame #476\n",
      "Saving frame #477\n"
     ]
    },
    {
     "name": "stdout",
     "output_type": "stream",
     "text": [
      "Saving frame #478\n",
      "Saving frame #479\n",
      "Saving frame #480\n",
      "Saving frame #481\n",
      "Saving frame #482\n",
      "Saving frame #483\n",
      "Saving frame #484\n",
      "Saving frame #485\n",
      "Saving frame #486\n",
      "Saving frame #487\n",
      "Saving frame #488\n",
      "Saving frame #489\n",
      "Saving frame #490\n",
      "Saving frame #491\n",
      "Saving frame #492\n",
      "Saving frame #493\n",
      "Saving frame #494\n",
      "Saving frame #495\n",
      "Saving frame #496\n",
      "Saving frame #497\n",
      "Saving frame #498\n",
      "Saving frame #499\n"
     ]
    }
   ],
   "source": [
    "import imageio\n",
    "\n",
    "writer = imageio.get_writer(f'{filename}/video.mp4', fps=20)\n",
    "obs = env.reset()[0]\n",
    "for i,v in enumerate(action_list):\n",
    "    obs, reward, done,done, info = env.step(v)\n",
    "    frame = obs[\"frontview_image\"]\n",
    "    writer.append_data(frame)\n",
    "    print(\"Saving frame #{}\".format(i))\n",
    "    if done:\n",
    "        break\n",
    "writer.close()\n",
    "env.close()"
   ]
  },
  {
   "cell_type": "code",
   "execution_count": null,
   "metadata": {},
   "outputs": [],
   "source": []
  }
 ],
 "metadata": {
  "kernelspec": {
   "display_name": "Python 3 (ipykernel)",
   "language": "python",
   "name": "python3"
  },
  "language_info": {
   "codemirror_mode": {
    "name": "ipython",
    "version": 3
   },
   "file_extension": ".py",
   "mimetype": "text/x-python",
   "name": "python",
   "nbconvert_exporter": "python",
   "pygments_lexer": "ipython3",
   "version": "3.8.18"
  }
 },
 "nbformat": 4,
 "nbformat_minor": 2
}
